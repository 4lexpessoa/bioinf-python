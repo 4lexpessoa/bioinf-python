{
 "metadata": {
  "name": "",
  "signature": "sha256:dbea8fda69c62fe66a59b991bf6c061fa5115a8b4faffdf5aeb7da9a0413c8c5"
 },
 "nbformat": 3,
 "nbformat_minor": 0,
 "worksheets": [
  {
   "cells": [
    {
     "cell_type": "code",
     "collapsed": false,
     "input": [
      "from __future__ import division, print_function\n",
      "\n",
      "import os\n",
      "import pickle"
     ],
     "language": "python",
     "metadata": {},
     "outputs": [],
     "prompt_number": 8
    },
    {
     "cell_type": "code",
     "collapsed": false,
     "input": [
      "f = open('max_chro_pos.pickle')\n",
      "max_chro_pos = pickle.load(f)\n",
      "f.close()\n",
      "\n",
      "window_size = 2000000\n",
      "\n",
      "def get_blocks():\n",
      "    for chro, max_pos in max_chro_pos.items():\n",
      "        num_bin = (max_pos + 1) // window_size\n",
      "        for my_bin in range(num_bin):\n",
      "            start_pos = my_bin * window_size + 1\n",
      "            end_pos = start_pos + window_size\n",
      "            yield chro, start_pos, end_pos"
     ],
     "language": "python",
     "metadata": {},
     "outputs": [],
     "prompt_number": 2
    },
    {
     "cell_type": "code",
     "collapsed": false,
     "input": [
      "import multiprocessing\n",
      "import subprocess\n",
      "import time\n",
      "\n",
      "class Local:\n",
      "    '''Local executor.\n",
      "\n",
      "    :param limit: CPU load limit\n",
      "\n",
      "         if limit is an int>0 then it is the expected load average NOT\n",
      "         to be used, for instance if there are 32 cores and there\n",
      "         is a limit of 6, the system will try to never ago above 26.\n",
      "         A float between 0 and 1 will be interpreted as a the\n",
      "         fraction of CPUs to be used, e.g., with 32 cores, 0.25\n",
      "         will use at most 8\n",
      "         A negative value will be interpreted as the maximum number\n",
      "         of processes that can be executed in parallel.\n",
      "\n",
      "    This executor will block if there are no more slots available!\n",
      "    '''\n",
      "\n",
      "    def __init__(self, limit):\n",
      "        self.limit = limit\n",
      "        self.cpus = multiprocessing.cpu_count()\n",
      "        self.running = []\n",
      "\n",
      "    def submit(self, command, parameters):\n",
      "        '''Submits a job\n",
      "        '''\n",
      "        self.wait()\n",
      "        if hasattr(self, 'out'):\n",
      "            out = self.out\n",
      "        else:\n",
      "            out = '/dev/null'\n",
      "        if hasattr(self, 'err'):\n",
      "            err = self.err\n",
      "        else:\n",
      "            err = '/dev/null'\n",
      "        if err == 'stderr':\n",
      "            errSt = ''\n",
      "        else:\n",
      "            errSt = '2> ' + err\n",
      "        p = subprocess.Popen('%s %s > %s %s' %\n",
      "                             (command, parameters, out, errSt),\n",
      "                             shell=True)\n",
      "        self.running.append(p)\n",
      "        if hasattr(self, 'out'):\n",
      "            del self.out\n",
      "        if hasattr(self, 'err'):\n",
      "            del self.err\n",
      "\n",
      "    def wait(self, for_all=False):\n",
      "        '''Blocks if there are no slots available\n",
      "\n",
      "        :param for_all: Also waits if there is *ANY* job running (i.e.\n",
      "                    block/barrier)\n",
      "        '''\n",
      "        self.clean_done()\n",
      "        numWaits = 0\n",
      "        if self.limit > 0 and type(self.limit) == int:\n",
      "            cond = 'len(self.running) >= self.cpus - self.limit'\n",
      "        elif self.limit < 0:\n",
      "            cond = 'len(self.running) >= - self.limit'\n",
      "        else:\n",
      "            cond = 'len(self.running) >= self.cpus * self.limit'\n",
      "        while eval(cond) or (for_all and len(self.running) > 0):\n",
      "            time.sleep(1)\n",
      "            self.clean_done()\n",
      "            numWaits += 1\n",
      "\n",
      "    def clean_done(self):\n",
      "        '''Removes dead processes from the running list.\n",
      "        '''\n",
      "        dels = []\n",
      "        for rIdx, p in enumerate(self.running):\n",
      "            if p.poll() is not None:\n",
      "                dels.append(rIdx)\n",
      "        dels.reverse()\n",
      "        for del_ in dels:\n",
      "            del self.running[del_]"
     ],
     "language": "python",
     "metadata": {},
     "outputs": [],
     "prompt_number": 3
    },
    {
     "cell_type": "code",
     "collapsed": false,
     "input": [
      "executor = Local(-4)"
     ],
     "language": "python",
     "metadata": {},
     "outputs": [],
     "prompt_number": 4
    },
    {
     "cell_type": "code",
     "collapsed": false,
     "input": [
      "for chrom, start_pos, end_pos in get_blocks():\n",
      "    executor.submit('plink',\n",
      "                    '--bfile tsi --freq --out tsi-%d-%d --chr %d --from-bp %d --to-bp %d' %\n",
      "                    (chrom, start_pos, chrom, start_pos, end_pos))\n",
      "executor.wait(for_all=True)"
     ],
     "language": "python",
     "metadata": {},
     "outputs": [],
     "prompt_number": 5
    },
    {
     "cell_type": "code",
     "collapsed": false,
     "input": [
      "#SLURM of above on external file"
     ],
     "language": "python",
     "metadata": {},
     "outputs": []
    },
    {
     "cell_type": "code",
     "collapsed": false,
     "input": [
      "for chrom, start_pos, end_pos in get_blocks():\n",
      "    os.remove('tsi-%d-%d.log' % (chrom, start_pos))"
     ],
     "language": "python",
     "metadata": {},
     "outputs": [],
     "prompt_number": 9
    },
    {
     "cell_type": "code",
     "collapsed": false,
     "input": [
      "for chrom, start_pos, end_pos in get_blocks():\n",
      "    executor.submit('python', 'get_maf.py %d %d' %\n",
      "                    (chrom, start_pos))"
     ],
     "language": "python",
     "metadata": {},
     "outputs": [],
     "prompt_number": 11
    },
    {
     "cell_type": "code",
     "collapsed": false,
     "input": [],
     "language": "python",
     "metadata": {},
     "outputs": []
    }
   ],
   "metadata": {}
  }
 ]
}