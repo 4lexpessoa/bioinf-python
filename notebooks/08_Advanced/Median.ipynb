{
 "metadata": {
  "name": "",
  "signature": "sha256:2a8cd1beb38d5e219f9fdfba2e5c366dff8124a0131a916344f21bb39ca9dfef"
 },
 "nbformat": 3,
 "nbformat_minor": 0,
 "worksheets": [
  {
   "cells": [
    {
     "cell_type": "code",
     "collapsed": false,
     "input": [
      "from __future__ import division, print_function\n",
      "\n",
      "from collections import defaultdict\n",
      "import os\n",
      "\n",
      "import numpy as np\n",
      "\n",
      "import matplotlib.pyplot as plt\n",
      "%matplotlib inline"
     ],
     "language": "python",
     "metadata": {},
     "outputs": [],
     "prompt_number": 4
    },
    {
     "cell_type": "heading",
     "level": 2,
     "metadata": {},
     "source": [
      "Approximation"
     ]
    },
    {
     "cell_type": "code",
     "collapsed": false,
     "input": [
      "approx = defaultdict(int)\n",
      "mafs = []\n",
      "for fname in os.listdir('.'):\n",
      "    if not fname.startswith('tsi-') or not fname.endswith('.frq'):\n",
      "        continue\n",
      "    f = open(fname)\n",
      "    f.readline()\n",
      "    for cnt, l in enumerate(f):\n",
      "        toks = [tok for tok in l.rstrip().split(' ') if tok != '']\n",
      "        maf = float(toks[-2])\n",
      "        mafs.append(maf)\n",
      "        approx[maf] += 1\n",
      "    f.close()"
     ],
     "language": "python",
     "metadata": {},
     "outputs": [],
     "prompt_number": 5
    },
    {
     "cell_type": "code",
     "collapsed": false,
     "input": [
      "print(len(mafs), type(mafs))\n",
      "print(len(approx))"
     ],
     "language": "python",
     "metadata": {},
     "outputs": [
      {
       "output_type": "stream",
       "stream": "stdout",
       "text": [
        "1222126 <type 'list'>\n",
        "417\n"
       ]
      }
     ],
     "prompt_number": 6
    },
    {
     "cell_type": "code",
     "collapsed": false,
     "input": [
      "%time print(np.median(mafs))"
     ],
     "language": "python",
     "metadata": {},
     "outputs": [
      {
       "output_type": "stream",
       "stream": "stdout",
       "text": [
        "0.2216\n",
        "CPU times: user 95.3 ms, sys: 11.9 ms, total: 107 ms\n",
        "Wall time: 137 ms\n"
       ]
      }
     ],
     "prompt_number": 7
    },
    {
     "cell_type": "code",
     "collapsed": false,
     "input": [
      "fig, axs = plt.subplots(2, 2, sharex=True, figsize=(16, 9))\n",
      "\n",
      "xs, ys = zip(*approx.items())\n",
      "axs[0, 0].plot(xs, ys, '.')\n",
      "\n",
      "xs = list(approx.keys())\n",
      "xs.sort()\n",
      "ys = [approx[x] for x in xs]\n",
      "axs[0, 1].bar(xs, ys, 0.005)\n",
      "\n",
      "def get_bins(my_dict, nbins):\n",
      "    acumulator = [0] * nbins\n",
      "    xmin, xmax = xs[0], xs[-1]\n",
      "    interval = (xmax - xmin) / nbins\n",
      "    bin_xs = [xmin + i * interval + interval / 2 for i in range(nbins)]\n",
      "    #the starting point, midpoint woudl take more interval / 2\n",
      "    curr_bin = 0\n",
      "    for x in xs:\n",
      "        y_cnt = approx[x]\n",
      "        while curr_bin + 1 != nbins and abs(x - bin_xs[curr_bin]) > abs(x - bin_xs[curr_bin + 1]):\n",
      "            curr_bin += 1\n",
      "        acumulator[curr_bin] += y_cnt\n",
      "    return bin_xs, acumulator, interval\n",
      "\n",
      "bin_xs, acumulator, interval = get_bins(approx, 10)\n",
      "axs[1, 0].bar(np.array(bin_xs) - interval / 2, acumulator, 0.5 / 10)\n",
      "\n",
      "bin_xs, acumulator, interval = get_bins(approx, 20)\n",
      "axs[1, 1].bar(np.array(bin_xs) - interval / 2, acumulator, 0.5 / 20)\n",
      "axs[1, 1].set_xlim(0, 0.5)\n",
      "\n",
      "fig.tight_layout()"
     ],
     "language": "python",
     "metadata": {},
     "outputs": [
      {
       "metadata": {},
       "output_type": "display_data",
       "png": "[encoded data removed]",
       "text": [
        "<matplotlib.figure.Figure at 0x7f12f9a48290>"
       ]
      }
     ],
     "prompt_number": 8
    },
    {
     "cell_type": "code",
     "collapsed": false,
     "input": [
      "def compute_median_from_dictionary(my_dict):\n",
      "    xs = list(my_dict.keys())\n",
      "    xs.sort()\n",
      "    x_cnt = [my_dict[x] for x in xs]\n",
      "    start = 0\n",
      "    end = len(xs) - 1\n",
      "    while start != end:\n",
      "        if start == end - 1 and x_cnt[start] == x_cnt[end]:\n",
      "            return (xs[start] + xs[end]) / 2\n",
      "        if x_cnt[start] > x_cnt[end]:\n",
      "            x_cnt[start] -= x_cnt[end]\n",
      "            end -= 1\n",
      "        elif x_cnt[start] < x_cnt[end]:\n",
      "            x_cnt[end] -= x_cnt[start]\n",
      "            start += 1\n",
      "        else:\n",
      "            start += 1\n",
      "            end -= 1\n",
      "    return xs[start]"
     ],
     "language": "python",
     "metadata": {},
     "outputs": [],
     "prompt_number": 9
    },
    {
     "cell_type": "code",
     "collapsed": false,
     "input": [
      "print(compute_median_from_dictionary(approx))"
     ],
     "language": "python",
     "metadata": {},
     "outputs": [
      {
       "output_type": "stream",
       "stream": "stdout",
       "text": [
        "0.2216\n"
       ]
      }
     ],
     "prompt_number": 10
    },
    {
     "cell_type": "code",
     "collapsed": false,
     "input": [
      "#do not put this, but discuss\n",
      "for my_round in [1, 2, 3]:\n",
      "    my_approx = defaultdict(int)\n",
      "    for val, cnt in approx.items():\n",
      "        my_approx[round(val, my_round)] += cnt\n",
      "    print(len(my_approx), compute_median_from_dictionary(my_approx))"
     ],
     "language": "python",
     "metadata": {},
     "outputs": [
      {
       "output_type": "stream",
       "stream": "stdout",
       "text": [
        "6 0.2\n",
        "50 0.22\n",
        "326 0.222\n"
       ]
      }
     ],
     "prompt_number": 11
    },
    {
     "cell_type": "heading",
     "level": 2,
     "metadata": {},
     "source": [
      "Subsampling"
     ]
    },
    {
     "cell_type": "code",
     "collapsed": false,
     "input": [
      "import random\n",
      "import pandas as pd\n",
      "arr = np.ndarray(shape=(5, 6), dtype=float)\n",
      "samp_sizes = [1, 10, 100, 1000, 10000]\n",
      "for rep in range(3):\n",
      "    for si, samp_size in enumerate([1, 10, 100, 1000, 10000]):\n",
      "        my_vals = random.sample(mafs, samp_size)\n",
      "        arr[si, rep] = np.median(my_vals)\n",
      "        arr[si, rep + 3] = max(my_vals)\n",
      "df = pd.DataFrame(arr, index=samp_sizes,\n",
      "                  columns=['Mean #1', 'Mean #2', 'Mean #3', 'Max #1', 'Max #2', 'Max #3'])\n",
      "df"
     ],
     "language": "python",
     "metadata": {},
     "outputs": [
      {
       "html": [
        "<div style=\"max-height:1000px;max-width:1500px;overflow:auto;\">\n",
        "<table border=\"1\" class=\"dataframe\">\n",
        "  <thead>\n",
        "    <tr style=\"text-align: right;\">\n",
        "      <th></th>\n",
        "      <th>Mean #1</th>\n",
        "      <th>Mean #2</th>\n",
        "      <th>Mean #3</th>\n",
        "      <th>Max #1</th>\n",
        "      <th>Max #2</th>\n",
        "      <th>Max #3</th>\n",
        "    </tr>\n",
        "  </thead>\n",
        "  <tbody>\n",
        "    <tr>\n",
        "      <th>1    </th>\n",
        "      <td> 0.06818</td>\n",
        "      <td> 0.181800</td>\n",
        "      <td> 0.07386</td>\n",
        "      <td> 0.06818</td>\n",
        "      <td> 0.1818</td>\n",
        "      <td> 0.07386</td>\n",
        "    </tr>\n",
        "    <tr>\n",
        "      <th>10   </th>\n",
        "      <td> 0.19315</td>\n",
        "      <td> 0.170465</td>\n",
        "      <td> 0.26135</td>\n",
        "      <td> 0.50000</td>\n",
        "      <td> 0.4602</td>\n",
        "      <td> 0.47160</td>\n",
        "    </tr>\n",
        "    <tr>\n",
        "      <th>100  </th>\n",
        "      <td> 0.23300</td>\n",
        "      <td> 0.221600</td>\n",
        "      <td> 0.21260</td>\n",
        "      <td> 0.49430</td>\n",
        "      <td> 0.5000</td>\n",
        "      <td> 0.50000</td>\n",
        "    </tr>\n",
        "    <tr>\n",
        "      <th>1000 </th>\n",
        "      <td> 0.22730</td>\n",
        "      <td> 0.200000</td>\n",
        "      <td> 0.22990</td>\n",
        "      <td> 0.50000</td>\n",
        "      <td> 0.5000</td>\n",
        "      <td> 0.50000</td>\n",
        "    </tr>\n",
        "    <tr>\n",
        "      <th>10000</th>\n",
        "      <td> 0.22410</td>\n",
        "      <td> 0.222550</td>\n",
        "      <td> 0.22160</td>\n",
        "      <td> 0.50000</td>\n",
        "      <td> 0.5000</td>\n",
        "      <td> 0.50000</td>\n",
        "    </tr>\n",
        "  </tbody>\n",
        "</table>\n",
        "</div>"
       ],
       "metadata": {},
       "output_type": "pyout",
       "prompt_number": 16,
       "text": [
        "       Mean #1   Mean #2  Mean #3   Max #1  Max #2   Max #3\n",
        "1      0.06818  0.181800  0.07386  0.06818  0.1818  0.07386\n",
        "10     0.19315  0.170465  0.26135  0.50000  0.4602  0.47160\n",
        "100    0.23300  0.221600  0.21260  0.49430  0.5000  0.50000\n",
        "1000   0.22730  0.200000  0.22990  0.50000  0.5000  0.50000\n",
        "10000  0.22410  0.222550  0.22160  0.50000  0.5000  0.50000"
       ]
      }
     ],
     "prompt_number": 16
    },
    {
     "cell_type": "code",
     "collapsed": false,
     "input": [
      "#bill gates effect"
     ],
     "language": "python",
     "metadata": {},
     "outputs": [],
     "prompt_number": 13
    }
   ],
   "metadata": {}
  }
 ]
}