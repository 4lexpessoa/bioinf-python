{
 "metadata": {
  "name": "",
  "signature": "sha256:1c198ea7d7e5e6e5559801c156c56f83c192f729810be3fca4edb3e339ac0bd5"
 },
 "nbformat": 3,
 "nbformat_minor": 0,
 "worksheets": [
  {
   "cells": [
    {
     "cell_type": "code",
     "collapsed": false,
     "input": [
      "from __future__ import print_function\n",
      "\n",
      "import math\n",
      "\n",
      "%load_ext cythonmagic\n",
      "\n",
      "from Bio import PDB"
     ],
     "language": "python",
     "metadata": {},
     "outputs": [],
     "prompt_number": 1
    },
    {
     "cell_type": "code",
     "collapsed": false,
     "input": [
      "repository = PDB.PDBList()\n",
      "parser = PDB.PDBParser()\n",
      "repository.retrieve_pdb_file('1TUP', pdir='.')\n",
      "p53_1tup = parser.get_structure('P 53', 'pdb1tup.ent')"
     ],
     "language": "python",
     "metadata": {},
     "outputs": [
      {
       "output_type": "stream",
       "stream": "stdout",
       "text": [
        "Structure exists: './pdb1tup.ent' \n"
       ]
      },
      {
       "output_type": "stream",
       "stream": "stderr",
       "text": [
        "/home/tra/Dropbox/soft/biopython/Bio/PDB/StructureBuilder.py:87: PDBConstructionWarning: WARNING: Chain A is discontinuous at line 6146.\n",
        "  PDBConstructionWarning)\n",
        "/home/tra/Dropbox/soft/biopython/Bio/PDB/StructureBuilder.py:87: PDBConstructionWarning: WARNING: Chain B is discontinuous at line 6147.\n",
        "  PDBConstructionWarning)\n",
        "/home/tra/Dropbox/soft/biopython/Bio/PDB/StructureBuilder.py:87: PDBConstructionWarning: WARNING: Chain C is discontinuous at line 6148.\n",
        "  PDBConstructionWarning)\n",
        "/home/tra/Dropbox/soft/biopython/Bio/PDB/StructureBuilder.py:87: PDBConstructionWarning: WARNING: Chain E is discontinuous at line 6149.\n",
        "  PDBConstructionWarning)\n",
        "/home/tra/Dropbox/soft/biopython/Bio/PDB/StructureBuilder.py:87: PDBConstructionWarning: WARNING: Chain F is discontinuous at line 6171.\n",
        "  PDBConstructionWarning)\n",
        "/home/tra/Dropbox/soft/biopython/Bio/PDB/StructureBuilder.py:87: PDBConstructionWarning: WARNING: Chain A is discontinuous at line 6185.\n",
        "  PDBConstructionWarning)\n",
        "/home/tra/Dropbox/soft/biopython/Bio/PDB/StructureBuilder.py:87: PDBConstructionWarning: WARNING: Chain B is discontinuous at line 6383.\n",
        "  PDBConstructionWarning)\n",
        "/home/tra/Dropbox/soft/biopython/Bio/PDB/StructureBuilder.py:87: PDBConstructionWarning: WARNING: Chain C is discontinuous at line 6453.\n",
        "  PDBConstructionWarning)\n"
       ]
      }
     ],
     "prompt_number": 2
    },
    {
     "cell_type": "code",
     "collapsed": false,
     "input": [
      "def get_distance(atoms):\n",
      "    atoms = list(atoms)  # not great\n",
      "    natoms = len(atoms)\n",
      "    for i in range(natoms - 1):\n",
      "        xi, yi, zi = atoms[i].coord\n",
      "        for j in range(i + 1, natoms):\n",
      "            xj, yj, zj = atoms[j].coord\n",
      "            my_dist = math.sqrt((xi - xj)**2 + (yi - yj)**2 + (zi - zj)**2) "
     ],
     "language": "python",
     "metadata": {},
     "outputs": [],
     "prompt_number": 3
    },
    {
     "cell_type": "code",
     "collapsed": false,
     "input": [
      "%time get_distance(p53_1tup.get_atoms())"
     ],
     "language": "python",
     "metadata": {},
     "outputs": [
      {
       "output_type": "stream",
       "stream": "stdout",
       "text": [
        "CPU times: user 4min 16s, sys: 1.22 s, total: 4min 18s\n",
        "Wall time: 4min 16s\n"
       ]
      }
     ],
     "prompt_number": 4
    },
    {
     "cell_type": "code",
     "collapsed": false,
     "input": [
      "%%cython\n",
      "import math\n",
      "def get_distance_cython_0(atoms):\n",
      "    atoms = list(atoms)\n",
      "    natoms = len(atoms)\n",
      "    for i in range(natoms - 1):\n",
      "        xi, yi, zi = atoms[i].coord\n",
      "        for j in range(i + 1, natoms):\n",
      "            xj, yj, zj = atoms[j].coord\n",
      "            my_dist = math.sqrt((xi - xj)**2 + (yi - yj)**2 + (zi - zj)**2) "
     ],
     "language": "python",
     "metadata": {},
     "outputs": [],
     "prompt_number": 5
    },
    {
     "cell_type": "code",
     "collapsed": false,
     "input": [
      "%timeit get_distance_cython_0(p53_1tup.get_atoms())"
     ],
     "language": "python",
     "metadata": {},
     "outputs": [
      {
       "output_type": "stream",
       "stream": "stdout",
       "text": [
        "1 loops, best of 3: 3min 55s per loop\n"
       ]
      }
     ],
     "prompt_number": 6
    },
    {
     "cell_type": "code",
     "collapsed": false,
     "input": [
      "%%cython\n",
      "cimport cython\n",
      "from libc.math cimport sqrt, pow\n",
      "\n",
      "cdef double get_dist(double xi, double yi, double zi,\n",
      "                     double xj, double yj, double zj):\n",
      "    return sqrt(pow(xi - xj, 2) + pow(yi - yj, 2) + pow(zi - zj, 2))\n",
      "\n",
      "def get_distance_cython_1(object atoms):\n",
      "    natoms = len(atoms)\n",
      "    cdef double x1, xj, yi, yj, zi, zj\n",
      "    for i in range(natoms - 1):\n",
      "        xi, yi, zi = atoms[i]\n",
      "        for j in range(i + 1, natoms):\n",
      "            xj, yj, zj = atoms[j]\n",
      "            my_dist = get_dist(xi, yi, zi, xj, yj, zj)"
     ],
     "language": "python",
     "metadata": {},
     "outputs": [],
     "prompt_number": 7
    },
    {
     "cell_type": "code",
     "collapsed": false,
     "input": [
      "%timeit get_distance_cython_1([atom.coord for atom in p53_1tup.get_atoms()])"
     ],
     "language": "python",
     "metadata": {},
     "outputs": [
      {
       "output_type": "stream",
       "stream": "stdout",
       "text": [
        "1 loops, best of 3: 18.4 s per loop\n"
       ]
      }
     ],
     "prompt_number": 8
    },
    {
     "cell_type": "heading",
     "level": 2,
     "metadata": {},
     "source": [
      "Numba"
     ]
    },
    {
     "cell_type": "code",
     "collapsed": false,
     "input": [
      "from numba import float_\n",
      "from numba.decorators import jit"
     ],
     "language": "python",
     "metadata": {},
     "outputs": [],
     "prompt_number": 9
    },
    {
     "cell_type": "code",
     "collapsed": false,
     "input": [
      "get_distance_numba_0 = jit(get_distance)"
     ],
     "language": "python",
     "metadata": {},
     "outputs": [],
     "prompt_number": 10
    },
    {
     "cell_type": "code",
     "collapsed": false,
     "input": [
      "%timeit get_distance_numba_0(p53_1tup.get_atoms())"
     ],
     "language": "python",
     "metadata": {},
     "outputs": [
      {
       "output_type": "stream",
       "stream": "stdout",
       "text": [
        "1 loops, best of 3: 3min 59s per loop\n"
       ]
      }
     ],
     "prompt_number": 11
    },
    {
     "cell_type": "code",
     "collapsed": false,
     "input": [
      "@jit\n",
      "def get_dist(xi, yi, zi, xj, yj, zj):\n",
      "    return math.sqrt((xi - xj)**2 + (yi - yj)**2 + (zi - zj)**2) \n",
      "\n",
      "def get_distance_numba_1(atoms):\n",
      "    natoms = len(atoms)\n",
      "    for i in range(natoms - 1):\n",
      "        xi, yi, zi = atoms[i]\n",
      "        for j in range(i + 1, natoms):\n",
      "            xj, yj, zj = atoms[j]\n",
      "            my_dist = get_dist(xi, yi, zi, xj, yj, zj)"
     ],
     "language": "python",
     "metadata": {},
     "outputs": [],
     "prompt_number": 12
    },
    {
     "cell_type": "code",
     "collapsed": false,
     "input": [
      "%timeit get_distance_numba_1([atom.coord for atom in p53_1tup.get_atoms()])"
     ],
     "language": "python",
     "metadata": {},
     "outputs": [
      {
       "output_type": "stream",
       "stream": "stdout",
       "text": [
        "1 loops, best of 3: 38 s per loop\n"
       ]
      }
     ],
     "prompt_number": 13
    },
    {
     "cell_type": "code",
     "collapsed": false,
     "input": [],
     "language": "python",
     "metadata": {},
     "outputs": [],
     "prompt_number": 13
    }
   ],
   "metadata": {}
  }
 ]
}