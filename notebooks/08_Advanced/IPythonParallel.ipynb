{
 "metadata": {
  "name": "",
  "signature": "sha256:428c2d93327ab2a205164bda05b8b9266d4d3835b30fc0f4b893362b8327335c"
 },
 "nbformat": 3,
 "nbformat_minor": 0,
 "worksheets": [
  {
   "cells": [
    {
     "cell_type": "code",
     "collapsed": false,
     "input": [
      "#ipcluster start -n 4\n",
      "# on correct directory"
     ],
     "language": "python",
     "metadata": {},
     "outputs": [],
     "prompt_number": 1
    },
    {
     "cell_type": "code",
     "collapsed": false,
     "input": [
      "from __future__ import print_function\n",
      "import os\n",
      "import pickle\n",
      "import time\n",
      "\n",
      "import numpy as np\n",
      "\n",
      "from IPython.parallel import Client"
     ],
     "language": "python",
     "metadata": {},
     "outputs": [],
     "prompt_number": 3
    },
    {
     "cell_type": "code",
     "collapsed": false,
     "input": [
      "f = open('max_chro_pos.pickle')\n",
      "max_chro_pos = pickle.load(f)\n",
      "f.close()\n",
      "\n",
      "window_size = 2000000\n",
      "\n",
      "def get_blocks():\n",
      "    for chro, max_pos in max_chro_pos.items():\n",
      "        num_bin = (max_pos + 1) // window_size\n",
      "        for my_bin in range(num_bin):\n",
      "            start_pos = my_bin * window_size + 1\n",
      "            end_pos = start_pos + window_size\n",
      "            yield chro, start_pos, end_pos"
     ],
     "language": "python",
     "metadata": {},
     "outputs": [],
     "prompt_number": 4
    },
    {
     "cell_type": "code",
     "collapsed": false,
     "input": [
      "cl = Client()\n",
      "all_engines = cl[:]\n",
      "all_engines.execute('import os')\n",
      "#all_engines.execute('import pickle')\n",
      "all_engines.execute('import numpy as np')"
     ],
     "language": "python",
     "metadata": {},
     "outputs": [
      {
       "metadata": {},
       "output_type": "pyout",
       "prompt_number": 5,
       "text": [
        "<AsyncResult: finished>"
       ]
      }
     ],
     "prompt_number": 5
    },
    {
     "cell_type": "code",
     "collapsed": false,
     "input": [
      "def compute_MAFs():\n",
      "    for chrom, start_pos, end_pos in my_blocks:\n",
      "        os.system('plink --bfile tsi --freq --out tsi-%d-%d --chr %d --from-bp %d --to-bp %d' %\n",
      "                      (chrom, start_pos, chrom, start_pos, end_pos))\n",
      "        os.remove('tsi-%d-%d.log' % (chrom, start_pos))"
     ],
     "language": "python",
     "metadata": {},
     "outputs": [],
     "prompt_number": 14
    },
    {
     "cell_type": "code",
     "collapsed": false,
     "input": [
      "def parse_MAFs(pos):\n",
      "    chrom, start_pos, end_pos = pos\n",
      "    mafs = []\n",
      "    try:\n",
      "        f = open('tsi-%d-%d.frq' % (chrom, start_pos))\n",
      "        f.readline()\n",
      "        for cnt, l in enumerate(f):\n",
      "            toks = [tok for tok in l.rstrip().split(' ') if tok != '']\n",
      "            maf = float(toks[-2])\n",
      "            mafs.append(maf)\n",
      "        f.close()\n",
      "    except:\n",
      "        # might be empty if there are no SNPs\n",
      "        pass\n",
      "    return mafs"
     ],
     "language": "python",
     "metadata": {},
     "outputs": [],
     "prompt_number": 36
    },
    {
     "cell_type": "code",
     "collapsed": false,
     "input": [
      "@all_engines.parallel(block=True)\n",
      "def compute_means(block_mafs):\n",
      "    nobs = len(block_mafs)\n",
      "    if nobs > 0:\n",
      "        return np.mean(block_mafs), nobs\n",
      "    else:\n",
      "        return None, 0\n",
      "\n",
      "#def compute_genome_mean(poses):\n",
      "#    tot_sum = 0.0\n",
      "#    tot_nobs = 0\n",
      "#    print(type(compute_mean))\n",
      "#    for sum_mafs, nobs in compute_means.map(poses):\n",
      "#        tot_sum += sum_mafs\n",
      "#        tot_nobs += nobs\n",
      "#    return tot_sum / tot_nobs, tot_nobs\n",
      "\n",
      "#def compute_genome_median(block_mafs):\n",
      "#    all_mafs = []\n",
      "#    for mafs in block_mafs:\n",
      "#        all_mafs.append(mafs)\n",
      "#    return np.median(all_mafs)"
     ],
     "language": "python",
     "metadata": {},
     "outputs": [],
     "prompt_number": 37
    },
    {
     "cell_type": "code",
     "collapsed": false,
     "input": [
      "all_engines.scatter('my_blocks', list(get_blocks()))\n",
      "all_engines.apply_sync(compute_MAFs)"
     ],
     "language": "python",
     "metadata": {},
     "outputs": [
      {
       "metadata": {},
       "output_type": "pyout",
       "prompt_number": 15,
       "text": [
        "[None, None, None, None]"
       ]
      }
     ],
     "prompt_number": 15
    },
    {
     "cell_type": "code",
     "collapsed": false,
     "input": [
      "block_mafs = all_engines.map_sync(parse_MAFs, get_blocks())\n",
      "block_means = compute_means.map(get_blocks())\n",
      "#bring data to the main application"
     ],
     "language": "python",
     "metadata": {},
     "outputs": [],
     "prompt_number": 39
    },
    {
     "cell_type": "code",
     "collapsed": false,
     "input": [
      "all_mafs = []\n",
      "for mafs in block_mafs:\n",
      "    all_mafs.extend(mafs)\n",
      "print(len(all_mafs))"
     ],
     "language": "python",
     "metadata": {},
     "outputs": [
      {
       "output_type": "stream",
       "stream": "stdout",
       "text": [
        "1222126\n"
       ]
      }
     ],
     "prompt_number": 20
    },
    {
     "cell_type": "code",
     "collapsed": false,
     "input": [
      "#zip([(chrom, start_pos) for chrom, start_pos, end_pos in get_blocks()]) # good example for python 3"
     ],
     "language": "python",
     "metadata": {},
     "outputs": [],
     "prompt_number": 11
    },
    {
     "cell_type": "code",
     "collapsed": false,
     "input": [
      "means_nobs = compute_mean.map(get_blocks())\n",
      "means, nobs = zip(*means_nobs)"
     ],
     "language": "python",
     "metadata": {},
     "outputs": [],
     "prompt_number": 40
    },
    {
     "cell_type": "code",
     "collapsed": false,
     "input": [
      "for stat in stats:\n",
      "    print(stat)\n",
      "    break"
     ],
     "language": "python",
     "metadata": {},
     "outputs": [
      {
       "output_type": "stream",
       "stream": "stdout",
       "text": [
        "(356, 59.37947799999997, [0.142, 0.09091, 0.07647, 0.142, 0.1047, 0.1882, 0.08523, 0.2557, 0.2159, 0.3807, 0.2216, 0.03409, 0.03409, 0.2614, 0.3182, 0.3068, 0.05114, 0.05114, 0.05114, 0.233, 0.05114, 0.05114, 0.05114, 0.05682, 0.3807, 0.1193, 0.1136, 0.06818, 0.005682, 0.01705, 0.4375, 0.4432, 0.4375, 0.06818, 0.06897, 0.06818, 0.06818, 0.1705, 0.01705, 0.0625, 0.4148, 0.07386, 0.07386, 0.06818, 0.392, 0.02841, 0.358, 0.1364, 0.01136, 0.01705, 0.1534, 0.1136, 0.03448, 0.3391, 0.01136, 0.1818, 0.2784, 0.1875, 0.4943, 0.1705, 0.4943, 0.1818, 0.2955, 0.3068, 0.1818, 0.1761, 0.1761, 0.3239, 0.02841, 0.1591, 0.1648, 0.1193, 0.1648, 0.125, 0.125, 0.483, 0.125, 0.483, 0.1307, 0.1023, 0.0625, 0.005682, 0.03409, 0.3693, 0.05682, 0.2558, 0.25, 0.0625, 0.03977, 0.3466, 0.03977, 0.07386, 0.04545, 0.1264, 0.1307, 0.125, 0.1193, 0.1193, 0.2045, 0.07955, 0.233, 0.03977, 0.005682, 0.2759, 0.03448, 0.02273, 0.005747, 0.005682, 0.05114, 0.1364, 0.07955, 0.142, 0.07955, 0.07386, 0.01149, 0.1307, 0.05682, 0.07955, 0.1136, 0.2241, 0.08046, 0.07386, 0.07386, 0.07386, 0.05233, 0.01705, 0.04545, 0.1648, 0.02841, 0.01705, 0.01705, 0.01705, 0.01705, 0.01705, 0.03409, 0.0625, 0.02841, 0.03409, 0.02874, 0.005682, 0.0625, 0.05172, 0.07386, 0.02841, 0.005682, 0.005682, 0.005682, 0.02841, 0.04545, 0.05114, 0.05682, 0.05682, 0.04545, 0.06818, 0.005682, 0.01136, 0.02841, 0.01705, 0.01136, 0.01136, 0.1488, 0.1477, 0.01136, 0.05682, 0.01136, 0.01136, 0.03409, 0.05682, 0.01149, 0.04545, 0.3409, 0.02273, 0.04545, 0.05682, 0.05682, 0.08523, 0.04545, 0.02273, 0.08523, 0.005682, 0.02273, 0.0625, 0.005682, 0.392, 0.07955, 0.02273, 0.05114, 0.1364, 0.005682, 0.005682, 0.05114, 0.2216, 0.2216, 0.1477, 0.02299, 0.2151, 0.2216, 0.07386, 0.1207, 0.02273, 0.142, 0.02273, 0.02273, 0.02273, 0.02273, 0.09195, 0.4034, 0.3977, 0.005682, 0.3239, 0.3239, 0.3239, 0.4034, 0.005682, 0.4716, 0.005682, 0.358, 0.358, 0.3977, 0.3182, 0.1364, 0.005682, 0.005682, 0.3977, 0.3977, 0.3977, 0.3693, 0.25, 0.125, 0.4489, 0.005682, 0.25, 0.005682, 0.2841, 0.03409, 0.1875, 0.02299, 0.2159, 0.454, 0.005682, 0.4432, 0.4148, 0.4545, 0.2273, 0.3736, 0.05114, 0.108, 0.4602, 0.477, 0.4545, 0.09091, 0.4318, 0.4602, 0.4602, 0.477, 0.05682, 0.05682, 0.3068, 0.2273, 0.2273, 0.4773, 0.005682, 0.2273, 0.2273, 0.2326, 0.4773, 0.4773, 0.477, 0.233, 0.005682, 0.1023, 0.2273, 0.4773, 0.05682, 0.005682, 0.04598, 0.2273, 0.4773, 0.04598, 0.03488, 0.04545, 0.03409, 0.4828, 0.25, 0.04545, 0.005682, 0.233, 0.04598, 0.04545, 0.4716, 0.2273, 0.2471, 0.04545, 0.2273, 0.2273, 0.4545, 0.25, 0.04545, 0.2273, 0.05114, 0.005747, 0.2386, 0.2102, 0.005682, 0.005682, 0.4659, 0.4773, 0.2557, 0.4773, 0.03448, 0.4886, 0.05114, 0.4773, 0.2614, 0.4716, 0.233, 0.03409, 0.4886, 0.2784, 0.03409, 0.2102, 0.4716, 0.5, 0.02841, 0.4943, 0.2045, 0.2965, 0.2898, 0.1932, 0.2898, 0.431, 0.233, 0.233, 0.4148, 0.25, 0.1705, 0.2841, 0.1705, 0.1705, 0.1761, 0.1761, 0.1761, 0.1761, 0.1839, 0.1761, 0.06818, 0.1667, 0.02841, 0.04545, 0.2614, 0.1989, 0.2273, 0.4091, 0.2273, 0.2443, 0.02326])\n"
       ]
      }
     ],
     "prompt_number": 10
    },
    {
     "cell_type": "code",
     "collapsed": false,
     "input": [
      "#blocks were already scattered\n",
      "async = all_engines.apply_async(compute_MAFs)\n",
      "import time\n",
      "while not async.ready():\n",
      "    print(len(async), async.progress)\n",
      "    time.sleep(5)\n",
      "print('Done')"
     ],
     "language": "python",
     "metadata": {},
     "outputs": [
      {
       "output_type": "stream",
       "stream": "stdout",
       "text": [
        "4 0\n",
        "4"
       ]
      },
      {
       "output_type": "stream",
       "stream": "stdout",
       "text": [
        " 0\n",
        "4"
       ]
      },
      {
       "output_type": "stream",
       "stream": "stdout",
       "text": [
        " 0\n",
        "4"
       ]
      },
      {
       "output_type": "stream",
       "stream": "stdout",
       "text": [
        " 0\n",
        "4"
       ]
      },
      {
       "output_type": "stream",
       "stream": "stdout",
       "text": [
        " 0\n",
        "4"
       ]
      },
      {
       "output_type": "stream",
       "stream": "stdout",
       "text": [
        " 0\n",
        "4"
       ]
      },
      {
       "output_type": "stream",
       "stream": "stdout",
       "text": [
        " 0\n",
        "4"
       ]
      },
      {
       "output_type": "stream",
       "stream": "stdout",
       "text": [
        " 0\n",
        "4"
       ]
      },
      {
       "output_type": "stream",
       "stream": "stdout",
       "text": [
        " 0\n",
        "4"
       ]
      },
      {
       "output_type": "stream",
       "stream": "stdout",
       "text": [
        " 0\n",
        "4"
       ]
      },
      {
       "output_type": "stream",
       "stream": "stdout",
       "text": [
        " 0\n",
        "4"
       ]
      },
      {
       "output_type": "stream",
       "stream": "stdout",
       "text": [
        " 0\n",
        "4"
       ]
      },
      {
       "output_type": "stream",
       "stream": "stdout",
       "text": [
        " 0\n",
        "4"
       ]
      },
      {
       "output_type": "stream",
       "stream": "stdout",
       "text": [
        " 0\n",
        "4"
       ]
      },
      {
       "output_type": "stream",
       "stream": "stdout",
       "text": [
        " 0\n",
        "4"
       ]
      },
      {
       "output_type": "stream",
       "stream": "stdout",
       "text": [
        " 0\n",
        "4"
       ]
      },
      {
       "output_type": "stream",
       "stream": "stdout",
       "text": [
        " 0\n",
        "4"
       ]
      },
      {
       "output_type": "stream",
       "stream": "stdout",
       "text": [
        " 0\n",
        "4"
       ]
      },
      {
       "output_type": "stream",
       "stream": "stdout",
       "text": [
        " 0\n",
        "4"
       ]
      },
      {
       "output_type": "stream",
       "stream": "stdout",
       "text": [
        " 0\n",
        "4"
       ]
      },
      {
       "output_type": "stream",
       "stream": "stdout",
       "text": [
        " 0\n",
        "4"
       ]
      },
      {
       "output_type": "stream",
       "stream": "stdout",
       "text": [
        " 0\n",
        "4"
       ]
      },
      {
       "output_type": "stream",
       "stream": "stdout",
       "text": [
        " 0\n",
        "4"
       ]
      },
      {
       "output_type": "stream",
       "stream": "stdout",
       "text": [
        " 0\n",
        "4"
       ]
      },
      {
       "output_type": "stream",
       "stream": "stdout",
       "text": [
        " 0\n",
        "4"
       ]
      },
      {
       "output_type": "stream",
       "stream": "stdout",
       "text": [
        " 0\n",
        "4"
       ]
      },
      {
       "output_type": "stream",
       "stream": "stdout",
       "text": [
        " 0\n",
        "4"
       ]
      },
      {
       "output_type": "stream",
       "stream": "stdout",
       "text": [
        " 0\n",
        "4"
       ]
      },
      {
       "output_type": "stream",
       "stream": "stdout",
       "text": [
        " 0\n",
        "4"
       ]
      },
      {
       "output_type": "stream",
       "stream": "stdout",
       "text": [
        " 0\n",
        "4"
       ]
      },
      {
       "output_type": "stream",
       "stream": "stdout",
       "text": [
        " 0\n",
        "Done"
       ]
      },
      {
       "output_type": "stream",
       "stream": "stdout",
       "text": [
        "\n"
       ]
      }
     ],
     "prompt_number": 25
    },
    {
     "cell_type": "code",
     "collapsed": false,
     "input": [
      "##on multicore with more than 4\n",
      "#for engines in [cl[0], cl[0:2], cl[:]]:\n",
      "#    start = time.time()\n",
      "#    all_engines.map(compute_MAF, get_blocks(), block=True)\n",
      "#    end = time.time()\n",
      "#    print('Time of %d engines: %.1f s' % (len(engines), end - start))"
     ],
     "language": "python",
     "metadata": {},
     "outputs": [
      {
       "output_type": "stream",
       "stream": "stdout",
       "text": [
        "Time of 1 engines: 87.9 s\n",
        "Time of 2 engines: 101.9 s"
       ]
      },
      {
       "output_type": "stream",
       "stream": "stdout",
       "text": [
        "\n",
        "Time of 4 engines: 132.0 s"
       ]
      },
      {
       "output_type": "stream",
       "stream": "stdout",
       "text": [
        "\n"
       ]
      }
     ],
     "prompt_number": 58
    },
    {
     "cell_type": "heading",
     "level": 2,
     "metadata": {},
     "source": [
      "Load balancer"
     ]
    },
    {
     "cell_type": "code",
     "collapsed": false,
     "input": [
      "load_balancer = cl.load_balanced_view()"
     ],
     "language": "python",
     "metadata": {},
     "outputs": [],
     "prompt_number": 26
    },
    {
     "cell_type": "code",
     "collapsed": false,
     "input": [
      "async = load_balancer.map(parse_MAFs, get_blocks(), block=False, chunksize=2, ordered=True)\n",
      "while not async.ready():\n",
      "    print(len(async), async.progress)\n",
      "    time.sleep(1)\n",
      "print('Done')"
     ],
     "language": "python",
     "metadata": {},
     "outputs": [
      {
       "output_type": "stream",
       "stream": "stdout",
       "text": [
        "713 49\n",
        "713"
       ]
      },
      {
       "output_type": "stream",
       "stream": "stdout",
       "text": [
        " 271\n",
        "713"
       ]
      },
      {
       "output_type": "stream",
       "stream": "stdout",
       "text": [
        " 499\n",
        "Done"
       ]
      },
      {
       "output_type": "stream",
       "stream": "stdout",
       "text": [
        "\n"
       ]
      }
     ],
     "prompt_number": 46
    },
    {
     "cell_type": "code",
     "collapsed": false,
     "input": [],
     "language": "python",
     "metadata": {},
     "outputs": [],
     "prompt_number": 47
    },
    {
     "cell_type": "code",
     "collapsed": false,
     "input": [
      "g = (x for x in range(10))\n",
      "print(next(g), 4)\n",
      "for l in g: print(l)"
     ],
     "language": "python",
     "metadata": {},
     "outputs": [
      {
       "output_type": "stream",
       "stream": "stdout",
       "text": [
        "0 4\n",
        "1\n",
        "2\n",
        "3\n",
        "4\n",
        "5\n",
        "6\n",
        "7\n",
        "8\n",
        "9\n"
       ]
      }
     ],
     "prompt_number": 53
    },
    {
     "cell_type": "code",
     "collapsed": false,
     "input": [],
     "language": "python",
     "metadata": {},
     "outputs": []
    }
   ],
   "metadata": {}
  }
 ]
}