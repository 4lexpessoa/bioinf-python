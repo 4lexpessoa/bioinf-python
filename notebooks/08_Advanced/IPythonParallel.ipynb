{
 "metadata": {
  "name": "",
  "signature": "sha256:1ca0d6037baecab9ad6f217a630d2904191b163920fc12ad72cc5e1ec18dc2cb"
 },
 "nbformat": 3,
 "nbformat_minor": 0,
 "worksheets": [
  {
   "cells": [
    {
     "cell_type": "code",
     "collapsed": false,
     "input": [
      "#ipcluster start -n 4\n",
      "# on correct directory"
     ],
     "language": "python",
     "metadata": {},
     "outputs": [],
     "prompt_number": 8
    },
    {
     "cell_type": "code",
     "collapsed": false,
     "input": [
      "from __future__ import print_function\n",
      "import os\n",
      "import pickle\n",
      "import time\n",
      "\n",
      "import numpy as np\n",
      "\n",
      "from IPython.parallel import Client"
     ],
     "language": "python",
     "metadata": {},
     "outputs": [],
     "prompt_number": 9
    },
    {
     "cell_type": "code",
     "collapsed": false,
     "input": [
      "f = open('max_chro_pos.pickle')\n",
      "max_chro_pos = pickle.load(f)\n",
      "f.close()\n",
      "\n",
      "window_size = 2000000\n",
      "\n",
      "def get_blocks():\n",
      "    for chro, max_pos in max_chro_pos.items():\n",
      "        num_bin = (max_pos + 1) // window_size\n",
      "        for my_bin in range(num_bin):\n",
      "            start_pos = my_bin * window_size + 1\n",
      "            end_pos = start_pos + window_size\n",
      "            yield chro, start_pos, end_pos"
     ],
     "language": "python",
     "metadata": {},
     "outputs": [],
     "prompt_number": 10
    },
    {
     "cell_type": "code",
     "collapsed": false,
     "input": [
      "cl = Client()\n",
      "all_engines = cl[:]\n",
      "all_engines.execute('import os')\n",
      "#all_engines.execute('import pickle')\n",
      "all_engines.execute('import numpy as np')"
     ],
     "language": "python",
     "metadata": {},
     "outputs": [
      {
       "metadata": {},
       "output_type": "pyout",
       "prompt_number": 11,
       "text": [
        "<AsyncResult: finished>"
       ]
      }
     ],
     "prompt_number": 11
    },
    {
     "cell_type": "code",
     "collapsed": false,
     "input": [
      "def compute_MAFs():\n",
      "    for chrom, start_pos, end_pos in my_blocks:\n",
      "        os.system('plink --bfile tsi --freq --out tsi-%d-%d --chr %d --from-bp %d --to-bp %d' %\n",
      "                      (chrom, start_pos, chrom, start_pos, end_pos))\n",
      "        os.remove('tsi-%d-%d.log' % (chrom, start_pos))"
     ],
     "language": "python",
     "metadata": {},
     "outputs": [],
     "prompt_number": 12
    },
    {
     "cell_type": "code",
     "collapsed": false,
     "input": [
      "def parse_MAFs(pos):\n",
      "    chrom, start_pos, end_pos = pos\n",
      "    mafs = []\n",
      "    try:\n",
      "        f = open('tsi-%d-%d.frq' % (chrom, start_pos))\n",
      "        f.readline()\n",
      "        for cnt, l in enumerate(f):\n",
      "            toks = [tok for tok in l.rstrip().split(' ') if tok != '']\n",
      "            maf = float(toks[-2])\n",
      "            mafs.append(maf)\n",
      "        f.close()\n",
      "    except:\n",
      "        # might be empty if there are no SNPs\n",
      "        pass\n",
      "    return mafs"
     ],
     "language": "python",
     "metadata": {},
     "outputs": [],
     "prompt_number": 13
    },
    {
     "cell_type": "code",
     "collapsed": false,
     "input": [
      "@all_engines.parallel(block=True)\n",
      "def compute_means_with_pos(pos):\n",
      "    block_mafs = parse_MAFs(pos)\n",
      "    nobs = len(block_mafs)\n",
      "    if nobs > 0:\n",
      "        return np.mean(block_mafs), nobs\n",
      "    else:\n",
      "        return 0.0, 0\n",
      "\n",
      "@all_engines.parallel(block=True)\n",
      "def compute_means_with_mafs(block_mafs):\n",
      "    nobs = len(block_mafs)\n",
      "    if nobs > 0:\n",
      "        return np.mean(block_mafs), nobs\n",
      "    else:\n",
      "        return 0.0, 0"
     ],
     "language": "python",
     "metadata": {},
     "outputs": [],
     "prompt_number": 14
    },
    {
     "cell_type": "code",
     "collapsed": false,
     "input": [
      "all_engines.scatter('my_blocks', list(get_blocks()))\n",
      "all_engines.apply_sync(compute_MAFs)"
     ],
     "language": "python",
     "metadata": {},
     "outputs": [
      {
       "metadata": {},
       "output_type": "pyout",
       "prompt_number": 15,
       "text": [
        "[None, None, None, None]"
       ]
      }
     ],
     "prompt_number": 15
    },
    {
     "cell_type": "code",
     "collapsed": false,
     "input": [
      "#need compute means with poses!\n",
      "all_engines.push({'parse_MAFs': parse_MAFs})\n",
      "%timeit compute_means_with_pos.map(get_blocks())"
     ],
     "language": "python",
     "metadata": {},
     "outputs": [
      {
       "output_type": "stream",
       "stream": "stdout",
       "text": [
        "1 loops, best of 3: 949 ms per loop\n"
       ]
      }
     ],
     "prompt_number": 18
    },
    {
     "cell_type": "code",
     "collapsed": false,
     "input": [
      "def compute_with_blocks():\n",
      "    block_mafs = all_engines.map_sync(parse_MAFs, get_blocks())\n",
      "    block_means = compute_means_with_mafs.map(block_mafs)\n",
      "    return block_means\n",
      "    #bring data to the main application\n",
      "%timeit compute_with_blocks()"
     ],
     "language": "python",
     "metadata": {},
     "outputs": [
      {
       "output_type": "stream",
       "stream": "stdout",
       "text": [
        "1 loops, best of 3: 1.02 s per loop\n"
       ]
      }
     ],
     "prompt_number": 22
    },
    {
     "cell_type": "code",
     "collapsed": false,
     "input": [
      "block_means = compute_means_with_pos.map(get_blocks())\n",
      "sum_maf = 0.0\n",
      "cnt_maf = 0\n",
      "for block_maf, block_cnt in block_means:\n",
      "    sum_maf += block_maf * block_cnt \n",
      "    cnt_maf += block_cnt\n",
      "print(cnt_maf, sum_maf / cnt_maf)"
     ],
     "language": "python",
     "metadata": {},
     "outputs": [
      {
       "output_type": "stream",
       "stream": "stdout",
       "text": [
        "1222126 0.23159641651\n"
       ]
      }
     ],
     "prompt_number": 65
    },
    {
     "cell_type": "code",
     "collapsed": false,
     "input": [
      "#blocks are already scattered\n",
      "async = all_engines.apply_async(compute_MAFs)\n",
      "import time\n",
      "#print(async.metadata)\n",
      "while not async.ready():\n",
      "    print(len(async), async.progress)\n",
      "    time.sleep(5)\n",
      "print('Done')"
     ],
     "language": "python",
     "metadata": {},
     "outputs": [
      {
       "output_type": "stream",
       "stream": "stdout",
       "text": [
        "[{'status': None, 'msg_id': None, 'stdout': '', 'started': None, 'outputs': [], 'completed': None, 'after': None, 'engine_uuid': None, 'follow': None, 'pyerr': None, 'data': {}, 'received': None, 'outputs_ready': False, 'pyin': None, 'pyout': None, 'engine_id': None, 'submitted': datetime.datetime(2015, 3, 20, 23, 16, 55, 856284), 'stderr': ''}, {'status': None, 'msg_id': None, 'stdout': '', 'started': None, 'outputs': [], 'completed': None, 'after': None, 'engine_uuid': None, 'follow': None, 'pyerr': None, 'data': {}, 'received': None, 'outputs_ready': False, 'pyin': None, 'pyout': None, 'engine_id': None, 'submitted': datetime.datetime(2015, 3, 20, 23, 16, 55, 856532), 'stderr': ''}, {'status': None, 'msg_id': None, 'stdout': '', 'started': None, 'outputs': [], 'completed': None, 'after': None, 'engine_uuid': None, 'follow': None, 'pyerr': None, 'data': {}, 'received': None, 'outputs_ready': False, 'pyin': None, 'pyout': None, 'engine_id': None, 'submitted': datetime.datetime(2015, 3, 20, 23, 16, 55, 856747), 'stderr': ''}, {'status': None, 'msg_id': None, 'stdout': '', 'started': None, 'outputs': [], 'completed': None, 'after': None, 'engine_uuid': None, 'follow': None, 'pyerr': None, 'data': {}, 'received': None, 'outputs_ready': False, 'pyin': None, 'pyout': None, 'engine_id': None, 'submitted': datetime.datetime(2015, 3, 20, 23, 16, 55, 856940), 'stderr': ''}]\n",
        "4 0\n",
        "4"
       ]
      },
      {
       "output_type": "stream",
       "stream": "stdout",
       "text": [
        " 0\n",
        "4"
       ]
      },
      {
       "output_type": "stream",
       "stream": "stdout",
       "text": [
        " 0\n",
        "4"
       ]
      },
      {
       "output_type": "stream",
       "stream": "stdout",
       "text": [
        " 0\n",
        "4"
       ]
      },
      {
       "output_type": "stream",
       "stream": "stdout",
       "text": [
        " 0\n",
        "4"
       ]
      },
      {
       "output_type": "stream",
       "stream": "stdout",
       "text": [
        " 0\n",
        "4"
       ]
      },
      {
       "output_type": "stream",
       "stream": "stdout",
       "text": [
        " 0\n",
        "4"
       ]
      },
      {
       "output_type": "stream",
       "stream": "stdout",
       "text": [
        " 0\n",
        "4"
       ]
      },
      {
       "output_type": "stream",
       "stream": "stdout",
       "text": [
        " 0\n",
        "4"
       ]
      },
      {
       "output_type": "stream",
       "stream": "stdout",
       "text": [
        " 0\n",
        "4"
       ]
      },
      {
       "output_type": "stream",
       "stream": "stdout",
       "text": [
        " 0\n",
        "4"
       ]
      },
      {
       "output_type": "stream",
       "stream": "stdout",
       "text": [
        " 0\n",
        "4"
       ]
      },
      {
       "output_type": "stream",
       "stream": "stdout",
       "text": [
        " 0\n",
        "4"
       ]
      },
      {
       "output_type": "stream",
       "stream": "stdout",
       "text": [
        " 0\n",
        "4"
       ]
      },
      {
       "output_type": "stream",
       "stream": "stdout",
       "text": [
        " 0\n",
        "4"
       ]
      },
      {
       "output_type": "stream",
       "stream": "stdout",
       "text": [
        " 0\n",
        "4"
       ]
      },
      {
       "output_type": "stream",
       "stream": "stdout",
       "text": [
        " 0\n",
        "4"
       ]
      },
      {
       "output_type": "stream",
       "stream": "stdout",
       "text": [
        " 0\n",
        "4"
       ]
      },
      {
       "output_type": "stream",
       "stream": "stdout",
       "text": [
        " 2\n",
        "Done"
       ]
      },
      {
       "output_type": "stream",
       "stream": "stdout",
       "text": [
        "\n"
       ]
      }
     ],
     "prompt_number": 35
    },
    {
     "cell_type": "heading",
     "level": 2,
     "metadata": {},
     "source": [
      "Load balancer"
     ]
    },
    {
     "cell_type": "code",
     "collapsed": false,
     "input": [
      "load_balancer = cl.load_balanced_view()"
     ],
     "language": "python",
     "metadata": {},
     "outputs": [],
     "prompt_number": 39
    },
    {
     "cell_type": "code",
     "collapsed": false,
     "input": [
      "async = load_balancer.map(parse_MAFs,\n",
      "                          [pos for pos in get_blocks() if pos[0] == 1],\n",
      "                          block=False, chunksize=3, ordered=True)\n",
      "while not async.ready():\n",
      "    print(len(async), async.progress)\n",
      "    time.sleep(1)\n",
      "print('Done')"
     ],
     "language": "python",
     "metadata": {},
     "outputs": [
      {
       "output_type": "stream",
       "stream": "stdout",
       "text": [
        "41 3\n",
        "Done"
       ]
      },
      {
       "output_type": "stream",
       "stream": "stdout",
       "text": [
        "\n"
       ]
      }
     ],
     "prompt_number": 49
    },
    {
     "cell_type": "code",
     "collapsed": false,
     "input": [
      "result = async.get()"
     ],
     "language": "python",
     "metadata": {},
     "outputs": [],
     "prompt_number": 50
    },
    {
     "cell_type": "code",
     "collapsed": false,
     "input": [
      "import matplotlib.pyplot as plt\n",
      "%matplotlib inline\n",
      "fig = plt.figure(figsize=(16, 9))\n",
      "ax = fig.add_subplot(111)\n",
      "xs = [x * window_size for x in range(len(result))]\n",
      "ax.plot(xs, [np.mean(vals) for vals in result])\n",
      "ax.plot(xs, [(lambda x : np.percentile(x, 90) if len(x) > 0 else None)(vals) for vals in result], 'k-.')\n",
      "ax.set_xlabel('Chromosome position')\n",
      "ax.set_xlabel('Heterozygosity')\n",
      "ax.set_title('Mean and 90th percentile Hz over %d windows for chromosome 1' % window_size)"
     ],
     "language": "python",
     "metadata": {},
     "outputs": [
      {
       "metadata": {},
       "output_type": "pyout",
       "prompt_number": 63,
       "text": [
        "<matplotlib.text.Text at 0x7fd4781829d0>"
       ]
      },
      {
       "metadata": {},
       "output_type": "display_data",
       "png": "[encoded data removed]",
       "text": [
        "<matplotlib.figure.Figure at 0x7fd4acfd1a10>"
       ]
      }
     ],
     "prompt_number": 63
    },
    {
     "cell_type": "code",
     "collapsed": false,
     "input": [],
     "language": "python",
     "metadata": {},
     "outputs": []
    }
   ],
   "metadata": {}
  }
 ]
}