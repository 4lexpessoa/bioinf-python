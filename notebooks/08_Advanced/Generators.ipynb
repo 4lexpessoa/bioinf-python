{
 "metadata": {
  "name": "",
  "signature": "sha256:53a735660e7fb514845e08925146d4f0315887dfe421e6e13d40a3df3aeef6c7"
 },
 "nbformat": 3,
 "nbformat_minor": 0,
 "worksheets": [
  {
   "cells": [
    {
     "cell_type": "code",
     "collapsed": false,
     "input": [
      "!rm -f SRR003265_1.filt.fastq.gz 2>/dev/null\n",
      "!rm -f SRR003265_2.filt.fastq.gz 2>/dev/null\n",
      "!wget ftp://ftp.1000genomes.ebi.ac.uk/vol1/ftp/data/NA18489/sequence_read/SRR003265_1.filt.fastq.gz\n",
      "!wget ftp://ftp.1000genomes.ebi.ac.uk/vol1/ftp/data/NA18489/sequence_read/SRR003265_2.filt.fastq.gz"
     ],
     "language": "python",
     "metadata": {},
     "outputs": []
    },
    {
     "cell_type": "code",
     "collapsed": false,
     "input": [
      "from __future__ import division, print_function\n",
      "import gzip\n",
      "import numpy as np\n",
      "from Bio import SeqIO, SeqUtils\n",
      "from Bio.Alphabet import IUPAC"
     ],
     "language": "python",
     "metadata": {},
     "outputs": [],
     "prompt_number": 5
    },
    {
     "cell_type": "code",
     "collapsed": false,
     "input": [
      "f = gzip.open('SRR003265_2.filt.fastq.gz', 'rt')\n",
      "recs = SeqIO.parse(f, 'fastq', alphabet=IUPAC.unambiguous_dna)\n",
      "sum_skews = 0\n",
      "for i, rec in enumerate(recs):\n",
      "    skew = SeqUtils.GC_skew(rec.seq)[0]\n",
      "    sum_skews += skew\n",
      "    if i == 1000:\n",
      "        break\n",
      "print (sum_skews / (i + 1))"
     ],
     "language": "python",
     "metadata": {},
     "outputs": [
      {
       "output_type": "stream",
       "stream": "stdout",
       "text": [
        "-0.00837274048503\n"
       ]
      }
     ],
     "prompt_number": 6
    },
    {
     "cell_type": "code",
     "collapsed": false,
     "input": [
      "def get_gcs(recs):\n",
      "    for rec in recs:\n",
      "        yield SeqUtils.GC_skew(rec.seq)[0]\n",
      "\n",
      "f = gzip.open('SRR003265_2.filt.fastq.gz', 'rt')\n",
      "recs = SeqIO.parse(f, 'fastq', alphabet=IUPAC.unambiguous_dna)\n",
      "sum_skews = 0\n",
      "for i, skew in enumerate(get_gcs(recs)):\n",
      "    sum_skews += skew\n",
      "    if i == 1000:\n",
      "        break\n",
      "print (sum_skews / (i + 1))"
     ],
     "language": "python",
     "metadata": {},
     "outputs": [
      {
       "output_type": "stream",
       "stream": "stdout",
       "text": [
        "-0.00837274048503\n"
       ]
      }
     ],
     "prompt_number": 7
    },
    {
     "cell_type": "code",
     "collapsed": false,
     "input": [
      "f = gzip.open('SRR003265_2.filt.fastq.gz', 'rt')\n",
      "recs = SeqIO.parse(f, 'fastq', alphabet=IUPAC.unambiguous_dna)\n",
      "i = 0\n",
      "sum_skews = 0\n",
      "for rec in recs:\n",
      "    if np.median(rec.letter_annotations['phred_quality']) < 40:\n",
      "        continue\n",
      "    skew = SeqUtils.GC_skew(rec.seq)[0]\n",
      "    sum_skews += skew\n",
      "    if i == 1000:\n",
      "        break\n",
      "    i += 1\n",
      "print (sum_skews / (i + 1))"
     ],
     "language": "python",
     "metadata": {},
     "outputs": [
      {
       "output_type": "stream",
       "stream": "stdout",
       "text": [
        "-0.0174188277631\n"
       ]
      }
     ],
     "prompt_number": 8
    },
    {
     "cell_type": "code",
     "collapsed": false,
     "input": [
      "def get_gcs(recs):\n",
      "    for rec in recs:\n",
      "        yield SeqUtils.GC_skew(rec.seq)[0]\n",
      "\n",
      "def filter_quality(recs):\n",
      "    for rec in recs:\n",
      "        if np.median(rec.letter_annotations['phred_quality']) >= 40:\n",
      "            yield rec\n",
      "        \n",
      "f = gzip.open('SRR003265_2.filt.fastq.gz', 'rt')\n",
      "recs = SeqIO.parse(f, 'fastq', alphabet=IUPAC.unambiguous_dna)\n",
      "sum_skews = 0\n",
      "for i, skew in enumerate(get_gcs(filter_quality(recs))):\n",
      "    sum_skews += skew\n",
      "    if i == 1000:\n",
      "        break\n",
      "print (sum_skews / (i + 1))"
     ],
     "language": "python",
     "metadata": {},
     "outputs": [
      {
       "output_type": "stream",
       "stream": "stdout",
       "text": [
        "-0.0174188277631\n"
       ]
      }
     ],
     "prompt_number": 9
    },
    {
     "cell_type": "code",
     "collapsed": false,
     "input": [],
     "language": "python",
     "metadata": {},
     "outputs": []
    }
   ],
   "metadata": {}
  }
 ]
}