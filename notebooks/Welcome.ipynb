{
 "cells": [
  {
   "cell_type": "markdown",
   "metadata": {},
   "source": [
    "# Python for Bioinformatics"
   ]
  },
  {
   "cell_type": "markdown",
   "metadata": {},
   "source": [
    "## Python 2 or 3?"
   ]
  },
  {
   "cell_type": "markdown",
   "metadata": {},
   "source": [
    "Depending on your Python version, some content might not be available. Lets test that:"
   ]
  },
  {
   "cell_type": "code",
   "execution_count": 3,
   "metadata": {
    "collapsed": false
   },
   "outputs": [
    {
     "name": "stdout",
     "output_type": "stream",
     "text": [
      "Python 2: The Phylogenomics module will work, but some Big Data content will not\n"
     ]
    }
   ],
   "source": [
    "import platform\n",
    "major, minor, patch = platform.python_version_tuple()\n",
    "if major == 3:\n",
    "    print('Python 3: The Phylogenomics module will not work, but all the Big Data content will')\n",
    "else:\n",
    "    print('Python 2: The Phylogenomics module will work, but some Big Data content will not')"
   ]
  },
  {
   "cell_type": "markdown",
   "metadata": {},
   "source": [
    "## Python and the surrounding software ecology"
   ]
  },
  {
   "cell_type": "markdown",
   "metadata": {},
   "source": [
    "* [Interfacing with R](00_Intro/Interfacing_R.ipynb)\n",
    "* [R Magic](00_Intro/R_magic.ipynb)"
   ]
  },
  {
   "cell_type": "markdown",
   "metadata": {},
   "source": [
    "## Next Generation Sequencing"
   ]
  },
  {
   "cell_type": "markdown",
   "metadata": {},
   "source": [
    "* [Accessing Databases](01_NGS/Accessing_Databases.ipynb)\n",
    "* [Basic Sequence Processing](01_NGS/Basic_Sequence_Processing.ipynb)\n",
    "* [Working with FASTQ files](01_NGS/Working_with_FASTQ.ipynb)\n",
    "* [Working with BAM files](01_NGS/Working_with_BAM.ipynb)\n",
    "* [Working with VCF files](01_NGS/Working_with_VCF.ipynb)\n",
    "* [Filtering SNPs](01_NGS/Filtering_SNPs.ipynb)"
   ]
  },
  {
   "cell_type": "markdown",
   "metadata": {},
   "source": [
    "## Genomics"
   ]
  },
  {
   "cell_type": "markdown",
   "metadata": {},
   "source": [
    "* [Reference Genomes](02_Genomes/.ipynb)\n",
    "* [Low Quality Reference Genomes](02_Genomes/.ipynb)\n",
    "* [Annotations](02_Genomes/.ipynb)\n",
    "* [Getting](02_Genomes/.ipynb)\n",
    "* [Orthology](02_Genomes/.ipynb)\n",
    "* [Gene Ontology](02_Genomes/.ipynb)"
   ]
  },
  {
   "cell_type": "markdown",
   "metadata": {},
   "source": [
    "## Population Genetics"
   ]
  },
  {
   "cell_type": "markdown",
   "metadata": {},
   "source": [
    "* [Data Formats with PLINK](03_PopGen/Data_Formats.ipynb)\n",
    "* [The Genepop Format](03_PopGen/Genepop_Format.ipynb)\n",
    "* [Exploratory Analysis](03_PopGen/Exploratory_Analysis.ipynb)\n",
    "* [F statistics](03_PopGen/F-stats.ipynb)\n",
    "* [Principal Components Analysis (PCA)](03_PopGen/PCA.ipynb)\n",
    "* [Admixture/Structure](03_PopGen/Admixture.ipynb)\n"
   ]
  },
  {
   "cell_type": "markdown",
   "metadata": {},
   "source": [
    "## Simulation in Population Genetics"
   ]
  },
  {
   "cell_type": "markdown",
   "metadata": {},
   "source": [
    "* [](04_PopSim/Basic_SimuPOP.ipynb)\n",
    "* [](04_PopSim/Selection.ipynb)\n",
    "* [](04_PopSim/Pop_Structure.ipynb)\n",
    "* [](04_PopSim/Complex.ipynb)\n",
    "* [](04_PopSim/Coalescent.ipynb)"
   ]
  },
  {
   "cell_type": "markdown",
   "metadata": {},
   "source": [
    "## Phylogenetics"
   ]
  },
  {
   "cell_type": "markdown",
   "metadata": {},
   "source": [
    "* [](05_Phylo/Exploration.ipynb)\n",
    "* [](05_Phylo/Alignment.ipynb)\n",
    "* [](05_Phylo/Comparison.ipynb)\n",
    "* [](05_Phylo/Reconstruction.ipynb)\n",
    "* [](05_Phylo/Trees.ipynb)\n",
    "* [](05_Phylo/Visualization.ipynb)\n"
   ]
  },
  {
   "cell_type": "markdown",
   "metadata": {},
   "source": [
    "## Proteomics"
   ]
  },
  {
   "cell_type": "raw",
   "metadata": {},
   "source": [
    "* [](06_Prot/Intro.ipynb)\n",
    "* [](06_Prot/PDB.ipynb)\n",
    "* [](06_Prot/Stats.ipynb)\n",
    "* [](06_Prot/Distance.ipynb)\n",
    "* [](06_Prot/Mass.ipynb)\n",
    "* [](06_Prot/Parser.ipynb)\n",
    "* [](06_Prot/mmCIF.ipynb)\n",
    "\n",
    "pymol"
   ]
  },
  {
   "cell_type": "markdown",
   "metadata": {},
   "source": [
    "## Other topics"
   ]
  },
  {
   "cell_type": "markdown",
   "metadata": {},
   "source": [
    "* [](07_Other/GBIF.ipynb)\n",
    "* [](07_Other/GBIF_Extra.ipynb)\n",
    "* [](07_Other/PSICQUIC.ipynb)\n",
    "* [](07_Other/Cytoscape.ipynb)\n"
   ]
  },
  {
   "cell_type": "markdown",
   "metadata": {},
   "source": [
    "## Advanced Python for Bioinformatics"
   ]
  },
  {
   "cell_type": "markdown",
   "metadata": {},
   "source": [
    "* [](08_Advanced/Intro.ipynb)\n",
    "* [](08_Advanced/Multiprocessing.ipynb)\n",
    "* [](08_Advanced/IPythonParallel.ipynb)\n",
    "* [](08_Advanced/Median.ipynb)\n",
    "* [](08_Advanced/Cython_Numba.ipynb)\n",
    "* [](08_Advanced/Lazy.ipynb)\n",
    "* [](08_Advanced/Generators.ipynb)\n"
   ]
  },
  {
   "cell_type": "code",
   "execution_count": null,
   "metadata": {
    "collapsed": false
   },
   "outputs": [],
   "source": []
  }
 ],
 "metadata": {
  "kernelspec": {
   "display_name": "Python 2",
   "language": "python",
   "name": "python2"
  },
  "language_info": {
   "codemirror_mode": {
    "name": "ipython",
    "version": 2
   },
   "file_extension": ".py",
   "mimetype": "text/x-python",
   "name": "python",
   "nbconvert_exporter": "python",
   "pygments_lexer": "ipython2",
   "version": "2.7.9"
  }
 },
 "nbformat": 4,
 "nbformat_minor": 0
}
