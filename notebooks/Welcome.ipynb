{
 "cells": [
  {
   "cell_type": "markdown",
   "metadata": {},
   "source": [
    "# Python for Bioinformatics"
   ]
  },
  {
   "cell_type": "markdown",
   "metadata": {},
   "source": [
    "## Python 2 or 3?"
   ]
  },
  {
   "cell_type": "markdown",
   "metadata": {},
   "source": [
    "Depending on your Python version, some content might not be available. Lets test that:"
   ]
  },
  {
   "cell_type": "code",
   "execution_count": 5,
   "metadata": {
    "collapsed": false
   },
   "outputs": [
    {
     "name": "stdout",
     "output_type": "stream",
     "text": [
      "Python 2: The Phylogenomics module will work, but some Big Data content will not\n"
     ]
    }
   ],
   "source": [
    "import platform\n",
    "major, minor, patch = platform.python_version_tuple()\n",
    "if major == 3:\n",
    "    print('Python 3: The Phylogenomics module will not work, but all the Big Data content will')\n",
    "else:\n",
    "    print('Python 2: The Phylogenomics module will work, but some Big Data content will not')"
   ]
  },
  {
   "cell_type": "markdown",
   "metadata": {},
   "source": [
    "## Content"
   ]
  },
  {
   "cell_type": "markdown",
   "metadata": {},
   "source": [
    "* Python and the surrounding software ecology\n",
    "\n",
    "  * [Interfacing with R](00_Intro/Interfacing_R.ipynb)\n",
    "  * Wrapping external applications\n",
    "\n",
    "* Next Generation Sequencing\n",
    "\n",
    "* Genomics\n",
    "\n",
    "* Population Genetics\n",
    "\n",
    "* Simulation in Population Genetics\n",
    "\n",
    "* Phylogenetics\n",
    "\n",
    "* Proteomics\n",
    "\n",
    "* Other Topics\n",
    "\n",
    "* Python for Big Data"
   ]
  },
  {
   "cell_type": "code",
   "execution_count": null,
   "metadata": {
    "collapsed": false
   },
   "outputs": [],
   "source": []
  }
 ],
 "metadata": {
  "kernelspec": {
   "display_name": "Python 2",
   "language": "python",
   "name": "python2"
  },
  "language_info": {
   "codemirror_mode": {
    "name": "ipython",
    "version": 2
   },
   "file_extension": ".py",
   "mimetype": "text/x-python",
   "name": "python",
   "nbconvert_exporter": "python",
   "pygments_lexer": "ipython2",
   "version": "2.7.9"
  }
 },
 "nbformat": 4,
 "nbformat_minor": 0
}
