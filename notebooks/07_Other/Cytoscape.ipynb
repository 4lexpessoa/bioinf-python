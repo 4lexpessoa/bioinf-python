{
 "cells": [
  {
   "cell_type": "code",
   "execution_count": 2,
   "metadata": {
    "collapsed": true
   },
   "outputs": [],
   "source": [
    "from __future__ import print_function\n",
    "\n",
    "import json\n",
    "import requests"
   ]
  },
  {
   "cell_type": "code",
   "execution_count": 3,
   "metadata": {
    "collapsed": true
   },
   "outputs": [],
   "source": [
    "server = 'http://localhost:1234/v1/'"
   ]
  },
  {
   "cell_type": "code",
   "execution_count": 4,
   "metadata": {
    "collapsed": true
   },
   "outputs": [],
   "source": [
    "def do_request(service, a1=None, a2=None, a3=None, **kwargs):\n",
    "    server = 'http://localhost:1234/v1/'\n",
    "    params = ''\n",
    "    for a in [a1, a2, a3]:\n",
    "        if a is not None:\n",
    "            params += '/' + a\n",
    "    req = requests.get('%s/%s%s' % (server, service, params),\n",
    "                       params=kwargs,\n",
    "                       headers={'Content-Type': 'application/json'})\n",
    "    if not req.ok:\n",
    "        req.raise_for_status()\n",
    "    return req.json()"
   ]
  },
  {
   "cell_type": "code",
   "execution_count": 5,
   "metadata": {
    "collapsed": false
   },
   "outputs": [
    {
     "ename": "SyntaxError",
     "evalue": "invalid syntax (<ipython-input-5-442cec344e8c>, line 1)",
     "output_type": "error",
     "traceback": [
      "\u001b[1;36m  File \u001b[1;32m\"<ipython-input-5-442cec344e8c>\"\u001b[1;36m, line \u001b[1;32m1\u001b[0m\n\u001b[1;33m    http://www.biomart.org/biomart/martservice?type=datasets&mart=uniprot')\u001b[0m\n\u001b[1;37m        ^\u001b[0m\n\u001b[1;31mSyntaxError\u001b[0m\u001b[1;31m:\u001b[0m invalid syntax\n"
     ]
    }
   ],
   "source": [
    "http://www.biomart.org/biomart/martservice?type=datasets&mart=uniprot')\n",
    "rec =requests.post('networks?source=url&collection=Test')"
   ]
  },
  {
   "cell_type": "code",
   "execution_count": 15,
   "metadata": {
    "collapsed": false
   },
   "outputs": [],
   "source": [
    "def create_from_list(network_list):\n",
    "    req = requests.post(server + 'networks?source=url&collection=test', data=json.dumps(network_list),\n",
    "                               headers={'Content-Type': 'application/json'})\n",
    "    if not req.ok:\n",
    "        req.raise_for_status()\n",
    "    return json.loads(req.content)\n",
    "\n",
    "nl = ['http://www.uniprot.org/uniprot/P04637.xml?include=yes']\n",
    "#nl = ['http://rest.kegg.jp/get/hsa05200/kgml', 'http://rest.kegg.jp/get/hsa03430/kgml']\n",
    "#nl = ['http://www.uniprot.org/uniprot/?query=organism:9606+AND+p53&format=xml&limit=10&sort=score']\n",
    "bla = create_from_list(nl)"
   ]
  },
  {
   "cell_type": "code",
   "execution_count": 16,
   "metadata": {
    "collapsed": false
   },
   "outputs": [
    {
     "data": {
      "text/plain": [
       "[{u'networkSUID': [2000],\n",
       "  u'source': u'http://www.uniprot.org/uniprot/P04637.xml?include=yes'}]"
      ]
     },
     "execution_count": 16,
     "metadata": {},
     "output_type": "execute_result"
    }
   ],
   "source": [
    "bla"
   ]
  },
  {
   "cell_type": "code",
   "execution_count": 22,
   "metadata": {
    "collapsed": false
   },
   "outputs": [
    {
     "name": "stdout",
     "output_type": "stream",
     "text": [
      "[\n",
      "    {\n",
      "        \"source\": \"http://www.ebi.ac.uk/Tools/webservices/psicquic/uniprot/webservices/current/search/interactor/tp53?format=tab27\", \n",
      "        \"networkSUID\": [\n",
      "            2648\n",
      "        ]\n",
      "    }\n",
      "]\n"
     ]
    }
   ],
   "source": [
    "queries = [ 'http://www.ebi.ac.uk/Tools/webservices/psicquic/uniprot/webservices/current/search/interactor/tp53?format=tab27']\n",
    "print(json.dumps(create_from_list(queries), indent=4))"
   ]
  },
  {
   "cell_type": "code",
   "execution_count": null,
   "metadata": {
    "collapsed": true
   },
   "outputs": [],
   "source": []
  }
 ],
 "metadata": {
  "kernelspec": {
   "display_name": "Python 2",
   "language": "python",
   "name": "python2"
  },
  "language_info": {
   "codemirror_mode": {
    "name": "ipython",
    "version": 2
   },
   "file_extension": ".py",
   "mimetype": "text/x-python",
   "name": "python",
   "nbconvert_exporter": "python",
   "pygments_lexer": "ipython2",
   "version": "2.7.9"
  }
 },
 "nbformat": 4,
 "nbformat_minor": 0
}
