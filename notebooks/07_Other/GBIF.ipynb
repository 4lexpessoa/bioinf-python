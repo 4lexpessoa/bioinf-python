{
 "cells": [
  {
   "cell_type": "code",
   "execution_count": 33,
   "metadata": {
    "collapsed": false
   },
   "outputs": [],
   "source": [
    "from __future__ import print_function\n",
    "\n",
    "import requests"
   ]
  },
  {
   "cell_type": "code",
   "execution_count": 2,
   "metadata": {
    "collapsed": true
   },
   "outputs": [],
   "source": [
    "def do_request(service, a1=None, a2=None, a3=None, **kwargs):\n",
    "    server = 'http://api.gbif.org/v1'\n",
    "    params = ''\n",
    "    for a in [a1, a2, a3]:\n",
    "        if a is not None:\n",
    "            params += '/' + a\n",
    "    req = requests.get('%s/%s%s' % (server, service, params),\n",
    "                       params=kwargs,\n",
    "                       headers={'Content-Type': 'application/json'})\n",
    "    if not req.ok:\n",
    "        req.raise_for_status()\n",
    "    return req.json()"
   ]
  },
  {
   "cell_type": "code",
   "execution_count": 24,
   "metadata": {
    "collapsed": false
   },
   "outputs": [
    {
     "name": "stdout",
     "output_type": "stream",
     "text": [
      "19204\n"
     ]
    },
    {
     "data": {
      "text/plain": [
       "{u'authorship': u'',\n",
       " u'canonicalName': u'Ursus white bear',\n",
       " u'class': u'Mammalia',\n",
       " u'classKey': 106223020,\n",
       " u'datasetKey': u'fab88965-e69d-4491-a04d-e3198b626e52',\n",
       " u'descriptions': [],\n",
       " u'family': u'Ursidae',\n",
       " u'familyKey': 106657396,\n",
       " u'genus': u'Ursus',\n",
       " u'genusKey': 106658119,\n",
       " u'habitats': [],\n",
       " u'higherClassificationMap': {u'106148414': u'Metazoa',\n",
       "  u'106151875': u'Carnivora',\n",
       "  u'106223020': u'Mammalia',\n",
       "  u'106522535': u'Chordata',\n",
       "  u'106657396': u'Ursidae',\n",
       "  u'106658119': u'Ursus'},\n",
       " u'key': 106189791,\n",
       " u'kingdom': u'Metazoa',\n",
       " u'kingdomKey': 106148414,\n",
       " u'nameType': u'SCINAME',\n",
       " u'nomenclaturalStatus': [],\n",
       " u'numDescendants': 0,\n",
       " u'numOccurrences': 0,\n",
       " u'order': u'Carnivora',\n",
       " u'orderKey': 106151875,\n",
       " u'parent': u'Ursus',\n",
       " u'parentKey': 106658119,\n",
       " u'phylum': u'Chordata',\n",
       " u'phylumKey': 106522535,\n",
       " u'rank': u'SPECIES',\n",
       " u'scientificName': u'Ursus sp. Shennongjia white bear',\n",
       " u'species': u'Ursus white bear',\n",
       " u'speciesKey': 106189791,\n",
       " u'synonym': False,\n",
       " u'taxonID': u'373678',\n",
       " u'threatStatuses': [],\n",
       " u'vernacularNames': []}"
      ]
     },
     "execution_count": 24,
     "metadata": {},
     "output_type": "execute_result"
    }
   ],
   "source": [
    "req = do_request('species', 'search', q='bear')\n",
    "print(req['count'])\n",
    "req['results'][0]"
   ]
  },
  {
   "cell_type": "code",
   "execution_count": 29,
   "metadata": {
    "collapsed": false
   },
   "outputs": [
    {
     "name": "stdout",
     "output_type": "stream",
     "text": [
      "645\n",
      "{u'nameType': u'WELLFORMED', u'family': u'Ursidae', u'nubKey': 9681, u'rank': u'FAMILY', u'phylum': u'Chordata', u'orderKey': 143045479, u'higherClassificationMap': {u'143045479': u'Carnivora', u'143035196': u'Chordata', u'116630539': u'Animalia', u'143045262': u'Mammalia'}, u'extinct': False, u'vernacularNames': [{u'language': u'eng', u'vernacularName': u'Bear'}], u'classKey': 143045262, u'habitats': [], u'familyKey': 110503853, u'kingdom': u'Animalia', u'parent': u'Carnivora', u'kingdomKey': 116630539, u'taxonID': u'1599257', u'canonicalName': u'Ursidae', u'key': 110503853, u'authorship': u'G. Fischer de Waldheim, 1817', u'nomenclaturalStatus': [], u'phylumKey': 143035196, u'class': u'Mammalia', u'numOccurrences': 0, u'synonym': False, u'datasetKey': u'cbb6498e-8927-405a-916b-576d00a6289b', u'threatStatuses': [], u'numDescendants': 35, u'scientificName': u'Ursidae G. Fischer de Waldheim, 1817', u'parentKey': 143045479, u'order': u'Carnivora', u'descriptions': [{u'description': u'Below follows a list of the different species of bears. Bears indented are a subspecies or type of the species listed above it that is non-indented.'}, {u'description': u'American Black Bear Cinnamon Bear Kermode Bear Asiatic Black Bear Baluchistan Bear or Pakistan Black Bear Formosan black bear Brown bear Atlas bear Bergman\\'s bear Blue bear Eurasian brown bear European brown bear Gobi bear Grizzly bear Himalayan brown bear Nandi bear Ussuri brown bear Kamchatka brown bear Kodiak bear Marsican brown bear (critically endangered) Mexican grizzly bear East Siberian brown bear Syrian brown bear Giant Panda Qinling Panda Sloth bear Sri Lankan sloth bear Sun bear Polar bear Ursid hybrid Grizzly\\u2013polar bear hybrid Spectacled Bear Extinct bear species Agriotherium Tremarctos floridanus Florida spectacled bear Ailuropoda microta Dwarf Giant Panda Ursus Arctos Californicus \"California Grizzly Bear\"'}]}\n"
     ]
    }
   ],
   "source": [
    "req = do_request('species', 'search', q='bear', rank='family')\n",
    "print(req['count'])\n",
    "bears = req['results'][0]\n",
    "print(bears)"
   ]
  },
  {
   "cell_type": "code",
   "execution_count": 53,
   "metadata": {
    "collapsed": false,
    "scrolled": false
   },
   "outputs": [],
   "source": [
    "def get_all_records(rec_field, service, a1=None, a2=None, a3=None, **kwargs):\n",
    "    records = []\n",
    "    all_done = False\n",
    "    offset = 0\n",
    "    num_iter = 0\n",
    "    while not all_done and num_iter < 10:\n",
    "        req = do_request(service, a1=a1, a2=a2, a3=a3, offset=offset, **kwargs)\n",
    "        all_done = req['endOfRecords']\n",
    "        offset += req['limit']\n",
    "        records.extend(req[rec_field])\n",
    "        num_iter += 1\n",
    "    return records\n",
    "\n",
    "records = get_all_records('results', 'species', str(bears['nubKey']), 'children')"
   ]
  },
  {
   "cell_type": "code",
   "execution_count": 54,
   "metadata": {
    "collapsed": false
   },
   "outputs": [],
   "source": [
    "def get_leaves(nub):\n",
    "    leaves = []\n",
    "    recs = get_all_records('results', 'species', str(nub), 'children')\n",
    "    if len(recs) == 0:\n",
    "        return None\n",
    "    for rec in recs:\n",
    "        rec_leaves = get_leaves(rec['nubKey'])\n",
    "        if rec_leaves is None:\n",
    "            leaves.append(rec)\n",
    "        else:\n",
    "            print(len(rec_leaves))\n",
    "            leaves.extend(rec_leaves)\n",
    "    return leaves"
   ]
  },
  {
   "cell_type": "code",
   "execution_count": 55,
   "metadata": {
    "collapsed": false
   },
   "outputs": [
    {
     "name": "stdout",
     "output_type": "stream",
     "text": [
      "5\n",
      "1\n",
      "2\n",
      "2\n",
      "2\n",
      "8\n",
      "2\n",
      "2\n",
      "3\n",
      "2\n",
      "2\n",
      "4\n",
      "16\n",
      "16\n",
      "7\n",
      "44\n"
     ]
    }
   ],
   "source": [
    "leaves = get_leaves(bears['nubKey'])"
   ]
  },
  {
   "cell_type": "code",
   "execution_count": 80,
   "metadata": {
    "collapsed": false,
    "scrolled": false
   },
   "outputs": [
    {
     "name": "stdout",
     "output_type": "stream",
     "text": [
      "{u'origin': u'SOURCE', u'nameType': u'WELLFORMED', u'family': u'Ursidae', u'nubKey': 4833637, u'lastInterpreted': u'2014-11-03T15:22:26.302+0000', u'accordingTo': u'Interim Register of Marine and Nonmarine Genera', u'rank': u'GENUS', u'phylum': u'Chordata', u'orderKey': 732, u'taxonomicStatus': u'ACCEPTED', u'issues': [], u'classKey': 359, u'familyKey': 9681, u'kingdom': u'Animalia', u'parent': u'Ursidae', u'kingdomKey': 1, u'taxonID': u'101710437', u'genusKey': 4833637, u'canonicalName': u'Agriarctos', u'key': 4833637, u'authorship': u'Kretzoi, 1942', u'nomenclaturalStatus': [], u'phylumKey': 44, u'class': u'Mammalia', u'synonym': False, u'datasetKey': u'd7dddbf4-2cf0-4f39-9b2a-bb099caae36c', u'publishedIn': u'F\\xf6ldt. K\\xf6zl. , Budapest, 72, 257, 350.', u'modified': u'2013-02-08T03:15:41.847+0000', u'numDescendants': 0, u'scientificName': u'Agriarctos Kretzoi, 1942', u'genus': u'Agriarctos', u'parentKey': 9681, u'order': u'Carnivora'}\n",
      "Agriarctos Kretzoi, 1942 GENUS\n",
      "{u'sourceTaxonKey': 101710437, u'extinct': True}\n",
      "Ailurarctos Qiu Zhanxiang & Qi Guoquin, 1989 GENUS\n",
      "{u'sourceTaxonKey': 101357830, u'extinct': True}\n",
      "Ailuropoda baconi SPECIES\n",
      "Ailuropoda fovealis SPECIES\n",
      "Ailuropoda melanoleuca (David, 1869) SPECIES\n",
      "   Bamboo Bear\n",
      "{u'sourceTaxonKey': 136355785, u'extinct': False, u'marine': False}\n",
      "Ailuropoda microta SPECIES\n",
      "Ailuropoda wulingshanensis SPECIES\n",
      "Cynodon helveticus SPECIES\n",
      "Arctodus pristinus SPECIES\n",
      "Arctodus simus SPECIES\n",
      "Harpaleocyon Hürzeler, 1944 GENUS\n",
      "Helarctos malayanus euryspilus Horsfield, 1825 SUBSPECIES\n",
      "Helarctos malayanus subsp. malayanus SUBSPECIES\n",
      "Hyaenarctos Owen, 1845 GENUS\n",
      "Indarctos anthracitis SPECIES\n",
      "Indarctos arctoides SPECIES\n",
      "Indarctos atticus SPECIES\n",
      "Indarctos nevadensis SPECIES\n",
      "Indarctos oregonensis SPECIES\n",
      "Indarctos salmontanus SPECIES\n",
      "Indarctos vireti SPECIES\n",
      "Indarctos zdanskyi SPECIES\n",
      "Melursus ursinus inornatus Pucheran, 1855 SUBSPECIES\n",
      "   Sri Lankan Sloth Bear\n",
      "Melursus ursinus ursinus (Shaw, 1791) SUBSPECIES\n",
      "Metarctos Gaudry, 1860 GENUS\n",
      "Myadus GENUS\n",
      "Pararctotherium Ameghino, 1904 GENUS\n",
      "{u'sourceTaxonKey': 102285947, u'extinct': True}\n",
      "Phoberocyon aurelianensis SPECIES\n",
      "Phoberocyon huerzeleri SPECIES\n",
      "Phoberocyon johnhenryi SPECIES\n",
      "Plionarctos edensis SPECIES\n",
      "Plionarctos harroldorum SPECIES\n",
      "Thalarctos Gray, 1825 GENUS\n",
      "{u'sourceTaxonKey': 101037723, u'extinct': False, u'marine': False}\n",
      "Thaumastocyon GENUS\n",
      "Tremarctos floridanus SPECIES\n",
      "Tremarctos ornatus (F. G. Cuvier, 1825) SPECIES\n",
      "   Spectacled Bear\n",
      "{u'sourceTaxonKey': 135176257, u'extinct': False, u'marine': False}\n",
      "Ursavus brevirhinus SPECIES\n",
      "Ursavus elmensis SPECIES\n",
      "Ursavus pawniensis SPECIES\n",
      "Ursavus primaevus SPECIES\n",
      "Ursus abstrusus SPECIES\n",
      "Ursus americanus altifrontalis Elliot, 1903 SUBSPECIES\n",
      "Ursus americanus amblyceps Baird, 1859 SUBSPECIES\n",
      "Ursus americanus californiensis Miller, 1900 SUBSPECIES\n",
      "Ursus americanus carlottae Osgood, 1901 SUBSPECIES\n",
      "   Haida Gwaii Black Bear\n",
      "Ursus americanus cinnamomum Audubon & Bachman, 1854 SUBSPECIES\n",
      "   Cinnamon bear\n",
      "Ursus americanus emmonsii Dall, 1895 SUBSPECIES\n",
      "   Glacier bear\n",
      "Ursus americanus eremicus Merriam, 1904 SUBSPECIES\n",
      "Ursus americanus floridanus Merriam, 1896 SUBSPECIES\n",
      "   Florida black bear\n",
      "Ursus americanus hamiltoni Cameron, 1957 SUBSPECIES\n",
      "   Newfoundland Black Bear\n",
      "Ursus americanus kermodei Hornaday, 1905 SUBSPECIES\n",
      "   Kermode bear\n",
      "Ursus americanus luteolus Griffith, 1821 SUBSPECIES\n",
      "Ursus americanus machetes Elliot, 1903 SUBSPECIES\n",
      "Ursus americanus perniger J. A. Allen, 1910 SUBSPECIES\n",
      "Ursus americanus pugnax Swarth, 1911 SUBSPECIES\n",
      "Ursus americanus subsp. americanus SUBSPECIES\n",
      "Ursus americanus vancouveri Hall, 1928 SUBSPECIES\n",
      "Ursus arctos alascensis Merriam, 1896 SUBSPECIES\n",
      "Ursus arctos beringianus Middendorff, 1851 SUBSPECIES\n",
      "   Kamchatka brown bear\n",
      "Ursus arctos californicus Merriam, 1896 SUBSPECIES\n",
      "   California grizzly bear\n",
      "Ursus arctos collaris F. G. Cuvier, 1824 SUBSPECIES\n",
      "   East Siberian Brown Bear\n",
      "Ursus arctos crowtheri Schinz, 1844 SUBSPECIES\n",
      "   Atlas bear\n",
      "Ursus arctos dalli Merriam, 1896 SUBSPECIES\n",
      "Ursus arctos gyas Merriam, 1902 SUBSPECIES\n",
      "Ursus arctos horribilis Ord, 1815 SUBSPECIES\n",
      "   Alaska Peninsula Brown Bear\n",
      "Ursus arctos isabellinus Horsfield, 1826 SUBSPECIES\n",
      "   Himalayan Brown Bear\n",
      "Ursus arctos lasiotus Gray, 1867 SUBSPECIES\n",
      "   Ussuri Brown Bear\n",
      "Ursus arctos middendorffi Merriam, 1896 SUBSPECIES\n",
      "   Kodiak bear\n",
      "Ursus arctos pruinosus Blyth, 1854 SUBSPECIES\n",
      "Ursus arctos sitkensis Merriam, 1896 SUBSPECIES\n",
      "   ABC Brown Bears\n",
      "Ursus arctos stikeenensis Merriam, 1914 SUBSPECIES\n",
      "Ursus arctos subsp. arctos SUBSPECIES\n",
      "   Eurasian brown bear\n",
      "Ursus arctos syriacus Hemprich & Ehrenberg, 1828 SUBSPECIES\n",
      "   Syrian brown bear\n",
      "Ursus inopinatus SPECIES\n",
      "   MacFarlane s bear\n",
      "Ursus malayanus SPECIES\n",
      "Ursus maritimus Phipps, 1774 SPECIES\n",
      "   Polar Bear\n",
      "{u'sourceTaxonKey': 136013739, u'extinct': False, u'marine': True}\n",
      "Ursus spelaeus Rosenmüller & Heinroth SPECIES\n",
      "   Cave bear\n",
      "{u'sourceTaxonKey': 136000260, u'extinct': False, u'marine': False}\n",
      "Ursus thibetanus formosanus Swinhoe, 1864 SUBSPECIES\n",
      "   Formosan black bear\n",
      "Ursus thibetanus gedrosianus Blanford, 1877 SUBSPECIES\n",
      "   Baluchistan Bear\n",
      "Ursus thibetanus japonicus Schlegel, 1857 SUBSPECIES\n",
      "Ursus thibetanus laniger (Pocock, 1932) SUBSPECIES\n",
      "Ursus thibetanus mupinensis (Heude, 1901) SUBSPECIES\n",
      "Ursus thibetanus subsp. thibetanus SUBSPECIES\n",
      "Ursus thibetanus ussuricus (Heude, 1901) SUBSPECIES\n"
     ]
    }
   ],
   "source": [
    "print(leaves[0])\n",
    "#[leaf['nameType'] for leaf in leaves]\n",
    "for rec in leaves:\n",
    "    print(rec['scientificName'], rec['rank'])\n",
    "    vernaculars = do_request('species', str(rec['nubKey']), 'vernacularNames', language='en')['results']\n",
    "    for vernacular in vernaculars:\n",
    "        if vernacular['language'] == 'eng':\n",
    "            print('   ' + vernacular['vernacularName'])\n",
    "            break\n",
    "    profile = do_request('species', str(rec['nubKey']), 'speciesProfiles')['results']\n",
    "    if len(profile) == 0:\n",
    "        continue\n",
    "    my_profile = profile[0]  # we take the first\n",
    "    print(my_profile)"
   ]
  },
  {
   "cell_type": "code",
   "execution_count": null,
   "metadata": {
    "collapsed": true
   },
   "outputs": [],
   "source": []
  }
 ],
 "metadata": {
  "kernelspec": {
   "display_name": "Python 2",
   "language": "python",
   "name": "python2"
  },
  "language_info": {
   "codemirror_mode": {
    "name": "ipython",
    "version": 2
   },
   "file_extension": ".py",
   "mimetype": "text/x-python",
   "name": "python",
   "nbconvert_exporter": "python",
   "pygments_lexer": "ipython2",
   "version": "2.7.9"
  }
 },
 "nbformat": 4,
 "nbformat_minor": 0
}
