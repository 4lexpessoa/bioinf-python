{
 "metadata": {
  "name": "",
  "signature": "sha256:098eb7c6eb317d2ffca694cfce1f4fd8443c2c549284e246e3615fa1db820de8"
 },
 "nbformat": 3,
 "nbformat_minor": 0,
 "worksheets": [
  {
   "cells": [
    {
     "cell_type": "heading",
     "level": 2,
     "metadata": {},
     "source": [
      "Data download"
     ]
    },
    {
     "cell_type": "code",
     "collapsed": false,
     "input": [
      "!wget http://hapmap.ncbi.nlm.nih.gov/downloads/genotypes/hapmap3/plink_format/draft_2/hapmap3_r2_b36_fwd.consensus.qc.poly.map.bz2\n",
      "!wget http://hapmap.ncbi.nlm.nih.gov/downloads/genotypes/hapmap3/plink_format/draft_2/hapmap3_r2_b36_fwd.consensus.qc.poly.ped.bz2\n",
      "\n",
      "!wget http://hapmap.ncbi.nlm.nih.gov/downloads/genotypes/hapmap3/plink_format/draft_2/relationships_w_pops_121708.txt"
     ],
     "language": "python",
     "metadata": {},
     "outputs": []
    },
    {
     "cell_type": "code",
     "collapsed": false,
     "input": [
      "!bunzip2 hapmap3_r2_b36_fwd.consensus.qc.poly.map.bz2\n",
      "!bunzip2 hapmap3_r2_b36_fwd.consensus.qc.poly.ped.bz2"
     ],
     "language": "python",
     "metadata": {},
     "outputs": [],
     "prompt_number": 1
    },
    {
     "cell_type": "heading",
     "level": 1,
     "metadata": {},
     "source": [
      "Preparation"
     ]
    },
    {
     "cell_type": "code",
     "collapsed": false,
     "input": [
      "import os\n",
      "from collections import defaultdict\n",
      "from genomics.popgen.plink.convert import to_genepop"
     ],
     "language": "python",
     "metadata": {},
     "outputs": [],
     "prompt_number": 2
    },
    {
     "cell_type": "heading",
     "level": 2,
     "metadata": {},
     "source": [
      "Loading HapMap meta-data"
     ]
    },
    {
     "cell_type": "code",
     "collapsed": false,
     "input": [
      "f = open('relationships_w_pops_121708.txt')\n",
      "pop_ind = defaultdict(list)\n",
      "f.readline()  # header\n",
      "offspring = []\n",
      "for l in f:\n",
      "    toks = l.rstrip().split('\\t')\n",
      "    fam_id = toks[0]\n",
      "    ind_id = toks[1]\n",
      "    mom = toks[2]\n",
      "    dad = toks[3]\n",
      "    if mom != '0' or dad != '0':\n",
      "        offspring.append((fam_id, ind_id))\n",
      "    pop = toks[-1]\n",
      "    pop_ind[pop].append((fam_id, ind_id))"
     ],
     "language": "python",
     "metadata": {},
     "outputs": [],
     "prompt_number": 25
    },
    {
     "cell_type": "heading",
     "level": 2,
     "metadata": {},
     "source": [
      "Checking consistency"
     ]
    },
    {
     "cell_type": "code",
     "collapsed": false,
     "input": [
      "all_inds = []\n",
      "for inds in pop_ind.values():\n",
      "    all_inds.extend(inds)\n",
      "for l in open('hapmap3_r2_b36_fwd.consensus.qc.poly.ped'):\n",
      "    toks = l.rstrip().split('\\t')\n",
      "    fam = toks[0]\n",
      "    ind = toks[1]\n",
      "    if (fam, ind) not in all_inds:\n",
      "        print('Problems with %s/%s' % (fam, ind))"
     ],
     "language": "python",
     "metadata": {},
     "outputs": [
      {
       "output_type": "stream",
       "stream": "stdout",
       "text": [
        "Problems with 2469/NA20281\n"
       ]
      }
     ],
     "prompt_number": 24
    },
    {
     "cell_type": "heading",
     "level": 2,
     "metadata": {},
     "source": [
      "Sub-sampling"
     ]
    },
    {
     "cell_type": "code",
     "collapsed": false,
     "input": [
      "os.system('plink --recode --file hapmap3_r2_b36_fwd.consensus.qc.poly --noweb --out hapmap10 --thin 0.1')\n",
      "os.system('plink --recode --file hapmap3_r2_b36_fwd.consensus.qc.poly --noweb --out hapmap1 --thin 0.01')\n",
      "#!plink --recode --file hapmap3_r2_b36_fwd.consensus.qc.poly --noweb --out hapmap10 --thin 0.1\n",
      "#suggest make-bed"
     ],
     "language": "python",
     "metadata": {},
     "outputs": [
      {
       "metadata": {},
       "output_type": "pyout",
       "prompt_number": 29,
       "text": [
        "0"
       ]
      }
     ],
     "prompt_number": 29
    },
    {
     "cell_type": "heading",
     "level": 2,
     "metadata": {},
     "source": [
      "Getting only autosomal data"
     ]
    },
    {
     "cell_type": "code",
     "collapsed": false,
     "input": [
      "def get_non_auto_SNPs(map_file, exclude_file):\n",
      "    f = open(map_file)\n",
      "    w = open(exclude_file, 'w')\n",
      "    for l in f:\n",
      "        toks = l.rstrip().split('\\t')\n",
      "        chrom = int(toks[0])\n",
      "        rs = toks[1]\n",
      "        if chrom > 22:\n",
      "            w.write('%s\\n' % rs)\n",
      "    w.close()"
     ],
     "language": "python",
     "metadata": {},
     "outputs": [],
     "prompt_number": 30
    },
    {
     "cell_type": "code",
     "collapsed": false,
     "input": [
      "get_non_auto_SNPs('hapmap10.map', 'exclude10.txt')\n",
      "get_non_auto_SNPs('hapmap1.map', 'exclude1.txt')\n",
      "get_non_auto_SNPs('hapmap3_r2_b36_fwd.consensus.qc.poly.map', 'exclude.txt')"
     ],
     "language": "python",
     "metadata": {},
     "outputs": [],
     "prompt_number": 31
    },
    {
     "cell_type": "code",
     "collapsed": false,
     "input": [
      "!plink --recode --file hapmap10 --noweb --out hapmap10_auto --exclude exclude10.txt\n",
      "!plink --recode --file hapmap1 --noweb --out hapmap1_auto --exclude exclude1.txt\n",
      "!plink --recode --file hapmap3_r2_b36_fwd.consensus.qc.poly --noweb --out hapmap_auto --exclude exclude.txt"
     ],
     "language": "python",
     "metadata": {},
     "outputs": [
      {
       "output_type": "stream",
       "stream": "stdout",
       "text": [
        "PLINK v1.90b2t 64-bit (20 Dec 2014)        https://www.cog-genomics.org/plink2\r\n",
        "(C) 2005-2014 Shaun Purcell, Christopher Chang   GNU General Public License v3\r\n",
        "Logging to hapmap10_auto.log.\r\n",
        "Note: --noweb has no effect since no web check is implemented yet.\r\n",
        "32095 MB RAM detected; reserving 16047 MB for main workspace.\r\n",
        "Scanning .ped file... 0%\b\b1%\b\b1%\b\b1%\b\b1%\b\b1%\b\b1%\b\b1%"
       ]
      },
      {
       "output_type": "stream",
       "stream": "stdout",
       "text": [
        "\b\b1%\b\b1%\b\b1%\b\b1%\b\b1%\b\b2%\b\b2%\b\b2%\b\b2%\b\b2%\b\b2%\b\b2%\b\b2%\b\b2%\b\b2%\b\b2%\b\b2%\b\b3%\b\b3%\b\b3%\b\b3%\b\b3%\b\b3%\b\b3%"
       ]
      },
      {
       "output_type": "stream",
       "stream": "stdout",
       "text": [
        "\b\b3%\b\b3%\b\b3%\b\b3%\b\b3%\b\b4%\b\b4%\b\b4%\b\b4%\b\b4%\b\b4%\b\b4%\b\b4%\b\b4%\b\b4%\b\b4%\b\b4%\b\b5%\b\b5%\b\b5%\b\b5%\b\b5%\b\b5%\b\b5%"
       ]
      },
      {
       "output_type": "stream",
       "stream": "stdout",
       "text": [
        "\b\b5%\b\b5%\b\b5%\b\b5%\b\b5%\b\b6%\b\b6%\b\b6%\b\b6%\b\b6%\b\b6%\b\b6%\b\b6%\b\b6%\b\b6%\b\b6%\b\b7%\b\b7%\b\b7%\b\b7%\b\b7%\b\b7%\b\b7%"
       ]
      },
      {
       "output_type": "stream",
       "stream": "stdout",
       "text": [
        "\b\b7%\b\b7%\b\b7%\b\b7%\b\b7%\b\b8%\b\b8%\b\b8%\b\b8%\b\b8%\b\b8%\b\b8%\b\b8%\b\b8%\b\b8%\b\b8%\b\b8%\b\b9%\b\b9%\b\b9%\b\b9%\b\b9%\b\b9%"
       ]
      },
      {
       "output_type": "stream",
       "stream": "stdout",
       "text": [
        "\b\b9%\b\b9%\b\b9%\b\b9%\b\b9%\b\b9%\b\b10%\b\b\b10%\b\b\b10%\b\b\b10%\b\b\b10%\b\b\b10%\b\b\b10%\b\b\b10%\b\b\b10%\b\b\b10%\b\b\b10%\b\b\b10%\b\b\b11%\b\b\b11%\b\b\b11%\b\b\b11%\b\b\b11%\b\b\b11%"
       ]
      },
      {
       "output_type": "stream",
       "stream": "stdout",
       "text": [
        "\b\b\b11%\b\b\b11%\b\b\b11%\b\b\b11%\b\b\b11%\b\b\b11%\b\b\b12%\b\b\b12%\b\b\b12%\b\b\b12%\b\b\b12%\b\b\b12%\b\b\b12%\b\b\b12%\b\b\b12%\b\b\b12%\b\b\b12%\b\b\b13%\b\b\b13%\b\b\b13%\b\b\b13%\b\b\b13%"
       ]
      },
      {
       "output_type": "stream",
       "stream": "stdout",
       "text": [
        "\b\b\b13%\b\b\b13%\b\b\b13%\b\b\b13%\b\b\b13%\b\b\b13%\b\b\b13%\b\b\b14%\b\b\b14%\b\b\b14%\b\b\b14%\b\b\b14%\b\b\b14%\b\b\b14%\b\b\b14%\b\b\b14%\b\b\b14%\b\b\b14%\b\b\b14%\b\b\b15%\b\b\b15%\b\b\b15%\b\b\b15%\b\b\b15%\b\b\b15%"
       ]
      },
      {
       "output_type": "stream",
       "stream": "stdout",
       "text": [
        "\b\b\b15%\b\b\b15%\b\b\b15%\b\b\b15%\b\b\b15%\b\b\b15%\b\b\b16%\b\b\b16%\b\b\b16%\b\b\b16%\b\b\b16%\b\b\b16%\b\b\b16%\b\b\b16%\b\b\b16%\b\b\b16%\b\b\b16%\b\b\b16%\b\b\b17%\b\b\b17%\b\b\b17%\b\b\b17%\b\b\b17%\b\b\b17%"
       ]
      },
      {
       "output_type": "stream",
       "stream": "stdout",
       "text": [
        "\b\b\b17%\b\b\b17%\b\b\b17%\b\b\b17%\b\b\b17%\b\b\b17%\b\b\b18%\b\b\b18%\b\b\b18%\b\b\b18%\b\b\b18%\b\b\b18%\b\b\b18%\b\b\b18%\b\b\b18%\b\b\b18%\b\b\b18%\b\b\b19%\b\b\b19%\b\b\b19%\b\b\b19%\b\b\b19%\b\b\b19%\b\b\b19%"
       ]
      },
      {
       "output_type": "stream",
       "stream": "stdout",
       "text": [
        "\b\b\b19%\b\b\b19%\b\b\b19%\b\b\b19%\b\b\b19%\b\b\b20%\b\b\b20%\b\b\b20%\b\b\b20%\b\b\b20%\b\b\b20%\b\b\b20%\b\b\b20%\b\b\b20%\b\b\b20%\b\b\b20%\b\b\b20%\b\b\b21%\b\b\b21%\b\b\b21%\b\b\b21%\b\b\b21%\b\b\b21%\b\b\b21%\b\b\b21%"
       ]
      },
      {
       "output_type": "stream",
       "stream": "stdout",
       "text": [
        "\b\b\b21%\b\b\b21%\b\b\b21%\b\b\b21%\b\b\b22%\b\b\b22%\b\b\b22%\b\b\b22%\b\b\b22%\b\b\b22%\b\b\b22%\b\b\b22%\b\b\b22%\b\b\b22%\b\b\b22%\b\b\b22%\b\b\b23%\b\b\b23%\b\b\b23%\b\b\b23%\b\b\b23%\b\b\b23%\b\b\b23%\b\b\b23%"
       ]
      },
      {
       "output_type": "stream",
       "stream": "stdout",
       "text": [
        "\b\b\b23%\b\b\b23%\b\b\b23%\b\b\b23%\b\b\b24%\b\b\b24%\b\b\b24%\b\b\b24%\b\b\b24%\b\b\b24%\b\b\b24%\b\b\b24%\b\b\b24%\b\b\b24%\b\b\b24%\b\b\b25%\b\b\b25%\b\b\b25%\b\b\b25%\b\b\b25%\b\b\b25%\b\b\b25%\b\b\b25%\b\b\b25%"
       ]
      },
      {
       "output_type": "stream",
       "stream": "stdout",
       "text": [
        "\b\b\b25%\b\b\b25%\b\b\b25%\b\b\b26%\b\b\b26%\b\b\b26%\b\b\b26%\b\b\b26%\b\b\b26%\b\b\b26%\b\b\b26%\b\b\b26%\b\b\b26%\b\b\b26%\b\b\b26%\b\b\b27%\b\b\b27%\b\b\b27%\b\b\b27%\b\b\b27%\b\b\b27%\b\b\b27%\b\b\b27%\b\b\b27%"
       ]
      },
      {
       "output_type": "stream",
       "stream": "stdout",
       "text": [
        "\b\b\b27%\b\b\b27%\b\b\b27%\b\b\b28%\b\b\b28%\b\b\b28%\b\b\b28%\b\b\b28%\b\b\b28%\b\b\b28%\b\b\b28%\b\b\b28%\b\b\b28%\b\b\b28%\b\b\b28%\b\b\b29%\b\b\b29%\b\b\b29%\b\b\b29%\b\b\b29%\b\b\b29%\b\b\b29%\b\b\b29%\b\b\b29%"
       ]
      },
      {
       "output_type": "stream",
       "stream": "stdout",
       "text": [
        "\b\b\b29%\b\b\b29%\b\b\b29%\b\b\b30%\b\b\b30%\b\b\b30%\b\b\b30%\b\b\b30%\b\b\b30%\b\b\b30%\b\b\b30%\b\b\b30%\b\b\b30%\b\b\b30%\b\b\b30%\b\b\b31%\b\b\b31%\b\b\b31%\b\b\b31%\b\b\b31%\b\b\b31%\b\b\b31%\b\b\b31%\b\b\b31%\b\b\b31%"
       ]
      },
      {
       "output_type": "stream",
       "stream": "stdout",
       "text": [
        "\b\b\b31%\b\b\b32%\b\b\b32%\b\b\b32%\b\b\b32%\b\b\b32%\b\b\b32%\b\b\b32%\b\b\b32%\b\b\b32%\b\b\b32%\b\b\b32%\b\b\b32%\b\b\b33%\b\b\b33%\b\b\b33%\b\b\b33%\b\b\b33%\b\b\b33%\b\b\b33%\b\b\b33%\b\b\b33%\b\b\b33%\b\b\b33%"
       ]
      },
      {
       "output_type": "stream",
       "stream": "stdout",
       "text": [
        "\b\b\b33%\b\b\b34%\b\b\b34%\b\b\b34%\b\b\b34%\b\b\b34%\b\b\b34%\b\b\b34%\b\b\b34%\b\b\b34%\b\b\b34%\b\b\b34%\b\b\b34%\b\b\b35%\b\b\b35%\b\b\b35%\b\b\b35%\b\b\b35%\b\b\b35%\b\b\b35%\b\b\b35%\b\b\b35%\b\b\b35%\b\b\b35%"
       ]
      },
      {
       "output_type": "stream",
       "stream": "stdout",
       "text": [
        "\b\b\b35%\b\b\b36%\b\b\b36%\b\b\b36%\b\b\b36%\b\b\b36%\b\b\b36%\b\b\b36%\b\b\b36%\b\b\b36%\b\b\b36%\b\b\b36%\b\b\b36%\b\b\b37%\b\b\b37%\b\b\b37%\b\b\b37%\b\b\b37%\b\b\b37%\b\b\b37%\b\b\b37%\b\b\b37%\b\b\b37%\b\b\b37%"
       ]
      },
      {
       "output_type": "stream",
       "stream": "stdout",
       "text": [
        "\b\b\b38%\b\b\b38%\b\b\b38%\b\b\b38%\b\b\b38%\b\b\b38%\b\b\b38%\b\b\b38%\b\b\b38%\b\b\b38%\b\b\b38%\b\b\b38%\b\b\b39%\b\b\b39%\b\b\b39%\b\b\b39%\b\b\b39%\b\b\b39%\b\b\b39%\b\b\b39%\b\b\b39%\b\b\b39%\b\b\b39%\b\b\b39%"
       ]
      },
      {
       "output_type": "stream",
       "stream": "stdout",
       "text": [
        "\b\b\b40%\b\b\b40%\b\b\b40%\b\b\b40%\b\b\b40%\b\b\b40%\b\b\b40%\b\b\b40%\b\b\b40%\b\b\b40%\b\b\b40%\b\b\b40%\b\b\b41%\b\b\b41%\b\b\b41%\b\b\b41%\b\b\b41%\b\b\b41%\b\b\b41%\b\b\b41%\b\b\b41%\b\b\b41%\b\b\b41%\b\b\b41%\b\b\b42%"
       ]
      },
      {
       "output_type": "stream",
       "stream": "stdout",
       "text": [
        "\b\b\b42%\b\b\b42%\b\b\b42%\b\b\b42%\b\b\b42%\b\b\b42%\b\b\b42%\b\b\b42%\b\b\b42%\b\b\b42%\b\b\b42%\b\b\b43%\b\b\b43%\b\b\b43%\b\b\b43%\b\b\b43%\b\b\b43%\b\b\b43%\b\b\b43%\b\b\b43%\b\b\b43%\b\b\b43%\b\b\b44%\b\b\b44%"
       ]
      },
      {
       "output_type": "stream",
       "stream": "stdout",
       "text": [
        "\b\b\b44%\b\b\b44%\b\b\b44%\b\b\b44%\b\b\b44%\b\b\b44%\b\b\b44%\b\b\b44%\b\b\b44%\b\b\b44%\b\b\b45%\b\b\b45%\b\b\b45%\b\b\b45%\b\b\b45%\b\b\b45%\b\b\b45%\b\b\b45%\b\b\b45%\b\b\b45%\b\b\b45%\b\b\b45%\b\b\b46%\b\b\b46%"
       ]
      },
      {
       "output_type": "stream",
       "stream": "stdout",
       "text": [
        "\b\b\b46%\b\b\b46%\b\b\b46%\b\b\b46%\b\b\b46%\b\b\b46%\b\b\b46%\b\b\b46%\b\b\b46%\b\b\b46%\b\b\b47%\b\b\b47%\b\b\b47%\b\b\b47%\b\b\b47%\b\b\b47%\b\b\b47%\b\b\b47%\b\b\b47%\b\b\b47%\b\b\b47%\b\b\b47%\b\b\b48%\b\b\b48%\b\b\b48%"
       ]
      },
      {
       "output_type": "stream",
       "stream": "stdout",
       "text": [
        "\b\b\b48%\b\b\b48%\b\b\b48%\b\b\b48%\b\b\b48%\b\b\b48%\b\b\b48%\b\b\b48%\b\b\b48%\b\b\b49%\b\b\b49%\b\b\b49%\b\b\b49%\b\b\b49%\b\b\b49%\b\b\b49%\b\b\b49%\b\b\b49%\b\b\b49%\b\b\b49%\b\b\b50%\b\b\b50%\b\b\b50%"
       ]
      },
      {
       "output_type": "stream",
       "stream": "stdout",
       "text": [
        "\b\b\b50%\b\b\b50%\b\b\b50%\b\b\b50%\b\b\b50%\b\b\b50%\b\b\b50%\b\b\b50%\b\b\b50%\b\b\b51%\b\b\b51%\b\b\b51%\b\b\b51%\b\b\b51%\b\b\b51%\b\b\b51%\b\b\b51%\b\b\b51%\b\b\b51%\b\b\b51%\b\b\b51%\b\b\b52%\b\b\b52%\b\b\b52%"
       ]
      },
      {
       "output_type": "stream",
       "stream": "stdout",
       "text": [
        "\b\b\b52%\b\b\b52%\b\b\b52%\b\b\b52%\b\b\b52%\b\b\b52%\b\b\b52%\b\b\b52%\b\b\b52%\b\b\b53%\b\b\b53%\b\b\b53%\b\b\b53%\b\b\b53%\b\b\b53%\b\b\b53%\b\b\b53%\b\b\b53%\b\b\b53%\b\b\b53%\b\b\b53%\b\b\b54%\b\b\b54%\b\b\b54%\b\b\b54%"
       ]
      },
      {
       "output_type": "stream",
       "stream": "stdout",
       "text": [
        "\b\b\b54%\b\b\b54%\b\b\b54%\b\b\b54%\b\b\b54%\b\b\b54%\b\b\b54%\b\b\b54%\b\b\b55%\b\b\b55%\b\b\b55%\b\b\b55%\b\b\b55%\b\b\b55%\b\b\b55%\b\b\b55%\b\b\b55%\b\b\b55%\b\b\b55%\b\b\b55%\b\b\b56%\b\b\b56%\b\b\b56%\b\b\b56%"
       ]
      },
      {
       "output_type": "stream",
       "stream": "stdout",
       "text": [
        "\b\b\b56%\b\b\b56%\b\b\b56%\b\b\b56%\b\b\b56%\b\b\b56%\b\b\b56%\b\b\b57%\b\b\b57%\b\b\b57%\b\b\b57%\b\b\b57%\b\b\b57%\b\b\b57%\b\b\b57%\b\b\b57%\b\b\b57%\b\b\b57%\b\b\b57%\b\b\b58%\b\b\b58%\b\b\b58%\b\b\b58%\b\b\b58%\b\b\b58%"
       ]
      },
      {
       "output_type": "stream",
       "stream": "stdout",
       "text": [
        "\b\b\b58%\b\b\b58%\b\b\b58%\b\b\b58%\b\b\b58%\b\b\b58%\b\b\b59%\b\b\b59%\b\b\b59%\b\b\b59%\b\b\b59%\b\b\b59%\b\b\b59%\b\b\b59%\b\b\b59%\b\b\b59%\b\b\b59%\b\b\b59%\b\b\b60%\b\b\b60%\b\b\b60%\b\b\b60%\b\b\b60%\b\b\b60%"
       ]
      },
      {
       "output_type": "stream",
       "stream": "stdout",
       "text": [
        "\b\b\b60%\b\b\b60%\b\b\b60%\b\b\b60%\b\b\b60%\b\b\b60%\b\b\b61%\b\b\b61%\b\b\b61%\b\b\b61%\b\b\b61%\b\b\b61%\b\b\b61%\b\b\b61%\b\b\b61%\b\b\b61%\b\b\b61%\b\b\b61%\b\b\b62%\b\b\b62%\b\b\b62%\b\b\b62%\b\b\b62%\b\b\b62%"
       ]
      },
      {
       "output_type": "stream",
       "stream": "stdout",
       "text": [
        "\b\b\b62%\b\b\b62%\b\b\b62%\b\b\b62%\b\b\b62%\b\b\b63%\b\b\b63%\b\b\b63%\b\b\b63%\b\b\b63%\b\b\b63%\b\b\b63%\b\b\b63%\b\b\b63%\b\b\b63%\b\b\b63%\b\b\b63%\b\b\b64%\b\b\b64%\b\b\b64%\b\b\b64%\b\b\b64%\b\b\b64%\b\b\b64%"
       ]
      },
      {
       "output_type": "stream",
       "stream": "stdout",
       "text": [
        "\b\b\b64%\b\b\b64%\b\b\b64%\b\b\b64%\b\b\b64%\b\b\b65%\b\b\b65%\b\b\b65%\b\b\b65%\b\b\b65%\b\b\b65%\b\b\b65%\b\b\b65%\b\b\b65%\b\b\b65%\b\b\b65%\b\b\b65%\b\b\b66%\b\b\b66%\b\b\b66%\b\b\b66%\b\b\b66%\b\b\b66%\b\b\b66%"
       ]
      },
      {
       "output_type": "stream",
       "stream": "stdout",
       "text": [
        "\b\b\b66%\b\b\b66%\b\b\b66%\b\b\b66%\b\b\b66%\b\b\b67%\b\b\b67%\b\b\b67%\b\b\b67%\b\b\b67%\b\b\b67%\b\b\b67%\b\b\b67%\b\b\b67%\b\b\b67%\b\b\b67%\b\b\b67%\b\b\b68%\b\b\b68%\b\b\b68%\b\b\b68%\b\b\b68%\b\b\b68%\b\b\b68%\b\b\b68%"
       ]
      },
      {
       "output_type": "stream",
       "stream": "stdout",
       "text": [
        "\b\b\b68%\b\b\b68%\b\b\b68%\b\b\b69%\b\b\b69%\b\b\b69%\b\b\b69%\b\b\b69%\b\b\b69%\b\b\b69%\b\b\b69%\b\b\b69%\b\b\b69%\b\b\b69%\b\b\b69%\b\b\b70%\b\b\b70%\b\b\b70%\b\b\b70%\b\b\b70%\b\b\b70%\b\b\b70%\b\b\b70%\b\b\b70%\b\b\b70%"
       ]
      },
      {
       "output_type": "stream",
       "stream": "stdout",
       "text": [
        "\b\b\b70%\b\b\b70%\b\b\b71%\b\b\b71%\b\b\b71%\b\b\b71%\b\b\b71%\b\b\b71%\b\b\b71%\b\b\b71%\b\b\b71%\b\b\b71%\b\b\b71%\b\b\b71%\b\b\b72%\b\b\b72%\b\b\b72%\b\b\b72%\b\b\b72%\b\b\b72%\b\b\b72%\b\b\b72%\b\b\b72%\b\b\b72%"
       ]
      },
      {
       "output_type": "stream",
       "stream": "stdout",
       "text": [
        "\b\b\b72%\b\b\b72%\b\b\b73%\b\b\b73%\b\b\b73%\b\b\b73%\b\b\b73%\b\b\b73%\b\b\b73%\b\b\b73%\b\b\b73%\b\b\b73%\b\b\b73%\b\b\b73%\b\b\b74%\b\b\b74%\b\b\b74%\b\b\b74%\b\b\b74%\b\b\b74%\b\b\b74%\b\b\b74%\b\b\b74%\b\b\b74%"
       ]
      },
      {
       "output_type": "stream",
       "stream": "stdout",
       "text": [
        "\b\b\b74%\b\b\b74%\b\b\b75%\b\b\b75%\b\b\b75%\b\b\b75%\b\b\b75%\b\b\b75%\b\b\b75%\b\b\b75%\b\b\b75%\b\b\b75%\b\b\b75%\b\b\b76%\b\b\b76%\b\b\b76%\b\b\b76%\b\b\b76%\b\b\b76%\b\b\b76%\b\b\b76%\b\b\b76%\b\b\b76%\b\b\b76%"
       ]
      },
      {
       "output_type": "stream",
       "stream": "stdout",
       "text": [
        "\b\b\b76%\b\b\b77%\b\b\b77%\b\b\b77%\b\b\b77%\b\b\b77%\b\b\b77%\b\b\b77%\b\b\b77%\b\b\b77%\b\b\b77%\b\b\b77%\b\b\b77%\b\b\b78%\b\b\b78%\b\b\b78%\b\b\b78%\b\b\b78%\b\b\b78%\b\b\b78%\b\b\b78%\b\b\b78%\b\b\b78%\b\b\b78%\b\b\b78%"
       ]
      },
      {
       "output_type": "stream",
       "stream": "stdout",
       "text": [
        "\b\b\b79%\b\b\b79%\b\b\b79%\b\b\b79%\b\b\b79%\b\b\b79%\b\b\b79%\b\b\b79%\b\b\b79%\b\b\b79%\b\b\b79%\b\b\b79%\b\b\b80%\b\b\b80%\b\b\b80%\b\b\b80%\b\b\b80%\b\b\b80%\b\b\b80%\b\b\b80%\b\b\b80%\b\b\b80%\b\b\b80%\b\b\b80%"
       ]
      },
      {
       "output_type": "stream",
       "stream": "stdout",
       "text": [
        "\b\b\b81%\b\b\b81%\b\b\b81%\b\b\b81%\b\b\b81%\b\b\b81%\b\b\b81%\b\b\b81%\b\b\b81%\b\b\b81%\b\b\b81%\b\b\b82%\b\b\b82%\b\b\b82%\b\b\b82%\b\b\b82%\b\b\b82%\b\b\b82%\b\b\b82%\b\b\b82%\b\b\b82%"
       ]
      },
      {
       "output_type": "stream",
       "stream": "stdout",
       "text": [
        "\b\b\b82%\b\b\b82%\b\b\b83%\b\b\b83%\b\b\b83%\b\b\b83%\b\b\b83%\b\b\b83%\b\b\b83%\b\b\b83%\b\b\b83%\b\b\b83%\b\b\b83%\b\b\b83%\b\b\b84%\b\b\b84%\b\b\b84%\b\b\b84%\b\b\b84%\b\b\b84%\b\b\b84%\b\b\b84%\b\b\b84%\b\b\b84%"
       ]
      },
      {
       "output_type": "stream",
       "stream": "stdout",
       "text": [
        "\b\b\b84%\b\b\b84%\b\b\b85%\b\b\b85%\b\b\b85%\b\b\b85%\b\b\b85%\b\b\b85%\b\b\b85%\b\b\b85%\b\b\b85%\b\b\b85%\b\b\b85%\b\b\b85%\b\b\b86%\b\b\b86%\b\b\b86%\b\b\b86%\b\b\b86%\b\b\b86%\b\b\b86%\b\b\b86%\b\b\b86%\b\b\b86%"
       ]
      },
      {
       "output_type": "stream",
       "stream": "stdout",
       "text": [
        "\b\b\b86%\b\b\b86%\b\b\b87%\b\b\b87%\b\b\b87%\b\b\b87%\b\b\b87%\b\b\b87%\b\b\b87%\b\b\b87%\b\b\b87%\b\b\b87%\b\b\b87%\b\b\b88%\b\b\b88%\b\b\b88%\b\b\b88%\b\b\b88%\b\b\b88%\b\b\b88%\b\b\b88%\b\b\b88%\b\b\b88%\b\b\b88%\b\b\b88%"
       ]
      },
      {
       "output_type": "stream",
       "stream": "stdout",
       "text": [
        "\b\b\b89%\b\b\b89%\b\b\b89%\b\b\b89%\b\b\b89%\b\b\b89%\b\b\b89%\b\b\b89%\b\b\b89%\b\b\b89%\b\b\b89%\b\b\b89%\b\b\b90%\b\b\b90%\b\b\b90%\b\b\b90%\b\b\b90%\b\b\b90%\b\b\b90%\b\b\b90%\b\b\b90%\b\b\b90%\b\b\b90%\b\b\b90%\b\b\b91%"
       ]
      },
      {
       "output_type": "stream",
       "stream": "stdout",
       "text": [
        "\b\b\b91%\b\b\b91%\b\b\b91%\b\b\b91%\b\b\b91%\b\b\b91%\b\b\b91%\b\b\b91%\b\b\b91%\b\b\b91%\b\b\b91%\b\b\b92%\b\b\b92%\b\b\b92%\b\b\b92%\b\b\b92%\b\b\b92%\b\b\b92%\b\b\b92%\b\b\b92%\b\b\b92%\b\b\b92%\b\b\b92%\b\b\b93%\b\b\b93%"
       ]
      },
      {
       "output_type": "stream",
       "stream": "stdout",
       "text": [
        "\b\b\b93%\b\b\b93%\b\b\b93%\b\b\b93%\b\b\b93%\b\b\b93%\b\b\b93%\b\b\b93%\b\b\b93%\b\b\b94%\b\b\b94%\b\b\b94%\b\b\b94%\b\b\b94%\b\b\b94%\b\b\b94%\b\b\b94%\b\b\b94%\b\b\b94%\b\b\b94%\b\b\b94%\b\b\b95%\b\b\b95%\b\b\b95%"
       ]
      },
      {
       "output_type": "stream",
       "stream": "stdout",
       "text": [
        "\b\b\b95%\b\b\b95%\b\b\b95%\b\b\b95%\b\b\b95%\b\b\b95%\b\b\b95%\b\b\b95%\b\b\b95%\b\b\b96%\b\b\b96%\b\b\b96%\b\b\b96%\b\b\b96%\b\b\b96%\b\b\b96%\b\b\b96%\b\b\b96%\b\b\b96%\b\b\b96%\b\b\b96%\b\b\b97%\b\b\b97%\b\b\b97%\b\b\b97%"
       ]
      },
      {
       "output_type": "stream",
       "stream": "stdout",
       "text": [
        "\b\b\b97%\b\b\b97%\b\b\b97%\b\b\b97%\b\b\b97%\b\b\b97%\b\b\b97%\b\b\b97%\b\b\b98%\b\b\b98%\b\b\b98%\b\b\b98%\b\b\b98%\b\b\b98%\b\b\b98%\b\b\b98%\b\b\b98%\b\b\b98%\b\b\b98%\b\b\b98%\b\b\b99%\b\b\b99%\b\b\b99%\b\b\b99%\b\b\b99%"
       ]
      },
      {
       "output_type": "stream",
       "stream": "stdout",
       "text": [
        "\b\b\b99%\b\b\b99%\b\b\b99%\b\b\b99%\b\b\b99%\b\b\b99%\b\b\b100%\r",
        ".ped scan complete (for binary autoconversion).\r\n",
        "Performing single-pass .bed write (144209 variants, 1184 people).\r\n"
       ]
      },
      {
       "output_type": "stream",
       "stream": "stdout",
       "text": [
        "0%\b\b1%"
       ]
      },
      {
       "output_type": "stream",
       "stream": "stdout",
       "text": [
        "\b\b2%\b\b3%"
       ]
      },
      {
       "output_type": "stream",
       "stream": "stdout",
       "text": [
        "\b\b4%\b\b5%"
       ]
      },
      {
       "output_type": "stream",
       "stream": "stdout",
       "text": [
        "\b\b6%\b\b7%"
       ]
      },
      {
       "output_type": "stream",
       "stream": "stdout",
       "text": [
        "\b\b8%"
       ]
      },
      {
       "output_type": "stream",
       "stream": "stdout",
       "text": [
        "\b\b9%\b\b10%"
       ]
      },
      {
       "output_type": "stream",
       "stream": "stdout",
       "text": [
        "\b\b\b11%\b\b\b12%"
       ]
      },
      {
       "output_type": "stream",
       "stream": "stdout",
       "text": [
        "\b\b\b13%\b\b\b14%"
       ]
      },
      {
       "output_type": "stream",
       "stream": "stdout",
       "text": [
        "\b\b\b15%"
       ]
      },
      {
       "output_type": "stream",
       "stream": "stdout",
       "text": [
        "\b\b\b16%\b\b\b17%"
       ]
      },
      {
       "output_type": "stream",
       "stream": "stdout",
       "text": [
        "\b\b\b18%\b\b\b19%"
       ]
      },
      {
       "output_type": "stream",
       "stream": "stdout",
       "text": [
        "\b\b\b20%\b\b\b21%"
       ]
      },
      {
       "output_type": "stream",
       "stream": "stdout",
       "text": [
        "\b\b\b22%\b\b\b23%"
       ]
      },
      {
       "output_type": "stream",
       "stream": "stdout",
       "text": [
        "\b\b\b24%"
       ]
      },
      {
       "output_type": "stream",
       "stream": "stdout",
       "text": [
        "\b\b\b25%\b\b\b26%"
       ]
      },
      {
       "output_type": "stream",
       "stream": "stdout",
       "text": [
        "\b\b\b27%\b\b\b28%"
       ]
      },
      {
       "output_type": "stream",
       "stream": "stdout",
       "text": [
        "\b\b\b29%\b\b\b30%"
       ]
      },
      {
       "output_type": "stream",
       "stream": "stdout",
       "text": [
        "\b\b\b31%\b\b\b32%"
       ]
      },
      {
       "output_type": "stream",
       "stream": "stdout",
       "text": [
        "\b\b\b33%"
       ]
      },
      {
       "output_type": "stream",
       "stream": "stdout",
       "text": [
        "\b\b\b34%\b\b\b35%"
       ]
      },
      {
       "output_type": "stream",
       "stream": "stdout",
       "text": [
        "\b\b\b36%\b\b\b37%"
       ]
      },
      {
       "output_type": "stream",
       "stream": "stdout",
       "text": [
        "\b\b\b38%\b\b\b39%"
       ]
      },
      {
       "output_type": "stream",
       "stream": "stdout",
       "text": [
        "\b\b\b40%"
       ]
      },
      {
       "output_type": "stream",
       "stream": "stdout",
       "text": [
        "\b\b\b41%\b\b\b42%"
       ]
      },
      {
       "output_type": "stream",
       "stream": "stdout",
       "text": [
        "\b\b\b43%"
       ]
      },
      {
       "output_type": "stream",
       "stream": "stdout",
       "text": [
        "\b\b\b44%\b\b\b45%"
       ]
      },
      {
       "output_type": "stream",
       "stream": "stdout",
       "text": [
        "\b\b\b46%\b\b\b47%"
       ]
      },
      {
       "output_type": "stream",
       "stream": "stdout",
       "text": [
        "\b\b\b48%"
       ]
      },
      {
       "output_type": "stream",
       "stream": "stdout",
       "text": [
        "\b\b\b49%\b\b\b50%"
       ]
      },
      {
       "output_type": "stream",
       "stream": "stdout",
       "text": [
        "\b\b\b51%\b\b\b52%"
       ]
      },
      {
       "output_type": "stream",
       "stream": "stdout",
       "text": [
        "\b\b\b53%"
       ]
      },
      {
       "output_type": "stream",
       "stream": "stdout",
       "text": [
        "\b\b\b54%\b\b\b55%"
       ]
      },
      {
       "output_type": "stream",
       "stream": "stdout",
       "text": [
        "\b\b\b56%\b\b\b57%"
       ]
      },
      {
       "output_type": "stream",
       "stream": "stdout",
       "text": [
        "\b\b\b58%"
       ]
      },
      {
       "output_type": "stream",
       "stream": "stdout",
       "text": [
        "\b\b\b59%\b\b\b60%"
       ]
      },
      {
       "output_type": "stream",
       "stream": "stdout",
       "text": [
        "\b\b\b61%\b\b\b62%"
       ]
      },
      {
       "output_type": "stream",
       "stream": "stdout",
       "text": [
        "\b\b\b63%"
       ]
      },
      {
       "output_type": "stream",
       "stream": "stdout",
       "text": [
        "\b\b\b64%\b\b\b65%"
       ]
      },
      {
       "output_type": "stream",
       "stream": "stdout",
       "text": [
        "\b\b\b66%\b\b\b67%"
       ]
      },
      {
       "output_type": "stream",
       "stream": "stdout",
       "text": [
        "\b\b\b68%"
       ]
      },
      {
       "output_type": "stream",
       "stream": "stdout",
       "text": [
        "\b\b\b69%\b\b\b70%"
       ]
      },
      {
       "output_type": "stream",
       "stream": "stdout",
       "text": [
        "\b\b\b71%\b\b\b72%"
       ]
      },
      {
       "output_type": "stream",
       "stream": "stdout",
       "text": [
        "\b\b\b73%\b\b\b74%"
       ]
      },
      {
       "output_type": "stream",
       "stream": "stdout",
       "text": [
        "\b\b\b75%"
       ]
      },
      {
       "output_type": "stream",
       "stream": "stdout",
       "text": [
        "\b\b\b76%\b\b\b77%"
       ]
      },
      {
       "output_type": "stream",
       "stream": "stdout",
       "text": [
        "\b\b\b78%\b\b\b79%"
       ]
      },
      {
       "output_type": "stream",
       "stream": "stdout",
       "text": [
        "\b\b\b80%\b\b\b81%"
       ]
      },
      {
       "output_type": "stream",
       "stream": "stdout",
       "text": [
        "\b\b\b82%"
       ]
      },
      {
       "output_type": "stream",
       "stream": "stdout",
       "text": [
        "\b\b\b83%\b\b\b84%"
       ]
      },
      {
       "output_type": "stream",
       "stream": "stdout",
       "text": [
        "\b\b\b85%\b\b\b86%"
       ]
      },
      {
       "output_type": "stream",
       "stream": "stdout",
       "text": [
        "\b\b\b87%\b\b\b88%"
       ]
      },
      {
       "output_type": "stream",
       "stream": "stdout",
       "text": [
        "\b\b\b89%"
       ]
      },
      {
       "output_type": "stream",
       "stream": "stdout",
       "text": [
        "\b\b\b90%\b\b\b91%"
       ]
      },
      {
       "output_type": "stream",
       "stream": "stdout",
       "text": [
        "\b\b\b92%\b\b\b93%"
       ]
      },
      {
       "output_type": "stream",
       "stream": "stdout",
       "text": [
        "\b\b\b94%\r",
        "--file: hapmap10_auto-temporary.bed + hapmap10_auto-temporary.bim +\r\n",
        "hapmap10_auto-temporary.fam written.\r\n"
       ]
      },
      {
       "output_type": "stream",
       "stream": "stdout",
       "text": [
        "144209 variants loaded from .bim file.\r\n",
        "1184 people (589 males, 595 females) loaded from .fam.\r\n",
        "--exclude: 139156 variants remaining.\r\n",
        "Using 1 thread (no multithreaded calculations invoked).\r\n",
        "Before main variant filters, 988 founders and 196 nonfounders present.\r\n",
        "Calculating allele frequencies... 0%\b\b1%\b\b2%\b\b3%\b\b4%\b\b5%\b\b6%\b\b7%\b\b8%\b\b9%\b\b10%\b\b\b11%\b\b\b12%\b\b\b13%\b\b\b14%\b\b\b15%\b\b\b16%\b\b\b17%\b\b\b18%\b\b\b19%\b\b\b20%\b\b\b21%\b\b\b22%\b\b\b23%\b\b\b24%\b\b\b25%\b\b\b26%\b\b\b27%\b\b\b28%\b\b\b29%\b\b\b30%\b\b\b31%\b\b\b32%\b\b\b33%\b\b\b34%\b\b\b35%\b\b\b36%\b\b\b37%\b\b\b38%\b\b\b39%\b\b\b40%\b\b\b41%\b\b\b42%\b\b\b43%\b\b\b44%\b\b\b45%\b\b\b46%\b\b\b47%\b\b\b48%\b\b\b49%\b\b\b50%\b\b\b51%\b\b\b52%\b\b\b53%\b\b\b54%\b\b\b55%\b\b\b56%\b\b\b57%\b\b\b58%\b\b\b59%\b\b\b60%\b\b\b61%\b\b\b62%\b\b\b63%\b\b\b64%\b\b\b65%\b\b\b66%\b\b\b67%\b\b\b68%\b\b\b69%\b\b\b70%\b\b\b71%\b\b\b72%\b\b\b73%\b\b\b74%\b\b\b75%\b\b\b76%\b\b\b77%\b\b\b78%\b\b\b79%\b\b\b80%\b\b\b81%\b\b\b82%\b\b\b83%\b\b\b84%\b\b\b85%\b\b\b86%\b\b\b87%\b\b\b88%\b\b\b89%\b\b\b90%\b\b\b91%\b\b\b92%\b\b\b93%\b\b\b94%\b\b\b95%\b\b\b96%\b\b\b97%\b\b\b98%"
       ]
      },
      {
       "output_type": "stream",
       "stream": "stdout",
       "text": [
        "\b\b\b99%\b\b\b\b done.\r\n",
        "Total genotyping rate is 0.997735.\r\n",
        "139156 variants and 1184 people pass filters and QC.\r\n",
        "Note: No phenotypes present.\r\n"
       ]
      },
      {
       "output_type": "stream",
       "stream": "stdout",
       "text": [
        "--recode to hapmap10_auto.ped + hapmap10_auto.map ... 0%\b\b1%"
       ]
      },
      {
       "output_type": "stream",
       "stream": "stdout",
       "text": [
        "\b\b2%"
       ]
      },
      {
       "output_type": "stream",
       "stream": "stdout",
       "text": [
        "\b\b3%"
       ]
      },
      {
       "output_type": "stream",
       "stream": "stdout",
       "text": [
        "\b\b4%\b\b5%"
       ]
      },
      {
       "output_type": "stream",
       "stream": "stdout",
       "text": [
        "\b\b6%"
       ]
      },
      {
       "output_type": "stream",
       "stream": "stdout",
       "text": [
        "\b\b7%"
       ]
      },
      {
       "output_type": "stream",
       "stream": "stdout",
       "text": [
        "\b\b8%"
       ]
      },
      {
       "output_type": "stream",
       "stream": "stdout",
       "text": [
        "\b\b9%"
       ]
      },
      {
       "output_type": "stream",
       "stream": "stdout",
       "text": [
        "\b\b10%"
       ]
      },
      {
       "output_type": "stream",
       "stream": "stdout",
       "text": [
        "\b\b\b11%"
       ]
      },
      {
       "output_type": "stream",
       "stream": "stdout",
       "text": [
        "\b\b\b12%"
       ]
      },
      {
       "output_type": "stream",
       "stream": "stdout",
       "text": [
        "\b\b\b13%\b\b\b14%"
       ]
      },
      {
       "output_type": "stream",
       "stream": "stdout",
       "text": [
        "\b\b\b15%"
       ]
      },
      {
       "output_type": "stream",
       "stream": "stdout",
       "text": [
        "\b\b\b16%"
       ]
      },
      {
       "output_type": "stream",
       "stream": "stdout",
       "text": [
        "\b\b\b17%"
       ]
      },
      {
       "output_type": "stream",
       "stream": "stdout",
       "text": [
        "\b\b\b18%"
       ]
      },
      {
       "output_type": "stream",
       "stream": "stdout",
       "text": [
        "\b\b\b19%"
       ]
      },
      {
       "output_type": "stream",
       "stream": "stdout",
       "text": [
        "\b\b\b20%"
       ]
      },
      {
       "output_type": "stream",
       "stream": "stdout",
       "text": [
        "\b\b\b21%"
       ]
      },
      {
       "output_type": "stream",
       "stream": "stdout",
       "text": [
        "\b\b\b22%"
       ]
      },
      {
       "output_type": "stream",
       "stream": "stdout",
       "text": [
        "\b\b\b23%"
       ]
      },
      {
       "output_type": "stream",
       "stream": "stdout",
       "text": [
        "\b\b\b24%\b\b\b25%"
       ]
      },
      {
       "output_type": "stream",
       "stream": "stdout",
       "text": [
        "\b\b\b26%"
       ]
      },
      {
       "output_type": "stream",
       "stream": "stdout",
       "text": [
        "\b\b\b27%"
       ]
      },
      {
       "output_type": "stream",
       "stream": "stdout",
       "text": [
        "\b\b\b28%"
       ]
      },
      {
       "output_type": "stream",
       "stream": "stdout",
       "text": [
        "\b\b\b29%"
       ]
      },
      {
       "output_type": "stream",
       "stream": "stdout",
       "text": [
        "\b\b\b30%"
       ]
      },
      {
       "output_type": "stream",
       "stream": "stdout",
       "text": [
        "\b\b\b31%"
       ]
      },
      {
       "output_type": "stream",
       "stream": "stdout",
       "text": [
        "\b\b\b32%"
       ]
      },
      {
       "output_type": "stream",
       "stream": "stdout",
       "text": [
        "\b\b\b33%\b\b\b34%"
       ]
      },
      {
       "output_type": "stream",
       "stream": "stdout",
       "text": [
        "\b\b\b35%"
       ]
      },
      {
       "output_type": "stream",
       "stream": "stdout",
       "text": [
        "\b\b\b36%"
       ]
      },
      {
       "output_type": "stream",
       "stream": "stdout",
       "text": [
        "\b\b\b37%"
       ]
      },
      {
       "output_type": "stream",
       "stream": "stdout",
       "text": [
        "\b\b\b38%"
       ]
      },
      {
       "output_type": "stream",
       "stream": "stdout",
       "text": [
        "\b\b\b39%"
       ]
      },
      {
       "output_type": "stream",
       "stream": "stdout",
       "text": [
        "\b\b\b40%"
       ]
      },
      {
       "output_type": "stream",
       "stream": "stdout",
       "text": [
        "\b\b\b41%"
       ]
      },
      {
       "output_type": "stream",
       "stream": "stdout",
       "text": [
        "\b\b\b42%"
       ]
      },
      {
       "output_type": "stream",
       "stream": "stdout",
       "text": [
        "\b\b\b43%\b\b\b44%"
       ]
      },
      {
       "output_type": "stream",
       "stream": "stdout",
       "text": [
        "\b\b\b45%"
       ]
      },
      {
       "output_type": "stream",
       "stream": "stdout",
       "text": [
        "\b\b\b46%"
       ]
      },
      {
       "output_type": "stream",
       "stream": "stdout",
       "text": [
        "\b\b\b47%"
       ]
      },
      {
       "output_type": "stream",
       "stream": "stdout",
       "text": [
        "\b\b\b48%"
       ]
      },
      {
       "output_type": "stream",
       "stream": "stdout",
       "text": [
        "\b\b\b49%"
       ]
      },
      {
       "output_type": "stream",
       "stream": "stdout",
       "text": [
        "\b\b\b50%"
       ]
      },
      {
       "output_type": "stream",
       "stream": "stdout",
       "text": [
        "\b\b\b51%"
       ]
      },
      {
       "output_type": "stream",
       "stream": "stdout",
       "text": [
        "\b\b\b52%"
       ]
      },
      {
       "output_type": "stream",
       "stream": "stdout",
       "text": [
        "\b\b\b53%"
       ]
      },
      {
       "output_type": "stream",
       "stream": "stdout",
       "text": [
        "\b\b\b54%"
       ]
      },
      {
       "output_type": "stream",
       "stream": "stdout",
       "text": [
        "\b\b\b55%"
       ]
      },
      {
       "output_type": "stream",
       "stream": "stdout",
       "text": [
        "\b\b\b56%\b\b\b57%"
       ]
      },
      {
       "output_type": "stream",
       "stream": "stdout",
       "text": [
        "\b\b\b58%"
       ]
      },
      {
       "output_type": "stream",
       "stream": "stdout",
       "text": [
        "\b\b\b59%"
       ]
      },
      {
       "output_type": "stream",
       "stream": "stdout",
       "text": [
        "\b\b\b60%"
       ]
      },
      {
       "output_type": "stream",
       "stream": "stdout",
       "text": [
        "\b\b\b61%"
       ]
      },
      {
       "output_type": "stream",
       "stream": "stdout",
       "text": [
        "\b\b\b62%"
       ]
      },
      {
       "output_type": "stream",
       "stream": "stdout",
       "text": [
        "\b\b\b63%"
       ]
      },
      {
       "output_type": "stream",
       "stream": "stdout",
       "text": [
        "\b\b\b64%"
       ]
      },
      {
       "output_type": "stream",
       "stream": "stdout",
       "text": [
        "\b\b\b65%"
       ]
      },
      {
       "output_type": "stream",
       "stream": "stdout",
       "text": [
        "\b\b\b66%\b\b\b67%"
       ]
      },
      {
       "output_type": "stream",
       "stream": "stdout",
       "text": [
        "\b\b\b68%"
       ]
      },
      {
       "output_type": "stream",
       "stream": "stdout",
       "text": [
        "\b\b\b69%"
       ]
      },
      {
       "output_type": "stream",
       "stream": "stdout",
       "text": [
        "\b\b\b70%"
       ]
      },
      {
       "output_type": "stream",
       "stream": "stdout",
       "text": [
        "\b\b\b71%"
       ]
      },
      {
       "output_type": "stream",
       "stream": "stdout",
       "text": [
        "\b\b\b72%"
       ]
      },
      {
       "output_type": "stream",
       "stream": "stdout",
       "text": [
        "\b\b\b73%"
       ]
      },
      {
       "output_type": "stream",
       "stream": "stdout",
       "text": [
        "\b\b\b74%\b\b\b75%"
       ]
      },
      {
       "output_type": "stream",
       "stream": "stdout",
       "text": [
        "\b\b\b76%"
       ]
      },
      {
       "output_type": "stream",
       "stream": "stdout",
       "text": [
        "\b\b\b77%"
       ]
      },
      {
       "output_type": "stream",
       "stream": "stdout",
       "text": [
        "\b\b\b78%"
       ]
      },
      {
       "output_type": "stream",
       "stream": "stdout",
       "text": [
        "\b\b\b79%"
       ]
      },
      {
       "output_type": "stream",
       "stream": "stdout",
       "text": [
        "\b\b\b80%"
       ]
      },
      {
       "output_type": "stream",
       "stream": "stdout",
       "text": [
        "\b\b\b81%"
       ]
      },
      {
       "output_type": "stream",
       "stream": "stdout",
       "text": [
        "\b\b\b82%\b\b\b83%"
       ]
      },
      {
       "output_type": "stream",
       "stream": "stdout",
       "text": [
        "\b\b\b84%"
       ]
      },
      {
       "output_type": "stream",
       "stream": "stdout",
       "text": [
        "\b\b\b85%"
       ]
      },
      {
       "output_type": "stream",
       "stream": "stdout",
       "text": [
        "\b\b\b86%"
       ]
      },
      {
       "output_type": "stream",
       "stream": "stdout",
       "text": [
        "\b\b\b87%"
       ]
      },
      {
       "output_type": "stream",
       "stream": "stdout",
       "text": [
        "\b\b\b88%"
       ]
      },
      {
       "output_type": "stream",
       "stream": "stdout",
       "text": [
        "\b\b\b89%"
       ]
      },
      {
       "output_type": "stream",
       "stream": "stdout",
       "text": [
        "\b\b\b90%"
       ]
      },
      {
       "output_type": "stream",
       "stream": "stdout",
       "text": [
        "\b\b\b91%\b\b\b92%"
       ]
      },
      {
       "output_type": "stream",
       "stream": "stdout",
       "text": [
        "\b\b\b93%"
       ]
      },
      {
       "output_type": "stream",
       "stream": "stdout",
       "text": [
        "\b\b\b94%"
       ]
      },
      {
       "output_type": "stream",
       "stream": "stdout",
       "text": [
        "\b\b\b95%"
       ]
      },
      {
       "output_type": "stream",
       "stream": "stdout",
       "text": [
        "\b\b\b96%"
       ]
      },
      {
       "output_type": "stream",
       "stream": "stdout",
       "text": [
        "\b\b\b97%"
       ]
      },
      {
       "output_type": "stream",
       "stream": "stdout",
       "text": [
        "\b\b\b98%"
       ]
      },
      {
       "output_type": "stream",
       "stream": "stdout",
       "text": [
        "\b\b\b99%"
       ]
      },
      {
       "output_type": "stream",
       "stream": "stdout",
       "text": [
        "\b\b\bdone.\r\n"
       ]
      },
      {
       "output_type": "stream",
       "stream": "stdout",
       "text": [
        "PLINK v1.90b2t 64-bit (20 Dec 2014)        https://www.cog-genomics.org/plink2\r\n",
        "(C) 2005-2014 Shaun Purcell, Christopher Chang   GNU General Public License v3\r\n",
        "Logging to hapmap1_auto.log.\r\n",
        "Note: --noweb has no effect since no web check is implemented yet.\r\n",
        "32095 MB RAM detected; reserving 16047 MB for main workspace.\r\n",
        "Scanning .ped file... 0%\b\b1%\b\b1%\b\b1%\b\b1%\b\b1%\b\b1%\b\b1%\b\b1%\b\b1%\b\b1%\b\b1%\b\b1%\b\b2%\b\b2%\b\b2%\b\b2%\b\b2%\b\b2%\b\b2%\b\b2%\b\b2%\b\b2%\b\b2%\b\b2%\b\b3%\b\b3%\b\b3%\b\b3%\b\b3%\b\b3%\b\b3%\b\b3%\b\b3%\b\b3%\b\b3%\b\b3%\b\b4%\b\b4%\b\b4%\b\b4%\b\b4%\b\b4%\b\b4%\b\b4%\b\b4%\b\b4%\b\b4%\b\b4%\b\b5%\b\b5%\b\b5%\b\b5%\b\b5%\b\b5%\b\b5%\b\b5%\b\b5%\b\b5%\b\b5%\b\b5%\b\b6%\b\b6%\b\b6%\b\b6%\b\b6%\b\b6%\b\b6%\b\b6%\b\b6%\b\b6%\b\b6%\b\b7%\b\b7%\b\b7%\b\b7%\b\b7%\b\b7%\b\b7%\b\b7%\b\b7%\b\b7%\b\b7%\b\b7%\b\b8%\b\b8%\b\b8%\b\b8%\b\b8%\b\b8%\b\b8%\b\b8%\b\b8%\b\b8%\b\b8%\b\b8%\b\b9%\b\b9%\b\b9%\b\b9%\b\b9%\b\b9%\b\b9%\b\b9%\b\b9%\b\b9%\b\b9%\b\b9%\b\b10%\b\b\b10%\b\b\b10%\b\b\b10%\b\b\b10%\b\b\b10%\b\b\b10%\b\b\b10%\b\b\b10%\b\b\b10%\b\b\b10%\b\b\b10%\b\b\b11%\b\b\b11%\b\b\b11%\b\b\b11%\b\b\b11%\b\b\b11%\b\b\b11%\b\b\b11%\b\b\b11%\b\b\b11%\b\b\b11%\b\b\b11%\b\b\b12%\b\b\b12%\b\b\b12%\b\b\b12%\b\b\b12%\b\b\b12%\b\b\b12%\b\b\b12%\b\b\b12%\b\b\b12%\b\b\b12%\b\b\b13%\b\b\b13%\b\b\b13%\b\b\b13%\b\b\b13%\b\b\b13%\b\b\b13%\b\b\b13%\b\b\b13%\b\b\b13%\b\b\b13%\b\b\b13%\b\b\b14%\b\b\b14%\b\b\b14%\b\b\b14%\b\b\b14%\b\b\b14%\b\b\b14%\b\b\b14%\b\b\b14%\b\b\b14%\b\b\b14%\b\b\b14%\b\b\b15%\b\b\b15%\b\b\b15%\b\b\b15%\b\b\b15%\b\b\b15%\b\b\b15%\b\b\b15%\b\b\b15%\b\b\b15%\b\b\b15%\b\b\b15%\b\b\b16%\b\b\b16%\b\b\b16%\b\b\b16%\b\b\b16%\b\b\b16%\b\b\b16%\b\b\b16%\b\b\b16%\b\b\b16%\b\b\b16%\b\b\b16%\b\b\b17%\b\b\b17%\b\b\b17%\b\b\b17%\b\b\b17%\b\b\b17%\b\b\b17%"
       ]
      },
      {
       "output_type": "stream",
       "stream": "stdout",
       "text": [
        "\b\b\b17%\b\b\b17%\b\b\b17%\b\b\b17%\b\b\b17%\b\b\b18%\b\b\b18%\b\b\b18%\b\b\b18%\b\b\b18%\b\b\b18%\b\b\b18%\b\b\b18%\b\b\b18%\b\b\b18%\b\b\b18%\b\b\b19%\b\b\b19%\b\b\b19%\b\b\b19%\b\b\b19%\b\b\b19%\b\b\b19%\b\b\b19%\b\b\b19%\b\b\b19%\b\b\b19%\b\b\b19%\b\b\b20%\b\b\b20%\b\b\b20%\b\b\b20%\b\b\b20%\b\b\b20%\b\b\b20%\b\b\b20%\b\b\b20%\b\b\b20%\b\b\b20%\b\b\b20%\b\b\b21%\b\b\b21%\b\b\b21%\b\b\b21%\b\b\b21%\b\b\b21%\b\b\b21%\b\b\b21%\b\b\b21%\b\b\b21%\b\b\b21%\b\b\b21%\b\b\b22%\b\b\b22%\b\b\b22%\b\b\b22%\b\b\b22%\b\b\b22%\b\b\b22%\b\b\b22%\b\b\b22%\b\b\b22%\b\b\b22%\b\b\b22%\b\b\b23%\b\b\b23%\b\b\b23%\b\b\b23%\b\b\b23%\b\b\b23%\b\b\b23%\b\b\b23%\b\b\b23%\b\b\b23%\b\b\b23%\b\b\b23%\b\b\b24%\b\b\b24%\b\b\b24%\b\b\b24%\b\b\b24%\b\b\b24%\b\b\b24%\b\b\b24%\b\b\b24%\b\b\b24%\b\b\b24%\b\b\b25%\b\b\b25%\b\b\b25%\b\b\b25%\b\b\b25%\b\b\b25%\b\b\b25%\b\b\b25%\b\b\b25%\b\b\b25%\b\b\b25%\b\b\b25%\b\b\b26%\b\b\b26%\b\b\b26%\b\b\b26%\b\b\b26%\b\b\b26%\b\b\b26%\b\b\b26%\b\b\b26%\b\b\b26%\b\b\b26%\b\b\b26%\b\b\b27%\b\b\b27%\b\b\b27%\b\b\b27%\b\b\b27%\b\b\b27%\b\b\b27%\b\b\b27%\b\b\b27%\b\b\b27%\b\b\b27%\b\b\b27%\b\b\b28%\b\b\b28%\b\b\b28%\b\b\b28%\b\b\b28%\b\b\b28%\b\b\b28%\b\b\b28%\b\b\b28%\b\b\b28%\b\b\b28%\b\b\b28%\b\b\b29%\b\b\b29%\b\b\b29%\b\b\b29%\b\b\b29%\b\b\b29%\b\b\b29%\b\b\b29%\b\b\b29%\b\b\b29%\b\b\b29%\b\b\b29%\b\b\b30%\b\b\b30%\b\b\b30%\b\b\b30%\b\b\b30%\b\b\b30%\b\b\b30%\b\b\b30%\b\b\b30%\b\b\b30%\b\b\b30%\b\b\b30%\b\b\b31%\b\b\b31%\b\b\b31%\b\b\b31%\b\b\b31%\b\b\b31%\b\b\b31%\b\b\b31%\b\b\b31%\b\b\b31%\b\b\b31%\b\b\b32%\b\b\b32%\b\b\b32%\b\b\b32%\b\b\b32%\b\b\b32%\b\b\b32%\b\b\b32%\b\b\b32%\b\b\b32%\b\b\b32%\b\b\b32%\b\b\b33%\b\b\b33%\b\b\b33%\b\b\b33%\b\b\b33%\b\b\b33%\b\b\b33%\b\b\b33%\b\b\b33%\b\b\b33%\b\b\b33%\b\b\b33%\b\b\b34%\b\b\b34%\b\b\b34%\b\b\b34%\b\b\b34%\b\b\b34%\b\b\b34%\b\b\b34%\b\b\b34%\b\b\b34%\b\b\b34%\b\b\b34%\b\b\b35%\b\b\b35%\b\b\b35%\b\b\b35%\b\b\b35%\b\b\b35%\b\b\b35%\b\b\b35%\b\b\b35%\b\b\b35%\b\b\b35%"
       ]
      },
      {
       "output_type": "stream",
       "stream": "stdout",
       "text": [
        "\b\b\b35%\b\b\b36%\b\b\b36%\b\b\b36%\b\b\b36%\b\b\b36%\b\b\b36%\b\b\b36%\b\b\b36%\b\b\b36%\b\b\b36%\b\b\b36%\b\b\b36%\b\b\b37%\b\b\b37%\b\b\b37%\b\b\b37%\b\b\b37%\b\b\b37%\b\b\b37%\b\b\b37%\b\b\b37%\b\b\b37%\b\b\b37%\b\b\b38%\b\b\b38%\b\b\b38%\b\b\b38%\b\b\b38%\b\b\b38%\b\b\b38%\b\b\b38%\b\b\b38%\b\b\b38%\b\b\b38%\b\b\b38%\b\b\b39%\b\b\b39%\b\b\b39%\b\b\b39%\b\b\b39%\b\b\b39%\b\b\b39%\b\b\b39%\b\b\b39%\b\b\b39%\b\b\b39%\b\b\b39%\b\b\b40%\b\b\b40%\b\b\b40%\b\b\b40%\b\b\b40%\b\b\b40%\b\b\b40%\b\b\b40%\b\b\b40%\b\b\b40%\b\b\b40%\b\b\b40%\b\b\b41%\b\b\b41%\b\b\b41%\b\b\b41%\b\b\b41%\b\b\b41%\b\b\b41%\b\b\b41%\b\b\b41%\b\b\b41%\b\b\b41%\b\b\b41%\b\b\b42%\b\b\b42%\b\b\b42%\b\b\b42%\b\b\b42%\b\b\b42%\b\b\b42%\b\b\b42%\b\b\b42%\b\b\b42%\b\b\b42%\b\b\b42%\b\b\b43%\b\b\b43%\b\b\b43%\b\b\b43%\b\b\b43%\b\b\b43%\b\b\b43%\b\b\b43%\b\b\b43%\b\b\b43%\b\b\b43%\b\b\b44%\b\b\b44%\b\b\b44%\b\b\b44%\b\b\b44%\b\b\b44%\b\b\b44%\b\b\b44%\b\b\b44%\b\b\b44%\b\b\b44%\b\b\b44%\b\b\b45%\b\b\b45%\b\b\b45%\b\b\b45%\b\b\b45%\b\b\b45%\b\b\b45%\b\b\b45%\b\b\b45%\b\b\b45%\b\b\b45%\b\b\b45%\b\b\b46%\b\b\b46%\b\b\b46%\b\b\b46%\b\b\b46%\b\b\b46%\b\b\b46%\b\b\b46%\b\b\b46%\b\b\b46%\b\b\b46%\b\b\b46%\b\b\b47%\b\b\b47%\b\b\b47%\b\b\b47%\b\b\b47%\b\b\b47%\b\b\b47%\b\b\b47%\b\b\b47%\b\b\b47%\b\b\b47%\b\b\b47%\b\b\b48%\b\b\b48%\b\b\b48%\b\b\b48%\b\b\b48%\b\b\b48%\b\b\b48%\b\b\b48%\b\b\b48%\b\b\b48%\b\b\b48%\b\b\b48%\b\b\b49%\b\b\b49%\b\b\b49%\b\b\b49%\b\b\b49%\b\b\b49%\b\b\b49%\b\b\b49%\b\b\b49%\b\b\b49%\b\b\b49%\b\b\b50%\b\b\b50%\b\b\b50%\b\b\b50%\b\b\b50%\b\b\b50%\b\b\b50%\b\b\b50%\b\b\b50%\b\b\b50%\b\b\b50%\b\b\b50%\b\b\b51%\b\b\b51%\b\b\b51%\b\b\b51%\b\b\b51%\b\b\b51%\b\b\b51%\b\b\b51%\b\b\b51%\b\b\b51%\b\b\b51%\b\b\b51%\b\b\b52%\b\b\b52%\b\b\b52%\b\b\b52%\b\b\b52%\b\b\b52%\b\b\b52%\b\b\b52%\b\b\b52%\b\b\b52%\b\b\b52%\b\b\b52%\b\b\b53%\b\b\b53%\b\b\b53%\b\b\b53%\b\b\b53%\b\b\b53%\b\b\b53%\b\b\b53%\b\b\b53%\b\b\b53%\b\b\b53%\b\b\b53%\b\b\b54%\b\b\b54%\b\b\b54%\b\b\b54%\b\b\b54%\b\b\b54%\b\b\b54%\b\b\b54%\b\b\b54%\b\b\b54%\b\b\b54%\b\b\b54%\b\b\b55%"
       ]
      },
      {
       "output_type": "stream",
       "stream": "stdout",
       "text": [
        "\b\b\b55%\b\b\b55%\b\b\b55%\b\b\b55%\b\b\b55%\b\b\b55%\b\b\b55%\b\b\b55%\b\b\b55%\b\b\b55%\b\b\b55%\b\b\b56%\b\b\b56%\b\b\b56%\b\b\b56%\b\b\b56%\b\b\b56%\b\b\b56%\b\b\b56%\b\b\b56%\b\b\b56%\b\b\b56%\b\b\b57%\b\b\b57%\b\b\b57%\b\b\b57%\b\b\b57%\b\b\b57%\b\b\b57%\b\b\b57%\b\b\b57%\b\b\b57%\b\b\b57%\b\b\b57%\b\b\b58%\b\b\b58%\b\b\b58%\b\b\b58%\b\b\b58%\b\b\b58%\b\b\b58%\b\b\b58%\b\b\b58%\b\b\b58%\b\b\b58%\b\b\b58%\b\b\b59%\b\b\b59%\b\b\b59%\b\b\b59%\b\b\b59%\b\b\b59%\b\b\b59%\b\b\b59%\b\b\b59%\b\b\b59%\b\b\b59%\b\b\b59%\b\b\b60%\b\b\b60%\b\b\b60%\b\b\b60%\b\b\b60%\b\b\b60%\b\b\b60%\b\b\b60%\b\b\b60%\b\b\b60%\b\b\b60%\b\b\b60%\b\b\b61%\b\b\b61%\b\b\b61%\b\b\b61%\b\b\b61%\b\b\b61%\b\b\b61%\b\b\b61%\b\b\b61%\b\b\b61%\b\b\b61%\b\b\b61%\b\b\b62%\b\b\b62%\b\b\b62%\b\b\b62%\b\b\b62%\b\b\b62%\b\b\b62%\b\b\b62%\b\b\b62%\b\b\b62%\b\b\b62%\b\b\b63%\b\b\b63%\b\b\b63%\b\b\b63%\b\b\b63%\b\b\b63%\b\b\b63%\b\b\b63%\b\b\b63%\b\b\b63%\b\b\b63%\b\b\b63%\b\b\b64%\b\b\b64%\b\b\b64%\b\b\b64%\b\b\b64%\b\b\b64%\b\b\b64%\b\b\b64%\b\b\b64%\b\b\b64%\b\b\b64%\b\b\b64%\b\b\b65%\b\b\b65%\b\b\b65%\b\b\b65%\b\b\b65%\b\b\b65%\b\b\b65%\b\b\b65%\b\b\b65%\b\b\b65%\b\b\b65%\b\b\b65%\b\b\b66%\b\b\b66%\b\b\b66%\b\b\b66%\b\b\b66%\b\b\b66%\b\b\b66%\b\b\b66%\b\b\b66%\b\b\b66%\b\b\b66%\b\b\b66%\b\b\b67%\b\b\b67%\b\b\b67%\b\b\b67%\b\b\b67%\b\b\b67%\b\b\b67%\b\b\b67%\b\b\b67%\b\b\b67%\b\b\b67%\b\b\b67%\b\b\b68%\b\b\b68%\b\b\b68%\b\b\b68%\b\b\b68%\b\b\b68%\b\b\b68%\b\b\b68%\b\b\b68%\b\b\b68%\b\b\b68%\b\b\b69%\b\b\b69%\b\b\b69%\b\b\b69%\b\b\b69%\b\b\b69%\b\b\b69%\b\b\b69%\b\b\b69%\b\b\b69%\b\b\b69%\b\b\b69%\b\b\b70%\b\b\b70%\b\b\b70%\b\b\b70%\b\b\b70%\b\b\b70%\b\b\b70%\b\b\b70%\b\b\b70%\b\b\b70%\b\b\b70%\b\b\b70%\b\b\b71%\b\b\b71%\b\b\b71%\b\b\b71%\b\b\b71%\b\b\b71%\b\b\b71%\b\b\b71%\b\b\b71%\b\b\b71%\b\b\b71%\b\b\b71%\b\b\b72%\b\b\b72%\b\b\b72%\b\b\b72%\b\b\b72%\b\b\b72%\b\b\b72%\b\b\b72%\b\b\b72%\b\b\b72%\b\b\b72%\b\b\b72%\b\b\b73%\b\b\b73%\b\b\b73%\b\b\b73%\b\b\b73%\b\b\b73%\b\b\b73%\b\b\b73%\b\b\b73%\b\b\b73%\b\b\b73%\b\b\b73%\b\b\b74%\b\b\b74%\b\b\b74%\b\b\b74%\b\b\b74%\b\b\b74%\b\b\b74%"
       ]
      },
      {
       "output_type": "stream",
       "stream": "stdout",
       "text": [
        "\b\b\b74%\b\b\b74%\b\b\b74%\b\b\b74%\b\b\b74%\b\b\b75%\b\b\b75%\b\b\b75%\b\b\b75%\b\b\b75%\b\b\b75%\b\b\b75%\b\b\b75%\b\b\b75%\b\b\b75%\b\b\b75%\b\b\b76%\b\b\b76%\b\b\b76%\b\b\b76%\b\b\b76%\b\b\b76%\b\b\b76%\b\b\b76%\b\b\b76%\b\b\b76%\b\b\b76%\b\b\b76%\b\b\b77%\b\b\b77%\b\b\b77%\b\b\b77%\b\b\b77%\b\b\b77%\b\b\b77%\b\b\b77%\b\b\b77%\b\b\b77%\b\b\b77%\b\b\b77%\b\b\b78%\b\b\b78%\b\b\b78%\b\b\b78%\b\b\b78%\b\b\b78%\b\b\b78%\b\b\b78%\b\b\b78%\b\b\b78%\b\b\b78%\b\b\b78%\b\b\b79%\b\b\b79%\b\b\b79%\b\b\b79%\b\b\b79%\b\b\b79%\b\b\b79%\b\b\b79%\b\b\b79%\b\b\b79%\b\b\b79%\b\b\b79%\b\b\b80%\b\b\b80%\b\b\b80%\b\b\b80%\b\b\b80%\b\b\b80%\b\b\b80%\b\b\b80%\b\b\b80%\b\b\b80%\b\b\b80%\b\b\b80%\b\b\b81%\b\b\b81%\b\b\b81%\b\b\b81%\b\b\b81%\b\b\b81%\b\b\b81%\b\b\b81%\b\b\b81%\b\b\b81%\b\b\b81%\b\b\b82%\b\b\b82%\b\b\b82%\b\b\b82%\b\b\b82%\b\b\b82%\b\b\b82%\b\b\b82%\b\b\b82%\b\b\b82%\b\b\b82%\b\b\b82%\b\b\b83%\b\b\b83%\b\b\b83%\b\b\b83%\b\b\b83%\b\b\b83%\b\b\b83%\b\b\b83%\b\b\b83%\b\b\b83%\b\b\b83%\b\b\b83%\b\b\b84%\b\b\b84%\b\b\b84%\b\b\b84%\b\b\b84%\b\b\b84%\b\b\b84%\b\b\b84%\b\b\b84%\b\b\b84%\b\b\b84%\b\b\b84%\b\b\b85%\b\b\b85%\b\b\b85%\b\b\b85%\b\b\b85%\b\b\b85%\b\b\b85%\b\b\b85%\b\b\b85%\b\b\b85%\b\b\b85%\b\b\b85%\b\b\b86%\b\b\b86%\b\b\b86%\b\b\b86%\b\b\b86%\b\b\b86%\b\b\b86%\b\b\b86%\b\b\b86%\b\b\b86%\b\b\b86%\b\b\b86%\b\b\b87%\b\b\b87%\b\b\b87%\b\b\b87%\b\b\b87%\b\b\b87%\b\b\b87%\b\b\b87%\b\b\b87%\b\b\b87%\b\b\b87%\b\b\b88%\b\b\b88%\b\b\b88%\b\b\b88%\b\b\b88%\b\b\b88%\b\b\b88%\b\b\b88%\b\b\b88%\b\b\b88%\b\b\b88%\b\b\b88%\b\b\b89%\b\b\b89%\b\b\b89%\b\b\b89%\b\b\b89%\b\b\b89%\b\b\b89%\b\b\b89%\b\b\b89%\b\b\b89%\b\b\b89%\b\b\b89%\b\b\b90%\b\b\b90%\b\b\b90%\b\b\b90%\b\b\b90%\b\b\b90%\b\b\b90%\b\b\b90%\b\b\b90%\b\b\b90%\b\b\b90%\b\b\b90%\b\b\b91%\b\b\b91%\b\b\b91%\b\b\b91%\b\b\b91%\b\b\b91%\b\b\b91%\b\b\b91%\b\b\b91%\b\b\b91%\b\b\b91%\b\b\b91%\b\b\b92%\b\b\b92%\b\b\b92%\b\b\b92%\b\b\b92%\b\b\b92%\b\b\b92%\b\b\b92%\b\b\b92%\b\b\b92%\b\b\b92%\b\b\b92%\b\b\b93%\b\b\b93%\b\b\b93%\b\b\b93%\b\b\b93%\b\b\b93%\b\b\b93%\b\b\b93%\b\b\b93%\b\b\b93%\b\b\b93%\b\b\b94%\b\b\b94%\b\b\b94%\b\b\b94%\b\b\b94%\b\b\b94%\b\b\b94%\b\b\b94%"
       ]
      },
      {
       "output_type": "stream",
       "stream": "stdout",
       "text": [
        "\b\b\b94%\b\b\b94%\b\b\b94%\b\b\b94%\b\b\b95%\b\b\b95%\b\b\b95%\b\b\b95%\b\b\b95%\b\b\b95%\b\b\b95%\b\b\b95%\b\b\b95%\b\b\b95%\b\b\b95%\b\b\b95%\b\b\b96%\b\b\b96%\b\b\b96%\b\b\b96%\b\b\b96%\b\b\b96%\b\b\b96%\b\b\b96%\b\b\b96%\b\b\b96%\b\b\b96%\b\b\b96%\b\b\b97%\b\b\b97%\b\b\b97%\b\b\b97%\b\b\b97%\b\b\b97%\b\b\b97%\b\b\b97%\b\b\b97%\b\b\b97%\b\b\b97%\b\b\b97%\b\b\b98%\b\b\b98%\b\b\b98%\b\b\b98%\b\b\b98%\b\b\b98%\b\b\b98%\b\b\b98%\b\b\b98%\b\b\b98%\b\b\b98%\b\b\b98%\b\b\b99%\b\b\b99%\b\b\b99%\b\b\b99%\b\b\b99%\b\b\b99%\b\b\b99%\b\b\b99%\b\b\b99%\b\b\b99%\b\b\b99%\b\b\b100%\r",
        ".ped scan complete (for binary autoconversion).\r\n",
        "Performing single-pass .bed write (14363 variants, 1184 people).\r\n",
        "0%\b\b1%\b\b2%\b\b3%\b\b4%\b\b5%\b\b6%\b\b7%\b\b8%\b\b9%\b\b10%\b\b\b11%\b\b\b12%\b\b\b13%\b\b\b14%\b\b\b15%\b\b\b16%\b\b\b17%\b\b\b18%\b\b\b19%\b\b\b20%\b\b\b21%\b\b\b22%\b\b\b23%"
       ]
      },
      {
       "output_type": "stream",
       "stream": "stdout",
       "text": [
        "\b\b\b24%\b\b\b25%\b\b\b26%\b\b\b27%\b\b\b28%\b\b\b29%\b\b\b30%\b\b\b31%\b\b\b32%\b\b\b33%\b\b\b34%\b\b\b35%\b\b\b36%\b\b\b37%\b\b\b38%\b\b\b39%\b\b\b40%\b\b\b41%\b\b\b42%\b\b\b43%\b\b\b44%\b\b\b45%\b\b\b46%\b\b\b47%\b\b\b48%\b\b\b49%\b\b\b50%\b\b\b51%\b\b\b52%\b\b\b53%\b\b\b54%\b\b\b55%\b\b\b56%\b\b\b57%\b\b\b58%"
       ]
      },
      {
       "output_type": "stream",
       "stream": "stdout",
       "text": [
        "\b\b\b59%\b\b\b60%\b\b\b61%\b\b\b62%\b\b\b63%\b\b\b64%\b\b\b65%\b\b\b66%\b\b\b67%\b\b\b68%\b\b\b69%\b\b\b70%\b\b\b71%\b\b\b72%\b\b\b73%\b\b\b74%\b\b\b75%\b\b\b76%\b\b\b77%\b\b\b78%\b\b\b79%\b\b\b80%\b\b\b81%\b\b\b82%\b\b\b83%\b\b\b84%\b\b\b85%\b\b\b86%\b\b\b87%\b\b\b88%\b\b\b89%\b\b\b90%\b\b\b91%\b\b\b92%"
       ]
      },
      {
       "output_type": "stream",
       "stream": "stdout",
       "text": [
        "\b\b\b93%\b\b\b94%\r",
        "--file: hapmap1_auto-temporary.bed + hapmap1_auto-temporary.bim +\r\n",
        "hapmap1_auto-temporary.fam written.\r\n",
        "14363 variants loaded from .bim file.\r\n",
        "1184 people (589 males, 595 females) loaded from .fam.\r\n",
        "--exclude: 13850 variants remaining.\r\n",
        "Using 1 thread (no multithreaded calculations invoked).\r\n",
        "Before main variant filters, 988 founders and 196 nonfounders present.\r\n",
        "Calculating allele frequencies... 0%\b\b1%\b\b2%\b\b3%\b\b4%\b\b5%\b\b6%\b\b7%\b\b8%\b\b9%\b\b10%\b\b\b11%\b\b\b12%\b\b\b13%\b\b\b14%\b\b\b15%\b\b\b16%\b\b\b17%\b\b\b18%\b\b\b19%\b\b\b20%\b\b\b21%\b\b\b22%\b\b\b23%\b\b\b24%\b\b\b25%\b\b\b26%\b\b\b27%\b\b\b28%\b\b\b29%\b\b\b30%\b\b\b31%\b\b\b32%\b\b\b33%\b\b\b34%\b\b\b35%\b\b\b36%\b\b\b37%\b\b\b38%\b\b\b39%\b\b\b40%\b\b\b41%\b\b\b42%\b\b\b43%\b\b\b44%\b\b\b45%\b\b\b46%\b\b\b47%\b\b\b48%\b\b\b49%\b\b\b50%\b\b\b51%\b\b\b52%\b\b\b53%\b\b\b54%\b\b\b55%\b\b\b56%\b\b\b57%\b\b\b58%\b\b\b59%\b\b\b60%\b\b\b61%\b\b\b62%\b\b\b63%\b\b\b64%\b\b\b65%\b\b\b66%\b\b\b67%\b\b\b68%\b\b\b69%\b\b\b70%\b\b\b71%\b\b\b72%\b\b\b73%\b\b\b74%\b\b\b75%\b\b\b76%\b\b\b77%\b\b\b78%\b\b\b79%\b\b\b80%\b\b\b81%\b\b\b82%\b\b\b83%\b\b\b84%\b\b\b85%\b\b\b86%\b\b\b87%\b\b\b88%\b\b\b89%\b\b\b90%\b\b\b91%\b\b\b92%\b\b\b93%\b\b\b94%\b\b\b95%\b\b\b96%\b\b\b97%\b\b\b98%\b\b\b99%\b\b\b\b done.\r\n",
        "Total genotyping rate is 0.997723.\r\n",
        "13850 variants and 1184 people pass filters and QC.\r\n",
        "Note: No phenotypes present.\r\n",
        "--recode to hapmap1_auto.ped + hapmap1_auto.map ... 0%\b\b1%\b\b2%\b\b3%\b\b4%\b\b5%\b\b6%\b\b7%\b\b8%\b\b9%\b\b10%\b\b\b11%\b\b\b12%\b\b\b13%\b\b\b14%"
       ]
      },
      {
       "output_type": "stream",
       "stream": "stdout",
       "text": [
        "\b\b\b15%\b\b\b16%\b\b\b17%\b\b\b18%\b\b\b19%\b\b\b20%\b\b\b21%\b\b\b22%\b\b\b23%\b\b\b24%\b\b\b25%\b\b\b26%\b\b\b27%\b\b\b28%\b\b\b29%\b\b\b30%\b\b\b31%\b\b\b32%\b\b\b33%\b\b\b34%"
       ]
      },
      {
       "output_type": "stream",
       "stream": "stdout",
       "text": [
        "\b\b\b35%\b\b\b36%\b\b\b37%\b\b\b38%\b\b\b39%\b\b\b40%\b\b\b41%\b\b\b42%\b\b\b43%\b\b\b44%\b\b\b45%\b\b\b46%\b\b\b47%\b\b\b48%\b\b\b49%\b\b\b50%\b\b\b51%\b\b\b52%\b\b\b53%\b\b\b54%"
       ]
      },
      {
       "output_type": "stream",
       "stream": "stdout",
       "text": [
        "\b\b\b55%\b\b\b56%\b\b\b57%\b\b\b58%\b\b\b59%\b\b\b60%\b\b\b61%\b\b\b62%\b\b\b63%\b\b\b64%\b\b\b65%\b\b\b66%\b\b\b67%\b\b\b68%\b\b\b69%\b\b\b70%\b\b\b71%\b\b\b72%\b\b\b73%"
       ]
      },
      {
       "output_type": "stream",
       "stream": "stdout",
       "text": [
        "\b\b\b74%\b\b\b75%\b\b\b76%\b\b\b77%\b\b\b78%\b\b\b79%\b\b\b80%\b\b\b81%\b\b\b82%\b\b\b83%\b\b\b84%\b\b\b85%\b\b\b86%\b\b\b87%\b\b\b88%\b\b\b89%\b\b\b90%\b\b\b91%\b\b\b92%\b\b\b93%"
       ]
      },
      {
       "output_type": "stream",
       "stream": "stdout",
       "text": [
        "\b\b\b94%\b\b\b95%\b\b\b96%\b\b\b97%\b\b\b98%\b\b\b99%\b\b\bdone.\r\n"
       ]
      },
      {
       "output_type": "stream",
       "stream": "stdout",
       "text": [
        "PLINK v1.90b2t 64-bit (20 Dec 2014)        https://www.cog-genomics.org/plink2\r\n",
        "(C) 2005-2014 Shaun Purcell, Christopher Chang   GNU General Public License v3\r\n",
        "Logging to hapmap_auto.log.\r\n",
        "Note: --noweb has no effect since no web check is implemented yet.\r\n",
        "32095 MB RAM detected; reserving 16047 MB for main workspace.\r\n"
       ]
      },
      {
       "output_type": "stream",
       "stream": "stdout",
       "text": [
        "Scanning .ped file... 0%"
       ]
      },
      {
       "output_type": "stream",
       "stream": "stdout",
       "text": [
        "\b\b1%"
       ]
      },
      {
       "output_type": "stream",
       "stream": "stdout",
       "text": [
        "\b\b1%\b\b1%\b\b1%"
       ]
      },
      {
       "output_type": "stream",
       "stream": "stdout",
       "text": [
        "\b\b1%\b\b1%"
       ]
      },
      {
       "output_type": "stream",
       "stream": "stdout",
       "text": [
        "\b\b1%\b\b1%"
       ]
      },
      {
       "output_type": "stream",
       "stream": "stdout",
       "text": [
        "\b\b1%\b\b1%\b\b1%"
       ]
      },
      {
       "output_type": "stream",
       "stream": "stdout",
       "text": [
        "\b\b1%\b\b2%"
       ]
      },
      {
       "output_type": "stream",
       "stream": "stdout",
       "text": [
        "\b\b2%\b\b2%"
       ]
      },
      {
       "output_type": "stream",
       "stream": "stdout",
       "text": [
        "\b\b2%\b\b2%\b\b2%"
       ]
      },
      {
       "output_type": "stream",
       "stream": "stdout",
       "text": [
        "\b\b2%\b\b2%"
       ]
      },
      {
       "output_type": "stream",
       "stream": "stdout",
       "text": [
        "\b\b2%\b\b2%"
       ]
      },
      {
       "output_type": "stream",
       "stream": "stdout",
       "text": [
        "\b\b2%\b\b2%\b\b3%"
       ]
      },
      {
       "output_type": "stream",
       "stream": "stdout",
       "text": [
        "\b\b3%\b\b3%"
       ]
      },
      {
       "output_type": "stream",
       "stream": "stdout",
       "text": [
        "\b\b3%\b\b3%"
       ]
      },
      {
       "output_type": "stream",
       "stream": "stdout",
       "text": [
        "\b\b3%\b\b3%\b\b3%"
       ]
      },
      {
       "output_type": "stream",
       "stream": "stdout",
       "text": [
        "\b\b3%\b\b3%"
       ]
      },
      {
       "output_type": "stream",
       "stream": "stdout",
       "text": [
        "\b\b3%\b\b3%\b\b4%"
       ]
      },
      {
       "output_type": "stream",
       "stream": "stdout",
       "text": [
        "\b\b4%\b\b4%"
       ]
      },
      {
       "output_type": "stream",
       "stream": "stdout",
       "text": [
        "\b\b4%\b\b4%"
       ]
      },
      {
       "output_type": "stream",
       "stream": "stdout",
       "text": [
        "\b\b4%\b\b4%\b\b4%"
       ]
      },
      {
       "output_type": "stream",
       "stream": "stdout",
       "text": [
        "\b\b4%\b\b4%"
       ]
      },
      {
       "output_type": "stream",
       "stream": "stdout",
       "text": [
        "\b\b4%\b\b4%"
       ]
      },
      {
       "output_type": "stream",
       "stream": "stdout",
       "text": [
        "\b\b5%\b\b5%\b\b5%"
       ]
      },
      {
       "output_type": "stream",
       "stream": "stdout",
       "text": [
        "\b\b5%\b\b5%"
       ]
      },
      {
       "output_type": "stream",
       "stream": "stdout",
       "text": [
        "\b\b5%\b\b5%"
       ]
      },
      {
       "output_type": "stream",
       "stream": "stdout",
       "text": [
        "\b\b5%\b\b5%\b\b5%"
       ]
      },
      {
       "output_type": "stream",
       "stream": "stdout",
       "text": [
        "\b\b5%\b\b5%"
       ]
      },
      {
       "output_type": "stream",
       "stream": "stdout",
       "text": [
        "\b\b6%\b\b6%"
       ]
      },
      {
       "output_type": "stream",
       "stream": "stdout",
       "text": [
        "\b\b6%\b\b6%\b\b6%"
       ]
      },
      {
       "output_type": "stream",
       "stream": "stdout",
       "text": [
        "\b\b6%\b\b6%"
       ]
      },
      {
       "output_type": "stream",
       "stream": "stdout",
       "text": [
        "\b\b6%\b\b6%\b\b6%"
       ]
      },
      {
       "output_type": "stream",
       "stream": "stdout",
       "text": [
        "\b\b6%\b\b7%"
       ]
      },
      {
       "output_type": "stream",
       "stream": "stdout",
       "text": [
        "\b\b7%\b\b7%"
       ]
      },
      {
       "output_type": "stream",
       "stream": "stdout",
       "text": [
        "\b\b7%\b\b7%\b\b7%"
       ]
      },
      {
       "output_type": "stream",
       "stream": "stdout",
       "text": [
        "\b\b7%\b\b7%"
       ]
      },
      {
       "output_type": "stream",
       "stream": "stdout",
       "text": [
        "\b\b7%\b\b7%"
       ]
      },
      {
       "output_type": "stream",
       "stream": "stdout",
       "text": [
        "\b\b7%\b\b7%\b\b8%"
       ]
      },
      {
       "output_type": "stream",
       "stream": "stdout",
       "text": [
        "\b\b8%\b\b8%"
       ]
      },
      {
       "output_type": "stream",
       "stream": "stdout",
       "text": [
        "\b\b8%\b\b8%"
       ]
      },
      {
       "output_type": "stream",
       "stream": "stdout",
       "text": [
        "\b\b8%\b\b8%\b\b8%"
       ]
      },
      {
       "output_type": "stream",
       "stream": "stdout",
       "text": [
        "\b\b8%\b\b8%"
       ]
      },
      {
       "output_type": "stream",
       "stream": "stdout",
       "text": [
        "\b\b8%\b\b8%"
       ]
      },
      {
       "output_type": "stream",
       "stream": "stdout",
       "text": [
        "\b\b9%\b\b9%"
       ]
      },
      {
       "output_type": "stream",
       "stream": "stdout",
       "text": [
        "\b\b9%\b\b9%\b\b9%"
       ]
      },
      {
       "output_type": "stream",
       "stream": "stdout",
       "text": [
        "\b\b9%\b\b9%"
       ]
      },
      {
       "output_type": "stream",
       "stream": "stdout",
       "text": [
        "\b\b9%\b\b9%"
       ]
      },
      {
       "output_type": "stream",
       "stream": "stdout",
       "text": [
        "\b\b9%\b\b9%"
       ]
      },
      {
       "output_type": "stream",
       "stream": "stdout",
       "text": [
        "\b\b9%\b\b10%"
       ]
      },
      {
       "output_type": "stream",
       "stream": "stdout",
       "text": [
        "\b\b\b10%\b\b\b10%\b\b\b10%"
       ]
      },
      {
       "output_type": "stream",
       "stream": "stdout",
       "text": [
        "\b\b\b10%\b\b\b10%"
       ]
      },
      {
       "output_type": "stream",
       "stream": "stdout",
       "text": [
        "\b\b\b10%\b\b\b10%"
       ]
      },
      {
       "output_type": "stream",
       "stream": "stdout",
       "text": [
        "\b\b\b10%\b\b\b10%\b\b\b10%"
       ]
      },
      {
       "output_type": "stream",
       "stream": "stdout",
       "text": [
        "\b\b\b10%\b\b\b11%"
       ]
      },
      {
       "output_type": "stream",
       "stream": "stdout",
       "text": [
        "\b\b\b11%\b\b\b11%"
       ]
      },
      {
       "output_type": "stream",
       "stream": "stdout",
       "text": [
        "\b\b\b11%\b\b\b11%"
       ]
      },
      {
       "output_type": "stream",
       "stream": "stdout",
       "text": [
        "\b\b\b11%\b\b\b11%\b\b\b11%"
       ]
      },
      {
       "output_type": "stream",
       "stream": "stdout",
       "text": [
        "\b\b\b11%\b\b\b11%"
       ]
      },
      {
       "output_type": "stream",
       "stream": "stdout",
       "text": [
        "\b\b\b11%\b\b\b11%"
       ]
      },
      {
       "output_type": "stream",
       "stream": "stdout",
       "text": [
        "\b\b\b12%\b\b\b12%"
       ]
      },
      {
       "output_type": "stream",
       "stream": "stdout",
       "text": [
        "\b\b\b12%\b\b\b12%\b\b\b12%"
       ]
      },
      {
       "output_type": "stream",
       "stream": "stdout",
       "text": [
        "\b\b\b12%\b\b\b12%"
       ]
      },
      {
       "output_type": "stream",
       "stream": "stdout",
       "text": [
        "\b\b\b12%\b\b\b12%"
       ]
      },
      {
       "output_type": "stream",
       "stream": "stdout",
       "text": [
        "\b\b\b12%\b\b\b12%"
       ]
      },
      {
       "output_type": "stream",
       "stream": "stdout",
       "text": [
        "\b\b\b13%\b\b\b13%\b\b\b13%"
       ]
      },
      {
       "output_type": "stream",
       "stream": "stdout",
       "text": [
        "\b\b\b13%\b\b\b13%"
       ]
      },
      {
       "output_type": "stream",
       "stream": "stdout",
       "text": [
        "\b\b\b13%\b\b\b13%"
       ]
      },
      {
       "output_type": "stream",
       "stream": "stdout",
       "text": [
        "\b\b\b13%\b\b\b13%\b\b\b13%"
       ]
      },
      {
       "output_type": "stream",
       "stream": "stdout",
       "text": [
        "\b\b\b13%\b\b\b13%"
       ]
      },
      {
       "output_type": "stream",
       "stream": "stdout",
       "text": [
        "\b\b\b14%\b\b\b14%"
       ]
      },
      {
       "output_type": "stream",
       "stream": "stdout",
       "text": [
        "\b\b\b14%\b\b\b14%"
       ]
      },
      {
       "output_type": "stream",
       "stream": "stdout",
       "text": [
        "\b\b\b14%\b\b\b14%\b\b\b14%"
       ]
      },
      {
       "output_type": "stream",
       "stream": "stdout",
       "text": [
        "\b\b\b14%\b\b\b14%"
       ]
      },
      {
       "output_type": "stream",
       "stream": "stdout",
       "text": [
        "\b\b\b14%\b\b\b14%"
       ]
      },
      {
       "output_type": "stream",
       "stream": "stdout",
       "text": [
        "\b\b\b14%\b\b\b15%"
       ]
      },
      {
       "output_type": "stream",
       "stream": "stdout",
       "text": [
        "\b\b\b15%\b\b\b15%\b\b\b15%"
       ]
      },
      {
       "output_type": "stream",
       "stream": "stdout",
       "text": [
        "\b\b\b15%\b\b\b15%"
       ]
      },
      {
       "output_type": "stream",
       "stream": "stdout",
       "text": [
        "\b\b\b15%\b\b\b15%"
       ]
      },
      {
       "output_type": "stream",
       "stream": "stdout",
       "text": [
        "\b\b\b15%\b\b\b15%"
       ]
      },
      {
       "output_type": "stream",
       "stream": "stdout",
       "text": [
        "\b\b\b15%\b\b\b15%"
       ]
      },
      {
       "output_type": "stream",
       "stream": "stdout",
       "text": [
        "\b\b\b16%\b\b\b16%"
       ]
      },
      {
       "output_type": "stream",
       "stream": "stdout",
       "text": [
        "\b\b\b16%\b\b\b16%"
       ]
      },
      {
       "output_type": "stream",
       "stream": "stdout",
       "text": [
        "\b\b\b16%\b\b\b16%"
       ]
      },
      {
       "output_type": "stream",
       "stream": "stdout",
       "text": [
        "\b\b\b16%\b\b\b16%\b\b\b16%"
       ]
      },
      {
       "output_type": "stream",
       "stream": "stdout",
       "text": [
        "\b\b\b16%\b\b\b16%"
       ]
      },
      {
       "output_type": "stream",
       "stream": "stdout",
       "text": [
        "\b\b\b16%\b\b\b17%"
       ]
      },
      {
       "output_type": "stream",
       "stream": "stdout",
       "text": [
        "\b\b\b17%\b\b\b17%"
       ]
      },
      {
       "output_type": "stream",
       "stream": "stdout",
       "text": [
        "\b\b\b17%\b\b\b17%"
       ]
      },
      {
       "output_type": "stream",
       "stream": "stdout",
       "text": [
        "\b\b\b17%\b\b\b17%"
       ]
      },
      {
       "output_type": "stream",
       "stream": "stdout",
       "text": [
        "\b\b\b17%\b\b\b17%\b\b\b17%"
       ]
      },
      {
       "output_type": "stream",
       "stream": "stdout",
       "text": [
        "\b\b\b17%\b\b\b17%"
       ]
      },
      {
       "output_type": "stream",
       "stream": "stdout",
       "text": [
        "\b\b\b18%\b\b\b18%"
       ]
      },
      {
       "output_type": "stream",
       "stream": "stdout",
       "text": [
        "\b\b\b18%\b\b\b18%\b\b\b18%"
       ]
      },
      {
       "output_type": "stream",
       "stream": "stdout",
       "text": [
        "\b\b\b18%\b\b\b18%"
       ]
      },
      {
       "output_type": "stream",
       "stream": "stdout",
       "text": [
        "\b\b\b18%\b\b\b18%"
       ]
      },
      {
       "output_type": "stream",
       "stream": "stdout",
       "text": [
        "\b\b\b18%\b\b\b18%"
       ]
      },
      {
       "output_type": "stream",
       "stream": "stdout",
       "text": [
        "\b\b\b19%\b\b\b19%\b\b\b19%"
       ]
      },
      {
       "output_type": "stream",
       "stream": "stdout",
       "text": [
        "\b\b\b19%\b\b\b19%"
       ]
      },
      {
       "output_type": "stream",
       "stream": "stdout",
       "text": [
        "\b\b\b19%\b\b\b19%"
       ]
      },
      {
       "output_type": "stream",
       "stream": "stdout",
       "text": [
        "\b\b\b19%\b\b\b19%\b\b\b19%"
       ]
      },
      {
       "output_type": "stream",
       "stream": "stdout",
       "text": [
        "\b\b\b19%\b\b\b19%"
       ]
      },
      {
       "output_type": "stream",
       "stream": "stdout",
       "text": [
        "\b\b\b20%\b\b\b20%"
       ]
      },
      {
       "output_type": "stream",
       "stream": "stdout",
       "text": [
        "\b\b\b20%\b\b\b20%"
       ]
      },
      {
       "output_type": "stream",
       "stream": "stdout",
       "text": [
        "\b\b\b20%\b\b\b20%"
       ]
      },
      {
       "output_type": "stream",
       "stream": "stdout",
       "text": [
        "\b\b\b20%\b\b\b20%"
       ]
      },
      {
       "output_type": "stream",
       "stream": "stdout",
       "text": [
        "\b\b\b20%\b\b\b20%"
       ]
      },
      {
       "output_type": "stream",
       "stream": "stdout",
       "text": [
        "\b\b\b20%\b\b\b20%\b\b\b21%"
       ]
      },
      {
       "output_type": "stream",
       "stream": "stdout",
       "text": [
        "\b\b\b21%\b\b\b21%"
       ]
      },
      {
       "output_type": "stream",
       "stream": "stdout",
       "text": [
        "\b\b\b21%\b\b\b21%"
       ]
      },
      {
       "output_type": "stream",
       "stream": "stdout",
       "text": [
        "\b\b\b21%\b\b\b21%"
       ]
      },
      {
       "output_type": "stream",
       "stream": "stdout",
       "text": [
        "\b\b\b21%\b\b\b21%"
       ]
      },
      {
       "output_type": "stream",
       "stream": "stdout",
       "text": [
        "\b\b\b21%\b\b\b21%\b\b\b21%"
       ]
      },
      {
       "output_type": "stream",
       "stream": "stdout",
       "text": [
        "\b\b\b22%\b\b\b22%"
       ]
      },
      {
       "output_type": "stream",
       "stream": "stdout",
       "text": [
        "\b\b\b22%\b\b\b22%"
       ]
      },
      {
       "output_type": "stream",
       "stream": "stdout",
       "text": [
        "\b\b\b22%\b\b\b22%"
       ]
      },
      {
       "output_type": "stream",
       "stream": "stdout",
       "text": [
        "\b\b\b22%\b\b\b22%\b\b\b22%"
       ]
      },
      {
       "output_type": "stream",
       "stream": "stdout",
       "text": [
        "\b\b\b22%\b\b\b22%"
       ]
      },
      {
       "output_type": "stream",
       "stream": "stdout",
       "text": [
        "\b\b\b22%\b\b\b23%"
       ]
      },
      {
       "output_type": "stream",
       "stream": "stdout",
       "text": [
        "\b\b\b23%\b\b\b23%\b\b\b23%"
       ]
      },
      {
       "output_type": "stream",
       "stream": "stdout",
       "text": [
        "\b\b\b23%\b\b\b23%"
       ]
      },
      {
       "output_type": "stream",
       "stream": "stdout",
       "text": [
        "\b\b\b23%\b\b\b23%"
       ]
      },
      {
       "output_type": "stream",
       "stream": "stdout",
       "text": [
        "\b\b\b23%\b\b\b23%"
       ]
      },
      {
       "output_type": "stream",
       "stream": "stdout",
       "text": [
        "\b\b\b23%\b\b\b23%\b\b\b24%"
       ]
      },
      {
       "output_type": "stream",
       "stream": "stdout",
       "text": [
        "\b\b\b24%\b\b\b24%"
       ]
      },
      {
       "output_type": "stream",
       "stream": "stdout",
       "text": [
        "\b\b\b24%\b\b\b24%"
       ]
      },
      {
       "output_type": "stream",
       "stream": "stdout",
       "text": [
        "\b\b\b24%\b\b\b24%\b\b\b24%"
       ]
      },
      {
       "output_type": "stream",
       "stream": "stdout",
       "text": [
        "\b\b\b24%\b\b\b24%"
       ]
      },
      {
       "output_type": "stream",
       "stream": "stdout",
       "text": [
        "\b\b\b24%\b\b\b25%"
       ]
      },
      {
       "output_type": "stream",
       "stream": "stdout",
       "text": [
        "\b\b\b25%\b\b\b25%"
       ]
      },
      {
       "output_type": "stream",
       "stream": "stdout",
       "text": [
        "\b\b\b25%\b\b\b25%\b\b\b25%"
       ]
      },
      {
       "output_type": "stream",
       "stream": "stdout",
       "text": [
        "\b\b\b25%\b\b\b25%"
       ]
      },
      {
       "output_type": "stream",
       "stream": "stdout",
       "text": [
        "\b\b\b25%\b\b\b25%"
       ]
      },
      {
       "output_type": "stream",
       "stream": "stdout",
       "text": [
        "\b\b\b25%\b\b\b25%\b\b\b26%"
       ]
      },
      {
       "output_type": "stream",
       "stream": "stdout",
       "text": [
        "\b\b\b26%\b\b\b26%"
       ]
      },
      {
       "output_type": "stream",
       "stream": "stdout",
       "text": [
        "\b\b\b26%\b\b\b26%"
       ]
      },
      {
       "output_type": "stream",
       "stream": "stdout",
       "text": [
        "\b\b\b26%\b\b\b26%\b\b\b26%"
       ]
      },
      {
       "output_type": "stream",
       "stream": "stdout",
       "text": [
        "\b\b\b26%\b\b\b26%"
       ]
      },
      {
       "output_type": "stream",
       "stream": "stdout",
       "text": [
        "\b\b\b26%\b\b\b26%"
       ]
      },
      {
       "output_type": "stream",
       "stream": "stdout",
       "text": [
        "\b\b\b27%\b\b\b27%\b\b\b27%"
       ]
      },
      {
       "output_type": "stream",
       "stream": "stdout",
       "text": [
        "\b\b\b27%\b\b\b27%"
       ]
      },
      {
       "output_type": "stream",
       "stream": "stdout",
       "text": [
        "\b\b\b27%\b\b\b27%"
       ]
      },
      {
       "output_type": "stream",
       "stream": "stdout",
       "text": [
        "\b\b\b27%\b\b\b27%\b\b\b27%"
       ]
      },
      {
       "output_type": "stream",
       "stream": "stdout",
       "text": [
        "\b\b\b27%\b\b\b27%"
       ]
      },
      {
       "output_type": "stream",
       "stream": "stdout",
       "text": [
        "\b\b\b28%\b\b\b28%"
       ]
      },
      {
       "output_type": "stream",
       "stream": "stdout",
       "text": [
        "\b\b\b28%\b\b\b28%\b\b\b28%"
       ]
      },
      {
       "output_type": "stream",
       "stream": "stdout",
       "text": [
        "\b\b\b28%\b\b\b28%"
       ]
      },
      {
       "output_type": "stream",
       "stream": "stdout",
       "text": [
        "\b\b\b28%\b\b\b28%"
       ]
      },
      {
       "output_type": "stream",
       "stream": "stdout",
       "text": [
        "\b\b\b28%\b\b\b28%"
       ]
      },
      {
       "output_type": "stream",
       "stream": "stdout",
       "text": [
        "\b\b\b28%\b\b\b29%\b\b\b29%"
       ]
      },
      {
       "output_type": "stream",
       "stream": "stdout",
       "text": [
        "\b\b\b29%\b\b\b29%"
       ]
      },
      {
       "output_type": "stream",
       "stream": "stdout",
       "text": [
        "\b\b\b29%\b\b\b29%"
       ]
      },
      {
       "output_type": "stream",
       "stream": "stdout",
       "text": [
        "\b\b\b29%\b\b\b29%\b\b\b29%"
       ]
      },
      {
       "output_type": "stream",
       "stream": "stdout",
       "text": [
        "\b\b\b29%\b\b\b29%"
       ]
      },
      {
       "output_type": "stream",
       "stream": "stdout",
       "text": [
        "\b\b\b29%\b\b\b30%"
       ]
      },
      {
       "output_type": "stream",
       "stream": "stdout",
       "text": [
        "\b\b\b30%\b\b\b30%\b\b\b30%"
       ]
      },
      {
       "output_type": "stream",
       "stream": "stdout",
       "text": [
        "\b\b\b30%\b\b\b30%"
       ]
      },
      {
       "output_type": "stream",
       "stream": "stdout",
       "text": [
        "\b\b\b30%\b\b\b30%"
       ]
      },
      {
       "output_type": "stream",
       "stream": "stdout",
       "text": [
        "\b\b\b30%\b\b\b30%\b\b\b30%"
       ]
      },
      {
       "output_type": "stream",
       "stream": "stdout",
       "text": [
        "\b\b\b30%\b\b\b31%"
       ]
      },
      {
       "output_type": "stream",
       "stream": "stdout",
       "text": [
        "\b\b\b31%\b\b\b31%"
       ]
      },
      {
       "output_type": "stream",
       "stream": "stdout",
       "text": [
        "\b\b\b31%\b\b\b31%\b\b\b31%"
       ]
      },
      {
       "output_type": "stream",
       "stream": "stdout",
       "text": [
        "\b\b\b31%\b\b\b31%"
       ]
      },
      {
       "output_type": "stream",
       "stream": "stdout",
       "text": [
        "\b\b\b31%\b\b\b31%"
       ]
      },
      {
       "output_type": "stream",
       "stream": "stdout",
       "text": [
        "\b\b\b31%\b\b\b32%\b\b\b32%"
       ]
      },
      {
       "output_type": "stream",
       "stream": "stdout",
       "text": [
        "\b\b\b32%\b\b\b32%"
       ]
      },
      {
       "output_type": "stream",
       "stream": "stdout",
       "text": [
        "\b\b\b32%\b\b\b32%"
       ]
      },
      {
       "output_type": "stream",
       "stream": "stdout",
       "text": [
        "\b\b\b32%\b\b\b32%"
       ]
      },
      {
       "output_type": "stream",
       "stream": "stdout",
       "text": [
        "\b\b\b32%\b\b\b32%\b\b\b32%"
       ]
      },
      {
       "output_type": "stream",
       "stream": "stdout",
       "text": [
        "\b\b\b32%\b\b\b33%"
       ]
      },
      {
       "output_type": "stream",
       "stream": "stdout",
       "text": [
        "\b\b\b33%\b\b\b33%\b\b\b33%"
       ]
      },
      {
       "output_type": "stream",
       "stream": "stdout",
       "text": [
        "\b\b\b33%\b\b\b33%"
       ]
      },
      {
       "output_type": "stream",
       "stream": "stdout",
       "text": [
        "\b\b\b33%\b\b\b33%"
       ]
      },
      {
       "output_type": "stream",
       "stream": "stdout",
       "text": [
        "\b\b\b33%\b\b\b33%"
       ]
      },
      {
       "output_type": "stream",
       "stream": "stdout",
       "text": [
        "\b\b\b33%\b\b\b33%\b\b\b34%"
       ]
      },
      {
       "output_type": "stream",
       "stream": "stdout",
       "text": [
        "\b\b\b34%\b\b\b34%"
       ]
      },
      {
       "output_type": "stream",
       "stream": "stdout",
       "text": [
        "\b\b\b34%\b\b\b34%"
       ]
      },
      {
       "output_type": "stream",
       "stream": "stdout",
       "text": [
        "\b\b\b34%\b\b\b34%\b\b\b34%"
       ]
      },
      {
       "output_type": "stream",
       "stream": "stdout",
       "text": [
        "\b\b\b34%\b\b\b34%"
       ]
      },
      {
       "output_type": "stream",
       "stream": "stdout",
       "text": [
        "\b\b\b34%\b\b\b34%"
       ]
      },
      {
       "output_type": "stream",
       "stream": "stdout",
       "text": [
        "\b\b\b35%\b\b\b35%\b\b\b35%"
       ]
      },
      {
       "output_type": "stream",
       "stream": "stdout",
       "text": [
        "\b\b\b35%\b\b\b35%"
       ]
      },
      {
       "output_type": "stream",
       "stream": "stdout",
       "text": [
        "\b\b\b35%\b\b\b35%"
       ]
      },
      {
       "output_type": "stream",
       "stream": "stdout",
       "text": [
        "\b\b\b35%\b\b\b35%"
       ]
      },
      {
       "output_type": "stream",
       "stream": "stdout",
       "text": [
        "\b\b\b35%\b\b\b35%"
       ]
      },
      {
       "output_type": "stream",
       "stream": "stdout",
       "text": [
        "\b\b\b35%\b\b\b36%\b\b\b36%"
       ]
      },
      {
       "output_type": "stream",
       "stream": "stdout",
       "text": [
        "\b\b\b36%\b\b\b36%"
       ]
      },
      {
       "output_type": "stream",
       "stream": "stdout",
       "text": [
        "\b\b\b36%\b\b\b36%"
       ]
      },
      {
       "output_type": "stream",
       "stream": "stdout",
       "text": [
        "\b\b\b36%\b\b\b36%\b\b\b36%"
       ]
      },
      {
       "output_type": "stream",
       "stream": "stdout",
       "text": [
        "\b\b\b36%\b\b\b36%"
       ]
      },
      {
       "output_type": "stream",
       "stream": "stdout",
       "text": [
        "\b\b\b36%\b\b\b37%"
       ]
      },
      {
       "output_type": "stream",
       "stream": "stdout",
       "text": [
        "\b\b\b37%\b\b\b37%"
       ]
      },
      {
       "output_type": "stream",
       "stream": "stdout",
       "text": [
        "\b\b\b37%\b\b\b37%\b\b\b37%"
       ]
      },
      {
       "output_type": "stream",
       "stream": "stdout",
       "text": [
        "\b\b\b37%\b\b\b37%"
       ]
      },
      {
       "output_type": "stream",
       "stream": "stdout",
       "text": [
        "\b\b\b37%\b\b\b37%"
       ]
      },
      {
       "output_type": "stream",
       "stream": "stdout",
       "text": [
        "\b\b\b37%\b\b\b38%"
       ]
      },
      {
       "output_type": "stream",
       "stream": "stdout",
       "text": [
        "\b\b\b38%\b\b\b38%\b\b\b38%"
       ]
      },
      {
       "output_type": "stream",
       "stream": "stdout",
       "text": [
        "\b\b\b38%\b\b\b38%"
       ]
      },
      {
       "output_type": "stream",
       "stream": "stdout",
       "text": [
        "\b\b\b38%\b\b\b38%"
       ]
      },
      {
       "output_type": "stream",
       "stream": "stdout",
       "text": [
        "\b\b\b38%\b\b\b38%"
       ]
      },
      {
       "output_type": "stream",
       "stream": "stdout",
       "text": [
        "\b\b\b38%\b\b\b38%\b\b\b39%"
       ]
      },
      {
       "output_type": "stream",
       "stream": "stdout",
       "text": [
        "\b\b\b39%\b\b\b39%"
       ]
      },
      {
       "output_type": "stream",
       "stream": "stdout",
       "text": [
        "\b\b\b39%\b\b\b39%"
       ]
      },
      {
       "output_type": "stream",
       "stream": "stdout",
       "text": [
        "\b\b\b39%\b\b\b39%"
       ]
      },
      {
       "output_type": "stream",
       "stream": "stdout",
       "text": [
        "\b\b\b39%\b\b\b39%"
       ]
      },
      {
       "output_type": "stream",
       "stream": "stdout",
       "text": [
        "\b\b\b39%\b\b\b39%"
       ]
      },
      {
       "output_type": "stream",
       "stream": "stdout",
       "text": [
        "\b\b\b39%\b\b\b40%"
       ]
      },
      {
       "output_type": "stream",
       "stream": "stdout",
       "text": [
        "\b\b\b40%\b\b\b40%\b\b\b40%"
       ]
      },
      {
       "output_type": "stream",
       "stream": "stdout",
       "text": [
        "\b\b\b40%\b\b\b40%"
       ]
      },
      {
       "output_type": "stream",
       "stream": "stdout",
       "text": [
        "\b\b\b40%\b\b\b40%"
       ]
      },
      {
       "output_type": "stream",
       "stream": "stdout",
       "text": [
        "\b\b\b40%\b\b\b40%"
       ]
      },
      {
       "output_type": "stream",
       "stream": "stdout",
       "text": [
        "\b\b\b40%\b\b\b40%"
       ]
      },
      {
       "output_type": "stream",
       "stream": "stdout",
       "text": [
        "\b\b\b41%\b\b\b41%"
       ]
      },
      {
       "output_type": "stream",
       "stream": "stdout",
       "text": [
        "\b\b\b41%\b\b\b41%"
       ]
      },
      {
       "output_type": "stream",
       "stream": "stdout",
       "text": [
        "\b\b\b41%\b\b\b41%"
       ]
      },
      {
       "output_type": "stream",
       "stream": "stdout",
       "text": [
        "\b\b\b41%\b\b\b41%\b\b\b41%"
       ]
      },
      {
       "output_type": "stream",
       "stream": "stdout",
       "text": [
        "\b\b\b41%\b\b\b41%"
       ]
      },
      {
       "output_type": "stream",
       "stream": "stdout",
       "text": [
        "\b\b\b41%\b\b\b42%\b\b\b42%"
       ]
      },
      {
       "output_type": "stream",
       "stream": "stdout",
       "text": [
        "\b\b\b42%\b\b\b42%"
       ]
      },
      {
       "output_type": "stream",
       "stream": "stdout",
       "text": [
        "\b\b\b42%\b\b\b42%"
       ]
      },
      {
       "output_type": "stream",
       "stream": "stdout",
       "text": [
        "\b\b\b42%\b\b\b42%\b\b\b42%"
       ]
      },
      {
       "output_type": "stream",
       "stream": "stdout",
       "text": [
        "\b\b\b42%\b\b\b42%"
       ]
      },
      {
       "output_type": "stream",
       "stream": "stdout",
       "text": [
        "\b\b\b42%\b\b\b43%"
       ]
      },
      {
       "output_type": "stream",
       "stream": "stdout",
       "text": [
        "\b\b\b43%\b\b\b43%\b\b\b43%"
       ]
      },
      {
       "output_type": "stream",
       "stream": "stdout",
       "text": [
        "\b\b\b43%\b\b\b43%"
       ]
      },
      {
       "output_type": "stream",
       "stream": "stdout",
       "text": [
        "\b\b\b43%\b\b\b43%"
       ]
      },
      {
       "output_type": "stream",
       "stream": "stdout",
       "text": [
        "\b\b\b43%\b\b\b43%\b\b\b43%"
       ]
      },
      {
       "output_type": "stream",
       "stream": "stdout",
       "text": [
        "\b\b\b44%\b\b\b44%"
       ]
      },
      {
       "output_type": "stream",
       "stream": "stdout",
       "text": [
        "\b\b\b44%\b\b\b44%"
       ]
      },
      {
       "output_type": "stream",
       "stream": "stdout",
       "text": [
        "\b\b\b44%\b\b\b44%\b\b\b44%"
       ]
      },
      {
       "output_type": "stream",
       "stream": "stdout",
       "text": [
        "\b\b\b44%\b\b\b44%"
       ]
      },
      {
       "output_type": "stream",
       "stream": "stdout",
       "text": [
        "\b\b\b44%\b\b\b44%"
       ]
      },
      {
       "output_type": "stream",
       "stream": "stdout",
       "text": [
        "\b\b\b44%\b\b\b45%\b\b\b45%"
       ]
      },
      {
       "output_type": "stream",
       "stream": "stdout",
       "text": [
        "\b\b\b45%\b\b\b45%"
       ]
      },
      {
       "output_type": "stream",
       "stream": "stdout",
       "text": [
        "\b\b\b45%\b\b\b45%"
       ]
      },
      {
       "output_type": "stream",
       "stream": "stdout",
       "text": [
        "\b\b\b45%\b\b\b45%\b\b\b45%"
       ]
      },
      {
       "output_type": "stream",
       "stream": "stdout",
       "text": [
        "\b\b\b45%\b\b\b45%"
       ]
      },
      {
       "output_type": "stream",
       "stream": "stdout",
       "text": [
        "\b\b\b45%\b\b\b46%"
       ]
      },
      {
       "output_type": "stream",
       "stream": "stdout",
       "text": [
        "\b\b\b46%\b\b\b46%\b\b\b46%"
       ]
      },
      {
       "output_type": "stream",
       "stream": "stdout",
       "text": [
        "\b\b\b46%\b\b\b46%"
       ]
      },
      {
       "output_type": "stream",
       "stream": "stdout",
       "text": [
        "\b\b\b46%\b\b\b46%\b\b\b46%"
       ]
      },
      {
       "output_type": "stream",
       "stream": "stdout",
       "text": [
        "\b\b\b46%\b\b\b46%"
       ]
      },
      {
       "output_type": "stream",
       "stream": "stdout",
       "text": [
        "\b\b\b46%\b\b\b47%"
       ]
      },
      {
       "output_type": "stream",
       "stream": "stdout",
       "text": [
        "\b\b\b47%\b\b\b47%\b\b\b47%"
       ]
      },
      {
       "output_type": "stream",
       "stream": "stdout",
       "text": [
        "\b\b\b47%\b\b\b47%"
       ]
      },
      {
       "output_type": "stream",
       "stream": "stdout",
       "text": [
        "\b\b\b47%\b\b\b47%"
       ]
      },
      {
       "output_type": "stream",
       "stream": "stdout",
       "text": [
        "\b\b\b47%\b\b\b47%\b\b\b47%"
       ]
      },
      {
       "output_type": "stream",
       "stream": "stdout",
       "text": [
        "\b\b\b47%\b\b\b48%"
       ]
      },
      {
       "output_type": "stream",
       "stream": "stdout",
       "text": [
        "\b\b\b48%\b\b\b48%"
       ]
      },
      {
       "output_type": "stream",
       "stream": "stdout",
       "text": [
        "\b\b\b48%\b\b\b48%\b\b\b48%"
       ]
      },
      {
       "output_type": "stream",
       "stream": "stdout",
       "text": [
        "\b\b\b48%\b\b\b48%"
       ]
      },
      {
       "output_type": "stream",
       "stream": "stdout",
       "text": [
        "\b\b\b48%\b\b\b48%"
       ]
      },
      {
       "output_type": "stream",
       "stream": "stdout",
       "text": [
        "\b\b\b48%\b\b\b48%\b\b\b49%"
       ]
      },
      {
       "output_type": "stream",
       "stream": "stdout",
       "text": [
        "\b\b\b49%\b\b\b49%"
       ]
      },
      {
       "output_type": "stream",
       "stream": "stdout",
       "text": [
        "\b\b\b49%\b\b\b49%"
       ]
      },
      {
       "output_type": "stream",
       "stream": "stdout",
       "text": [
        "\b\b\b49%\b\b\b49%\b\b\b49%"
       ]
      },
      {
       "output_type": "stream",
       "stream": "stdout",
       "text": [
        "\b\b\b49%\b\b\b49%"
       ]
      },
      {
       "output_type": "stream",
       "stream": "stdout",
       "text": [
        "\b\b\b49%\b\b\b50%"
       ]
      },
      {
       "output_type": "stream",
       "stream": "stdout",
       "text": [
        "\b\b\b50%\b\b\b50%\b\b\b50%"
       ]
      },
      {
       "output_type": "stream",
       "stream": "stdout",
       "text": [
        "\b\b\b50%\b\b\b50%"
       ]
      },
      {
       "output_type": "stream",
       "stream": "stdout",
       "text": [
        "\b\b\b50%\b\b\b50%\b\b\b50%"
       ]
      },
      {
       "output_type": "stream",
       "stream": "stdout",
       "text": [
        "\b\b\b50%\b\b\b50%"
       ]
      },
      {
       "output_type": "stream",
       "stream": "stdout",
       "text": [
        "\b\b\b50%\b\b\b51%"
       ]
      },
      {
       "output_type": "stream",
       "stream": "stdout",
       "text": [
        "\b\b\b51%\b\b\b51%\b\b\b51%"
       ]
      },
      {
       "output_type": "stream",
       "stream": "stdout",
       "text": [
        "\b\b\b51%\b\b\b51%"
       ]
      },
      {
       "output_type": "stream",
       "stream": "stdout",
       "text": [
        "\b\b\b51%\b\b\b51%"
       ]
      },
      {
       "output_type": "stream",
       "stream": "stdout",
       "text": [
        "\b\b\b51%\b\b\b51%\b\b\b51%"
       ]
      },
      {
       "output_type": "stream",
       "stream": "stdout",
       "text": [
        "\b\b\b51%\b\b\b52%"
       ]
      },
      {
       "output_type": "stream",
       "stream": "stdout",
       "text": [
        "\b\b\b52%\b\b\b52%\b\b\b52%"
       ]
      },
      {
       "output_type": "stream",
       "stream": "stdout",
       "text": [
        "\b\b\b52%\b\b\b52%"
       ]
      },
      {
       "output_type": "stream",
       "stream": "stdout",
       "text": [
        "\b\b\b52%\b\b\b52%"
       ]
      },
      {
       "output_type": "stream",
       "stream": "stdout",
       "text": [
        "\b\b\b52%\b\b\b52%\b\b\b52%"
       ]
      },
      {
       "output_type": "stream",
       "stream": "stdout",
       "text": [
        "\b\b\b52%\b\b\b53%"
       ]
      },
      {
       "output_type": "stream",
       "stream": "stdout",
       "text": [
        "\b\b\b53%\b\b\b53%"
       ]
      },
      {
       "output_type": "stream",
       "stream": "stdout",
       "text": [
        "\b\b\b53%\b\b\b53%\b\b\b53%"
       ]
      },
      {
       "output_type": "stream",
       "stream": "stdout",
       "text": [
        "\b\b\b53%\b\b\b53%"
       ]
      },
      {
       "output_type": "stream",
       "stream": "stdout",
       "text": [
        "\b\b\b53%\b\b\b53%"
       ]
      },
      {
       "output_type": "stream",
       "stream": "stdout",
       "text": [
        "\b\b\b53%\b\b\b53%"
       ]
      },
      {
       "output_type": "stream",
       "stream": "stdout",
       "text": [
        "\b\b\b54%\b\b\b54%"
       ]
      },
      {
       "output_type": "stream",
       "stream": "stdout",
       "text": [
        "\b\b\b54%\b\b\b54%\b\b\b54%"
       ]
      },
      {
       "output_type": "stream",
       "stream": "stdout",
       "text": [
        "\b\b\b54%\b\b\b54%"
       ]
      },
      {
       "output_type": "stream",
       "stream": "stdout",
       "text": [
        "\b\b\b54%\b\b\b54%"
       ]
      },
      {
       "output_type": "stream",
       "stream": "stdout",
       "text": [
        "\b\b\b54%\b\b\b54%"
       ]
      },
      {
       "output_type": "stream",
       "stream": "stdout",
       "text": [
        "\b\b\b54%\b\b\b55%\b\b\b55%"
       ]
      },
      {
       "output_type": "stream",
       "stream": "stdout",
       "text": [
        "\b\b\b55%\b\b\b55%"
       ]
      },
      {
       "output_type": "stream",
       "stream": "stdout",
       "text": [
        "\b\b\b55%\b\b\b55%\b\b\b55%"
       ]
      },
      {
       "output_type": "stream",
       "stream": "stdout",
       "text": [
        "\b\b\b55%\b\b\b55%"
       ]
      },
      {
       "output_type": "stream",
       "stream": "stdout",
       "text": [
        "\b\b\b55%\b\b\b55%"
       ]
      },
      {
       "output_type": "stream",
       "stream": "stdout",
       "text": [
        "\b\b\b55%\b\b\b56%"
       ]
      },
      {
       "output_type": "stream",
       "stream": "stdout",
       "text": [
        "\b\b\b56%\b\b\b56%"
       ]
      },
      {
       "output_type": "stream",
       "stream": "stdout",
       "text": [
        "\b\b\b56%\b\b\b56%"
       ]
      },
      {
       "output_type": "stream",
       "stream": "stdout",
       "text": [
        "\b\b\b56%\b\b\b56%\b\b\b56%"
       ]
      },
      {
       "output_type": "stream",
       "stream": "stdout",
       "text": [
        "\b\b\b56%\b\b\b56%"
       ]
      },
      {
       "output_type": "stream",
       "stream": "stdout",
       "text": [
        "\b\b\b56%\b\b\b57%"
       ]
      },
      {
       "output_type": "stream",
       "stream": "stdout",
       "text": [
        "\b\b\b57%\b\b\b57%"
       ]
      },
      {
       "output_type": "stream",
       "stream": "stdout",
       "text": [
        "\b\b\b57%\b\b\b57%"
       ]
      },
      {
       "output_type": "stream",
       "stream": "stdout",
       "text": [
        "\b\b\b57%\b\b\b57%"
       ]
      },
      {
       "output_type": "stream",
       "stream": "stdout",
       "text": [
        "\b\b\b57%\b\b\b57%\b\b\b57%"
       ]
      },
      {
       "output_type": "stream",
       "stream": "stdout",
       "text": [
        "\b\b\b57%\b\b\b57%"
       ]
      },
      {
       "output_type": "stream",
       "stream": "stdout",
       "text": [
        "\b\b\b58%\b\b\b58%"
       ]
      },
      {
       "output_type": "stream",
       "stream": "stdout",
       "text": [
        "\b\b\b58%\b\b\b58%"
       ]
      },
      {
       "output_type": "stream",
       "stream": "stdout",
       "text": [
        "\b\b\b58%\b\b\b58%"
       ]
      },
      {
       "output_type": "stream",
       "stream": "stdout",
       "text": [
        "\b\b\b58%\b\b\b58%"
       ]
      },
      {
       "output_type": "stream",
       "stream": "stdout",
       "text": [
        "\b\b\b58%\b\b\b58%\b\b\b58%"
       ]
      },
      {
       "output_type": "stream",
       "stream": "stdout",
       "text": [
        "\b\b\b58%\b\b\b59%"
       ]
      },
      {
       "output_type": "stream",
       "stream": "stdout",
       "text": [
        "\b\b\b59%\b\b\b59%"
       ]
      },
      {
       "output_type": "stream",
       "stream": "stdout",
       "text": [
        "\b\b\b59%\b\b\b59%"
       ]
      },
      {
       "output_type": "stream",
       "stream": "stdout",
       "text": [
        "\b\b\b59%\b\b\b59%"
       ]
      },
      {
       "output_type": "stream",
       "stream": "stdout",
       "text": [
        "\b\b\b59%\b\b\b59%"
       ]
      },
      {
       "output_type": "stream",
       "stream": "stdout",
       "text": [
        "\b\b\b59%\b\b\b59%\b\b\b59%"
       ]
      },
      {
       "output_type": "stream",
       "stream": "stdout",
       "text": [
        "\b\b\b60%\b\b\b60%"
       ]
      },
      {
       "output_type": "stream",
       "stream": "stdout",
       "text": [
        "\b\b\b60%\b\b\b60%"
       ]
      },
      {
       "output_type": "stream",
       "stream": "stdout",
       "text": [
        "\b\b\b60%\b\b\b60%\b\b\b60%"
       ]
      },
      {
       "output_type": "stream",
       "stream": "stdout",
       "text": [
        "\b\b\b60%\b\b\b60%"
       ]
      },
      {
       "output_type": "stream",
       "stream": "stdout",
       "text": [
        "\b\b\b60%\b\b\b60%"
       ]
      },
      {
       "output_type": "stream",
       "stream": "stdout",
       "text": [
        "\b\b\b60%\b\b\b61%"
       ]
      },
      {
       "output_type": "stream",
       "stream": "stdout",
       "text": [
        "\b\b\b61%\b\b\b61%\b\b\b61%"
       ]
      },
      {
       "output_type": "stream",
       "stream": "stdout",
       "text": [
        "\b\b\b61%\b\b\b61%"
       ]
      },
      {
       "output_type": "stream",
       "stream": "stdout",
       "text": [
        "\b\b\b61%\b\b\b61%"
       ]
      },
      {
       "output_type": "stream",
       "stream": "stdout",
       "text": [
        "\b\b\b61%\b\b\b61%"
       ]
      },
      {
       "output_type": "stream",
       "stream": "stdout",
       "text": [
        "\b\b\b61%\b\b\b61%"
       ]
      },
      {
       "output_type": "stream",
       "stream": "stdout",
       "text": [
        "\b\b\b62%\b\b\b62%"
       ]
      },
      {
       "output_type": "stream",
       "stream": "stdout",
       "text": [
        "\b\b\b62%\b\b\b62%\b\b\b62%"
       ]
      },
      {
       "output_type": "stream",
       "stream": "stdout",
       "text": [
        "\b\b\b62%\b\b\b62%"
       ]
      },
      {
       "output_type": "stream",
       "stream": "stdout",
       "text": [
        "\b\b\b62%\b\b\b62%"
       ]
      },
      {
       "output_type": "stream",
       "stream": "stdout",
       "text": [
        "\b\b\b62%\b\b\b62%"
       ]
      },
      {
       "output_type": "stream",
       "stream": "stdout",
       "text": [
        "\b\b\b63%\b\b\b63%\b\b\b63%"
       ]
      },
      {
       "output_type": "stream",
       "stream": "stdout",
       "text": [
        "\b\b\b63%\b\b\b63%"
       ]
      },
      {
       "output_type": "stream",
       "stream": "stdout",
       "text": [
        "\b\b\b63%\b\b\b63%"
       ]
      },
      {
       "output_type": "stream",
       "stream": "stdout",
       "text": [
        "\b\b\b63%\b\b\b63%"
       ]
      },
      {
       "output_type": "stream",
       "stream": "stdout",
       "text": [
        "\b\b\b63%\b\b\b63%\b\b\b63%"
       ]
      },
      {
       "output_type": "stream",
       "stream": "stdout",
       "text": [
        "\b\b\b64%\b\b\b64%"
       ]
      },
      {
       "output_type": "stream",
       "stream": "stdout",
       "text": [
        "\b\b\b64%\b\b\b64%"
       ]
      },
      {
       "output_type": "stream",
       "stream": "stdout",
       "text": [
        "\b\b\b64%\b\b\b64%"
       ]
      },
      {
       "output_type": "stream",
       "stream": "stdout",
       "text": [
        "\b\b\b64%\b\b\b64%\b\b\b64%"
       ]
      },
      {
       "output_type": "stream",
       "stream": "stdout",
       "text": [
        "\b\b\b64%\b\b\b64%"
       ]
      },
      {
       "output_type": "stream",
       "stream": "stdout",
       "text": [
        "\b\b\b64%\b\b\b65%"
       ]
      },
      {
       "output_type": "stream",
       "stream": "stdout",
       "text": [
        "\b\b\b65%\b\b\b65%\b\b\b65%"
       ]
      },
      {
       "output_type": "stream",
       "stream": "stdout",
       "text": [
        "\b\b\b65%\b\b\b65%"
       ]
      },
      {
       "output_type": "stream",
       "stream": "stdout",
       "text": [
        "\b\b\b65%\b\b\b65%"
       ]
      },
      {
       "output_type": "stream",
       "stream": "stdout",
       "text": [
        "\b\b\b65%\b\b\b65%\b\b\b65%"
       ]
      },
      {
       "output_type": "stream",
       "stream": "stdout",
       "text": [
        "\b\b\b65%\b\b\b66%"
       ]
      },
      {
       "output_type": "stream",
       "stream": "stdout",
       "text": [
        "\b\b\b66%\b\b\b66%"
       ]
      },
      {
       "output_type": "stream",
       "stream": "stdout",
       "text": [
        "\b\b\b66%\b\b\b66%\b\b\b66%"
       ]
      },
      {
       "output_type": "stream",
       "stream": "stdout",
       "text": [
        "\b\b\b66%\b\b\b66%"
       ]
      },
      {
       "output_type": "stream",
       "stream": "stdout",
       "text": [
        "\b\b\b66%\b\b\b66%"
       ]
      },
      {
       "output_type": "stream",
       "stream": "stdout",
       "text": [
        "\b\b\b66%\b\b\b66%"
       ]
      },
      {
       "output_type": "stream",
       "stream": "stdout",
       "text": [
        "\b\b\b67%\b\b\b67%\b\b\b67%"
       ]
      },
      {
       "output_type": "stream",
       "stream": "stdout",
       "text": [
        "\b\b\b67%\b\b\b67%"
       ]
      },
      {
       "output_type": "stream",
       "stream": "stdout",
       "text": [
        "\b\b\b67%\b\b\b67%"
       ]
      },
      {
       "output_type": "stream",
       "stream": "stdout",
       "text": [
        "\b\b\b67%\b\b\b67%"
       ]
      },
      {
       "output_type": "stream",
       "stream": "stdout",
       "text": [
        "\b\b\b67%\b\b\b67%\b\b\b67%"
       ]
      },
      {
       "output_type": "stream",
       "stream": "stdout",
       "text": [
        "\b\b\b68%\b\b\b68%"
       ]
      },
      {
       "output_type": "stream",
       "stream": "stdout",
       "text": [
        "\b\b\b68%\b\b\b68%"
       ]
      },
      {
       "output_type": "stream",
       "stream": "stdout",
       "text": [
        "\b\b\b68%\b\b\b68%\b\b\b68%"
       ]
      },
      {
       "output_type": "stream",
       "stream": "stdout",
       "text": [
        "\b\b\b68%\b\b\b68%"
       ]
      },
      {
       "output_type": "stream",
       "stream": "stdout",
       "text": [
        "\b\b\b68%\b\b\b68%"
       ]
      },
      {
       "output_type": "stream",
       "stream": "stdout",
       "text": [
        "\b\b\b69%\b\b\b69%\b\b\b69%"
       ]
      },
      {
       "output_type": "stream",
       "stream": "stdout",
       "text": [
        "\b\b\b69%\b\b\b69%"
       ]
      },
      {
       "output_type": "stream",
       "stream": "stdout",
       "text": [
        "\b\b\b69%\b\b\b69%"
       ]
      },
      {
       "output_type": "stream",
       "stream": "stdout",
       "text": [
        "\b\b\b69%\b\b\b69%\b\b\b69%"
       ]
      },
      {
       "output_type": "stream",
       "stream": "stdout",
       "text": [
        "\b\b\b69%\b\b\b69%"
       ]
      },
      {
       "output_type": "stream",
       "stream": "stdout",
       "text": [
        "\b\b\b70%\b\b\b70%"
       ]
      },
      {
       "output_type": "stream",
       "stream": "stdout",
       "text": [
        "\b\b\b70%\b\b\b70%\b\b\b70%"
       ]
      },
      {
       "output_type": "stream",
       "stream": "stdout",
       "text": [
        "\b\b\b70%\b\b\b70%"
       ]
      },
      {
       "output_type": "stream",
       "stream": "stdout",
       "text": [
        "\b\b\b70%\b\b\b70%"
       ]
      },
      {
       "output_type": "stream",
       "stream": "stdout",
       "text": [
        "\b\b\b70%\b\b\b70%\b\b\b70%"
       ]
      },
      {
       "output_type": "stream",
       "stream": "stdout",
       "text": [
        "\b\b\b71%\b\b\b71%"
       ]
      },
      {
       "output_type": "stream",
       "stream": "stdout",
       "text": [
        "\b\b\b71%\b\b\b71%"
       ]
      },
      {
       "output_type": "stream",
       "stream": "stdout",
       "text": [
        "\b\b\b71%\b\b\b71%"
       ]
      },
      {
       "output_type": "stream",
       "stream": "stdout",
       "text": [
        "\b\b\b71%\b\b\b71%"
       ]
      },
      {
       "output_type": "stream",
       "stream": "stdout",
       "text": [
        "\b\b\b71%\b\b\b71%\b\b\b71%"
       ]
      },
      {
       "output_type": "stream",
       "stream": "stdout",
       "text": [
        "\b\b\b71%\b\b\b72%"
       ]
      },
      {
       "output_type": "stream",
       "stream": "stdout",
       "text": [
        "\b\b\b72%\b\b\b72%"
       ]
      },
      {
       "output_type": "stream",
       "stream": "stdout",
       "text": [
        "\b\b\b72%\b\b\b72%"
       ]
      },
      {
       "output_type": "stream",
       "stream": "stdout",
       "text": [
        "\b\b\b72%\b\b\b72%\b\b\b72%"
       ]
      },
      {
       "output_type": "stream",
       "stream": "stdout",
       "text": [
        "\b\b\b72%\b\b\b72%"
       ]
      },
      {
       "output_type": "stream",
       "stream": "stdout",
       "text": [
        "\b\b\b72%\b\b\b72%"
       ]
      },
      {
       "output_type": "stream",
       "stream": "stdout",
       "text": [
        "\b\b\b73%\b\b\b73%\b\b\b73%"
       ]
      },
      {
       "output_type": "stream",
       "stream": "stdout",
       "text": [
        "\b\b\b73%\b\b\b73%"
       ]
      },
      {
       "output_type": "stream",
       "stream": "stdout",
       "text": [
        "\b\b\b73%\b\b\b73%"
       ]
      },
      {
       "output_type": "stream",
       "stream": "stdout",
       "text": [
        "\b\b\b73%\b\b\b73%\b\b\b73%"
       ]
      },
      {
       "output_type": "stream",
       "stream": "stdout",
       "text": [
        "\b\b\b73%\b\b\b73%"
       ]
      },
      {
       "output_type": "stream",
       "stream": "stdout",
       "text": [
        "\b\b\b74%\b\b\b74%"
       ]
      },
      {
       "output_type": "stream",
       "stream": "stdout",
       "text": [
        "\b\b\b74%\b\b\b74%\b\b\b74%"
       ]
      },
      {
       "output_type": "stream",
       "stream": "stdout",
       "text": [
        "\b\b\b74%\b\b\b74%"
       ]
      },
      {
       "output_type": "stream",
       "stream": "stdout",
       "text": [
        "\b\b\b74%\b\b\b74%"
       ]
      },
      {
       "output_type": "stream",
       "stream": "stdout",
       "text": [
        "\b\b\b74%\b\b\b74%\b\b\b74%"
       ]
      },
      {
       "output_type": "stream",
       "stream": "stdout",
       "text": [
        "\b\b\b75%\b\b\b75%"
       ]
      },
      {
       "output_type": "stream",
       "stream": "stdout",
       "text": [
        "\b\b\b75%\b\b\b75%"
       ]
      },
      {
       "output_type": "stream",
       "stream": "stdout",
       "text": [
        "\b\b\b75%\b\b\b75%\b\b\b75%"
       ]
      },
      {
       "output_type": "stream",
       "stream": "stdout",
       "text": [
        "\b\b\b75%\b\b\b75%"
       ]
      },
      {
       "output_type": "stream",
       "stream": "stdout",
       "text": [
        "\b\b\b75%\b\b\b75%"
       ]
      },
      {
       "output_type": "stream",
       "stream": "stdout",
       "text": [
        "\b\b\b76%\b\b\b76%\b\b\b76%"
       ]
      },
      {
       "output_type": "stream",
       "stream": "stdout",
       "text": [
        "\b\b\b76%\b\b\b76%"
       ]
      },
      {
       "output_type": "stream",
       "stream": "stdout",
       "text": [
        "\b\b\b76%\b\b\b76%"
       ]
      },
      {
       "output_type": "stream",
       "stream": "stdout",
       "text": [
        "\b\b\b76%\b\b\b76%\b\b\b76%"
       ]
      },
      {
       "output_type": "stream",
       "stream": "stdout",
       "text": [
        "\b\b\b76%\b\b\b76%"
       ]
      },
      {
       "output_type": "stream",
       "stream": "stdout",
       "text": [
        "\b\b\b77%\b\b\b77%"
       ]
      },
      {
       "output_type": "stream",
       "stream": "stdout",
       "text": [
        "\b\b\b77%\b\b\b77%\b\b\b77%"
       ]
      },
      {
       "output_type": "stream",
       "stream": "stdout",
       "text": [
        "\b\b\b77%\b\b\b77%"
       ]
      },
      {
       "output_type": "stream",
       "stream": "stdout",
       "text": [
        "\b\b\b77%\b\b\b77%"
       ]
      },
      {
       "output_type": "stream",
       "stream": "stdout",
       "text": [
        "\b\b\b77%\b\b\b77%\b\b\b77%"
       ]
      },
      {
       "output_type": "stream",
       "stream": "stdout",
       "text": [
        "\b\b\b78%\b\b\b78%"
       ]
      },
      {
       "output_type": "stream",
       "stream": "stdout",
       "text": [
        "\b\b\b78%\b\b\b78%"
       ]
      },
      {
       "output_type": "stream",
       "stream": "stdout",
       "text": [
        "\b\b\b78%\b\b\b78%\b\b\b78%"
       ]
      },
      {
       "output_type": "stream",
       "stream": "stdout",
       "text": [
        "\b\b\b78%\b\b\b78%"
       ]
      },
      {
       "output_type": "stream",
       "stream": "stdout",
       "text": [
        "\b\b\b78%\b\b\b78%"
       ]
      },
      {
       "output_type": "stream",
       "stream": "stdout",
       "text": [
        "\b\b\b78%\b\b\b79%\b\b\b79%"
       ]
      },
      {
       "output_type": "stream",
       "stream": "stdout",
       "text": [
        "\b\b\b79%\b\b\b79%"
       ]
      },
      {
       "output_type": "stream",
       "stream": "stdout",
       "text": [
        "\b\b\b79%\b\b\b79%"
       ]
      },
      {
       "output_type": "stream",
       "stream": "stdout",
       "text": [
        "\b\b\b79%\b\b\b79%\b\b\b79%"
       ]
      },
      {
       "output_type": "stream",
       "stream": "stdout",
       "text": [
        "\b\b\b79%\b\b\b79%"
       ]
      },
      {
       "output_type": "stream",
       "stream": "stdout",
       "text": [
        "\b\b\b79%\b\b\b80%"
       ]
      },
      {
       "output_type": "stream",
       "stream": "stdout",
       "text": [
        "\b\b\b80%\b\b\b80%\b\b\b80%"
       ]
      },
      {
       "output_type": "stream",
       "stream": "stdout",
       "text": [
        "\b\b\b80%\b\b\b80%"
       ]
      },
      {
       "output_type": "stream",
       "stream": "stdout",
       "text": [
        "\b\b\b80%\b\b\b80%"
       ]
      },
      {
       "output_type": "stream",
       "stream": "stdout",
       "text": [
        "\b\b\b80%\b\b\b80%\b\b\b80%"
       ]
      },
      {
       "output_type": "stream",
       "stream": "stdout",
       "text": [
        "\b\b\b80%\b\b\b81%"
       ]
      },
      {
       "output_type": "stream",
       "stream": "stdout",
       "text": [
        "\b\b\b81%\b\b\b81%"
       ]
      },
      {
       "output_type": "stream",
       "stream": "stdout",
       "text": [
        "\b\b\b81%\b\b\b81%\b\b\b81%"
       ]
      },
      {
       "output_type": "stream",
       "stream": "stdout",
       "text": [
        "\b\b\b81%\b\b\b81%"
       ]
      },
      {
       "output_type": "stream",
       "stream": "stdout",
       "text": [
        "\b\b\b81%\b\b\b81%"
       ]
      },
      {
       "output_type": "stream",
       "stream": "stdout",
       "text": [
        "\b\b\b81%\b\b\b82%\b\b\b82%"
       ]
      },
      {
       "output_type": "stream",
       "stream": "stdout",
       "text": [
        "\b\b\b82%\b\b\b82%"
       ]
      },
      {
       "output_type": "stream",
       "stream": "stdout",
       "text": [
        "\b\b\b82%\b\b\b82%"
       ]
      },
      {
       "output_type": "stream",
       "stream": "stdout",
       "text": [
        "\b\b\b82%\b\b\b82%\b\b\b82%"
       ]
      },
      {
       "output_type": "stream",
       "stream": "stdout",
       "text": [
        "\b\b\b82%\b\b\b82%"
       ]
      },
      {
       "output_type": "stream",
       "stream": "stdout",
       "text": [
        "\b\b\b82%\b\b\b83%"
       ]
      },
      {
       "output_type": "stream",
       "stream": "stdout",
       "text": [
        "\b\b\b83%\b\b\b83%\b\b\b83%"
       ]
      },
      {
       "output_type": "stream",
       "stream": "stdout",
       "text": [
        "\b\b\b83%\b\b\b83%"
       ]
      },
      {
       "output_type": "stream",
       "stream": "stdout",
       "text": [
        "\b\b\b83%\b\b\b83%"
       ]
      },
      {
       "output_type": "stream",
       "stream": "stdout",
       "text": [
        "\b\b\b83%\b\b\b83%\b\b\b83%"
       ]
      },
      {
       "output_type": "stream",
       "stream": "stdout",
       "text": [
        "\b\b\b83%\b\b\b84%"
       ]
      },
      {
       "output_type": "stream",
       "stream": "stdout",
       "text": [
        "\b\b\b84%\b\b\b84%"
       ]
      },
      {
       "output_type": "stream",
       "stream": "stdout",
       "text": [
        "\b\b\b84%\b\b\b84%\b\b\b84%"
       ]
      },
      {
       "output_type": "stream",
       "stream": "stdout",
       "text": [
        "\b\b\b84%\b\b\b84%"
       ]
      },
      {
       "output_type": "stream",
       "stream": "stdout",
       "text": [
        "\b\b\b84%\b\b\b84%"
       ]
      },
      {
       "output_type": "stream",
       "stream": "stdout",
       "text": [
        "\b\b\b84%\b\b\b84%\b\b\b85%"
       ]
      },
      {
       "output_type": "stream",
       "stream": "stdout",
       "text": [
        "\b\b\b85%\b\b\b85%"
       ]
      },
      {
       "output_type": "stream",
       "stream": "stdout",
       "text": [
        "\b\b\b85%\b\b\b85%"
       ]
      },
      {
       "output_type": "stream",
       "stream": "stdout",
       "text": [
        "\b\b\b85%\b\b\b85%\b\b\b85%"
       ]
      },
      {
       "output_type": "stream",
       "stream": "stdout",
       "text": [
        "\b\b\b85%\b\b\b85%"
       ]
      },
      {
       "output_type": "stream",
       "stream": "stdout",
       "text": [
        "\b\b\b85%\b\b\b85%"
       ]
      },
      {
       "output_type": "stream",
       "stream": "stdout",
       "text": [
        "\b\b\b86%\b\b\b86%\b\b\b86%"
       ]
      },
      {
       "output_type": "stream",
       "stream": "stdout",
       "text": [
        "\b\b\b86%\b\b\b86%"
       ]
      },
      {
       "output_type": "stream",
       "stream": "stdout",
       "text": [
        "\b\b\b86%\b\b\b86%\b\b\b86%"
       ]
      },
      {
       "output_type": "stream",
       "stream": "stdout",
       "text": [
        "\b\b\b86%\b\b\b86%"
       ]
      },
      {
       "output_type": "stream",
       "stream": "stdout",
       "text": [
        "\b\b\b86%\b\b\b86%"
       ]
      },
      {
       "output_type": "stream",
       "stream": "stdout",
       "text": [
        "\b\b\b87%\b\b\b87%\b\b\b87%"
       ]
      },
      {
       "output_type": "stream",
       "stream": "stdout",
       "text": [
        "\b\b\b87%\b\b\b87%"
       ]
      },
      {
       "output_type": "stream",
       "stream": "stdout",
       "text": [
        "\b\b\b87%\b\b\b87%\b\b\b87%"
       ]
      },
      {
       "output_type": "stream",
       "stream": "stdout",
       "text": [
        "\b\b\b87%\b\b\b87%"
       ]
      },
      {
       "output_type": "stream",
       "stream": "stdout",
       "text": [
        "\b\b\b87%\b\b\b88%"
       ]
      },
      {
       "output_type": "stream",
       "stream": "stdout",
       "text": [
        "\b\b\b88%\b\b\b88%\b\b\b88%"
       ]
      },
      {
       "output_type": "stream",
       "stream": "stdout",
       "text": [
        "\b\b\b88%\b\b\b88%"
       ]
      },
      {
       "output_type": "stream",
       "stream": "stdout",
       "text": [
        "\b\b\b88%\b\b\b88%"
       ]
      },
      {
       "output_type": "stream",
       "stream": "stdout",
       "text": [
        "\b\b\b88%\b\b\b88%\b\b\b88%"
       ]
      },
      {
       "output_type": "stream",
       "stream": "stdout",
       "text": [
        "\b\b\b88%\b\b\b89%"
       ]
      },
      {
       "output_type": "stream",
       "stream": "stdout",
       "text": [
        "\b\b\b89%\b\b\b89%\b\b\b89%"
       ]
      },
      {
       "output_type": "stream",
       "stream": "stdout",
       "text": [
        "\b\b\b89%\b\b\b89%"
       ]
      },
      {
       "output_type": "stream",
       "stream": "stdout",
       "text": [
        "\b\b\b89%\b\b\b89%"
       ]
      },
      {
       "output_type": "stream",
       "stream": "stdout",
       "text": [
        "\b\b\b89%\b\b\b89%\b\b\b89%"
       ]
      },
      {
       "output_type": "stream",
       "stream": "stdout",
       "text": [
        "\b\b\b89%\b\b\b90%"
       ]
      },
      {
       "output_type": "stream",
       "stream": "stdout",
       "text": [
        "\b\b\b90%\b\b\b90%"
       ]
      },
      {
       "output_type": "stream",
       "stream": "stdout",
       "text": [
        "\b\b\b90%\b\b\b90%\b\b\b90%"
       ]
      },
      {
       "output_type": "stream",
       "stream": "stdout",
       "text": [
        "\b\b\b90%\b\b\b90%"
       ]
      },
      {
       "output_type": "stream",
       "stream": "stdout",
       "text": [
        "\b\b\b90%\b\b\b90%\b\b\b90%"
       ]
      },
      {
       "output_type": "stream",
       "stream": "stdout",
       "text": [
        "\b\b\b90%\b\b\b91%"
       ]
      },
      {
       "output_type": "stream",
       "stream": "stdout",
       "text": [
        "\b\b\b91%\b\b\b91%"
       ]
      },
      {
       "output_type": "stream",
       "stream": "stdout",
       "text": [
        "\b\b\b91%\b\b\b91%\b\b\b91%"
       ]
      },
      {
       "output_type": "stream",
       "stream": "stdout",
       "text": [
        "\b\b\b91%\b\b\b91%"
       ]
      },
      {
       "output_type": "stream",
       "stream": "stdout",
       "text": [
        "\b\b\b91%\b\b\b91%\b\b\b91%"
       ]
      },
      {
       "output_type": "stream",
       "stream": "stdout",
       "text": [
        "\b\b\b91%\b\b\b92%"
       ]
      },
      {
       "output_type": "stream",
       "stream": "stdout",
       "text": [
        "\b\b\b92%\b\b\b92%"
       ]
      },
      {
       "output_type": "stream",
       "stream": "stdout",
       "text": [
        "\b\b\b92%\b\b\b92%\b\b\b92%"
       ]
      },
      {
       "output_type": "stream",
       "stream": "stdout",
       "text": [
        "\b\b\b92%\b\b\b92%"
       ]
      },
      {
       "output_type": "stream",
       "stream": "stdout",
       "text": [
        "\b\b\b92%\b\b\b92%"
       ]
      },
      {
       "output_type": "stream",
       "stream": "stdout",
       "text": [
        "\b\b\b92%\b\b\b92%\b\b\b93%"
       ]
      },
      {
       "output_type": "stream",
       "stream": "stdout",
       "text": [
        "\b\b\b93%\b\b\b93%"
       ]
      },
      {
       "output_type": "stream",
       "stream": "stdout",
       "text": [
        "\b\b\b93%\b\b\b93%\b\b\b93%"
       ]
      },
      {
       "output_type": "stream",
       "stream": "stdout",
       "text": [
        "\b\b\b93%\b\b\b93%"
       ]
      },
      {
       "output_type": "stream",
       "stream": "stdout",
       "text": [
        "\b\b\b93%\b\b\b93%"
       ]
      },
      {
       "output_type": "stream",
       "stream": "stdout",
       "text": [
        "\b\b\b93%\b\b\b94%\b\b\b94%"
       ]
      },
      {
       "output_type": "stream",
       "stream": "stdout",
       "text": [
        "\b\b\b94%\b\b\b94%"
       ]
      },
      {
       "output_type": "stream",
       "stream": "stdout",
       "text": [
        "\b\b\b94%\b\b\b94%\b\b\b94%"
       ]
      },
      {
       "output_type": "stream",
       "stream": "stdout",
       "text": [
        "\b\b\b94%\b\b\b94%"
       ]
      },
      {
       "output_type": "stream",
       "stream": "stdout",
       "text": [
        "\b\b\b94%\b\b\b94%"
       ]
      },
      {
       "output_type": "stream",
       "stream": "stdout",
       "text": [
        "\b\b\b94%\b\b\b95%\b\b\b95%"
       ]
      },
      {
       "output_type": "stream",
       "stream": "stdout",
       "text": [
        "\b\b\b95%\b\b\b95%"
       ]
      },
      {
       "output_type": "stream",
       "stream": "stdout",
       "text": [
        "\b\b\b95%\b\b\b95%\b\b\b95%"
       ]
      },
      {
       "output_type": "stream",
       "stream": "stdout",
       "text": [
        "\b\b\b95%\b\b\b95%"
       ]
      },
      {
       "output_type": "stream",
       "stream": "stdout",
       "text": [
        "\b\b\b95%\b\b\b95%"
       ]
      },
      {
       "output_type": "stream",
       "stream": "stdout",
       "text": [
        "\b\b\b95%\b\b\b96%\b\b\b96%"
       ]
      },
      {
       "output_type": "stream",
       "stream": "stdout",
       "text": [
        "\b\b\b96%\b\b\b96%"
       ]
      },
      {
       "output_type": "stream",
       "stream": "stdout",
       "text": [
        "\b\b\b96%\b\b\b96%\b\b\b96%"
       ]
      },
      {
       "output_type": "stream",
       "stream": "stdout",
       "text": [
        "\b\b\b96%\b\b\b96%"
       ]
      },
      {
       "output_type": "stream",
       "stream": "stdout",
       "text": [
        "\b\b\b96%\b\b\b96%"
       ]
      },
      {
       "output_type": "stream",
       "stream": "stdout",
       "text": [
        "\b\b\b96%\b\b\b97%\b\b\b97%"
       ]
      },
      {
       "output_type": "stream",
       "stream": "stdout",
       "text": [
        "\b\b\b97%\b\b\b97%"
       ]
      },
      {
       "output_type": "stream",
       "stream": "stdout",
       "text": [
        "\b\b\b97%\b\b\b97%"
       ]
      },
      {
       "output_type": "stream",
       "stream": "stdout",
       "text": [
        "\b\b\b97%\b\b\b97%\b\b\b97%"
       ]
      },
      {
       "output_type": "stream",
       "stream": "stdout",
       "text": [
        "\b\b\b97%\b\b\b97%"
       ]
      },
      {
       "output_type": "stream",
       "stream": "stdout",
       "text": [
        "\b\b\b97%\b\b\b98%\b\b\b98%"
       ]
      },
      {
       "output_type": "stream",
       "stream": "stdout",
       "text": [
        "\b\b\b98%\b\b\b98%"
       ]
      },
      {
       "output_type": "stream",
       "stream": "stdout",
       "text": [
        "\b\b\b98%\b\b\b98%"
       ]
      },
      {
       "output_type": "stream",
       "stream": "stdout",
       "text": [
        "\b\b\b98%\b\b\b98%\b\b\b98%"
       ]
      },
      {
       "output_type": "stream",
       "stream": "stdout",
       "text": [
        "\b\b\b98%\b\b\b98%"
       ]
      },
      {
       "output_type": "stream",
       "stream": "stdout",
       "text": [
        "\b\b\b98%\b\b\b99%"
       ]
      },
      {
       "output_type": "stream",
       "stream": "stdout",
       "text": [
        "\b\b\b99%\b\b\b99%\b\b\b99%"
       ]
      },
      {
       "output_type": "stream",
       "stream": "stdout",
       "text": [
        "\b\b\b99%\b\b\b99%"
       ]
      },
      {
       "output_type": "stream",
       "stream": "stdout",
       "text": [
        "\b\b\b99%\b\b\b99%"
       ]
      },
      {
       "output_type": "stream",
       "stream": "stdout",
       "text": [
        "\b\b\b99%\b\b\b99%"
       ]
      },
      {
       "output_type": "stream",
       "stream": "stdout",
       "text": [
        "\b\b\b99%\b\b\b100%\r",
        ".ped scan complete (for binary autoconversion).\r\n"
       ]
      },
      {
       "output_type": "stream",
       "stream": "stdout",
       "text": [
        "Performing single-pass .bed write (1440616 variants, 1184 people).\r\n"
       ]
      },
      {
       "output_type": "stream",
       "stream": "stdout",
       "text": [
        "0%\b\b1%"
       ]
      },
      {
       "output_type": "stream",
       "stream": "stdout",
       "text": [
        "\b\b2%"
       ]
      },
      {
       "output_type": "stream",
       "stream": "stdout",
       "text": [
        "\b\b3%"
       ]
      },
      {
       "output_type": "stream",
       "stream": "stdout",
       "text": [
        "\b\b4%"
       ]
      },
      {
       "output_type": "stream",
       "stream": "stdout",
       "text": [
        "\b\b5%"
       ]
      },
      {
       "output_type": "stream",
       "stream": "stdout",
       "text": [
        "\b\b6%"
       ]
      },
      {
       "output_type": "stream",
       "stream": "stdout",
       "text": [
        "\b\b7%"
       ]
      },
      {
       "output_type": "stream",
       "stream": "stdout",
       "text": [
        "\b\b8%"
       ]
      },
      {
       "output_type": "stream",
       "stream": "stdout",
       "text": [
        "\b\b9%"
       ]
      },
      {
       "output_type": "stream",
       "stream": "stdout",
       "text": [
        "\b\b10%"
       ]
      },
      {
       "output_type": "stream",
       "stream": "stdout",
       "text": [
        "\b\b\b11%"
       ]
      },
      {
       "output_type": "stream",
       "stream": "stdout",
       "text": [
        "\b\b\b12%"
       ]
      },
      {
       "output_type": "stream",
       "stream": "stdout",
       "text": [
        "\b\b\b13%"
       ]
      },
      {
       "output_type": "stream",
       "stream": "stdout",
       "text": [
        "\b\b\b14%"
       ]
      },
      {
       "output_type": "stream",
       "stream": "stdout",
       "text": [
        "\b\b\b15%"
       ]
      },
      {
       "output_type": "stream",
       "stream": "stdout",
       "text": [
        "\b\b\b16%"
       ]
      },
      {
       "output_type": "stream",
       "stream": "stdout",
       "text": [
        "\b\b\b17%"
       ]
      },
      {
       "output_type": "stream",
       "stream": "stdout",
       "text": [
        "\b\b\b18%"
       ]
      },
      {
       "output_type": "stream",
       "stream": "stdout",
       "text": [
        "\b\b\b19%"
       ]
      },
      {
       "output_type": "stream",
       "stream": "stdout",
       "text": [
        "\b\b\b20%"
       ]
      },
      {
       "output_type": "stream",
       "stream": "stdout",
       "text": [
        "\b\b\b21%"
       ]
      },
      {
       "output_type": "stream",
       "stream": "stdout",
       "text": [
        "\b\b\b22%"
       ]
      },
      {
       "output_type": "stream",
       "stream": "stdout",
       "text": [
        "\b\b\b23%"
       ]
      },
      {
       "output_type": "stream",
       "stream": "stdout",
       "text": [
        "\b\b\b24%"
       ]
      },
      {
       "output_type": "stream",
       "stream": "stdout",
       "text": [
        "\b\b\b25%"
       ]
      },
      {
       "output_type": "stream",
       "stream": "stdout",
       "text": [
        "\b\b\b26%"
       ]
      },
      {
       "output_type": "stream",
       "stream": "stdout",
       "text": [
        "\b\b\b27%"
       ]
      },
      {
       "output_type": "stream",
       "stream": "stdout",
       "text": [
        "\b\b\b28%"
       ]
      },
      {
       "output_type": "stream",
       "stream": "stdout",
       "text": [
        "\b\b\b29%"
       ]
      },
      {
       "output_type": "stream",
       "stream": "stdout",
       "text": [
        "\b\b\b30%"
       ]
      },
      {
       "output_type": "stream",
       "stream": "stdout",
       "text": [
        "\b\b\b31%"
       ]
      },
      {
       "output_type": "stream",
       "stream": "stdout",
       "text": [
        "\b\b\b32%"
       ]
      },
      {
       "output_type": "stream",
       "stream": "stdout",
       "text": [
        "\b\b\b33%"
       ]
      },
      {
       "output_type": "stream",
       "stream": "stdout",
       "text": [
        "\b\b\b34%"
       ]
      },
      {
       "output_type": "stream",
       "stream": "stdout",
       "text": [
        "\b\b\b35%"
       ]
      },
      {
       "output_type": "stream",
       "stream": "stdout",
       "text": [
        "\b\b\b36%"
       ]
      },
      {
       "output_type": "stream",
       "stream": "stdout",
       "text": [
        "\b\b\b37%"
       ]
      },
      {
       "output_type": "stream",
       "stream": "stdout",
       "text": [
        "\b\b\b38%"
       ]
      },
      {
       "output_type": "stream",
       "stream": "stdout",
       "text": [
        "\b\b\b39%"
       ]
      },
      {
       "output_type": "stream",
       "stream": "stdout",
       "text": [
        "\b\b\b40%"
       ]
      },
      {
       "output_type": "stream",
       "stream": "stdout",
       "text": [
        "\b\b\b41%"
       ]
      },
      {
       "output_type": "stream",
       "stream": "stdout",
       "text": [
        "\b\b\b42%"
       ]
      },
      {
       "output_type": "stream",
       "stream": "stdout",
       "text": [
        "\b\b\b43%"
       ]
      },
      {
       "output_type": "stream",
       "stream": "stdout",
       "text": [
        "\b\b\b44%"
       ]
      },
      {
       "output_type": "stream",
       "stream": "stdout",
       "text": [
        "\b\b\b45%"
       ]
      },
      {
       "output_type": "stream",
       "stream": "stdout",
       "text": [
        "\b\b\b46%"
       ]
      },
      {
       "output_type": "stream",
       "stream": "stdout",
       "text": [
        "\b\b\b47%"
       ]
      },
      {
       "output_type": "stream",
       "stream": "stdout",
       "text": [
        "\b\b\b48%"
       ]
      },
      {
       "output_type": "stream",
       "stream": "stdout",
       "text": [
        "\b\b\b49%"
       ]
      },
      {
       "output_type": "stream",
       "stream": "stdout",
       "text": [
        "\b\b\b50%"
       ]
      },
      {
       "output_type": "stream",
       "stream": "stdout",
       "text": [
        "\b\b\b51%"
       ]
      },
      {
       "output_type": "stream",
       "stream": "stdout",
       "text": [
        "\b\b\b52%"
       ]
      },
      {
       "output_type": "stream",
       "stream": "stdout",
       "text": [
        "\b\b\b53%"
       ]
      },
      {
       "output_type": "stream",
       "stream": "stdout",
       "text": [
        "\b\b\b54%"
       ]
      },
      {
       "output_type": "stream",
       "stream": "stdout",
       "text": [
        "\b\b\b55%"
       ]
      },
      {
       "output_type": "stream",
       "stream": "stdout",
       "text": [
        "\b\b\b56%"
       ]
      },
      {
       "output_type": "stream",
       "stream": "stdout",
       "text": [
        "\b\b\b57%"
       ]
      },
      {
       "output_type": "stream",
       "stream": "stdout",
       "text": [
        "\b\b\b58%"
       ]
      },
      {
       "output_type": "stream",
       "stream": "stdout",
       "text": [
        "\b\b\b59%"
       ]
      },
      {
       "output_type": "stream",
       "stream": "stdout",
       "text": [
        "\b\b\b60%"
       ]
      },
      {
       "output_type": "stream",
       "stream": "stdout",
       "text": [
        "\b\b\b61%"
       ]
      },
      {
       "output_type": "stream",
       "stream": "stdout",
       "text": [
        "\b\b\b62%"
       ]
      },
      {
       "output_type": "stream",
       "stream": "stdout",
       "text": [
        "\b\b\b63%"
       ]
      },
      {
       "output_type": "stream",
       "stream": "stdout",
       "text": [
        "\b\b\b64%"
       ]
      },
      {
       "output_type": "stream",
       "stream": "stdout",
       "text": [
        "\b\b\b65%"
       ]
      },
      {
       "output_type": "stream",
       "stream": "stdout",
       "text": [
        "\b\b\b66%"
       ]
      },
      {
       "output_type": "stream",
       "stream": "stdout",
       "text": [
        "\b\b\b67%"
       ]
      },
      {
       "output_type": "stream",
       "stream": "stdout",
       "text": [
        "\b\b\b68%"
       ]
      },
      {
       "output_type": "stream",
       "stream": "stdout",
       "text": [
        "\b\b\b69%"
       ]
      },
      {
       "output_type": "stream",
       "stream": "stdout",
       "text": [
        "\b\b\b70%"
       ]
      },
      {
       "output_type": "stream",
       "stream": "stdout",
       "text": [
        "\b\b\b71%"
       ]
      },
      {
       "output_type": "stream",
       "stream": "stdout",
       "text": [
        "\b\b\b72%"
       ]
      },
      {
       "output_type": "stream",
       "stream": "stdout",
       "text": [
        "\b\b\b73%"
       ]
      },
      {
       "output_type": "stream",
       "stream": "stdout",
       "text": [
        "\b\b\b74%"
       ]
      },
      {
       "output_type": "stream",
       "stream": "stdout",
       "text": [
        "\b\b\b75%"
       ]
      },
      {
       "output_type": "stream",
       "stream": "stdout",
       "text": [
        "\b\b\b76%"
       ]
      },
      {
       "output_type": "stream",
       "stream": "stdout",
       "text": [
        "\b\b\b77%"
       ]
      },
      {
       "output_type": "stream",
       "stream": "stdout",
       "text": [
        "\b\b\b78%"
       ]
      },
      {
       "output_type": "stream",
       "stream": "stdout",
       "text": [
        "\b\b\b79%"
       ]
      },
      {
       "output_type": "stream",
       "stream": "stdout",
       "text": [
        "\b\b\b80%"
       ]
      },
      {
       "output_type": "stream",
       "stream": "stdout",
       "text": [
        "\b\b\b81%"
       ]
      },
      {
       "output_type": "stream",
       "stream": "stdout",
       "text": [
        "\b\b\b82%"
       ]
      },
      {
       "output_type": "stream",
       "stream": "stdout",
       "text": [
        "\b\b\b83%"
       ]
      },
      {
       "output_type": "stream",
       "stream": "stdout",
       "text": [
        "\b\b\b84%"
       ]
      },
      {
       "output_type": "stream",
       "stream": "stdout",
       "text": [
        "\b\b\b85%"
       ]
      },
      {
       "output_type": "stream",
       "stream": "stdout",
       "text": [
        "\b\b\b86%"
       ]
      },
      {
       "output_type": "stream",
       "stream": "stdout",
       "text": [
        "\b\b\b87%"
       ]
      },
      {
       "output_type": "stream",
       "stream": "stdout",
       "text": [
        "\b\b\b88%"
       ]
      },
      {
       "output_type": "stream",
       "stream": "stdout",
       "text": [
        "\b\b\b89%"
       ]
      },
      {
       "output_type": "stream",
       "stream": "stdout",
       "text": [
        "\b\b\b90%"
       ]
      },
      {
       "output_type": "stream",
       "stream": "stdout",
       "text": [
        "\b\b\b91%"
       ]
      },
      {
       "output_type": "stream",
       "stream": "stdout",
       "text": [
        "\b\b\b92%"
       ]
      },
      {
       "output_type": "stream",
       "stream": "stdout",
       "text": [
        "\b\b\b93%"
       ]
      },
      {
       "output_type": "stream",
       "stream": "stdout",
       "text": [
        "\b\b\b94%"
       ]
      },
      {
       "output_type": "stream",
       "stream": "stdout",
       "text": [
        "\r",
        "--file: hapmap_auto-temporary.bed + hapmap_auto-temporary.bim +\r\n",
        "hapmap_auto-temporary.fam written.\r\n"
       ]
      },
      {
       "output_type": "stream",
       "stream": "stdout",
       "text": [
        "1440616 variants loaded from .bim file.\r\n",
        "1184 people (589 males, 595 females) loaded from .fam.\r\n"
       ]
      },
      {
       "output_type": "stream",
       "stream": "stdout",
       "text": [
        "--exclude: 1389511 variants remaining.\r\n",
        "Using 1 thread (no multithreaded calculations invoked).\r\n",
        "Before main variant filters, 988 founders and 196 nonfounders present.\r\n",
        "Calculating allele frequencies... 0%"
       ]
      },
      {
       "output_type": "stream",
       "stream": "stdout",
       "text": [
        "\b\b1%\b\b2%\b\b3%\b\b4%\b\b5%\b\b6%\b\b7%\b\b8%\b\b9%\b\b10%\b\b\b11%\b\b\b12%\b\b\b13%\b\b\b14%\b\b\b15%\b\b\b16%\b\b\b17%\b\b\b18%\b\b\b19%\b\b\b20%\b\b\b21%"
       ]
      },
      {
       "output_type": "stream",
       "stream": "stdout",
       "text": [
        "\b\b\b22%\b\b\b23%\b\b\b24%\b\b\b25%\b\b\b26%\b\b\b27%\b\b\b28%\b\b\b29%\b\b\b30%\b\b\b31%\b\b\b32%\b\b\b33%\b\b\b34%\b\b\b35%\b\b\b36%\b\b\b37%\b\b\b38%\b\b\b39%\b\b\b40%\b\b\b41%\b\b\b42%\b\b\b43%\b\b\b44%"
       ]
      },
      {
       "output_type": "stream",
       "stream": "stdout",
       "text": [
        "\b\b\b45%\b\b\b46%\b\b\b47%\b\b\b48%\b\b\b49%\b\b\b50%\b\b\b51%\b\b\b52%\b\b\b53%\b\b\b54%\b\b\b55%\b\b\b56%\b\b\b57%\b\b\b58%\b\b\b59%\b\b\b60%\b\b\b61%\b\b\b62%\b\b\b63%\b\b\b64%\b\b\b65%\b\b\b66%"
       ]
      },
      {
       "output_type": "stream",
       "stream": "stdout",
       "text": [
        "\b\b\b67%\b\b\b68%\b\b\b69%\b\b\b70%\b\b\b71%\b\b\b72%\b\b\b73%\b\b\b74%\b\b\b75%\b\b\b76%\b\b\b77%\b\b\b78%\b\b\b79%\b\b\b80%\b\b\b81%\b\b\b82%\b\b\b83%\b\b\b84%\b\b\b85%\b\b\b86%\b\b\b87%"
       ]
      },
      {
       "output_type": "stream",
       "stream": "stdout",
       "text": [
        "\b\b\b88%\b\b\b89%\b\b\b90%\b\b\b91%\b\b\b92%\b\b\b93%\b\b\b94%\b\b\b95%\b\b\b96%\b\b\b97%\b\b\b98%\b\b\b99%\b\b\b\b done.\r\n",
        "Total genotyping rate is 0.997734.\r\n",
        "1389511 variants and 1184 people pass filters and QC.\r\n",
        "Note: No phenotypes present.\r\n"
       ]
      },
      {
       "output_type": "stream",
       "stream": "stdout",
       "text": [
        "--recode to hapmap_auto.ped + hapmap_auto.map ... 0%\b\b1%"
       ]
      },
      {
       "output_type": "stream",
       "stream": "stdout",
       "text": [
        "\b\b2%"
       ]
      },
      {
       "output_type": "stream",
       "stream": "stdout",
       "text": [
        "\b\b3%"
       ]
      },
      {
       "output_type": "stream",
       "stream": "stdout",
       "text": [
        "\b\b4%"
       ]
      },
      {
       "output_type": "stream",
       "stream": "stdout",
       "text": [
        "\b\b5%"
       ]
      },
      {
       "output_type": "stream",
       "stream": "stdout",
       "text": [
        "\b\b6%"
       ]
      },
      {
       "output_type": "stream",
       "stream": "stdout",
       "text": [
        "\b\b7%"
       ]
      },
      {
       "output_type": "stream",
       "stream": "stdout",
       "text": [
        "\b\b8%"
       ]
      },
      {
       "output_type": "stream",
       "stream": "stdout",
       "text": [
        "\b\b9%"
       ]
      },
      {
       "output_type": "stream",
       "stream": "stdout",
       "text": [
        "\b\b10%"
       ]
      },
      {
       "output_type": "stream",
       "stream": "stdout",
       "text": [
        "\b\b\b11%"
       ]
      },
      {
       "output_type": "stream",
       "stream": "stdout",
       "text": [
        "\b\b\b12%"
       ]
      },
      {
       "output_type": "stream",
       "stream": "stdout",
       "text": [
        "\b\b\b13%"
       ]
      },
      {
       "output_type": "stream",
       "stream": "stdout",
       "text": [
        "\b\b\b14%"
       ]
      },
      {
       "output_type": "stream",
       "stream": "stdout",
       "text": [
        "\b\b\b15%"
       ]
      },
      {
       "output_type": "stream",
       "stream": "stdout",
       "text": [
        "\b\b\b16%"
       ]
      },
      {
       "output_type": "stream",
       "stream": "stdout",
       "text": [
        "\b\b\b17%"
       ]
      },
      {
       "output_type": "stream",
       "stream": "stdout",
       "text": [
        "\b\b\b18%"
       ]
      },
      {
       "output_type": "stream",
       "stream": "stdout",
       "text": [
        "\b\b\b19%"
       ]
      },
      {
       "output_type": "stream",
       "stream": "stdout",
       "text": [
        "\b\b\b20%"
       ]
      },
      {
       "output_type": "stream",
       "stream": "stdout",
       "text": [
        "\b\b\b21%"
       ]
      },
      {
       "output_type": "stream",
       "stream": "stdout",
       "text": [
        "\b\b\b22%"
       ]
      },
      {
       "output_type": "stream",
       "stream": "stdout",
       "text": [
        "\b\b\b23%"
       ]
      },
      {
       "output_type": "stream",
       "stream": "stdout",
       "text": [
        "\b\b\b24%"
       ]
      },
      {
       "output_type": "stream",
       "stream": "stdout",
       "text": [
        "\b\b\b25%"
       ]
      },
      {
       "output_type": "stream",
       "stream": "stdout",
       "text": [
        "\b\b\b26%"
       ]
      },
      {
       "output_type": "stream",
       "stream": "stdout",
       "text": [
        "\b\b\b27%"
       ]
      },
      {
       "output_type": "stream",
       "stream": "stdout",
       "text": [
        "\b\b\b28%"
       ]
      },
      {
       "output_type": "stream",
       "stream": "stdout",
       "text": [
        "\b\b\b29%"
       ]
      },
      {
       "output_type": "stream",
       "stream": "stdout",
       "text": [
        "\b\b\b30%"
       ]
      },
      {
       "output_type": "stream",
       "stream": "stdout",
       "text": [
        "\b\b\b31%"
       ]
      },
      {
       "output_type": "stream",
       "stream": "stdout",
       "text": [
        "\b\b\b32%"
       ]
      },
      {
       "output_type": "stream",
       "stream": "stdout",
       "text": [
        "\b\b\b33%"
       ]
      },
      {
       "output_type": "stream",
       "stream": "stdout",
       "text": [
        "\b\b\b34%"
       ]
      },
      {
       "output_type": "stream",
       "stream": "stdout",
       "text": [
        "\b\b\b35%"
       ]
      },
      {
       "output_type": "stream",
       "stream": "stdout",
       "text": [
        "\b\b\b36%"
       ]
      },
      {
       "output_type": "stream",
       "stream": "stdout",
       "text": [
        "\b\b\b37%"
       ]
      },
      {
       "output_type": "stream",
       "stream": "stdout",
       "text": [
        "\b\b\b38%"
       ]
      },
      {
       "output_type": "stream",
       "stream": "stdout",
       "text": [
        "\b\b\b39%"
       ]
      },
      {
       "output_type": "stream",
       "stream": "stdout",
       "text": [
        "\b\b\b40%"
       ]
      },
      {
       "output_type": "stream",
       "stream": "stdout",
       "text": [
        "\b\b\b41%"
       ]
      },
      {
       "output_type": "stream",
       "stream": "stdout",
       "text": [
        "\b\b\b42%"
       ]
      },
      {
       "output_type": "stream",
       "stream": "stdout",
       "text": [
        "\b\b\b43%"
       ]
      },
      {
       "output_type": "stream",
       "stream": "stdout",
       "text": [
        "\b\b\b44%"
       ]
      },
      {
       "output_type": "stream",
       "stream": "stdout",
       "text": [
        "\b\b\b45%"
       ]
      },
      {
       "output_type": "stream",
       "stream": "stdout",
       "text": [
        "\b\b\b46%"
       ]
      },
      {
       "output_type": "stream",
       "stream": "stdout",
       "text": [
        "\b\b\b47%"
       ]
      },
      {
       "output_type": "stream",
       "stream": "stdout",
       "text": [
        "\b\b\b48%"
       ]
      },
      {
       "output_type": "stream",
       "stream": "stdout",
       "text": [
        "\b\b\b49%"
       ]
      },
      {
       "output_type": "stream",
       "stream": "stdout",
       "text": [
        "\b\b\b50%"
       ]
      },
      {
       "output_type": "stream",
       "stream": "stdout",
       "text": [
        "\b\b\b51%"
       ]
      },
      {
       "output_type": "stream",
       "stream": "stdout",
       "text": [
        "\b\b\b52%"
       ]
      },
      {
       "output_type": "stream",
       "stream": "stdout",
       "text": [
        "\b\b\b53%"
       ]
      },
      {
       "output_type": "stream",
       "stream": "stdout",
       "text": [
        "\b\b\b54%"
       ]
      },
      {
       "output_type": "stream",
       "stream": "stdout",
       "text": [
        "\b\b\b55%"
       ]
      },
      {
       "output_type": "stream",
       "stream": "stdout",
       "text": [
        "\b\b\b56%"
       ]
      },
      {
       "output_type": "stream",
       "stream": "stdout",
       "text": [
        "\b\b\b57%"
       ]
      },
      {
       "output_type": "stream",
       "stream": "stdout",
       "text": [
        "\b\b\b58%"
       ]
      },
      {
       "output_type": "stream",
       "stream": "stdout",
       "text": [
        "\b\b\b59%"
       ]
      },
      {
       "output_type": "stream",
       "stream": "stdout",
       "text": [
        "\b\b\b60%"
       ]
      },
      {
       "output_type": "stream",
       "stream": "stdout",
       "text": [
        "\b\b\b61%"
       ]
      },
      {
       "output_type": "stream",
       "stream": "stdout",
       "text": [
        "\b\b\b62%"
       ]
      },
      {
       "output_type": "stream",
       "stream": "stdout",
       "text": [
        "\b\b\b63%"
       ]
      },
      {
       "output_type": "stream",
       "stream": "stdout",
       "text": [
        "\b\b\b64%"
       ]
      },
      {
       "output_type": "stream",
       "stream": "stdout",
       "text": [
        "\b\b\b65%"
       ]
      },
      {
       "output_type": "stream",
       "stream": "stdout",
       "text": [
        "\b\b\b66%"
       ]
      },
      {
       "output_type": "stream",
       "stream": "stdout",
       "text": [
        "\b\b\b67%"
       ]
      },
      {
       "output_type": "stream",
       "stream": "stdout",
       "text": [
        "\b\b\b68%"
       ]
      },
      {
       "output_type": "stream",
       "stream": "stdout",
       "text": [
        "\b\b\b69%"
       ]
      },
      {
       "output_type": "stream",
       "stream": "stdout",
       "text": [
        "\b\b\b70%"
       ]
      },
      {
       "output_type": "stream",
       "stream": "stdout",
       "text": [
        "\b\b\b71%"
       ]
      },
      {
       "output_type": "stream",
       "stream": "stdout",
       "text": [
        "\b\b\b72%"
       ]
      },
      {
       "output_type": "stream",
       "stream": "stdout",
       "text": [
        "\b\b\b73%"
       ]
      },
      {
       "output_type": "stream",
       "stream": "stdout",
       "text": [
        "\b\b\b74%"
       ]
      },
      {
       "output_type": "stream",
       "stream": "stdout",
       "text": [
        "\b\b\b75%"
       ]
      },
      {
       "output_type": "stream",
       "stream": "stdout",
       "text": [
        "\b\b\b76%"
       ]
      },
      {
       "output_type": "stream",
       "stream": "stdout",
       "text": [
        "\b\b\b77%"
       ]
      },
      {
       "output_type": "stream",
       "stream": "stdout",
       "text": [
        "\b\b\b78%"
       ]
      },
      {
       "output_type": "stream",
       "stream": "stdout",
       "text": [
        "\b\b\b79%"
       ]
      },
      {
       "output_type": "stream",
       "stream": "stdout",
       "text": [
        "\b\b\b80%"
       ]
      },
      {
       "output_type": "stream",
       "stream": "stdout",
       "text": [
        "\b\b\b81%"
       ]
      },
      {
       "output_type": "stream",
       "stream": "stdout",
       "text": [
        "\b\b\b82%"
       ]
      },
      {
       "output_type": "stream",
       "stream": "stdout",
       "text": [
        "\b\b\b83%"
       ]
      },
      {
       "output_type": "stream",
       "stream": "stdout",
       "text": [
        "\b\b\b84%"
       ]
      },
      {
       "output_type": "stream",
       "stream": "stdout",
       "text": [
        "\b\b\b85%"
       ]
      },
      {
       "output_type": "stream",
       "stream": "stdout",
       "text": [
        "\b\b\b86%"
       ]
      },
      {
       "output_type": "stream",
       "stream": "stdout",
       "text": [
        "\b\b\b87%"
       ]
      },
      {
       "output_type": "stream",
       "stream": "stdout",
       "text": [
        "\b\b\b88%"
       ]
      },
      {
       "output_type": "stream",
       "stream": "stdout",
       "text": [
        "\b\b\b89%"
       ]
      },
      {
       "output_type": "stream",
       "stream": "stdout",
       "text": [
        "\b\b\b90%"
       ]
      },
      {
       "output_type": "stream",
       "stream": "stdout",
       "text": [
        "\b\b\b91%"
       ]
      },
      {
       "output_type": "stream",
       "stream": "stdout",
       "text": [
        "\b\b\b92%"
       ]
      },
      {
       "output_type": "stream",
       "stream": "stdout",
       "text": [
        "\b\b\b93%"
       ]
      },
      {
       "output_type": "stream",
       "stream": "stdout",
       "text": [
        "\b\b\b94%"
       ]
      },
      {
       "output_type": "stream",
       "stream": "stdout",
       "text": [
        "\b\b\b95%"
       ]
      },
      {
       "output_type": "stream",
       "stream": "stdout",
       "text": [
        "\b\b\b96%"
       ]
      },
      {
       "output_type": "stream",
       "stream": "stdout",
       "text": [
        "\b\b\b97%"
       ]
      },
      {
       "output_type": "stream",
       "stream": "stdout",
       "text": [
        "\b\b\b98%"
       ]
      },
      {
       "output_type": "stream",
       "stream": "stdout",
       "text": [
        "\b\b\b99%"
       ]
      },
      {
       "output_type": "stream",
       "stream": "stdout",
       "text": [
        "\b\b\bdone.\r\n"
       ]
      }
     ],
     "prompt_number": 35
    },
    {
     "cell_type": "heading",
     "level": 2,
     "metadata": {},
     "source": [
      "Converting from PLINK to Genepop"
     ]
    },
    {
     "cell_type": "code",
     "collapsed": false,
     "input": [
      "no_off_pop_ind = {}\n",
      "for pop, inds in pop_ind.items():\n",
      "    no_off_pop_ind[pop] = [ind for ind in inds if ind not in offspring]\n",
      "    print(pop, len(inds), len(no_off_pop_ind[pop]))\n",
      "to_genepop('hapmap1', 'hapmap1', no_off_pop_ind)\n",
      "to_genepop('hapmap1_auto', 'hapmap1_auto', no_off_pop_ind)\n",
      "to_genepop('hapmap10', 'hapmap10', no_off_pop_ind)\n",
      "to_genepop('hapmap10_auto', 'hapmap10_auto', no_off_pop_ind)"
     ],
     "language": "python",
     "metadata": {},
     "outputs": [
      {
       "output_type": "stream",
       "stream": "stdout",
       "text": [
        "('YRI', 180, 120)\n",
        "('CHB', 90, 90)\n",
        "('CHD', 100, 100)\n",
        "('TSI', 100, 100)\n",
        "('MKK', 180, 150)\n",
        "('MEX', 90, 60)\n",
        "('LWK', 100, 100)\n",
        "('CEU', 180, 119)\n",
        "('ASW', 90, 55)\n",
        "('JPT', 91, 91)\n",
        "('GIH', 100, 100)\n"
       ]
      }
     ],
     "prompt_number": 36
    },
    {
     "cell_type": "code",
     "collapsed": false,
     "input": [],
     "language": "python",
     "metadata": {},
     "outputs": []
    }
   ],
   "metadata": {}
  }
 ]
}