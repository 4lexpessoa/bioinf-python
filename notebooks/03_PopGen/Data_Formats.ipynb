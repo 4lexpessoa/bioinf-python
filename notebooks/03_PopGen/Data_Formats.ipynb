{
 "metadata": {
  "name": "",
  "signature": "sha256:fa70271fcdfa00781c18c5d4e924ab69bcd976e0b9f1e0cfc24378e22e83d9ae"
 },
 "nbformat": 3,
 "nbformat_minor": 0,
 "worksheets": [
  {
   "cells": [
    {
     "cell_type": "heading",
     "level": 2,
     "metadata": {},
     "source": [
      "Data download"
     ]
    },
    {
     "cell_type": "code",
     "collapsed": false,
     "input": [
      "!wget http://hapmap.ncbi.nlm.nih.gov/downloads/genotypes/hapmap3/plink_format/draft_2/hapmap3_r2_b36_fwd.consensus.qc.poly.map.bz2\n",
      "!wget http://hapmap.ncbi.nlm.nih.gov/downloads/genotypes/hapmap3/plink_format/draft_2/hapmap3_r2_b36_fwd.consensus.qc.poly.ped.bz2\n",
      "\n",
      "!wget http://hapmap.ncbi.nlm.nih.gov/downloads/genotypes/hapmap3/plink_format/draft_2/relationships_w_pops_121708.txt"
     ],
     "language": "python",
     "metadata": {},
     "outputs": [
      {
       "output_type": "stream",
       "stream": "stdout",
       "text": [
        "--2015-01-12 12:01:14--  http://hapmap.ncbi.nlm.nih.gov/downloads/genotypes/hapmap3/plink_format/draft_2/hapmap3_r2_b36_fwd.consensus.qc.poly.map.bz2\r\n"
       ]
      },
      {
       "output_type": "stream",
       "stream": "stdout",
       "text": [
        "Resolving hapmap.ncbi.nlm.nih.gov (hapmap.ncbi.nlm.nih.gov)... "
       ]
      },
      {
       "output_type": "stream",
       "stream": "stdout",
       "text": [
        "130.14.29.113, 2607:f220:41e:4290::113\r\n",
        "Connecting to hapmap.ncbi.nlm.nih.gov (hapmap.ncbi.nlm.nih.gov)|130.14.29.113|:80... "
       ]
      },
      {
       "output_type": "stream",
       "stream": "stdout",
       "text": [
        "connected.\r\n",
        "HTTP request sent, awaiting response... "
       ]
      },
      {
       "output_type": "stream",
       "stream": "stdout",
       "text": [
        "200 OK\r\n",
        "Length: 10590722 (10M) [application/x-bzip2]\r\n",
        "Saving to: \u2018hapmap3_r2_b36_fwd.consensus.qc.poly.map.bz2\u2019\r\n",
        "\r\n",
        "\r",
        " 0% [                                       ] 0           --.-K/s              "
       ]
      },
      {
       "output_type": "stream",
       "stream": "stdout",
       "text": [
        "\r",
        " 0% [                                       ] 36,920       144KB/s             "
       ]
      },
      {
       "output_type": "stream",
       "stream": "stdout",
       "text": [
        "\r",
        " 1% [                                       ] 119,000      233KB/s             "
       ]
      },
      {
       "output_type": "stream",
       "stream": "stdout",
       "text": [
        "\r",
        " 3% [>                                      ] 321,464      419KB/s             "
       ]
      },
      {
       "output_type": "stream",
       "stream": "stdout",
       "text": [
        "\r",
        " 7% [=>                                     ] 774,272      768KB/s             "
       ]
      },
      {
       "output_type": "stream",
       "stream": "stdout",
       "text": [
        "\r",
        "15% [====>                                  ] 1,590,968   1.28MB/s             "
       ]
      },
      {
       "output_type": "stream",
       "stream": "stdout",
       "text": [
        "\r",
        "21% [=======>                               ] 2,302,328   1.56MB/s             "
       ]
      },
      {
       "output_type": "stream",
       "stream": "stdout",
       "text": [
        "\r",
        "29% [==========>                            ] 3,125,864   1.85MB/s             "
       ]
      },
      {
       "output_type": "stream",
       "stream": "stdout",
       "text": [
        "\r",
        "36% [=============>                         ] 3,894,680   2.05MB/s             "
       ]
      },
      {
       "output_type": "stream",
       "stream": "stdout",
       "text": [
        "\r",
        "43% [================>                      ] 4,622,456   2.19MB/s             "
       ]
      },
      {
       "output_type": "stream",
       "stream": "stdout",
       "text": [
        "\r",
        "52% [===================>                   ] 5,554,064   2.37MB/s             "
       ]
      },
      {
       "output_type": "stream",
       "stream": "stdout",
       "text": [
        "\r",
        "60% [======================>                ] 6,363,920   2.49MB/s             "
       ]
      },
      {
       "output_type": "stream",
       "stream": "stdout",
       "text": [
        "\r",
        "67% [=========================>             ] 7,127,264   2.58MB/s             "
       ]
      },
      {
       "output_type": "stream",
       "stream": "stdout",
       "text": [
        "\r",
        "73% [===========================>           ] 7,826,312   2.63MB/s             "
       ]
      },
      {
       "output_type": "stream",
       "stream": "stdout",
       "text": [
        "\r",
        "78% [=============================>         ] 8,335,208   2.61MB/s  eta 1s     "
       ]
      },
      {
       "output_type": "stream",
       "stream": "stdout",
       "text": [
        "\r",
        "85% [================================>      ] 9,032,888   2.66MB/s  eta 1s     "
       ]
      },
      {
       "output_type": "stream",
       "stream": "stdout",
       "text": [
        "\r",
        "91% [==================================>    ] 9,664,904   2.68MB/s  eta 1s     "
       ]
      },
      {
       "output_type": "stream",
       "stream": "stdout",
       "text": [
        "\r",
        "97% [====================================>  ] 10,277,768  2.81MB/s  eta 1s     "
       ]
      },
      {
       "output_type": "stream",
       "stream": "stdout",
       "text": [
        "\r",
        "100%[======================================>] 10,590,722  3.01MB/s   in 3.7s   \r\n",
        "\r\n",
        "2015-01-12 12:01:18 (2.72 MB/s) - \u2018hapmap3_r2_b36_fwd.consensus.qc.poly.map.bz2\u2019 saved [10590722/10590722]\r\n",
        "\r\n"
       ]
      },
      {
       "output_type": "stream",
       "stream": "stdout",
       "text": [
        "--2015-01-12 12:01:18--  http://hapmap.ncbi.nlm.nih.gov/downloads/genotypes/hapmap3/plink_format/draft_2/hapmap3_r2_b36_fwd.consensus.qc.poly.ped.bz2\r\n",
        "Resolving hapmap.ncbi.nlm.nih.gov (hapmap.ncbi.nlm.nih.gov)... 130.14.29.113, 2607:f220:41e:4290::113\r\n",
        "Connecting to hapmap.ncbi.nlm.nih.gov (hapmap.ncbi.nlm.nih.gov)|130.14.29.113|:80... "
       ]
      },
      {
       "output_type": "stream",
       "stream": "stdout",
       "text": [
        "connected.\r\n",
        "HTTP request sent, awaiting response... "
       ]
      },
      {
       "output_type": "stream",
       "stream": "stdout",
       "text": [
        "200 OK\r\n",
        "Length: 757962593 (723M) [application/x-bzip2]\r\n",
        "Saving to: \u2018hapmap3_r2_b36_fwd.consensus.qc.poly.ped.bz2\u2019\r\n",
        "\r\n",
        "\r",
        " 0% [                                       ] 0           --.-K/s              "
       ]
      },
      {
       "output_type": "stream",
       "stream": "stdout",
       "text": [
        "\r",
        " 0% [                                       ] 34,344       133KB/s             "
       ]
      },
      {
       "output_type": "stream",
       "stream": "stdout",
       "text": [
        "\r",
        " 0% [                                       ] 119,160      230KB/s             "
       ]
      },
      {
       "output_type": "stream",
       "stream": "stdout",
       "text": [
        "\r",
        " 0% [                                       ] 321,624      414KB/s             "
       ]
      },
      {
       "output_type": "stream",
       "stream": "stdout",
       "text": [
        "\r",
        " 0% [                                       ] 786,744      758KB/s             "
       ]
      },
      {
       "output_type": "stream",
       "stream": "stdout",
       "text": [
        "\r",
        " 0% [                                       ] 1,191,656    919KB/s             "
       ]
      },
      {
       "output_type": "stream",
       "stream": "stdout",
       "text": [
        "\r",
        " 0% [                                       ] 2,110,968   1.32MB/s             "
       ]
      },
      {
       "output_type": "stream",
       "stream": "stdout",
       "text": [
        "\r",
        " 0% [                                       ] 2,737,512   1.47MB/s             "
       ]
      },
      {
       "output_type": "stream",
       "stream": "stdout",
       "text": [
        "\r",
        " 0% [                                       ] 3,391,416   1.60MB/s             "
       ]
      },
      {
       "output_type": "stream",
       "stream": "stdout",
       "text": [
        "\r",
        " 0% [                                       ] 4,072,680   1.70MB/s             "
       ]
      },
      {
       "output_type": "stream",
       "stream": "stdout",
       "text": [
        "\r",
        " 0% [                                       ] 4,785,408   1.80MB/s             "
       ]
      },
      {
       "output_type": "stream",
       "stream": "stdout",
       "text": [
        "\r",
        " 0% [                                       ] 5,524,128   1.89MB/s             "
       ]
      },
      {
       "output_type": "stream",
       "stream": "stdout",
       "text": [
        "\r",
        " 0% [                                       ] 6,277,896   1.99MB/s  eta 6m 1s  "
       ]
      },
      {
       "output_type": "stream",
       "stream": "stdout",
       "text": [
        "\r",
        " 0% [                                       ] 6,996,096   2.08MB/s  eta 6m 1s  "
       ]
      },
      {
       "output_type": "stream",
       "stream": "stdout",
       "text": [
        "\r",
        " 0% [                                       ] 7,451,640   2.08MB/s  eta 6m 1s  "
       ]
      },
      {
       "output_type": "stream",
       "stream": "stdout",
       "text": [
        "\r",
        " 1% [                                       ] 8,242,344   2.16MB/s  eta 6m 1s  "
       ]
      },
      {
       "output_type": "stream",
       "stream": "stdout",
       "text": [
        "\r",
        " 1% [                                       ] 8,934,552   2.36MB/s  eta 6m 1s  "
       ]
      },
      {
       "output_type": "stream",
       "stream": "stdout",
       "text": [
        "\r",
        " 1% [                                       ] 9,472,176   2.51MB/s  eta 5m 21s "
       ]
      },
      {
       "output_type": "stream",
       "stream": "stdout",
       "text": [
        "\r",
        " 1% [                                       ] 10,284,768  2.70MB/s  eta 5m 21s "
       ]
      },
      {
       "output_type": "stream",
       "stream": "stdout",
       "text": [
        "\r",
        " 1% [                                       ] 10,979,712  2.83MB/s  eta 5m 21s "
       ]
      },
      {
       "output_type": "stream",
       "stream": "stdout",
       "text": [
        "\r",
        " 1% [                                       ] 11,554,272  2.76MB/s  eta 5m 21s "
       ]
      },
      {
       "output_type": "stream",
       "stream": "stdout",
       "text": [
        "\r",
        " 1% [                                       ] 12,383,280  2.87MB/s  eta 5m 21s "
       ]
      },
      {
       "output_type": "stream",
       "stream": "stdout",
       "text": [
        "\r",
        " 1% [                                       ] 13,074,120  2.91MB/s  eta 4m 51s "
       ]
      },
      {
       "output_type": "stream",
       "stream": "stdout",
       "text": [
        "\r",
        " 1% [                                       ] 13,678,776  2.97MB/s  eta 4m 51s "
       ]
      },
      {
       "output_type": "stream",
       "stream": "stdout",
       "text": [
        "\r",
        " 1% [                                       ] 14,518,728  3.00MB/s  eta 4m 51s "
       ]
      },
      {
       "output_type": "stream",
       "stream": "stdout",
       "text": [
        "\r",
        " 2% [                                       ] 15,178,104  3.08MB/s  eta 4m 51s "
       ]
      },
      {
       "output_type": "stream",
       "stream": "stdout",
       "text": [
        "\r",
        " 2% [                                       ] 15,833,376  3.05MB/s  eta 4m 51s "
       ]
      },
      {
       "output_type": "stream",
       "stream": "stdout",
       "text": [
        "\r",
        " 2% [                                       ] 16,676,064  3.11MB/s  eta 4m 36s "
       ]
      },
      {
       "output_type": "stream",
       "stream": "stdout",
       "text": [
        "\r",
        " 2% [                                       ] 17,260,200  3.13MB/s  eta 4m 36s "
       ]
      },
      {
       "output_type": "stream",
       "stream": "stdout",
       "text": [
        "\r",
        " 2% [                                       ] 17,993,448  3.11MB/s  eta 4m 36s "
       ]
      },
      {
       "output_type": "stream",
       "stream": "stdout",
       "text": [
        "\r",
        " 2% [                                       ] 18,836,136  3.16MB/s  eta 4m 36s "
       ]
      },
      {
       "output_type": "stream",
       "stream": "stdout",
       "text": [
        "\r",
        " 2% [                                       ] 19,406,592  3.17MB/s  eta 4m 36s "
       ]
      },
      {
       "output_type": "stream",
       "stream": "stdout",
       "text": [
        "\r",
        " 2% [>                                      ] 20,154,888  3.13MB/s  eta 4m 26s "
       ]
      },
      {
       "output_type": "stream",
       "stream": "stdout",
       "text": [
        "\r",
        " 2% [>                                      ] 20,956,536  3.18MB/s  eta 4m 26s "
       ]
      },
      {
       "output_type": "stream",
       "stream": "stdout",
       "text": [
        "\r",
        " 2% [>                                      ] 21,487,320  3.18MB/s  eta 4m 26s "
       ]
      },
      {
       "output_type": "stream",
       "stream": "stdout",
       "text": [
        "\r",
        " 2% [>                                      ] 22,294,440  3.16MB/s  eta 4m 26s "
       ]
      },
      {
       "output_type": "stream",
       "stream": "stdout",
       "text": [
        "\r",
        " 3% [>                                      ] 22,878,576  3.15MB/s  eta 4m 26s "
       ]
      },
      {
       "output_type": "stream",
       "stream": "stdout",
       "text": [
        "\r",
        " 3% [>                                      ] 23,610,456  3.18MB/s  eta 4m 19s "
       ]
      },
      {
       "output_type": "stream",
       "stream": "stdout",
       "text": [
        "\r",
        " 3% [>                                      ] 24,349,176  3.15MB/s  eta 4m 19s "
       ]
      },
      {
       "output_type": "stream",
       "stream": "stdout",
       "text": [
        "\r",
        " 3% [>                                      ] 24,936,048  3.14MB/s  eta 4m 19s "
       ]
      },
      {
       "output_type": "stream",
       "stream": "stdout",
       "text": [
        "\r",
        " 3% [>                                      ] 25,696,656  3.20MB/s  eta 4m 19s "
       ]
      },
      {
       "output_type": "stream",
       "stream": "stdout",
       "text": [
        "\r",
        " 3% [>                                      ] 26,258,904  3.15MB/s  eta 4m 19s "
       ]
      },
      {
       "output_type": "stream",
       "stream": "stdout",
       "text": [
        "\r",
        " 3% [>                                      ] 27,020,880  3.15MB/s  eta 4m 12s "
       ]
      },
      {
       "output_type": "stream",
       "stream": "stdout",
       "text": [
        "\r",
        " 3% [>                                      ] 27,568,080  3.12MB/s  eta 4m 12s "
       ]
      },
      {
       "output_type": "stream",
       "stream": "stdout",
       "text": [
        "\r",
        " 3% [>                                      ] 28,267,128  3.17MB/s  eta 4m 12s "
       ]
      },
      {
       "output_type": "stream",
       "stream": "stdout",
       "text": [
        "\r",
        " 3% [>                                      ] 28,895,040  3.13MB/s  eta 4m 12s "
       ]
      },
      {
       "output_type": "stream",
       "stream": "stdout",
       "text": [
        "\r",
        " 3% [>                                      ] 29,609,136  3.13MB/s  eta 4m 12s "
       ]
      },
      {
       "output_type": "stream",
       "stream": "stdout",
       "text": [
        "\r",
        " 3% [>                                      ] 30,230,208  3.12MB/s  eta 4m 8s  "
       ]
      },
      {
       "output_type": "stream",
       "stream": "stdout",
       "text": [
        "\r",
        " 4% [>                                      ] 30,974,400  3.18MB/s  eta 4m 8s  "
       ]
      },
      {
       "output_type": "stream",
       "stream": "stdout",
       "text": [
        "\r",
        " 4% [>                                      ] 31,576,320  3.13MB/s  eta 4m 8s  "
       ]
      },
      {
       "output_type": "stream",
       "stream": "stdout",
       "text": [
        "\r",
        " 4% [>                                      ] 32,336,928  3.16MB/s  eta 4m 8s  "
       ]
      },
      {
       "output_type": "stream",
       "stream": "stdout",
       "text": [
        "\r",
        " 4% [>                                      ] 32,927,904  3.13MB/s  eta 4m 8s  "
       ]
      },
      {
       "output_type": "stream",
       "stream": "stdout",
       "text": [
        "\r",
        " 4% [>                                      ] 33,669,360  3.19MB/s  eta 4m 4s  "
       ]
      },
      {
       "output_type": "stream",
       "stream": "stdout",
       "text": [
        "\r",
        " 4% [>                                      ] 34,290,432  3.16MB/s  eta 4m 4s  "
       ]
      },
      {
       "output_type": "stream",
       "stream": "stdout",
       "text": [
        "\r",
        " 4% [>                                      ] 35,029,152  3.18MB/s  eta 4m 4s  "
       ]
      },
      {
       "output_type": "stream",
       "stream": "stdout",
       "text": [
        "\r",
        " 4% [>                                      ] 35,707,680  3.20MB/s  eta 4m 4s  "
       ]
      },
      {
       "output_type": "stream",
       "stream": "stdout",
       "text": [
        "\r",
        " 4% [>                                      ] 36,101,664  3.11MB/s  eta 4m 4s  "
       ]
      },
      {
       "output_type": "stream",
       "stream": "stdout",
       "text": [
        "\r",
        " 4% [>                                      ] 37,091,872  3.19MB/s  eta 4m 0s  "
       ]
      },
      {
       "output_type": "stream",
       "stream": "stdout",
       "text": [
        "\r",
        " 4% [>                                      ] 37,648,648  3.16MB/s  eta 4m 0s  "
       ]
      },
      {
       "output_type": "stream",
       "stream": "stdout",
       "text": [
        "\r",
        " 5% [>                                      ] 38,199,952  3.12MB/s  eta 4m 0s  "
       ]
      },
      {
       "output_type": "stream",
       "stream": "stdout",
       "text": [
        "\r",
        " 5% [>                                      ] 38,792,296  3.11MB/s  eta 4m 0s  "
       ]
      },
      {
       "output_type": "stream",
       "stream": "stdout",
       "text": [
        "\r",
        " 5% [=>                                     ] 39,406,528  3.10MB/s  eta 4m 0s  "
       ]
      },
      {
       "output_type": "stream",
       "stream": "stdout",
       "text": [
        "\r",
        " 5% [=>                                     ] 40,018,024  3.09MB/s  eta 3m 59s "
       ]
      },
      {
       "output_type": "stream",
       "stream": "stdout",
       "text": [
        "\r",
        " 5% [=>                                     ] 40,691,080  3.08MB/s  eta 3m 59s "
       ]
      },
      {
       "output_type": "stream",
       "stream": "stdout",
       "text": [
        "\r",
        " 5% [=>                                     ] 41,293,000  3.05MB/s  eta 3m 59s "
       ]
      },
      {
       "output_type": "stream",
       "stream": "stdout",
       "text": [
        "\r",
        " 5% [=>                                     ] 42,039,928  3.07MB/s  eta 3m 59s "
       ]
      },
      {
       "output_type": "stream",
       "stream": "stdout",
       "text": [
        "\r",
        " 5% [=>                                     ] 42,692,464  3.08MB/s  eta 3m 59s "
       ]
      },
      {
       "output_type": "stream",
       "stream": "stdout",
       "text": [
        "\r",
        " 5% [=>                                     ] 43,373,728  3.08MB/s  eta 3m 57s "
       ]
      },
      {
       "output_type": "stream",
       "stream": "stdout",
       "text": [
        "\r",
        " 5% [=>                                     ] 44,108,344  3.10MB/s  eta 3m 57s "
       ]
      },
      {
       "output_type": "stream",
       "stream": "stdout",
       "text": [
        "\r",
        " 5% [=>                                     ] 44,771,824  3.08MB/s  eta 3m 57s "
       ]
      },
      {
       "output_type": "stream",
       "stream": "stdout",
       "text": [
        "\r",
        " 6% [=>                                     ] 45,544,744  3.10MB/s  eta 3m 57s "
       ]
      },
      {
       "output_type": "stream",
       "stream": "stdout",
       "text": [
        "\r",
        " 6% [=>                                     ] 46,200,016  3.08MB/s  eta 3m 57s "
       ]
      },
      {
       "output_type": "stream",
       "stream": "stdout",
       "text": [
        "\r",
        " 6% [=>                                     ] 47,005,768  3.12MB/s  eta 3m 52s "
       ]
      },
      {
       "output_type": "stream",
       "stream": "stdout",
       "text": [
        "\r",
        " 6% [=>                                     ] 47,763,640  3.19MB/s  eta 3m 52s "
       ]
      },
      {
       "output_type": "stream",
       "stream": "stdout",
       "text": [
        "\r",
        " 6% [=>                                     ] 48,485,944  3.23MB/s  eta 3m 52s "
       ]
      },
      {
       "output_type": "stream",
       "stream": "stdout",
       "text": [
        "\r",
        " 6% [=>                                     ] 49,260,232  3.30MB/s  eta 3m 52s "
       ]
      },
      {
       "output_type": "stream",
       "stream": "stdout",
       "text": [
        "\r",
        " 6% [=>                                     ] 49,974,328  3.31MB/s  eta 3m 52s "
       ]
      },
      {
       "output_type": "stream",
       "stream": "stdout",
       "text": [
        "\r",
        " 6% [=>                                     ] 50,797,864  3.39MB/s  eta 3m 48s "
       ]
      },
      {
       "output_type": "stream",
       "stream": "stdout",
       "text": [
        "\r",
        " 6% [=>                                     ] 51,596,776  3.44MB/s  eta 3m 48s "
       ]
      },
      {
       "output_type": "stream",
       "stream": "stdout",
       "text": [
        "\r",
        " 6% [=>                                     ] 52,316,344  3.44MB/s  eta 3m 48s "
       ]
      },
      {
       "output_type": "stream",
       "stream": "stdout",
       "text": [
        "\r",
        " 7% [=>                                     ] 53,104,312  3.47MB/s  eta 3m 48s "
       ]
      },
      {
       "output_type": "stream",
       "stream": "stdout",
       "text": [
        "\r",
        " 7% [=>                                     ] 53,806,096  3.50MB/s  eta 3m 48s "
       ]
      },
      {
       "output_type": "stream",
       "stream": "stdout",
       "text": [
        "\r",
        " 7% [=>                                     ] 54,647,416  3.54MB/s  eta 3m 44s "
       ]
      },
      {
       "output_type": "stream",
       "stream": "stdout",
       "text": [
        "\r",
        " 7% [=>                                     ] 55,328,680  3.52MB/s  eta 3m 44s "
       ]
      },
      {
       "output_type": "stream",
       "stream": "stdout",
       "text": [
        "\r",
        " 7% [=>                                     ] 56,126,224  3.55MB/s  eta 3m 44s "
       ]
      },
      {
       "output_type": "stream",
       "stream": "stdout",
       "text": [
        "\r",
        " 7% [=>                                     ] 56,864,944  3.56MB/s  eta 3m 44s "
       ]
      },
      {
       "output_type": "stream",
       "stream": "stdout",
       "text": [
        "\r",
        " 7% [=>                                     ] 57,603,664  3.57MB/s  eta 3m 44s "
       ]
      },
      {
       "output_type": "stream",
       "stream": "stdout",
       "text": [
        "\r",
        " 7% [==>                                    ] 58,371,112  3.57MB/s  eta 3m 40s "
       ]
      },
      {
       "output_type": "stream",
       "stream": "stdout",
       "text": [
        "\r",
        " 7% [==>                                    ] 59,098,888  3.56MB/s  eta 3m 40s "
       ]
      },
      {
       "output_type": "stream",
       "stream": "stdout",
       "text": [
        "\r",
        " 7% [==>                                    ] 59,867,704  3.59MB/s  eta 3m 40s "
       ]
      },
      {
       "output_type": "stream",
       "stream": "stdout",
       "text": [
        "\r",
        " 7% [==>                                    ] 60,587,272  3.57MB/s  eta 3m 40s "
       ]
      },
      {
       "output_type": "stream",
       "stream": "stdout",
       "text": [
        "\r",
        " 8% [==>                                    ] 61,416,280  3.58MB/s  eta 3m 40s "
       ]
      },
      {
       "output_type": "stream",
       "stream": "stdout",
       "text": [
        "\r",
        " 8% [==>                                    ] 62,061,976  3.56MB/s  eta 3m 38s "
       ]
      },
      {
       "output_type": "stream",
       "stream": "stdout",
       "text": [
        "\r",
        " 8% [==>                                    ] 62,888,248  3.59MB/s  eta 3m 38s "
       ]
      },
      {
       "output_type": "stream",
       "stream": "stdout",
       "text": [
        "\r",
        " 8% [==>                                    ] 63,524,368  3.54MB/s  eta 3m 38s "
       ]
      },
      {
       "output_type": "stream",
       "stream": "stdout",
       "text": [
        "\r",
        " 8% [==>                                    ] 64,347,904  3.55MB/s  eta 3m 38s "
       ]
      },
      {
       "output_type": "stream",
       "stream": "stdout",
       "text": [
        "\r",
        " 8% [==>                                    ] 65,018,224  3.52MB/s  eta 3m 38s "
       ]
      },
      {
       "output_type": "stream",
       "stream": "stdout",
       "text": [
        "\r",
        " 8% [==>                                    ] 65,807,560  3.55MB/s  eta 3m 35s "
       ]
      },
      {
       "output_type": "stream",
       "stream": "stdout",
       "text": [
        "\r",
        " 8% [==>                                    ] 66,471,040  3.53MB/s  eta 3m 35s "
       ]
      },
      {
       "output_type": "stream",
       "stream": "stdout",
       "text": [
        "\r",
        " 8% [==>                                    ] 67,254,904  3.52MB/s  eta 3m 35s "
       ]
      },
      {
       "output_type": "stream",
       "stream": "stdout",
       "text": [
        "\r",
        " 8% [==>                                    ] 67,929,328  3.50MB/s  eta 3m 35s "
       ]
      },
      {
       "output_type": "stream",
       "stream": "stdout",
       "text": [
        "\r",
        " 9% [==>                                    ] 68,688,568  3.51MB/s  eta 3m 35s "
       ]
      },
      {
       "output_type": "stream",
       "stream": "stdout",
       "text": [
        "\r",
        " 9% [==>                                    ] 69,395,824  3.50MB/s  eta 3m 32s "
       ]
      },
      {
       "output_type": "stream",
       "stream": "stdout",
       "text": [
        "\r",
        " 9% [==>                                    ] 70,141,384  3.50MB/s  eta 3m 32s "
       ]
      },
      {
       "output_type": "stream",
       "stream": "stdout",
       "text": [
        "\r",
        " 9% [==>                                    ] 70,841,800  3.47MB/s  eta 3m 32s "
       ]
      },
      {
       "output_type": "stream",
       "stream": "stdout",
       "text": [
        "\r",
        " 9% [==>                                    ] 71,438,248  3.41MB/s  eta 3m 32s "
       ]
      },
      {
       "output_type": "stream",
       "stream": "stdout",
       "text": [
        "\r",
        " 9% [==>                                    ] 72,078,472  3.39MB/s  eta 3m 32s "
       ]
      },
      {
       "output_type": "stream",
       "stream": "stdout",
       "text": [
        "\r",
        " 9% [==>                                    ] 72,743,320  3.38MB/s  eta 3m 31s "
       ]
      },
      {
       "output_type": "stream",
       "stream": "stdout",
       "text": [
        "\r",
        " 9% [==>                                    ] 72,915,672  3.20MB/s  eta 3m 31s "
       ]
      },
      {
       "output_type": "stream",
       "stream": "stdout",
       "text": [
        "\r",
        " 9% [==>                                    ] 73,944,424  3.28MB/s  eta 3m 31s "
       ]
      },
      {
       "output_type": "stream",
       "stream": "stdout",
       "text": [
        "\r",
        " 9% [==>                                    ] 74,510,776  3.24MB/s  eta 3m 31s "
       ]
      },
      {
       "output_type": "stream",
       "stream": "stdout",
       "text": [
        "\r",
        " 9% [==>                                    ] 75,030,616  3.15MB/s  eta 3m 31s "
       ]
      },
      {
       "output_type": "stream",
       "stream": "stdout",
       "text": [
        "\r",
        " 9% [==>                                    ] 75,610,648  3.11MB/s  eta 3m 31s "
       ]
      },
      {
       "output_type": "stream",
       "stream": "stdout",
       "text": [
        "\r",
        "10% [==>                                    ] 76,179,736  3.08MB/s  eta 3m 31s "
       ]
      },
      {
       "output_type": "stream",
       "stream": "stdout",
       "text": [
        "\r",
        "10% [==>                                    ] 76,773,448  3.05MB/s  eta 3m 31s "
       ]
      },
      {
       "output_type": "stream",
       "stream": "stdout",
       "text": [
        "\r",
        "10% [==>                                    ] 77,419,144  3.00MB/s  eta 3m 31s "
       ]
      },
      {
       "output_type": "stream",
       "stream": "stdout",
       "text": [
        "\r",
        "10% [===>                                   ] 77,982,760  2.96MB/s  eta 3m 31s "
       ]
      },
      {
       "output_type": "stream",
       "stream": "stdout",
       "text": [
        "\r",
        "10% [===>                                   ] 78,621,616  2.94MB/s  eta 3m 31s "
       ]
      },
      {
       "output_type": "stream",
       "stream": "stdout",
       "text": [
        "\r",
        "10% [===>                                   ] 79,270,048  2.88MB/s  eta 3m 31s "
       ]
      },
      {
       "output_type": "stream",
       "stream": "stdout",
       "text": [
        "\r",
        "10% [===>                                   ] 79,866,496  2.86MB/s  eta 3m 31s "
       ]
      },
      {
       "output_type": "stream",
       "stream": "stdout",
       "text": [
        "\r",
        "10% [===>                                   ] 80,543,656  2.85MB/s  eta 3m 31s "
       ]
      },
      {
       "output_type": "stream",
       "stream": "stdout",
       "text": [
        "\r",
        "10% [===>                                   ] 81,164,728  2.85MB/s  eta 3m 31s "
       ]
      },
      {
       "output_type": "stream",
       "stream": "stdout",
       "text": [
        "\r",
        "10% [===>                                   ] 81,785,800  2.85MB/s  eta 3m 30s "
       ]
      },
      {
       "output_type": "stream",
       "stream": "stdout",
       "text": [
        "\r",
        "10% [===>                                   ] 82,458,856  3.00MB/s  eta 3m 30s "
       ]
      },
      {
       "output_type": "stream",
       "stream": "stdout",
       "text": [
        "\r",
        "10% [===>                                   ] 83,115,496  2.88MB/s  eta 3m 30s "
       ]
      },
      {
       "output_type": "stream",
       "stream": "stdout",
       "text": [
        "\r",
        "11% [===>                                   ] 83,773,504  2.91MB/s  eta 3m 30s "
       ]
      },
      {
       "output_type": "stream",
       "stream": "stdout",
       "text": [
        "\r",
        "11% [===>                                   ] 84,447,928  2.97MB/s  eta 3m 30s "
       ]
      },
      {
       "output_type": "stream",
       "stream": "stdout",
       "text": [
        "\r",
        "11% [===>                                   ] 85,164,760  3.02MB/s  eta 3m 29s "
       ]
      },
      {
       "output_type": "stream",
       "stream": "stdout",
       "text": [
        "\r",
        "11% [===>                                   ] 85,906,216  3.06MB/s  eta 3m 29s "
       ]
      },
      {
       "output_type": "stream",
       "stream": "stdout",
       "text": [
        "\r",
        "11% [===>                                   ] 86,639,464  3.11MB/s  eta 3m 29s "
       ]
      },
      {
       "output_type": "stream",
       "stream": "stdout",
       "text": [
        "\r",
        "11% [===>                                   ] 87,397,336  3.15MB/s  eta 3m 29s "
       ]
      },
      {
       "output_type": "stream",
       "stream": "stdout",
       "text": [
        "\r",
        "11% [===>                                   ] 88,092,280  3.17MB/s  eta 3m 29s "
       ]
      },
      {
       "output_type": "stream",
       "stream": "stdout",
       "text": [
        "\r",
        "11% [===>                                   ] 88,822,792  3.21MB/s  eta 3m 27s "
       ]
      },
      {
       "output_type": "stream",
       "stream": "stdout",
       "text": [
        "\r",
        "11% [===>                                   ] 89,586,136  3.26MB/s  eta 3m 27s "
       ]
      },
      {
       "output_type": "stream",
       "stream": "stdout",
       "text": [
        "\r",
        "11% [===>                                   ] 90,302,968  3.28MB/s  eta 3m 27s "
       ]
      },
      {
       "output_type": "stream",
       "stream": "stdout",
       "text": [
        "\r",
        "12% [===>                                   ] 91,060,840  3.32MB/s  eta 3m 27s "
       ]
      },
      {
       "output_type": "stream",
       "stream": "stdout",
       "text": [
        "\r",
        "12% [===>                                   ] 91,821,448  3.36MB/s  eta 3m 27s "
       ]
      },
      {
       "output_type": "stream",
       "stream": "stdout",
       "text": [
        "\r",
        "12% [===>                                   ] 92,579,320  3.39MB/s  eta 3m 25s "
       ]
      },
      {
       "output_type": "stream",
       "stream": "stdout",
       "text": [
        "\r",
        "12% [===>                                   ] 93,328,984  3.42MB/s  eta 3m 25s "
       ]
      },
      {
       "output_type": "stream",
       "stream": "stdout",
       "text": [
        "\r",
        "12% [===>                                   ] 94,036,240  3.46MB/s  eta 3m 25s "
       ]
      },
      {
       "output_type": "stream",
       "stream": "stdout",
       "text": [
        "\r",
        "12% [===>                                   ] 94,824,208  3.50MB/s  eta 3m 25s "
       ]
      },
      {
       "output_type": "stream",
       "stream": "stdout",
       "text": [
        "\r",
        "12% [===>                                   ] 95,567,032  3.52MB/s  eta 3m 25s "
       ]
      },
      {
       "output_type": "stream",
       "stream": "stdout",
       "text": [
        "\r",
        "12% [===>                                   ] 96,409,720  3.57MB/s  eta 3m 22s "
       ]
      },
      {
       "output_type": "stream",
       "stream": "stdout",
       "text": [
        "\r",
        "12% [===>                                   ] 97,153,912  3.57MB/s  eta 3m 22s "
       ]
      },
      {
       "output_type": "stream",
       "stream": "stdout",
       "text": [
        "\r",
        "12% [====>                                  ] 97,966,504  3.59MB/s  eta 3m 22s "
       ]
      },
      {
       "output_type": "stream",
       "stream": "stdout",
       "text": [
        "\r",
        "13% [====>                                  ] 98,732,584  3.60MB/s  eta 3m 22s "
       ]
      },
      {
       "output_type": "stream",
       "stream": "stdout",
       "text": [
        "\r",
        "13% [====>                                  ] 99,545,176  3.63MB/s  eta 3m 22s "
       ]
      },
      {
       "output_type": "stream",
       "stream": "stdout",
       "text": [
        "\r",
        "13% [====>                                  ] 100,308,520 3.64MB/s  eta 3m 20s "
       ]
      },
      {
       "output_type": "stream",
       "stream": "stdout",
       "text": [
        "\r",
        "13% [====>                                  ] 101,110,168 3.67MB/s  eta 3m 20s "
       ]
      },
      {
       "output_type": "stream",
       "stream": "stdout",
       "text": [
        "\r",
        "13% [====>                                  ] 101,868,040 3.66MB/s  eta 3m 20s "
       ]
      },
      {
       "output_type": "stream",
       "stream": "stdout",
       "text": [
        "\r",
        "13% [====>                                  ] 102,668,320 3.68MB/s  eta 3m 20s "
       ]
      },
      {
       "output_type": "stream",
       "stream": "stdout",
       "text": [
        "\r",
        "13% [====>                                  ] 103,428,928 3.68MB/s  eta 3m 20s "
       ]
      },
      {
       "output_type": "stream",
       "stream": "stdout",
       "text": [
        "\r",
        "13% [====>                                  ] 104,231,944 3.69MB/s  eta 3m 17s "
       ]
      },
      {
       "output_type": "stream",
       "stream": "stdout",
       "text": [
        "\r",
        "13% [====>                                  ] 105,028,120 3.70MB/s  eta 3m 17s "
       ]
      },
      {
       "output_type": "stream",
       "stream": "stdout",
       "text": [
        "\r",
        "13% [====>                                  ] 105,805,144 3.73MB/s  eta 3m 17s "
       ]
      },
      {
       "output_type": "stream",
       "stream": "stdout",
       "text": [
        "\r",
        "14% [====>                                  ] 106,563,016 3.73MB/s  eta 3m 17s "
       ]
      },
      {
       "output_type": "stream",
       "stream": "stdout",
       "text": [
        "\r",
        "14% [====>                                  ] 107,387,920 3.74MB/s  eta 3m 17s "
       ]
      },
      {
       "output_type": "stream",
       "stream": "stdout",
       "text": [
        "\r",
        "14% [====>                                  ] 108,145,792 3.74MB/s  eta 3m 15s "
       ]
      },
      {
       "output_type": "stream",
       "stream": "stdout",
       "text": [
        "\r",
        "14% [====>                                  ] 108,928,288 3.73MB/s  eta 3m 15s "
       ]
      },
      {
       "output_type": "stream",
       "stream": "stdout",
       "text": [
        "\r",
        "14% [====>                                  ] 109,698,472 3.72MB/s  eta 3m 15s "
       ]
      },
      {
       "output_type": "stream",
       "stream": "stdout",
       "text": [
        "\r",
        "14% [====>                                  ] 110,465,920 3.72MB/s  eta 3m 15s "
       ]
      },
      {
       "output_type": "stream",
       "stream": "stdout",
       "text": [
        "\r",
        "14% [====>                                  ] 111,312,712 3.74MB/s  eta 3m 15s "
       ]
      },
      {
       "output_type": "stream",
       "stream": "stdout",
       "text": [
        "\r",
        "14% [====>                                  ] 112,084,264 3.73MB/s  eta 3m 13s "
       ]
      },
      {
       "output_type": "stream",
       "stream": "stdout",
       "text": [
        "\r",
        "14% [====>                                  ] 112,937,896 3.77MB/s  eta 3m 13s "
       ]
      },
      {
       "output_type": "stream",
       "stream": "stdout",
       "text": [
        "\r",
        "14% [====>                                  ] 113,679,352 3.73MB/s  eta 3m 13s "
       ]
      },
      {
       "output_type": "stream",
       "stream": "stdout",
       "text": [
        "\r",
        "15% [====>                                  ] 114,475,528 3.74MB/s  eta 3m 13s "
       ]
      },
      {
       "output_type": "stream",
       "stream": "stdout",
       "text": [
        "\r",
        "15% [====>                                  ] 115,274,440 3.75MB/s  eta 3m 13s "
       ]
      },
      {
       "output_type": "stream",
       "stream": "stdout",
       "text": [
        "\r",
        "15% [====>                                  ] 116,073,352 3.74MB/s  eta 3m 11s "
       ]
      },
      {
       "output_type": "stream",
       "stream": "stdout",
       "text": [
        "\r",
        "15% [=====>                                 ] 116,932,456 3.76MB/s  eta 3m 11s "
       ]
      },
      {
       "output_type": "stream",
       "stream": "stdout",
       "text": [
        "\r",
        "15% [=====>                                 ] 117,706,744 3.75MB/s  eta 3m 11s "
       ]
      },
      {
       "output_type": "stream",
       "stream": "stdout",
       "text": [
        "\r",
        "15% [=====>                                 ] 118,543,960 3.76MB/s  eta 3m 11s "
       ]
      },
      {
       "output_type": "stream",
       "stream": "stdout",
       "text": [
        "\r",
        "15% [=====>                                 ] 119,420,848 3.80MB/s  eta 3m 11s "
       ]
      },
      {
       "output_type": "stream",
       "stream": "stdout",
       "text": [
        "\r",
        "15% [=====>                                 ] 120,316,888 3.84MB/s  eta 3m 8s  "
       ]
      },
      {
       "output_type": "stream",
       "stream": "stdout",
       "text": [
        "\r",
        "16% [=====>                                 ] 121,300,480 3.90MB/s  eta 3m 8s  "
       ]
      },
      {
       "output_type": "stream",
       "stream": "stdout",
       "text": [
        "\r",
        "16% [=====>                                 ] 122,192,416 3.93MB/s  eta 3m 8s  "
       ]
      },
      {
       "output_type": "stream",
       "stream": "stdout",
       "text": [
        "\r",
        "16% [=====>                                 ] 123,243,040 4.02MB/s  eta 3m 8s  "
       ]
      },
      {
       "output_type": "stream",
       "stream": "stdout",
       "text": [
        "\r",
        "16% [=====>                                 ] 124,189,696 4.07MB/s  eta 3m 8s  "
       ]
      },
      {
       "output_type": "stream",
       "stream": "stdout",
       "text": [
        "\r",
        "16% [=====>                                 ] 125,258,104 4.16MB/s  eta 3m 4s  "
       ]
      },
      {
       "output_type": "stream",
       "stream": "stdout",
       "text": [
        "\r",
        "16% [=====>                                 ] 126,321,040 4.22MB/s  eta 3m 4s  "
       ]
      },
      {
       "output_type": "stream",
       "stream": "stdout",
       "text": [
        "\r",
        "16% [=====>                                 ] 127,433,224 4.32MB/s  eta 3m 4s  "
       ]
      },
      {
       "output_type": "stream",
       "stream": "stdout",
       "text": [
        "\r",
        "16% [=====>                                 ] 128,233,504 4.20MB/s  eta 3m 4s  "
       ]
      },
      {
       "output_type": "stream",
       "stream": "stdout",
       "text": [
        "\r",
        "17% [=====>                                 ] 129,661,696 4.38MB/s  eta 3m 4s  "
       ]
      },
      {
       "output_type": "stream",
       "stream": "stdout",
       "text": [
        "\r",
        "17% [=====>                                 ] 130,435,984 4.35MB/s  eta 3m 1s  "
       ]
      },
      {
       "output_type": "stream",
       "stream": "stdout",
       "text": [
        "\r",
        "17% [=====>                                 ] 131,266,360 4.35MB/s  eta 3m 1s  "
       ]
      },
      {
       "output_type": "stream",
       "stream": "stdout",
       "text": [
        "\r",
        "17% [=====>                                 ] 132,076,216 4.37MB/s  eta 3m 1s  "
       ]
      },
      {
       "output_type": "stream",
       "stream": "stdout",
       "text": [
        "\r",
        "17% [=====>                                 ] 133,037,920 4.41MB/s  eta 3m 1s  "
       ]
      },
      {
       "output_type": "stream",
       "stream": "stdout",
       "text": [
        "\r",
        "17% [=====>                                 ] 133,931,224 4.43MB/s  eta 3m 1s  "
       ]
      },
      {
       "output_type": "stream",
       "stream": "stdout",
       "text": [
        "\r",
        "17% [=====>                                 ] 134,943,544 4.47MB/s  eta 2m 58s "
       ]
      },
      {
       "output_type": "stream",
       "stream": "stdout",
       "text": [
        "\r",
        "17% [=====>                                 ] 135,906,616 4.47MB/s  eta 2m 58s "
       ]
      },
      {
       "output_type": "stream",
       "stream": "stdout",
       "text": [
        "\r",
        "18% [======>                                ] 136,927,144 4.49MB/s  eta 2m 58s "
       ]
      },
      {
       "output_type": "stream",
       "stream": "stdout",
       "text": [
        "\r",
        "18% [======>                                ] 138,024,280 4.51MB/s  eta 2m 58s "
       ]
      },
      {
       "output_type": "stream",
       "stream": "stdout",
       "text": [
        "\r",
        "18% [======>                                ] 139,032,496 4.51MB/s  eta 2m 58s "
       ]
      },
      {
       "output_type": "stream",
       "stream": "stdout",
       "text": [
        "\r",
        "18% [======>                                ] 140,173,408 4.55MB/s  eta 2m 55s "
       ]
      },
      {
       "output_type": "stream",
       "stream": "stdout",
       "text": [
        "\r",
        "18% [======>                                ] 141,174,784 4.51MB/s  eta 2m 55s "
       ]
      },
      {
       "output_type": "stream",
       "stream": "stdout",
       "text": [
        "\r",
        "18% [======>                                ] 142,307,488 4.54MB/s  eta 2m 55s "
       ]
      },
      {
       "output_type": "stream",
       "stream": "stdout",
       "text": [
        "\r",
        "18% [======>                                ] 143,373,160 4.57MB/s  eta 2m 55s "
       ]
      },
      {
       "output_type": "stream",
       "stream": "stdout",
       "text": [
        "\r",
        "19% [======>                                ] 144,497,656 4.64MB/s  eta 2m 55s "
       ]
      },
      {
       "output_type": "stream",
       "stream": "stdout",
       "text": [
        "\r",
        "19% [======>                                ] 145,687,816 4.76MB/s  eta 2m 51s "
       ]
      },
      {
       "output_type": "stream",
       "stream": "stdout",
       "text": [
        "\r",
        "19% [======>                                ] 146,798,632 4.85MB/s  eta 2m 51s "
       ]
      },
      {
       "output_type": "stream",
       "stream": "stdout",
       "text": [
        "\r",
        "19% [======>                                ] 148,007,944 5.01MB/s  eta 2m 51s "
       ]
      },
      {
       "output_type": "stream",
       "stream": "stdout",
       "text": [
        "\r",
        "19% [======>                                ] 149,096,872 5.07MB/s  eta 2m 51s "
       ]
      },
      {
       "output_type": "stream",
       "stream": "stdout",
       "text": [
        "\r",
        "19% [======>                                ] 150,267,880 5.12MB/s  eta 2m 51s "
       ]
      },
      {
       "output_type": "stream",
       "stream": "stdout",
       "text": [
        "\r",
        "19% [======>                                ] 151,425,208 5.21MB/s  eta 2m 47s "
       ]
      },
      {
       "output_type": "stream",
       "stream": "stdout",
       "text": [
        "\r",
        "20% [======>                                ] 152,566,120 5.23MB/s  eta 2m 47s "
       ]
      },
      {
       "output_type": "stream",
       "stream": "stdout",
       "text": [
        "\r",
        "20% [======>                                ] 153,791,848 5.31MB/s  eta 2m 47s "
       ]
      },
      {
       "output_type": "stream",
       "stream": "stdout",
       "text": [
        "\r",
        "20% [======>                                ] 154,957,384 5.37MB/s  eta 2m 47s "
       ]
      },
      {
       "output_type": "stream",
       "stream": "stdout",
       "text": [
        "\r",
        "20% [=======>                               ] 156,172,168 5.42MB/s  eta 2m 47s "
       ]
      },
      {
       "output_type": "stream",
       "stream": "stdout",
       "text": [
        "\r",
        "20% [=======>                               ] 157,325,392 5.42MB/s  eta 2m 43s "
       ]
      },
      {
       "output_type": "stream",
       "stream": "stdout",
       "text": [
        "\r",
        "20% [=======>                               ] 158,507,344 5.47MB/s  eta 2m 43s "
       ]
      },
      {
       "output_type": "stream",
       "stream": "stdout",
       "text": [
        "\r",
        "21% [=======>                               ] 159,705,712 5.50MB/s  eta 2m 43s "
       ]
      },
      {
       "output_type": "stream",
       "stream": "stdout",
       "text": [
        "\r",
        "21% [=======>                               ] 160,883,560 5.52MB/s  eta 2m 43s "
       ]
      },
      {
       "output_type": "stream",
       "stream": "stdout",
       "text": [
        "\r",
        "21% [=======>                               ] 162,153,064 5.55MB/s  eta 2m 43s "
       ]
      },
      {
       "output_type": "stream",
       "stream": "stdout",
       "text": [
        "\r",
        "21% [=======>                               ] 163,291,240 5.57MB/s  eta 2m 39s "
       ]
      },
      {
       "output_type": "stream",
       "stream": "stdout",
       "text": [
        "\r",
        "21% [=======>                               ] 164,495,080 5.60MB/s  eta 2m 39s "
       ]
      },
      {
       "output_type": "stream",
       "stream": "stdout",
       "text": [
        "\r",
        "21% [=======>                               ] 165,682,504 5.61MB/s  eta 2m 39s "
       ]
      },
      {
       "output_type": "stream",
       "stream": "stdout",
       "text": [
        "\r",
        "22% [=======>                               ] 166,861,720 5.61MB/s  eta 2m 39s "
       ]
      },
      {
       "output_type": "stream",
       "stream": "stdout",
       "text": [
        "\r",
        "22% [=======>                               ] 168,081,976 5.63MB/s  eta 2m 39s "
       ]
      },
      {
       "output_type": "stream",
       "stream": "stdout",
       "text": [
        "\r",
        "22% [=======>                               ] 169,255,720 5.64MB/s  eta 2m 35s "
       ]
      },
      {
       "output_type": "stream",
       "stream": "stdout",
       "text": [
        "\r",
        "22% [=======>                               ] 170,470,504 5.66MB/s  eta 2m 35s "
       ]
      },
      {
       "output_type": "stream",
       "stream": "stdout",
       "text": [
        "\r",
        "22% [=======>                               ] 171,641,512 5.65MB/s  eta 2m 35s "
       ]
      },
      {
       "output_type": "stream",
       "stream": "stdout",
       "text": [
        "\r",
        "22% [=======>                               ] 172,842,616 5.67MB/s  eta 2m 35s "
       ]
      },
      {
       "output_type": "stream",
       "stream": "stdout",
       "text": [
        "\r",
        "22% [=======>                               ] 173,403,496 5.42MB/s  eta 2m 35s "
       ]
      },
      {
       "output_type": "stream",
       "stream": "stdout",
       "text": [
        "\r",
        "23% [========>                              ] 175,010,896 5.56MB/s  eta 2m 32s "
       ]
      },
      {
       "output_type": "stream",
       "stream": "stdout",
       "text": [
        "\r",
        "23% [========>                              ] 175,897,360 5.48MB/s  eta 2m 32s "
       ]
      },
      {
       "output_type": "stream",
       "stream": "stdout",
       "text": [
        "\r",
        "23% [========>                              ] 176,776,984 5.37MB/s  eta 2m 32s "
       ]
      },
      {
       "output_type": "stream",
       "stream": "stdout",
       "text": [
        "\r",
        "23% [========>                              ] 177,689,440 5.30MB/s  eta 2m 32s "
       ]
      },
      {
       "output_type": "stream",
       "stream": "stdout",
       "text": [
        "\r",
        "23% [========>                              ] 178,664,824 5.24MB/s  eta 2m 32s "
       ]
      },
      {
       "output_type": "stream",
       "stream": "stdout",
       "text": [
        "\r",
        "23% [========>                              ] 179,567,704 5.16MB/s  eta 2m 30s "
       ]
      },
      {
       "output_type": "stream",
       "stream": "stdout",
       "text": [
        "\r",
        "23% [========>                              ] 180,435,016 5.04MB/s  eta 2m 30s "
       ]
      },
      {
       "output_type": "stream",
       "stream": "stdout",
       "text": [
        "\r",
        "23% [========>                              ] 181,346,104 4.97MB/s  eta 2m 30s "
       ]
      },
      {
       "output_type": "stream",
       "stream": "stdout",
       "text": [
        "\r",
        "24% [========>                              ] 182,181,952 4.87MB/s  eta 2m 30s "
       ]
      },
      {
       "output_type": "stream",
       "stream": "stdout",
       "text": [
        "\r",
        "24% [========>                              ] 183,125,872 4.77MB/s  eta 2m 30s "
       ]
      },
      {
       "output_type": "stream",
       "stream": "stdout",
       "text": [
        "\r",
        "24% [========>                              ] 184,010,968 4.68MB/s  eta 2m 29s "
       ]
      },
      {
       "output_type": "stream",
       "stream": "stdout",
       "text": [
        "\r",
        "24% [========>                              ] 184,917,952 4.62MB/s  eta 2m 29s "
       ]
      },
      {
       "output_type": "stream",
       "stream": "stdout",
       "text": [
        "\r",
        "24% [========>                              ] 185,915,224 4.53MB/s  eta 2m 29s "
       ]
      },
      {
       "output_type": "stream",
       "stream": "stdout",
       "text": [
        "\r",
        "24% [========>                              ] 186,844,096 4.47MB/s  eta 2m 29s "
       ]
      },
      {
       "output_type": "stream",
       "stream": "stdout",
       "text": [
        "\r",
        "24% [========>                              ] 187,770,232 4.54MB/s  eta 2m 29s "
       ]
      },
      {
       "output_type": "stream",
       "stream": "stdout",
       "text": [
        "\r",
        "24% [========>                              ] 188,779,816 4.34MB/s  eta 2m 27s "
       ]
      },
      {
       "output_type": "stream",
       "stream": "stdout",
       "text": [
        "\r",
        "25% [========>                              ] 189,737,416 4.37MB/s  eta 2m 27s "
       ]
      },
      {
       "output_type": "stream",
       "stream": "stdout",
       "text": [
        "\r",
        "25% [========>                              ] 190,747,000 4.41MB/s  eta 2m 27s "
       ]
      },
      {
       "output_type": "stream",
       "stream": "stdout",
       "text": [
        "\r",
        "25% [========>                              ] 191,760,688 4.43MB/s  eta 2m 27s "
       ]
      },
      {
       "output_type": "stream",
       "stream": "stdout",
       "text": [
        "\r",
        "25% [========>                              ] 192,730,600 4.45MB/s  eta 2m 27s "
       ]
      },
      {
       "output_type": "stream",
       "stream": "stdout",
       "text": [
        "\r",
        "25% [========>                              ] 193,695,040 4.46MB/s  eta 2m 25s "
       ]
      },
      {
       "output_type": "stream",
       "stream": "stdout",
       "text": [
        "\r",
        "25% [=========>                             ] 194,699,152 4.49MB/s  eta 2m 25s "
       ]
      },
      {
       "output_type": "stream",
       "stream": "stdout",
       "text": [
        "\r",
        "25% [=========>                             ] 195,712,840 4.53MB/s  eta 2m 25s "
       ]
      },
      {
       "output_type": "stream",
       "stream": "stdout",
       "text": [
        "\r",
        "25% [=========>                             ] 196,783,984 4.60MB/s  eta 2m 25s "
       ]
      },
      {
       "output_type": "stream",
       "stream": "stdout",
       "text": [
        "\r",
        "26% [=========>                             ] 197,903,008 4.67MB/s  eta 2m 25s "
       ]
      },
      {
       "output_type": "stream",
       "stream": "stdout",
       "text": [
        "\r",
        "26% [=========>                             ] 199,142,416 4.77MB/s  eta 2m 22s "
       ]
      },
      {
       "output_type": "stream",
       "stream": "stdout",
       "text": [
        "\r",
        "26% [=========>                             ] 200,290,168 4.86MB/s  eta 2m 22s "
       ]
      },
      {
       "output_type": "stream",
       "stream": "stdout",
       "text": [
        "\r",
        "26% [=========>                             ] 201,429,712 4.92MB/s  eta 2m 22s "
       ]
      },
      {
       "output_type": "stream",
       "stream": "stdout",
       "text": [
        "\r",
        "26% [=========>                             ] 202,655,440 4.99MB/s  eta 2m 22s "
       ]
      },
      {
       "output_type": "stream",
       "stream": "stdout",
       "text": [
        "\r",
        "26% [=========>                             ] 203,826,448 5.08MB/s  eta 2m 22s "
       ]
      },
      {
       "output_type": "stream",
       "stream": "stdout",
       "text": [
        "\r",
        "27% [=========>                             ] 205,060,384 5.15MB/s  eta 2m 19s "
       ]
      },
      {
       "output_type": "stream",
       "stream": "stdout",
       "text": [
        "\r",
        "27% [=========>                             ] 205,357,240 4.93MB/s  eta 2m 19s "
       ]
      },
      {
       "output_type": "stream",
       "stream": "stdout",
       "text": [
        "\r",
        "27% [=========>                             ] 207,024,832 5.12MB/s  eta 2m 19s "
       ]
      },
      {
       "output_type": "stream",
       "stream": "stdout",
       "text": [
        "\r",
        "27% [=========>                             ] 207,909,928 5.08MB/s  eta 2m 19s "
       ]
      },
      {
       "output_type": "stream",
       "stream": "stdout",
       "text": [
        "\r",
        "27% [=========>                             ] 208,785,448 5.06MB/s  eta 2m 19s "
       ]
      },
      {
       "output_type": "stream",
       "stream": "stdout",
       "text": [
        "\r",
        "27% [=========>                             ] 209,778,616 5.07MB/s  eta 2m 18s "
       ]
      },
      {
       "output_type": "stream",
       "stream": "stdout",
       "text": [
        "\r",
        "27% [=========>                             ] 210,648,664 5.02MB/s  eta 2m 18s "
       ]
      },
      {
       "output_type": "stream",
       "stream": "stdout",
       "text": [
        "\r",
        "27% [=========>                             ] 211,678,752 5.02MB/s  eta 2m 18s "
       ]
      },
      {
       "output_type": "stream",
       "stream": "stdout",
       "text": [
        "\r",
        "28% [=========>                             ] 212,635,000 5.01MB/s  eta 2m 18s "
       ]
      },
      {
       "output_type": "stream",
       "stream": "stdout",
       "text": [
        "\r",
        "28% [=========>                             ] 213,663,736 5.00MB/s  eta 2m 18s "
       ]
      },
      {
       "output_type": "stream",
       "stream": "stdout",
       "text": [
        "\r",
        "28% [==========>                            ] 214,719,832 4.97MB/s  eta 2m 16s "
       ]
      },
      {
       "output_type": "stream",
       "stream": "stdout",
       "text": [
        "\r",
        "28% [==========>                            ] 215,695,216 4.93MB/s  eta 2m 16s "
       ]
      },
      {
       "output_type": "stream",
       "stream": "stdout",
       "text": [
        "\r",
        "28% [==========>                            ] 216,811,504 4.90MB/s  eta 2m 16s "
       ]
      },
      {
       "output_type": "stream",
       "stream": "stdout",
       "text": [
        "\r",
        "28% [==========>                            ] 217,797,832 4.81MB/s  eta 2m 16s "
       ]
      },
      {
       "output_type": "stream",
       "stream": "stdout",
       "text": [
        "\r",
        "28% [==========>                            ] 218,927,800 4.82MB/s  eta 2m 16s "
       ]
      },
      {
       "output_type": "stream",
       "stream": "stdout",
       "text": [
        "\r",
        "29% [==========>                            ] 220,038,616 4.80MB/s  eta 2m 14s "
       ]
      },
      {
       "output_type": "stream",
       "stream": "stdout",
       "text": [
        "\r",
        "29% [==========>                            ] 221,138,488 4.98MB/s  eta 2m 14s "
       ]
      },
      {
       "output_type": "stream",
       "stream": "stdout",
       "text": [
        "\r",
        "29% [==========>                            ] 222,331,384 4.83MB/s  eta 2m 14s "
       ]
      },
      {
       "output_type": "stream",
       "stream": "stdout",
       "text": [
        "\r",
        "29% [==========>                            ] 223,392,952 4.86MB/s  eta 2m 14s "
       ]
      },
      {
       "output_type": "stream",
       "stream": "stdout",
       "text": [
        "\r",
        "29% [==========>                            ] 224,580,376 4.99MB/s  eta 2m 14s "
       ]
      },
      {
       "output_type": "stream",
       "stream": "stdout",
       "text": [
        "\r",
        "29% [==========>                            ] 225,695,296 5.04MB/s  eta 2m 11s "
       ]
      },
      {
       "output_type": "stream",
       "stream": "stdout",
       "text": [
        "\r",
        "29% [==========>                            ] 226,867,672 5.11MB/s  eta 2m 11s "
       ]
      },
      {
       "output_type": "stream",
       "stream": "stdout",
       "text": [
        "\r",
        "30% [==========>                            ] 228,050,992 5.18MB/s  eta 2m 11s "
       ]
      },
      {
       "output_type": "stream",
       "stream": "stdout",
       "text": [
        "\r",
        "30% [==========>                            ] 229,185,064 5.22MB/s  eta 2m 11s "
       ]
      },
      {
       "output_type": "stream",
       "stream": "stdout",
       "text": [
        "\r",
        "30% [==========>                            ] 230,413,528 5.29MB/s  eta 2m 11s "
       ]
      },
      {
       "output_type": "stream",
       "stream": "stdout",
       "text": [
        "\r",
        "30% [==========>                            ] 231,484,672 5.32MB/s  eta 2m 9s  "
       ]
      },
      {
       "output_type": "stream",
       "stream": "stdout",
       "text": [
        "\r",
        "30% [==========>                            ] 232,704,928 5.35MB/s  eta 2m 9s  "
       ]
      },
      {
       "output_type": "stream",
       "stream": "stdout",
       "text": [
        "\r",
        "30% [===========>                           ] 233,849,944 5.39MB/s  eta 2m 9s  "
       ]
      },
      {
       "output_type": "stream",
       "stream": "stdout",
       "text": [
        "\r",
        "31% [===========>                           ] 235,067,464 5.45MB/s  eta 2m 9s  "
       ]
      },
      {
       "output_type": "stream",
       "stream": "stdout",
       "text": [
        "\r",
        "31% [===========>                           ] 236,213,848 5.47MB/s  eta 2m 9s  "
       ]
      },
      {
       "output_type": "stream",
       "stream": "stdout",
       "text": [
        "\r",
        "31% [===========>                           ] 237,406,744 5.48MB/s  eta 2m 7s  "
       ]
      },
      {
       "output_type": "stream",
       "stream": "stdout",
       "text": [
        "\r",
        "31% [===========>                           ] 238,651,624 5.54MB/s  eta 2m 7s  "
       ]
      },
      {
       "output_type": "stream",
       "stream": "stdout",
       "text": [
        "\r",
        "31% [===========>                           ] 239,766,544 5.54MB/s  eta 2m 7s  "
       ]
      },
      {
       "output_type": "stream",
       "stream": "stdout",
       "text": [
        "\r",
        "31% [===========>                           ] 241,001,848 5.58MB/s  eta 2m 7s  "
       ]
      },
      {
       "output_type": "stream",
       "stream": "stdout",
       "text": [
        "\r",
        "31% [===========>                           ] 242,134,552 5.55MB/s  eta 2m 7s  "
       ]
      },
      {
       "output_type": "stream",
       "stream": "stdout",
       "text": [
        "\r",
        "32% [===========>                           ] 243,387,640 5.61MB/s  eta 2m 4s  "
       ]
      },
      {
       "output_type": "stream",
       "stream": "stdout",
       "text": [
        "\r",
        "32% [===========>                           ] 244,569,592 5.61MB/s  eta 2m 4s  "
       ]
      },
      {
       "output_type": "stream",
       "stream": "stdout",
       "text": [
        "\r",
        "32% [===========>                           ] 245,751,544 5.64MB/s  eta 2m 4s  "
       ]
      },
      {
       "output_type": "stream",
       "stream": "stdout",
       "text": [
        "\r",
        "32% [===========>                           ] 246,949,912 5.62MB/s  eta 2m 4s  "
       ]
      },
      {
       "output_type": "stream",
       "stream": "stdout",
       "text": [
        "\r",
        "32% [===========>                           ] 248,093,560 5.62MB/s  eta 2m 4s  "
       ]
      },
      {
       "output_type": "stream",
       "stream": "stdout",
       "text": [
        "\r",
        "32% [===========>                           ] 249,316,552 5.65MB/s  eta 2m 2s  "
       ]
      },
      {
       "output_type": "stream",
       "stream": "stdout",
       "text": [
        "\r",
        "33% [===========>                           ] 250,449,256 5.65MB/s  eta 2m 2s  "
       ]
      },
      {
       "output_type": "stream",
       "stream": "stdout",
       "text": [
        "\r",
        "33% [===========>                           ] 251,670,880 5.66MB/s  eta 2m 2s  "
       ]
      },
      {
       "output_type": "stream",
       "stream": "stdout",
       "text": [
        "\r",
        "33% [============>                          ] 252,824,104 5.64MB/s  eta 2m 2s  "
       ]
      },
      {
       "output_type": "stream",
       "stream": "stdout",
       "text": [
        "\r",
        "33% [============>                          ] 254,058,040 5.66MB/s  eta 2m 2s  "
       ]
      },
      {
       "output_type": "stream",
       "stream": "stdout",
       "text": [
        "\r",
        "33% [============>                          ] 255,239,992 5.66MB/s  eta 2m 0s  "
       ]
      },
      {
       "output_type": "stream",
       "stream": "stdout",
       "text": [
        "\r",
        "33% [============>                          ] 256,427,416 5.65MB/s  eta 2m 0s  "
       ]
      },
      {
       "output_type": "stream",
       "stream": "stdout",
       "text": [
        "\r",
        "33% [============>                          ] 257,644,936 5.65MB/s  eta 2m 0s  "
       ]
      },
      {
       "output_type": "stream",
       "stream": "stdout",
       "text": [
        "\r",
        "34% [============>                          ] 258,802,264 5.66MB/s  eta 2m 0s  "
       ]
      },
      {
       "output_type": "stream",
       "stream": "stdout",
       "text": [
        "\r",
        "34% [============>                          ] 260,056,720 5.68MB/s  eta 2m 0s  "
       ]
      },
      {
       "output_type": "stream",
       "stream": "stdout",
       "text": [
        "\r",
        "34% [============>                          ] 261,199,000 5.66MB/s  eta 1m 57s "
       ]
      },
      {
       "output_type": "stream",
       "stream": "stdout",
       "text": [
        "\r",
        "34% [============>                          ] 262,446,616 5.67MB/s  eta 1m 57s "
       ]
      },
      {
       "output_type": "stream",
       "stream": "stdout",
       "text": [
        "\r",
        "34% [============>                          ] 263,616,256 5.67MB/s  eta 1m 57s "
       ]
      },
      {
       "output_type": "stream",
       "stream": "stdout",
       "text": [
        "\r",
        "34% [============>                          ] 264,843,352 5.68MB/s  eta 1m 57s "
       ]
      },
      {
       "output_type": "stream",
       "stream": "stdout",
       "text": [
        "\r",
        "35% [============>                          ] 266,047,192 5.70MB/s  eta 1m 57s "
       ]
      },
      {
       "output_type": "stream",
       "stream": "stdout",
       "text": [
        "\r",
        "35% [============>                          ] 267,256,504 5.68MB/s  eta 1m 55s "
       ]
      },
      {
       "output_type": "stream",
       "stream": "stdout",
       "text": [
        "\r",
        "35% [============>                          ] 268,528,744 5.72MB/s  eta 1m 55s "
       ]
      },
      {
       "output_type": "stream",
       "stream": "stdout",
       "text": [
        "\r",
        "35% [============>                          ] 269,686,072 5.71MB/s  eta 1m 55s "
       ]
      },
      {
       "output_type": "stream",
       "stream": "stdout",
       "text": [
        "\r",
        "35% [============>                          ] 270,263,368 5.49MB/s  eta 1m 55s "
       ]
      },
      {
       "output_type": "stream",
       "stream": "stdout",
       "text": [
        "\r",
        "35% [============>                          ] 271,866,664 5.61MB/s  eta 1m 55s "
       ]
      },
      {
       "output_type": "stream",
       "stream": "stdout",
       "text": [
        "\r",
        "35% [=============>                         ] 272,759,968 5.51MB/s  eta 1m 53s "
       ]
      },
      {
       "output_type": "stream",
       "stream": "stdout",
       "text": [
        "\r",
        "36% [=============>                         ] 273,720,304 5.44MB/s  eta 1m 53s "
       ]
      },
      {
       "output_type": "stream",
       "stream": "stdout",
       "text": [
        "\r",
        "36% [=============>                         ] 274,623,184 5.36MB/s  eta 1m 53s "
       ]
      },
      {
       "output_type": "stream",
       "stream": "stdout",
       "text": [
        "\r",
        "36% [=============>                         ] 275,653,288 5.32MB/s  eta 1m 53s "
       ]
      },
      {
       "output_type": "stream",
       "stream": "stdout",
       "text": [
        "\r",
        "36% [=============>                         ] 276,609,520 5.22MB/s  eta 1m 53s "
       ]
      },
      {
       "output_type": "stream",
       "stream": "stdout",
       "text": [
        "\r",
        "36% [=============>                         ] 277,625,944 5.17MB/s  eta 1m 52s "
       ]
      },
      {
       "output_type": "stream",
       "stream": "stdout",
       "text": [
        "\r",
        "36% [=============>                         ] 278,675,200 5.14MB/s  eta 1m 52s "
       ]
      },
      {
       "output_type": "stream",
       "stream": "stdout",
       "text": [
        "\r",
        "36% [=============>                         ] 279,692,992 5.06MB/s  eta 1m 52s "
       ]
      },
      {
       "output_type": "stream",
       "stream": "stdout",
       "text": [
        "\r",
        "37% [=============>                         ] 280,862,632 5.07MB/s  eta 1m 52s "
       ]
      },
      {
       "output_type": "stream",
       "stream": "stdout",
       "text": [
        "\r",
        "37% [=============>                         ] 281,874,952 5.00MB/s  eta 1m 52s "
       ]
      },
      {
       "output_type": "stream",
       "stream": "stdout",
       "text": [
        "\r",
        "37% [=============>                         ] 283,044,592 4.97MB/s  eta 1m 50s "
       ]
      },
      {
       "output_type": "stream",
       "stream": "stdout",
       "text": [
        "\r",
        "37% [=============>                         ] 284,104,792 4.94MB/s  eta 1m 50s "
       ]
      },
      {
       "output_type": "stream",
       "stream": "stdout",
       "text": [
        "\r",
        "37% [=============>                         ] 285,285,376 4.94MB/s  eta 1m 50s "
       ]
      },
      {
       "output_type": "stream",
       "stream": "stdout",
       "text": [
        "\r",
        "37% [=============>                         ] 286,407,136 5.11MB/s  eta 1m 50s "
       ]
      },
      {
       "output_type": "stream",
       "stream": "stdout",
       "text": [
        "\r",
        "37% [=============>                         ] 287,545,312 4.94MB/s  eta 1m 50s "
       ]
      },
      {
       "output_type": "stream",
       "stream": "stdout",
       "text": [
        "\r",
        "38% [=============>                         ] 288,803,872 5.05MB/s  eta 1m 48s "
       ]
      },
      {
       "output_type": "stream",
       "stream": "stdout",
       "text": [
        "\r",
        "38% [=============>                         ] 289,931,104 5.15MB/s  eta 1m 48s "
       ]
      },
      {
       "output_type": "stream",
       "stream": "stdout",
       "text": [
        "\r",
        "38% [=============>                         ] 291,162,304 5.20MB/s  eta 1m 48s "
       ]
      },
      {
       "output_type": "stream",
       "stream": "stdout",
       "text": [
        "\r",
        "38% [==============>                        ] 292,314,160 5.25MB/s  eta 1m 48s "
       ]
      },
      {
       "output_type": "stream",
       "stream": "stdout",
       "text": [
        "\r",
        "38% [==============>                        ] 293,531,680 5.35MB/s  eta 1m 48s "
       ]
      },
      {
       "output_type": "stream",
       "stream": "stdout",
       "text": [
        "\r",
        "38% [==============>                        ] 294,757,408 5.40MB/s  eta 1m 47s "
       ]
      },
      {
       "output_type": "stream",
       "stream": "stdout",
       "text": [
        "\r",
        "39% [==============>                        ] 295,928,416 5.44MB/s  eta 1m 47s "
       ]
      },
      {
       "output_type": "stream",
       "stream": "stdout",
       "text": [
        "\r",
        "39% [==============>                        ] 297,234,856 5.52MB/s  eta 1m 47s "
       ]
      },
      {
       "output_type": "stream",
       "stream": "stdout",
       "text": [
        "\r",
        "39% [==============>                        ] 298,386,712 5.56MB/s  eta 1m 47s "
       ]
      },
      {
       "output_type": "stream",
       "stream": "stdout",
       "text": [
        "\r",
        "39% [==============>                        ] 299,671,264 5.61MB/s  eta 1m 47s "
       ]
      },
      {
       "output_type": "stream",
       "stream": "stdout",
       "text": [
        "\r",
        "39% [==============>                        ] 300,840,904 5.63MB/s  eta 1m 45s "
       ]
      },
      {
       "output_type": "stream",
       "stream": "stdout",
       "text": [
        "\r",
        "39% [==============>                        ] 302,070,736 5.65MB/s  eta 1m 45s "
       ]
      },
      {
       "output_type": "stream",
       "stream": "stdout",
       "text": [
        "\r",
        "40% [==============>                        ] 303,310,144 5.69MB/s  eta 1m 45s "
       ]
      },
      {
       "output_type": "stream",
       "stream": "stdout",
       "text": [
        "\r",
        "40% [==============>                        ] 304,519,456 5.73MB/s  eta 1m 45s "
       ]
      },
      {
       "output_type": "stream",
       "stream": "stdout",
       "text": [
        "\r",
        "40% [==============>                        ] 305,783,488 5.76MB/s  eta 1m 45s "
       ]
      },
      {
       "output_type": "stream",
       "stream": "stdout",
       "text": [
        "\r",
        "40% [==============>                        ] 306,987,328 5.75MB/s  eta 1m 43s "
       ]
      },
      {
       "output_type": "stream",
       "stream": "stdout",
       "text": [
        "\r",
        "40% [==============>                        ] 308,304,712 5.82MB/s  eta 1m 43s "
       ]
      },
      {
       "output_type": "stream",
       "stream": "stdout",
       "text": [
        "\r",
        "40% [==============>                        ] 309,477,088 5.81MB/s  eta 1m 43s "
       ]
      },
      {
       "output_type": "stream",
       "stream": "stdout",
       "text": [
        "\r",
        "40% [==============>                        ] 310,738,384 5.83MB/s  eta 1m 43s "
       ]
      },
      {
       "output_type": "stream",
       "stream": "stdout",
       "text": [
        "\r",
        "41% [===============>                       ] 312,006,520 5.84MB/s  eta 1m 43s "
       ]
      },
      {
       "output_type": "stream",
       "stream": "stdout",
       "text": [
        "\r",
        "41% [===============>                       ] 313,187,104 5.84MB/s  eta 1m 41s "
       ]
      },
      {
       "output_type": "stream",
       "stream": "stdout",
       "text": [
        "\r",
        "41% [===============>                       ] 314,486,704 5.88MB/s  eta 1m 41s "
       ]
      },
      {
       "output_type": "stream",
       "stream": "stdout",
       "text": [
        "\r",
        "41% [===============>                       ] 315,665,920 5.87MB/s  eta 1m 41s "
       ]
      },
      {
       "output_type": "stream",
       "stream": "stdout",
       "text": [
        "\r",
        "41% [===============>                       ] 316,966,888 5.88MB/s  eta 1m 41s "
       ]
      },
      {
       "output_type": "stream",
       "stream": "stdout",
       "text": [
        "\r",
        "41% [===============>                       ] 318,155,680 5.86MB/s  eta 1m 41s "
       ]
      },
      {
       "output_type": "stream",
       "stream": "stdout",
       "text": [
        "\r",
        "42% [===============>                       ] 319,408,768 5.89MB/s  eta 99s    "
       ]
      },
      {
       "output_type": "stream",
       "stream": "stdout",
       "text": [
        "\r",
        "42% [===============>                       ] 320,681,008 5.90MB/s  eta 99s    "
       ]
      },
      {
       "output_type": "stream",
       "stream": "stdout",
       "text": [
        "\r",
        "42% [===============>                       ] 321,894,424 5.89MB/s  eta 99s    "
       ]
      },
      {
       "output_type": "stream",
       "stream": "stdout",
       "text": [
        "\r",
        "42% [===============>                       ] 323,174,872 5.90MB/s  eta 99s    "
       ]
      },
      {
       "output_type": "stream",
       "stream": "stdout",
       "text": [
        "\r",
        "42% [===============>                       ] 324,343,144 5.90MB/s  eta 99s    "
       ]
      },
      {
       "output_type": "stream",
       "stream": "stdout",
       "text": [
        "\r",
        "42% [===============>                       ] 325,676,944 5.93MB/s  eta 97s    "
       ]
      },
      {
       "output_type": "stream",
       "stream": "stdout",
       "text": [
        "\r",
        "43% [===============>                       ] 326,845,216 5.88MB/s  eta 97s    "
       ]
      },
      {
       "output_type": "stream",
       "stream": "stdout",
       "text": [
        "\r",
        "43% [===============>                       ] 328,111,984 5.89MB/s  eta 97s    "
       ]
      },
      {
       "output_type": "stream",
       "stream": "stdout",
       "text": [
        "\r",
        "43% [===============>                       ] 329,376,016 5.91MB/s  eta 97s    "
       ]
      },
      {
       "output_type": "stream",
       "stream": "stdout",
       "text": [
        "\r",
        "43% [================>                      ] 330,590,800 5.91MB/s  eta 97s    "
       ]
      },
      {
       "output_type": "stream",
       "stream": "stdout",
       "text": [
        "\r",
        "43% [================>                      ] 331,927,336 5.93MB/s  eta 95s    "
       ]
      },
      {
       "output_type": "stream",
       "stream": "stdout",
       "text": [
        "\r",
        "43% [================>                      ] 333,105,184 5.91MB/s  eta 95s    "
       ]
      },
      {
       "output_type": "stream",
       "stream": "stdout",
       "text": [
        "\r",
        "44% [================>                      ] 334,443,088 5.95MB/s  eta 95s    "
       ]
      },
      {
       "output_type": "stream",
       "stream": "stdout",
       "text": [
        "\r",
        "44% [================>                      ] 335,638,720 5.94MB/s  eta 95s    "
       ]
      },
      {
       "output_type": "stream",
       "stream": "stdout",
       "text": [
        "\r",
        "44% [================>                      ] 336,927,376 5.95MB/s  eta 95s    "
       ]
      },
      {
       "output_type": "stream",
       "stream": "stdout",
       "text": [
        "\r",
        "44% [================>                      ] 338,236,552 5.96MB/s  eta 93s    "
       ]
      },
      {
       "output_type": "stream",
       "stream": "stdout",
       "text": [
        "\r",
        "44% [================>                      ] 339,496,480 5.97MB/s  eta 93s    "
       ]
      },
      {
       "output_type": "stream",
       "stream": "stdout",
       "text": [
        "\r",
        "44% [================>                      ] 340,820,704 6.01MB/s  eta 93s    "
       ]
      },
      {
       "output_type": "stream",
       "stream": "stdout",
       "text": [
        "\r",
        "45% [================>                      ] 342,073,792 6.01MB/s  eta 93s    "
       ]
      },
      {
       "output_type": "stream",
       "stream": "stdout",
       "text": [
        "\r",
        "45% [================>                      ] 343,462,312 6.04MB/s  eta 93s    "
       ]
      },
      {
       "output_type": "stream",
       "stream": "stdout",
       "text": [
        "\r",
        "45% [================>                      ] 344,729,080 6.04MB/s  eta 91s    "
       ]
      },
      {
       "output_type": "stream",
       "stream": "stdout",
       "text": [
        "\r",
        "45% [================>                      ] 346,071,088 6.10MB/s  eta 91s    "
       ]
      },
      {
       "output_type": "stream",
       "stream": "stdout",
       "text": [
        "\r",
        "45% [================>                      ] 347,411,728 6.13MB/s  eta 91s    "
       ]
      },
      {
       "output_type": "stream",
       "stream": "stdout",
       "text": [
        "\r",
        "46% [================>                      ] 348,772,888 6.15MB/s  eta 91s    "
       ]
      },
      {
       "output_type": "stream",
       "stream": "stdout",
       "text": [
        "\r",
        "46% [=================>                     ] 350,155,936 6.19MB/s  eta 91s    "
       ]
      },
      {
       "output_type": "stream",
       "stream": "stdout",
       "text": [
        "\r",
        "46% [=================>                     ] 351,540,352 6.24MB/s  eta 89s    "
       ]
      },
      {
       "output_type": "stream",
       "stream": "stdout",
       "text": [
        "\r",
        "46% [=================>                     ] 352,980,856 6.30MB/s  eta 89s    "
       ]
      },
      {
       "output_type": "stream",
       "stream": "stdout",
       "text": [
        "\r",
        "46% [=================>                     ] 354,385,792 6.33MB/s  eta 89s    "
       ]
      },
      {
       "output_type": "stream",
       "stream": "stdout",
       "text": [
        "\r",
        "46% [=================>                     ] 355,864,600 6.39MB/s  eta 89s    "
       ]
      },
      {
       "output_type": "stream",
       "stream": "stdout",
       "text": [
        "\r",
        "47% [=================>                     ] 357,313,312 6.45MB/s  eta 89s    "
       ]
      },
      {
       "output_type": "stream",
       "stream": "stdout",
       "text": [
        "\r",
        "47% [=================>                     ] 358,770,232 6.53MB/s  eta 87s    "
       ]
      },
      {
       "output_type": "stream",
       "stream": "stdout",
       "text": [
        "\r",
        "47% [=================>                     ] 360,303,760 6.59MB/s  eta 87s    "
       ]
      },
      {
       "output_type": "stream",
       "stream": "stdout",
       "text": [
        "\r",
        "47% [=================>                     ] 361,830,448 6.64MB/s  eta 87s    "
       ]
      },
      {
       "output_type": "stream",
       "stream": "stdout",
       "text": [
        "\r",
        "47% [=================>                     ] 363,417,328 6.77MB/s  eta 87s    "
       ]
      },
      {
       "output_type": "stream",
       "stream": "stdout",
       "text": [
        "\r",
        "48% [=================>                     ] 365,019,256 6.85MB/s  eta 87s    "
       ]
      },
      {
       "output_type": "stream",
       "stream": "stdout",
       "text": [
        "\r",
        "48% [=================>                     ] 366,610,240 6.92MB/s  eta 84s    "
       ]
      },
      {
       "output_type": "stream",
       "stream": "stdout",
       "text": [
        "\r",
        "48% [=================>                     ] 368,273,728 7.03MB/s  eta 84s    "
       ]
      },
      {
       "output_type": "stream",
       "stream": "stdout",
       "text": [
        "\r",
        "48% [==================>                    ] 369,950,896 7.14MB/s  eta 84s    "
       ]
      },
      {
       "output_type": "stream",
       "stream": "stdout",
       "text": [
        "\r",
        "49% [==================>                    ] 371,671,840 7.24MB/s  eta 84s    "
       ]
      },
      {
       "output_type": "stream",
       "stream": "stdout",
       "text": [
        "\r",
        "49% [==================>                    ] 373,433,824 7.38MB/s  eta 84s    "
       ]
      },
      {
       "output_type": "stream",
       "stream": "stdout",
       "text": [
        "\r",
        "49% [==================>                    ] 375,245,056 7.50MB/s  eta 81s    "
       ]
      },
      {
       "output_type": "stream",
       "stream": "stdout",
       "text": [
        "\r",
        "49% [==================>                    ] 377,060,392 7.60MB/s  eta 81s    "
       ]
      },
      {
       "output_type": "stream",
       "stream": "stdout",
       "text": [
        "\r",
        "49% [==================>                    ] 378,949,600 7.79MB/s  eta 81s    "
       ]
      },
      {
       "output_type": "stream",
       "stream": "stdout",
       "text": [
        "\r",
        "50% [==================>                    ] 380,034,424 7.55MB/s  eta 81s    "
       ]
      },
      {
       "output_type": "stream",
       "stream": "stdout",
       "text": [
        "\r",
        "50% [==================>                    ] 382,618,576 7.88MB/s  eta 81s    "
       ]
      },
      {
       "output_type": "stream",
       "stream": "stdout",
       "text": [
        "\r",
        "50% [==================>                    ] 384,071,392 7.86MB/s  eta 79s    "
       ]
      },
      {
       "output_type": "stream",
       "stream": "stdout",
       "text": [
        "\r",
        "50% [==================>                    ] 385,465,384 7.85MB/s  eta 79s    "
       ]
      },
      {
       "output_type": "stream",
       "stream": "stdout",
       "text": [
        "\r",
        "51% [==================>                    ] 386,963,344 7.82MB/s  eta 79s    "
       ]
      },
      {
       "output_type": "stream",
       "stream": "stdout",
       "text": [
        "\r",
        "51% [==================>                    ] 388,502,344 7.80MB/s  eta 79s    "
       ]
      },
      {
       "output_type": "stream",
       "stream": "stdout",
       "text": [
        "\r",
        "51% [===================>                   ] 389,956,528 7.78MB/s  eta 79s    "
       ]
      },
      {
       "output_type": "stream",
       "stream": "stdout",
       "text": [
        "\r",
        "51% [===================>                   ] 391,624,120 7.80MB/s  eta 77s    "
       ]
      },
      {
       "output_type": "stream",
       "stream": "stdout",
       "text": [
        "\r",
        "51% [===================>                   ] 393,085,144 7.74MB/s  eta 77s    "
       ]
      },
      {
       "output_type": "stream",
       "stream": "stdout",
       "text": [
        "\r",
        "52% [===================>                   ] 394,879,960 7.77MB/s  eta 77s    "
       ]
      },
      {
       "output_type": "stream",
       "stream": "stdout",
       "text": [
        "\r",
        "52% [===================>                   ] 396,312,256 7.68MB/s  eta 77s    "
       ]
      },
      {
       "output_type": "stream",
       "stream": "stdout",
       "text": [
        "\r",
        "52% [===================>                   ] 398,164,528 7.72MB/s  eta 77s    "
       ]
      },
      {
       "output_type": "stream",
       "stream": "stdout",
       "text": [
        "\r",
        "52% [===================>                   ] 399,581,776 7.60MB/s  eta 74s    "
       ]
      },
      {
       "output_type": "stream",
       "stream": "stdout",
       "text": [
        "\r",
        "52% [===================>                   ] 401,495,608 7.64MB/s  eta 74s    "
       ]
      },
      {
       "output_type": "stream",
       "stream": "stdout",
       "text": [
        "\r",
        "53% [===================>                   ] 403,061,968 7.57MB/s  eta 74s    "
       ]
      },
      {
       "output_type": "stream",
       "stream": "stdout",
       "text": [
        "\r",
        "53% [===================>                   ] 404,978,536 7.87MB/s  eta 74s    "
       ]
      },
      {
       "output_type": "stream",
       "stream": "stdout",
       "text": [
        "\r",
        "53% [===================>                   ] 406,640,656 7.55MB/s  eta 74s    "
       ]
      },
      {
       "output_type": "stream",
       "stream": "stdout",
       "text": [
        "\r",
        "53% [====================>                  ] 408,472,408 7.69MB/s  eta 72s    "
       ]
      },
      {
       "output_type": "stream",
       "stream": "stdout",
       "text": [
        "\r",
        "54% [====================>                  ] 410,276,800 7.84MB/s  eta 72s    "
       ]
      },
      {
       "output_type": "stream",
       "stream": "stdout",
       "text": [
        "\r",
        "54% [====================>                  ] 411,995,008 7.90MB/s  eta 72s    "
       ]
      },
      {
       "output_type": "stream",
       "stream": "stdout",
       "text": [
        "\r",
        "54% [====================>                  ] 413,903,368 8.00MB/s  eta 72s    "
       ]
      },
      {
       "output_type": "stream",
       "stream": "stdout",
       "text": [
        "\r",
        "54% [====================>                  ] 415,687,240 8.07MB/s  eta 72s    "
       ]
      },
      {
       "output_type": "stream",
       "stream": "stdout",
       "text": [
        "\r",
        "55% [====================>                  ] 417,642,112 8.23MB/s  eta 69s    "
       ]
      },
      {
       "output_type": "stream",
       "stream": "stdout",
       "text": [
        "\r",
        "55% [====================>                  ] 419,398,624 8.27MB/s  eta 69s    "
       ]
      },
      {
       "output_type": "stream",
       "stream": "stdout",
       "text": [
        "\r",
        "55% [====================>                  ] 421,365,808 8.36MB/s  eta 69s    "
       ]
      },
      {
       "output_type": "stream",
       "stream": "stdout",
       "text": [
        "\r",
        "55% [====================>                  ] 423,187,984 8.45MB/s  eta 69s    "
       ]
      },
      {
       "output_type": "stream",
       "stream": "stdout",
       "text": [
        "\r",
        "56% [====================>                  ] 425,078,560 8.53MB/s  eta 69s    "
       ]
      },
      {
       "output_type": "stream",
       "stream": "stdout",
       "text": [
        "\r",
        "56% [====================>                  ] 426,948,616 8.60MB/s  eta 67s    "
       ]
      },
      {
       "output_type": "stream",
       "stream": "stdout",
       "text": [
        "\r",
        "56% [=====================>                 ] 428,866,552 8.74MB/s  eta 67s    "
       ]
      },
      {
       "output_type": "stream",
       "stream": "stdout",
       "text": [
        "\r",
        "56% [=====================>                 ] 430,809,112 8.78MB/s  eta 67s    "
       ]
      },
      {
       "output_type": "stream",
       "stream": "stdout",
       "text": [
        "\r",
        "57% [=====================>                 ] 432,665,304 8.79MB/s  eta 67s    "
       ]
      },
      {
       "output_type": "stream",
       "stream": "stdout",
       "text": [
        "\r",
        "57% [=====================>                 ] 434,614,704 8.87MB/s  eta 67s    "
       ]
      },
      {
       "output_type": "stream",
       "stream": "stdout",
       "text": [
        "\r",
        "57% [=====================>                 ] 436,510,752 8.93MB/s  eta 64s    "
       ]
      },
      {
       "output_type": "stream",
       "stream": "stdout",
       "text": [
        "\r",
        "57% [=====================>                 ] 438,492,984 8.97MB/s  eta 64s    "
       ]
      },
      {
       "output_type": "stream",
       "stream": "stdout",
       "text": [
        "\r",
        "58% [=====================>                 ] 440,341,152 8.98MB/s  eta 64s    "
       ]
      },
      {
       "output_type": "stream",
       "stream": "stdout",
       "text": [
        "\r",
        "58% [=====================>                 ] 442,294,656 8.99MB/s  eta 64s    "
       ]
      },
      {
       "output_type": "stream",
       "stream": "stdout",
       "text": [
        "\r",
        "58% [=====================>                 ] 444,263,208 9.06MB/s  eta 64s    "
       ]
      },
      {
       "output_type": "stream",
       "stream": "stdout",
       "text": [
        "\r",
        "58% [=====================>                 ] 444,880,176 8.67MB/s  eta 62s    "
       ]
      },
      {
       "output_type": "stream",
       "stream": "stdout",
       "text": [
        "\r",
        "58% [=====================>                 ] 446,238,600 8.50MB/s  eta 62s    "
       ]
      },
      {
       "output_type": "stream",
       "stream": "stdout",
       "text": [
        "\r",
        "59% [======================>                ] 448,317,960 8.55MB/s  eta 62s    "
       ]
      },
      {
       "output_type": "stream",
       "stream": "stdout",
       "text": [
        "\r",
        "59% [======================>                ] 449,339,856 8.30MB/s  eta 62s    "
       ]
      },
      {
       "output_type": "stream",
       "stream": "stdout",
       "text": [
        "\r",
        "59% [======================>                ] 450,265,992 8.05MB/s  eta 62s    "
       ]
      },
      {
       "output_type": "stream",
       "stream": "stdout",
       "text": [
        "\r",
        "59% [======================>                ] 451,312,512 7.76MB/s  eta 60s    "
       ]
      },
      {
       "output_type": "stream",
       "stream": "stdout",
       "text": [
        "\r",
        "59% [======================>                ] 452,296,104 7.51MB/s  eta 60s    "
       ]
      },
      {
       "output_type": "stream",
       "stream": "stdout",
       "text": [
        "\r",
        "59% [======================>                ] 453,361,776 7.19MB/s  eta 60s    "
       ]
      },
      {
       "output_type": "stream",
       "stream": "stdout",
       "text": [
        "\r",
        "59% [======================>                ] 454,400,088 6.98MB/s  eta 60s    "
       ]
      },
      {
       "output_type": "stream",
       "stream": "stdout",
       "text": [
        "\r",
        "60% [======================>                ] 455,465,760 6.76MB/s  eta 60s    "
       ]
      },
      {
       "output_type": "stream",
       "stream": "stdout",
       "text": [
        "\r",
        "60% [======================>                ] 456,520,488 6.42MB/s  eta 59s    "
       ]
      },
      {
       "output_type": "stream",
       "stream": "stdout",
       "text": [
        "\r",
        "60% [======================>                ] 457,598,472 6.19MB/s  eta 59s    "
       ]
      },
      {
       "output_type": "stream",
       "stream": "stdout",
       "text": [
        "\r",
        "60% [======================>                ] 458,720,232 5.99MB/s  eta 59s    "
       ]
      },
      {
       "output_type": "stream",
       "stream": "stdout",
       "text": [
        "\r",
        "60% [======================>                ] 459,818,736 5.81MB/s  eta 59s    "
       ]
      },
      {
       "output_type": "stream",
       "stream": "stdout",
       "text": [
        "\r",
        "60% [======================>                ] 460,935,024 5.46MB/s  eta 59s    "
       ]
      },
      {
       "output_type": "stream",
       "stream": "stdout",
       "text": [
        "\r",
        "60% [======================>                ] 462,036,264 5.26MB/s  eta 58s    "
       ]
      },
      {
       "output_type": "stream",
       "stream": "stdout",
       "text": [
        "\r",
        "61% [======================>                ] 463,136,136 5.45MB/s  eta 58s    "
       ]
      },
      {
       "output_type": "stream",
       "stream": "stdout",
       "text": [
        "\r",
        "61% [======================>                ] 464,229,168 5.02MB/s  eta 58s    "
       ]
      },
      {
       "output_type": "stream",
       "stream": "stdout",
       "text": [
        "\r",
        "61% [======================>                ] 465,407,016 5.09MB/s  eta 58s    "
       ]
      },
      {
       "output_type": "stream",
       "stream": "stdout",
       "text": [
        "\r",
        "61% [=======================>               ] 466,545,192 5.13MB/s  eta 58s    "
       ]
      },
      {
       "output_type": "stream",
       "stream": "stdout",
       "text": [
        "\r",
        "61% [=======================>               ] 467,661,480 5.18MB/s  eta 57s    "
       ]
      },
      {
       "output_type": "stream",
       "stream": "stdout",
       "text": [
        "\r",
        "61% [=======================>               ] 468,813,336 5.21MB/s  eta 57s    "
       ]
      },
      {
       "output_type": "stream",
       "stream": "stdout",
       "text": [
        "\r",
        "62% [=======================>               ] 469,952,880 5.23MB/s  eta 57s    "
       ]
      },
      {
       "output_type": "stream",
       "stream": "stdout",
       "text": [
        "\r",
        "62% [=======================>               ] 471,121,152 5.29MB/s  eta 57s    "
       ]
      },
      {
       "output_type": "stream",
       "stream": "stdout",
       "text": [
        "\r",
        "62% [=======================>               ] 472,244,280 5.31MB/s  eta 57s    "
       ]
      },
      {
       "output_type": "stream",
       "stream": "stdout",
       "text": [
        "\r",
        "62% [=======================>               ] 473,412,552 5.34MB/s  eta 56s    "
       ]
      },
      {
       "output_type": "stream",
       "stream": "stdout",
       "text": [
        "\r",
        "62% [=======================>               ] 474,567,144 5.36MB/s  eta 56s    "
       ]
      },
      {
       "output_type": "stream",
       "stream": "stdout",
       "text": [
        "\r",
        "62% [=======================>               ] 475,732,680 5.39MB/s  eta 56s    "
       ]
      },
      {
       "output_type": "stream",
       "stream": "stdout",
       "text": [
        "\r",
        "62% [=======================>               ] 476,344,176 5.17MB/s  eta 56s    "
       ]
      },
      {
       "output_type": "stream",
       "stream": "stdout",
       "text": [
        "\r",
        "63% [=======================>               ] 477,926,952 5.31MB/s  eta 56s    "
       ]
      },
      {
       "output_type": "stream",
       "stream": "stdout",
       "text": [
        "\r",
        "63% [=======================>               ] 478,769,640 5.22MB/s  eta 55s    "
       ]
      },
      {
       "output_type": "stream",
       "stream": "stdout",
       "text": [
        "\r",
        "63% [=======================>               ] 479,667,048 5.16MB/s  eta 55s    "
       ]
      },
      {
       "output_type": "stream",
       "stream": "stdout",
       "text": [
        "\r",
        "63% [=======================>               ] 480,576,768 5.09MB/s  eta 55s    "
       ]
      },
      {
       "output_type": "stream",
       "stream": "stdout",
       "text": [
        "\r",
        "63% [=======================>               ] 481,483,752 5.04MB/s  eta 55s    "
       ]
      },
      {
       "output_type": "stream",
       "stream": "stdout",
       "text": [
        "\r",
        "63% [=======================>               ] 482,407,152 4.98MB/s  eta 55s    "
       ]
      },
      {
       "output_type": "stream",
       "stream": "stdout",
       "text": [
        "\r",
        "63% [=======================>               ] 483,392,112 4.91MB/s  eta 54s    "
       ]
      },
      {
       "output_type": "stream",
       "stream": "stdout",
       "text": [
        "\r",
        "63% [=======================>               ] 484,364,760 4.87MB/s  eta 54s    "
       ]
      },
      {
       "output_type": "stream",
       "stream": "stdout",
       "text": [
        "\r",
        "64% [=======================>               ] 485,325,096 4.83MB/s  eta 54s    "
       ]
      },
      {
       "output_type": "stream",
       "stream": "stdout",
       "text": [
        "\r",
        "64% [========================>              ] 486,346,992 4.77MB/s  eta 54s    "
       ]
      },
      {
       "output_type": "stream",
       "stream": "stdout",
       "text": [
        "\r",
        "64% [========================>              ] 487,359,312 4.73MB/s  eta 54s    "
       ]
      },
      {
       "output_type": "stream",
       "stream": "stdout",
       "text": [
        "\r",
        "64% [========================>              ] 488,429,088 4.72MB/s  eta 53s    "
       ]
      },
      {
       "output_type": "stream",
       "stream": "stdout",
       "text": [
        "\r",
        "64% [========================>              ] 489,481,080 4.67MB/s  eta 53s    "
       ]
      },
      {
       "output_type": "stream",
       "stream": "stdout",
       "text": [
        "\r",
        "64% [========================>              ] 490,538,544 4.65MB/s  eta 53s    "
       ]
      },
      {
       "output_type": "stream",
       "stream": "stdout",
       "text": [
        "\r",
        "64% [========================>              ] 491,617,896 4.64MB/s  eta 53s    "
       ]
      },
      {
       "output_type": "stream",
       "stream": "stdout",
       "text": [
        "\r",
        "65% [========================>              ] 492,739,656 4.67MB/s  eta 53s    "
       ]
      },
      {
       "output_type": "stream",
       "stream": "stdout",
       "text": [
        "\r",
        "65% [========================>              ] 493,862,784 4.75MB/s  eta 52s    "
       ]
      },
      {
       "output_type": "stream",
       "stream": "stdout",
       "text": [
        "\r",
        "65% [========================>              ] 494,944,872 4.81MB/s  eta 52s    "
       ]
      },
      {
       "output_type": "stream",
       "stream": "stdout",
       "text": [
        "\r",
        "65% [========================>              ] 496,043,376 4.89MB/s  eta 52s    "
       ]
      },
      {
       "output_type": "stream",
       "stream": "stdout",
       "text": [
        "\r",
        "65% [========================>              ] 496,931,192 4.75MB/s  eta 52s    "
       ]
      },
      {
       "output_type": "stream",
       "stream": "stdout",
       "text": [
        "\r",
        "65% [========================>              ] 498,486,624 4.95MB/s  eta 52s    "
       ]
      },
      {
       "output_type": "stream",
       "stream": "stdout",
       "text": [
        "\r",
        "65% [========================>              ] 499,269,120 4.88MB/s  eta 51s    "
       ]
      },
      {
       "output_type": "stream",
       "stream": "stdout",
       "text": [
        "\r",
        "65% [========================>              ] 500,088,552 4.83MB/s  eta 51s    "
       ]
      },
      {
       "output_type": "stream",
       "stream": "stdout",
       "text": [
        "\r",
        "66% [========================>              ] 500,920,296 4.80MB/s  eta 51s    "
       ]
      },
      {
       "output_type": "stream",
       "stream": "stdout",
       "text": [
        "\r",
        "66% [========================>              ] 501,368,984 4.56MB/s  eta 51s    "
       ]
      },
      {
       "output_type": "stream",
       "stream": "stdout",
       "text": [
        "\r",
        "66% [========================>              ] 502,208,936 4.47MB/s  eta 51s    "
       ]
      },
      {
       "output_type": "stream",
       "stream": "stdout",
       "text": [
        "\r",
        "66% [========================>              ] 502,964,088 4.21MB/s  eta 50s    "
       ]
      },
      {
       "output_type": "stream",
       "stream": "stdout",
       "text": [
        "\r",
        "66% [========================>              ] 503,314,280 4.02MB/s  eta 50s    "
       ]
      },
      {
       "output_type": "stream",
       "stream": "stdout",
       "text": [
        "\r",
        "66% [========================>              ] 503,582,408 3.71MB/s  eta 50s    "
       ]
      },
      {
       "output_type": "stream",
       "stream": "stdout",
       "text": [
        "\r",
        "66% [========================>              ] 503,990,088 3.48MB/s  eta 50s    "
       ]
      },
      {
       "output_type": "stream",
       "stream": "stdout",
       "text": [
        "\r",
        "66% [========================>              ] 504,150,144 3.23MB/s  eta 50s    "
       ]
      },
      {
       "output_type": "stream",
       "stream": "stdout",
       "text": [
        "\r",
        "66% [========================>              ] 504,300,624 3.00MB/s  eta 50s    "
       ]
      },
      {
       "output_type": "stream",
       "stream": "stdout",
       "text": [
        "\r",
        "66% [========================>              ] 504,462,048 2.66MB/s  eta 50s    "
       ]
      },
      {
       "output_type": "stream",
       "stream": "stdout",
       "text": [
        "\r",
        "66% [========================>              ] 504,641,256 2.44MB/s  eta 50s    "
       ]
      },
      {
       "output_type": "stream",
       "stream": "stdout",
       "text": [
        "\r",
        "66% [========================>              ] 504,795,840 2.20MB/s  eta 50s    "
       ]
      },
      {
       "output_type": "stream",
       "stream": "stdout",
       "text": [
        "\r",
        "66% [========================>              ] 504,976,416 1.90MB/s  eta 50s    "
       ]
      },
      {
       "output_type": "stream",
       "stream": "stdout",
       "text": [
        "\r",
        "66% [========================>              ] 505,143,312 1.74MB/s  eta 51s    "
       ]
      },
      {
       "output_type": "stream",
       "stream": "stdout",
       "text": [
        "\r",
        "66% [=========================>             ] 505,321,152 1.59MB/s  eta 51s    "
       ]
      },
      {
       "output_type": "stream",
       "stream": "stdout",
       "text": [
        "\r",
        "66% [=========================>             ] 505,507,200 1.34MB/s  eta 51s    "
       ]
      },
      {
       "output_type": "stream",
       "stream": "stdout",
       "text": [
        "\r",
        "66% [=========================>             ] 505,667,256 1.19MB/s  eta 51s    "
       ]
      },
      {
       "output_type": "stream",
       "stream": "stdout",
       "text": [
        "\r",
        "66% [=========================>             ] 505,842,360 1.13MB/s  eta 51s    "
       ]
      },
      {
       "output_type": "stream",
       "stream": "stdout",
       "text": [
        "\r",
        "66% [=========================>             ] 506,043,456  944KB/s  eta 51s    "
       ]
      },
      {
       "output_type": "stream",
       "stream": "stdout",
       "text": [
        "\r",
        "66% [=========================>             ] 506,204,880  889KB/s  eta 51s    "
       ]
      },
      {
       "output_type": "stream",
       "stream": "stdout",
       "text": [
        "\r",
        "66% [=========================>             ] 506,389,560  857KB/s  eta 51s    "
       ]
      },
      {
       "output_type": "stream",
       "stream": "stdout",
       "text": [
        "\r",
        "66% [=========================>             ] 506,590,656  815KB/s  eta 51s    "
       ]
      },
      {
       "output_type": "stream",
       "stream": "stdout",
       "text": [
        "\r",
        "66% [=========================>             ] 506,752,080  816KB/s  eta 51s    "
       ]
      },
      {
       "output_type": "stream",
       "stream": "stdout",
       "text": [
        "\r",
        "66% [=========================>             ] 506,931,288  829KB/s  eta 51s    "
       ]
      },
      {
       "output_type": "stream",
       "stream": "stdout",
       "text": [
        "\r",
        "66% [=========================>             ] 507,110,496  828KB/s  eta 51s    "
       ]
      },
      {
       "output_type": "stream",
       "stream": "stdout",
       "text": [
        "\r",
        "66% [=========================>             ] 507,282,864  830KB/s  eta 51s    "
       ]
      },
      {
       "output_type": "stream",
       "stream": "stdout",
       "text": [
        "\r",
        "66% [=========================>             ] 507,477,120  844KB/s  eta 51s    "
       ]
      },
      {
       "output_type": "stream",
       "stream": "stdout",
       "text": [
        "\r",
        "66% [=========================>             ] 507,635,808  831KB/s  eta 51s    "
       ]
      },
      {
       "output_type": "stream",
       "stream": "stdout",
       "text": [
        "\r",
        "66% [=========================>             ] 507,809,544  833KB/s  eta 51s    "
       ]
      },
      {
       "output_type": "stream",
       "stream": "stdout",
       "text": [
        "\r",
        "67% [=========================>             ] 508,016,112  847KB/s  eta 51s    "
       ]
      },
      {
       "output_type": "stream",
       "stream": "stdout",
       "text": [
        "\r",
        "67% [=========================>             ] 508,177,536  842KB/s  eta 51s    "
       ]
      },
      {
       "output_type": "stream",
       "stream": "stdout",
       "text": [
        "\r",
        "67% [=========================>             ] 508,370,424  839KB/s  eta 51s    "
       ]
      },
      {
       "output_type": "stream",
       "stream": "stdout",
       "text": [
        "\r",
        "67% [=========================>             ] 508,581,096  854KB/s  eta 51s    "
       ]
      },
      {
       "output_type": "stream",
       "stream": "stdout",
       "text": [
        "\r",
        "67% [=========================>             ] 508,752,096  852KB/s  eta 52s    "
       ]
      },
      {
       "output_type": "stream",
       "stream": "stdout",
       "text": [
        "\r",
        "67% [=========================>             ] 508,957,296  850KB/s  eta 52s    "
       ]
      },
      {
       "output_type": "stream",
       "stream": "stdout",
       "text": [
        "\r",
        "67% [=========================>             ] 509,177,544  869KB/s  eta 52s    "
       ]
      },
      {
       "output_type": "stream",
       "stream": "stdout",
       "text": [
        "\r",
        "67% [=========================>             ] 509,359,488  871KB/s  eta 52s    "
       ]
      },
      {
       "output_type": "stream",
       "stream": "stdout",
       "text": [
        "\r",
        "67% [=========================>             ] 509,579,736  878KB/s  eta 52s    "
       ]
      },
      {
       "output_type": "stream",
       "stream": "stdout",
       "text": [
        "\r",
        "67% [=========================>             ] 509,823,240  899KB/s  eta 52s    "
       ]
      },
      {
       "output_type": "stream",
       "stream": "stdout",
       "text": [
        "\r",
        "67% [=========================>             ] 510,017,496  904KB/s  eta 52s    "
       ]
      },
      {
       "output_type": "stream",
       "stream": "stdout",
       "text": [
        "\r",
        "67% [=========================>             ] 510,263,736  920KB/s  eta 52s    "
       ]
      },
      {
       "output_type": "stream",
       "stream": "stdout",
       "text": [
        "\r",
        "67% [=========================>             ] 510,534,600  946KB/s  eta 52s    "
       ]
      },
      {
       "output_type": "stream",
       "stream": "stdout",
       "text": [
        "\r",
        "67% [=========================>             ] 510,757,584  961KB/s  eta 52s    "
       ]
      },
      {
       "output_type": "stream",
       "stream": "stdout",
       "text": [
        "\r",
        "67% [=========================>             ] 511,036,656  986KB/s  eta 52s    "
       ]
      },
      {
       "output_type": "stream",
       "stream": "stdout",
       "text": [
        "\r",
        "67% [=========================>             ] 511,345,824 1.00MB/s  eta 52s    "
       ]
      },
      {
       "output_type": "stream",
       "stream": "stdout",
       "text": [
        "\r",
        "67% [=========================>             ] 511,597,536 1.02MB/s  eta 52s    "
       ]
      },
      {
       "output_type": "stream",
       "stream": "stdout",
       "text": [
        "\r",
        "67% [=========================>             ] 511,925,856 1.06MB/s  eta 52s    "
       ]
      },
      {
       "output_type": "stream",
       "stream": "stdout",
       "text": [
        "\r",
        "67% [=========================>             ] 512,274,696 1.11MB/s  eta 52s    "
       ]
      },
      {
       "output_type": "stream",
       "stream": "stdout",
       "text": [
        "\r",
        "67% [=========================>             ] 512,570,184 1.14MB/s  eta 52s    "
       ]
      },
      {
       "output_type": "stream",
       "stream": "stdout",
       "text": [
        "\r",
        "67% [=========================>             ] 512,953,224 1.19MB/s  eta 52s    "
       ]
      },
      {
       "output_type": "stream",
       "stream": "stdout",
       "text": [
        "\r",
        "67% [=========================>             ] 513,367,728 1.26MB/s  eta 52s    "
       ]
      },
      {
       "output_type": "stream",
       "stream": "stdout",
       "text": [
        "\r",
        "67% [=========================>             ] 513,720,672 1.30MB/s  eta 52s    "
       ]
      },
      {
       "output_type": "stream",
       "stream": "stdout",
       "text": [
        "\r",
        "67% [=========================>             ] 514,170,744 1.36MB/s  eta 52s    "
       ]
      },
      {
       "output_type": "stream",
       "stream": "stdout",
       "text": [
        "\r",
        "67% [=========================>             ] 514,656,384 1.45MB/s  eta 52s    "
       ]
      },
      {
       "output_type": "stream",
       "stream": "stdout",
       "text": [
        "\r",
        "67% [=========================>             ] 515,076,360 1.50MB/s  eta 52s    "
       ]
      },
      {
       "output_type": "stream",
       "stream": "stdout",
       "text": [
        "\r",
        "68% [=========================>             ] 515,607,144 1.59MB/s  eta 52s    "
       ]
      },
      {
       "output_type": "stream",
       "stream": "stdout",
       "text": [
        "\r",
        "68% [=========================>             ] 516,188,544 1.70MB/s  eta 52s    "
       ]
      },
      {
       "output_type": "stream",
       "stream": "stdout",
       "text": [
        "\r",
        "68% [=========================>             ] 516,691,968 1.76MB/s  eta 52s    "
       ]
      },
      {
       "output_type": "stream",
       "stream": "stdout",
       "text": [
        "\r",
        "68% [=========================>             ] 517,319,880 1.86MB/s  eta 52s    "
       ]
      },
      {
       "output_type": "stream",
       "stream": "stdout",
       "text": [
        "\r",
        "68% [=========================>             ] 518,010,720 2.00MB/s  eta 52s    "
       ]
      },
      {
       "output_type": "stream",
       "stream": "stdout",
       "text": [
        "\r",
        "68% [=========================>             ] 518,609,904 2.08MB/s  eta 52s    "
       ]
      },
      {
       "output_type": "stream",
       "stream": "stdout",
       "text": [
        "\r",
        "68% [=========================>             ] 519,356,832 2.21MB/s  eta 52s    "
       ]
      },
      {
       "output_type": "stream",
       "stream": "stdout",
       "text": [
        "\r",
        "68% [=========================>             ] 520,169,424 2.37MB/s  eta 52s    "
       ]
      },
      {
       "output_type": "stream",
       "stream": "stdout",
       "text": [
        "\r",
        "68% [=========================>             ] 520,875,312 2.47MB/s  eta 51s    "
       ]
      },
      {
       "output_type": "stream",
       "stream": "stdout",
       "text": [
        "\r",
        "68% [=========================>             ] 521,756,304 2.63MB/s  eta 51s    "
       ]
      },
      {
       "output_type": "stream",
       "stream": "stdout",
       "text": [
        "\r",
        "68% [=========================>             ] 522,484,080 2.73MB/s  eta 51s    "
       ]
      },
      {
       "output_type": "stream",
       "stream": "stdout",
       "text": [
        "\r",
        "69% [=========================>             ] 523,400,640 2.90MB/s  eta 51s    "
       ]
      },
      {
       "output_type": "stream",
       "stream": "stdout",
       "text": [
        "\r",
        "69% [=========================>             ] 524,462,208 3.09MB/s  eta 51s    "
       ]
      },
      {
       "output_type": "stream",
       "stream": "stdout",
       "text": [
        "\r",
        "69% [==========================>            ] 525,391,080 3.22MB/s  eta 50s    "
       ]
      },
      {
       "output_type": "stream",
       "stream": "stdout",
       "text": [
        "\r",
        "69% [==========================>            ] 526,523,784 3.44MB/s  eta 50s    "
       ]
      },
      {
       "output_type": "stream",
       "stream": "stdout",
       "text": [
        "\r",
        "69% [==========================>            ] 527,712,576 3.65MB/s  eta 50s    "
       ]
      },
      {
       "output_type": "stream",
       "stream": "stdout",
       "text": [
        "\r",
        "69% [==========================>            ] 528,797,400 3.80MB/s  eta 50s    "
       ]
      },
      {
       "output_type": "stream",
       "stream": "stdout",
       "text": [
        "\r",
        "69% [==========================>            ] 530,057,328 4.06MB/s  eta 50s    "
       ]
      },
      {
       "output_type": "stream",
       "stream": "stdout",
       "text": [
        "\r",
        "70% [==========================>            ] 531,243,384 4.24MB/s  eta 49s    "
       ]
      },
      {
       "output_type": "stream",
       "stream": "stdout",
       "text": [
        "\r",
        "70% [==========================>            ] 532,649,688 4.52MB/s  eta 49s    "
       ]
      },
      {
       "output_type": "stream",
       "stream": "stdout",
       "text": [
        "\r",
        "70% [==========================>            ] 534,019,056 4.71MB/s  eta 49s    "
       ]
      },
      {
       "output_type": "stream",
       "stream": "stdout",
       "text": [
        "\r",
        "70% [==========================>            ] 535,499,232 4.96MB/s  eta 49s    "
       ]
      },
      {
       "output_type": "stream",
       "stream": "stdout",
       "text": [
        "\r",
        "70% [==========================>            ] 537,068,328 5.28MB/s  eta 49s    "
       ]
      },
      {
       "output_type": "stream",
       "stream": "stdout",
       "text": [
        "\r",
        "71% [==========================>            ] 538,630,584 5.48MB/s  eta 47s    "
       ]
      },
      {
       "output_type": "stream",
       "stream": "stdout",
       "text": [
        "\r",
        "71% [==========================>            ] 540,395,304 5.79MB/s  eta 47s    "
       ]
      },
      {
       "output_type": "stream",
       "stream": "stdout",
       "text": [
        "\r",
        "71% [==========================>            ] 541,990,392 6.09MB/s  eta 47s    "
       ]
      },
      {
       "output_type": "stream",
       "stream": "stdout",
       "text": [
        "\r",
        "71% [==========================>            ] 543,924,744 6.36MB/s  eta 47s    "
       ]
      },
      {
       "output_type": "stream",
       "stream": "stdout",
       "text": [
        "\r",
        "71% [===========================>           ] 545,700,408 6.63MB/s  eta 47s    "
       ]
      },
      {
       "output_type": "stream",
       "stream": "stdout",
       "text": [
        "\r",
        "72% [===========================>           ] 547,737,360 6.92MB/s  eta 45s    "
       ]
      },
      {
       "output_type": "stream",
       "stream": "stdout",
       "text": [
        "\r",
        "72% [===========================>           ] 549,777,048 7.27MB/s  eta 45s    "
       ]
      },
      {
       "output_type": "stream",
       "stream": "stdout",
       "text": [
        "\r",
        "72% [===========================>           ] 551,952,168 7.58MB/s  eta 45s    "
       ]
      },
      {
       "output_type": "stream",
       "stream": "stdout",
       "text": [
        "\r",
        "73% [===========================>           ] 554,125,920 8.00MB/s  eta 45s    "
       ]
      },
      {
       "output_type": "stream",
       "stream": "stdout",
       "text": [
        "\r",
        "73% [===========================>           ] 556,402,272 8.32MB/s  eta 45s    "
       ]
      },
      {
       "output_type": "stream",
       "stream": "stdout",
       "text": [
        "\r",
        "73% [===========================>           ] 558,751,128 8.60MB/s  eta 42s    "
       ]
      },
      {
       "output_type": "stream",
       "stream": "stdout",
       "text": [
        "\r",
        "73% [===========================>           ] 560,135,528 8.56MB/s  eta 42s    "
       ]
      },
      {
       "output_type": "stream",
       "stream": "stdout",
       "text": [
        "\r",
        "74% [===========================>           ] 563,353,080 9.09MB/s  eta 42s    "
       ]
      },
      {
       "output_type": "stream",
       "stream": "stdout",
       "text": [
        "\r",
        "74% [============================>          ] 564,306,576 8.71MB/s  eta 42s    "
       ]
      },
      {
       "output_type": "stream",
       "stream": "stdout",
       "text": [
        "\r",
        "74% [============================>          ] 565,989,216 8.69MB/s  eta 42s    "
       ]
      },
      {
       "output_type": "stream",
       "stream": "stdout",
       "text": [
        "\r",
        "74% [============================>          ] 567,056,256 8.50MB/s  eta 40s    "
       ]
      },
      {
       "output_type": "stream",
       "stream": "stdout",
       "text": [
        "\r",
        "74% [============================>          ] 567,859,272 8.25MB/s  eta 40s    "
       ]
      },
      {
       "output_type": "stream",
       "stream": "stdout",
       "text": [
        "\r",
        "75% [============================>          ] 568,931,784 8.01MB/s  eta 40s    "
       ]
      },
      {
       "output_type": "stream",
       "stream": "stdout",
       "text": [
        "\r",
        "75% [============================>          ] 570,030,288 7.81MB/s  eta 40s    "
       ]
      },
      {
       "output_type": "stream",
       "stream": "stdout",
       "text": [
        "\r",
        "75% [============================>          ] 570,909,912 7.51MB/s  eta 40s    "
       ]
      },
      {
       "output_type": "stream",
       "stream": "stdout",
       "text": [
        "\r",
        "75% [============================>          ] 572,026,200 7.15MB/s  eta 39s    "
       ]
      },
      {
       "output_type": "stream",
       "stream": "stdout",
       "text": [
        "\r",
        "75% [============================>          ] 573,163,008 6.92MB/s  eta 39s    "
       ]
      },
      {
       "output_type": "stream",
       "stream": "stdout",
       "text": [
        "\r",
        "75% [============================>          ] 573,877,104 6.17MB/s  eta 39s    "
       ]
      },
      {
       "output_type": "stream",
       "stream": "stdout",
       "text": [
        "\r",
        "75% [============================>          ] 575,509,128 6.06MB/s  eta 39s    "
       ]
      },
      {
       "output_type": "stream",
       "stream": "stdout",
       "text": [
        "\r",
        "76% [============================>          ] 576,134,304 5.66MB/s  eta 39s    "
       ]
      },
      {
       "output_type": "stream",
       "stream": "stdout",
       "text": [
        "\r",
        "76% [============================>          ] 576,930,480 5.04MB/s  eta 38s    "
       ]
      },
      {
       "output_type": "stream",
       "stream": "stdout",
       "text": [
        "\r",
        "76% [============================>          ] 577,566,584 4.58MB/s  eta 38s    "
       ]
      },
      {
       "output_type": "stream",
       "stream": "stdout",
       "text": [
        "\r",
        "76% [============================>          ] 578,708,880 4.37MB/s  eta 38s    "
       ]
      },
      {
       "output_type": "stream",
       "stream": "stdout",
       "text": [
        "\r",
        "76% [============================>          ] 579,351,840 4.30MB/s  eta 38s    "
       ]
      },
      {
       "output_type": "stream",
       "stream": "stdout",
       "text": [
        "\r",
        "76% [============================>          ] 579,847,056 3.93MB/s  eta 38s    "
       ]
      },
      {
       "output_type": "stream",
       "stream": "stdout",
       "text": [
        "\r",
        "76% [============================>          ] 579,997,520 3.70MB/s  eta 37s    "
       ]
      },
      {
       "output_type": "stream",
       "stream": "stdout",
       "text": [
        "\r",
        "76% [============================>          ] 580,994,808 3.69MB/s  eta 37s    "
       ]
      },
      {
       "output_type": "stream",
       "stream": "stdout",
       "text": [
        "\r",
        "76% [============================>          ] 581,353,224 3.53MB/s  eta 37s    "
       ]
      },
      {
       "output_type": "stream",
       "stream": "stdout",
       "text": [
        "\r",
        "76% [============================>          ] 581,819,712 3.37MB/s  eta 37s    "
       ]
      },
      {
       "output_type": "stream",
       "stream": "stdout",
       "text": [
        "\r",
        "76% [============================>          ] 582,314,928 3.22MB/s  eta 37s    "
       ]
      },
      {
       "output_type": "stream",
       "stream": "stdout",
       "text": [
        "\r",
        "76% [============================>          ] 582,717,120 3.06MB/s  eta 37s    "
       ]
      },
      {
       "output_type": "stream",
       "stream": "stdout",
       "text": [
        "\r",
        "76% [=============================>         ] 583,236,960 2.86MB/s  eta 37s    "
       ]
      },
      {
       "output_type": "stream",
       "stream": "stdout",
       "text": [
        "\r",
        "77% [=============================>         ] 583,754,064 2.92MB/s  eta 37s    "
       ]
      },
      {
       "output_type": "stream",
       "stream": "stdout",
       "text": [
        "\r",
        "77% [=============================>         ] 584,178,144 2.61MB/s  eta 37s    "
       ]
      },
      {
       "output_type": "stream",
       "stream": "stdout",
       "text": [
        "\r",
        "77% [=============================>         ] 584,704,824 2.55MB/s  eta 37s    "
       ]
      },
      {
       "output_type": "stream",
       "stream": "stdout",
       "text": [
        "\r",
        "77% [=============================>         ] 585,115,224 2.43MB/s  eta 36s    "
       ]
      },
      {
       "output_type": "stream",
       "stream": "stdout",
       "text": [
        "\r",
        "77% [=============================>         ] 585,618,648 2.36MB/s  eta 36s    "
       ]
      },
      {
       "output_type": "stream",
       "stream": "stdout",
       "text": [
        "\r",
        "77% [=============================>         ] 586,145,328 2.26MB/s  eta 36s    "
       ]
      },
      {
       "output_type": "stream",
       "stream": "stdout",
       "text": [
        "\r",
        "77% [=============================>         ] 586,603,608 2.27MB/s  eta 36s    "
       ]
      },
      {
       "output_type": "stream",
       "stream": "stdout",
       "text": [
        "\r",
        "77% [=============================>         ] 587,152,176 2.26MB/s  eta 36s    "
       ]
      },
      {
       "output_type": "stream",
       "stream": "stdout",
       "text": [
        "\r",
        "77% [=============================>         ] 587,580,360 2.23MB/s  eta 36s    "
       ]
      },
      {
       "output_type": "stream",
       "stream": "stdout",
       "text": [
        "\r",
        "77% [=============================>         ] 588,085,152 2.21MB/s  eta 36s    "
       ]
      },
      {
       "output_type": "stream",
       "stream": "stdout",
       "text": [
        "\r",
        "77% [=============================>         ] 588,620,040 2.23MB/s  eta 36s    "
       ]
      },
      {
       "output_type": "stream",
       "stream": "stdout",
       "text": [
        "\r",
        "77% [=============================>         ] 589,064,640 2.23MB/s  eta 36s    "
       ]
      },
      {
       "output_type": "stream",
       "stream": "stdout",
       "text": [
        "\r",
        "77% [=============================>         ] 589,639,200 2.29MB/s  eta 36s    "
       ]
      },
      {
       "output_type": "stream",
       "stream": "stdout",
       "text": [
        "\r",
        "77% [=============================>         ] 590,071,488 2.29MB/s  eta 36s    "
       ]
      },
      {
       "output_type": "stream",
       "stream": "stdout",
       "text": [
        "\r",
        "77% [=============================>         ] 590,580,384 2.28MB/s  eta 36s    "
       ]
      },
      {
       "output_type": "stream",
       "stream": "stdout",
       "text": [
        "\r",
        "77% [=============================>         ] 590,646,032 2.18MB/s  eta 36s    "
       ]
      },
      {
       "output_type": "stream",
       "stream": "stdout",
       "text": [
        "\r",
        "78% [=============================>         ] 591,439,488 2.27MB/s  eta 36s    "
       ]
      },
      {
       "output_type": "stream",
       "stream": "stdout",
       "text": [
        "\r",
        "78% [=============================>         ] 591,855,360 2.24MB/s  eta 36s    "
       ]
      },
      {
       "output_type": "stream",
       "stream": "stdout",
       "text": [
        "\r",
        "78% [=============================>         ] 592,276,704 2.20MB/s  eta 35s    "
       ]
      },
      {
       "output_type": "stream",
       "stream": "stdout",
       "text": [
        "\r",
        "78% [=============================>         ] 592,635,120 2.19MB/s  eta 35s    "
       ]
      },
      {
       "output_type": "stream",
       "stream": "stdout",
       "text": [
        "\r",
        "78% [=============================>         ] 593,098,872 2.16MB/s  eta 35s    "
       ]
      },
      {
       "output_type": "stream",
       "stream": "stdout",
       "text": [
        "\r",
        "78% [=============================>         ] 593,561,256 2.15MB/s  eta 35s    "
       ]
      },
      {
       "output_type": "stream",
       "stream": "stdout",
       "text": [
        "\r",
        "78% [=============================>         ] 593,957,976 2.11MB/s  eta 35s    "
       ]
      },
      {
       "output_type": "stream",
       "stream": "stdout",
       "text": [
        "\r",
        "78% [=============================>         ] 594,454,560 2.12MB/s  eta 35s    "
       ]
      },
      {
       "output_type": "stream",
       "stream": "stdout",
       "text": [
        "\r",
        "78% [=============================>         ] 594,944,304 2.11MB/s  eta 35s    "
       ]
      },
      {
       "output_type": "stream",
       "stream": "stdout",
       "text": [
        "\r",
        "78% [=============================>         ] 595,362,912 2.09MB/s  eta 35s    "
       ]
      },
      {
       "output_type": "stream",
       "stream": "stdout",
       "text": [
        "\r",
        "78% [=============================>         ] 595,888,224 2.09MB/s  eta 35s    "
       ]
      },
      {
       "output_type": "stream",
       "stream": "stdout",
       "text": [
        "\r",
        "78% [=============================>         ] 596,394,384 2.08MB/s  eta 35s    "
       ]
      },
      {
       "output_type": "stream",
       "stream": "stdout",
       "text": [
        "\r",
        "78% [=============================>         ] 596,833,512 2.06MB/s  eta 35s    "
       ]
      },
      {
       "output_type": "stream",
       "stream": "stdout",
       "text": [
        "\r",
        "78% [=============================>         ] 597,376,608 2.07MB/s  eta 35s    "
       ]
      },
      {
       "output_type": "stream",
       "stream": "stdout",
       "text": [
        "\r",
        "78% [=============================>         ] 597,897,816 2.18MB/s  eta 35s    "
       ]
      },
      {
       "output_type": "stream",
       "stream": "stdout",
       "text": [
        "\r",
        "78% [=============================>         ] 598,347,888 2.08MB/s  eta 35s    "
       ]
      },
      {
       "output_type": "stream",
       "stream": "stdout",
       "text": [
        "\r",
        "79% [=============================>         ] 598,900,560 2.12MB/s  eta 35s    "
       ]
      },
      {
       "output_type": "stream",
       "stream": "stdout",
       "text": [
        "\r",
        "79% [=============================>         ] 599,341,056 2.14MB/s  eta 34s    "
       ]
      },
      {
       "output_type": "stream",
       "stream": "stdout",
       "text": [
        "\r",
        "79% [=============================>         ] 599,830,800 2.18MB/s  eta 34s    "
       ]
      },
      {
       "output_type": "stream",
       "stream": "stdout",
       "text": [
        "\r",
        "79% [=============================>         ] 600,347,904 2.20MB/s  eta 34s    "
       ]
      },
      {
       "output_type": "stream",
       "stream": "stdout",
       "text": [
        "\r",
        "79% [=============================>         ] 600,813,024 2.22MB/s  eta 34s    "
       ]
      },
      {
       "output_type": "stream",
       "stream": "stdout",
       "text": [
        "\r",
        "79% [=============================>         ] 601,373,888 2.12MB/s  eta 34s    "
       ]
      },
      {
       "output_type": "stream",
       "stream": "stdout",
       "text": [
        "\r",
        "79% [=============================>         ] 602,200,176 2.23MB/s  eta 34s    "
       ]
      },
      {
       "output_type": "stream",
       "stream": "stdout",
       "text": [
        "\r",
        "79% [==============================>        ] 602,610,576 2.22MB/s  eta 34s    "
       ]
      },
      {
       "output_type": "stream",
       "stream": "stdout",
       "text": [
        "\r",
        "79% [==============================>        ] 602,960,784 2.18MB/s  eta 34s    "
       ]
      },
      {
       "output_type": "stream",
       "stream": "stdout",
       "text": [
        "\r",
        "79% [==============================>        ] 603,373,920 2.16MB/s  eta 34s    "
       ]
      },
      {
       "output_type": "stream",
       "stream": "stdout",
       "text": [
        "\r",
        "79% [==============================>        ] 603,793,896 2.15MB/s  eta 34s    "
       ]
      },
      {
       "output_type": "stream",
       "stream": "stdout",
       "text": [
        "\r",
        "79% [==============================>        ] 604,205,664 2.13MB/s  eta 34s    "
       ]
      },
      {
       "output_type": "stream",
       "stream": "stdout",
       "text": [
        "\r",
        "79% [==============================>        ] 604,672,152 2.13MB/s  eta 34s    "
       ]
      },
      {
       "output_type": "stream",
       "stream": "stdout",
       "text": [
        "\r",
        "79% [==============================>        ] 605,074,344 2.11MB/s  eta 34s    "
       ]
      },
      {
       "output_type": "stream",
       "stream": "stdout",
       "text": [
        "\r",
        "79% [==============================>        ] 605,528,520 2.10MB/s  eta 34s    "
       ]
      },
      {
       "output_type": "stream",
       "stream": "stdout",
       "text": [
        "\r",
        "79% [==============================>        ] 605,997,744 2.09MB/s  eta 33s    "
       ]
      },
      {
       "output_type": "stream",
       "stream": "stdout",
       "text": [
        "\r",
        "80% [==============================>        ] 606,440,976 2.08MB/s  eta 33s    "
       ]
      },
      {
       "output_type": "stream",
       "stream": "stdout",
       "text": [
        "\r",
        "80% [==============================>        ] 606,945,768 2.08MB/s  eta 33s    "
       ]
      },
      {
       "output_type": "stream",
       "stream": "stdout",
       "text": [
        "\r",
        "80% [==============================>        ] 607,384,896 2.08MB/s  eta 33s    "
       ]
      },
      {
       "output_type": "stream",
       "stream": "stdout",
       "text": [
        "\r",
        "80% [==============================>        ] 607,873,272 2.06MB/s  eta 33s    "
       ]
      },
      {
       "output_type": "stream",
       "stream": "stdout",
       "text": [
        "\r",
        "80% [==============================>        ] 608,372,592 2.06MB/s  eta 33s    "
       ]
      },
      {
       "output_type": "stream",
       "stream": "stdout",
       "text": [
        "\r",
        "80% [==============================>        ] 608,834,976 2.18MB/s  eta 33s    "
       ]
      },
      {
       "output_type": "stream",
       "stream": "stdout",
       "text": [
        "\r",
        "80% [==============================>        ] 609,372,600 2.12MB/s  eta 33s    "
       ]
      },
      {
       "output_type": "stream",
       "stream": "stdout",
       "text": [
        "\r",
        "80% [==============================>        ] 609,819,936 2.13MB/s  eta 33s    "
       ]
      },
      {
       "output_type": "stream",
       "stream": "stdout",
       "text": [
        "\r",
        "80% [==============================>        ] 610,320,624 2.16MB/s  eta 33s    "
       ]
      },
      {
       "output_type": "stream",
       "stream": "stdout",
       "text": [
        "\r",
        "80% [==============================>        ] 610,832,256 2.20MB/s  eta 32s    "
       ]
      },
      {
       "output_type": "stream",
       "stream": "stdout",
       "text": [
        "\r",
        "80% [==============================>        ] 611,313,792 2.21MB/s  eta 32s    "
       ]
      },
      {
       "output_type": "stream",
       "stream": "stdout",
       "text": [
        "\r",
        "80% [==============================>        ] 611,852,784 2.25MB/s  eta 32s    "
       ]
      },
      {
       "output_type": "stream",
       "stream": "stdout",
       "text": [
        "\r",
        "80% [==============================>        ] 612,296,016 2.26MB/s  eta 32s    "
       ]
      },
      {
       "output_type": "stream",
       "stream": "stdout",
       "text": [
        "\r",
        "80% [==============================>        ] 612,810,384 2.27MB/s  eta 32s    "
       ]
      },
      {
       "output_type": "stream",
       "stream": "stdout",
       "text": [
        "\r",
        "80% [==============================>        ] 613,332,960 2.30MB/s  eta 32s    "
       ]
      },
      {
       "output_type": "stream",
       "stream": "stdout",
       "text": [
        "\r",
        "80% [==============================>        ] 613,809,024 2.29MB/s  eta 32s    "
       ]
      },
      {
       "output_type": "stream",
       "stream": "stdout",
       "text": [
        "\r",
        "81% [==============================>        ] 614,348,016 2.33MB/s  eta 32s    "
       ]
      },
      {
       "output_type": "stream",
       "stream": "stdout",
       "text": [
        "\r",
        "81% [==============================>        ] 614,804,928 2.32MB/s  eta 32s    "
       ]
      },
      {
       "output_type": "stream",
       "stream": "stdout",
       "text": [
        "\r",
        "81% [==============================>        ] 615,305,616 2.32MB/s  eta 32s    "
       ]
      },
      {
       "output_type": "stream",
       "stream": "stdout",
       "text": [
        "\r",
        "81% [==============================>        ] 615,822,720 2.32MB/s  eta 32s    "
       ]
      },
      {
       "output_type": "stream",
       "stream": "stdout",
       "text": [
        "\r",
        "81% [==============================>        ] 616,286,472 2.33MB/s  eta 32s    "
       ]
      },
      {
       "output_type": "stream",
       "stream": "stdout",
       "text": [
        "\r",
        "81% [==============================>        ] 616,815,888 2.34MB/s  eta 32s    "
       ]
      },
      {
       "output_type": "stream",
       "stream": "stdout",
       "text": [
        "\r",
        "81% [==============================>        ] 617,279,640 2.33MB/s  eta 32s    "
       ]
      },
      {
       "output_type": "stream",
       "stream": "stdout",
       "text": [
        "\r",
        "81% [==============================>        ] 617,798,112 2.34MB/s  eta 32s    "
       ]
      },
      {
       "output_type": "stream",
       "stream": "stdout",
       "text": [
        "\r",
        "81% [==============================>        ] 618,311,112 2.34MB/s  eta 31s    "
       ]
      },
      {
       "output_type": "stream",
       "stream": "stdout",
       "text": [
        "\r",
        "81% [==============================>        ] 618,765,288 2.32MB/s  eta 31s    "
       ]
      },
      {
       "output_type": "stream",
       "stream": "stdout",
       "text": [
        "\r",
        "81% [==============================>        ] 619,296,072 2.32MB/s  eta 31s    "
       ]
      },
      {
       "output_type": "stream",
       "stream": "stdout",
       "text": [
        "\r",
        "81% [==============================>        ] 619,770,768 2.33MB/s  eta 31s    "
       ]
      },
      {
       "output_type": "stream",
       "stream": "stdout",
       "text": [
        "\r",
        "81% [==============================>        ] 620,294,712 2.34MB/s  eta 31s    "
       ]
      },
      {
       "output_type": "stream",
       "stream": "stdout",
       "text": [
        "\r",
        "81% [==============================>        ] 620,763,936 2.32MB/s  eta 31s    "
       ]
      },
      {
       "output_type": "stream",
       "stream": "stdout",
       "text": [
        "\r",
        "81% [==============================>        ] 621,276,936 2.34MB/s  eta 31s    "
       ]
      },
      {
       "output_type": "stream",
       "stream": "stdout",
       "text": [
        "\r",
        "82% [==============================>        ] 621,803,616 2.34MB/s  eta 31s    "
       ]
      },
      {
       "output_type": "stream",
       "stream": "stdout",
       "text": [
        "\r",
        "82% [===============================>       ] 622,294,728 2.34MB/s  eta 31s    "
       ]
      },
      {
       "output_type": "stream",
       "stream": "stdout",
       "text": [
        "\r",
        "82% [===============================>       ] 622,824,144 2.36MB/s  eta 31s    "
       ]
      },
      {
       "output_type": "stream",
       "stream": "stdout",
       "text": [
        "\r",
        "82% [===============================>       ] 623,320,728 2.35MB/s  eta 30s    "
       ]
      },
      {
       "output_type": "stream",
       "stream": "stdout",
       "text": [
        "\r",
        "82% [===============================>       ] 623,880,240 2.38MB/s  eta 30s    "
       ]
      },
      {
       "output_type": "stream",
       "stream": "stdout",
       "text": [
        "\r",
        "82% [===============================>       ] 624,400,080 2.37MB/s  eta 30s    "
       ]
      },
      {
       "output_type": "stream",
       "stream": "stdout",
       "text": [
        "\r",
        "82% [===============================>       ] 624,980,112 2.41MB/s  eta 30s    "
       ]
      },
      {
       "output_type": "stream",
       "stream": "stdout",
       "text": [
        "\r",
        "82% [===============================>       ] 625,543,728 2.43MB/s  eta 30s    "
       ]
      },
      {
       "output_type": "stream",
       "stream": "stdout",
       "text": [
        "\r",
        "82% [===============================>       ] 626,088,192 2.45MB/s  eta 30s    "
       ]
      },
      {
       "output_type": "stream",
       "stream": "stdout",
       "text": [
        "\r",
        "82% [===============================>       ] 626,703,792 2.49MB/s  eta 30s    "
       ]
      },
      {
       "output_type": "stream",
       "stream": "stdout",
       "text": [
        "\r",
        "82% [===============================>       ] 627,263,304 2.50MB/s  eta 30s    "
       ]
      },
      {
       "output_type": "stream",
       "stream": "stdout",
       "text": [
        "\r",
        "82% [===============================>       ] 627,891,216 2.55MB/s  eta 30s    "
       ]
      },
      {
       "output_type": "stream",
       "stream": "stdout",
       "text": [
        "\r",
        "82% [===============================>       ] 628,510,920 2.59MB/s  eta 30s    "
       ]
      },
      {
       "output_type": "stream",
       "stream": "stdout",
       "text": [
        "\r",
        "83% [===============================>       ] 629,133,360 2.62MB/s  eta 29s    "
       ]
      },
      {
       "output_type": "stream",
       "stream": "stdout",
       "text": [
        "\r",
        "83% [===============================>       ] 629,820,096 2.69MB/s  eta 29s    "
       ]
      },
      {
       "output_type": "stream",
       "stream": "stdout",
       "text": [
        "\r",
        "83% [===============================>       ] 630,438,432 2.72MB/s  eta 29s    "
       ]
      },
      {
       "output_type": "stream",
       "stream": "stdout",
       "text": [
        "\r",
        "83% [===============================>       ] 631,167,576 2.78MB/s  eta 29s    "
       ]
      },
      {
       "output_type": "stream",
       "stream": "stdout",
       "text": [
        "\r",
        "83% [===============================>       ] 631,831,056 2.83MB/s  eta 29s    "
       ]
      },
      {
       "output_type": "stream",
       "stream": "stdout",
       "text": [
        "\r",
        "83% [===============================>       ] 632,582,088 2.91MB/s  eta 28s    "
       ]
      },
      {
       "output_type": "stream",
       "stream": "stdout",
       "text": [
        "\r",
        "83% [===============================>       ] 633,349,536 2.98MB/s  eta 28s    "
       ]
      },
      {
       "output_type": "stream",
       "stream": "stdout",
       "text": [
        "\r",
        "83% [===============================>       ] 634,085,520 3.04MB/s  eta 28s    "
       ]
      },
      {
       "output_type": "stream",
       "stream": "stdout",
       "text": [
        "\r",
        "83% [===============================>       ] 634,920,000 3.13MB/s  eta 28s    "
       ]
      },
      {
       "output_type": "stream",
       "stream": "stdout",
       "text": [
        "\r",
        "83% [===============================>       ] 635,697,024 3.19MB/s  eta 28s    "
       ]
      },
      {
       "output_type": "stream",
       "stream": "stdout",
       "text": [
        "\r",
        "83% [===============================>       ] 636,594,432 3.29MB/s  eta 27s    "
       ]
      },
      {
       "output_type": "stream",
       "stream": "stdout",
       "text": [
        "\r",
        "84% [===============================>       ] 637,453,536 3.40MB/s  eta 27s    "
       ]
      },
      {
       "output_type": "stream",
       "stream": "stdout",
       "text": [
        "\r",
        "84% [===============================>       ] 638,364,624 3.48MB/s  eta 27s    "
       ]
      },
      {
       "output_type": "stream",
       "stream": "stdout",
       "text": [
        "\r",
        "84% [===============================>       ] 639,353,688 3.59MB/s  eta 27s    "
       ]
      },
      {
       "output_type": "stream",
       "stream": "stdout",
       "text": [
        "\r",
        "84% [===============================>       ] 640,289,400 3.72MB/s  eta 27s    "
       ]
      },
      {
       "output_type": "stream",
       "stream": "stdout",
       "text": [
        "\r",
        "84% [===============================>       ] 641,334,552 3.84MB/s  eta 26s    "
       ]
      },
      {
       "output_type": "stream",
       "stream": "stdout",
       "text": [
        "\r",
        "84% [================================>      ] 642,392,016 3.95MB/s  eta 26s    "
       ]
      },
      {
       "output_type": "stream",
       "stream": "stdout",
       "text": [
        "\r",
        "84% [================================>      ] 643,474,104 4.11MB/s  eta 26s    "
       ]
      },
      {
       "output_type": "stream",
       "stream": "stdout",
       "text": [
        "\r",
        "85% [================================>      ] 644,645,112 4.25MB/s  eta 26s    "
       ]
      },
      {
       "output_type": "stream",
       "stream": "stdout",
       "text": [
        "\r",
        "85% [================================>      ] 645,813,384 4.38MB/s  eta 26s    "
       ]
      },
      {
       "output_type": "stream",
       "stream": "stdout",
       "text": [
        "\r",
        "85% [================================>      ] 647,081,520 4.58MB/s  eta 25s    "
       ]
      },
      {
       "output_type": "stream",
       "stream": "stdout",
       "text": [
        "\r",
        "85% [================================>      ] 648,253,896 4.69MB/s  eta 25s    "
       ]
      },
      {
       "output_type": "stream",
       "stream": "stdout",
       "text": [
        "\r",
        "85% [================================>      ] 649,673,880 4.88MB/s  eta 25s    "
       ]
      },
      {
       "output_type": "stream",
       "stream": "stdout",
       "text": [
        "\r",
        "85% [================================>      ] 651,018,624 5.10MB/s  eta 25s    "
       ]
      },
      {
       "output_type": "stream",
       "stream": "stdout",
       "text": [
        "\r",
        "86% [================================>      ] 652,457,760 5.25MB/s  eta 25s    "
       ]
      },
      {
       "output_type": "stream",
       "stream": "stdout",
       "text": [
        "\r",
        "86% [================================>      ] 653,951,616 5.44MB/s  eta 23s    "
       ]
      },
      {
       "output_type": "stream",
       "stream": "stdout",
       "text": [
        "\r",
        "86% [================================>      ] 655,487,880 5.70MB/s  eta 23s    "
       ]
      },
      {
       "output_type": "stream",
       "stream": "stdout",
       "text": [
        "\r",
        "86% [================================>      ] 657,085,704 5.89MB/s  eta 23s    "
       ]
      },
      {
       "output_type": "stream",
       "stream": "stdout",
       "text": [
        "\r",
        "86% [================================>      ] 658,658,904 6.06MB/s  eta 23s    "
       ]
      },
      {
       "output_type": "stream",
       "stream": "stdout",
       "text": [
        "\r",
        "87% [================================>      ] 660,420,888 6.36MB/s  eta 23s    "
       ]
      },
      {
       "output_type": "stream",
       "stream": "stdout",
       "text": [
        "\r",
        "87% [=================================>     ] 662,155,512 6.56MB/s  eta 21s    "
       ]
      },
      {
       "output_type": "stream",
       "stream": "stdout",
       "text": [
        "\r",
        "87% [=================================>     ] 664,067,976 6.81MB/s  eta 21s    "
       ]
      },
      {
       "output_type": "stream",
       "stream": "stdout",
       "text": [
        "\r",
        "87% [=================================>     ] 665,895,624 7.08MB/s  eta 21s    "
       ]
      },
      {
       "output_type": "stream",
       "stream": "stdout",
       "text": [
        "\r",
        "88% [=================================>     ] 667,864,176 7.31MB/s  eta 21s    "
       ]
      },
      {
       "output_type": "stream",
       "stream": "stdout",
       "text": [
        "\r",
        "88% [=================================>     ] 669,872,400 7.56MB/s  eta 21s    "
       ]
      },
      {
       "output_type": "stream",
       "stream": "stdout",
       "text": [
        "\r",
        "88% [=================================>     ] 671,876,504 7.59MB/s  eta 19s    "
       ]
      },
      {
       "output_type": "stream",
       "stream": "stdout",
       "text": [
        "\r",
        "89% [=================================>     ] 675,006,504 8.13MB/s  eta 19s    "
       ]
      },
      {
       "output_type": "stream",
       "stream": "stdout",
       "text": [
        "\r",
        "89% [=================================>     ] 676,605,696 8.19MB/s  eta 19s    "
       ]
      },
      {
       "output_type": "stream",
       "stream": "stdout",
       "text": [
        "\r",
        "89% [=================================>     ] 678,277,392 8.34MB/s  eta 19s    "
       ]
      },
      {
       "output_type": "stream",
       "stream": "stdout",
       "text": [
        "\r",
        "89% [=================================>     ] 679,960,032 8.36MB/s  eta 19s    "
       ]
      },
      {
       "output_type": "stream",
       "stream": "stdout",
       "text": [
        "\r",
        "89% [==================================>    ] 681,612,576 8.39MB/s  eta 17s    "
       ]
      },
      {
       "output_type": "stream",
       "stream": "stdout",
       "text": [
        "\r",
        "90% [==================================>    ] 683,392,344 8.44MB/s  eta 17s    "
       ]
      },
      {
       "output_type": "stream",
       "stream": "stdout",
       "text": [
        "\r",
        "90% [==================================>    ] 685,218,624 8.57MB/s  eta 17s    "
       ]
      },
      {
       "output_type": "stream",
       "stream": "stdout",
       "text": [
        "\r",
        "90% [==================================>    ] 686,971,032 8.59MB/s  eta 17s    "
       ]
      },
      {
       "output_type": "stream",
       "stream": "stdout",
       "text": [
        "\r",
        "90% [==================================>    ] 688,835,616 8.63MB/s  eta 17s    "
       ]
      },
      {
       "output_type": "stream",
       "stream": "stdout",
       "text": [
        "\r",
        "91% [==================================>    ] 690,707,040 8.63MB/s  eta 15s    "
       ]
      },
      {
       "output_type": "stream",
       "stream": "stdout",
       "text": [
        "\r",
        "91% [==================================>    ] 692,583,936 8.64MB/s  eta 15s    "
       ]
      },
      {
       "output_type": "stream",
       "stream": "stdout",
       "text": [
        "\r",
        "91% [==================================>    ] 694,503,240 8.66MB/s  eta 15s    "
       ]
      },
      {
       "output_type": "stream",
       "stream": "stdout",
       "text": [
        "\r",
        "91% [==================================>    ] 696,358,248 8.60MB/s  eta 15s    "
       ]
      },
      {
       "output_type": "stream",
       "stream": "stdout",
       "text": [
        "\r",
        "92% [==================================>    ] 698,381,520 8.62MB/s  eta 15s    "
       ]
      },
      {
       "output_type": "stream",
       "stream": "stdout",
       "text": [
        "\r",
        "92% [===================================>   ] 700,280,304 8.59MB/s  eta 13s    "
       ]
      },
      {
       "output_type": "stream",
       "stream": "stdout",
       "text": [
        "\r",
        "92% [===================================>   ] 702,146,256 8.59MB/s  eta 13s    "
       ]
      },
      {
       "output_type": "stream",
       "stream": "stdout",
       "text": [
        "\r",
        "92% [===================================>   ] 704,213,304 8.73MB/s  eta 13s    "
       ]
      },
      {
       "output_type": "stream",
       "stream": "stdout",
       "text": [
        "\r",
        "93% [===================================>   ] 706,202,376 8.83MB/s  eta 13s    "
       ]
      },
      {
       "output_type": "stream",
       "stream": "stdout",
       "text": [
        "\r",
        "93% [===================================>   ] 708,105,264 8.91MB/s  eta 13s    "
       ]
      },
      {
       "output_type": "stream",
       "stream": "stdout",
       "text": [
        "\r",
        "93% [===================================>   ] 710,207,880 9.05MB/s  eta 10s    "
       ]
      },
      {
       "output_type": "stream",
       "stream": "stdout",
       "text": [
        "\r",
        "93% [===================================>   ] 712,172,328 9.09MB/s  eta 10s    "
       ]
      },
      {
       "output_type": "stream",
       "stream": "stdout",
       "text": [
        "\r",
        "94% [===================================>   ] 712,971,224 8.40MB/s  eta 10s    "
       ]
      },
      {
       "output_type": "stream",
       "stream": "stdout",
       "text": [
        "\r",
        "94% [===================================>   ] 716,976,744 9.05MB/s  eta 10s    "
       ]
      },
      {
       "output_type": "stream",
       "stream": "stdout",
       "text": [
        "\r",
        "94% [===================================>   ] 718,450,080 8.95MB/s  eta 10s    "
       ]
      },
      {
       "output_type": "stream",
       "stream": "stdout",
       "text": [
        "\r",
        "94% [====================================>  ] 719,915,208 8.84MB/s  eta 8s     "
       ]
      },
      {
       "output_type": "stream",
       "stream": "stdout",
       "text": [
        "\r",
        "95% [====================================>  ] 720,474,704 8.38MB/s  eta 8s     "
       ]
      },
      {
       "output_type": "stream",
       "stream": "stdout",
       "text": [
        "\r",
        "95% [====================================>  ] 722,578,704 8.45MB/s  eta 8s     "
       ]
      },
      {
       "output_type": "stream",
       "stream": "stdout",
       "text": [
        "\r",
        "95% [====================================>  ] 723,645,744 8.23MB/s  eta 8s     "
       ]
      },
      {
       "output_type": "stream",
       "stream": "stdout",
       "text": [
        "\r",
        "95% [====================================>  ] 724,766,136 7.96MB/s  eta 8s     "
       ]
      },
      {
       "output_type": "stream",
       "stream": "stdout",
       "text": [
        "\r",
        "95% [====================================>  ] 725,856,432 7.74MB/s  eta 7s     "
       ]
      },
      {
       "output_type": "stream",
       "stream": "stdout",
       "text": [
        "\r",
        "95% [====================================>  ] 727,067,112 7.56MB/s  eta 7s     "
       ]
      },
      {
       "output_type": "stream",
       "stream": "stdout",
       "text": [
        "\r",
        "96% [====================================>  ] 728,183,400 7.26MB/s  eta 7s     "
       ]
      },
      {
       "output_type": "stream",
       "stream": "stdout",
       "text": [
        "\r",
        "96% [====================================>  ] 729,343,464 7.05MB/s  eta 7s     "
       ]
      },
      {
       "output_type": "stream",
       "stream": "stdout",
       "text": [
        "\r",
        "96% [====================================>  ] 730,515,840 6.85MB/s  eta 7s     "
       ]
      },
      {
       "output_type": "stream",
       "stream": "stdout",
       "text": [
        "\r",
        "96% [====================================>  ] 731,673,168 6.52MB/s  eta 6s     "
       ]
      },
      {
       "output_type": "stream",
       "stream": "stdout",
       "text": [
        "\r",
        "96% [====================================>  ] 732,930,360 6.36MB/s  eta 6s     "
       ]
      },
      {
       "output_type": "stream",
       "stream": "stdout",
       "text": [
        "\r",
        "96% [====================================>  ] 734,149,248 6.19MB/s  eta 6s     "
       ]
      },
      {
       "output_type": "stream",
       "stream": "stdout",
       "text": [
        "\r",
        "97% [====================================>  ] 735,384,552 5.80MB/s  eta 6s     "
       ]
      },
      {
       "output_type": "stream",
       "stream": "stdout",
       "text": [
        "\r",
        "97% [====================================>  ] 736,604,808 5.76MB/s  eta 6s     "
       ]
      },
      {
       "output_type": "stream",
       "stream": "stdout",
       "text": [
        "\r",
        "97% [====================================>  ] 737,846,952 5.70MB/s  eta 4s     "
       ]
      },
      {
       "output_type": "stream",
       "stream": "stdout",
       "text": [
        "\r",
        "97% [=====================================> ] 739,110,984 5.91MB/s  eta 4s     "
       ]
      },
      {
       "output_type": "stream",
       "stream": "stdout",
       "text": [
        "\r",
        "97% [=====================================> ] 740,298,408 5.59MB/s  eta 4s     "
       ]
      },
      {
       "output_type": "stream",
       "stream": "stdout",
       "text": [
        "\r",
        "97% [=====================================> ] 741,584,328 5.66MB/s  eta 4s     "
       ]
      },
      {
       "output_type": "stream",
       "stream": "stdout",
       "text": [
        "\r",
        "97% [=====================================> ] 742,803,216 5.71MB/s  eta 4s     "
       ]
      },
      {
       "output_type": "stream",
       "stream": "stdout",
       "text": [
        "\r",
        "98% [=====================================> ] 744,143,856 5.77MB/s  eta 3s     "
       ]
      },
      {
       "output_type": "stream",
       "stream": "stdout",
       "text": [
        "\r",
        "98% [=====================================> ] 745,398,312 5.79MB/s  eta 3s     "
       ]
      },
      {
       "output_type": "stream",
       "stream": "stdout",
       "text": [
        "\r",
        "98% [=====================================> ] 746,665,080 5.86MB/s  eta 3s     "
       ]
      },
      {
       "output_type": "stream",
       "stream": "stdout",
       "text": [
        "\r",
        "98% [=====================================> ] 747,975,624 5.89MB/s  eta 3s     "
       ]
      },
      {
       "output_type": "stream",
       "stream": "stdout",
       "text": [
        "\r",
        "98% [=====================================> ] 749,202,720 5.91MB/s  eta 3s     "
       ]
      },
      {
       "output_type": "stream",
       "stream": "stdout",
       "text": [
        "\r",
        "99% [=====================================> ] 750,487,272 5.94MB/s  eta 2s     "
       ]
      },
      {
       "output_type": "stream",
       "stream": "stdout",
       "text": [
        "\r",
        "99% [=====================================> ] 751,773,192 5.98MB/s  eta 2s     "
       ]
      },
      {
       "output_type": "stream",
       "stream": "stdout",
       "text": [
        "\r",
        "99% [=====================================> ] 753,068,688 5.97MB/s  eta 2s     "
       ]
      },
      {
       "output_type": "stream",
       "stream": "stdout",
       "text": [
        "\r",
        "99% [=====================================> ] 754,369,656 6.02MB/s  eta 2s     "
       ]
      },
      {
       "output_type": "stream",
       "stream": "stdout",
       "text": [
        "\r",
        "99% [=====================================> ] 755,647,368 6.02MB/s  eta 2s     "
       ]
      },
      {
       "output_type": "stream",
       "stream": "stdout",
       "text": [
        "\r",
        "99% [=====================================> ] 756,936,024 6.04MB/s  eta 0s     "
       ]
      },
      {
       "output_type": "stream",
       "stream": "stdout",
       "text": [
        "\r",
        "100%[======================================>] 757,962,593 6.06MB/s   in 2m 40s \r\n",
        "\r\n",
        "2015-01-12 12:03:59 (4.50 MB/s) - \u2018hapmap3_r2_b36_fwd.consensus.qc.poly.ped.bz2\u2019 saved [757962593/757962593]\r\n",
        "\r\n"
       ]
      },
      {
       "output_type": "stream",
       "stream": "stdout",
       "text": [
        "--2015-01-12 12:03:59--  http://hapmap.ncbi.nlm.nih.gov/downloads/genotypes/hapmap3/plink_format/draft_2/relationships_w_pops_121708.txt\r\n",
        "Resolving hapmap.ncbi.nlm.nih.gov (hapmap.ncbi.nlm.nih.gov)... 130.14.29.113, 2607:f220:41e:4290::113\r\n",
        "Connecting to hapmap.ncbi.nlm.nih.gov (hapmap.ncbi.nlm.nih.gov)|130.14.29.113|:80... "
       ]
      },
      {
       "output_type": "stream",
       "stream": "stdout",
       "text": [
        "connected.\r\n",
        "HTTP request sent, awaiting response... "
       ]
      },
      {
       "output_type": "stream",
       "stream": "stdout",
       "text": [
        "200 OK\r\n",
        "Length: 36765 (36K) [text/plain]\r\n",
        "Saving to: \u2018relationships_w_pops_121708.txt\u2019\r\n",
        "\r\n",
        "\r",
        " 0% [                                       ] 0           --.-K/s              "
       ]
      },
      {
       "output_type": "stream",
       "stream": "stdout",
       "text": [
        "\r",
        "92% [===================================>   ] 34,184       124KB/s             \r",
        "100%[======================================>] 36,765       134KB/s   in 0.3s   \r\n",
        "\r\n",
        "2015-01-12 12:04:00 (134 KB/s) - \u2018relationships_w_pops_121708.txt\u2019 saved [36765/36765]\r\n",
        "\r\n"
       ]
      }
     ],
     "prompt_number": 1
    },
    {
     "cell_type": "code",
     "collapsed": false,
     "input": [
      "!bunzip2 hapmap3_r2_b36_fwd.consensus.qc.poly.map.bz2\n",
      "!bunzip2 hapmap3_r2_b36_fwd.consensus.qc.poly.ped.bz2"
     ],
     "language": "python",
     "metadata": {},
     "outputs": [],
     "prompt_number": 2
    },
    {
     "cell_type": "heading",
     "level": 1,
     "metadata": {},
     "source": [
      "Preparation"
     ]
    },
    {
     "cell_type": "code",
     "collapsed": false,
     "input": [
      "import os\n",
      "from collections import defaultdict"
     ],
     "language": "python",
     "metadata": {},
     "outputs": [],
     "prompt_number": 11
    },
    {
     "cell_type": "heading",
     "level": 2,
     "metadata": {},
     "source": [
      "Loading HapMap meta-data"
     ]
    },
    {
     "cell_type": "code",
     "collapsed": false,
     "input": [
      "f = open('relationships_w_pops_121708.txt')\n",
      "pop_ind = defaultdict(list)\n",
      "f.readline()  # header\n",
      "offspring = []\n",
      "for l in f:\n",
      "    toks = l.rstrip().split('\\t')\n",
      "    fam_id = toks[0]\n",
      "    ind_id = toks[1]\n",
      "    mom = toks[2]\n",
      "    dad = toks[3]\n",
      "    if mom != '0' or dad != '0':\n",
      "        offspring.append((fam_id, ind_id))\n",
      "    pop = toks[-1]\n",
      "    pop_ind[pop].append((fam_id, ind_id))"
     ],
     "language": "python",
     "metadata": {},
     "outputs": [],
     "prompt_number": 12
    },
    {
     "cell_type": "heading",
     "level": 2,
     "metadata": {},
     "source": [
      "Sub-sampling"
     ]
    },
    {
     "cell_type": "code",
     "collapsed": false,
     "input": [
      "os.system('plink --recode --file hapmap3_r2_b36_fwd.consensus.qc.poly --noweb --out hapmap10 --thin 0.1 --geno 0.1')\n",
      "os.system('plink --recode --file hapmap3_r2_b36_fwd.consensus.qc.poly --noweb --out hapmap1 --thin 0.01 --geno 0.1')\n",
      "#!plink --recode --file hapmap3_r2_b36_fwd.consensus.qc.poly --noweb --out hapmap10 --thin 0.1\n",
      "#suggest make-bed"
     ],
     "language": "python",
     "metadata": {},
     "outputs": [
      {
       "metadata": {},
       "output_type": "pyout",
       "prompt_number": 13,
       "text": [
        "0"
       ]
      }
     ],
     "prompt_number": 13
    },
    {
     "cell_type": "heading",
     "level": 2,
     "metadata": {},
     "source": [
      "Getting only autosomal data"
     ]
    },
    {
     "cell_type": "code",
     "collapsed": false,
     "input": [
      "def get_non_auto_SNPs(map_file, exclude_file):\n",
      "    f = open(map_file)\n",
      "    w = open(exclude_file, 'w')\n",
      "    for l in f:\n",
      "        toks = l.rstrip().split('\\t')\n",
      "        chrom = int(toks[0])\n",
      "        rs = toks[1]\n",
      "        if chrom > 22:\n",
      "            w.write('%s\\n' % rs)\n",
      "    w.close()"
     ],
     "language": "python",
     "metadata": {},
     "outputs": [],
     "prompt_number": 14
    },
    {
     "cell_type": "code",
     "collapsed": false,
     "input": [
      "get_non_auto_SNPs('hapmap10.map', 'exclude10.txt')\n",
      "get_non_auto_SNPs('hapmap1.map', 'exclude1.txt')\n",
      "#get_non_auto_SNPs('hapmap3_r2_b36_fwd.consensus.qc.poly.map', 'exclude.txt')"
     ],
     "language": "python",
     "metadata": {},
     "outputs": [],
     "prompt_number": 15
    },
    {
     "cell_type": "code",
     "collapsed": false,
     "input": [
      "!plink --recode --file hapmap10 --noweb --out hapmap10_auto --exclude exclude10.txt\n",
      "!plink --recode --file hapmap1 --noweb --out hapmap1_auto --exclude exclude1.txt\n",
      "#geno!!!\n",
      "#!plink --recode --file hapmap3_r2_b36_fwd.consensus.qc.poly --noweb --out hapmap_auto --exclude exclude.txt"
     ],
     "language": "python",
     "metadata": {},
     "outputs": [
      {
       "output_type": "stream",
       "stream": "stdout",
       "text": [
        "PLINK v1.90b2t 64-bit (20 Dec 2014)        https://www.cog-genomics.org/plink2\r\n",
        "(C) 2005-2014 Shaun Purcell, Christopher Chang   GNU General Public License v3\r\n",
        "Logging to hapmap10_auto.log.\r\n",
        "Note: --noweb has no effect since no web check is implemented yet.\r\n",
        "32095 MB RAM detected; reserving 16047 MB for main workspace.\r\n",
        "Scanning .ped file... 0%\b\b1%\b\b1%\b\b1%\b\b1%\b\b1%\b\b1%"
       ]
      },
      {
       "output_type": "stream",
       "stream": "stdout",
       "text": [
        "\b\b1%\b\b1%\b\b1%\b\b1%\b\b1%\b\b1%\b\b2%\b\b2%\b\b2%\b\b2%\b\b2%\b\b2%\b\b2%\b\b2%\b\b2%\b\b2%\b\b2%\b\b2%\b\b3%\b\b3%\b\b3%\b\b3%\b\b3%\b\b3%"
       ]
      },
      {
       "output_type": "stream",
       "stream": "stdout",
       "text": [
        "\b\b3%\b\b3%\b\b3%\b\b3%\b\b3%\b\b3%\b\b4%\b\b4%\b\b4%\b\b4%\b\b4%\b\b4%\b\b4%\b\b4%\b\b4%\b\b4%\b\b4%\b\b4%\b\b5%\b\b5%\b\b5%\b\b5%\b\b5%"
       ]
      },
      {
       "output_type": "stream",
       "stream": "stdout",
       "text": [
        "\b\b5%\b\b5%\b\b5%\b\b5%\b\b5%\b\b5%\b\b5%\b\b6%\b\b6%\b\b6%\b\b6%\b\b6%\b\b6%\b\b6%\b\b6%\b\b6%\b\b6%\b\b6%\b\b7%\b\b7%\b\b7%\b\b7%\b\b7%\b\b7%"
       ]
      },
      {
       "output_type": "stream",
       "stream": "stdout",
       "text": [
        "\b\b7%\b\b7%\b\b7%\b\b7%\b\b7%\b\b7%\b\b8%\b\b8%\b\b8%\b\b8%\b\b8%\b\b8%\b\b8%\b\b8%\b\b8%\b\b8%\b\b8%\b\b8%\b\b9%\b\b9%\b\b9%\b\b9%\b\b9%"
       ]
      },
      {
       "output_type": "stream",
       "stream": "stdout",
       "text": [
        "\b\b9%\b\b9%\b\b9%\b\b9%\b\b9%\b\b9%\b\b9%\b\b10%\b\b\b10%\b\b\b10%\b\b\b10%\b\b\b10%\b\b\b10%\b\b\b10%\b\b\b10%\b\b\b10%\b\b\b10%\b\b\b10%\b\b\b10%\b\b\b11%\b\b\b11%\b\b\b11%\b\b\b11%\b\b\b11%"
       ]
      },
      {
       "output_type": "stream",
       "stream": "stdout",
       "text": [
        "\b\b\b11%\b\b\b11%\b\b\b11%\b\b\b11%\b\b\b11%\b\b\b11%\b\b\b11%\b\b\b12%\b\b\b12%\b\b\b12%\b\b\b12%\b\b\b12%\b\b\b12%\b\b\b12%\b\b\b12%\b\b\b12%\b\b\b12%\b\b\b12%\b\b\b13%\b\b\b13%\b\b\b13%\b\b\b13%\b\b\b13%"
       ]
      },
      {
       "output_type": "stream",
       "stream": "stdout",
       "text": [
        "\b\b\b13%\b\b\b13%\b\b\b13%\b\b\b13%\b\b\b13%\b\b\b13%\b\b\b13%\b\b\b14%\b\b\b14%\b\b\b14%\b\b\b14%\b\b\b14%\b\b\b14%\b\b\b14%\b\b\b14%\b\b\b14%\b\b\b14%\b\b\b14%\b\b\b14%\b\b\b15%\b\b\b15%\b\b\b15%\b\b\b15%"
       ]
      },
      {
       "output_type": "stream",
       "stream": "stdout",
       "text": [
        "\b\b\b15%\b\b\b15%\b\b\b15%\b\b\b15%\b\b\b15%\b\b\b15%\b\b\b15%\b\b\b15%\b\b\b16%\b\b\b16%\b\b\b16%\b\b\b16%\b\b\b16%\b\b\b16%\b\b\b16%\b\b\b16%\b\b\b16%\b\b\b16%\b\b\b16%\b\b\b16%\b\b\b17%\b\b\b17%\b\b\b17%\b\b\b17%"
       ]
      },
      {
       "output_type": "stream",
       "stream": "stdout",
       "text": [
        "\b\b\b17%\b\b\b17%\b\b\b17%\b\b\b17%\b\b\b17%\b\b\b17%\b\b\b17%\b\b\b17%\b\b\b18%\b\b\b18%\b\b\b18%\b\b\b18%\b\b\b18%\b\b\b18%\b\b\b18%\b\b\b18%\b\b\b18%\b\b\b18%\b\b\b18%\b\b\b19%\b\b\b19%\b\b\b19%\b\b\b19%"
       ]
      },
      {
       "output_type": "stream",
       "stream": "stdout",
       "text": [
        "\b\b\b19%\b\b\b19%\b\b\b19%\b\b\b19%\b\b\b19%\b\b\b19%\b\b\b19%\b\b\b19%\b\b\b20%\b\b\b20%\b\b\b20%\b\b\b20%\b\b\b20%\b\b\b20%\b\b\b20%\b\b\b20%\b\b\b20%\b\b\b20%\b\b\b20%\b\b\b20%\b\b\b21%\b\b\b21%"
       ]
      },
      {
       "output_type": "stream",
       "stream": "stdout",
       "text": [
        "\b\b\b21%\b\b\b21%\b\b\b21%\b\b\b21%\b\b\b21%\b\b\b21%\b\b\b21%\b\b\b21%\b\b\b21%\b\b\b21%\b\b\b22%\b\b\b22%\b\b\b22%\b\b\b22%\b\b\b22%\b\b\b22%\b\b\b22%\b\b\b22%\b\b\b22%\b\b\b22%\b\b\b22%\b\b\b22%\b\b\b23%\b\b\b23%"
       ]
      },
      {
       "output_type": "stream",
       "stream": "stdout",
       "text": [
        "\b\b\b23%\b\b\b23%\b\b\b23%\b\b\b23%\b\b\b23%\b\b\b23%\b\b\b23%\b\b\b23%\b\b\b23%\b\b\b23%\b\b\b24%\b\b\b24%\b\b\b24%\b\b\b24%\b\b\b24%\b\b\b24%\b\b\b24%\b\b\b24%\b\b\b24%\b\b\b24%\b\b\b24%\b\b\b25%\b\b\b25%\b\b\b25%"
       ]
      },
      {
       "output_type": "stream",
       "stream": "stdout",
       "text": [
        "\b\b\b25%\b\b\b25%\b\b\b25%\b\b\b25%\b\b\b25%\b\b\b25%\b\b\b25%\b\b\b25%\b\b\b25%\b\b\b26%\b\b\b26%\b\b\b26%\b\b\b26%\b\b\b26%\b\b\b26%\b\b\b26%\b\b\b26%\b\b\b26%\b\b\b26%\b\b\b26%\b\b\b26%\b\b\b27%\b\b\b27%"
       ]
      },
      {
       "output_type": "stream",
       "stream": "stdout",
       "text": [
        "\b\b\b27%\b\b\b27%\b\b\b27%\b\b\b27%\b\b\b27%\b\b\b27%\b\b\b27%\b\b\b27%\b\b\b27%\b\b\b27%\b\b\b28%\b\b\b28%\b\b\b28%\b\b\b28%\b\b\b28%\b\b\b28%\b\b\b28%\b\b\b28%\b\b\b28%\b\b\b28%\b\b\b28%\b\b\b28%\b\b\b29%"
       ]
      },
      {
       "output_type": "stream",
       "stream": "stdout",
       "text": [
        "\b\b\b29%\b\b\b29%\b\b\b29%\b\b\b29%\b\b\b29%\b\b\b29%\b\b\b29%\b\b\b29%\b\b\b29%\b\b\b29%\b\b\b29%\b\b\b30%\b\b\b30%\b\b\b30%\b\b\b30%\b\b\b30%\b\b\b30%\b\b\b30%\b\b\b30%\b\b\b30%\b\b\b30%\b\b\b30%\b\b\b30%\b\b\b31%"
       ]
      },
      {
       "output_type": "stream",
       "stream": "stdout",
       "text": [
        "\b\b\b31%\b\b\b31%\b\b\b31%\b\b\b31%\b\b\b31%\b\b\b31%\b\b\b31%\b\b\b31%\b\b\b31%\b\b\b31%\b\b\b32%\b\b\b32%\b\b\b32%\b\b\b32%\b\b\b32%\b\b\b32%\b\b\b32%\b\b\b32%\b\b\b32%\b\b\b32%\b\b\b32%\b\b\b32%\b\b\b33%"
       ]
      },
      {
       "output_type": "stream",
       "stream": "stdout",
       "text": [
        "\b\b\b33%\b\b\b33%\b\b\b33%\b\b\b33%\b\b\b33%\b\b\b33%\b\b\b33%\b\b\b33%\b\b\b33%\b\b\b33%\b\b\b33%\b\b\b34%\b\b\b34%\b\b\b34%\b\b\b34%\b\b\b34%\b\b\b34%\b\b\b34%\b\b\b34%\b\b\b34%\b\b\b34%\b\b\b34%\b\b\b34%"
       ]
      },
      {
       "output_type": "stream",
       "stream": "stdout",
       "text": [
        "\b\b\b35%\b\b\b35%\b\b\b35%\b\b\b35%\b\b\b35%\b\b\b35%\b\b\b35%\b\b\b35%\b\b\b35%\b\b\b35%\b\b\b35%\b\b\b35%\b\b\b36%\b\b\b36%\b\b\b36%\b\b\b36%\b\b\b36%\b\b\b36%\b\b\b36%\b\b\b36%\b\b\b36%\b\b\b36%\b\b\b36%"
       ]
      },
      {
       "output_type": "stream",
       "stream": "stdout",
       "text": [
        "\b\b\b36%\b\b\b37%\b\b\b37%\b\b\b37%\b\b\b37%\b\b\b37%\b\b\b37%\b\b\b37%\b\b\b37%\b\b\b37%\b\b\b37%\b\b\b37%\b\b\b38%\b\b\b38%\b\b\b38%\b\b\b38%\b\b\b38%\b\b\b38%\b\b\b38%\b\b\b38%\b\b\b38%\b\b\b38%\b\b\b38%"
       ]
      },
      {
       "output_type": "stream",
       "stream": "stdout",
       "text": [
        "\b\b\b38%\b\b\b39%\b\b\b39%\b\b\b39%\b\b\b39%\b\b\b39%\b\b\b39%\b\b\b39%\b\b\b39%\b\b\b39%\b\b\b39%\b\b\b39%\b\b\b39%\b\b\b40%\b\b\b40%\b\b\b40%\b\b\b40%\b\b\b40%\b\b\b40%\b\b\b40%\b\b\b40%\b\b\b40%\b\b\b40%\b\b\b40%"
       ]
      },
      {
       "output_type": "stream",
       "stream": "stdout",
       "text": [
        "\b\b\b40%\b\b\b41%\b\b\b41%\b\b\b41%\b\b\b41%\b\b\b41%\b\b\b41%\b\b\b41%\b\b\b41%\b\b\b41%\b\b\b41%\b\b\b41%\b\b\b41%\b\b\b42%\b\b\b42%\b\b\b42%\b\b\b42%\b\b\b42%\b\b\b42%\b\b\b42%\b\b\b42%\b\b\b42%\b\b\b42%"
       ]
      },
      {
       "output_type": "stream",
       "stream": "stdout",
       "text": [
        "\b\b\b42%\b\b\b42%\b\b\b43%\b\b\b43%\b\b\b43%\b\b\b43%\b\b\b43%\b\b\b43%\b\b\b43%\b\b\b43%\b\b\b43%\b\b\b43%\b\b\b43%\b\b\b44%\b\b\b44%\b\b\b44%\b\b\b44%\b\b\b44%\b\b\b44%\b\b\b44%\b\b\b44%\b\b\b44%\b\b\b44%"
       ]
      },
      {
       "output_type": "stream",
       "stream": "stdout",
       "text": [
        "\b\b\b44%\b\b\b44%\b\b\b45%\b\b\b45%\b\b\b45%\b\b\b45%\b\b\b45%\b\b\b45%\b\b\b45%\b\b\b45%\b\b\b45%\b\b\b45%\b\b\b45%\b\b\b45%\b\b\b46%\b\b\b46%\b\b\b46%\b\b\b46%\b\b\b46%\b\b\b46%\b\b\b46%\b\b\b46%\b\b\b46%\b\b\b46%"
       ]
      },
      {
       "output_type": "stream",
       "stream": "stdout",
       "text": [
        "\b\b\b46%\b\b\b46%\b\b\b47%\b\b\b47%\b\b\b47%\b\b\b47%\b\b\b47%\b\b\b47%\b\b\b47%\b\b\b47%\b\b\b47%\b\b\b47%\b\b\b47%\b\b\b47%\b\b\b48%\b\b\b48%\b\b\b48%\b\b\b48%\b\b\b48%\b\b\b48%\b\b\b48%\b\b\b48%\b\b\b48%"
       ]
      },
      {
       "output_type": "stream",
       "stream": "stdout",
       "text": [
        "\b\b\b48%\b\b\b48%\b\b\b48%\b\b\b49%\b\b\b49%\b\b\b49%\b\b\b49%\b\b\b49%\b\b\b49%\b\b\b49%\b\b\b49%\b\b\b49%\b\b\b49%\b\b\b49%\b\b\b50%\b\b\b50%\b\b\b50%\b\b\b50%\b\b\b50%\b\b\b50%\b\b\b50%\b\b\b50%\b\b\b50%\b\b\b50%"
       ]
      },
      {
       "output_type": "stream",
       "stream": "stdout",
       "text": [
        "\b\b\b50%\b\b\b50%\b\b\b51%\b\b\b51%\b\b\b51%\b\b\b51%\b\b\b51%\b\b\b51%\b\b\b51%\b\b\b51%\b\b\b51%\b\b\b51%\b\b\b51%\b\b\b51%\b\b\b52%\b\b\b52%\b\b\b52%\b\b\b52%\b\b\b52%\b\b\b52%\b\b\b52%\b\b\b52%\b\b\b52%\b\b\b52%"
       ]
      },
      {
       "output_type": "stream",
       "stream": "stdout",
       "text": [
        "\b\b\b52%\b\b\b52%\b\b\b53%\b\b\b53%\b\b\b53%\b\b\b53%\b\b\b53%\b\b\b53%\b\b\b53%\b\b\b53%\b\b\b53%\b\b\b53%\b\b\b53%\b\b\b53%\b\b\b54%\b\b\b54%\b\b\b54%\b\b\b54%\b\b\b54%\b\b\b54%\b\b\b54%\b\b\b54%\b\b\b54%\b\b\b54%\b\b\b54%"
       ]
      },
      {
       "output_type": "stream",
       "stream": "stdout",
       "text": [
        "\b\b\b54%\b\b\b55%\b\b\b55%\b\b\b55%\b\b\b55%\b\b\b55%\b\b\b55%\b\b\b55%\b\b\b55%\b\b\b55%\b\b\b55%\b\b\b55%\b\b\b55%\b\b\b56%\b\b\b56%\b\b\b56%\b\b\b56%\b\b\b56%\b\b\b56%\b\b\b56%\b\b\b56%\b\b\b56%\b\b\b56%\b\b\b56%"
       ]
      },
      {
       "output_type": "stream",
       "stream": "stdout",
       "text": [
        "\b\b\b57%\b\b\b57%\b\b\b57%\b\b\b57%\b\b\b57%\b\b\b57%\b\b\b57%\b\b\b57%\b\b\b57%\b\b\b57%\b\b\b57%\b\b\b57%\b\b\b58%\b\b\b58%\b\b\b58%\b\b\b58%\b\b\b58%\b\b\b58%\b\b\b58%\b\b\b58%\b\b\b58%\b\b\b58%\b\b\b58%"
       ]
      },
      {
       "output_type": "stream",
       "stream": "stdout",
       "text": [
        "\b\b\b58%\b\b\b59%\b\b\b59%\b\b\b59%\b\b\b59%\b\b\b59%\b\b\b59%\b\b\b59%\b\b\b59%\b\b\b59%\b\b\b59%\b\b\b59%\b\b\b59%\b\b\b60%\b\b\b60%\b\b\b60%\b\b\b60%\b\b\b60%\b\b\b60%\b\b\b60%\b\b\b60%\b\b\b60%\b\b\b60%\b\b\b60%"
       ]
      },
      {
       "output_type": "stream",
       "stream": "stdout",
       "text": [
        "\b\b\b60%\b\b\b61%\b\b\b61%\b\b\b61%\b\b\b61%\b\b\b61%\b\b\b61%\b\b\b61%\b\b\b61%\b\b\b61%\b\b\b61%\b\b\b61%\b\b\b61%\b\b\b62%\b\b\b62%\b\b\b62%\b\b\b62%\b\b\b62%\b\b\b62%\b\b\b62%\b\b\b62%\b\b\b62%\b\b\b62%"
       ]
      },
      {
       "output_type": "stream",
       "stream": "stdout",
       "text": [
        "\b\b\b62%\b\b\b63%\b\b\b63%\b\b\b63%\b\b\b63%\b\b\b63%\b\b\b63%\b\b\b63%\b\b\b63%\b\b\b63%\b\b\b63%\b\b\b63%\b\b\b63%\b\b\b64%\b\b\b64%\b\b\b64%\b\b\b64%\b\b\b64%\b\b\b64%\b\b\b64%\b\b\b64%\b\b\b64%\b\b\b64%"
       ]
      },
      {
       "output_type": "stream",
       "stream": "stdout",
       "text": [
        "\b\b\b64%\b\b\b64%\b\b\b65%\b\b\b65%\b\b\b65%\b\b\b65%\b\b\b65%\b\b\b65%\b\b\b65%\b\b\b65%\b\b\b65%\b\b\b65%\b\b\b65%\b\b\b65%\b\b\b66%\b\b\b66%\b\b\b66%\b\b\b66%\b\b\b66%\b\b\b66%\b\b\b66%\b\b\b66%\b\b\b66%"
       ]
      },
      {
       "output_type": "stream",
       "stream": "stdout",
       "text": [
        "\b\b\b66%\b\b\b66%\b\b\b66%\b\b\b67%\b\b\b67%\b\b\b67%\b\b\b67%\b\b\b67%\b\b\b67%\b\b\b67%\b\b\b67%\b\b\b67%\b\b\b67%\b\b\b67%\b\b\b67%\b\b\b68%\b\b\b68%\b\b\b68%\b\b\b68%\b\b\b68%\b\b\b68%\b\b\b68%\b\b\b68%\b\b\b68%"
       ]
      },
      {
       "output_type": "stream",
       "stream": "stdout",
       "text": [
        "\b\b\b68%\b\b\b68%\b\b\b69%\b\b\b69%\b\b\b69%\b\b\b69%\b\b\b69%\b\b\b69%\b\b\b69%\b\b\b69%\b\b\b69%\b\b\b69%\b\b\b69%\b\b\b69%\b\b\b70%\b\b\b70%\b\b\b70%\b\b\b70%\b\b\b70%\b\b\b70%\b\b\b70%\b\b\b70%\b\b\b70%\b\b\b70%"
       ]
      },
      {
       "output_type": "stream",
       "stream": "stdout",
       "text": [
        "\b\b\b70%\b\b\b70%\b\b\b71%\b\b\b71%\b\b\b71%\b\b\b71%\b\b\b71%\b\b\b71%\b\b\b71%\b\b\b71%\b\b\b71%\b\b\b71%\b\b\b71%\b\b\b71%\b\b\b72%\b\b\b72%\b\b\b72%\b\b\b72%\b\b\b72%\b\b\b72%\b\b\b72%\b\b\b72%\b\b\b72%"
       ]
      },
      {
       "output_type": "stream",
       "stream": "stdout",
       "text": [
        "\b\b\b72%\b\b\b72%\b\b\b72%\b\b\b73%\b\b\b73%\b\b\b73%\b\b\b73%\b\b\b73%\b\b\b73%\b\b\b73%\b\b\b73%\b\b\b73%\b\b\b73%\b\b\b73%\b\b\b73%\b\b\b74%\b\b\b74%\b\b\b74%\b\b\b74%\b\b\b74%\b\b\b74%\b\b\b74%"
       ]
      },
      {
       "output_type": "stream",
       "stream": "stdout",
       "text": [
        "\b\b\b74%\b\b\b74%\b\b\b74%\b\b\b74%\b\b\b74%\b\b\b75%\b\b\b75%\b\b\b75%\b\b\b75%\b\b\b75%\b\b\b75%\b\b\b75%\b\b\b75%\b\b\b75%\b\b\b75%\b\b\b75%\b\b\b76%\b\b\b76%\b\b\b76%\b\b\b76%\b\b\b76%\b\b\b76%\b\b\b76%\b\b\b76%"
       ]
      },
      {
       "output_type": "stream",
       "stream": "stdout",
       "text": [
        "\b\b\b76%\b\b\b76%\b\b\b76%\b\b\b76%\b\b\b77%\b\b\b77%\b\b\b77%\b\b\b77%\b\b\b77%\b\b\b77%\b\b\b77%\b\b\b77%\b\b\b77%\b\b\b77%\b\b\b77%\b\b\b77%\b\b\b78%\b\b\b78%\b\b\b78%\b\b\b78%\b\b\b78%\b\b\b78%\b\b\b78%\b\b\b78%"
       ]
      },
      {
       "output_type": "stream",
       "stream": "stdout",
       "text": [
        "\b\b\b78%\b\b\b78%\b\b\b78%\b\b\b78%\b\b\b79%\b\b\b79%\b\b\b79%\b\b\b79%\b\b\b79%\b\b\b79%\b\b\b79%\b\b\b79%\b\b\b79%\b\b\b79%\b\b\b79%\b\b\b79%\b\b\b80%\b\b\b80%\b\b\b80%\b\b\b80%\b\b\b80%\b\b\b80%\b\b\b80%"
       ]
      },
      {
       "output_type": "stream",
       "stream": "stdout",
       "text": [
        "\b\b\b80%\b\b\b80%\b\b\b80%\b\b\b80%\b\b\b80%\b\b\b81%\b\b\b81%\b\b\b81%\b\b\b81%\b\b\b81%\b\b\b81%\b\b\b81%\b\b\b81%\b\b\b81%\b\b\b81%\b\b\b81%\b\b\b82%\b\b\b82%\b\b\b82%\b\b\b82%\b\b\b82%\b\b\b82%\b\b\b82%"
       ]
      },
      {
       "output_type": "stream",
       "stream": "stdout",
       "text": [
        "\b\b\b82%\b\b\b82%\b\b\b82%\b\b\b82%\b\b\b82%\b\b\b83%\b\b\b83%\b\b\b83%\b\b\b83%\b\b\b83%\b\b\b83%\b\b\b83%\b\b\b83%\b\b\b83%\b\b\b83%\b\b\b83%\b\b\b83%\b\b\b84%\b\b\b84%\b\b\b84%\b\b\b84%\b\b\b84%\b\b\b84%"
       ]
      },
      {
       "output_type": "stream",
       "stream": "stdout",
       "text": [
        "\b\b\b84%\b\b\b84%\b\b\b84%\b\b\b84%\b\b\b84%\b\b\b84%\b\b\b85%\b\b\b85%\b\b\b85%\b\b\b85%\b\b\b85%\b\b\b85%\b\b\b85%\b\b\b85%\b\b\b85%\b\b\b85%\b\b\b85%\b\b\b85%\b\b\b86%\b\b\b86%\b\b\b86%\b\b\b86%\b\b\b86%\b\b\b86%"
       ]
      },
      {
       "output_type": "stream",
       "stream": "stdout",
       "text": [
        "\b\b\b86%\b\b\b86%\b\b\b86%\b\b\b86%\b\b\b86%\b\b\b86%\b\b\b87%\b\b\b87%\b\b\b87%\b\b\b87%\b\b\b87%\b\b\b87%\b\b\b87%\b\b\b87%\b\b\b87%\b\b\b87%\b\b\b87%\b\b\b88%\b\b\b88%\b\b\b88%\b\b\b88%\b\b\b88%\b\b\b88%\b\b\b88%\b\b\b88%"
       ]
      },
      {
       "output_type": "stream",
       "stream": "stdout",
       "text": [
        "\b\b\b88%\b\b\b88%\b\b\b88%\b\b\b88%\b\b\b89%\b\b\b89%\b\b\b89%\b\b\b89%\b\b\b89%\b\b\b89%\b\b\b89%\b\b\b89%\b\b\b89%\b\b\b89%\b\b\b89%\b\b\b89%\b\b\b90%\b\b\b90%\b\b\b90%\b\b\b90%\b\b\b90%\b\b\b90%\b\b\b90%\b\b\b90%"
       ]
      },
      {
       "output_type": "stream",
       "stream": "stdout",
       "text": [
        "\b\b\b90%\b\b\b90%\b\b\b90%\b\b\b90%\b\b\b91%\b\b\b91%\b\b\b91%\b\b\b91%\b\b\b91%\b\b\b91%\b\b\b91%\b\b\b91%\b\b\b91%\b\b\b91%\b\b\b91%\b\b\b91%\b\b\b92%\b\b\b92%\b\b\b92%\b\b\b92%\b\b\b92%\b\b\b92%\b\b\b92%\b\b\b92%"
       ]
      },
      {
       "output_type": "stream",
       "stream": "stdout",
       "text": [
        "\b\b\b92%\b\b\b92%\b\b\b92%\b\b\b92%\b\b\b93%\b\b\b93%\b\b\b93%\b\b\b93%\b\b\b93%\b\b\b93%\b\b\b93%\b\b\b93%\b\b\b93%\b\b\b93%\b\b\b93%\b\b\b94%\b\b\b94%\b\b\b94%\b\b\b94%\b\b\b94%\b\b\b94%\b\b\b94%\b\b\b94%\b\b\b94%"
       ]
      },
      {
       "output_type": "stream",
       "stream": "stdout",
       "text": [
        "\b\b\b94%\b\b\b94%\b\b\b94%\b\b\b95%\b\b\b95%\b\b\b95%\b\b\b95%\b\b\b95%\b\b\b95%\b\b\b95%\b\b\b95%\b\b\b95%\b\b\b95%\b\b\b95%\b\b\b95%\b\b\b96%\b\b\b96%\b\b\b96%\b\b\b96%\b\b\b96%\b\b\b96%\b\b\b96%\b\b\b96%\b\b\b96%"
       ]
      },
      {
       "output_type": "stream",
       "stream": "stdout",
       "text": [
        "\b\b\b96%\b\b\b96%\b\b\b96%\b\b\b97%\b\b\b97%\b\b\b97%\b\b\b97%\b\b\b97%\b\b\b97%\b\b\b97%\b\b\b97%\b\b\b97%\b\b\b97%\b\b\b97%\b\b\b97%\b\b\b98%\b\b\b98%\b\b\b98%\b\b\b98%\b\b\b98%\b\b\b98%\b\b\b98%\b\b\b98%\b\b\b98%"
       ]
      },
      {
       "output_type": "stream",
       "stream": "stdout",
       "text": [
        "\b\b\b98%\b\b\b98%\b\b\b98%\b\b\b99%\b\b\b99%\b\b\b99%\b\b\b99%\b\b\b99%\b\b\b99%\b\b\b99%\b\b\b99%\b\b\b99%\b\b\b99%\b\b\b99%\b\b\b100%\r",
        ".ped scan complete (for binary autoconversion).\r\n"
       ]
      },
      {
       "output_type": "stream",
       "stream": "stdout",
       "text": [
        "Performing single-pass .bed write (144082 variants, 1184 people).\r\n",
        "0%\b\b1%"
       ]
      },
      {
       "output_type": "stream",
       "stream": "stdout",
       "text": [
        "\b\b2%"
       ]
      },
      {
       "output_type": "stream",
       "stream": "stdout",
       "text": [
        "\b\b3%\b\b4%"
       ]
      },
      {
       "output_type": "stream",
       "stream": "stdout",
       "text": [
        "\b\b5%\b\b6%"
       ]
      },
      {
       "output_type": "stream",
       "stream": "stdout",
       "text": [
        "\b\b7%"
       ]
      },
      {
       "output_type": "stream",
       "stream": "stdout",
       "text": [
        "\b\b8%\b\b9%"
       ]
      },
      {
       "output_type": "stream",
       "stream": "stdout",
       "text": [
        "\b\b10%"
       ]
      },
      {
       "output_type": "stream",
       "stream": "stdout",
       "text": [
        "\b\b\b11%\b\b\b12%"
       ]
      },
      {
       "output_type": "stream",
       "stream": "stdout",
       "text": [
        "\b\b\b13%\b\b\b14%"
       ]
      },
      {
       "output_type": "stream",
       "stream": "stdout",
       "text": [
        "\b\b\b15%"
       ]
      },
      {
       "output_type": "stream",
       "stream": "stdout",
       "text": [
        "\b\b\b16%\b\b\b17%"
       ]
      },
      {
       "output_type": "stream",
       "stream": "stdout",
       "text": [
        "\b\b\b18%"
       ]
      },
      {
       "output_type": "stream",
       "stream": "stdout",
       "text": [
        "\b\b\b19%\b\b\b20%"
       ]
      },
      {
       "output_type": "stream",
       "stream": "stdout",
       "text": [
        "\b\b\b21%\b\b\b22%"
       ]
      },
      {
       "output_type": "stream",
       "stream": "stdout",
       "text": [
        "\b\b\b23%"
       ]
      },
      {
       "output_type": "stream",
       "stream": "stdout",
       "text": [
        "\b\b\b24%\b\b\b25%"
       ]
      },
      {
       "output_type": "stream",
       "stream": "stdout",
       "text": [
        "\b\b\b26%\b\b\b27%"
       ]
      },
      {
       "output_type": "stream",
       "stream": "stdout",
       "text": [
        "\b\b\b28%"
       ]
      },
      {
       "output_type": "stream",
       "stream": "stdout",
       "text": [
        "\b\b\b29%\b\b\b30%"
       ]
      },
      {
       "output_type": "stream",
       "stream": "stdout",
       "text": [
        "\b\b\b31%\b\b\b32%"
       ]
      },
      {
       "output_type": "stream",
       "stream": "stdout",
       "text": [
        "\b\b\b33%"
       ]
      },
      {
       "output_type": "stream",
       "stream": "stdout",
       "text": [
        "\b\b\b34%\b\b\b35%"
       ]
      },
      {
       "output_type": "stream",
       "stream": "stdout",
       "text": [
        "\b\b\b36%\b\b\b37%"
       ]
      },
      {
       "output_type": "stream",
       "stream": "stdout",
       "text": [
        "\b\b\b38%"
       ]
      },
      {
       "output_type": "stream",
       "stream": "stdout",
       "text": [
        "\b\b\b39%\b\b\b40%"
       ]
      },
      {
       "output_type": "stream",
       "stream": "stdout",
       "text": [
        "\b\b\b41%"
       ]
      },
      {
       "output_type": "stream",
       "stream": "stdout",
       "text": [
        "\b\b\b42%\b\b\b43%"
       ]
      },
      {
       "output_type": "stream",
       "stream": "stdout",
       "text": [
        "\b\b\b44%\b\b\b45%"
       ]
      },
      {
       "output_type": "stream",
       "stream": "stdout",
       "text": [
        "\b\b\b46%"
       ]
      },
      {
       "output_type": "stream",
       "stream": "stdout",
       "text": [
        "\b\b\b47%\b\b\b48%"
       ]
      },
      {
       "output_type": "stream",
       "stream": "stdout",
       "text": [
        "\b\b\b49%"
       ]
      },
      {
       "output_type": "stream",
       "stream": "stdout",
       "text": [
        "\b\b\b50%\b\b\b51%"
       ]
      },
      {
       "output_type": "stream",
       "stream": "stdout",
       "text": [
        "\b\b\b52%\b\b\b53%"
       ]
      },
      {
       "output_type": "stream",
       "stream": "stdout",
       "text": [
        "\b\b\b54%"
       ]
      },
      {
       "output_type": "stream",
       "stream": "stdout",
       "text": [
        "\b\b\b55%\b\b\b56%"
       ]
      },
      {
       "output_type": "stream",
       "stream": "stdout",
       "text": [
        "\b\b\b57%"
       ]
      },
      {
       "output_type": "stream",
       "stream": "stdout",
       "text": [
        "\b\b\b58%\b\b\b59%"
       ]
      },
      {
       "output_type": "stream",
       "stream": "stdout",
       "text": [
        "\b\b\b60%\b\b\b61%"
       ]
      },
      {
       "output_type": "stream",
       "stream": "stdout",
       "text": [
        "\b\b\b62%"
       ]
      },
      {
       "output_type": "stream",
       "stream": "stdout",
       "text": [
        "\b\b\b63%\b\b\b64%"
       ]
      },
      {
       "output_type": "stream",
       "stream": "stdout",
       "text": [
        "\b\b\b65%"
       ]
      },
      {
       "output_type": "stream",
       "stream": "stdout",
       "text": [
        "\b\b\b66%\b\b\b67%"
       ]
      },
      {
       "output_type": "stream",
       "stream": "stdout",
       "text": [
        "\b\b\b68%\b\b\b69%"
       ]
      },
      {
       "output_type": "stream",
       "stream": "stdout",
       "text": [
        "\b\b\b70%"
       ]
      },
      {
       "output_type": "stream",
       "stream": "stdout",
       "text": [
        "\b\b\b71%\b\b\b72%"
       ]
      },
      {
       "output_type": "stream",
       "stream": "stdout",
       "text": [
        "\b\b\b73%\b\b\b74%"
       ]
      },
      {
       "output_type": "stream",
       "stream": "stdout",
       "text": [
        "\b\b\b75%"
       ]
      },
      {
       "output_type": "stream",
       "stream": "stdout",
       "text": [
        "\b\b\b76%\b\b\b77%"
       ]
      },
      {
       "output_type": "stream",
       "stream": "stdout",
       "text": [
        "\b\b\b78%"
       ]
      },
      {
       "output_type": "stream",
       "stream": "stdout",
       "text": [
        "\b\b\b79%\b\b\b80%"
       ]
      },
      {
       "output_type": "stream",
       "stream": "stdout",
       "text": [
        "\b\b\b81%\b\b\b82%"
       ]
      },
      {
       "output_type": "stream",
       "stream": "stdout",
       "text": [
        "\b\b\b83%"
       ]
      },
      {
       "output_type": "stream",
       "stream": "stdout",
       "text": [
        "\b\b\b84%\b\b\b85%"
       ]
      },
      {
       "output_type": "stream",
       "stream": "stdout",
       "text": [
        "\b\b\b86%\b\b\b87%"
       ]
      },
      {
       "output_type": "stream",
       "stream": "stdout",
       "text": [
        "\b\b\b88%"
       ]
      },
      {
       "output_type": "stream",
       "stream": "stdout",
       "text": [
        "\b\b\b89%\b\b\b90%"
       ]
      },
      {
       "output_type": "stream",
       "stream": "stdout",
       "text": [
        "\b\b\b91%"
       ]
      },
      {
       "output_type": "stream",
       "stream": "stdout",
       "text": [
        "\b\b\b92%\b\b\b93%"
       ]
      },
      {
       "output_type": "stream",
       "stream": "stdout",
       "text": [
        "\b\b\b94%\r",
        "--file: hapmap10_auto-temporary.bed + hapmap10_auto-temporary.bim +\r\n",
        "hapmap10_auto-temporary.fam written.\r\n"
       ]
      },
      {
       "output_type": "stream",
       "stream": "stdout",
       "text": [
        "144082 variants loaded from .bim file.\r\n",
        "1184 people (589 males, 595 females) loaded from .fam.\r\n",
        "--exclude: 138890 variants remaining.\r\n",
        "Using 1 thread (no multithreaded calculations invoked).\r\n",
        "Before main variant filters, 988 founders and 196 nonfounders present.\r\n",
        "Calculating allele frequencies... 0%\b\b1%\b\b2%\b\b3%\b\b4%\b\b5%\b\b6%\b\b7%\b\b8%\b\b9%\b\b10%\b\b\b11%\b\b\b12%\b\b\b13%\b\b\b14%\b\b\b15%\b\b\b16%\b\b\b17%\b\b\b18%\b\b\b19%\b\b\b20%\b\b\b21%\b\b\b22%\b\b\b23%\b\b\b24%\b\b\b25%\b\b\b26%\b\b\b27%\b\b\b28%\b\b\b29%\b\b\b30%\b\b\b31%\b\b\b32%\b\b\b33%\b\b\b34%\b\b\b35%\b\b\b36%\b\b\b37%\b\b\b38%\b\b\b39%\b\b\b40%\b\b\b41%\b\b\b42%\b\b\b43%\b\b\b44%\b\b\b45%\b\b\b46%\b\b\b47%\b\b\b48%\b\b\b49%\b\b\b50%\b\b\b51%\b\b\b52%\b\b\b53%\b\b\b54%\b\b\b55%\b\b\b56%\b\b\b57%\b\b\b58%\b\b\b59%\b\b\b60%\b\b\b61%\b\b\b62%\b\b\b63%\b\b\b64%\b\b\b65%\b\b\b66%\b\b\b67%\b\b\b68%\b\b\b69%\b\b\b70%\b\b\b71%\b\b\b72%\b\b\b73%\b\b\b74%\b\b\b75%\b\b\b76%\b\b\b77%\b\b\b78%\b\b\b79%\b\b\b80%\b\b\b81%\b\b\b82%\b\b\b83%\b\b\b84%\b\b\b85%\b\b\b86%\b\b\b87%\b\b\b88%\b\b\b89%\b\b\b90%\b\b\b91%\b\b\b92%\b\b\b93%\b\b\b94%\b\b\b95%\b\b\b96%\b\b\b97%\b\b\b98%\b\b\b99%\b\b\b\b done.\r\n",
        "Total genotyping rate is 0.997733.\r\n",
        "138890 variants and 1184 people pass filters and QC.\r\n",
        "Note: No phenotypes present.\r\n"
       ]
      },
      {
       "output_type": "stream",
       "stream": "stdout",
       "text": [
        "--recode to hapmap10_auto.ped + hapmap10_auto.map ... 0%\b\b1%"
       ]
      },
      {
       "output_type": "stream",
       "stream": "stdout",
       "text": [
        "\b\b2%"
       ]
      },
      {
       "output_type": "stream",
       "stream": "stdout",
       "text": [
        "\b\b3%"
       ]
      },
      {
       "output_type": "stream",
       "stream": "stdout",
       "text": [
        "\b\b4%"
       ]
      },
      {
       "output_type": "stream",
       "stream": "stdout",
       "text": [
        "\b\b5%"
       ]
      },
      {
       "output_type": "stream",
       "stream": "stdout",
       "text": [
        "\b\b6%"
       ]
      },
      {
       "output_type": "stream",
       "stream": "stdout",
       "text": [
        "\b\b7%"
       ]
      },
      {
       "output_type": "stream",
       "stream": "stdout",
       "text": [
        "\b\b8%"
       ]
      },
      {
       "output_type": "stream",
       "stream": "stdout",
       "text": [
        "\b\b9%"
       ]
      },
      {
       "output_type": "stream",
       "stream": "stdout",
       "text": [
        "\b\b10%"
       ]
      },
      {
       "output_type": "stream",
       "stream": "stdout",
       "text": [
        "\b\b\b11%"
       ]
      },
      {
       "output_type": "stream",
       "stream": "stdout",
       "text": [
        "\b\b\b12%"
       ]
      },
      {
       "output_type": "stream",
       "stream": "stdout",
       "text": [
        "\b\b\b13%"
       ]
      },
      {
       "output_type": "stream",
       "stream": "stdout",
       "text": [
        "\b\b\b14%"
       ]
      },
      {
       "output_type": "stream",
       "stream": "stdout",
       "text": [
        "\b\b\b15%"
       ]
      },
      {
       "output_type": "stream",
       "stream": "stdout",
       "text": [
        "\b\b\b16%"
       ]
      },
      {
       "output_type": "stream",
       "stream": "stdout",
       "text": [
        "\b\b\b17%"
       ]
      },
      {
       "output_type": "stream",
       "stream": "stdout",
       "text": [
        "\b\b\b18%"
       ]
      },
      {
       "output_type": "stream",
       "stream": "stdout",
       "text": [
        "\b\b\b19%"
       ]
      },
      {
       "output_type": "stream",
       "stream": "stdout",
       "text": [
        "\b\b\b20%"
       ]
      },
      {
       "output_type": "stream",
       "stream": "stdout",
       "text": [
        "\b\b\b21%"
       ]
      },
      {
       "output_type": "stream",
       "stream": "stdout",
       "text": [
        "\b\b\b22%"
       ]
      },
      {
       "output_type": "stream",
       "stream": "stdout",
       "text": [
        "\b\b\b23%"
       ]
      },
      {
       "output_type": "stream",
       "stream": "stdout",
       "text": [
        "\b\b\b24%\b\b\b25%"
       ]
      },
      {
       "output_type": "stream",
       "stream": "stdout",
       "text": [
        "\b\b\b26%"
       ]
      },
      {
       "output_type": "stream",
       "stream": "stdout",
       "text": [
        "\b\b\b27%"
       ]
      },
      {
       "output_type": "stream",
       "stream": "stdout",
       "text": [
        "\b\b\b28%"
       ]
      },
      {
       "output_type": "stream",
       "stream": "stdout",
       "text": [
        "\b\b\b29%"
       ]
      },
      {
       "output_type": "stream",
       "stream": "stdout",
       "text": [
        "\b\b\b30%"
       ]
      },
      {
       "output_type": "stream",
       "stream": "stdout",
       "text": [
        "\b\b\b31%"
       ]
      },
      {
       "output_type": "stream",
       "stream": "stdout",
       "text": [
        "\b\b\b32%"
       ]
      },
      {
       "output_type": "stream",
       "stream": "stdout",
       "text": [
        "\b\b\b33%"
       ]
      },
      {
       "output_type": "stream",
       "stream": "stdout",
       "text": [
        "\b\b\b34%"
       ]
      },
      {
       "output_type": "stream",
       "stream": "stdout",
       "text": [
        "\b\b\b35%"
       ]
      },
      {
       "output_type": "stream",
       "stream": "stdout",
       "text": [
        "\b\b\b36%"
       ]
      },
      {
       "output_type": "stream",
       "stream": "stdout",
       "text": [
        "\b\b\b37%"
       ]
      },
      {
       "output_type": "stream",
       "stream": "stdout",
       "text": [
        "\b\b\b38%"
       ]
      },
      {
       "output_type": "stream",
       "stream": "stdout",
       "text": [
        "\b\b\b39%"
       ]
      },
      {
       "output_type": "stream",
       "stream": "stdout",
       "text": [
        "\b\b\b40%"
       ]
      },
      {
       "output_type": "stream",
       "stream": "stdout",
       "text": [
        "\b\b\b41%"
       ]
      },
      {
       "output_type": "stream",
       "stream": "stdout",
       "text": [
        "\b\b\b42%"
       ]
      },
      {
       "output_type": "stream",
       "stream": "stdout",
       "text": [
        "\b\b\b43%"
       ]
      },
      {
       "output_type": "stream",
       "stream": "stdout",
       "text": [
        "\b\b\b44%"
       ]
      },
      {
       "output_type": "stream",
       "stream": "stdout",
       "text": [
        "\b\b\b45%\b\b\b46%"
       ]
      },
      {
       "output_type": "stream",
       "stream": "stdout",
       "text": [
        "\b\b\b47%"
       ]
      },
      {
       "output_type": "stream",
       "stream": "stdout",
       "text": [
        "\b\b\b48%"
       ]
      },
      {
       "output_type": "stream",
       "stream": "stdout",
       "text": [
        "\b\b\b49%"
       ]
      },
      {
       "output_type": "stream",
       "stream": "stdout",
       "text": [
        "\b\b\b50%"
       ]
      },
      {
       "output_type": "stream",
       "stream": "stdout",
       "text": [
        "\b\b\b51%"
       ]
      },
      {
       "output_type": "stream",
       "stream": "stdout",
       "text": [
        "\b\b\b52%"
       ]
      },
      {
       "output_type": "stream",
       "stream": "stdout",
       "text": [
        "\b\b\b53%"
       ]
      },
      {
       "output_type": "stream",
       "stream": "stdout",
       "text": [
        "\b\b\b54%"
       ]
      },
      {
       "output_type": "stream",
       "stream": "stdout",
       "text": [
        "\b\b\b55%"
       ]
      },
      {
       "output_type": "stream",
       "stream": "stdout",
       "text": [
        "\b\b\b56%"
       ]
      },
      {
       "output_type": "stream",
       "stream": "stdout",
       "text": [
        "\b\b\b57%"
       ]
      },
      {
       "output_type": "stream",
       "stream": "stdout",
       "text": [
        "\b\b\b58%"
       ]
      },
      {
       "output_type": "stream",
       "stream": "stdout",
       "text": [
        "\b\b\b59%"
       ]
      },
      {
       "output_type": "stream",
       "stream": "stdout",
       "text": [
        "\b\b\b60%"
       ]
      },
      {
       "output_type": "stream",
       "stream": "stdout",
       "text": [
        "\b\b\b61%"
       ]
      },
      {
       "output_type": "stream",
       "stream": "stdout",
       "text": [
        "\b\b\b62%"
       ]
      },
      {
       "output_type": "stream",
       "stream": "stdout",
       "text": [
        "\b\b\b63%"
       ]
      },
      {
       "output_type": "stream",
       "stream": "stdout",
       "text": [
        "\b\b\b64%"
       ]
      },
      {
       "output_type": "stream",
       "stream": "stdout",
       "text": [
        "\b\b\b65%"
       ]
      },
      {
       "output_type": "stream",
       "stream": "stdout",
       "text": [
        "\b\b\b66%"
       ]
      },
      {
       "output_type": "stream",
       "stream": "stdout",
       "text": [
        "\b\b\b67%"
       ]
      },
      {
       "output_type": "stream",
       "stream": "stdout",
       "text": [
        "\b\b\b68%"
       ]
      },
      {
       "output_type": "stream",
       "stream": "stdout",
       "text": [
        "\b\b\b69%"
       ]
      },
      {
       "output_type": "stream",
       "stream": "stdout",
       "text": [
        "\b\b\b70%"
       ]
      },
      {
       "output_type": "stream",
       "stream": "stdout",
       "text": [
        "\b\b\b71%"
       ]
      },
      {
       "output_type": "stream",
       "stream": "stdout",
       "text": [
        "\b\b\b72%"
       ]
      },
      {
       "output_type": "stream",
       "stream": "stdout",
       "text": [
        "\b\b\b73%"
       ]
      },
      {
       "output_type": "stream",
       "stream": "stdout",
       "text": [
        "\b\b\b74%"
       ]
      },
      {
       "output_type": "stream",
       "stream": "stdout",
       "text": [
        "\b\b\b75%"
       ]
      },
      {
       "output_type": "stream",
       "stream": "stdout",
       "text": [
        "\b\b\b76%"
       ]
      },
      {
       "output_type": "stream",
       "stream": "stdout",
       "text": [
        "\b\b\b77%"
       ]
      },
      {
       "output_type": "stream",
       "stream": "stdout",
       "text": [
        "\b\b\b78%"
       ]
      },
      {
       "output_type": "stream",
       "stream": "stdout",
       "text": [
        "\b\b\b79%"
       ]
      },
      {
       "output_type": "stream",
       "stream": "stdout",
       "text": [
        "\b\b\b80%"
       ]
      },
      {
       "output_type": "stream",
       "stream": "stdout",
       "text": [
        "\b\b\b81%"
       ]
      },
      {
       "output_type": "stream",
       "stream": "stdout",
       "text": [
        "\b\b\b82%"
       ]
      },
      {
       "output_type": "stream",
       "stream": "stdout",
       "text": [
        "\b\b\b83%"
       ]
      },
      {
       "output_type": "stream",
       "stream": "stdout",
       "text": [
        "\b\b\b84%"
       ]
      },
      {
       "output_type": "stream",
       "stream": "stdout",
       "text": [
        "\b\b\b85%"
       ]
      },
      {
       "output_type": "stream",
       "stream": "stdout",
       "text": [
        "\b\b\b86%"
       ]
      },
      {
       "output_type": "stream",
       "stream": "stdout",
       "text": [
        "\b\b\b87%\b\b\b88%"
       ]
      },
      {
       "output_type": "stream",
       "stream": "stdout",
       "text": [
        "\b\b\b89%"
       ]
      },
      {
       "output_type": "stream",
       "stream": "stdout",
       "text": [
        "\b\b\b90%"
       ]
      },
      {
       "output_type": "stream",
       "stream": "stdout",
       "text": [
        "\b\b\b91%"
       ]
      },
      {
       "output_type": "stream",
       "stream": "stdout",
       "text": [
        "\b\b\b92%"
       ]
      },
      {
       "output_type": "stream",
       "stream": "stdout",
       "text": [
        "\b\b\b93%\b\b\b94%"
       ]
      },
      {
       "output_type": "stream",
       "stream": "stdout",
       "text": [
        "\b\b\b95%"
       ]
      },
      {
       "output_type": "stream",
       "stream": "stdout",
       "text": [
        "\b\b\b96%"
       ]
      },
      {
       "output_type": "stream",
       "stream": "stdout",
       "text": [
        "\b\b\b97%"
       ]
      },
      {
       "output_type": "stream",
       "stream": "stdout",
       "text": [
        "\b\b\b98%"
       ]
      },
      {
       "output_type": "stream",
       "stream": "stdout",
       "text": [
        "\b\b\b99%"
       ]
      },
      {
       "output_type": "stream",
       "stream": "stdout",
       "text": [
        "\b\b\bdone.\r\n"
       ]
      },
      {
       "output_type": "stream",
       "stream": "stdout",
       "text": [
        "PLINK v1.90b2t 64-bit (20 Dec 2014)        https://www.cog-genomics.org/plink2\r\n",
        "(C) 2005-2014 Shaun Purcell, Christopher Chang   GNU General Public License v3\r\n",
        "Logging to hapmap1_auto.log.\r\n",
        "Note: --noweb has no effect since no web check is implemented yet.\r\n",
        "32095 MB RAM detected; reserving 16047 MB for main workspace.\r\n",
        "Scanning .ped file... 0%\b\b1%\b\b1%\b\b1%\b\b1%\b\b1%\b\b1%\b\b1%\b\b1%\b\b1%\b\b1%\b\b1%\b\b1%\b\b2%\b\b2%\b\b2%\b\b2%\b\b2%\b\b2%\b\b2%\b\b2%\b\b2%\b\b2%\b\b2%\b\b2%\b\b3%\b\b3%\b\b3%\b\b3%\b\b3%\b\b3%\b\b3%\b\b3%\b\b3%\b\b3%\b\b3%\b\b3%\b\b4%\b\b4%\b\b4%\b\b4%\b\b4%\b\b4%\b\b4%\b\b4%\b\b4%\b\b4%\b\b4%\b\b4%\b\b5%\b\b5%\b\b5%\b\b5%\b\b5%\b\b5%\b\b5%\b\b5%\b\b5%\b\b5%\b\b5%\b\b5%\b\b6%\b\b6%\b\b6%\b\b6%\b\b6%\b\b6%\b\b6%\b\b6%\b\b6%\b\b6%\b\b6%\b\b7%\b\b7%\b\b7%\b\b7%\b\b7%\b\b7%\b\b7%\b\b7%\b\b7%\b\b7%\b\b7%\b\b7%\b\b8%\b\b8%\b\b8%\b\b8%\b\b8%\b\b8%\b\b8%\b\b8%\b\b8%\b\b8%\b\b8%\b\b8%\b\b9%\b\b9%\b\b9%\b\b9%\b\b9%\b\b9%\b\b9%\b\b9%\b\b9%\b\b9%\b\b9%\b\b9%\b\b10%\b\b\b10%\b\b\b10%\b\b\b10%\b\b\b10%\b\b\b10%\b\b\b10%\b\b\b10%\b\b\b10%\b\b\b10%\b\b\b10%\b\b\b10%\b\b\b11%\b\b\b11%\b\b\b11%\b\b\b11%\b\b\b11%\b\b\b11%\b\b\b11%\b\b\b11%\b\b\b11%\b\b\b11%\b\b\b11%\b\b\b11%\b\b\b12%\b\b\b12%\b\b\b12%\b\b\b12%\b\b\b12%\b\b\b12%\b\b\b12%\b\b\b12%\b\b\b12%\b\b\b12%\b\b\b12%\b\b\b13%\b\b\b13%\b\b\b13%\b\b\b13%\b\b\b13%\b\b\b13%\b\b\b13%\b\b\b13%\b\b\b13%\b\b\b13%\b\b\b13%\b\b\b13%\b\b\b14%\b\b\b14%\b\b\b14%\b\b\b14%\b\b\b14%\b\b\b14%\b\b\b14%\b\b\b14%\b\b\b14%"
       ]
      },
      {
       "output_type": "stream",
       "stream": "stdout",
       "text": [
        "\b\b\b14%\b\b\b14%\b\b\b14%\b\b\b15%\b\b\b15%\b\b\b15%\b\b\b15%\b\b\b15%\b\b\b15%\b\b\b15%\b\b\b15%\b\b\b15%\b\b\b15%\b\b\b15%\b\b\b15%\b\b\b16%\b\b\b16%\b\b\b16%\b\b\b16%\b\b\b16%\b\b\b16%\b\b\b16%\b\b\b16%\b\b\b16%\b\b\b16%\b\b\b16%\b\b\b16%\b\b\b17%\b\b\b17%\b\b\b17%\b\b\b17%\b\b\b17%\b\b\b17%\b\b\b17%\b\b\b17%\b\b\b17%\b\b\b17%\b\b\b17%\b\b\b17%\b\b\b18%\b\b\b18%\b\b\b18%\b\b\b18%\b\b\b18%\b\b\b18%\b\b\b18%\b\b\b18%\b\b\b18%\b\b\b18%\b\b\b18%\b\b\b19%\b\b\b19%\b\b\b19%\b\b\b19%\b\b\b19%\b\b\b19%\b\b\b19%\b\b\b19%\b\b\b19%\b\b\b19%\b\b\b19%\b\b\b19%\b\b\b20%\b\b\b20%\b\b\b20%\b\b\b20%\b\b\b20%\b\b\b20%\b\b\b20%\b\b\b20%\b\b\b20%\b\b\b20%\b\b\b20%\b\b\b20%\b\b\b21%\b\b\b21%\b\b\b21%\b\b\b21%\b\b\b21%\b\b\b21%\b\b\b21%\b\b\b21%\b\b\b21%\b\b\b21%\b\b\b21%\b\b\b21%\b\b\b22%\b\b\b22%\b\b\b22%\b\b\b22%\b\b\b22%\b\b\b22%\b\b\b22%\b\b\b22%\b\b\b22%\b\b\b22%\b\b\b22%\b\b\b22%\b\b\b23%\b\b\b23%\b\b\b23%\b\b\b23%\b\b\b23%\b\b\b23%\b\b\b23%\b\b\b23%\b\b\b23%\b\b\b23%\b\b\b23%\b\b\b23%\b\b\b24%\b\b\b24%\b\b\b24%\b\b\b24%\b\b\b24%\b\b\b24%\b\b\b24%\b\b\b24%\b\b\b24%\b\b\b24%\b\b\b24%\b\b\b25%\b\b\b25%\b\b\b25%\b\b\b25%\b\b\b25%\b\b\b25%\b\b\b25%\b\b\b25%\b\b\b25%\b\b\b25%\b\b\b25%\b\b\b25%\b\b\b26%\b\b\b26%\b\b\b26%\b\b\b26%\b\b\b26%\b\b\b26%\b\b\b26%\b\b\b26%\b\b\b26%\b\b\b26%\b\b\b26%\b\b\b26%\b\b\b27%\b\b\b27%\b\b\b27%\b\b\b27%\b\b\b27%\b\b\b27%\b\b\b27%\b\b\b27%\b\b\b27%\b\b\b27%\b\b\b27%\b\b\b27%\b\b\b28%\b\b\b28%\b\b\b28%\b\b\b28%\b\b\b28%\b\b\b28%\b\b\b28%\b\b\b28%\b\b\b28%\b\b\b28%\b\b\b28%\b\b\b28%\b\b\b29%\b\b\b29%\b\b\b29%\b\b\b29%\b\b\b29%\b\b\b29%\b\b\b29%\b\b\b29%\b\b\b29%\b\b\b29%\b\b\b29%\b\b\b29%\b\b\b30%\b\b\b30%\b\b\b30%\b\b\b30%\b\b\b30%\b\b\b30%\b\b\b30%\b\b\b30%\b\b\b30%\b\b\b30%\b\b\b30%\b\b\b30%\b\b\b31%\b\b\b31%"
       ]
      },
      {
       "output_type": "stream",
       "stream": "stdout",
       "text": [
        "\b\b\b31%\b\b\b31%\b\b\b31%\b\b\b31%\b\b\b31%\b\b\b31%\b\b\b31%\b\b\b31%\b\b\b31%\b\b\b32%\b\b\b32%\b\b\b32%\b\b\b32%\b\b\b32%\b\b\b32%\b\b\b32%\b\b\b32%\b\b\b32%\b\b\b32%\b\b\b32%\b\b\b32%\b\b\b33%\b\b\b33%\b\b\b33%\b\b\b33%\b\b\b33%\b\b\b33%\b\b\b33%\b\b\b33%\b\b\b33%\b\b\b33%\b\b\b33%\b\b\b33%\b\b\b34%\b\b\b34%\b\b\b34%\b\b\b34%\b\b\b34%\b\b\b34%\b\b\b34%\b\b\b34%\b\b\b34%\b\b\b34%\b\b\b34%\b\b\b34%\b\b\b35%\b\b\b35%\b\b\b35%\b\b\b35%\b\b\b35%\b\b\b35%\b\b\b35%\b\b\b35%\b\b\b35%\b\b\b35%\b\b\b35%\b\b\b35%\b\b\b36%\b\b\b36%\b\b\b36%\b\b\b36%\b\b\b36%\b\b\b36%\b\b\b36%\b\b\b36%\b\b\b36%\b\b\b36%\b\b\b36%\b\b\b36%\b\b\b37%\b\b\b37%\b\b\b37%\b\b\b37%\b\b\b37%\b\b\b37%\b\b\b37%\b\b\b37%\b\b\b37%\b\b\b37%\b\b\b37%\b\b\b38%\b\b\b38%\b\b\b38%\b\b\b38%\b\b\b38%\b\b\b38%\b\b\b38%\b\b\b38%\b\b\b38%\b\b\b38%\b\b\b38%\b\b\b38%\b\b\b39%\b\b\b39%\b\b\b39%\b\b\b39%\b\b\b39%\b\b\b39%\b\b\b39%\b\b\b39%\b\b\b39%\b\b\b39%\b\b\b39%\b\b\b39%\b\b\b40%\b\b\b40%\b\b\b40%\b\b\b40%\b\b\b40%\b\b\b40%\b\b\b40%\b\b\b40%\b\b\b40%\b\b\b40%\b\b\b40%\b\b\b40%\b\b\b41%\b\b\b41%\b\b\b41%\b\b\b41%\b\b\b41%\b\b\b41%\b\b\b41%\b\b\b41%\b\b\b41%\b\b\b41%\b\b\b41%\b\b\b41%\b\b\b42%\b\b\b42%\b\b\b42%\b\b\b42%\b\b\b42%\b\b\b42%\b\b\b42%\b\b\b42%\b\b\b42%\b\b\b42%\b\b\b42%\b\b\b42%\b\b\b43%\b\b\b43%\b\b\b43%\b\b\b43%\b\b\b43%\b\b\b43%\b\b\b43%\b\b\b43%\b\b\b43%\b\b\b43%\b\b\b43%\b\b\b44%\b\b\b44%\b\b\b44%\b\b\b44%\b\b\b44%\b\b\b44%\b\b\b44%\b\b\b44%\b\b\b44%\b\b\b44%\b\b\b44%\b\b\b44%\b\b\b45%\b\b\b45%\b\b\b45%\b\b\b45%\b\b\b45%\b\b\b45%\b\b\b45%\b\b\b45%\b\b\b45%\b\b\b45%\b\b\b45%\b\b\b45%\b\b\b46%\b\b\b46%\b\b\b46%\b\b\b46%\b\b\b46%\b\b\b46%\b\b\b46%\b\b\b46%\b\b\b46%\b\b\b46%\b\b\b46%\b\b\b46%\b\b\b47%\b\b\b47%\b\b\b47%\b\b\b47%"
       ]
      },
      {
       "output_type": "stream",
       "stream": "stdout",
       "text": [
        "\b\b\b47%\b\b\b47%\b\b\b47%\b\b\b47%\b\b\b47%\b\b\b47%\b\b\b47%\b\b\b47%\b\b\b48%\b\b\b48%\b\b\b48%\b\b\b48%\b\b\b48%\b\b\b48%\b\b\b48%\b\b\b48%\b\b\b48%\b\b\b48%\b\b\b48%\b\b\b48%\b\b\b49%\b\b\b49%\b\b\b49%\b\b\b49%\b\b\b49%\b\b\b49%\b\b\b49%\b\b\b49%\b\b\b49%\b\b\b49%\b\b\b49%\b\b\b50%\b\b\b50%\b\b\b50%\b\b\b50%\b\b\b50%\b\b\b50%\b\b\b50%\b\b\b50%\b\b\b50%\b\b\b50%\b\b\b50%\b\b\b50%\b\b\b51%\b\b\b51%\b\b\b51%\b\b\b51%\b\b\b51%\b\b\b51%\b\b\b51%\b\b\b51%\b\b\b51%\b\b\b51%\b\b\b51%\b\b\b51%\b\b\b52%\b\b\b52%\b\b\b52%\b\b\b52%\b\b\b52%\b\b\b52%\b\b\b52%\b\b\b52%\b\b\b52%\b\b\b52%\b\b\b52%\b\b\b52%\b\b\b53%\b\b\b53%\b\b\b53%\b\b\b53%\b\b\b53%\b\b\b53%\b\b\b53%\b\b\b53%\b\b\b53%\b\b\b53%\b\b\b53%\b\b\b53%\b\b\b54%\b\b\b54%\b\b\b54%\b\b\b54%\b\b\b54%\b\b\b54%\b\b\b54%\b\b\b54%\b\b\b54%\b\b\b54%\b\b\b54%\b\b\b54%\b\b\b55%\b\b\b55%\b\b\b55%\b\b\b55%\b\b\b55%\b\b\b55%\b\b\b55%\b\b\b55%\b\b\b55%\b\b\b55%\b\b\b55%\b\b\b55%\b\b\b56%\b\b\b56%\b\b\b56%\b\b\b56%\b\b\b56%\b\b\b56%\b\b\b56%\b\b\b56%\b\b\b56%\b\b\b56%\b\b\b56%\b\b\b57%\b\b\b57%\b\b\b57%\b\b\b57%\b\b\b57%\b\b\b57%\b\b\b57%\b\b\b57%\b\b\b57%\b\b\b57%\b\b\b57%\b\b\b57%\b\b\b58%\b\b\b58%\b\b\b58%\b\b\b58%\b\b\b58%\b\b\b58%\b\b\b58%\b\b\b58%\b\b\b58%\b\b\b58%\b\b\b58%\b\b\b58%\b\b\b59%\b\b\b59%\b\b\b59%\b\b\b59%\b\b\b59%\b\b\b59%\b\b\b59%\b\b\b59%\b\b\b59%\b\b\b59%\b\b\b59%\b\b\b59%\b\b\b60%\b\b\b60%\b\b\b60%\b\b\b60%\b\b\b60%\b\b\b60%\b\b\b60%\b\b\b60%\b\b\b60%\b\b\b60%\b\b\b60%\b\b\b60%\b\b\b61%\b\b\b61%\b\b\b61%\b\b\b61%\b\b\b61%\b\b\b61%\b\b\b61%\b\b\b61%\b\b\b61%\b\b\b61%\b\b\b61%\b\b\b61%\b\b\b62%\b\b\b62%\b\b\b62%\b\b\b62%\b\b\b62%\b\b\b62%\b\b\b62%\b\b\b62%\b\b\b62%\b\b\b62%\b\b\b62%\b\b\b63%\b\b\b63%\b\b\b63%\b\b\b63%\b\b\b63%\b\b\b63%\b\b\b63%\b\b\b63%\b\b\b63%\b\b\b63%\b\b\b63%\b\b\b63%\b\b\b64%\b\b\b64%\b\b\b64%\b\b\b64%\b\b\b64%\b\b\b64%\b\b\b64%\b\b\b64%\b\b\b64%\b\b\b64%\b\b\b64%\b\b\b64%\b\b\b65%\b\b\b65%\b\b\b65%\b\b\b65%\b\b\b65%"
       ]
      },
      {
       "output_type": "stream",
       "stream": "stdout",
       "text": [
        "\b\b\b65%\b\b\b65%\b\b\b65%\b\b\b65%\b\b\b65%\b\b\b65%\b\b\b65%\b\b\b66%\b\b\b66%\b\b\b66%\b\b\b66%\b\b\b66%\b\b\b66%\b\b\b66%\b\b\b66%\b\b\b66%\b\b\b66%\b\b\b66%\b\b\b66%\b\b\b67%\b\b\b67%\b\b\b67%\b\b\b67%\b\b\b67%\b\b\b67%\b\b\b67%\b\b\b67%\b\b\b67%\b\b\b67%\b\b\b67%\b\b\b67%\b\b\b68%\b\b\b68%\b\b\b68%\b\b\b68%\b\b\b68%\b\b\b68%\b\b\b68%\b\b\b68%\b\b\b68%\b\b\b68%\b\b\b68%\b\b\b69%\b\b\b69%\b\b\b69%\b\b\b69%\b\b\b69%\b\b\b69%\b\b\b69%\b\b\b69%\b\b\b69%\b\b\b69%\b\b\b69%\b\b\b69%\b\b\b70%\b\b\b70%\b\b\b70%\b\b\b70%\b\b\b70%\b\b\b70%\b\b\b70%\b\b\b70%\b\b\b70%\b\b\b70%\b\b\b70%\b\b\b70%\b\b\b71%\b\b\b71%\b\b\b71%\b\b\b71%\b\b\b71%\b\b\b71%\b\b\b71%\b\b\b71%\b\b\b71%\b\b\b71%\b\b\b71%\b\b\b71%\b\b\b72%\b\b\b72%\b\b\b72%\b\b\b72%\b\b\b72%\b\b\b72%\b\b\b72%\b\b\b72%\b\b\b72%\b\b\b72%\b\b\b72%\b\b\b72%\b\b\b73%\b\b\b73%\b\b\b73%\b\b\b73%\b\b\b73%\b\b\b73%\b\b\b73%\b\b\b73%\b\b\b73%\b\b\b73%\b\b\b73%\b\b\b73%\b\b\b74%\b\b\b74%\b\b\b74%\b\b\b74%\b\b\b74%\b\b\b74%\b\b\b74%\b\b\b74%\b\b\b74%\b\b\b74%\b\b\b74%\b\b\b74%\b\b\b75%\b\b\b75%\b\b\b75%\b\b\b75%\b\b\b75%\b\b\b75%\b\b\b75%\b\b\b75%\b\b\b75%\b\b\b75%\b\b\b75%\b\b\b76%\b\b\b76%\b\b\b76%\b\b\b76%\b\b\b76%\b\b\b76%\b\b\b76%\b\b\b76%\b\b\b76%\b\b\b76%\b\b\b76%\b\b\b76%\b\b\b77%\b\b\b77%\b\b\b77%\b\b\b77%\b\b\b77%\b\b\b77%\b\b\b77%\b\b\b77%\b\b\b77%\b\b\b77%\b\b\b77%\b\b\b77%\b\b\b78%\b\b\b78%\b\b\b78%\b\b\b78%\b\b\b78%\b\b\b78%\b\b\b78%\b\b\b78%\b\b\b78%\b\b\b78%\b\b\b78%\b\b\b78%\b\b\b79%\b\b\b79%\b\b\b79%\b\b\b79%\b\b\b79%\b\b\b79%\b\b\b79%\b\b\b79%\b\b\b79%\b\b\b79%\b\b\b79%\b\b\b79%\b\b\b80%\b\b\b80%\b\b\b80%\b\b\b80%\b\b\b80%\b\b\b80%\b\b\b80%\b\b\b80%\b\b\b80%\b\b\b80%\b\b\b80%\b\b\b80%\b\b\b81%\b\b\b81%\b\b\b81%\b\b\b81%\b\b\b81%\b\b\b81%\b\b\b81%\b\b\b81%\b\b\b81%\b\b\b81%\b\b\b81%\b\b\b82%\b\b\b82%\b\b\b82%\b\b\b82%\b\b\b82%\b\b\b82%\b\b\b82%\b\b\b82%\b\b\b82%\b\b\b82%\b\b\b82%\b\b\b82%\b\b\b83%\b\b\b83%\b\b\b83%\b\b\b83%"
       ]
      },
      {
       "output_type": "stream",
       "stream": "stdout",
       "text": [
        "\b\b\b83%\b\b\b83%\b\b\b83%\b\b\b83%\b\b\b83%\b\b\b83%\b\b\b83%\b\b\b83%\b\b\b84%\b\b\b84%\b\b\b84%\b\b\b84%\b\b\b84%\b\b\b84%\b\b\b84%\b\b\b84%\b\b\b84%\b\b\b84%\b\b\b84%\b\b\b84%\b\b\b85%\b\b\b85%\b\b\b85%\b\b\b85%\b\b\b85%\b\b\b85%\b\b\b85%\b\b\b85%\b\b\b85%\b\b\b85%\b\b\b85%\b\b\b85%\b\b\b86%\b\b\b86%\b\b\b86%\b\b\b86%\b\b\b86%\b\b\b86%\b\b\b86%\b\b\b86%\b\b\b86%\b\b\b86%\b\b\b86%\b\b\b86%\b\b\b87%\b\b\b87%\b\b\b87%\b\b\b87%\b\b\b87%\b\b\b87%\b\b\b87%\b\b\b87%\b\b\b87%\b\b\b87%\b\b\b87%\b\b\b88%\b\b\b88%\b\b\b88%\b\b\b88%\b\b\b88%\b\b\b88%\b\b\b88%\b\b\b88%\b\b\b88%\b\b\b88%\b\b\b88%\b\b\b88%\b\b\b89%\b\b\b89%\b\b\b89%\b\b\b89%\b\b\b89%\b\b\b89%\b\b\b89%\b\b\b89%\b\b\b89%\b\b\b89%\b\b\b89%\b\b\b89%\b\b\b90%\b\b\b90%\b\b\b90%\b\b\b90%\b\b\b90%\b\b\b90%\b\b\b90%\b\b\b90%\b\b\b90%\b\b\b90%\b\b\b90%\b\b\b90%\b\b\b91%\b\b\b91%\b\b\b91%\b\b\b91%\b\b\b91%\b\b\b91%\b\b\b91%\b\b\b91%\b\b\b91%\b\b\b91%\b\b\b91%\b\b\b91%\b\b\b92%\b\b\b92%\b\b\b92%\b\b\b92%\b\b\b92%\b\b\b92%\b\b\b92%\b\b\b92%\b\b\b92%\b\b\b92%\b\b\b92%\b\b\b92%\b\b\b93%\b\b\b93%\b\b\b93%\b\b\b93%\b\b\b93%\b\b\b93%\b\b\b93%\b\b\b93%\b\b\b93%\b\b\b93%\b\b\b93%\b\b\b94%\b\b\b94%\b\b\b94%\b\b\b94%\b\b\b94%\b\b\b94%\b\b\b94%\b\b\b94%\b\b\b94%\b\b\b94%\b\b\b94%\b\b\b94%\b\b\b95%\b\b\b95%\b\b\b95%\b\b\b95%\b\b\b95%\b\b\b95%\b\b\b95%\b\b\b95%\b\b\b95%\b\b\b95%\b\b\b95%\b\b\b95%\b\b\b96%\b\b\b96%\b\b\b96%\b\b\b96%\b\b\b96%\b\b\b96%\b\b\b96%\b\b\b96%\b\b\b96%\b\b\b96%\b\b\b96%\b\b\b96%\b\b\b97%\b\b\b97%\b\b\b97%\b\b\b97%\b\b\b97%\b\b\b97%\b\b\b97%\b\b\b97%\b\b\b97%\b\b\b97%\b\b\b97%\b\b\b97%\b\b\b98%\b\b\b98%\b\b\b98%\b\b\b98%\b\b\b98%\b\b\b98%\b\b\b98%\b\b\b98%\b\b\b98%\b\b\b98%\b\b\b98%\b\b\b98%\b\b\b99%\b\b\b99%\b\b\b99%\b\b\b99%\b\b\b99%\b\b\b99%\b\b\b99%\b\b\b99%\b\b\b99%\b\b\b99%\b\b\b99%\b\b\b100%\r",
        ".ped scan complete (for binary autoconversion).\r\n",
        "Performing single-pass .bed write (14526 variants, 1184 people).\r\n",
        "0%\b\b1%"
       ]
      },
      {
       "output_type": "stream",
       "stream": "stdout",
       "text": [
        "\b\b2%\b\b3%\b\b4%\b\b5%\b\b6%\b\b7%\b\b8%\b\b9%\b\b10%\b\b\b11%\b\b\b12%\b\b\b13%\b\b\b14%\b\b\b15%\b\b\b16%\b\b\b17%\b\b\b18%\b\b\b19%\b\b\b20%\b\b\b21%\b\b\b22%\b\b\b23%\b\b\b24%\b\b\b25%\b\b\b26%\b\b\b27%\b\b\b28%\b\b\b29%\b\b\b30%\b\b\b31%"
       ]
      },
      {
       "output_type": "stream",
       "stream": "stdout",
       "text": [
        "\b\b\b32%\b\b\b33%\b\b\b34%\b\b\b35%\b\b\b36%\b\b\b37%\b\b\b38%\b\b\b39%\b\b\b40%\b\b\b41%\b\b\b42%\b\b\b43%\b\b\b44%\b\b\b45%\b\b\b46%\b\b\b47%\b\b\b48%\b\b\b49%\b\b\b50%\b\b\b51%\b\b\b52%\b\b\b53%\b\b\b54%\b\b\b55%\b\b\b56%\b\b\b57%\b\b\b58%\b\b\b59%\b\b\b60%\b\b\b61%\b\b\b62%\b\b\b63%"
       ]
      },
      {
       "output_type": "stream",
       "stream": "stdout",
       "text": [
        "\b\b\b64%\b\b\b65%\b\b\b66%\b\b\b67%\b\b\b68%\b\b\b69%\b\b\b70%\b\b\b71%\b\b\b72%\b\b\b73%\b\b\b74%\b\b\b75%\b\b\b76%\b\b\b77%\b\b\b78%\b\b\b79%\b\b\b80%\b\b\b81%\b\b\b82%\b\b\b83%\b\b\b84%\b\b\b85%\b\b\b86%\b\b\b87%\b\b\b88%\b\b\b89%\b\b\b90%\b\b\b91%\b\b\b92%\b\b\b93%\b\b\b94%\r",
        "--file: hapmap1_auto-temporary.bed + hapmap1_auto-temporary.bim +\r\n",
        "hapmap1_auto-temporary.fam written.\r\n"
       ]
      },
      {
       "output_type": "stream",
       "stream": "stdout",
       "text": [
        "14526 variants loaded from .bim file.\r\n",
        "1184 people (589 males, 595 females) loaded from .fam.\r\n",
        "--exclude: 14059 variants remaining.\r\n",
        "Using 1 thread (no multithreaded calculations invoked).\r\n",
        "Before main variant filters, 988 founders and 196 nonfounders present.\r\n",
        "Calculating allele frequencies... 0%\b\b1%\b\b2%\b\b3%\b\b4%\b\b5%\b\b6%\b\b7%\b\b8%\b\b9%\b\b10%\b\b\b11%\b\b\b12%\b\b\b13%\b\b\b14%\b\b\b15%\b\b\b16%\b\b\b17%\b\b\b18%\b\b\b19%\b\b\b20%\b\b\b21%\b\b\b22%\b\b\b23%\b\b\b24%\b\b\b25%\b\b\b26%\b\b\b27%\b\b\b28%\b\b\b29%\b\b\b30%\b\b\b31%\b\b\b32%\b\b\b33%\b\b\b34%\b\b\b35%\b\b\b36%\b\b\b37%\b\b\b38%\b\b\b39%\b\b\b40%\b\b\b41%\b\b\b42%\b\b\b43%\b\b\b44%\b\b\b45%\b\b\b46%\b\b\b47%\b\b\b48%\b\b\b49%\b\b\b50%\b\b\b51%\b\b\b52%\b\b\b53%\b\b\b54%\b\b\b55%\b\b\b56%\b\b\b57%\b\b\b58%\b\b\b59%\b\b\b60%\b\b\b61%\b\b\b62%\b\b\b63%\b\b\b64%\b\b\b65%\b\b\b66%\b\b\b67%\b\b\b68%\b\b\b69%\b\b\b70%\b\b\b71%\b\b\b72%\b\b\b73%\b\b\b74%\b\b\b75%\b\b\b76%\b\b\b77%\b\b\b78%\b\b\b79%\b\b\b80%\b\b\b81%\b\b\b82%\b\b\b83%\b\b\b84%\b\b\b85%\b\b\b86%\b\b\b87%\b\b\b88%\b\b\b89%\b\b\b90%\b\b\b91%\b\b\b92%\b\b\b93%\b\b\b94%\b\b\b95%\b\b\b96%\b\b\b97%\b\b\b98%\b\b\b99%\b\b\b\b done.\r\n",
        "Total genotyping rate is 0.997697.\r\n",
        "14059 variants and 1184 people pass filters and QC.\r\n",
        "Note: No phenotypes present.\r\n",
        "--recode to hapmap1_auto.ped + hapmap1_auto.map ... 0%\b\b1%\b\b2%\b\b3%\b\b4%\b\b5%\b\b6%\b\b7%\b\b8%\b\b9%\b\b10%\b\b\b11%\b\b\b12%\b\b\b13%\b\b\b14%"
       ]
      },
      {
       "output_type": "stream",
       "stream": "stdout",
       "text": [
        "\b\b\b15%\b\b\b16%\b\b\b17%\b\b\b18%\b\b\b19%\b\b\b20%\b\b\b21%\b\b\b22%\b\b\b23%\b\b\b24%\b\b\b25%\b\b\b26%\b\b\b27%\b\b\b28%\b\b\b29%\b\b\b30%\b\b\b31%\b\b\b32%\b\b\b33%"
       ]
      },
      {
       "output_type": "stream",
       "stream": "stdout",
       "text": [
        "\b\b\b34%\b\b\b35%\b\b\b36%\b\b\b37%\b\b\b38%\b\b\b39%\b\b\b40%\b\b\b41%\b\b\b42%\b\b\b43%\b\b\b44%\b\b\b45%\b\b\b46%\b\b\b47%\b\b\b48%\b\b\b49%\b\b\b50%\b\b\b51%"
       ]
      },
      {
       "output_type": "stream",
       "stream": "stdout",
       "text": [
        "\b\b\b52%\b\b\b53%\b\b\b54%\b\b\b55%\b\b\b56%\b\b\b57%\b\b\b58%\b\b\b59%\b\b\b60%\b\b\b61%\b\b\b62%\b\b\b63%\b\b\b64%\b\b\b65%\b\b\b66%\b\b\b67%\b\b\b68%\b\b\b69%"
       ]
      },
      {
       "output_type": "stream",
       "stream": "stdout",
       "text": [
        "\b\b\b70%\b\b\b71%\b\b\b72%\b\b\b73%\b\b\b74%\b\b\b75%\b\b\b76%\b\b\b77%\b\b\b78%\b\b\b79%\b\b\b80%\b\b\b81%\b\b\b82%\b\b\b83%\b\b\b84%\b\b\b85%\b\b\b86%\b\b\b87%\b\b\b88%"
       ]
      },
      {
       "output_type": "stream",
       "stream": "stdout",
       "text": [
        "\b\b\b89%\b\b\b90%\b\b\b91%\b\b\b92%\b\b\b93%\b\b\b94%\b\b\b95%\b\b\b96%\b\b\b97%\b\b\b98%\b\b\b99%\b\b\bdone.\r\n"
       ]
      }
     ],
     "prompt_number": 16
    },
    {
     "cell_type": "heading",
     "level": 2,
     "metadata": {},
     "source": [
      "Removing offspring"
     ]
    },
    {
     "cell_type": "code",
     "collapsed": false,
     "input": [
      "!plink --file hapmap10_auto --filter-founders --recode --out hapmap10_auto_noofs"
     ],
     "language": "python",
     "metadata": {},
     "outputs": [
      {
       "output_type": "stream",
       "stream": "stdout",
       "text": [
        "PLINK v1.90b2t 64-bit (20 Dec 2014)        https://www.cog-genomics.org/plink2\r\n",
        "(C) 2005-2014 Shaun Purcell, Christopher Chang   GNU General Public License v3\r\n",
        "Logging to hapmap10_auto_noofs.log.\r\n",
        "32095 MB RAM detected; reserving 16047 MB for main workspace.\r\n",
        "Scanning .ped file... 0%\b\b1%\b\b1%\b\b1%\b\b1%\b\b1%\b\b1%"
       ]
      },
      {
       "output_type": "stream",
       "stream": "stdout",
       "text": [
        "\b\b1%\b\b1%\b\b1%\b\b1%\b\b1%\b\b1%\b\b2%\b\b2%\b\b2%\b\b2%\b\b2%\b\b2%\b\b2%\b\b2%\b\b2%\b\b2%\b\b2%\b\b2%\b\b3%\b\b3%\b\b3%\b\b3%\b\b3%\b\b3%"
       ]
      },
      {
       "output_type": "stream",
       "stream": "stdout",
       "text": [
        "\b\b3%\b\b3%\b\b3%\b\b3%\b\b3%\b\b3%\b\b4%\b\b4%\b\b4%\b\b4%\b\b4%\b\b4%\b\b4%\b\b4%\b\b4%\b\b4%\b\b4%\b\b4%\b\b5%\b\b5%\b\b5%\b\b5%\b\b5%\b\b5%"
       ]
      },
      {
       "output_type": "stream",
       "stream": "stdout",
       "text": [
        "\b\b5%\b\b5%\b\b5%\b\b5%\b\b5%\b\b5%\b\b6%\b\b6%\b\b6%\b\b6%\b\b6%\b\b6%\b\b6%\b\b6%\b\b6%\b\b6%\b\b6%\b\b7%\b\b7%\b\b7%\b\b7%\b\b7%\b\b7%"
       ]
      },
      {
       "output_type": "stream",
       "stream": "stdout",
       "text": [
        "\b\b7%\b\b7%\b\b7%\b\b7%\b\b7%\b\b7%\b\b8%\b\b8%\b\b8%\b\b8%\b\b8%\b\b8%\b\b8%\b\b8%\b\b8%\b\b8%\b\b8%\b\b8%\b\b9%\b\b9%\b\b9%"
       ]
      },
      {
       "output_type": "stream",
       "stream": "stdout",
       "text": [
        "\b\b9%\b\b9%\b\b9%\b\b9%\b\b9%\b\b9%\b\b9%\b\b9%\b\b9%\b\b10%\b\b\b10%\b\b\b10%\b\b\b10%\b\b\b10%\b\b\b10%\b\b\b10%\b\b\b10%\b\b\b10%\b\b\b10%\b\b\b10%\b\b\b10%\b\b\b11%"
       ]
      },
      {
       "output_type": "stream",
       "stream": "stdout",
       "text": [
        "\b\b\b11%\b\b\b11%\b\b\b11%\b\b\b11%\b\b\b11%\b\b\b11%\b\b\b11%\b\b\b11%\b\b\b11%\b\b\b11%\b\b\b11%\b\b\b12%\b\b\b12%\b\b\b12%\b\b\b12%\b\b\b12%\b\b\b12%\b\b\b12%\b\b\b12%\b\b\b12%\b\b\b12%\b\b\b12%\b\b\b13%\b\b\b13%"
       ]
      },
      {
       "output_type": "stream",
       "stream": "stdout",
       "text": [
        "\b\b\b13%\b\b\b13%\b\b\b13%\b\b\b13%\b\b\b13%\b\b\b13%\b\b\b13%\b\b\b13%\b\b\b13%\b\b\b13%\b\b\b14%\b\b\b14%\b\b\b14%\b\b\b14%\b\b\b14%\b\b\b14%\b\b\b14%\b\b\b14%\b\b\b14%\b\b\b14%\b\b\b14%\b\b\b14%\b\b\b15%"
       ]
      },
      {
       "output_type": "stream",
       "stream": "stdout",
       "text": [
        "\b\b\b15%\b\b\b15%\b\b\b15%\b\b\b15%\b\b\b15%\b\b\b15%\b\b\b15%\b\b\b15%\b\b\b15%\b\b\b15%\b\b\b15%\b\b\b16%\b\b\b16%\b\b\b16%\b\b\b16%\b\b\b16%\b\b\b16%\b\b\b16%\b\b\b16%\b\b\b16%\b\b\b16%\b\b\b16%\b\b\b16%"
       ]
      },
      {
       "output_type": "stream",
       "stream": "stdout",
       "text": [
        "\b\b\b17%\b\b\b17%\b\b\b17%\b\b\b17%\b\b\b17%\b\b\b17%\b\b\b17%\b\b\b17%\b\b\b17%\b\b\b17%\b\b\b17%\b\b\b17%\b\b\b18%\b\b\b18%\b\b\b18%\b\b\b18%\b\b\b18%\b\b\b18%\b\b\b18%\b\b\b18%\b\b\b18%\b\b\b18%\b\b\b18%"
       ]
      },
      {
       "output_type": "stream",
       "stream": "stdout",
       "text": [
        "\b\b\b19%\b\b\b19%\b\b\b19%\b\b\b19%\b\b\b19%\b\b\b19%\b\b\b19%\b\b\b19%\b\b\b19%\b\b\b19%\b\b\b19%\b\b\b19%\b\b\b20%\b\b\b20%\b\b\b20%\b\b\b20%\b\b\b20%\b\b\b20%\b\b\b20%\b\b\b20%\b\b\b20%\b\b\b20%\b\b\b20%"
       ]
      },
      {
       "output_type": "stream",
       "stream": "stdout",
       "text": [
        "\b\b\b20%\b\b\b21%\b\b\b21%\b\b\b21%\b\b\b21%\b\b\b21%\b\b\b21%\b\b\b21%\b\b\b21%\b\b\b21%\b\b\b21%\b\b\b21%\b\b\b21%\b\b\b22%\b\b\b22%\b\b\b22%\b\b\b22%\b\b\b22%\b\b\b22%\b\b\b22%\b\b\b22%\b\b\b22%\b\b\b22%"
       ]
      },
      {
       "output_type": "stream",
       "stream": "stdout",
       "text": [
        "\b\b\b22%\b\b\b22%\b\b\b23%\b\b\b23%\b\b\b23%\b\b\b23%\b\b\b23%\b\b\b23%\b\b\b23%\b\b\b23%\b\b\b23%\b\b\b23%\b\b\b23%\b\b\b23%\b\b\b24%\b\b\b24%\b\b\b24%\b\b\b24%\b\b\b24%\b\b\b24%\b\b\b24%\b\b\b24%\b\b\b24%\b\b\b24%"
       ]
      },
      {
       "output_type": "stream",
       "stream": "stdout",
       "text": [
        "\b\b\b24%\b\b\b25%\b\b\b25%\b\b\b25%\b\b\b25%\b\b\b25%\b\b\b25%\b\b\b25%\b\b\b25%\b\b\b25%\b\b\b25%\b\b\b25%\b\b\b25%\b\b\b26%\b\b\b26%\b\b\b26%\b\b\b26%\b\b\b26%\b\b\b26%\b\b\b26%\b\b\b26%\b\b\b26%\b\b\b26%"
       ]
      },
      {
       "output_type": "stream",
       "stream": "stdout",
       "text": [
        "\b\b\b26%\b\b\b26%\b\b\b27%\b\b\b27%\b\b\b27%\b\b\b27%\b\b\b27%\b\b\b27%\b\b\b27%\b\b\b27%\b\b\b27%\b\b\b27%\b\b\b27%\b\b\b27%\b\b\b28%\b\b\b28%\b\b\b28%\b\b\b28%\b\b\b28%\b\b\b28%\b\b\b28%\b\b\b28%\b\b\b28%\b\b\b28%"
       ]
      },
      {
       "output_type": "stream",
       "stream": "stdout",
       "text": [
        "\b\b\b28%\b\b\b28%\b\b\b29%\b\b\b29%\b\b\b29%\b\b\b29%\b\b\b29%\b\b\b29%\b\b\b29%\b\b\b29%\b\b\b29%\b\b\b29%\b\b\b29%\b\b\b29%\b\b\b30%\b\b\b30%\b\b\b30%\b\b\b30%\b\b\b30%\b\b\b30%\b\b\b30%\b\b\b30%\b\b\b30%"
       ]
      },
      {
       "output_type": "stream",
       "stream": "stdout",
       "text": [
        "\b\b\b30%\b\b\b30%\b\b\b30%\b\b\b31%\b\b\b31%\b\b\b31%\b\b\b31%\b\b\b31%\b\b\b31%\b\b\b31%\b\b\b31%\b\b\b31%\b\b\b31%\b\b\b31%\b\b\b32%\b\b\b32%\b\b\b32%\b\b\b32%\b\b\b32%\b\b\b32%\b\b\b32%\b\b\b32%\b\b\b32%\b\b\b32%"
       ]
      },
      {
       "output_type": "stream",
       "stream": "stdout",
       "text": [
        "\b\b\b32%\b\b\b32%\b\b\b33%\b\b\b33%\b\b\b33%\b\b\b33%\b\b\b33%\b\b\b33%\b\b\b33%\b\b\b33%\b\b\b33%\b\b\b33%\b\b\b33%\b\b\b33%\b\b\b34%\b\b\b34%\b\b\b34%\b\b\b34%\b\b\b34%\b\b\b34%\b\b\b34%\b\b\b34%\b\b\b34%"
       ]
      },
      {
       "output_type": "stream",
       "stream": "stdout",
       "text": [
        "\b\b\b34%\b\b\b34%\b\b\b34%\b\b\b35%\b\b\b35%\b\b\b35%\b\b\b35%\b\b\b35%\b\b\b35%\b\b\b35%\b\b\b35%\b\b\b35%\b\b\b35%\b\b\b35%\b\b\b35%\b\b\b36%\b\b\b36%\b\b\b36%\b\b\b36%\b\b\b36%\b\b\b36%\b\b\b36%"
       ]
      },
      {
       "output_type": "stream",
       "stream": "stdout",
       "text": [
        "\b\b\b36%\b\b\b36%\b\b\b36%\b\b\b36%\b\b\b36%\b\b\b37%\b\b\b37%\b\b\b37%\b\b\b37%\b\b\b37%\b\b\b37%\b\b\b37%\b\b\b37%\b\b\b37%\b\b\b37%\b\b\b37%\b\b\b38%\b\b\b38%\b\b\b38%\b\b\b38%\b\b\b38%\b\b\b38%\b\b\b38%"
       ]
      },
      {
       "output_type": "stream",
       "stream": "stdout",
       "text": [
        "\b\b\b38%\b\b\b38%\b\b\b38%\b\b\b38%\b\b\b38%\b\b\b39%\b\b\b39%\b\b\b39%\b\b\b39%\b\b\b39%\b\b\b39%\b\b\b39%\b\b\b39%\b\b\b39%\b\b\b39%\b\b\b39%\b\b\b39%\b\b\b40%\b\b\b40%\b\b\b40%\b\b\b40%\b\b\b40%\b\b\b40%\b\b\b40%"
       ]
      },
      {
       "output_type": "stream",
       "stream": "stdout",
       "text": [
        "\b\b\b40%\b\b\b40%\b\b\b40%\b\b\b40%\b\b\b40%\b\b\b41%\b\b\b41%\b\b\b41%\b\b\b41%\b\b\b41%\b\b\b41%\b\b\b41%\b\b\b41%\b\b\b41%\b\b\b41%\b\b\b41%\b\b\b41%\b\b\b42%\b\b\b42%\b\b\b42%\b\b\b42%\b\b\b42%\b\b\b42%"
       ]
      },
      {
       "output_type": "stream",
       "stream": "stdout",
       "text": [
        "\b\b\b42%\b\b\b42%\b\b\b42%\b\b\b42%\b\b\b42%\b\b\b42%\b\b\b43%\b\b\b43%\b\b\b43%\b\b\b43%\b\b\b43%\b\b\b43%\b\b\b43%\b\b\b43%\b\b\b43%\b\b\b43%\b\b\b43%\b\b\b44%\b\b\b44%\b\b\b44%\b\b\b44%\b\b\b44%\b\b\b44%\b\b\b44%\b\b\b44%"
       ]
      },
      {
       "output_type": "stream",
       "stream": "stdout",
       "text": [
        "\b\b\b44%\b\b\b44%\b\b\b44%\b\b\b44%\b\b\b45%\b\b\b45%\b\b\b45%\b\b\b45%\b\b\b45%\b\b\b45%\b\b\b45%\b\b\b45%\b\b\b45%\b\b\b45%\b\b\b45%\b\b\b45%\b\b\b46%\b\b\b46%\b\b\b46%\b\b\b46%\b\b\b46%\b\b\b46%\b\b\b46%"
       ]
      },
      {
       "output_type": "stream",
       "stream": "stdout",
       "text": [
        "\b\b\b46%\b\b\b46%\b\b\b46%\b\b\b46%\b\b\b46%\b\b\b47%\b\b\b47%\b\b\b47%\b\b\b47%\b\b\b47%\b\b\b47%\b\b\b47%\b\b\b47%\b\b\b47%\b\b\b47%\b\b\b47%\b\b\b47%\b\b\b48%\b\b\b48%\b\b\b48%\b\b\b48%\b\b\b48%\b\b\b48%\b\b\b48%"
       ]
      },
      {
       "output_type": "stream",
       "stream": "stdout",
       "text": [
        "\b\b\b48%\b\b\b48%\b\b\b48%\b\b\b48%\b\b\b48%\b\b\b49%\b\b\b49%\b\b\b49%\b\b\b49%\b\b\b49%\b\b\b49%\b\b\b49%\b\b\b49%\b\b\b49%\b\b\b49%\b\b\b49%\b\b\b50%\b\b\b50%\b\b\b50%\b\b\b50%\b\b\b50%\b\b\b50%"
       ]
      },
      {
       "output_type": "stream",
       "stream": "stdout",
       "text": [
        "\b\b\b50%\b\b\b50%\b\b\b50%\b\b\b50%\b\b\b50%\b\b\b50%\b\b\b51%\b\b\b51%\b\b\b51%\b\b\b51%\b\b\b51%\b\b\b51%\b\b\b51%\b\b\b51%\b\b\b51%\b\b\b51%\b\b\b51%\b\b\b51%\b\b\b52%\b\b\b52%\b\b\b52%\b\b\b52%\b\b\b52%\b\b\b52%\b\b\b52%"
       ]
      },
      {
       "output_type": "stream",
       "stream": "stdout",
       "text": [
        "\b\b\b52%\b\b\b52%\b\b\b52%\b\b\b52%\b\b\b52%\b\b\b53%\b\b\b53%\b\b\b53%\b\b\b53%\b\b\b53%\b\b\b53%\b\b\b53%\b\b\b53%\b\b\b53%\b\b\b53%\b\b\b53%\b\b\b53%\b\b\b54%\b\b\b54%\b\b\b54%\b\b\b54%\b\b\b54%\b\b\b54%\b\b\b54%"
       ]
      },
      {
       "output_type": "stream",
       "stream": "stdout",
       "text": [
        "\b\b\b54%\b\b\b54%\b\b\b54%\b\b\b54%\b\b\b54%\b\b\b55%\b\b\b55%\b\b\b55%\b\b\b55%\b\b\b55%\b\b\b55%\b\b\b55%\b\b\b55%\b\b\b55%\b\b\b55%\b\b\b55%\b\b\b55%\b\b\b56%\b\b\b56%\b\b\b56%\b\b\b56%\b\b\b56%\b\b\b56%"
       ]
      },
      {
       "output_type": "stream",
       "stream": "stdout",
       "text": [
        "\b\b\b56%\b\b\b56%\b\b\b56%\b\b\b56%\b\b\b56%\b\b\b57%\b\b\b57%\b\b\b57%\b\b\b57%\b\b\b57%\b\b\b57%\b\b\b57%\b\b\b57%\b\b\b57%\b\b\b57%\b\b\b57%\b\b\b57%\b\b\b58%\b\b\b58%\b\b\b58%\b\b\b58%\b\b\b58%\b\b\b58%"
       ]
      },
      {
       "output_type": "stream",
       "stream": "stdout",
       "text": [
        "\b\b\b58%\b\b\b58%\b\b\b58%\b\b\b58%\b\b\b58%\b\b\b58%\b\b\b59%\b\b\b59%\b\b\b59%\b\b\b59%\b\b\b59%\b\b\b59%\b\b\b59%\b\b\b59%\b\b\b59%\b\b\b59%\b\b\b59%\b\b\b59%\b\b\b60%\b\b\b60%\b\b\b60%\b\b\b60%\b\b\b60%"
       ]
      },
      {
       "output_type": "stream",
       "stream": "stdout",
       "text": [
        "\b\b\b60%\b\b\b60%\b\b\b60%\b\b\b60%\b\b\b60%\b\b\b60%\b\b\b60%\b\b\b61%\b\b\b61%\b\b\b61%\b\b\b61%\b\b\b61%\b\b\b61%\b\b\b61%\b\b\b61%\b\b\b61%\b\b\b61%\b\b\b61%\b\b\b61%\b\b\b62%\b\b\b62%\b\b\b62%\b\b\b62%"
       ]
      },
      {
       "output_type": "stream",
       "stream": "stdout",
       "text": [
        "\b\b\b62%\b\b\b62%\b\b\b62%\b\b\b62%\b\b\b62%\b\b\b62%\b\b\b62%\b\b\b63%\b\b\b63%\b\b\b63%\b\b\b63%\b\b\b63%\b\b\b63%\b\b\b63%\b\b\b63%\b\b\b63%\b\b\b63%\b\b\b63%\b\b\b63%\b\b\b64%\b\b\b64%\b\b\b64%\b\b\b64%\b\b\b64%"
       ]
      },
      {
       "output_type": "stream",
       "stream": "stdout",
       "text": [
        "\b\b\b64%\b\b\b64%\b\b\b64%\b\b\b64%\b\b\b64%\b\b\b64%\b\b\b64%\b\b\b65%\b\b\b65%\b\b\b65%\b\b\b65%\b\b\b65%\b\b\b65%\b\b\b65%\b\b\b65%\b\b\b65%\b\b\b65%\b\b\b65%\b\b\b65%\b\b\b66%\b\b\b66%\b\b\b66%\b\b\b66%\b\b\b66%"
       ]
      },
      {
       "output_type": "stream",
       "stream": "stdout",
       "text": [
        "\b\b\b66%\b\b\b66%\b\b\b66%\b\b\b66%\b\b\b66%\b\b\b66%\b\b\b66%\b\b\b67%\b\b\b67%\b\b\b67%\b\b\b67%\b\b\b67%\b\b\b67%\b\b\b67%\b\b\b67%\b\b\b67%\b\b\b67%\b\b\b67%\b\b\b67%\b\b\b68%\b\b\b68%\b\b\b68%\b\b\b68%\b\b\b68%"
       ]
      },
      {
       "output_type": "stream",
       "stream": "stdout",
       "text": [
        "\b\b\b68%\b\b\b68%\b\b\b68%\b\b\b68%\b\b\b68%\b\b\b68%\b\b\b69%\b\b\b69%\b\b\b69%\b\b\b69%\b\b\b69%\b\b\b69%\b\b\b69%\b\b\b69%\b\b\b69%\b\b\b69%\b\b\b69%\b\b\b69%\b\b\b70%\b\b\b70%\b\b\b70%\b\b\b70%\b\b\b70%\b\b\b70%"
       ]
      },
      {
       "output_type": "stream",
       "stream": "stdout",
       "text": [
        "\b\b\b70%\b\b\b70%\b\b\b70%\b\b\b70%\b\b\b70%\b\b\b70%\b\b\b71%\b\b\b71%\b\b\b71%\b\b\b71%\b\b\b71%\b\b\b71%\b\b\b71%\b\b\b71%\b\b\b71%\b\b\b71%\b\b\b71%\b\b\b71%\b\b\b72%\b\b\b72%\b\b\b72%\b\b\b72%\b\b\b72%\b\b\b72%"
       ]
      },
      {
       "output_type": "stream",
       "stream": "stdout",
       "text": [
        "\b\b\b72%\b\b\b72%\b\b\b72%\b\b\b72%\b\b\b72%\b\b\b72%\b\b\b73%\b\b\b73%\b\b\b73%\b\b\b73%\b\b\b73%\b\b\b73%\b\b\b73%\b\b\b73%\b\b\b73%\b\b\b73%\b\b\b73%\b\b\b73%\b\b\b74%\b\b\b74%\b\b\b74%\b\b\b74%"
       ]
      },
      {
       "output_type": "stream",
       "stream": "stdout",
       "text": [
        "\b\b\b74%\b\b\b74%\b\b\b74%\b\b\b74%\b\b\b74%\b\b\b74%\b\b\b74%\b\b\b74%\b\b\b75%\b\b\b75%\b\b\b75%\b\b\b75%\b\b\b75%\b\b\b75%\b\b\b75%\b\b\b75%\b\b\b75%\b\b\b75%\b\b\b75%\b\b\b76%\b\b\b76%\b\b\b76%\b\b\b76%"
       ]
      },
      {
       "output_type": "stream",
       "stream": "stdout",
       "text": [
        "\b\b\b76%\b\b\b76%\b\b\b76%\b\b\b76%\b\b\b76%\b\b\b76%\b\b\b76%\b\b\b76%\b\b\b77%\b\b\b77%\b\b\b77%\b\b\b77%\b\b\b77%\b\b\b77%\b\b\b77%\b\b\b77%\b\b\b77%\b\b\b77%\b\b\b77%\b\b\b77%\b\b\b78%\b\b\b78%\b\b\b78%\b\b\b78%\b\b\b78%"
       ]
      },
      {
       "output_type": "stream",
       "stream": "stdout",
       "text": [
        "\b\b\b78%\b\b\b78%\b\b\b78%\b\b\b78%\b\b\b78%\b\b\b78%\b\b\b78%\b\b\b79%\b\b\b79%\b\b\b79%\b\b\b79%\b\b\b79%\b\b\b79%\b\b\b79%\b\b\b79%\b\b\b79%\b\b\b79%\b\b\b79%\b\b\b79%\b\b\b80%\b\b\b80%\b\b\b80%\b\b\b80%"
       ]
      },
      {
       "output_type": "stream",
       "stream": "stdout",
       "text": [
        "\b\b\b80%\b\b\b80%\b\b\b80%\b\b\b80%\b\b\b80%\b\b\b80%\b\b\b80%\b\b\b80%\b\b\b81%\b\b\b81%\b\b\b81%\b\b\b81%\b\b\b81%\b\b\b81%\b\b\b81%\b\b\b81%\b\b\b81%\b\b\b81%\b\b\b81%\b\b\b82%\b\b\b82%\b\b\b82%\b\b\b82%"
       ]
      },
      {
       "output_type": "stream",
       "stream": "stdout",
       "text": [
        "\b\b\b82%\b\b\b82%\b\b\b82%\b\b\b82%\b\b\b82%\b\b\b82%\b\b\b82%\b\b\b82%\b\b\b83%\b\b\b83%\b\b\b83%\b\b\b83%\b\b\b83%\b\b\b83%\b\b\b83%\b\b\b83%\b\b\b83%\b\b\b83%\b\b\b83%\b\b\b83%\b\b\b84%\b\b\b84%\b\b\b84%"
       ]
      },
      {
       "output_type": "stream",
       "stream": "stdout",
       "text": [
        "\b\b\b84%\b\b\b84%\b\b\b84%\b\b\b84%\b\b\b84%\b\b\b84%\b\b\b84%\b\b\b84%\b\b\b84%\b\b\b85%\b\b\b85%\b\b\b85%\b\b\b85%\b\b\b85%\b\b\b85%\b\b\b85%\b\b\b85%\b\b\b85%\b\b\b85%\b\b\b85%\b\b\b85%\b\b\b86%\b\b\b86%"
       ]
      },
      {
       "output_type": "stream",
       "stream": "stdout",
       "text": [
        "\b\b\b86%\b\b\b86%\b\b\b86%\b\b\b86%\b\b\b86%\b\b\b86%\b\b\b86%\b\b\b86%\b\b\b86%\b\b\b86%\b\b\b87%\b\b\b87%\b\b\b87%\b\b\b87%\b\b\b87%\b\b\b87%\b\b\b87%\b\b\b87%\b\b\b87%\b\b\b87%\b\b\b87%\b\b\b88%\b\b\b88%\b\b\b88%"
       ]
      },
      {
       "output_type": "stream",
       "stream": "stdout",
       "text": [
        "\b\b\b88%\b\b\b88%\b\b\b88%\b\b\b88%\b\b\b88%\b\b\b88%\b\b\b88%\b\b\b88%\b\b\b88%\b\b\b89%\b\b\b89%\b\b\b89%\b\b\b89%\b\b\b89%\b\b\b89%\b\b\b89%\b\b\b89%\b\b\b89%\b\b\b89%\b\b\b89%\b\b\b89%\b\b\b90%\b\b\b90%\b\b\b90%"
       ]
      },
      {
       "output_type": "stream",
       "stream": "stdout",
       "text": [
        "\b\b\b90%\b\b\b90%\b\b\b90%\b\b\b90%\b\b\b90%\b\b\b90%\b\b\b90%\b\b\b90%\b\b\b90%\b\b\b91%\b\b\b91%\b\b\b91%\b\b\b91%\b\b\b91%\b\b\b91%\b\b\b91%\b\b\b91%\b\b\b91%\b\b\b91%\b\b\b91%\b\b\b91%\b\b\b92%\b\b\b92%\b\b\b92%"
       ]
      },
      {
       "output_type": "stream",
       "stream": "stdout",
       "text": [
        "\b\b\b92%\b\b\b92%\b\b\b92%\b\b\b92%\b\b\b92%\b\b\b92%\b\b\b92%\b\b\b92%\b\b\b92%\b\b\b93%\b\b\b93%\b\b\b93%\b\b\b93%\b\b\b93%\b\b\b93%\b\b\b93%\b\b\b93%\b\b\b93%\b\b\b93%\b\b\b93%\b\b\b94%\b\b\b94%\b\b\b94%\b\b\b94%"
       ]
      },
      {
       "output_type": "stream",
       "stream": "stdout",
       "text": [
        "\b\b\b94%\b\b\b94%\b\b\b94%\b\b\b94%\b\b\b94%\b\b\b94%\b\b\b94%\b\b\b94%\b\b\b95%\b\b\b95%\b\b\b95%\b\b\b95%\b\b\b95%\b\b\b95%\b\b\b95%\b\b\b95%\b\b\b95%\b\b\b95%\b\b\b95%\b\b\b95%\b\b\b96%\b\b\b96%\b\b\b96%\b\b\b96%"
       ]
      },
      {
       "output_type": "stream",
       "stream": "stdout",
       "text": [
        "\b\b\b96%\b\b\b96%\b\b\b96%\b\b\b96%\b\b\b96%\b\b\b96%\b\b\b96%\b\b\b96%\b\b\b97%\b\b\b97%\b\b\b97%\b\b\b97%\b\b\b97%\b\b\b97%\b\b\b97%\b\b\b97%\b\b\b97%\b\b\b97%\b\b\b97%\b\b\b97%\b\b\b98%\b\b\b98%\b\b\b98%\b\b\b98%"
       ]
      },
      {
       "output_type": "stream",
       "stream": "stdout",
       "text": [
        "\b\b\b98%\b\b\b98%\b\b\b98%\b\b\b98%\b\b\b98%\b\b\b98%\b\b\b98%\b\b\b98%\b\b\b99%\b\b\b99%\b\b\b99%\b\b\b99%\b\b\b99%\b\b\b99%\b\b\b99%\b\b\b99%\b\b\b99%\b\b\b99%\b\b\b99%\b\b\b100%\r",
        ".ped scan complete (for binary autoconversion).\r\n"
       ]
      },
      {
       "output_type": "stream",
       "stream": "stdout",
       "text": [
        "Performing single-pass .bed write (138890 variants, 1184 people).\r\n"
       ]
      },
      {
       "output_type": "stream",
       "stream": "stdout",
       "text": [
        "0%\b\b1%\b\b2%"
       ]
      },
      {
       "output_type": "stream",
       "stream": "stdout",
       "text": [
        "\b\b3%\b\b4%"
       ]
      },
      {
       "output_type": "stream",
       "stream": "stdout",
       "text": [
        "\b\b5%"
       ]
      },
      {
       "output_type": "stream",
       "stream": "stdout",
       "text": [
        "\b\b6%\b\b7%"
       ]
      },
      {
       "output_type": "stream",
       "stream": "stdout",
       "text": [
        "\b\b8%"
       ]
      },
      {
       "output_type": "stream",
       "stream": "stdout",
       "text": [
        "\b\b9%\b\b10%"
       ]
      },
      {
       "output_type": "stream",
       "stream": "stdout",
       "text": [
        "\b\b\b11%"
       ]
      },
      {
       "output_type": "stream",
       "stream": "stdout",
       "text": [
        "\b\b\b12%\b\b\b13%"
       ]
      },
      {
       "output_type": "stream",
       "stream": "stdout",
       "text": [
        "\b\b\b14%\b\b\b15%"
       ]
      },
      {
       "output_type": "stream",
       "stream": "stdout",
       "text": [
        "\b\b\b16%"
       ]
      },
      {
       "output_type": "stream",
       "stream": "stdout",
       "text": [
        "\b\b\b17%\b\b\b18%"
       ]
      },
      {
       "output_type": "stream",
       "stream": "stdout",
       "text": [
        "\b\b\b19%\b\b\b20%"
       ]
      },
      {
       "output_type": "stream",
       "stream": "stdout",
       "text": [
        "\b\b\b21%"
       ]
      },
      {
       "output_type": "stream",
       "stream": "stdout",
       "text": [
        "\b\b\b22%\b\b\b23%"
       ]
      },
      {
       "output_type": "stream",
       "stream": "stdout",
       "text": [
        "\b\b\b24%\b\b\b25%"
       ]
      },
      {
       "output_type": "stream",
       "stream": "stdout",
       "text": [
        "\b\b\b26%"
       ]
      },
      {
       "output_type": "stream",
       "stream": "stdout",
       "text": [
        "\b\b\b27%\b\b\b28%"
       ]
      },
      {
       "output_type": "stream",
       "stream": "stdout",
       "text": [
        "\b\b\b29%\b\b\b30%"
       ]
      },
      {
       "output_type": "stream",
       "stream": "stdout",
       "text": [
        "\b\b\b31%"
       ]
      },
      {
       "output_type": "stream",
       "stream": "stdout",
       "text": [
        "\b\b\b32%\b\b\b33%"
       ]
      },
      {
       "output_type": "stream",
       "stream": "stdout",
       "text": [
        "\b\b\b34%"
       ]
      },
      {
       "output_type": "stream",
       "stream": "stdout",
       "text": [
        "\b\b\b35%\b\b\b36%"
       ]
      },
      {
       "output_type": "stream",
       "stream": "stdout",
       "text": [
        "\b\b\b37%\b\b\b38%"
       ]
      },
      {
       "output_type": "stream",
       "stream": "stdout",
       "text": [
        "\b\b\b39%"
       ]
      },
      {
       "output_type": "stream",
       "stream": "stdout",
       "text": [
        "\b\b\b40%\b\b\b41%"
       ]
      },
      {
       "output_type": "stream",
       "stream": "stdout",
       "text": [
        "\b\b\b42%"
       ]
      },
      {
       "output_type": "stream",
       "stream": "stdout",
       "text": [
        "\b\b\b43%\b\b\b44%"
       ]
      },
      {
       "output_type": "stream",
       "stream": "stdout",
       "text": [
        "\b\b\b45%\b\b\b46%"
       ]
      },
      {
       "output_type": "stream",
       "stream": "stdout",
       "text": [
        "\b\b\b47%"
       ]
      },
      {
       "output_type": "stream",
       "stream": "stdout",
       "text": [
        "\b\b\b48%\b\b\b49%"
       ]
      },
      {
       "output_type": "stream",
       "stream": "stdout",
       "text": [
        "\b\b\b50%"
       ]
      },
      {
       "output_type": "stream",
       "stream": "stdout",
       "text": [
        "\b\b\b51%\b\b\b52%"
       ]
      },
      {
       "output_type": "stream",
       "stream": "stdout",
       "text": [
        "\b\b\b53%\b\b\b54%"
       ]
      },
      {
       "output_type": "stream",
       "stream": "stdout",
       "text": [
        "\b\b\b55%"
       ]
      },
      {
       "output_type": "stream",
       "stream": "stdout",
       "text": [
        "\b\b\b56%\b\b\b57%"
       ]
      },
      {
       "output_type": "stream",
       "stream": "stdout",
       "text": [
        "\b\b\b58%\b\b\b59%"
       ]
      },
      {
       "output_type": "stream",
       "stream": "stdout",
       "text": [
        "\b\b\b60%"
       ]
      },
      {
       "output_type": "stream",
       "stream": "stdout",
       "text": [
        "\b\b\b61%\b\b\b62%"
       ]
      },
      {
       "output_type": "stream",
       "stream": "stdout",
       "text": [
        "\b\b\b63%"
       ]
      },
      {
       "output_type": "stream",
       "stream": "stdout",
       "text": [
        "\b\b\b64%\b\b\b65%"
       ]
      },
      {
       "output_type": "stream",
       "stream": "stdout",
       "text": [
        "\b\b\b66%\b\b\b67%"
       ]
      },
      {
       "output_type": "stream",
       "stream": "stdout",
       "text": [
        "\b\b\b68%"
       ]
      },
      {
       "output_type": "stream",
       "stream": "stdout",
       "text": [
        "\b\b\b69%\b\b\b70%"
       ]
      },
      {
       "output_type": "stream",
       "stream": "stdout",
       "text": [
        "\b\b\b71%\b\b\b72%"
       ]
      },
      {
       "output_type": "stream",
       "stream": "stdout",
       "text": [
        "\b\b\b73%"
       ]
      },
      {
       "output_type": "stream",
       "stream": "stdout",
       "text": [
        "\b\b\b74%\b\b\b75%"
       ]
      },
      {
       "output_type": "stream",
       "stream": "stdout",
       "text": [
        "\b\b\b76%"
       ]
      },
      {
       "output_type": "stream",
       "stream": "stdout",
       "text": [
        "\b\b\b77%\b\b\b78%"
       ]
      },
      {
       "output_type": "stream",
       "stream": "stdout",
       "text": [
        "\b\b\b79%\b\b\b80%"
       ]
      },
      {
       "output_type": "stream",
       "stream": "stdout",
       "text": [
        "\b\b\b81%"
       ]
      },
      {
       "output_type": "stream",
       "stream": "stdout",
       "text": [
        "\b\b\b82%\b\b\b83%"
       ]
      },
      {
       "output_type": "stream",
       "stream": "stdout",
       "text": [
        "\b\b\b84%\b\b\b85%"
       ]
      },
      {
       "output_type": "stream",
       "stream": "stdout",
       "text": [
        "\b\b\b86%"
       ]
      },
      {
       "output_type": "stream",
       "stream": "stdout",
       "text": [
        "\b\b\b87%\b\b\b88%"
       ]
      },
      {
       "output_type": "stream",
       "stream": "stdout",
       "text": [
        "\b\b\b89%\b\b\b90%"
       ]
      },
      {
       "output_type": "stream",
       "stream": "stdout",
       "text": [
        "\b\b\b91%"
       ]
      },
      {
       "output_type": "stream",
       "stream": "stdout",
       "text": [
        "\b\b\b92%\b\b\b93%"
       ]
      },
      {
       "output_type": "stream",
       "stream": "stdout",
       "text": [
        "\b\b\b94%\r",
        "--file: hapmap10_auto_noofs-temporary.bed + hapmap10_auto_noofs-temporary.bim +\r\n",
        "hapmap10_auto_noofs-temporary.fam written.\r\n"
       ]
      },
      {
       "output_type": "stream",
       "stream": "stdout",
       "text": [
        "138890 variants loaded from .bim file.\r\n",
        "1184 people (589 males, 595 females) loaded from .fam.\r\n",
        "196 people removed due to founder status (--filter-founders).\r\n",
        "Using 1 thread (no multithreaded calculations invoked).\r\n",
        "Before main variant filters, 988 founders and 0 nonfounders present.\r\n",
        "Calculating allele frequencies... 0%\b\b1%\b\b2%\b\b3%\b\b4%\b\b5%\b\b6%\b\b7%\b\b8%\b\b9%\b\b10%\b\b\b11%\b\b\b12%\b\b\b13%\b\b\b14%\b\b\b15%\b\b\b16%\b\b\b17%\b\b\b18%\b\b\b19%\b\b\b20%\b\b\b21%\b\b\b22%\b\b\b23%\b\b\b24%\b\b\b25%\b\b\b26%\b\b\b27%\b\b\b28%\b\b\b29%\b\b\b30%\b\b\b31%\b\b\b32%\b\b\b33%\b\b\b34%\b\b\b35%\b\b\b36%\b\b\b37%\b\b\b38%\b\b\b39%\b\b\b40%\b\b\b41%\b\b\b42%\b\b\b43%\b\b\b44%\b\b\b45%\b\b\b46%\b\b\b47%\b\b\b48%\b\b\b49%\b\b\b50%\b\b\b51%\b\b\b52%\b\b\b53%\b\b\b54%\b\b\b55%\b\b\b56%\b\b\b57%\b\b\b58%\b\b\b59%\b\b\b60%\b\b\b61%\b\b\b62%\b\b\b63%\b\b\b64%\b\b\b65%\b\b\b66%\b\b\b67%\b\b\b68%\b\b\b69%\b\b\b70%\b\b\b71%\b\b\b72%\b\b\b73%\b\b\b74%\b\b\b75%\b\b\b76%\b\b\b77%\b\b\b78%\b\b\b79%\b\b\b80%\b\b\b81%\b\b\b82%\b\b\b83%\b\b\b84%\b\b\b85%\b\b\b86%\b\b\b87%\b\b\b88%\b\b\b89%\b\b\b90%\b\b\b91%\b\b\b92%\b\b\b93%\b\b\b94%\b\b\b95%\b\b\b96%\b\b\b97%\b\b\b98%\b\b\b99%\b\b\b\b done.\r\n",
        "Total genotyping rate in remaining samples is 0.997718.\r\n",
        "138890 variants and 988 people pass filters and QC.\r\n",
        "Note: No phenotypes present.\r\n"
       ]
      },
      {
       "output_type": "stream",
       "stream": "stdout",
       "text": [
        "--recode to hapmap10_auto_noofs.ped + hapmap10_auto_noofs.map ... 0%\b\b1%"
       ]
      },
      {
       "output_type": "stream",
       "stream": "stdout",
       "text": [
        "\b\b2%"
       ]
      },
      {
       "output_type": "stream",
       "stream": "stdout",
       "text": [
        "\b\b3%"
       ]
      },
      {
       "output_type": "stream",
       "stream": "stdout",
       "text": [
        "\b\b4%"
       ]
      },
      {
       "output_type": "stream",
       "stream": "stdout",
       "text": [
        "\b\b5%\b\b6%"
       ]
      },
      {
       "output_type": "stream",
       "stream": "stdout",
       "text": [
        "\b\b7%"
       ]
      },
      {
       "output_type": "stream",
       "stream": "stdout",
       "text": [
        "\b\b8%"
       ]
      },
      {
       "output_type": "stream",
       "stream": "stdout",
       "text": [
        "\b\b9%"
       ]
      },
      {
       "output_type": "stream",
       "stream": "stdout",
       "text": [
        "\b\b10%"
       ]
      },
      {
       "output_type": "stream",
       "stream": "stdout",
       "text": [
        "\b\b\b11%\b\b\b12%"
       ]
      },
      {
       "output_type": "stream",
       "stream": "stdout",
       "text": [
        "\b\b\b13%"
       ]
      },
      {
       "output_type": "stream",
       "stream": "stdout",
       "text": [
        "\b\b\b14%"
       ]
      },
      {
       "output_type": "stream",
       "stream": "stdout",
       "text": [
        "\b\b\b15%"
       ]
      },
      {
       "output_type": "stream",
       "stream": "stdout",
       "text": [
        "\b\b\b16%\b\b\b17%"
       ]
      },
      {
       "output_type": "stream",
       "stream": "stdout",
       "text": [
        "\b\b\b18%"
       ]
      },
      {
       "output_type": "stream",
       "stream": "stdout",
       "text": [
        "\b\b\b19%"
       ]
      },
      {
       "output_type": "stream",
       "stream": "stdout",
       "text": [
        "\b\b\b20%"
       ]
      },
      {
       "output_type": "stream",
       "stream": "stdout",
       "text": [
        "\b\b\b21%"
       ]
      },
      {
       "output_type": "stream",
       "stream": "stdout",
       "text": [
        "\b\b\b22%\b\b\b23%"
       ]
      },
      {
       "output_type": "stream",
       "stream": "stdout",
       "text": [
        "\b\b\b24%"
       ]
      },
      {
       "output_type": "stream",
       "stream": "stdout",
       "text": [
        "\b\b\b25%"
       ]
      },
      {
       "output_type": "stream",
       "stream": "stdout",
       "text": [
        "\b\b\b26%"
       ]
      },
      {
       "output_type": "stream",
       "stream": "stdout",
       "text": [
        "\b\b\b27%\b\b\b28%"
       ]
      },
      {
       "output_type": "stream",
       "stream": "stdout",
       "text": [
        "\b\b\b29%"
       ]
      },
      {
       "output_type": "stream",
       "stream": "stdout",
       "text": [
        "\b\b\b30%"
       ]
      },
      {
       "output_type": "stream",
       "stream": "stdout",
       "text": [
        "\b\b\b31%"
       ]
      },
      {
       "output_type": "stream",
       "stream": "stdout",
       "text": [
        "\b\b\b32%"
       ]
      },
      {
       "output_type": "stream",
       "stream": "stdout",
       "text": [
        "\b\b\b33%\b\b\b34%"
       ]
      },
      {
       "output_type": "stream",
       "stream": "stdout",
       "text": [
        "\b\b\b35%"
       ]
      },
      {
       "output_type": "stream",
       "stream": "stdout",
       "text": [
        "\b\b\b36%"
       ]
      },
      {
       "output_type": "stream",
       "stream": "stdout",
       "text": [
        "\b\b\b37%"
       ]
      },
      {
       "output_type": "stream",
       "stream": "stdout",
       "text": [
        "\b\b\b38%"
       ]
      },
      {
       "output_type": "stream",
       "stream": "stdout",
       "text": [
        "\b\b\b39%"
       ]
      },
      {
       "output_type": "stream",
       "stream": "stdout",
       "text": [
        "\b\b\b40%\b\b\b41%"
       ]
      },
      {
       "output_type": "stream",
       "stream": "stdout",
       "text": [
        "\b\b\b42%"
       ]
      },
      {
       "output_type": "stream",
       "stream": "stdout",
       "text": [
        "\b\b\b43%"
       ]
      },
      {
       "output_type": "stream",
       "stream": "stdout",
       "text": [
        "\b\b\b44%"
       ]
      },
      {
       "output_type": "stream",
       "stream": "stdout",
       "text": [
        "\b\b\b45%"
       ]
      },
      {
       "output_type": "stream",
       "stream": "stdout",
       "text": [
        "\b\b\b46%\b\b\b47%"
       ]
      },
      {
       "output_type": "stream",
       "stream": "stdout",
       "text": [
        "\b\b\b48%"
       ]
      },
      {
       "output_type": "stream",
       "stream": "stdout",
       "text": [
        "\b\b\b49%"
       ]
      },
      {
       "output_type": "stream",
       "stream": "stdout",
       "text": [
        "\b\b\b50%"
       ]
      },
      {
       "output_type": "stream",
       "stream": "stdout",
       "text": [
        "\b\b\b51%"
       ]
      },
      {
       "output_type": "stream",
       "stream": "stdout",
       "text": [
        "\b\b\b52%\b\b\b53%"
       ]
      },
      {
       "output_type": "stream",
       "stream": "stdout",
       "text": [
        "\b\b\b54%"
       ]
      },
      {
       "output_type": "stream",
       "stream": "stdout",
       "text": [
        "\b\b\b55%"
       ]
      },
      {
       "output_type": "stream",
       "stream": "stdout",
       "text": [
        "\b\b\b56%"
       ]
      },
      {
       "output_type": "stream",
       "stream": "stdout",
       "text": [
        "\b\b\b57%"
       ]
      },
      {
       "output_type": "stream",
       "stream": "stdout",
       "text": [
        "\b\b\b58%"
       ]
      },
      {
       "output_type": "stream",
       "stream": "stdout",
       "text": [
        "\b\b\b59%\b\b\b60%"
       ]
      },
      {
       "output_type": "stream",
       "stream": "stdout",
       "text": [
        "\b\b\b61%"
       ]
      },
      {
       "output_type": "stream",
       "stream": "stdout",
       "text": [
        "\b\b\b62%"
       ]
      },
      {
       "output_type": "stream",
       "stream": "stdout",
       "text": [
        "\b\b\b63%"
       ]
      },
      {
       "output_type": "stream",
       "stream": "stdout",
       "text": [
        "\b\b\b64%"
       ]
      },
      {
       "output_type": "stream",
       "stream": "stdout",
       "text": [
        "\b\b\b65%"
       ]
      },
      {
       "output_type": "stream",
       "stream": "stdout",
       "text": [
        "\b\b\b66%\b\b\b67%"
       ]
      },
      {
       "output_type": "stream",
       "stream": "stdout",
       "text": [
        "\b\b\b68%"
       ]
      },
      {
       "output_type": "stream",
       "stream": "stdout",
       "text": [
        "\b\b\b69%"
       ]
      },
      {
       "output_type": "stream",
       "stream": "stdout",
       "text": [
        "\b\b\b70%"
       ]
      },
      {
       "output_type": "stream",
       "stream": "stdout",
       "text": [
        "\b\b\b71%"
       ]
      },
      {
       "output_type": "stream",
       "stream": "stdout",
       "text": [
        "\b\b\b72%\b\b\b73%"
       ]
      },
      {
       "output_type": "stream",
       "stream": "stdout",
       "text": [
        "\b\b\b74%"
       ]
      },
      {
       "output_type": "stream",
       "stream": "stdout",
       "text": [
        "\b\b\b75%"
       ]
      },
      {
       "output_type": "stream",
       "stream": "stdout",
       "text": [
        "\b\b\b76%"
       ]
      },
      {
       "output_type": "stream",
       "stream": "stdout",
       "text": [
        "\b\b\b77%"
       ]
      },
      {
       "output_type": "stream",
       "stream": "stdout",
       "text": [
        "\b\b\b78%"
       ]
      },
      {
       "output_type": "stream",
       "stream": "stdout",
       "text": [
        "\b\b\b79%"
       ]
      },
      {
       "output_type": "stream",
       "stream": "stdout",
       "text": [
        "\b\b\b80%\b\b\b81%"
       ]
      },
      {
       "output_type": "stream",
       "stream": "stdout",
       "text": [
        "\b\b\b82%"
       ]
      },
      {
       "output_type": "stream",
       "stream": "stdout",
       "text": [
        "\b\b\b83%"
       ]
      },
      {
       "output_type": "stream",
       "stream": "stdout",
       "text": [
        "\b\b\b84%"
       ]
      },
      {
       "output_type": "stream",
       "stream": "stdout",
       "text": [
        "\b\b\b85%"
       ]
      },
      {
       "output_type": "stream",
       "stream": "stdout",
       "text": [
        "\b\b\b86%\b\b\b87%"
       ]
      },
      {
       "output_type": "stream",
       "stream": "stdout",
       "text": [
        "\b\b\b88%"
       ]
      },
      {
       "output_type": "stream",
       "stream": "stdout",
       "text": [
        "\b\b\b89%"
       ]
      },
      {
       "output_type": "stream",
       "stream": "stdout",
       "text": [
        "\b\b\b90%"
       ]
      },
      {
       "output_type": "stream",
       "stream": "stdout",
       "text": [
        "\b\b\b91%"
       ]
      },
      {
       "output_type": "stream",
       "stream": "stdout",
       "text": [
        "\b\b\b92%\b\b\b93%"
       ]
      },
      {
       "output_type": "stream",
       "stream": "stdout",
       "text": [
        "\b\b\b94%"
       ]
      },
      {
       "output_type": "stream",
       "stream": "stdout",
       "text": [
        "\b\b\b95%"
       ]
      },
      {
       "output_type": "stream",
       "stream": "stdout",
       "text": [
        "\b\b\b96%"
       ]
      },
      {
       "output_type": "stream",
       "stream": "stdout",
       "text": [
        "\b\b\b97%"
       ]
      },
      {
       "output_type": "stream",
       "stream": "stdout",
       "text": [
        "\b\b\b98%\b\b\b99%"
       ]
      },
      {
       "output_type": "stream",
       "stream": "stdout",
       "text": [
        "\b\b\bdone.\r\n"
       ]
      }
     ],
     "prompt_number": 17
    },
    {
     "cell_type": "heading",
     "level": 2,
     "metadata": {},
     "source": [
      "LD-prunning"
     ]
    },
    {
     "cell_type": "code",
     "collapsed": false,
     "input": [
      "!plink --file hapmap10_auto_noofs --indep-pairwise 50 10 0.1 --out keep\n",
      "!plink --file hapmap10_auto_noofs --extract keep.prune.in --recode --out hapmap10_auto_noofs_ld"
     ],
     "language": "python",
     "metadata": {},
     "outputs": [
      {
       "output_type": "stream",
       "stream": "stdout",
       "text": [
        "PLINK v1.90b2t 64-bit (20 Dec 2014)        https://www.cog-genomics.org/plink2\r\n",
        "(C) 2005-2014 Shaun Purcell, Christopher Chang   GNU General Public License v3\r\n",
        "Logging to keep.log.\r\n",
        "32095 MB RAM detected; reserving 16047 MB for main workspace.\r\n",
        "Scanning .ped file... 0%\b\b1%\b\b1%\b\b1%\b\b1%\b\b1%\b\b1%\b\b1%"
       ]
      },
      {
       "output_type": "stream",
       "stream": "stdout",
       "text": [
        "\b\b1%\b\b1%\b\b1%\b\b2%\b\b2%\b\b2%\b\b2%\b\b2%\b\b2%\b\b2%\b\b2%\b\b2%\b\b2%\b\b3%\b\b3%\b\b3%\b\b3%\b\b3%\b\b3%\b\b3%\b\b3%\b\b3%\b\b3%\b\b4%"
       ]
      },
      {
       "output_type": "stream",
       "stream": "stdout",
       "text": [
        "\b\b4%\b\b4%\b\b4%\b\b4%\b\b4%\b\b4%\b\b4%\b\b4%\b\b4%\b\b5%\b\b5%\b\b5%\b\b5%\b\b5%\b\b5%\b\b5%\b\b5%\b\b5%\b\b5%\b\b6%\b\b6%\b\b6%\b\b6%\b\b6%"
       ]
      },
      {
       "output_type": "stream",
       "stream": "stdout",
       "text": [
        "\b\b6%\b\b6%\b\b6%\b\b6%\b\b6%\b\b7%\b\b7%\b\b7%\b\b7%\b\b7%\b\b7%\b\b7%\b\b7%\b\b7%\b\b7%\b\b8%\b\b8%\b\b8%\b\b8%\b\b8%\b\b8%\b\b8%\b\b8%"
       ]
      },
      {
       "output_type": "stream",
       "stream": "stdout",
       "text": [
        "\b\b8%\b\b9%\b\b9%\b\b9%\b\b9%\b\b9%\b\b9%\b\b9%\b\b9%\b\b9%\b\b9%\b\b10%\b\b\b10%\b\b\b10%\b\b\b10%\b\b\b10%\b\b\b10%\b\b\b10%\b\b\b10%\b\b\b10%\b\b\b10%\b\b\b11%\b\b\b11%"
       ]
      },
      {
       "output_type": "stream",
       "stream": "stdout",
       "text": [
        "\b\b\b11%\b\b\b11%\b\b\b11%\b\b\b11%\b\b\b11%\b\b\b11%\b\b\b11%\b\b\b11%\b\b\b12%\b\b\b12%\b\b\b12%\b\b\b12%\b\b\b12%\b\b\b12%\b\b\b12%\b\b\b12%\b\b\b12%\b\b\b12%\b\b\b13%\b\b\b13%\b\b\b13%\b\b\b13%"
       ]
      },
      {
       "output_type": "stream",
       "stream": "stdout",
       "text": [
        "\b\b\b13%\b\b\b13%\b\b\b13%\b\b\b13%\b\b\b13%\b\b\b13%\b\b\b14%\b\b\b14%\b\b\b14%\b\b\b14%\b\b\b14%\b\b\b14%\b\b\b14%\b\b\b14%\b\b\b14%\b\b\b14%\b\b\b15%\b\b\b15%\b\b\b15%\b\b\b15%\b\b\b15%\b\b\b15%\b\b\b15%\b\b\b15%"
       ]
      },
      {
       "output_type": "stream",
       "stream": "stdout",
       "text": [
        "\b\b\b15%\b\b\b15%\b\b\b16%\b\b\b16%\b\b\b16%\b\b\b16%\b\b\b16%\b\b\b16%\b\b\b16%\b\b\b16%\b\b\b16%\b\b\b17%\b\b\b17%\b\b\b17%\b\b\b17%\b\b\b17%\b\b\b17%\b\b\b17%\b\b\b17%\b\b\b17%\b\b\b17%\b\b\b18%\b\b\b18%"
       ]
      },
      {
       "output_type": "stream",
       "stream": "stdout",
       "text": [
        "\b\b\b18%\b\b\b18%\b\b\b18%\b\b\b18%\b\b\b18%\b\b\b18%\b\b\b18%\b\b\b18%\b\b\b19%\b\b\b19%\b\b\b19%\b\b\b19%\b\b\b19%\b\b\b19%\b\b\b19%\b\b\b19%\b\b\b19%\b\b\b19%\b\b\b20%\b\b\b20%\b\b\b20%\b\b\b20%\b\b\b20%"
       ]
      },
      {
       "output_type": "stream",
       "stream": "stdout",
       "text": [
        "\b\b\b20%\b\b\b20%\b\b\b20%\b\b\b20%\b\b\b20%\b\b\b21%\b\b\b21%\b\b\b21%\b\b\b21%\b\b\b21%\b\b\b21%\b\b\b21%\b\b\b21%\b\b\b21%\b\b\b21%\b\b\b22%\b\b\b22%\b\b\b22%\b\b\b22%\b\b\b22%\b\b\b22%\b\b\b22%\b\b\b22%"
       ]
      },
      {
       "output_type": "stream",
       "stream": "stdout",
       "text": [
        "\b\b\b22%\b\b\b22%\b\b\b23%\b\b\b23%\b\b\b23%\b\b\b23%\b\b\b23%\b\b\b23%\b\b\b23%\b\b\b23%\b\b\b23%\b\b\b23%\b\b\b24%\b\b\b24%\b\b\b24%\b\b\b24%\b\b\b24%\b\b\b24%\b\b\b24%\b\b\b24%\b\b\b24%\b\b\b24%\b\b\b25%"
       ]
      },
      {
       "output_type": "stream",
       "stream": "stdout",
       "text": [
        "\b\b\b25%\b\b\b25%\b\b\b25%\b\b\b25%\b\b\b25%\b\b\b25%\b\b\b25%\b\b\b25%\b\b\b26%\b\b\b26%\b\b\b26%\b\b\b26%\b\b\b26%\b\b\b26%\b\b\b26%\b\b\b26%\b\b\b26%\b\b\b26%\b\b\b27%\b\b\b27%\b\b\b27%\b\b\b27%\b\b\b27%"
       ]
      },
      {
       "output_type": "stream",
       "stream": "stdout",
       "text": [
        "\b\b\b27%\b\b\b27%\b\b\b27%\b\b\b27%\b\b\b27%\b\b\b28%\b\b\b28%\b\b\b28%\b\b\b28%\b\b\b28%\b\b\b28%\b\b\b28%\b\b\b28%\b\b\b28%\b\b\b28%\b\b\b29%\b\b\b29%\b\b\b29%\b\b\b29%\b\b\b29%\b\b\b29%\b\b\b29%\b\b\b29%"
       ]
      },
      {
       "output_type": "stream",
       "stream": "stdout",
       "text": [
        "\b\b\b29%\b\b\b29%\b\b\b30%\b\b\b30%\b\b\b30%\b\b\b30%\b\b\b30%\b\b\b30%\b\b\b30%\b\b\b30%\b\b\b30%\b\b\b30%\b\b\b31%\b\b\b31%\b\b\b31%\b\b\b31%\b\b\b31%\b\b\b31%\b\b\b31%\b\b\b31%\b\b\b31%\b\b\b31%\b\b\b32%"
       ]
      },
      {
       "output_type": "stream",
       "stream": "stdout",
       "text": [
        "\b\b\b32%\b\b\b32%\b\b\b32%\b\b\b32%\b\b\b32%\b\b\b32%\b\b\b32%\b\b\b32%\b\b\b32%\b\b\b33%\b\b\b33%\b\b\b33%\b\b\b33%\b\b\b33%\b\b\b33%\b\b\b33%\b\b\b33%\b\b\b33%\b\b\b34%\b\b\b34%\b\b\b34%\b\b\b34%\b\b\b34%"
       ]
      },
      {
       "output_type": "stream",
       "stream": "stdout",
       "text": [
        "\b\b\b34%\b\b\b34%\b\b\b34%\b\b\b34%\b\b\b34%\b\b\b35%\b\b\b35%\b\b\b35%\b\b\b35%\b\b\b35%\b\b\b35%\b\b\b35%\b\b\b35%\b\b\b35%\b\b\b35%\b\b\b36%\b\b\b36%\b\b\b36%\b\b\b36%\b\b\b36%"
       ]
      },
      {
       "output_type": "stream",
       "stream": "stdout",
       "text": [
        "\b\b\b36%\b\b\b36%\b\b\b36%\b\b\b36%\b\b\b36%\b\b\b37%\b\b\b37%\b\b\b37%\b\b\b37%\b\b\b37%\b\b\b37%\b\b\b37%\b\b\b37%\b\b\b37%\b\b\b37%\b\b\b38%\b\b\b38%"
       ]
      },
      {
       "output_type": "stream",
       "stream": "stdout",
       "text": [
        "\b\b\b38%\b\b\b38%\b\b\b38%\b\b\b38%\b\b\b38%\b\b\b38%\b\b\b38%\b\b\b38%\b\b\b39%\b\b\b39%\b\b\b39%\b\b\b39%\b\b\b39%"
       ]
      },
      {
       "output_type": "stream",
       "stream": "stdout",
       "text": [
        "\b\b\b39%\b\b\b39%\b\b\b39%\b\b\b39%\b\b\b39%\b\b\b40%\b\b\b40%\b\b\b40%\b\b\b40%\b\b\b40%\b\b\b40%\b\b\b40%\b\b\b40%\b\b\b40%"
       ]
      },
      {
       "output_type": "stream",
       "stream": "stdout",
       "text": [
        "\b\b\b40%\b\b\b41%\b\b\b41%\b\b\b41%\b\b\b41%\b\b\b41%\b\b\b41%\b\b\b41%\b\b\b41%\b\b\b41%\b\b\b42%\b\b\b42%"
       ]
      },
      {
       "output_type": "stream",
       "stream": "stdout",
       "text": [
        "\b\b\b42%\b\b\b42%\b\b\b42%\b\b\b42%\b\b\b42%\b\b\b42%\b\b\b42%\b\b\b42%\b\b\b43%\b\b\b43%\b\b\b43%\b\b\b43%\b\b\b43%\b\b\b43%"
       ]
      },
      {
       "output_type": "stream",
       "stream": "stdout",
       "text": [
        "\b\b\b43%\b\b\b43%\b\b\b43%\b\b\b43%\b\b\b44%\b\b\b44%\b\b\b44%\b\b\b44%\b\b\b44%\b\b\b44%\b\b\b44%\b\b\b44%\b\b\b44%"
       ]
      },
      {
       "output_type": "stream",
       "stream": "stdout",
       "text": [
        "\b\b\b44%\b\b\b45%\b\b\b45%\b\b\b45%\b\b\b45%\b\b\b45%\b\b\b45%\b\b\b45%\b\b\b45%\b\b\b45%\b\b\b45%\b\b\b46%\b\b\b46%"
       ]
      },
      {
       "output_type": "stream",
       "stream": "stdout",
       "text": [
        "\b\b\b46%\b\b\b46%\b\b\b46%\b\b\b46%\b\b\b46%\b\b\b46%\b\b\b46%\b\b\b46%\b\b\b47%\b\b\b47%\b\b\b47%\b\b\b47%\b\b\b47%"
       ]
      },
      {
       "output_type": "stream",
       "stream": "stdout",
       "text": [
        "\b\b\b47%\b\b\b47%\b\b\b47%\b\b\b47%\b\b\b47%\b\b\b48%\b\b\b48%\b\b\b48%\b\b\b48%\b\b\b48%\b\b\b48%\b\b\b48%\b\b\b48%"
       ]
      },
      {
       "output_type": "stream",
       "stream": "stdout",
       "text": [
        "\b\b\b48%\b\b\b48%\b\b\b49%\b\b\b49%\b\b\b49%\b\b\b49%\b\b\b49%\b\b\b49%\b\b\b49%\b\b\b49%\b\b\b49%\b\b\b50%\b\b\b50%"
       ]
      },
      {
       "output_type": "stream",
       "stream": "stdout",
       "text": [
        "\b\b\b50%\b\b\b50%\b\b\b50%\b\b\b50%\b\b\b50%\b\b\b50%\b\b\b50%\b\b\b50%\b\b\b51%\b\b\b51%\b\b\b51%\b\b\b51%\b\b\b51%"
       ]
      },
      {
       "output_type": "stream",
       "stream": "stdout",
       "text": [
        "\b\b\b51%\b\b\b51%\b\b\b51%\b\b\b51%\b\b\b51%\b\b\b52%\b\b\b52%\b\b\b52%\b\b\b52%\b\b\b52%\b\b\b52%\b\b\b52%\b\b\b52%"
       ]
      },
      {
       "output_type": "stream",
       "stream": "stdout",
       "text": [
        "\b\b\b52%\b\b\b52%\b\b\b53%\b\b\b53%\b\b\b53%\b\b\b53%\b\b\b53%\b\b\b53%\b\b\b53%\b\b\b53%\b\b\b53%\b\b\b53%\b\b\b54%\b\b\b54%"
       ]
      },
      {
       "output_type": "stream",
       "stream": "stdout",
       "text": [
        "\b\b\b54%\b\b\b54%\b\b\b54%\b\b\b54%\b\b\b54%\b\b\b54%\b\b\b54%\b\b\b54%\b\b\b55%\b\b\b55%\b\b\b55%\b\b\b55%\b\b\b55%"
       ]
      },
      {
       "output_type": "stream",
       "stream": "stdout",
       "text": [
        "\b\b\b55%\b\b\b55%\b\b\b55%\b\b\b55%\b\b\b55%\b\b\b56%\b\b\b56%\b\b\b56%\b\b\b56%\b\b\b56%\b\b\b56%\b\b\b56%\b\b\b56%\b\b\b56%"
       ]
      },
      {
       "output_type": "stream",
       "stream": "stdout",
       "text": [
        "\b\b\b56%\b\b\b57%\b\b\b57%\b\b\b57%\b\b\b57%\b\b\b57%\b\b\b57%\b\b\b57%\b\b\b57%\b\b\b57%\b\b\b57%\b\b\b58%\b\b\b58%"
       ]
      },
      {
       "output_type": "stream",
       "stream": "stdout",
       "text": [
        "\b\b\b58%\b\b\b58%\b\b\b58%\b\b\b58%\b\b\b58%\b\b\b58%\b\b\b58%\b\b\b59%\b\b\b59%\b\b\b59%\b\b\b59%\b\b\b59%\b\b\b59%\b\b\b59%"
       ]
      },
      {
       "output_type": "stream",
       "stream": "stdout",
       "text": [
        "\b\b\b59%\b\b\b59%\b\b\b59%\b\b\b60%\b\b\b60%\b\b\b60%\b\b\b60%\b\b\b60%\b\b\b60%\b\b\b60%\b\b\b60%\b\b\b60%\b\b\b60%"
       ]
      },
      {
       "output_type": "stream",
       "stream": "stdout",
       "text": [
        "\b\b\b61%\b\b\b61%\b\b\b61%\b\b\b61%\b\b\b61%\b\b\b61%\b\b\b61%\b\b\b61%\b\b\b61%\b\b\b61%\b\b\b62%\b\b\b62%"
       ]
      },
      {
       "output_type": "stream",
       "stream": "stdout",
       "text": [
        "\b\b\b62%\b\b\b62%\b\b\b62%\b\b\b62%\b\b\b62%\b\b\b62%\b\b\b62%\b\b\b62%\b\b\b63%\b\b\b63%\b\b\b63%\b\b\b63%\b\b\b63%"
       ]
      },
      {
       "output_type": "stream",
       "stream": "stdout",
       "text": [
        "\b\b\b63%\b\b\b63%\b\b\b63%\b\b\b63%\b\b\b63%\b\b\b64%\b\b\b64%\b\b\b64%\b\b\b64%\b\b\b64%\b\b\b64%\b\b\b64%"
       ]
      },
      {
       "output_type": "stream",
       "stream": "stdout",
       "text": [
        "\b\b\b64%\b\b\b64%\b\b\b64%\b\b\b65%\b\b\b65%\b\b\b65%\b\b\b65%\b\b\b65%\b\b\b65%\b\b\b65%\b\b\b65%\b\b\b65%\b\b\b65%"
       ]
      },
      {
       "output_type": "stream",
       "stream": "stdout",
       "text": [
        "\b\b\b66%\b\b\b66%\b\b\b66%\b\b\b66%\b\b\b66%\b\b\b66%\b\b\b66%\b\b\b66%\b\b\b66%\b\b\b67%\b\b\b67%\b\b\b67%\b\b\b67%"
       ]
      },
      {
       "output_type": "stream",
       "stream": "stdout",
       "text": [
        "\b\b\b67%\b\b\b67%\b\b\b67%\b\b\b67%\b\b\b67%\b\b\b67%\b\b\b68%\b\b\b68%\b\b\b68%\b\b\b68%\b\b\b68%\b\b\b68%\b\b\b68%"
       ]
      },
      {
       "output_type": "stream",
       "stream": "stdout",
       "text": [
        "\b\b\b68%\b\b\b68%\b\b\b68%\b\b\b69%\b\b\b69%\b\b\b69%\b\b\b69%\b\b\b69%\b\b\b69%\b\b\b69%\b\b\b69%\b\b\b69%\b\b\b69%\b\b\b70%"
       ]
      },
      {
       "output_type": "stream",
       "stream": "stdout",
       "text": [
        "\b\b\b70%\b\b\b70%\b\b\b70%\b\b\b70%\b\b\b70%\b\b\b70%\b\b\b70%\b\b\b70%\b\b\b70%\b\b\b71%\b\b\b71%\b\b\b71%\b\b\b71%"
       ]
      },
      {
       "output_type": "stream",
       "stream": "stdout",
       "text": [
        "\b\b\b71%\b\b\b71%\b\b\b71%\b\b\b71%\b\b\b71%\b\b\b71%\b\b\b72%\b\b\b72%\b\b\b72%\b\b\b72%\b\b\b72%\b\b\b72%"
       ]
      },
      {
       "output_type": "stream",
       "stream": "stdout",
       "text": [
        "\b\b\b72%\b\b\b72%\b\b\b72%\b\b\b72%\b\b\b73%\b\b\b73%\b\b\b73%\b\b\b73%\b\b\b73%\b\b\b73%\b\b\b73%\b\b\b73%\b\b\b73%"
       ]
      },
      {
       "output_type": "stream",
       "stream": "stdout",
       "text": [
        "\b\b\b73%\b\b\b74%\b\b\b74%\b\b\b74%\b\b\b74%\b\b\b74%\b\b\b74%\b\b\b74%\b\b\b74%\b\b\b74%\b\b\b75%\b\b\b75%\b\b\b75%\b\b\b75%"
       ]
      },
      {
       "output_type": "stream",
       "stream": "stdout",
       "text": [
        "\b\b\b75%\b\b\b75%\b\b\b75%\b\b\b75%\b\b\b75%\b\b\b75%\b\b\b76%\b\b\b76%\b\b\b76%\b\b\b76%\b\b\b76%\b\b\b76%\b\b\b76%"
       ]
      },
      {
       "output_type": "stream",
       "stream": "stdout",
       "text": [
        "\b\b\b76%\b\b\b76%\b\b\b76%\b\b\b77%\b\b\b77%\b\b\b77%\b\b\b77%\b\b\b77%\b\b\b77%\b\b\b77%\b\b\b77%\b\b\b77%\b\b\b77%"
       ]
      },
      {
       "output_type": "stream",
       "stream": "stdout",
       "text": [
        "\b\b\b78%\b\b\b78%\b\b\b78%\b\b\b78%\b\b\b78%\b\b\b78%\b\b\b78%\b\b\b78%\b\b\b78%\b\b\b78%\b\b\b79%\b\b\b79%\b\b\b79%"
       ]
      },
      {
       "output_type": "stream",
       "stream": "stdout",
       "text": [
        "\b\b\b79%\b\b\b79%\b\b\b79%\b\b\b79%\b\b\b79%\b\b\b79%\b\b\b79%\b\b\b80%\b\b\b80%\b\b\b80%\b\b\b80%\b\b\b80%\b\b\b80%"
       ]
      },
      {
       "output_type": "stream",
       "stream": "stdout",
       "text": [
        "\b\b\b80%\b\b\b80%\b\b\b80%\b\b\b80%\b\b\b81%\b\b\b81%\b\b\b81%\b\b\b81%\b\b\b81%\b\b\b81%\b\b\b81%\b\b\b81%\b\b\b81%"
       ]
      },
      {
       "output_type": "stream",
       "stream": "stdout",
       "text": [
        "\b\b\b81%\b\b\b82%\b\b\b82%\b\b\b82%\b\b\b82%\b\b\b82%\b\b\b82%\b\b\b82%\b\b\b82%\b\b\b82%\b\b\b82%\b\b\b83%\b\b\b83%"
       ]
      },
      {
       "output_type": "stream",
       "stream": "stdout",
       "text": [
        "\b\b\b83%\b\b\b83%\b\b\b83%\b\b\b83%\b\b\b83%\b\b\b83%\b\b\b83%\b\b\b84%\b\b\b84%\b\b\b84%\b\b\b84%\b\b\b84%\b\b\b84%"
       ]
      },
      {
       "output_type": "stream",
       "stream": "stdout",
       "text": [
        "\b\b\b84%\b\b\b84%\b\b\b84%\b\b\b84%\b\b\b85%\b\b\b85%\b\b\b85%\b\b\b85%\b\b\b85%\b\b\b85%\b\b\b85%\b\b\b85%\b\b\b85%"
       ]
      },
      {
       "output_type": "stream",
       "stream": "stdout",
       "text": [
        "\b\b\b85%\b\b\b86%\b\b\b86%\b\b\b86%\b\b\b86%\b\b\b86%\b\b\b86%\b\b\b86%\b\b\b86%\b\b\b86%\b\b\b86%\b\b\b87%\b\b\b87%\b\b\b87%"
       ]
      },
      {
       "output_type": "stream",
       "stream": "stdout",
       "text": [
        "\b\b\b87%\b\b\b87%\b\b\b87%\b\b\b87%\b\b\b87%\b\b\b87%\b\b\b87%\b\b\b88%\b\b\b88%\b\b\b88%\b\b\b88%\b\b\b88%\b\b\b88%"
       ]
      },
      {
       "output_type": "stream",
       "stream": "stdout",
       "text": [
        "\b\b\b88%\b\b\b88%\b\b\b88%\b\b\b88%\b\b\b89%\b\b\b89%\b\b\b89%\b\b\b89%\b\b\b89%\b\b\b89%\b\b\b89%\b\b\b89%\b\b\b89%"
       ]
      },
      {
       "output_type": "stream",
       "stream": "stdout",
       "text": [
        "\b\b\b89%\b\b\b90%\b\b\b90%\b\b\b90%\b\b\b90%\b\b\b90%\b\b\b90%\b\b\b90%\b\b\b90%\b\b\b90%\b\b\b90%\b\b\b91%\b\b\b91%\b\b\b91%"
       ]
      },
      {
       "output_type": "stream",
       "stream": "stdout",
       "text": [
        "\b\b\b91%\b\b\b91%\b\b\b91%\b\b\b91%\b\b\b91%\b\b\b91%\b\b\b92%\b\b\b92%\b\b\b92%\b\b\b92%\b\b\b92%\b\b\b92%\b\b\b92%\b\b\b92%"
       ]
      },
      {
       "output_type": "stream",
       "stream": "stdout",
       "text": [
        "\b\b\b92%\b\b\b92%\b\b\b93%\b\b\b93%\b\b\b93%\b\b\b93%\b\b\b93%\b\b\b93%\b\b\b93%\b\b\b93%\b\b\b93%\b\b\b93%\b\b\b94%"
       ]
      },
      {
       "output_type": "stream",
       "stream": "stdout",
       "text": [
        "\b\b\b94%\b\b\b94%\b\b\b94%\b\b\b94%\b\b\b94%\b\b\b94%\b\b\b94%\b\b\b94%\b\b\b94%\b\b\b95%\b\b\b95%\b\b\b95%\b\b\b95%"
       ]
      },
      {
       "output_type": "stream",
       "stream": "stdout",
       "text": [
        "\b\b\b95%\b\b\b95%\b\b\b95%\b\b\b95%\b\b\b95%\b\b\b95%\b\b\b96%\b\b\b96%\b\b\b96%\b\b\b96%\b\b\b96%\b\b\b96%\b\b\b96%\b\b\b96%"
       ]
      },
      {
       "output_type": "stream",
       "stream": "stdout",
       "text": [
        "\b\b\b96%\b\b\b96%\b\b\b97%\b\b\b97%\b\b\b97%\b\b\b97%\b\b\b97%\b\b\b97%\b\b\b97%\b\b\b97%\b\b\b97%\b\b\b97%\b\b\b98%\b\b\b98%"
       ]
      },
      {
       "output_type": "stream",
       "stream": "stdout",
       "text": [
        "\b\b\b98%\b\b\b98%\b\b\b98%\b\b\b98%\b\b\b98%\b\b\b98%\b\b\b98%\b\b\b98%\b\b\b99%\b\b\b99%\b\b\b99%\b\b\b99%\b\b\b99%"
       ]
      },
      {
       "output_type": "stream",
       "stream": "stdout",
       "text": [
        "\b\b\b99%\b\b\b99%\b\b\b99%\b\b\b99%\b\b\b100%\r",
        ".ped scan complete (for binary autoconversion).\r\n"
       ]
      },
      {
       "output_type": "stream",
       "stream": "stdout",
       "text": [
        "Performing single-pass .bed write (138890 variants, 988 people).\r\n"
       ]
      },
      {
       "output_type": "stream",
       "stream": "stdout",
       "text": [
        "0%\b\b1%\b\b2%"
       ]
      },
      {
       "output_type": "stream",
       "stream": "stdout",
       "text": [
        "\b\b3%"
       ]
      },
      {
       "output_type": "stream",
       "stream": "stdout",
       "text": [
        "\b\b4%\b\b5%"
       ]
      },
      {
       "output_type": "stream",
       "stream": "stdout",
       "text": [
        "\b\b6%\b\b7%"
       ]
      },
      {
       "output_type": "stream",
       "stream": "stdout",
       "text": [
        "\b\b8%"
       ]
      },
      {
       "output_type": "stream",
       "stream": "stdout",
       "text": [
        "\b\b9%\b\b10%"
       ]
      },
      {
       "output_type": "stream",
       "stream": "stdout",
       "text": [
        "\b\b\b11%\b\b\b12%"
       ]
      },
      {
       "output_type": "stream",
       "stream": "stdout",
       "text": [
        "\b\b\b13%"
       ]
      },
      {
       "output_type": "stream",
       "stream": "stdout",
       "text": [
        "\b\b\b14%\b\b\b15%"
       ]
      },
      {
       "output_type": "stream",
       "stream": "stdout",
       "text": [
        "\b\b\b16%"
       ]
      },
      {
       "output_type": "stream",
       "stream": "stdout",
       "text": [
        "\b\b\b17%\b\b\b18%"
       ]
      },
      {
       "output_type": "stream",
       "stream": "stdout",
       "text": [
        "\b\b\b19%\b\b\b20%"
       ]
      },
      {
       "output_type": "stream",
       "stream": "stdout",
       "text": [
        "\b\b\b21%"
       ]
      },
      {
       "output_type": "stream",
       "stream": "stdout",
       "text": [
        "\b\b\b22%\b\b\b23%"
       ]
      },
      {
       "output_type": "stream",
       "stream": "stdout",
       "text": [
        "\b\b\b24%\b\b\b25%"
       ]
      },
      {
       "output_type": "stream",
       "stream": "stdout",
       "text": [
        "\b\b\b26%\b\b\b27%"
       ]
      },
      {
       "output_type": "stream",
       "stream": "stdout",
       "text": [
        "\b\b\b28%\b\b\b29%"
       ]
      },
      {
       "output_type": "stream",
       "stream": "stdout",
       "text": [
        "\b\b\b30%\b\b\b31%"
       ]
      },
      {
       "output_type": "stream",
       "stream": "stdout",
       "text": [
        "\b\b\b32%\b\b\b33%"
       ]
      },
      {
       "output_type": "stream",
       "stream": "stdout",
       "text": [
        "\b\b\b34%\b\b\b35%"
       ]
      },
      {
       "output_type": "stream",
       "stream": "stdout",
       "text": [
        "\b\b\b36%\b\b\b37%"
       ]
      },
      {
       "output_type": "stream",
       "stream": "stdout",
       "text": [
        "\b\b\b38%\b\b\b39%"
       ]
      },
      {
       "output_type": "stream",
       "stream": "stdout",
       "text": [
        "\b\b\b40%\b\b\b41%"
       ]
      },
      {
       "output_type": "stream",
       "stream": "stdout",
       "text": [
        "\b\b\b42%\b\b\b43%"
       ]
      },
      {
       "output_type": "stream",
       "stream": "stdout",
       "text": [
        "\b\b\b44%\b\b\b45%\b\b\b46%"
       ]
      },
      {
       "output_type": "stream",
       "stream": "stdout",
       "text": [
        "\b\b\b47%\b\b\b48%"
       ]
      },
      {
       "output_type": "stream",
       "stream": "stdout",
       "text": [
        "\b\b\b49%\b\b\b50%"
       ]
      },
      {
       "output_type": "stream",
       "stream": "stdout",
       "text": [
        "\b\b\b51%\b\b\b52%"
       ]
      },
      {
       "output_type": "stream",
       "stream": "stdout",
       "text": [
        "\b\b\b53%\b\b\b54%"
       ]
      },
      {
       "output_type": "stream",
       "stream": "stdout",
       "text": [
        "\b\b\b55%\b\b\b56%"
       ]
      },
      {
       "output_type": "stream",
       "stream": "stdout",
       "text": [
        "\b\b\b57%\b\b\b58%"
       ]
      },
      {
       "output_type": "stream",
       "stream": "stdout",
       "text": [
        "\b\b\b59%\b\b\b60%\b\b\b61%"
       ]
      },
      {
       "output_type": "stream",
       "stream": "stdout",
       "text": [
        "\b\b\b62%\b\b\b63%"
       ]
      },
      {
       "output_type": "stream",
       "stream": "stdout",
       "text": [
        "\b\b\b64%\b\b\b65%"
       ]
      },
      {
       "output_type": "stream",
       "stream": "stdout",
       "text": [
        "\b\b\b66%\b\b\b67%"
       ]
      },
      {
       "output_type": "stream",
       "stream": "stdout",
       "text": [
        "\b\b\b68%\b\b\b69%"
       ]
      },
      {
       "output_type": "stream",
       "stream": "stdout",
       "text": [
        "\b\b\b70%\b\b\b71%"
       ]
      },
      {
       "output_type": "stream",
       "stream": "stdout",
       "text": [
        "\b\b\b72%\b\b\b73%"
       ]
      },
      {
       "output_type": "stream",
       "stream": "stdout",
       "text": [
        "\b\b\b74%\b\b\b75%"
       ]
      },
      {
       "output_type": "stream",
       "stream": "stdout",
       "text": [
        "\b\b\b76%\b\b\b77%"
       ]
      },
      {
       "output_type": "stream",
       "stream": "stdout",
       "text": [
        "\b\b\b78%\b\b\b79%"
       ]
      },
      {
       "output_type": "stream",
       "stream": "stdout",
       "text": [
        "\b\b\b80%\b\b\b81%"
       ]
      },
      {
       "output_type": "stream",
       "stream": "stdout",
       "text": [
        "\b\b\b82%\b\b\b83%"
       ]
      },
      {
       "output_type": "stream",
       "stream": "stdout",
       "text": [
        "\b\b\b84%\b\b\b85%"
       ]
      },
      {
       "output_type": "stream",
       "stream": "stdout",
       "text": [
        "\b\b\b86%"
       ]
      },
      {
       "output_type": "stream",
       "stream": "stdout",
       "text": [
        "\b\b\b87%\b\b\b88%"
       ]
      },
      {
       "output_type": "stream",
       "stream": "stdout",
       "text": [
        "\b\b\b89%\b\b\b90%"
       ]
      },
      {
       "output_type": "stream",
       "stream": "stdout",
       "text": [
        "\b\b\b91%\b\b\b92%"
       ]
      },
      {
       "output_type": "stream",
       "stream": "stdout",
       "text": [
        "\b\b\b93%\b\b\b94%"
       ]
      },
      {
       "output_type": "stream",
       "stream": "stdout",
       "text": [
        "\r",
        "--file: keep-temporary.bed + keep-temporary.bim + keep-temporary.fam written.\r\n",
        "138890 variants loaded from .bim file.\r\n",
        "988 people (488 males, 500 females) loaded from .fam.\r\n",
        "Using 1 thread (no multithreaded calculations invoked).\r\n",
        "Before main variant filters, 988 founders and 0 nonfounders present.\r\n",
        "Calculating allele frequencies... 0%\b\b1%\b\b2%\b\b3%\b\b4%\b\b5%\b\b6%\b\b7%\b\b8%\b\b9%\b\b10%\b\b\b11%\b\b\b12%\b\b\b13%\b\b\b14%\b\b\b15%\b\b\b16%\b\b\b17%\b\b\b18%\b\b\b19%\b\b\b20%\b\b\b21%\b\b\b22%\b\b\b23%\b\b\b24%\b\b\b25%\b\b\b26%\b\b\b27%\b\b\b28%\b\b\b29%\b\b\b30%\b\b\b31%\b\b\b32%\b\b\b33%\b\b\b34%\b\b\b35%\b\b\b36%\b\b\b37%\b\b\b38%\b\b\b39%\b\b\b40%\b\b\b41%\b\b\b42%\b\b\b43%\b\b\b44%\b\b\b45%\b\b\b46%\b\b\b47%\b\b\b48%\b\b\b49%\b\b\b50%\b\b\b51%\b\b\b52%\b\b\b53%\b\b\b54%\b\b\b55%\b\b\b56%\b\b\b57%\b\b\b58%\b\b\b59%\b\b\b60%\b\b\b61%\b\b\b62%\b\b\b63%\b\b\b64%\b\b\b65%\b\b\b66%\b\b\b67%\b\b\b68%\b\b\b69%\b\b\b70%\b\b\b71%\b\b\b72%\b\b\b73%\b\b\b74%\b\b\b75%\b\b\b76%\b\b\b77%\b\b\b78%\b\b\b79%\b\b\b80%\b\b\b81%\b\b\b82%\b\b\b83%\b\b\b84%\b\b\b85%\b\b\b86%\b\b\b87%\b\b\b88%\b\b\b89%\b\b\b90%\b\b\b91%\b\b\b92%\b\b\b93%\b\b\b94%\b\b\b95%\b\b\b96%\b\b\b97%\b\b\b98%"
       ]
      },
      {
       "output_type": "stream",
       "stream": "stdout",
       "text": [
        "\b\b\b99%\b\b\b\b done.\r\n",
        "Total genotyping rate is 0.997718.\r\n",
        "138890 variants and 988 people pass filters and QC.\r\n",
        "Note: No phenotypes present.\r\n",
        "\r",
        "1%\r",
        "2%\r",
        "3%\r",
        "4%\r",
        "5%\r",
        "6%\r",
        "7%\r",
        "8%\r",
        "9%\r",
        "10%\r",
        "10%\r",
        "11%\r",
        "12%\r",
        "13%\r",
        "14%\r",
        "14%\r",
        "15%\r",
        "16%\r",
        "17%\r",
        "18%\r",
        "19%\r",
        "20%\r",
        "21%\r",
        "22%\r",
        "23%\r",
        "24%\r",
        "25%\r",
        "25%\r",
        "26%\r",
        "27%\r",
        "28%\r",
        "29%\r",
        "29%\r",
        "30%\r",
        "31%\r",
        "32%\r",
        "33%\r",
        "34%\r",
        "35%\r",
        "36%\r",
        "37%\r",
        "38%\r",
        "39%\r",
        "40%\r",
        "40%\r",
        "41%\r",
        "42%\r",
        "43%\r",
        "44%\r",
        "44%\r",
        "45%\r",
        "46%\r",
        "47%\r",
        "48%\r",
        "49%\r",
        "50%\r",
        "51%\r",
        "52%\r",
        "53%\r",
        "54%\r",
        "55%\r",
        "56%\r",
        "57%\r",
        "58%\r",
        "59%\r",
        "59%\r",
        "60%\r",
        "61%\r",
        "62%\r",
        "63%\r",
        "64%\r",
        "65%\r",
        "66%\r",
        "67%\r",
        "68%\r",
        "69%\r",
        "70%\r",
        "71%\r",
        "72%\r",
        "73%\r",
        "74%\r",
        "74%\r",
        "75%\r",
        "76%\r",
        "77%\r",
        "78%\r",
        "79%\r",
        "80%\r",
        "81%\r",
        "82%\r",
        "83%\r",
        "84%\r",
        "85%\r",
        "86%\r",
        "87%\r",
        "88%\r",
        "89%\r",
        "89%\r",
        "90%\r",
        "91%\r",
        "92%\r",
        "93%\r",
        "94%\r",
        "95%\r",
        "96%\r",
        "97%\r",
        "98%\r",
        "99%\r",
        "Pruned 7113 variants from chromosome 1, leaving 4621.\r\n",
        "\r",
        "1%\r",
        "2%\r",
        "3%\r",
        "3%\r",
        "4%\r",
        "5%\r",
        "6%\r",
        "7%\r",
        "8%\r",
        "9%\r",
        "10%\r",
        "11%\r",
        "12%\r",
        "12%\r",
        "13%\r",
        "14%\r",
        "15%\r",
        "16%\r",
        "17%\r",
        "18%\r",
        "19%\r",
        "20%\r",
        "21%\r",
        "22%\r",
        "23%\r",
        "24%\r",
        "25%\r",
        "25%\r",
        "26%\r",
        "27%\r",
        "28%\r",
        "29%\r",
        "30%\r",
        "31%\r",
        "32%\r",
        "33%\r",
        "34%\r",
        "35%\r",
        "36%\r",
        "37%\r",
        "38%\r",
        "38%\r",
        "39%\r",
        "40%\r",
        "41%\r",
        "42%\r",
        "43%\r",
        "44%\r",
        "45%\r",
        "46%\r",
        "47%\r",
        "47%\r",
        "48%\r",
        "49%\r",
        "50%\r",
        "51%\r",
        "51%\r",
        "52%\r",
        "53%\r",
        "54%\r",
        "55%\r",
        "56%\r",
        "57%\r",
        "58%\r",
        "59%\r",
        "60%\r",
        "60%\r",
        "61%\r",
        "62%\r",
        "63%\r",
        "64%\r",
        "65%\r",
        "66%\r",
        "67%\r",
        "68%\r",
        "69%\r",
        "70%\r",
        "71%\r",
        "72%\r",
        "73%\r",
        "73%\r",
        "74%\r",
        "75%\r",
        "76%"
       ]
      },
      {
       "output_type": "stream",
       "stream": "stdout",
       "text": [
        "\r",
        "77%\r",
        "78%\r",
        "79%\r",
        "80%\r",
        "81%\r",
        "82%\r",
        "83%\r",
        "84%\r",
        "85%\r",
        "86%\r",
        "86%\r",
        "87%\r",
        "88%\r",
        "89%\r",
        "90%\r",
        "91%\r",
        "92%\r",
        "93%\r",
        "94%\r",
        "95%\r",
        "95%\r",
        "96%\r",
        "97%\r",
        "98%\r",
        "99%\r",
        "Pruned 7514 variants from chromosome 2, leaving 4257.\r\n",
        "\r",
        "1%\r",
        "2%\r",
        "3%\r",
        "4%\r",
        "5%\r",
        "6%\r",
        "7%\r",
        "8%\r",
        "9%\r",
        "10%\r",
        "11%\r",
        "12%\r",
        "13%\r",
        "13%\r",
        "14%\r",
        "15%\r",
        "16%\r",
        "16%\r",
        "17%\r",
        "18%\r",
        "19%\r",
        "20%\r",
        "21%\r",
        "22%\r",
        "23%\r",
        "24%\r",
        "25%\r",
        "26%\r",
        "27%\r",
        "28%\r",
        "29%\r",
        "30%\r",
        "30%\r",
        "31%\r",
        "32%\r",
        "33%\r",
        "33%\r",
        "34%\r",
        "35%\r",
        "36%\r",
        "37%\r",
        "38%\r",
        "39%\r",
        "40%\r",
        "41%\r",
        "42%\r",
        "43%\r",
        "44%\r",
        "45%\r",
        "46%\r",
        "47%\r",
        "48%\r",
        "49%\r",
        "50%\r",
        "50%\r",
        "51%\r",
        "52%\r",
        "53%\r",
        "54%\r",
        "55%\r",
        "56%\r",
        "57%\r",
        "58%\r",
        "59%\r",
        "60%\r",
        "61%\r",
        "62%\r",
        "63%\r",
        "64%\r",
        "65%\r",
        "66%\r",
        "67%\r",
        "67%\r",
        "68%\r",
        "69%\r",
        "70%\r",
        "70%\r",
        "71%\r",
        "72%\r",
        "73%\r",
        "74%\r",
        "75%\r",
        "76%\r",
        "77%\r",
        "78%\r",
        "79%\r",
        "80%\r",
        "81%\r",
        "82%\r",
        "83%\r",
        "84%\r",
        "84%\r",
        "85%\r",
        "86%\r",
        "87%\r",
        "87%\r",
        "88%\r",
        "89%\r",
        "90%\r",
        "91%\r",
        "92%\r",
        "93%\r",
        "94%\r",
        "95%\r",
        "96%\r",
        "97%\r",
        "98%\r",
        "99%\r",
        "Pruned 5963 variants from chromosome 3, leaving 3685.\r\n",
        "\r",
        "1%\r",
        "1%\r",
        "2%\r",
        "3%\r",
        "4%\r",
        "5%\r",
        "6%\r",
        "7%\r",
        "8%\r",
        "9%\r",
        "10%\r",
        "11%\r",
        "12%\r",
        "12%\r",
        "13%\r",
        "14%\r",
        "15%\r",
        "16%\r",
        "17%\r",
        "18%\r",
        "19%\r",
        "20%\r",
        "21%\r",
        "22%\r",
        "23%\r",
        "23%\r",
        "24%\r",
        "25%\r",
        "26%\r",
        "27%\r",
        "28%\r",
        "29%\r",
        "30%\r",
        "31%\r",
        "32%\r",
        "33%\r",
        "34%\r",
        "34%\r",
        "35%\r",
        "36%\r",
        "36%\r",
        "37%\r",
        "38%\r",
        "39%\r",
        "40%\r",
        "41%\r",
        "42%\r",
        "43%\r",
        "44%\r",
        "45%\r",
        "46%\r",
        "47%\r",
        "47%\r",
        "48%\r",
        "49%\r",
        "50%\r",
        "51%\r",
        "52%\r",
        "53%\r",
        "54%\r",
        "55%\r",
        "56%\r",
        "57%\r",
        "58%\r",
        "58%\r",
        "59%\r",
        "60%\r",
        "61%\r",
        "62%\r",
        "63%\r",
        "64%\r",
        "65%\r",
        "66%\r",
        "67%\r",
        "68%\r",
        "69%\r",
        "69%\r",
        "70%\r",
        "71%\r",
        "71%\r",
        "72%\r",
        "73%\r",
        "74%\r",
        "75%\r",
        "76%\r",
        "77%\r",
        "78%\r",
        "79%\r",
        "80%\r",
        "81%\r",
        "82%\r",
        "82%\r",
        "83%\r",
        "84%\r",
        "85%\r",
        "86%\r",
        "87%\r",
        "88%\r",
        "89%\r",
        "90%\r",
        "91%\r",
        "92%\r",
        "93%\r",
        "93%\r",
        "94%\r",
        "95%\r",
        "96%"
       ]
      },
      {
       "output_type": "stream",
       "stream": "stdout",
       "text": [
        "\r",
        "97%\r",
        "98%\r",
        "99%\r",
        "Pruned 5240 variants from chromosome 4, leaving 3303.\r\n",
        "\r",
        "1%\r",
        "2%\r",
        "3%\r",
        "4%\r",
        "5%\r",
        "6%\r",
        "7%\r",
        "8%\r",
        "9%\r",
        "10%\r",
        "11%\r",
        "12%\r",
        "13%\r",
        "14%\r",
        "15%\r",
        "16%\r",
        "17%\r",
        "18%\r",
        "19%\r",
        "20%\r",
        "21%\r",
        "22%\r",
        "23%\r",
        "24%\r",
        "25%\r",
        "26%\r",
        "27%\r",
        "28%\r",
        "29%\r",
        "30%\r",
        "31%\r",
        "32%\r",
        "33%\r",
        "34%\r",
        "35%\r",
        "36%\r",
        "37%\r",
        "37%\r",
        "38%\r",
        "39%\r",
        "40%\r",
        "41%\r",
        "42%\r",
        "43%\r",
        "44%\r",
        "44%\r",
        "45%\r",
        "46%\r",
        "47%\r",
        "48%\r",
        "49%\r",
        "50%\r",
        "51%\r",
        "51%\r",
        "52%\r",
        "53%\r",
        "54%\r",
        "55%\r",
        "56%\r",
        "57%\r",
        "58%\r",
        "58%\r",
        "59%\r",
        "60%\r",
        "61%\r",
        "62%\r",
        "63%\r",
        "64%\r",
        "65%\r",
        "65%\r",
        "66%\r",
        "67%\r",
        "68%\r",
        "69%\r",
        "70%\r",
        "71%\r",
        "72%\r",
        "72%\r",
        "73%\r",
        "74%\r",
        "75%\r",
        "76%\r",
        "77%\r",
        "78%\r",
        "79%\r",
        "79%\r",
        "80%\r",
        "81%\r",
        "82%\r",
        "83%\r",
        "84%\r",
        "85%\r",
        "86%\r",
        "86%\r",
        "87%\r",
        "88%\r",
        "89%\r",
        "90%\r",
        "91%\r",
        "92%\r",
        "93%\r",
        "93%\r",
        "94%\r",
        "95%\r",
        "96%\r",
        "97%\r",
        "98%\r",
        "99%\r",
        "Pruned 5277 variants from chromosome 5, leaving 3436.\r\n",
        "\r",
        "1%\r",
        "2%\r",
        "3%\r",
        "4%\r",
        "5%\r",
        "6%\r",
        "7%\r",
        "8%\r",
        "9%\r",
        "10%\r",
        "11%\r",
        "12%\r",
        "13%\r",
        "14%\r",
        "15%\r",
        "16%\r",
        "17%\r",
        "18%\r",
        "19%\r",
        "20%\r",
        "21%\r",
        "22%\r",
        "23%\r",
        "24%\r",
        "25%\r",
        "26%\r",
        "27%\r",
        "28%\r",
        "29%\r",
        "30%\r",
        "31%\r",
        "32%\r",
        "33%\r",
        "34%\r",
        "35%\r",
        "36%\r",
        "37%\r",
        "38%\r",
        "39%\r",
        "40%\r",
        "41%\r",
        "42%\r",
        "43%\r",
        "44%\r",
        "45%\r",
        "46%\r",
        "47%\r",
        "48%\r",
        "49%\r",
        "50%\r",
        "51%\r",
        "52%\r",
        "53%\r",
        "54%\r",
        "55%\r",
        "56%\r",
        "57%\r",
        "58%\r",
        "59%\r",
        "60%\r",
        "61%\r",
        "62%\r",
        "63%\r",
        "64%\r",
        "65%\r",
        "66%\r",
        "67%\r",
        "68%\r",
        "69%\r",
        "70%\r",
        "71%\r",
        "72%\r",
        "73%\r",
        "74%\r",
        "75%\r",
        "76%\r",
        "77%\r",
        "78%\r",
        "79%\r",
        "80%\r",
        "81%\r",
        "82%\r",
        "83%\r",
        "84%\r",
        "85%\r",
        "86%\r",
        "87%\r",
        "88%\r",
        "89%\r",
        "90%\r",
        "91%\r",
        "92%\r",
        "93%\r",
        "94%\r",
        "95%\r",
        "96%\r",
        "97%\r",
        "98%\r",
        "99%\r",
        "Pruned 5623 variants from chromosome 6, leaving 3488.\r\n",
        "\r",
        "1%\r",
        "2%\r",
        "3%\r",
        "4%\r",
        "5%\r",
        "6%\r",
        "7%\r",
        "8%\r",
        "9%\r",
        "10%\r",
        "11%\r",
        "12%\r",
        "13%\r",
        "14%\r",
        "15%\r",
        "16%\r",
        "17%\r",
        "18%\r",
        "19%\r",
        "20%\r",
        "21%\r",
        "22%\r",
        "23%\r",
        "24%\r",
        "25%\r",
        "26%\r",
        "27%\r",
        "28%\r",
        "29%\r",
        "30%\r",
        "31%\r",
        "32%\r",
        "33%\r",
        "34%\r",
        "35%\r",
        "36%\r",
        "37%\r",
        "38%\r",
        "39%"
       ]
      },
      {
       "output_type": "stream",
       "stream": "stdout",
       "text": [
        "\r",
        "40%\r",
        "41%\r",
        "42%\r",
        "43%\r",
        "44%\r",
        "45%\r",
        "46%\r",
        "47%\r",
        "48%\r",
        "49%\r",
        "50%\r",
        "51%\r",
        "52%\r",
        "53%\r",
        "54%\r",
        "55%\r",
        "56%\r",
        "57%\r",
        "58%\r",
        "59%\r",
        "60%\r",
        "61%\r",
        "62%\r",
        "63%\r",
        "64%\r",
        "65%\r",
        "66%\r",
        "67%\r",
        "68%\r",
        "69%\r",
        "70%\r",
        "71%\r",
        "72%\r",
        "73%\r",
        "74%\r",
        "75%\r",
        "76%\r",
        "77%\r",
        "78%\r",
        "79%\r",
        "80%\r",
        "81%\r",
        "82%\r",
        "83%\r",
        "84%\r",
        "85%\r",
        "86%\r",
        "87%\r",
        "88%\r",
        "89%\r",
        "90%\r",
        "91%\r",
        "92%\r",
        "93%\r",
        "94%\r",
        "95%\r",
        "96%\r",
        "97%\r",
        "98%\r",
        "99%\r",
        "Pruned 4598 variants from chromosome 7, leaving 3001.\r\n",
        "\r",
        "1%\r",
        "1%\r",
        "2%\r",
        "3%\r",
        "3%\r",
        "4%\r",
        "5%\r",
        "5%\r",
        "6%\r",
        "7%\r",
        "7%\r",
        "8%\r",
        "9%\r",
        "9%\r",
        "10%\r",
        "11%\r",
        "11%\r",
        "12%\r",
        "13%\r",
        "13%\r",
        "14%\r",
        "15%\r",
        "15%\r",
        "16%\r",
        "17%\r",
        "17%\r",
        "18%\r",
        "19%\r",
        "19%\r",
        "20%\r",
        "21%\r",
        "21%\r",
        "22%\r",
        "23%\r",
        "23%\r",
        "24%\r",
        "25%\r",
        "25%\r",
        "26%\r",
        "27%\r",
        "27%\r",
        "28%\r",
        "29%\r",
        "29%\r",
        "30%\r",
        "31%\r",
        "31%\r",
        "32%\r",
        "33%\r",
        "33%\r",
        "34%\r",
        "35%\r",
        "35%\r",
        "36%\r",
        "37%\r",
        "37%\r",
        "38%\r",
        "39%\r",
        "39%\r",
        "40%\r",
        "41%\r",
        "41%\r",
        "42%\r",
        "43%\r",
        "43%\r",
        "44%\r",
        "45%\r",
        "45%\r",
        "46%\r",
        "47%\r",
        "47%\r",
        "48%\r",
        "49%\r",
        "50%\r",
        "51%\r",
        "52%\r",
        "53%\r",
        "54%\r",
        "55%\r",
        "56%\r",
        "57%\r",
        "58%\r",
        "59%\r",
        "60%\r",
        "61%\r",
        "62%\r",
        "63%\r",
        "64%\r",
        "65%\r",
        "66%\r",
        "67%\r",
        "68%\r",
        "69%\r",
        "70%\r",
        "71%\r",
        "72%\r",
        "73%\r",
        "74%\r",
        "75%\r",
        "76%\r",
        "77%\r",
        "78%\r",
        "79%\r",
        "80%\r",
        "81%\r",
        "82%\r",
        "83%\r",
        "84%\r",
        "85%\r",
        "86%\r",
        "87%\r",
        "88%\r",
        "89%\r",
        "90%\r",
        "91%\r",
        "92%\r",
        "93%\r",
        "94%\r",
        "95%\r",
        "96%\r",
        "97%\r",
        "98%\r",
        "99%\r",
        "Pruned 4718 variants from chromosome 8, leaving 2784.\r\n",
        "\r",
        "1%\r",
        "2%\r",
        "3%\r",
        "4%\r",
        "5%\r",
        "6%\r",
        "6%\r",
        "7%\r",
        "8%\r",
        "9%\r",
        "10%\r",
        "11%\r",
        "12%\r",
        "13%\r",
        "13%\r",
        "14%\r",
        "15%\r",
        "16%\r",
        "17%\r",
        "18%\r",
        "19%\r",
        "20%\r",
        "20%\r",
        "21%\r",
        "22%\r",
        "23%\r",
        "24%\r",
        "25%\r",
        "26%\r",
        "27%\r",
        "28%\r",
        "29%\r",
        "30%\r",
        "31%\r",
        "32%\r",
        "33%\r",
        "34%\r",
        "35%\r",
        "36%\r",
        "37%\r",
        "37%\r",
        "38%\r",
        "39%\r",
        "40%\r",
        "41%\r",
        "42%\r",
        "43%\r",
        "44%\r",
        "44%\r",
        "45%\r",
        "46%\r",
        "47%\r",
        "48%\r",
        "49%\r",
        "50%\r",
        "51%\r",
        "51%\r",
        "52%\r",
        "53%\r",
        "54%\r",
        "55%\r",
        "56%\r",
        "57%\r",
        "58%\r",
        "59%\r",
        "60%\r",
        "61%\r",
        "62%\r",
        "63%\r",
        "64%\r",
        "65%\r",
        "66%\r",
        "67%\r",
        "68%\r",
        "68%\r",
        "69%\r",
        "70%\r",
        "71%\r",
        "72%\r",
        "73%\r",
        "74%\r",
        "75%\r",
        "75%\r",
        "76%\r",
        "77%\r",
        "78%\r",
        "79%\r",
        "80%\r",
        "81%\r",
        "82%\r",
        "82%\r",
        "83%\r",
        "84%\r",
        "85%\r",
        "86%\r",
        "87%\r",
        "88%\r",
        "89%\r",
        "90%\r",
        "91%\r",
        "92%\r",
        "93%\r",
        "94%\r",
        "95%\r",
        "96%\r",
        "97%\r",
        "98%\r",
        "99%\r",
        "Pruned 3711 variants from chromosome 9, leaving 2579.\r\n",
        "\r",
        "1%\r",
        "2%\r",
        "3%\r",
        "4%\r",
        "5%\r",
        "6%\r",
        "6%\r",
        "7%\r",
        "8%\r",
        "9%\r",
        "10%\r",
        "11%\r",
        "12%\r",
        "13%\r",
        "14%\r",
        "15%\r",
        "15%\r",
        "16%\r",
        "17%\r",
        "18%\r",
        "19%\r",
        "20%\r",
        "21%\r",
        "22%\r",
        "22%\r",
        "23%\r",
        "24%\r",
        "25%\r",
        "26%\r",
        "27%\r",
        "28%\r",
        "29%\r",
        "30%\r",
        "31%\r",
        "31%\r",
        "32%\r",
        "33%\r",
        "34%\r",
        "35%\r",
        "36%"
       ]
      },
      {
       "output_type": "stream",
       "stream": "stdout",
       "text": [
        "\r",
        "37%\r",
        "38%\r",
        "38%\r",
        "39%\r",
        "40%\r",
        "41%\r",
        "42%\r",
        "43%\r",
        "44%\r",
        "45%\r",
        "46%\r",
        "47%\r",
        "47%\r",
        "48%\r",
        "49%\r",
        "50%\r",
        "51%\r",
        "52%\r",
        "53%\r",
        "54%\r",
        "54%\r",
        "55%\r",
        "56%\r",
        "57%\r",
        "58%\r",
        "59%\r",
        "60%\r",
        "61%\r",
        "62%\r",
        "63%\r",
        "63%\r",
        "64%\r",
        "65%\r",
        "66%\r",
        "67%\r",
        "68%\r",
        "69%\r",
        "70%\r",
        "70%\r",
        "71%\r",
        "72%\r",
        "73%\r",
        "74%\r",
        "75%\r",
        "76%\r",
        "77%\r",
        "78%\r",
        "79%\r",
        "79%\r",
        "80%\r",
        "81%\r",
        "82%\r",
        "83%\r",
        "84%\r",
        "85%\r",
        "86%\r",
        "87%\r",
        "88%\r",
        "89%\r",
        "90%\r",
        "91%\r",
        "92%\r",
        "93%\r",
        "94%\r",
        "95%\r",
        "95%\r",
        "96%\r",
        "97%\r",
        "98%\r",
        "99%\r",
        "Pruned 4552 variants from chromosome 10, leaving 2886.\r\n",
        "\r",
        "1%\r",
        "2%\r",
        "3%\r",
        "4%\r",
        "5%\r",
        "5%\r",
        "6%\r",
        "7%\r",
        "8%\r",
        "9%\r",
        "10%\r",
        "10%\r",
        "11%\r",
        "12%\r",
        "13%\r",
        "14%\r",
        "15%\r",
        "16%\r",
        "17%\r",
        "18%\r",
        "19%\r",
        "20%\r",
        "21%\r",
        "21%\r",
        "22%\r",
        "23%\r",
        "24%\r",
        "25%\r",
        "26%\r",
        "27%\r",
        "28%\r",
        "29%\r",
        "30%\r",
        "31%\r",
        "32%\r",
        "32%\r",
        "33%\r",
        "34%\r",
        "35%\r",
        "36%\r",
        "37%\r",
        "38%\r",
        "39%\r",
        "40%\r",
        "41%\r",
        "42%\r",
        "43%\r",
        "43%\r",
        "44%\r",
        "45%\r",
        "46%\r",
        "47%\r",
        "48%\r",
        "49%\r",
        "50%\r",
        "51%\r",
        "52%\r",
        "53%\r",
        "54%\r",
        "54%\r",
        "55%\r",
        "56%\r",
        "57%\r",
        "58%\r",
        "59%\r",
        "60%\r",
        "61%\r",
        "62%\r",
        "63%\r",
        "64%\r",
        "65%\r",
        "65%\r",
        "66%\r",
        "67%\r",
        "68%\r",
        "69%\r",
        "70%\r",
        "71%\r",
        "72%\r",
        "73%\r",
        "74%\r",
        "75%\r",
        "76%\r",
        "76%\r",
        "77%\r",
        "78%\r",
        "79%\r",
        "80%\r",
        "81%\r",
        "81%\r",
        "82%\r",
        "83%\r",
        "84%\r",
        "85%\r",
        "86%\r",
        "87%\r",
        "88%\r",
        "89%\r",
        "90%\r",
        "91%\r",
        "92%\r",
        "92%\r",
        "93%\r",
        "94%\r",
        "95%\r",
        "96%\r",
        "97%\r",
        "98%\r",
        "99%\r",
        "Pruned 4455 variants from chromosome 11, leaving 2728.\r\n",
        "\r",
        "1%\r",
        "2%\r",
        "3%\r",
        "4%\r",
        "5%\r",
        "6%\r",
        "7%\r",
        "8%\r",
        "8%\r",
        "9%\r",
        "10%\r",
        "11%\r",
        "12%\r",
        "13%\r",
        "14%\r",
        "15%\r",
        "16%\r",
        "17%\r",
        "17%\r",
        "18%\r",
        "19%\r",
        "20%\r",
        "21%\r",
        "22%\r",
        "23%\r",
        "24%\r",
        "25%\r",
        "26%\r",
        "27%\r",
        "27%\r",
        "28%\r",
        "29%\r",
        "30%\r",
        "31%\r",
        "32%\r",
        "33%\r",
        "34%\r",
        "35%\r",
        "36%\r",
        "36%\r",
        "37%\r",
        "38%\r",
        "39%\r",
        "40%\r",
        "41%\r",
        "42%\r",
        "43%\r",
        "44%\r",
        "45%\r",
        "46%\r",
        "46%\r",
        "47%\r",
        "48%\r",
        "49%\r",
        "50%\r",
        "51%\r",
        "52%\r",
        "53%\r",
        "54%\r",
        "55%\r",
        "55%\r",
        "56%\r",
        "57%\r",
        "58%\r",
        "59%\r",
        "60%\r",
        "61%\r",
        "62%\r",
        "63%\r",
        "64%\r",
        "65%\r",
        "65%\r",
        "66%\r",
        "67%\r",
        "68%\r",
        "69%\r",
        "70%\r",
        "71%\r",
        "72%\r",
        "73%\r",
        "74%\r",
        "74%\r",
        "75%\r",
        "76%\r",
        "77%\r",
        "78%\r",
        "79%\r",
        "80%\r",
        "81%\r",
        "82%\r",
        "83%\r",
        "83%\r",
        "84%\r",
        "85%\r",
        "86%\r",
        "87%\r",
        "88%\r",
        "89%\r",
        "90%\r",
        "91%\r",
        "92%\r",
        "93%\r",
        "93%\r",
        "94%\r",
        "95%\r",
        "96%\r",
        "97%\r",
        "98%\r",
        "99%\r",
        "Pruned 4041 variants from chromosome 12, leaving 2853.\r\n",
        "\r",
        "1%\r",
        "2%\r",
        "2%\r",
        "3%\r",
        "4%\r",
        "5%\r",
        "6%\r",
        "7%\r",
        "8%\r",
        "9%\r",
        "10%\r",
        "11%\r",
        "12%\r",
        "13%\r",
        "14%\r",
        "15%\r",
        "16%\r",
        "17%\r",
        "18%\r",
        "19%\r",
        "19%\r",
        "20%\r",
        "21%\r",
        "22%\r",
        "22%\r",
        "23%\r",
        "24%"
       ]
      },
      {
       "output_type": "stream",
       "stream": "stdout",
       "text": [
        "\r",
        "25%\r",
        "26%\r",
        "27%\r",
        "28%\r",
        "29%\r",
        "30%\r",
        "31%\r",
        "32%\r",
        "33%\r",
        "34%\r",
        "35%\r",
        "36%\r",
        "37%\r",
        "38%\r",
        "39%\r",
        "39%\r",
        "40%\r",
        "41%\r",
        "42%\r",
        "42%\r",
        "43%\r",
        "44%\r",
        "45%\r",
        "46%\r",
        "47%\r",
        "48%\r",
        "49%\r",
        "50%\r",
        "51%\r",
        "52%\r",
        "53%\r",
        "54%\r",
        "55%\r",
        "56%\r",
        "56%\r",
        "57%\r",
        "58%\r",
        "59%\r",
        "59%\r",
        "60%\r",
        "61%\r",
        "62%\r",
        "63%\r",
        "64%\r",
        "65%\r",
        "66%\r",
        "67%\r",
        "68%\r",
        "69%\r",
        "70%\r",
        "71%\r",
        "72%\r",
        "73%\r",
        "74%\r",
        "75%\r",
        "76%\r",
        "76%\r",
        "77%\r",
        "78%\r",
        "79%\r",
        "79%\r",
        "80%\r",
        "81%\r",
        "82%\r",
        "83%\r",
        "84%\r",
        "85%\r",
        "86%\r",
        "87%\r",
        "88%\r",
        "89%\r",
        "90%\r",
        "91%\r",
        "92%\r",
        "93%\r",
        "94%\r",
        "95%\r",
        "96%\r",
        "96%\r",
        "97%\r",
        "98%\r",
        "99%\r",
        "Pruned 3221 variants from chromosome 13, leaving 2130.\r\n",
        "\r",
        "1%\r",
        "2%\r",
        "3%\r",
        "4%\r",
        "5%\r",
        "6%\r",
        "7%\r",
        "8%\r",
        "8%\r",
        "9%\r",
        "10%\r",
        "11%\r",
        "12%\r",
        "13%\r",
        "14%\r",
        "15%\r",
        "16%\r",
        "17%\r",
        "17%\r",
        "18%\r",
        "19%\r",
        "20%\r",
        "21%\r",
        "22%\r",
        "23%\r",
        "24%\r",
        "24%\r",
        "25%\r",
        "26%\r",
        "27%\r",
        "28%\r",
        "29%\r",
        "30%\r",
        "31%\r",
        "32%\r",
        "33%\r",
        "33%\r",
        "34%\r",
        "35%\r",
        "36%\r",
        "37%\r",
        "38%\r",
        "39%\r",
        "40%\r",
        "40%\r",
        "41%\r",
        "42%\r",
        "43%\r",
        "44%\r",
        "45%\r",
        "46%\r",
        "47%\r",
        "48%\r",
        "49%\r",
        "49%\r",
        "50%\r",
        "51%\r",
        "52%\r",
        "53%\r",
        "54%\r",
        "55%\r",
        "56%\r",
        "57%\r",
        "58%\r",
        "58%\r",
        "59%\r",
        "60%\r",
        "61%\r",
        "62%\r",
        "63%\r",
        "64%\r",
        "65%\r",
        "65%\r",
        "66%\r",
        "67%\r",
        "68%\r",
        "69%\r",
        "70%\r",
        "71%\r",
        "72%\r",
        "73%\r",
        "74%\r",
        "74%\r",
        "75%\r",
        "76%\r",
        "77%\r",
        "78%\r",
        "79%\r",
        "80%\r",
        "81%\r",
        "81%\r",
        "82%\r",
        "83%\r",
        "84%\r",
        "85%\r",
        "86%\r",
        "87%\r",
        "88%\r",
        "89%\r",
        "90%\r",
        "90%\r",
        "91%\r",
        "92%\r",
        "93%\r",
        "94%\r",
        "95%\r",
        "96%\r",
        "97%\r",
        "98%\r",
        "99%\r",
        "Pruned 2658 variants from chromosome 14, leaving 1903.\r\n",
        "\r",
        "1%\r",
        "2%\r",
        "3%\r",
        "4%\r",
        "5%\r",
        "6%\r",
        "7%\r",
        "8%\r",
        "9%\r",
        "10%\r",
        "10%\r",
        "11%\r",
        "12%\r",
        "13%\r",
        "14%\r",
        "15%\r",
        "16%\r",
        "17%\r",
        "17%\r",
        "18%\r",
        "19%\r",
        "20%\r",
        "21%\r",
        "22%\r",
        "23%\r",
        "24%\r",
        "25%\r",
        "26%\r",
        "27%\r",
        "28%\r",
        "28%\r",
        "29%\r",
        "30%\r",
        "31%\r",
        "32%\r",
        "33%\r",
        "34%\r",
        "35%\r",
        "35%\r",
        "36%\r",
        "37%\r",
        "38%\r",
        "39%\r",
        "40%\r",
        "41%\r",
        "42%\r",
        "43%\r",
        "44%\r",
        "45%\r",
        "46%\r",
        "46%\r",
        "47%\r",
        "48%\r",
        "49%\r",
        "50%\r",
        "51%\r",
        "52%\r",
        "53%\r",
        "53%\r",
        "54%\r",
        "55%\r",
        "56%\r",
        "57%\r",
        "58%\r",
        "59%\r",
        "60%\r",
        "61%\r",
        "62%\r",
        "63%\r",
        "64%\r",
        "64%\r",
        "65%\r",
        "66%\r",
        "67%\r",
        "68%\r",
        "69%\r",
        "70%\r",
        "71%\r",
        "71%\r",
        "72%\r",
        "73%\r",
        "74%\r",
        "75%\r",
        "76%\r",
        "77%\r",
        "78%\r",
        "79%\r",
        "80%\r",
        "81%\r",
        "82%\r",
        "82%\r",
        "83%\r",
        "84%\r",
        "85%\r",
        "86%\r",
        "87%\r",
        "88%\r",
        "89%\r",
        "89%\r",
        "90%\r",
        "91%\r",
        "92%\r",
        "93%\r",
        "94%\r",
        "95%\r",
        "96%\r",
        "97%\r",
        "98%\r",
        "99%\r",
        "Pruned 2538 variants from chromosome 15, leaving 1740.\r\n",
        "\r",
        "1%\r",
        "2%\r",
        "2%\r",
        "3%\r",
        "4%\r",
        "5%\r",
        "6%\r",
        "7%\r",
        "8%\r",
        "9%\r",
        "10%\r",
        "11%\r",
        "12%\r",
        "13%\r",
        "13%\r",
        "14%\r",
        "15%\r",
        "16%\r",
        "17%\r",
        "18%\r",
        "19%\r",
        "20%\r",
        "21%\r",
        "22%\r",
        "23%\r",
        "24%\r",
        "24%\r",
        "25%\r",
        "26%\r",
        "27%\r",
        "28%\r",
        "29%\r",
        "30%\r",
        "31%\r",
        "32%\r",
        "33%\r",
        "34%\r",
        "35%\r",
        "36%\r",
        "37%\r",
        "38%\r",
        "38%\r",
        "39%\r",
        "40%\r",
        "41%\r",
        "42%\r",
        "43%\r",
        "44%\r",
        "45%\r",
        "46%\r",
        "47%\r",
        "48%\r",
        "49%\r",
        "49%\r",
        "50%\r",
        "51%\r",
        "52%\r",
        "53%\r",
        "54%\r",
        "55%\r",
        "56%\r",
        "57%\r",
        "58%\r",
        "59%\r",
        "60%\r",
        "60%\r",
        "61%\r",
        "62%\r",
        "63%\r",
        "64%\r",
        "65%\r",
        "66%\r",
        "67%\r",
        "68%\r",
        "69%\r",
        "70%\r",
        "71%\r",
        "72%\r",
        "73%\r",
        "74%\r",
        "74%\r",
        "75%\r",
        "76%\r",
        "77%\r",
        "78%\r",
        "79%\r",
        "80%\r",
        "81%\r",
        "82%\r",
        "83%\r",
        "84%\r",
        "85%\r",
        "85%\r",
        "86%\r",
        "87%\r",
        "88%\r",
        "89%\r",
        "90%\r",
        "91%\r",
        "92%\r",
        "93%\r",
        "94%\r",
        "95%\r",
        "96%\r",
        "96%\r",
        "97%\r",
        "98%\r",
        "99%\r",
        "Pruned 2450 variants from chromosome 16, leaving 1911.\r\n",
        "\r",
        "1%\r",
        "2%\r",
        "3%\r",
        "4%\r",
        "5%\r",
        "5%\r",
        "6%\r",
        "7%\r",
        "8%\r",
        "9%\r",
        "10%\r",
        "11%\r",
        "12%\r",
        "12%\r",
        "13%\r",
        "14%\r",
        "15%\r",
        "16%\r",
        "17%\r",
        "18%\r",
        "19%\r",
        "20%\r",
        "21%\r",
        "22%\r",
        "23%\r",
        "24%\r",
        "25%\r",
        "25%\r",
        "26%\r",
        "27%\r",
        "28%\r",
        "29%\r",
        "30%\r",
        "31%\r",
        "32%\r",
        "32%\r",
        "33%\r",
        "34%"
       ]
      },
      {
       "output_type": "stream",
       "stream": "stdout",
       "text": [
        "\r",
        "35%\r",
        "36%\r",
        "37%\r",
        "38%\r",
        "39%\r",
        "40%\r",
        "41%\r",
        "42%\r",
        "43%\r",
        "44%\r",
        "45%\r",
        "45%\r",
        "46%\r",
        "47%\r",
        "48%\r",
        "49%\r",
        "50%\r",
        "51%\r",
        "52%\r",
        "53%\r",
        "54%\r",
        "55%\r",
        "56%\r",
        "57%\r",
        "58%\r",
        "58%\r",
        "59%\r",
        "60%\r",
        "61%\r",
        "62%\r",
        "63%\r",
        "64%\r",
        "65%\r",
        "65%\r",
        "66%\r",
        "67%\r",
        "68%\r",
        "69%\r",
        "70%\r",
        "71%\r",
        "72%\r",
        "73%\r",
        "74%\r",
        "75%\r",
        "76%\r",
        "77%\r",
        "78%\r",
        "78%\r",
        "79%\r",
        "80%\r",
        "81%\r",
        "82%\r",
        "83%\r",
        "84%\r",
        "85%\r",
        "85%\r",
        "86%\r",
        "87%\r",
        "88%\r",
        "89%\r",
        "90%\r",
        "91%\r",
        "92%\r",
        "93%\r",
        "94%\r",
        "95%\r",
        "96%\r",
        "97%\r",
        "98%\r",
        "98%\r",
        "99%\r",
        "Pruned 2119 variants from chromosome 17, leaving 1730.\r\n",
        "\r",
        "0%\r",
        "1%\r",
        "1%\r",
        "2%\r",
        "3%\r",
        "4%\r",
        "5%\r",
        "6%\r",
        "7%\r",
        "8%\r",
        "9%\r",
        "10%\r",
        "11%\r",
        "12%\r",
        "13%\r",
        "14%\r",
        "15%\r",
        "16%\r",
        "17%\r",
        "18%\r",
        "19%\r",
        "20%\r",
        "21%\r",
        "22%\r",
        "23%\r",
        "24%\r",
        "25%\r",
        "25%\r",
        "26%\r",
        "26%\r",
        "27%\r",
        "27%\r",
        "28%\r",
        "29%\r",
        "30%\r",
        "31%\r",
        "32%\r",
        "33%\r",
        "34%\r",
        "35%\r",
        "36%\r",
        "37%\r",
        "38%\r",
        "39%\r",
        "40%\r",
        "41%\r",
        "42%\r",
        "43%\r",
        "44%\r",
        "45%\r",
        "46%\r",
        "47%\r",
        "48%\r",
        "49%\r",
        "50%\r",
        "51%\r",
        "51%\r",
        "52%\r",
        "52%\r",
        "53%\r",
        "54%\r",
        "55%\r",
        "56%\r",
        "57%\r",
        "58%\r",
        "59%\r",
        "60%\r",
        "61%\r",
        "62%\r",
        "63%\r",
        "64%\r",
        "65%\r",
        "66%\r",
        "67%\r",
        "68%\r",
        "69%\r",
        "70%\r",
        "71%\r",
        "72%\r",
        "73%\r",
        "74%\r",
        "75%\r",
        "76%\r",
        "76%\r",
        "77%\r",
        "77%\r",
        "78%\r",
        "78%\r",
        "79%\r",
        "80%\r",
        "81%\r",
        "82%\r",
        "83%\r",
        "84%\r",
        "85%\r",
        "86%\r",
        "87%\r",
        "88%\r",
        "89%\r",
        "90%\r",
        "91%\r",
        "92%\r",
        "93%\r",
        "94%\r",
        "95%\r",
        "96%\r",
        "97%\r",
        "98%\r",
        "99%\r",
        "Pruned 2313 variants from chromosome 18, leaving 1726.\r\n",
        "\r",
        "1%\r",
        "2%\r",
        "3%\r",
        "4%\r",
        "5%\r",
        "6%\r",
        "7%\r",
        "8%\r",
        "9%\r",
        "10%\r",
        "10%\r",
        "11%\r",
        "12%\r",
        "13%\r",
        "14%\r",
        "15%\r",
        "16%\r",
        "17%\r",
        "18%\r",
        "19%\r",
        "19%\r",
        "20%\r",
        "21%\r",
        "22%\r",
        "23%\r",
        "24%\r",
        "25%\r",
        "26%\r",
        "27%\r",
        "28%\r",
        "28%\r",
        "29%\r",
        "30%\r",
        "31%\r",
        "32%\r",
        "33%\r",
        "34%\r",
        "35%\r",
        "36%\r",
        "37%\r",
        "37%\r",
        "38%\r",
        "39%\r",
        "40%\r",
        "41%\r",
        "42%\r",
        "43%\r",
        "44%\r",
        "45%\r",
        "46%\r",
        "46%\r",
        "47%\r",
        "48%\r",
        "49%\r",
        "50%\r",
        "51%\r",
        "52%\r",
        "53%\r",
        "54%\r",
        "55%\r",
        "55%\r",
        "56%\r",
        "57%\r",
        "58%\r",
        "59%\r",
        "60%\r",
        "61%\r",
        "62%\r",
        "63%\r",
        "64%\r",
        "64%\r",
        "65%\r",
        "66%\r",
        "67%\r",
        "68%\r",
        "69%\r",
        "70%\r",
        "71%\r",
        "72%\r",
        "73%\r",
        "74%\r",
        "75%\r",
        "76%\r",
        "77%\r",
        "78%\r",
        "79%\r",
        "80%\r",
        "81%\r",
        "82%\r",
        "83%\r",
        "84%\r",
        "84%\r",
        "85%\r",
        "86%\r",
        "87%\r",
        "88%\r",
        "89%\r",
        "90%\r",
        "91%\r",
        "92%\r",
        "93%\r",
        "93%\r",
        "94%\r",
        "95%\r",
        "96%\r",
        "97%\r",
        "98%\r",
        "99%\r",
        "Pruned 1294 variants from chromosome 19, leaving 1260.\r\n",
        "\r",
        "1%\r",
        "2%\r",
        "3%\r",
        "4%\r",
        "5%\r",
        "6%\r",
        "7%\r",
        "7%\r",
        "8%\r",
        "9%\r",
        "10%\r",
        "10%\r",
        "11%\r",
        "12%\r",
        "13%\r",
        "14%\r",
        "15%\r",
        "16%\r",
        "17%\r",
        "18%\r",
        "19%\r",
        "20%\r",
        "21%\r",
        "21%\r",
        "22%\r",
        "23%\r",
        "24%\r",
        "25%\r",
        "26%\r",
        "27%\r",
        "28%\r",
        "29%\r",
        "30%\r",
        "31%\r",
        "32%\r",
        "32%\r",
        "33%\r",
        "34%\r",
        "35%\r",
        "36%\r",
        "37%\r",
        "38%\r",
        "39%\r",
        "40%\r",
        "41%\r",
        "42%\r",
        "43%\r",
        "43%\r",
        "44%\r",
        "45%\r",
        "46%\r",
        "47%\r",
        "48%\r",
        "49%\r",
        "50%\r",
        "51%\r",
        "52%\r",
        "53%\r",
        "54%\r",
        "54%\r",
        "55%\r",
        "56%\r",
        "57%\r",
        "58%\r",
        "59%\r",
        "60%\r",
        "61%\r",
        "62%\r",
        "63%\r",
        "64%\r",
        "65%\r",
        "65%\r",
        "66%\r",
        "67%\r",
        "68%\r",
        "69%\r",
        "70%\r",
        "71%\r",
        "72%\r",
        "73%\r",
        "74%\r",
        "75%\r",
        "76%\r",
        "76%\r",
        "77%\r",
        "78%\r",
        "79%\r",
        "80%\r",
        "81%\r",
        "82%\r",
        "83%\r",
        "84%\r",
        "85%\r",
        "86%\r",
        "87%\r",
        "87%\r",
        "88%\r",
        "89%\r",
        "90%\r",
        "91%\r",
        "92%\r",
        "93%\r",
        "94%\r",
        "95%\r",
        "96%\r",
        "97%\r",
        "98%\r",
        "98%\r",
        "99%\r",
        "Pruned 2095 variants from chromosome 20, leaving 1542.\r\n",
        "\r",
        "1%\r",
        "2%\r",
        "3%\r",
        "4%\r",
        "5%\r",
        "6%\r",
        "7%\r",
        "8%\r",
        "9%\r",
        "10%\r",
        "11%\r",
        "12%\r",
        "13%\r",
        "14%\r",
        "14%\r",
        "15%\r",
        "16%\r",
        "17%\r",
        "18%\r",
        "19%\r",
        "20%\r",
        "21%\r",
        "22%\r",
        "22%\r",
        "23%\r",
        "24%\r",
        "25%\r",
        "26%\r",
        "27%\r",
        "28%\r",
        "29%\r",
        "30%\r",
        "30%\r",
        "31%\r",
        "32%\r",
        "33%\r",
        "34%\r",
        "35%\r",
        "36%\r",
        "37%\r",
        "38%\r",
        "38%\r",
        "39%\r",
        "40%\r",
        "41%\r",
        "42%\r",
        "43%\r",
        "44%\r",
        "45%\r",
        "46%\r",
        "46%\r",
        "47%\r",
        "48%\r",
        "49%\r",
        "50%\r",
        "51%\r",
        "52%\r",
        "53%\r",
        "54%\r",
        "54%\r",
        "55%\r",
        "56%\r",
        "57%\r",
        "58%\r",
        "59%\r",
        "60%\r",
        "61%\r",
        "62%\r",
        "63%\r",
        "64%\r",
        "65%\r",
        "66%\r",
        "67%\r",
        "68%\r",
        "69%\r",
        "70%\r",
        "71%\r",
        "72%\r",
        "73%\r",
        "74%\r",
        "75%\r",
        "76%\r",
        "77%\r",
        "77%\r",
        "78%\r",
        "79%\r",
        "80%\r",
        "81%\r",
        "82%\r",
        "83%\r",
        "84%\r",
        "85%\r",
        "85%\r",
        "86%\r",
        "87%\r",
        "88%\r",
        "89%\r",
        "90%\r",
        "91%\r",
        "92%\r",
        "93%\r",
        "93%\r",
        "94%\r",
        "95%\r",
        "96%\r",
        "97%\r",
        "98%\r",
        "99%\r",
        "Pruned 1030 variants from chromosome 21, leaving 843.\r\n",
        "\r",
        "1%\r",
        "2%\r",
        "3%\r",
        "4%\r",
        "5%\r",
        "6%\r",
        "7%\r",
        "8%\r",
        "9%\r",
        "10%\r",
        "11%\r",
        "12%\r",
        "13%\r",
        "14%\r",
        "15%\r",
        "16%\r",
        "17%\r",
        "18%\r",
        "19%\r",
        "20%\r",
        "21%\r",
        "22%\r",
        "23%\r",
        "23%\r",
        "24%\r",
        "24%\r",
        "25%\r",
        "26%\r",
        "27%\r",
        "28%\r",
        "29%\r",
        "30%\r",
        "31%\r",
        "32%\r",
        "33%\r",
        "34%\r",
        "35%\r",
        "36%\r",
        "37%\r",
        "38%\r",
        "39%\r",
        "40%\r",
        "41%\r",
        "42%\r",
        "43%\r",
        "44%\r",
        "45%\r",
        "46%\r",
        "47%\r",
        "48%\r",
        "48%\r",
        "49%\r",
        "49%\r",
        "50%\r",
        "50%\r",
        "51%\r",
        "52%\r",
        "53%\r",
        "54%\r",
        "55%\r",
        "56%\r",
        "57%\r",
        "58%\r",
        "59%\r",
        "60%\r",
        "61%\r",
        "62%\r",
        "63%\r",
        "64%\r",
        "65%\r",
        "66%\r",
        "67%\r",
        "68%\r",
        "69%\r",
        "70%\r",
        "71%\r",
        "72%\r",
        "73%\r",
        "74%\r",
        "74%\r",
        "75%\r",
        "75%\r",
        "76%\r",
        "77%\r",
        "78%\r",
        "79%\r",
        "80%\r",
        "81%\r",
        "82%\r",
        "83%\r",
        "84%\r",
        "85%\r",
        "86%\r",
        "87%\r",
        "88%\r",
        "89%\r",
        "90%\r",
        "91%\r",
        "92%\r",
        "93%\r",
        "94%\r",
        "95%\r",
        "96%\r",
        "97%\r",
        "98%\r",
        "99%\r",
        "Pruned 1068 variants from chromosome 22, leaving 893.\r\n",
        "Pruning complete.  83591 of 138890 variants removed.\r\n",
        "Writing..."
       ]
      },
      {
       "output_type": "stream",
       "stream": "stdout",
       "text": [
        "\r",
        "Marker lists written to keep.prune.in and keep.prune.out .\r\n"
       ]
      },
      {
       "output_type": "stream",
       "stream": "stdout",
       "text": [
        "PLINK v1.90b2t 64-bit (20 Dec 2014)        https://www.cog-genomics.org/plink2\r\n",
        "(C) 2005-2014 Shaun Purcell, Christopher Chang   GNU General Public License v3\r\n",
        "Logging to hapmap10_auto_noofs_ld.log.\r\n",
        "32095 MB RAM detected; reserving 16047 MB for main workspace.\r\n",
        "Scanning .ped file... 0%\b\b1%\b\b1%\b\b1%\b\b1%\b\b1%\b\b1%\b\b1%\b\b1%\b\b1%"
       ]
      },
      {
       "output_type": "stream",
       "stream": "stdout",
       "text": [
        "\b\b1%\b\b2%\b\b2%\b\b2%\b\b2%\b\b2%\b\b2%\b\b2%\b\b2%\b\b2%\b\b2%\b\b3%\b\b3%\b\b3%\b\b3%\b\b3%\b\b3%\b\b3%\b\b3%\b\b3%\b\b3%\b\b4%\b\b4%\b\b4%"
       ]
      },
      {
       "output_type": "stream",
       "stream": "stdout",
       "text": [
        "\b\b4%\b\b4%\b\b4%\b\b4%\b\b4%\b\b4%\b\b4%\b\b5%\b\b5%\b\b5%\b\b5%\b\b5%\b\b5%\b\b5%\b\b5%\b\b5%\b\b5%\b\b6%\b\b6%\b\b6%\b\b6%\b\b6%\b\b6%"
       ]
      },
      {
       "output_type": "stream",
       "stream": "stdout",
       "text": [
        "\b\b6%\b\b6%\b\b6%\b\b6%\b\b7%\b\b7%\b\b7%\b\b7%\b\b7%\b\b7%\b\b7%\b\b7%\b\b7%\b\b7%\b\b8%\b\b8%\b\b8%\b\b8%\b\b8%\b\b8%\b\b8%\b\b8%\b\b8%\b\b9%"
       ]
      },
      {
       "output_type": "stream",
       "stream": "stdout",
       "text": [
        "\b\b9%\b\b9%\b\b9%\b\b9%\b\b9%\b\b9%\b\b9%\b\b9%\b\b9%\b\b10%\b\b\b10%\b\b\b10%\b\b\b10%\b\b\b10%\b\b\b10%\b\b\b10%\b\b\b10%\b\b\b10%\b\b\b10%\b\b\b11%\b\b\b11%\b\b\b11%"
       ]
      },
      {
       "output_type": "stream",
       "stream": "stdout",
       "text": [
        "\b\b\b11%\b\b\b11%\b\b\b11%\b\b\b11%\b\b\b11%\b\b\b11%\b\b\b11%\b\b\b12%\b\b\b12%\b\b\b12%\b\b\b12%\b\b\b12%\b\b\b12%\b\b\b12%\b\b\b12%\b\b\b12%\b\b\b12%\b\b\b13%\b\b\b13%\b\b\b13%\b\b\b13%\b\b\b13%\b\b\b13%\b\b\b13%"
       ]
      },
      {
       "output_type": "stream",
       "stream": "stdout",
       "text": [
        "\b\b\b13%\b\b\b13%\b\b\b13%\b\b\b14%\b\b\b14%\b\b\b14%\b\b\b14%\b\b\b14%\b\b\b14%\b\b\b14%\b\b\b14%\b\b\b14%\b\b\b14%\b\b\b15%\b\b\b15%\b\b\b15%\b\b\b15%\b\b\b15%\b\b\b15%\b\b\b15%\b\b\b15%\b\b\b15%\b\b\b15%"
       ]
      },
      {
       "output_type": "stream",
       "stream": "stdout",
       "text": [
        "\b\b\b16%\b\b\b16%\b\b\b16%\b\b\b16%\b\b\b16%\b\b\b16%\b\b\b16%\b\b\b16%\b\b\b16%\b\b\b17%\b\b\b17%\b\b\b17%\b\b\b17%\b\b\b17%\b\b\b17%\b\b\b17%\b\b\b17%\b\b\b17%\b\b\b17%\b\b\b18%\b\b\b18%\b\b\b18%\b\b\b18%\b\b\b18%"
       ]
      },
      {
       "output_type": "stream",
       "stream": "stdout",
       "text": [
        "\b\b\b18%\b\b\b18%\b\b\b18%\b\b\b18%\b\b\b18%\b\b\b19%\b\b\b19%\b\b\b19%\b\b\b19%\b\b\b19%\b\b\b19%\b\b\b19%\b\b\b19%\b\b\b19%\b\b\b19%\b\b\b20%\b\b\b20%\b\b\b20%\b\b\b20%\b\b\b20%\b\b\b20%\b\b\b20%\b\b\b20%"
       ]
      },
      {
       "output_type": "stream",
       "stream": "stdout",
       "text": [
        "\b\b\b20%\b\b\b20%\b\b\b21%\b\b\b21%\b\b\b21%\b\b\b21%\b\b\b21%\b\b\b21%\b\b\b21%\b\b\b21%\b\b\b21%\b\b\b21%\b\b\b22%\b\b\b22%\b\b\b22%\b\b\b22%\b\b\b22%\b\b\b22%\b\b\b22%\b\b\b22%\b\b\b22%\b\b\b22%\b\b\b23%\b\b\b23%"
       ]
      },
      {
       "output_type": "stream",
       "stream": "stdout",
       "text": [
        "\b\b\b23%\b\b\b23%\b\b\b23%\b\b\b23%\b\b\b23%\b\b\b23%\b\b\b23%\b\b\b23%\b\b\b24%\b\b\b24%\b\b\b24%\b\b\b24%\b\b\b24%\b\b\b24%\b\b\b24%\b\b\b24%\b\b\b24%\b\b\b24%\b\b\b25%\b\b\b25%\b\b\b25%\b\b\b25%\b\b\b25%"
       ]
      },
      {
       "output_type": "stream",
       "stream": "stdout",
       "text": [
        "\b\b\b25%\b\b\b25%\b\b\b25%\b\b\b25%\b\b\b26%\b\b\b26%\b\b\b26%\b\b\b26%\b\b\b26%\b\b\b26%\b\b\b26%\b\b\b26%\b\b\b26%\b\b\b26%\b\b\b27%\b\b\b27%\b\b\b27%\b\b\b27%\b\b\b27%\b\b\b27%\b\b\b27%\b\b\b27%\b\b\b27%\b\b\b27%"
       ]
      },
      {
       "output_type": "stream",
       "stream": "stdout",
       "text": [
        "\b\b\b28%\b\b\b28%\b\b\b28%\b\b\b28%\b\b\b28%\b\b\b28%\b\b\b28%\b\b\b28%\b\b\b28%\b\b\b28%\b\b\b29%\b\b\b29%\b\b\b29%\b\b\b29%\b\b\b29%\b\b\b29%\b\b\b29%\b\b\b29%\b\b\b29%\b\b\b29%\b\b\b30%\b\b\b30%\b\b\b30%"
       ]
      },
      {
       "output_type": "stream",
       "stream": "stdout",
       "text": [
        "\b\b\b30%\b\b\b30%\b\b\b30%\b\b\b30%\b\b\b30%\b\b\b30%\b\b\b30%\b\b\b31%\b\b\b31%\b\b\b31%\b\b\b31%\b\b\b31%\b\b\b31%\b\b\b31%\b\b\b31%\b\b\b31%\b\b\b31%\b\b\b32%\b\b\b32%\b\b\b32%\b\b\b32%\b\b\b32%\b\b\b32%\b\b\b32%"
       ]
      },
      {
       "output_type": "stream",
       "stream": "stdout",
       "text": [
        "\b\b\b32%\b\b\b32%\b\b\b32%\b\b\b33%\b\b\b33%\b\b\b33%\b\b\b33%\b\b\b33%\b\b\b33%\b\b\b33%\b\b\b33%\b\b\b33%\b\b\b34%\b\b\b34%\b\b\b34%\b\b\b34%\b\b\b34%\b\b\b34%\b\b\b34%\b\b\b34%\b\b\b34%\b\b\b34%\b\b\b35%"
       ]
      },
      {
       "output_type": "stream",
       "stream": "stdout",
       "text": [
        "\b\b\b35%\b\b\b35%\b\b\b35%\b\b\b35%\b\b\b35%\b\b\b35%\b\b\b35%\b\b\b35%\b\b\b35%\b\b\b36%\b\b\b36%\b\b\b36%\b\b\b36%\b\b\b36%\b\b\b36%\b\b\b36%\b\b\b36%\b\b\b36%\b\b\b36%\b\b\b37%\b\b\b37%\b\b\b37%\b\b\b37%"
       ]
      },
      {
       "output_type": "stream",
       "stream": "stdout",
       "text": [
        "\b\b\b37%\b\b\b37%\b\b\b37%\b\b\b37%\b\b\b37%\b\b\b37%\b\b\b38%\b\b\b38%\b\b\b38%\b\b\b38%\b\b\b38%\b\b\b38%\b\b\b38%\b\b\b38%\b\b\b38%\b\b\b38%\b\b\b39%\b\b\b39%\b\b\b39%\b\b\b39%\b\b\b39%\b\b\b39%\b\b\b39%\b\b\b39%"
       ]
      },
      {
       "output_type": "stream",
       "stream": "stdout",
       "text": [
        "\b\b\b39%\b\b\b39%\b\b\b40%\b\b\b40%\b\b\b40%\b\b\b40%\b\b\b40%\b\b\b40%\b\b\b40%\b\b\b40%\b\b\b40%\b\b\b40%\b\b\b41%\b\b\b41%\b\b\b41%\b\b\b41%\b\b\b41%\b\b\b41%\b\b\b41%\b\b\b41%\b\b\b41%\b\b\b42%\b\b\b42%\b\b\b42%"
       ]
      },
      {
       "output_type": "stream",
       "stream": "stdout",
       "text": [
        "\b\b\b42%\b\b\b42%\b\b\b42%\b\b\b42%\b\b\b42%\b\b\b42%\b\b\b42%\b\b\b43%\b\b\b43%\b\b\b43%\b\b\b43%\b\b\b43%\b\b\b43%\b\b\b43%\b\b\b43%\b\b\b43%\b\b\b43%\b\b\b44%\b\b\b44%\b\b\b44%\b\b\b44%\b\b\b44%\b\b\b44%\b\b\b44%\b\b\b44%"
       ]
      },
      {
       "output_type": "stream",
       "stream": "stdout",
       "text": [
        "\b\b\b44%\b\b\b44%\b\b\b45%\b\b\b45%\b\b\b45%\b\b\b45%\b\b\b45%\b\b\b45%\b\b\b45%\b\b\b45%\b\b\b45%\b\b\b45%\b\b\b46%\b\b\b46%\b\b\b46%\b\b\b46%\b\b\b46%\b\b\b46%\b\b\b46%\b\b\b46%\b\b\b46%\b\b\b46%\b\b\b47%\b\b\b47%"
       ]
      },
      {
       "output_type": "stream",
       "stream": "stdout",
       "text": [
        "\b\b\b47%\b\b\b47%\b\b\b47%\b\b\b47%\b\b\b47%\b\b\b47%\b\b\b47%\b\b\b47%\b\b\b48%\b\b\b48%\b\b\b48%\b\b\b48%\b\b\b48%\b\b\b48%\b\b\b48%\b\b\b48%\b\b\b48%\b\b\b48%\b\b\b49%\b\b\b49%\b\b\b49%\b\b\b49%\b\b\b49%\b\b\b49%\b\b\b49%"
       ]
      },
      {
       "output_type": "stream",
       "stream": "stdout",
       "text": [
        "\b\b\b49%\b\b\b49%\b\b\b50%\b\b\b50%\b\b\b50%\b\b\b50%\b\b\b50%\b\b\b50%\b\b\b50%\b\b\b50%\b\b\b50%\b\b\b50%\b\b\b51%\b\b\b51%\b\b\b51%\b\b\b51%\b\b\b51%\b\b\b51%\b\b\b51%\b\b\b51%\b\b\b51%\b\b\b51%\b\b\b52%"
       ]
      },
      {
       "output_type": "stream",
       "stream": "stdout",
       "text": [
        "\b\b\b52%\b\b\b52%\b\b\b52%\b\b\b52%\b\b\b52%\b\b\b52%\b\b\b52%\b\b\b52%\b\b\b52%\b\b\b53%\b\b\b53%\b\b\b53%\b\b\b53%\b\b\b53%\b\b\b53%\b\b\b53%\b\b\b53%\b\b\b53%\b\b\b53%\b\b\b54%\b\b\b54%\b\b\b54%\b\b\b54%\b\b\b54%"
       ]
      },
      {
       "output_type": "stream",
       "stream": "stdout",
       "text": [
        "\b\b\b54%\b\b\b54%\b\b\b54%\b\b\b54%\b\b\b54%\b\b\b55%\b\b\b55%\b\b\b55%\b\b\b55%\b\b\b55%\b\b\b55%\b\b\b55%\b\b\b55%\b\b\b55%\b\b\b55%\b\b\b56%\b\b\b56%\b\b\b56%\b\b\b56%\b\b\b56%\b\b\b56%\b\b\b56%\b\b\b56%\b\b\b56%"
       ]
      },
      {
       "output_type": "stream",
       "stream": "stdout",
       "text": [
        "\b\b\b56%\b\b\b57%\b\b\b57%\b\b\b57%\b\b\b57%\b\b\b57%\b\b\b57%\b\b\b57%\b\b\b57%\b\b\b57%\b\b\b57%\b\b\b58%\b\b\b58%\b\b\b58%\b\b\b58%\b\b\b58%\b\b\b58%\b\b\b58%\b\b\b58%\b\b\b58%\b\b\b59%\b\b\b59%\b\b\b59%\b\b\b59%"
       ]
      },
      {
       "output_type": "stream",
       "stream": "stdout",
       "text": [
        "\b\b\b59%\b\b\b59%\b\b\b59%\b\b\b59%\b\b\b59%\b\b\b59%\b\b\b60%\b\b\b60%\b\b\b60%\b\b\b60%\b\b\b60%\b\b\b60%\b\b\b60%\b\b\b60%\b\b\b60%\b\b\b60%\b\b\b61%\b\b\b61%\b\b\b61%\b\b\b61%\b\b\b61%\b\b\b61%\b\b\b61%"
       ]
      },
      {
       "output_type": "stream",
       "stream": "stdout",
       "text": [
        "\b\b\b61%\b\b\b61%\b\b\b61%\b\b\b62%\b\b\b62%\b\b\b62%\b\b\b62%\b\b\b62%\b\b\b62%\b\b\b62%\b\b\b62%\b\b\b62%\b\b\b62%\b\b\b63%\b\b\b63%\b\b\b63%\b\b\b63%\b\b\b63%\b\b\b63%\b\b\b63%\b\b\b63%\b\b\b63%\b\b\b63%"
       ]
      },
      {
       "output_type": "stream",
       "stream": "stdout",
       "text": [
        "\b\b\b64%\b\b\b64%\b\b\b64%\b\b\b64%\b\b\b64%\b\b\b64%\b\b\b64%\b\b\b64%\b\b\b64%\b\b\b64%\b\b\b65%\b\b\b65%\b\b\b65%\b\b\b65%\b\b\b65%\b\b\b65%\b\b\b65%\b\b\b65%\b\b\b65%\b\b\b65%\b\b\b66%\b\b\b66%"
       ]
      },
      {
       "output_type": "stream",
       "stream": "stdout",
       "text": [
        "\b\b\b66%\b\b\b66%\b\b\b66%\b\b\b66%\b\b\b66%\b\b\b66%\b\b\b66%\b\b\b67%\b\b\b67%\b\b\b67%\b\b\b67%\b\b\b67%\b\b\b67%\b\b\b67%\b\b\b67%\b\b\b67%\b\b\b67%\b\b\b68%\b\b\b68%\b\b\b68%\b\b\b68%\b\b\b68%\b\b\b68%"
       ]
      },
      {
       "output_type": "stream",
       "stream": "stdout",
       "text": [
        "\b\b\b68%\b\b\b68%\b\b\b68%\b\b\b68%\b\b\b69%\b\b\b69%\b\b\b69%\b\b\b69%\b\b\b69%\b\b\b69%\b\b\b69%\b\b\b69%\b\b\b69%\b\b\b69%\b\b\b70%\b\b\b70%\b\b\b70%\b\b\b70%\b\b\b70%\b\b\b70%\b\b\b70%\b\b\b70%\b\b\b70%"
       ]
      },
      {
       "output_type": "stream",
       "stream": "stdout",
       "text": [
        "\b\b\b70%\b\b\b71%\b\b\b71%\b\b\b71%\b\b\b71%\b\b\b71%\b\b\b71%\b\b\b71%\b\b\b71%\b\b\b71%\b\b\b71%\b\b\b72%\b\b\b72%\b\b\b72%\b\b\b72%\b\b\b72%\b\b\b72%\b\b\b72%\b\b\b72%\b\b\b72%\b\b\b72%\b\b\b73%\b\b\b73%"
       ]
      },
      {
       "output_type": "stream",
       "stream": "stdout",
       "text": [
        "\b\b\b73%\b\b\b73%\b\b\b73%\b\b\b73%\b\b\b73%\b\b\b73%\b\b\b73%\b\b\b73%\b\b\b74%\b\b\b74%\b\b\b74%\b\b\b74%\b\b\b74%\b\b\b74%\b\b\b74%\b\b\b74%\b\b\b74%\b\b\b75%\b\b\b75%\b\b\b75%\b\b\b75%\b\b\b75%\b\b\b75%"
       ]
      },
      {
       "output_type": "stream",
       "stream": "stdout",
       "text": [
        "\b\b\b75%\b\b\b75%\b\b\b75%\b\b\b75%\b\b\b76%\b\b\b76%\b\b\b76%\b\b\b76%\b\b\b76%\b\b\b76%\b\b\b76%\b\b\b76%\b\b\b76%\b\b\b76%\b\b\b77%\b\b\b77%\b\b\b77%\b\b\b77%\b\b\b77%\b\b\b77%\b\b\b77%\b\b\b77%\b\b\b77%"
       ]
      },
      {
       "output_type": "stream",
       "stream": "stdout",
       "text": [
        "\b\b\b77%\b\b\b78%\b\b\b78%\b\b\b78%\b\b\b78%\b\b\b78%\b\b\b78%\b\b\b78%\b\b\b78%\b\b\b78%\b\b\b78%\b\b\b79%\b\b\b79%\b\b\b79%\b\b\b79%\b\b\b79%\b\b\b79%\b\b\b79%\b\b\b79%\b\b\b79%\b\b\b79%\b\b\b80%\b\b\b80%"
       ]
      },
      {
       "output_type": "stream",
       "stream": "stdout",
       "text": [
        "\b\b\b80%\b\b\b80%\b\b\b80%\b\b\b80%\b\b\b80%\b\b\b80%\b\b\b80%\b\b\b80%\b\b\b81%\b\b\b81%\b\b\b81%\b\b\b81%\b\b\b81%\b\b\b81%\b\b\b81%\b\b\b81%\b\b\b81%\b\b\b81%\b\b\b82%\b\b\b82%\b\b\b82%\b\b\b82%"
       ]
      },
      {
       "output_type": "stream",
       "stream": "stdout",
       "text": [
        "\b\b\b82%\b\b\b82%\b\b\b82%\b\b\b82%\b\b\b82%\b\b\b82%\b\b\b83%\b\b\b83%\b\b\b83%\b\b\b83%\b\b\b83%\b\b\b83%\b\b\b83%\b\b\b83%\b\b\b83%\b\b\b84%\b\b\b84%\b\b\b84%\b\b\b84%\b\b\b84%\b\b\b84%\b\b\b84%\b\b\b84%"
       ]
      },
      {
       "output_type": "stream",
       "stream": "stdout",
       "text": [
        "\b\b\b84%\b\b\b84%\b\b\b85%\b\b\b85%\b\b\b85%\b\b\b85%\b\b\b85%\b\b\b85%\b\b\b85%\b\b\b85%\b\b\b85%\b\b\b85%\b\b\b86%\b\b\b86%\b\b\b86%\b\b\b86%\b\b\b86%\b\b\b86%\b\b\b86%\b\b\b86%\b\b\b86%\b\b\b86%"
       ]
      },
      {
       "output_type": "stream",
       "stream": "stdout",
       "text": [
        "\b\b\b87%\b\b\b87%\b\b\b87%\b\b\b87%\b\b\b87%\b\b\b87%\b\b\b87%\b\b\b87%\b\b\b87%\b\b\b87%\b\b\b88%\b\b\b88%\b\b\b88%\b\b\b88%\b\b\b88%\b\b\b88%\b\b\b88%\b\b\b88%\b\b\b88%\b\b\b88%\b\b\b89%\b\b\b89%\b\b\b89%\b\b\b89%"
       ]
      },
      {
       "output_type": "stream",
       "stream": "stdout",
       "text": [
        "\b\b\b89%\b\b\b89%\b\b\b89%\b\b\b89%\b\b\b89%\b\b\b89%\b\b\b90%\b\b\b90%\b\b\b90%\b\b\b90%\b\b\b90%\b\b\b90%\b\b\b90%\b\b\b90%\b\b\b90%\b\b\b90%\b\b\b91%\b\b\b91%\b\b\b91%\b\b\b91%\b\b\b91%\b\b\b91%\b\b\b91%"
       ]
      },
      {
       "output_type": "stream",
       "stream": "stdout",
       "text": [
        "\b\b\b91%\b\b\b91%\b\b\b92%\b\b\b92%\b\b\b92%\b\b\b92%\b\b\b92%\b\b\b92%\b\b\b92%\b\b\b92%\b\b\b92%\b\b\b92%\b\b\b93%\b\b\b93%\b\b\b93%\b\b\b93%\b\b\b93%\b\b\b93%\b\b\b93%\b\b\b93%\b\b\b93%\b\b\b93%\b\b\b94%"
       ]
      },
      {
       "output_type": "stream",
       "stream": "stdout",
       "text": [
        "\b\b\b94%\b\b\b94%\b\b\b94%\b\b\b94%\b\b\b94%\b\b\b94%\b\b\b94%\b\b\b94%\b\b\b94%\b\b\b95%\b\b\b95%\b\b\b95%\b\b\b95%\b\b\b95%\b\b\b95%\b\b\b95%\b\b\b95%\b\b\b95%\b\b\b95%\b\b\b96%\b\b\b96%\b\b\b96%\b\b\b96%"
       ]
      },
      {
       "output_type": "stream",
       "stream": "stdout",
       "text": [
        "\b\b\b96%\b\b\b96%\b\b\b96%\b\b\b96%\b\b\b96%\b\b\b96%\b\b\b97%\b\b\b97%\b\b\b97%\b\b\b97%\b\b\b97%\b\b\b97%\b\b\b97%\b\b\b97%\b\b\b97%\b\b\b97%\b\b\b98%\b\b\b98%\b\b\b98%\b\b\b98%\b\b\b98%\b\b\b98%\b\b\b98%\b\b\b98%"
       ]
      },
      {
       "output_type": "stream",
       "stream": "stdout",
       "text": [
        "\b\b\b98%\b\b\b98%\b\b\b99%\b\b\b99%\b\b\b99%\b\b\b99%\b\b\b99%\b\b\b99%\b\b\b99%\b\b\b99%\b\b\b99%\b\b\b100%\r",
        ".ped scan complete (for binary autoconversion).\r\n",
        "Performing single-pass .bed write (138890 variants, 988 people).\r\n"
       ]
      },
      {
       "output_type": "stream",
       "stream": "stdout",
       "text": [
        "0%\b\b1%"
       ]
      },
      {
       "output_type": "stream",
       "stream": "stdout",
       "text": [
        "\b\b2%\b\b3%\b\b4%"
       ]
      },
      {
       "output_type": "stream",
       "stream": "stdout",
       "text": [
        "\b\b5%\b\b6%"
       ]
      },
      {
       "output_type": "stream",
       "stream": "stdout",
       "text": [
        "\b\b7%\b\b8%"
       ]
      },
      {
       "output_type": "stream",
       "stream": "stdout",
       "text": [
        "\b\b9%\b\b10%"
       ]
      },
      {
       "output_type": "stream",
       "stream": "stdout",
       "text": [
        "\b\b\b11%\b\b\b12%"
       ]
      },
      {
       "output_type": "stream",
       "stream": "stdout",
       "text": [
        "\b\b\b13%\b\b\b14%"
       ]
      },
      {
       "output_type": "stream",
       "stream": "stdout",
       "text": [
        "\b\b\b15%\b\b\b16%"
       ]
      },
      {
       "output_type": "stream",
       "stream": "stdout",
       "text": [
        "\b\b\b17%\b\b\b18%"
       ]
      },
      {
       "output_type": "stream",
       "stream": "stdout",
       "text": [
        "\b\b\b19%\b\b\b20%"
       ]
      },
      {
       "output_type": "stream",
       "stream": "stdout",
       "text": [
        "\b\b\b21%\b\b\b22%"
       ]
      },
      {
       "output_type": "stream",
       "stream": "stdout",
       "text": [
        "\b\b\b23%\b\b\b24%"
       ]
      },
      {
       "output_type": "stream",
       "stream": "stdout",
       "text": [
        "\b\b\b25%\b\b\b26%"
       ]
      },
      {
       "output_type": "stream",
       "stream": "stdout",
       "text": [
        "\b\b\b27%\b\b\b28%\b\b\b29%"
       ]
      },
      {
       "output_type": "stream",
       "stream": "stdout",
       "text": [
        "\b\b\b30%\b\b\b31%"
       ]
      },
      {
       "output_type": "stream",
       "stream": "stdout",
       "text": [
        "\b\b\b32%\b\b\b33%"
       ]
      },
      {
       "output_type": "stream",
       "stream": "stdout",
       "text": [
        "\b\b\b34%\b\b\b35%"
       ]
      },
      {
       "output_type": "stream",
       "stream": "stdout",
       "text": [
        "\b\b\b36%\b\b\b37%"
       ]
      },
      {
       "output_type": "stream",
       "stream": "stdout",
       "text": [
        "\b\b\b38%\b\b\b39%"
       ]
      },
      {
       "output_type": "stream",
       "stream": "stdout",
       "text": [
        "\b\b\b40%\b\b\b41%"
       ]
      },
      {
       "output_type": "stream",
       "stream": "stdout",
       "text": [
        "\b\b\b42%\b\b\b43%"
       ]
      },
      {
       "output_type": "stream",
       "stream": "stdout",
       "text": [
        "\b\b\b44%\b\b\b45%"
       ]
      },
      {
       "output_type": "stream",
       "stream": "stdout",
       "text": [
        "\b\b\b46%\b\b\b47%\b\b\b48%"
       ]
      },
      {
       "output_type": "stream",
       "stream": "stdout",
       "text": [
        "\b\b\b49%\b\b\b50%"
       ]
      },
      {
       "output_type": "stream",
       "stream": "stdout",
       "text": [
        "\b\b\b51%\b\b\b52%"
       ]
      },
      {
       "output_type": "stream",
       "stream": "stdout",
       "text": [
        "\b\b\b53%\b\b\b54%"
       ]
      },
      {
       "output_type": "stream",
       "stream": "stdout",
       "text": [
        "\b\b\b55%\b\b\b56%"
       ]
      },
      {
       "output_type": "stream",
       "stream": "stdout",
       "text": [
        "\b\b\b57%\b\b\b58%"
       ]
      },
      {
       "output_type": "stream",
       "stream": "stdout",
       "text": [
        "\b\b\b59%\b\b\b60%"
       ]
      },
      {
       "output_type": "stream",
       "stream": "stdout",
       "text": [
        "\b\b\b61%\b\b\b62%"
       ]
      },
      {
       "output_type": "stream",
       "stream": "stdout",
       "text": [
        "\b\b\b63%\b\b\b64%"
       ]
      },
      {
       "output_type": "stream",
       "stream": "stdout",
       "text": [
        "\b\b\b65%\b\b\b66%"
       ]
      },
      {
       "output_type": "stream",
       "stream": "stdout",
       "text": [
        "\b\b\b67%\b\b\b68%"
       ]
      },
      {
       "output_type": "stream",
       "stream": "stdout",
       "text": [
        "\b\b\b69%\b\b\b70%"
       ]
      },
      {
       "output_type": "stream",
       "stream": "stdout",
       "text": [
        "\b\b\b71%\b\b\b72%"
       ]
      },
      {
       "output_type": "stream",
       "stream": "stdout",
       "text": [
        "\b\b\b73%\b\b\b74%"
       ]
      },
      {
       "output_type": "stream",
       "stream": "stdout",
       "text": [
        "\b\b\b75%\b\b\b76%"
       ]
      },
      {
       "output_type": "stream",
       "stream": "stdout",
       "text": [
        "\b\b\b77%\b\b\b78%"
       ]
      },
      {
       "output_type": "stream",
       "stream": "stdout",
       "text": [
        "\b\b\b79%\b\b\b80%"
       ]
      },
      {
       "output_type": "stream",
       "stream": "stdout",
       "text": [
        "\b\b\b81%\b\b\b82%"
       ]
      },
      {
       "output_type": "stream",
       "stream": "stdout",
       "text": [
        "\b\b\b83%\b\b\b84%"
       ]
      },
      {
       "output_type": "stream",
       "stream": "stdout",
       "text": [
        "\b\b\b85%\b\b\b86%"
       ]
      },
      {
       "output_type": "stream",
       "stream": "stdout",
       "text": [
        "\b\b\b87%\b\b\b88%"
       ]
      },
      {
       "output_type": "stream",
       "stream": "stdout",
       "text": [
        "\b\b\b89%\b\b\b90%"
       ]
      },
      {
       "output_type": "stream",
       "stream": "stdout",
       "text": [
        "\b\b\b91%\b\b\b92%"
       ]
      },
      {
       "output_type": "stream",
       "stream": "stdout",
       "text": [
        "\b\b\b93%\b\b\b94%"
       ]
      },
      {
       "output_type": "stream",
       "stream": "stdout",
       "text": [
        "\r",
        "--file: hapmap10_auto_noofs_ld-temporary.bed +\r\n",
        "hapmap10_auto_noofs_ld-temporary.bim + hapmap10_auto_noofs_ld-temporary.fam\r\n",
        "written.\r\n",
        "138890 variants loaded from .bim file.\r\n",
        "988 people (488 males, 500 females) loaded from .fam.\r\n",
        "--extract: 55299 variants remaining.\r\n",
        "Using 1 thread (no multithreaded calculations invoked).\r\n",
        "Before main variant filters, 988 founders and 0 nonfounders present.\r\n",
        "Calculating allele frequencies... 0%\b\b1%\b\b2%\b\b3%\b\b4%\b\b5%\b\b6%\b\b7%\b\b8%\b\b9%\b\b10%\b\b\b11%\b\b\b12%\b\b\b13%\b\b\b14%\b\b\b15%\b\b\b16%"
       ]
      },
      {
       "output_type": "stream",
       "stream": "stdout",
       "text": [
        "\b\b\b17%\b\b\b18%\b\b\b19%\b\b\b20%\b\b\b21%\b\b\b22%\b\b\b23%\b\b\b24%\b\b\b25%\b\b\b26%\b\b\b27%\b\b\b28%\b\b\b29%\b\b\b30%\b\b\b31%\b\b\b32%\b\b\b33%\b\b\b34%\b\b\b35%\b\b\b36%\b\b\b37%\b\b\b38%\b\b\b39%\b\b\b40%\b\b\b41%\b\b\b42%\b\b\b43%\b\b\b44%\b\b\b45%\b\b\b46%\b\b\b47%\b\b\b48%\b\b\b49%\b\b\b50%\b\b\b51%\b\b\b52%\b\b\b53%\b\b\b54%\b\b\b55%\b\b\b56%\b\b\b57%\b\b\b58%\b\b\b59%\b\b\b60%\b\b\b61%\b\b\b62%\b\b\b63%\b\b\b64%\b\b\b65%\b\b\b66%\b\b\b67%\b\b\b68%\b\b\b69%\b\b\b70%\b\b\b71%\b\b\b72%\b\b\b73%\b\b\b74%\b\b\b75%\b\b\b76%\b\b\b77%\b\b\b78%\b\b\b79%\b\b\b80%\b\b\b81%\b\b\b82%\b\b\b83%\b\b\b84%\b\b\b85%\b\b\b86%\b\b\b87%\b\b\b88%\b\b\b89%\b\b\b90%\b\b\b91%\b\b\b92%\b\b\b93%\b\b\b94%\b\b\b95%\b\b\b96%\b\b\b97%\b\b\b98%\b\b\b99%\b\b\b\b done.\r\n",
        "Total genotyping rate is 0.99767.\r\n",
        "55299 variants and 988 people pass filters and QC.\r\n",
        "Note: No phenotypes present.\r\n"
       ]
      },
      {
       "output_type": "stream",
       "stream": "stdout",
       "text": [
        "--recode to hapmap10_auto_noofs_ld.ped + hapmap10_auto_noofs_ld.map ... 0%\b\b1%\b\b2%\b\b3%"
       ]
      },
      {
       "output_type": "stream",
       "stream": "stdout",
       "text": [
        "\b\b4%\b\b5%\b\b6%"
       ]
      },
      {
       "output_type": "stream",
       "stream": "stdout",
       "text": [
        "\b\b7%\b\b8%\b\b9%"
       ]
      },
      {
       "output_type": "stream",
       "stream": "stdout",
       "text": [
        "\b\b10%\b\b\b11%\b\b\b12%"
       ]
      },
      {
       "output_type": "stream",
       "stream": "stdout",
       "text": [
        "\b\b\b13%\b\b\b14%\b\b\b15%"
       ]
      },
      {
       "output_type": "stream",
       "stream": "stdout",
       "text": [
        "\b\b\b16%\b\b\b17%\b\b\b18%"
       ]
      },
      {
       "output_type": "stream",
       "stream": "stdout",
       "text": [
        "\b\b\b19%\b\b\b20%\b\b\b21%"
       ]
      },
      {
       "output_type": "stream",
       "stream": "stdout",
       "text": [
        "\b\b\b22%\b\b\b23%"
       ]
      },
      {
       "output_type": "stream",
       "stream": "stdout",
       "text": [
        "\b\b\b24%\b\b\b25%\b\b\b26%\b\b\b27%"
       ]
      },
      {
       "output_type": "stream",
       "stream": "stdout",
       "text": [
        "\b\b\b28%\b\b\b29%\b\b\b30%"
       ]
      },
      {
       "output_type": "stream",
       "stream": "stdout",
       "text": [
        "\b\b\b31%\b\b\b32%\b\b\b33%"
       ]
      },
      {
       "output_type": "stream",
       "stream": "stdout",
       "text": [
        "\b\b\b34%\b\b\b35%\b\b\b36%"
       ]
      },
      {
       "output_type": "stream",
       "stream": "stdout",
       "text": [
        "\b\b\b37%\b\b\b38%\b\b\b39%"
       ]
      },
      {
       "output_type": "stream",
       "stream": "stdout",
       "text": [
        "\b\b\b40%\b\b\b41%\b\b\b42%"
       ]
      },
      {
       "output_type": "stream",
       "stream": "stdout",
       "text": [
        "\b\b\b43%\b\b\b44%\b\b\b45%"
       ]
      },
      {
       "output_type": "stream",
       "stream": "stdout",
       "text": [
        "\b\b\b46%\b\b\b47%\b\b\b48%"
       ]
      },
      {
       "output_type": "stream",
       "stream": "stdout",
       "text": [
        "\b\b\b49%\b\b\b50%\b\b\b51%"
       ]
      },
      {
       "output_type": "stream",
       "stream": "stdout",
       "text": [
        "\b\b\b52%\b\b\b53%"
       ]
      },
      {
       "output_type": "stream",
       "stream": "stdout",
       "text": [
        "\b\b\b54%\b\b\b55%\b\b\b56%"
       ]
      },
      {
       "output_type": "stream",
       "stream": "stdout",
       "text": [
        "\b\b\b57%\b\b\b58%\b\b\b59%"
       ]
      },
      {
       "output_type": "stream",
       "stream": "stdout",
       "text": [
        "\b\b\b60%\b\b\b61%\b\b\b62%"
       ]
      },
      {
       "output_type": "stream",
       "stream": "stdout",
       "text": [
        "\b\b\b63%\b\b\b64%\b\b\b65%"
       ]
      },
      {
       "output_type": "stream",
       "stream": "stdout",
       "text": [
        "\b\b\b66%\b\b\b67%\b\b\b68%"
       ]
      },
      {
       "output_type": "stream",
       "stream": "stdout",
       "text": [
        "\b\b\b69%\b\b\b70%\b\b\b71%"
       ]
      },
      {
       "output_type": "stream",
       "stream": "stdout",
       "text": [
        "\b\b\b72%\b\b\b73%"
       ]
      },
      {
       "output_type": "stream",
       "stream": "stdout",
       "text": [
        "\b\b\b74%\b\b\b75%\b\b\b76%\b\b\b77%"
       ]
      },
      {
       "output_type": "stream",
       "stream": "stdout",
       "text": [
        "\b\b\b78%\b\b\b79%\b\b\b80%"
       ]
      },
      {
       "output_type": "stream",
       "stream": "stdout",
       "text": [
        "\b\b\b81%\b\b\b82%\b\b\b83%"
       ]
      },
      {
       "output_type": "stream",
       "stream": "stdout",
       "text": [
        "\b\b\b84%\b\b\b85%\b\b\b86%"
       ]
      },
      {
       "output_type": "stream",
       "stream": "stdout",
       "text": [
        "\b\b\b87%\b\b\b88%\b\b\b89%"
       ]
      },
      {
       "output_type": "stream",
       "stream": "stdout",
       "text": [
        "\b\b\b90%\b\b\b91%\b\b\b92%"
       ]
      },
      {
       "output_type": "stream",
       "stream": "stdout",
       "text": [
        "\b\b\b93%\b\b\b94%\b\b\b95%"
       ]
      },
      {
       "output_type": "stream",
       "stream": "stdout",
       "text": [
        "\b\b\b96%\b\b\b97%\b\b\b98%"
       ]
      },
      {
       "output_type": "stream",
       "stream": "stdout",
       "text": [
        "\b\b\b99%"
       ]
      },
      {
       "output_type": "stream",
       "stream": "stdout",
       "text": [
        "\b\b\bdone.\r\n"
       ]
      }
     ],
     "prompt_number": 18
    },
    {
     "cell_type": "heading",
     "level": 2,
     "metadata": {},
     "source": [
      "Different coding"
     ]
    },
    {
     "cell_type": "code",
     "collapsed": false,
     "input": [
      "!plink --file hapmap10_auto_noofs_ld --recode12 tab --out hapmap10_auto_noofs_ld_12"
     ],
     "language": "python",
     "metadata": {},
     "outputs": [
      {
       "output_type": "stream",
       "stream": "stdout",
       "text": [
        "PLINK v1.90b2t 64-bit (20 Dec 2014)        https://www.cog-genomics.org/plink2\r\n",
        "(C) 2005-2014 Shaun Purcell, Christopher Chang   GNU General Public License v3\r\n",
        "Note: --recode12 flag deprecated.  Use 'recode 12 ...'.\r\n",
        "Logging to hapmap10_auto_noofs_ld_12.log.\r\n",
        "32095 MB RAM detected; reserving 16047 MB for main workspace.\r\n",
        "Scanning .ped file... 0%\b\b1%\b\b1%\b\b1%\b\b1%\b\b1%\b\b1%\b\b1%\b\b1%\b\b1%\b\b1%\b\b2%\b\b2%\b\b2%\b\b2%\b\b2%\b\b2%\b\b2%\b\b2%\b\b2%\b\b2%\b\b3%\b\b3%\b\b3%\b\b3%\b\b3%\b\b3%\b\b3%\b\b3%\b\b3%\b\b3%\b\b4%\b\b4%\b\b4%\b\b4%\b\b4%\b\b4%\b\b4%\b\b4%\b\b4%\b\b4%\b\b5%\b\b5%\b\b5%"
       ]
      },
      {
       "output_type": "stream",
       "stream": "stdout",
       "text": [
        "\b\b5%\b\b5%\b\b5%\b\b5%\b\b5%\b\b5%\b\b5%\b\b6%\b\b6%\b\b6%\b\b6%\b\b6%\b\b6%\b\b6%\b\b6%\b\b6%\b\b6%\b\b7%\b\b7%\b\b7%\b\b7%\b\b7%\b\b7%\b\b7%\b\b7%\b\b7%\b\b7%\b\b8%\b\b8%\b\b8%\b\b8%\b\b8%\b\b8%\b\b8%\b\b8%\b\b8%\b\b9%\b\b9%\b\b9%\b\b9%\b\b9%\b\b9%\b\b9%\b\b9%\b\b9%\b\b9%\b\b10%\b\b\b10%\b\b\b10%\b\b\b10%\b\b\b10%\b\b\b10%\b\b\b10%\b\b\b10%\b\b\b10%\b\b\b10%\b\b\b11%\b\b\b11%\b\b\b11%\b\b\b11%\b\b\b11%\b\b\b11%\b\b\b11%"
       ]
      },
      {
       "output_type": "stream",
       "stream": "stdout",
       "text": [
        "\b\b\b11%\b\b\b11%\b\b\b11%\b\b\b12%\b\b\b12%\b\b\b12%\b\b\b12%\b\b\b12%\b\b\b12%\b\b\b12%\b\b\b12%\b\b\b12%\b\b\b12%\b\b\b13%\b\b\b13%\b\b\b13%\b\b\b13%\b\b\b13%\b\b\b13%\b\b\b13%\b\b\b13%\b\b\b13%\b\b\b13%\b\b\b14%\b\b\b14%\b\b\b14%\b\b\b14%\b\b\b14%\b\b\b14%\b\b\b14%\b\b\b14%\b\b\b14%\b\b\b14%\b\b\b15%\b\b\b15%\b\b\b15%\b\b\b15%\b\b\b15%\b\b\b15%\b\b\b15%\b\b\b15%\b\b\b15%\b\b\b15%\b\b\b16%\b\b\b16%\b\b\b16%\b\b\b16%\b\b\b16%\b\b\b16%\b\b\b16%\b\b\b16%\b\b\b16%\b\b\b17%\b\b\b17%\b\b\b17%\b\b\b17%\b\b\b17%\b\b\b17%\b\b\b17%\b\b\b17%\b\b\b17%\b\b\b17%"
       ]
      },
      {
       "output_type": "stream",
       "stream": "stdout",
       "text": [
        "\b\b\b18%\b\b\b18%\b\b\b18%\b\b\b18%\b\b\b18%\b\b\b18%\b\b\b18%\b\b\b18%\b\b\b18%\b\b\b18%\b\b\b19%\b\b\b19%\b\b\b19%\b\b\b19%\b\b\b19%\b\b\b19%\b\b\b19%\b\b\b19%\b\b\b19%\b\b\b19%\b\b\b20%\b\b\b20%\b\b\b20%\b\b\b20%\b\b\b20%\b\b\b20%\b\b\b20%\b\b\b20%\b\b\b20%\b\b\b20%\b\b\b21%\b\b\b21%\b\b\b21%\b\b\b21%\b\b\b21%\b\b\b21%\b\b\b21%\b\b\b21%\b\b\b21%\b\b\b21%\b\b\b22%\b\b\b22%\b\b\b22%\b\b\b22%\b\b\b22%\b\b\b22%\b\b\b22%\b\b\b22%\b\b\b22%\b\b\b22%\b\b\b23%\b\b\b23%\b\b\b23%\b\b\b23%\b\b\b23%\b\b\b23%\b\b\b23%\b\b\b23%\b\b\b23%\b\b\b23%\b\b\b24%"
       ]
      },
      {
       "output_type": "stream",
       "stream": "stdout",
       "text": [
        "\b\b\b24%\b\b\b24%\b\b\b24%\b\b\b24%\b\b\b24%\b\b\b24%\b\b\b24%\b\b\b24%\b\b\b24%\b\b\b25%\b\b\b25%\b\b\b25%\b\b\b25%\b\b\b25%\b\b\b25%\b\b\b25%\b\b\b25%\b\b\b25%\b\b\b26%\b\b\b26%\b\b\b26%\b\b\b26%\b\b\b26%\b\b\b26%\b\b\b26%\b\b\b26%\b\b\b26%\b\b\b26%\b\b\b27%\b\b\b27%\b\b\b27%\b\b\b27%\b\b\b27%\b\b\b27%\b\b\b27%\b\b\b27%\b\b\b27%\b\b\b27%\b\b\b28%\b\b\b28%\b\b\b28%\b\b\b28%\b\b\b28%\b\b\b28%\b\b\b28%\b\b\b28%\b\b\b28%\b\b\b28%\b\b\b29%\b\b\b29%\b\b\b29%\b\b\b29%\b\b\b29%\b\b\b29%\b\b\b29%\b\b\b29%\b\b\b29%\b\b\b29%\b\b\b30%\b\b\b30%\b\b\b30%\b\b\b30%\b\b\b30%"
       ]
      },
      {
       "output_type": "stream",
       "stream": "stdout",
       "text": [
        "\b\b\b30%\b\b\b30%\b\b\b30%\b\b\b30%\b\b\b30%\b\b\b31%\b\b\b31%\b\b\b31%\b\b\b31%\b\b\b31%\b\b\b31%\b\b\b31%\b\b\b31%\b\b\b31%\b\b\b31%\b\b\b32%\b\b\b32%\b\b\b32%\b\b\b32%\b\b\b32%\b\b\b32%\b\b\b32%\b\b\b32%\b\b\b32%\b\b\b32%\b\b\b33%\b\b\b33%\b\b\b33%\b\b\b33%\b\b\b33%\b\b\b33%\b\b\b33%\b\b\b33%\b\b\b33%\b\b\b34%\b\b\b34%\b\b\b34%\b\b\b34%\b\b\b34%\b\b\b34%\b\b\b34%\b\b\b34%\b\b\b34%\b\b\b34%\b\b\b35%\b\b\b35%\b\b\b35%\b\b\b35%\b\b\b35%\b\b\b35%\b\b\b35%\b\b\b35%\b\b\b35%\b\b\b35%\b\b\b36%\b\b\b36%\b\b\b36%\b\b\b36%\b\b\b36%\b\b\b36%\b\b\b36%\b\b\b36%"
       ]
      },
      {
       "output_type": "stream",
       "stream": "stdout",
       "text": [
        "\b\b\b36%\b\b\b36%\b\b\b37%\b\b\b37%\b\b\b37%\b\b\b37%\b\b\b37%\b\b\b37%\b\b\b37%\b\b\b37%\b\b\b37%\b\b\b37%\b\b\b38%\b\b\b38%\b\b\b38%\b\b\b38%\b\b\b38%\b\b\b38%\b\b\b38%\b\b\b38%\b\b\b38%\b\b\b38%\b\b\b39%\b\b\b39%\b\b\b39%\b\b\b39%\b\b\b39%\b\b\b39%\b\b\b39%\b\b\b39%\b\b\b39%\b\b\b39%\b\b\b40%\b\b\b40%\b\b\b40%\b\b\b40%\b\b\b40%\b\b\b40%\b\b\b40%\b\b\b40%\b\b\b40%\b\b\b40%\b\b\b41%\b\b\b41%\b\b\b41%\b\b\b41%\b\b\b41%\b\b\b41%\b\b\b41%\b\b\b41%\b\b\b41%\b\b\b42%\b\b\b42%\b\b\b42%\b\b\b42%\b\b\b42%\b\b\b42%\b\b\b42%\b\b\b42%\b\b\b42%"
       ]
      },
      {
       "output_type": "stream",
       "stream": "stdout",
       "text": [
        "\b\b\b42%\b\b\b43%\b\b\b43%\b\b\b43%\b\b\b43%\b\b\b43%\b\b\b43%\b\b\b43%\b\b\b43%\b\b\b43%\b\b\b43%\b\b\b44%\b\b\b44%\b\b\b44%\b\b\b44%\b\b\b44%\b\b\b44%\b\b\b44%\b\b\b44%\b\b\b44%\b\b\b44%\b\b\b45%\b\b\b45%\b\b\b45%\b\b\b45%\b\b\b45%\b\b\b45%\b\b\b45%\b\b\b45%\b\b\b45%\b\b\b45%\b\b\b46%\b\b\b46%\b\b\b46%\b\b\b46%\b\b\b46%\b\b\b46%\b\b\b46%\b\b\b46%\b\b\b46%\b\b\b46%\b\b\b47%\b\b\b47%\b\b\b47%\b\b\b47%\b\b\b47%\b\b\b47%\b\b\b47%\b\b\b47%\b\b\b47%\b\b\b47%\b\b\b48%\b\b\b48%\b\b\b48%\b\b\b48%\b\b\b48%\b\b\b48%\b\b\b48%\b\b\b48%\b\b\b48%\b\b\b48%\b\b\b49%\b\b\b49%"
       ]
      },
      {
       "output_type": "stream",
       "stream": "stdout",
       "text": [
        "\b\b\b49%\b\b\b49%\b\b\b49%\b\b\b49%\b\b\b49%\b\b\b49%\b\b\b49%\b\b\b50%\b\b\b50%\b\b\b50%\b\b\b50%\b\b\b50%\b\b\b50%\b\b\b50%\b\b\b50%\b\b\b50%\b\b\b50%\b\b\b51%\b\b\b51%\b\b\b51%\b\b\b51%\b\b\b51%\b\b\b51%\b\b\b51%\b\b\b51%\b\b\b51%\b\b\b51%\b\b\b52%\b\b\b52%\b\b\b52%\b\b\b52%\b\b\b52%\b\b\b52%\b\b\b52%\b\b\b52%\b\b\b52%\b\b\b52%\b\b\b53%\b\b\b53%\b\b\b53%\b\b\b53%\b\b\b53%\b\b\b53%\b\b\b53%\b\b\b53%\b\b\b53%\b\b\b53%\b\b\b54%\b\b\b54%\b\b\b54%\b\b\b54%\b\b\b54%\b\b\b54%\b\b\b54%\b\b\b54%\b\b\b54%\b\b\b54%\b\b\b55%\b\b\b55%\b\b\b55%\b\b\b55%\b\b\b55%\b\b\b55%"
       ]
      },
      {
       "output_type": "stream",
       "stream": "stdout",
       "text": [
        "\b\b\b55%\b\b\b55%\b\b\b55%\b\b\b55%\b\b\b56%\b\b\b56%\b\b\b56%\b\b\b56%\b\b\b56%\b\b\b56%\b\b\b56%\b\b\b56%\b\b\b56%\b\b\b56%\b\b\b57%\b\b\b57%\b\b\b57%\b\b\b57%\b\b\b57%\b\b\b57%\b\b\b57%\b\b\b57%\b\b\b57%\b\b\b57%\b\b\b58%\b\b\b58%\b\b\b58%\b\b\b58%\b\b\b58%\b\b\b58%\b\b\b58%\b\b\b58%\b\b\b58%\b\b\b59%\b\b\b59%\b\b\b59%\b\b\b59%\b\b\b59%\b\b\b59%\b\b\b59%\b\b\b59%\b\b\b59%\b\b\b59%\b\b\b60%\b\b\b60%\b\b\b60%\b\b\b60%\b\b\b60%\b\b\b60%\b\b\b60%\b\b\b60%\b\b\b60%\b\b\b60%\b\b\b61%\b\b\b61%\b\b\b61%\b\b\b61%\b\b\b61%\b\b\b61%\b\b\b61%\b\b\b61%\b\b\b61%\b\b\b61%\b\b\b62%"
       ]
      },
      {
       "output_type": "stream",
       "stream": "stdout",
       "text": [
        "\b\b\b62%\b\b\b62%\b\b\b62%\b\b\b62%\b\b\b62%\b\b\b62%\b\b\b62%\b\b\b62%\b\b\b62%\b\b\b63%\b\b\b63%\b\b\b63%\b\b\b63%\b\b\b63%\b\b\b63%\b\b\b63%\b\b\b63%\b\b\b63%\b\b\b63%\b\b\b64%\b\b\b64%\b\b\b64%\b\b\b64%\b\b\b64%\b\b\b64%\b\b\b64%\b\b\b64%\b\b\b64%\b\b\b64%\b\b\b65%\b\b\b65%\b\b\b65%\b\b\b65%\b\b\b65%\b\b\b65%\b\b\b65%\b\b\b65%\b\b\b65%\b\b\b65%\b\b\b66%\b\b\b66%\b\b\b66%\b\b\b66%\b\b\b66%\b\b\b66%\b\b\b66%\b\b\b66%\b\b\b66%\b\b\b67%\b\b\b67%\b\b\b67%\b\b\b67%\b\b\b67%\b\b\b67%\b\b\b67%\b\b\b67%\b\b\b67%\b\b\b67%\b\b\b68%\b\b\b68%\b\b\b68%"
       ]
      },
      {
       "output_type": "stream",
       "stream": "stdout",
       "text": [
        "\b\b\b68%\b\b\b68%\b\b\b68%\b\b\b68%\b\b\b68%\b\b\b68%\b\b\b68%\b\b\b69%\b\b\b69%\b\b\b69%\b\b\b69%\b\b\b69%\b\b\b69%\b\b\b69%\b\b\b69%\b\b\b69%\b\b\b69%\b\b\b70%\b\b\b70%\b\b\b70%\b\b\b70%\b\b\b70%\b\b\b70%\b\b\b70%\b\b\b70%\b\b\b70%\b\b\b70%\b\b\b71%\b\b\b71%\b\b\b71%\b\b\b71%\b\b\b71%\b\b\b71%\b\b\b71%\b\b\b71%\b\b\b71%\b\b\b71%\b\b\b72%\b\b\b72%\b\b\b72%\b\b\b72%\b\b\b72%\b\b\b72%\b\b\b72%\b\b\b72%\b\b\b72%\b\b\b72%\b\b\b73%\b\b\b73%\b\b\b73%\b\b\b73%\b\b\b73%\b\b\b73%\b\b\b73%\b\b\b73%\b\b\b73%\b\b\b73%\b\b\b74%\b\b\b74%\b\b\b74%\b\b\b74%\b\b\b74%\b\b\b74%\b\b\b74%"
       ]
      },
      {
       "output_type": "stream",
       "stream": "stdout",
       "text": [
        "\b\b\b74%\b\b\b74%\b\b\b75%\b\b\b75%\b\b\b75%\b\b\b75%\b\b\b75%\b\b\b75%\b\b\b75%\b\b\b75%\b\b\b75%\b\b\b75%\b\b\b76%\b\b\b76%\b\b\b76%\b\b\b76%\b\b\b76%\b\b\b76%\b\b\b76%\b\b\b76%\b\b\b76%\b\b\b76%\b\b\b77%\b\b\b77%\b\b\b77%\b\b\b77%\b\b\b77%\b\b\b77%\b\b\b77%\b\b\b77%\b\b\b77%\b\b\b77%\b\b\b78%\b\b\b78%\b\b\b78%\b\b\b78%\b\b\b78%\b\b\b78%\b\b\b78%\b\b\b78%\b\b\b78%\b\b\b78%\b\b\b79%\b\b\b79%\b\b\b79%\b\b\b79%\b\b\b79%\b\b\b79%\b\b\b79%\b\b\b79%\b\b\b79%\b\b\b79%\b\b\b80%\b\b\b80%\b\b\b80%\b\b\b80%\b\b\b80%\b\b\b80%\b\b\b80%\b\b\b80%\b\b\b80%\b\b\b80%"
       ]
      },
      {
       "output_type": "stream",
       "stream": "stdout",
       "text": [
        "\b\b\b81%\b\b\b81%\b\b\b81%\b\b\b81%\b\b\b81%\b\b\b81%\b\b\b81%\b\b\b81%\b\b\b81%\b\b\b81%\b\b\b82%\b\b\b82%\b\b\b82%\b\b\b82%\b\b\b82%\b\b\b82%\b\b\b82%\b\b\b82%\b\b\b82%\b\b\b82%\b\b\b83%\b\b\b83%\b\b\b83%\b\b\b83%\b\b\b83%\b\b\b83%\b\b\b83%\b\b\b83%\b\b\b83%\b\b\b84%\b\b\b84%\b\b\b84%\b\b\b84%\b\b\b84%\b\b\b84%\b\b\b84%\b\b\b84%\b\b\b84%\b\b\b84%\b\b\b85%\b\b\b85%\b\b\b85%\b\b\b85%\b\b\b85%\b\b\b85%\b\b\b85%\b\b\b85%\b\b\b85%\b\b\b85%\b\b\b86%\b\b\b86%\b\b\b86%\b\b\b86%\b\b\b86%\b\b\b86%\b\b\b86%\b\b\b86%\b\b\b86%\b\b\b86%\b\b\b87%\b\b\b87%"
       ]
      },
      {
       "output_type": "stream",
       "stream": "stdout",
       "text": [
        "\b\b\b87%\b\b\b87%\b\b\b87%\b\b\b87%\b\b\b87%\b\b\b87%\b\b\b87%\b\b\b87%\b\b\b88%\b\b\b88%\b\b\b88%\b\b\b88%\b\b\b88%\b\b\b88%\b\b\b88%\b\b\b88%\b\b\b88%\b\b\b88%\b\b\b89%\b\b\b89%\b\b\b89%\b\b\b89%\b\b\b89%\b\b\b89%\b\b\b89%\b\b\b89%\b\b\b89%\b\b\b89%\b\b\b90%\b\b\b90%\b\b\b90%\b\b\b90%\b\b\b90%\b\b\b90%\b\b\b90%\b\b\b90%\b\b\b90%\b\b\b90%\b\b\b91%\b\b\b91%\b\b\b91%\b\b\b91%\b\b\b91%\b\b\b91%\b\b\b91%\b\b\b91%\b\b\b91%\b\b\b92%\b\b\b92%\b\b\b92%\b\b\b92%\b\b\b92%\b\b\b92%\b\b\b92%\b\b\b92%\b\b\b92%\b\b\b92%\b\b\b93%\b\b\b93%\b\b\b93%\b\b\b93%\b\b\b93%\b\b\b93%"
       ]
      },
      {
       "output_type": "stream",
       "stream": "stdout",
       "text": [
        "\b\b\b93%\b\b\b93%\b\b\b93%\b\b\b93%\b\b\b94%\b\b\b94%\b\b\b94%\b\b\b94%\b\b\b94%\b\b\b94%\b\b\b94%\b\b\b94%\b\b\b94%\b\b\b94%\b\b\b95%\b\b\b95%\b\b\b95%\b\b\b95%\b\b\b95%\b\b\b95%\b\b\b95%\b\b\b95%\b\b\b95%\b\b\b95%\b\b\b96%\b\b\b96%\b\b\b96%\b\b\b96%\b\b\b96%\b\b\b96%\b\b\b96%\b\b\b96%\b\b\b96%\b\b\b96%\b\b\b97%\b\b\b97%\b\b\b97%\b\b\b97%\b\b\b97%\b\b\b97%\b\b\b97%\b\b\b97%\b\b\b97%\b\b\b97%\b\b\b98%\b\b\b98%\b\b\b98%\b\b\b98%\b\b\b98%\b\b\b98%\b\b\b98%\b\b\b98%\b\b\b98%\b\b\b98%\b\b\b99%\b\b\b99%\b\b\b99%\b\b\b99%\b\b\b99%\b\b\b99%\b\b\b99%\b\b\b99%\b\b\b99%\b\b\b100%"
       ]
      },
      {
       "output_type": "stream",
       "stream": "stdout",
       "text": [
        "\r",
        ".ped scan complete (for binary autoconversion).\r\n",
        "Performing single-pass .bed write (55299 variants, 988 people).\r\n",
        "0%\b\b1%\b\b2%\b\b3%\b\b4%\b\b5%"
       ]
      },
      {
       "output_type": "stream",
       "stream": "stdout",
       "text": [
        "\b\b6%\b\b7%\b\b8%\b\b9%\b\b10%\b\b\b11%\b\b\b12%"
       ]
      },
      {
       "output_type": "stream",
       "stream": "stdout",
       "text": [
        "\b\b\b13%\b\b\b14%\b\b\b15%\b\b\b16%\b\b\b17%\b\b\b18%\b\b\b19%"
       ]
      },
      {
       "output_type": "stream",
       "stream": "stdout",
       "text": [
        "\b\b\b20%\b\b\b21%\b\b\b22%\b\b\b23%\b\b\b24%\b\b\b25%\b\b\b26%"
       ]
      },
      {
       "output_type": "stream",
       "stream": "stdout",
       "text": [
        "\b\b\b27%\b\b\b28%\b\b\b29%\b\b\b30%\b\b\b31%\b\b\b32%"
       ]
      },
      {
       "output_type": "stream",
       "stream": "stdout",
       "text": [
        "\b\b\b33%\b\b\b34%\b\b\b35%\b\b\b36%\b\b\b37%\b\b\b38%\b\b\b39%"
       ]
      },
      {
       "output_type": "stream",
       "stream": "stdout",
       "text": [
        "\b\b\b40%\b\b\b41%\b\b\b42%\b\b\b43%\b\b\b44%\b\b\b45%\b\b\b46%"
       ]
      },
      {
       "output_type": "stream",
       "stream": "stdout",
       "text": [
        "\b\b\b47%\b\b\b48%\b\b\b49%\b\b\b50%\b\b\b51%\b\b\b52%\b\b\b53%"
       ]
      },
      {
       "output_type": "stream",
       "stream": "stdout",
       "text": [
        "\b\b\b54%\b\b\b55%\b\b\b56%\b\b\b57%\b\b\b58%\b\b\b59%\b\b\b60%"
       ]
      },
      {
       "output_type": "stream",
       "stream": "stdout",
       "text": [
        "\b\b\b61%\b\b\b62%\b\b\b63%\b\b\b64%\b\b\b65%\b\b\b66%\b\b\b67%"
       ]
      },
      {
       "output_type": "stream",
       "stream": "stdout",
       "text": [
        "\b\b\b68%\b\b\b69%\b\b\b70%\b\b\b71%\b\b\b72%\b\b\b73%"
       ]
      },
      {
       "output_type": "stream",
       "stream": "stdout",
       "text": [
        "\b\b\b74%\b\b\b75%\b\b\b76%\b\b\b77%\b\b\b78%\b\b\b79%\b\b\b80%"
       ]
      },
      {
       "output_type": "stream",
       "stream": "stdout",
       "text": [
        "\b\b\b81%\b\b\b82%\b\b\b83%\b\b\b84%\b\b\b85%\b\b\b86%\b\b\b87%"
       ]
      },
      {
       "output_type": "stream",
       "stream": "stdout",
       "text": [
        "\b\b\b88%\b\b\b89%\b\b\b90%\b\b\b91%\b\b\b92%\b\b\b93%"
       ]
      },
      {
       "output_type": "stream",
       "stream": "stdout",
       "text": [
        "\b\b\b94%\r",
        "--file: hapmap10_auto_noofs_ld_12-temporary.bed +\r\n",
        "hapmap10_auto_noofs_ld_12-temporary.bim +\r\n",
        "hapmap10_auto_noofs_ld_12-temporary.fam written.\r\n",
        "55299 variants loaded from .bim file.\r\n",
        "988 people (488 males, 500 females) loaded from .fam.\r\n",
        "Using 1 thread (no multithreaded calculations invoked).\r\n",
        "Before main variant filters, 988 founders and 0 nonfounders present.\r\n",
        "Calculating allele frequencies... 0%\b\b1%\b\b2%\b\b3%\b\b4%\b\b5%\b\b6%\b\b7%\b\b8%\b\b9%\b\b10%\b\b\b11%\b\b\b12%\b\b\b13%\b\b\b14%\b\b\b15%\b\b\b16%\b\b\b17%\b\b\b18%\b\b\b19%\b\b\b20%\b\b\b21%\b\b\b22%\b\b\b23%\b\b\b24%\b\b\b25%\b\b\b26%\b\b\b27%\b\b\b28%\b\b\b29%\b\b\b30%\b\b\b31%\b\b\b32%\b\b\b33%\b\b\b34%\b\b\b35%\b\b\b36%\b\b\b37%\b\b\b38%\b\b\b39%\b\b\b40%\b\b\b41%\b\b\b42%\b\b\b43%\b\b\b44%\b\b\b45%\b\b\b46%\b\b\b47%\b\b\b48%\b\b\b49%\b\b\b50%\b\b\b51%\b\b\b52%\b\b\b53%\b\b\b54%\b\b\b55%\b\b\b56%\b\b\b57%\b\b\b58%\b\b\b59%\b\b\b60%\b\b\b61%\b\b\b62%\b\b\b63%\b\b\b64%\b\b\b65%\b\b\b66%\b\b\b67%\b\b\b68%\b\b\b69%\b\b\b70%\b\b\b71%\b\b\b72%\b\b\b73%\b\b\b74%\b\b\b75%\b\b\b76%\b\b\b77%\b\b\b78%\b\b\b79%\b\b\b80%\b\b\b81%\b\b\b82%\b\b\b83%\b\b\b84%\b\b\b85%\b\b\b86%\b\b\b87%\b\b\b88%\b\b\b89%\b\b\b90%\b\b\b91%\b\b\b92%\b\b\b93%\b\b\b94%\b\b\b95%\b\b\b96%\b\b\b97%\b\b\b98%\b\b\b99%\b\b\b\b done.\r\n",
        "Total genotyping rate is 0.99767.\r\n",
        "55299 variants and 988 people pass filters and QC.\r\n",
        "Note: No phenotypes present.\r\n",
        "--recode to hapmap10_auto_noofs_ld_12.ped + hapmap10_auto_noofs_ld_12.map ...\r\n"
       ]
      },
      {
       "output_type": "stream",
       "stream": "stdout",
       "text": [
        "0%\b\b1%\b\b2%\b\b3%"
       ]
      },
      {
       "output_type": "stream",
       "stream": "stdout",
       "text": [
        "\b\b4%\b\b5%\b\b6%\b\b7%"
       ]
      },
      {
       "output_type": "stream",
       "stream": "stdout",
       "text": [
        "\b\b8%\b\b9%\b\b10%\b\b\b11%"
       ]
      },
      {
       "output_type": "stream",
       "stream": "stdout",
       "text": [
        "\b\b\b12%\b\b\b13%\b\b\b14%"
       ]
      },
      {
       "output_type": "stream",
       "stream": "stdout",
       "text": [
        "\b\b\b15%\b\b\b16%\b\b\b17%\b\b\b18%"
       ]
      },
      {
       "output_type": "stream",
       "stream": "stdout",
       "text": [
        "\b\b\b19%\b\b\b20%\b\b\b21%\b\b\b22%"
       ]
      },
      {
       "output_type": "stream",
       "stream": "stdout",
       "text": [
        "\b\b\b23%\b\b\b24%\b\b\b25%"
       ]
      },
      {
       "output_type": "stream",
       "stream": "stdout",
       "text": [
        "\b\b\b26%\b\b\b27%\b\b\b28%\b\b\b29%"
       ]
      },
      {
       "output_type": "stream",
       "stream": "stdout",
       "text": [
        "\b\b\b30%\b\b\b31%\b\b\b32%"
       ]
      },
      {
       "output_type": "stream",
       "stream": "stdout",
       "text": [
        "\b\b\b33%\b\b\b34%\b\b\b35%\b\b\b36%"
       ]
      },
      {
       "output_type": "stream",
       "stream": "stdout",
       "text": [
        "\b\b\b37%\b\b\b38%\b\b\b39%\b\b\b40%"
       ]
      },
      {
       "output_type": "stream",
       "stream": "stdout",
       "text": [
        "\b\b\b41%\b\b\b42%\b\b\b43%"
       ]
      },
      {
       "output_type": "stream",
       "stream": "stdout",
       "text": [
        "\b\b\b44%\b\b\b45%\b\b\b46%\b\b\b47%"
       ]
      },
      {
       "output_type": "stream",
       "stream": "stdout",
       "text": [
        "\b\b\b48%\b\b\b49%\b\b\b50%"
       ]
      },
      {
       "output_type": "stream",
       "stream": "stdout",
       "text": [
        "\b\b\b51%\b\b\b52%\b\b\b53%\b\b\b54%"
       ]
      },
      {
       "output_type": "stream",
       "stream": "stdout",
       "text": [
        "\b\b\b55%\b\b\b56%\b\b\b57%\b\b\b58%"
       ]
      },
      {
       "output_type": "stream",
       "stream": "stdout",
       "text": [
        "\b\b\b59%\b\b\b60%\b\b\b61%"
       ]
      },
      {
       "output_type": "stream",
       "stream": "stdout",
       "text": [
        "\b\b\b62%\b\b\b63%\b\b\b64%\b\b\b65%"
       ]
      },
      {
       "output_type": "stream",
       "stream": "stdout",
       "text": [
        "\b\b\b66%\b\b\b67%\b\b\b68%"
       ]
      },
      {
       "output_type": "stream",
       "stream": "stdout",
       "text": [
        "\b\b\b69%\b\b\b70%\b\b\b71%\b\b\b72%"
       ]
      },
      {
       "output_type": "stream",
       "stream": "stdout",
       "text": [
        "\b\b\b73%\b\b\b74%\b\b\b75%\b\b\b76%"
       ]
      },
      {
       "output_type": "stream",
       "stream": "stdout",
       "text": [
        "\b\b\b77%\b\b\b78%\b\b\b79%"
       ]
      },
      {
       "output_type": "stream",
       "stream": "stdout",
       "text": [
        "\b\b\b80%\b\b\b81%\b\b\b82%\b\b\b83%"
       ]
      },
      {
       "output_type": "stream",
       "stream": "stdout",
       "text": [
        "\b\b\b84%\b\b\b85%\b\b\b86%\b\b\b87%"
       ]
      },
      {
       "output_type": "stream",
       "stream": "stdout",
       "text": [
        "\b\b\b88%\b\b\b89%\b\b\b90%"
       ]
      },
      {
       "output_type": "stream",
       "stream": "stdout",
       "text": [
        "\b\b\b91%\b\b\b92%\b\b\b93%\b\b\b94%"
       ]
      },
      {
       "output_type": "stream",
       "stream": "stdout",
       "text": [
        "\b\b\b95%\b\b\b96%\b\b\b97%"
       ]
      },
      {
       "output_type": "stream",
       "stream": "stdout",
       "text": [
        "\b\b\b98%\b\b\b99%"
       ]
      },
      {
       "output_type": "stream",
       "stream": "stdout",
       "text": [
        "\b\b\bdone.\r\n"
       ]
      }
     ],
     "prompt_number": 19
    },
    {
     "cell_type": "code",
     "collapsed": false,
     "input": [],
     "language": "python",
     "metadata": {},
     "outputs": []
    }
   ],
   "metadata": {}
  }
 ]
}