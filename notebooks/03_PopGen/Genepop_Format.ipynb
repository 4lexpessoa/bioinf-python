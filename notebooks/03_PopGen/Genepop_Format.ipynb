{
 "metadata": {
  "name": "",
  "signature": "sha256:5c5b0b63f93fd6f3702d8fcd03456a51f437083d7dcb68d68deebc5b9b7c04a2"
 },
 "nbformat": 3,
 "nbformat_minor": 0,
 "worksheets": [
  {
   "cells": [
    {
     "cell_type": "code",
     "collapsed": false,
     "input": [
      "from collections import defaultdict\n",
      "\n",
      "from Bio.PopGen.GenePop import read\n",
      "from Bio.PopGen.GenePop.LargeFileParser import read as read_large\n",
      "\n",
      "from genomics.popgen.plink.convert import to_genepop"
     ],
     "language": "python",
     "metadata": {},
     "outputs": [],
     "prompt_number": 1
    },
    {
     "cell_type": "code",
     "collapsed": false,
     "input": [
      "f = open('relationships_w_pops_121708.txt')\n",
      "pop_ind = defaultdict(list)\n",
      "f.readline()  # header\n",
      "for l in f:\n",
      "    toks = l.rstrip().split('\\t')\n",
      "    fam_id = toks[0]\n",
      "    ind_id = toks[1]\n",
      "    pop = toks[-1]\n",
      "    pop_ind[pop].append((fam_id, ind_id))"
     ],
     "language": "python",
     "metadata": {},
     "outputs": [],
     "prompt_number": 2
    },
    {
     "cell_type": "heading",
     "level": 2,
     "metadata": {},
     "source": [
      "Check for consistency issues"
     ]
    },
    {
     "cell_type": "code",
     "collapsed": false,
     "input": [
      "all_inds = []\n",
      "for inds in pop_ind.values():\n",
      "    all_inds.extend(inds)\n",
      "for l in open('hapmap1.ped'):\n",
      "    toks = l.rstrip().replace(' ', '\\t').split('\\t')\n",
      "    fam = toks[0]\n",
      "    ind = toks[1]\n",
      "    if (fam, ind) not in all_inds:\n",
      "        print('Problems with %s/%s' % (fam, ind))"
     ],
     "language": "python",
     "metadata": {},
     "outputs": [
      {
       "output_type": "stream",
       "stream": "stdout",
       "text": [
        "Problems with 2469/NA20281\n"
       ]
      }
     ],
     "prompt_number": 3
    },
    {
     "cell_type": "heading",
     "level": 2,
     "metadata": {},
     "source": [
      "Convert from PLINK to Genepop"
     ]
    },
    {
     "cell_type": "code",
     "collapsed": false,
     "input": [
      "to_genepop('hapmap1_auto', 'hapmap1_auto', pop_ind)\n",
      "to_genepop('hapmap10', 'hapmap10', pop_ind)\n",
      "to_genepop('hapmap10_auto', 'hapmap10_auto', pop_ind)\n",
      "to_genepop('hapmap10_auto_noofs_ld', 'hapmap10_auto_noofs_ld', pop_ind)\n",
      "to_genepop('hapmap10_auto_noofs_2', 'hapmap10_auto_noofs_2', pop_ind)\n",
      "#slow\n",
      "#talk about coding: ACGT - 1234\n",
      "#talk about pop Pop names"
     ],
     "language": "python",
     "metadata": {},
     "outputs": [],
     "prompt_number": 5
    },
    {
     "cell_type": "heading",
     "level": 2,
     "metadata": {},
     "source": [
      "Using the in-memory parser"
     ]
    },
    {
     "cell_type": "markdown",
     "metadata": {},
     "source": [
      "Careful: this will severely increase your memory usage, consider it optional"
     ]
    },
    {
     "cell_type": "code",
     "collapsed": false,
     "input": [
      "rec = read(open('hapmap1_auto.gp'))\n",
      "print('Header: %s' % len(rec.comment_line))\n",
      "print('Number of loci %d' % len(rec.loci_list))\n",
      "print('Number of populations %d' % len(rec.pop_list))\n",
      "print('Population names: %s' % ', '.join(rec.pop_list))\n",
      "print('Individuals per population %s' % ', '.join([str(len(inds)) for inds in rec.populations]))\n",
      "ind = rec.populations[1][0]\n",
      "print('Individual %s, SNP %s, alleles: %d %d' % (ind[0], rec.loci_list[0], ind[1][0][0], ind[1][0][1]))\n",
      "del rec\n",
      "#talk about population names"
     ],
     "language": "python",
     "metadata": {},
     "outputs": [
      {
       "output_type": "stream",
       "stream": "stdout",
       "text": [
        "Header: 8\n",
        "Number of loci 13902\n",
        "Number of populations 11\n",
        "Population names: 2436/NA19983, 1459/NA12865, NA18594/NA18594, NA18140/NA18140, NA20881/NA20881, NA19007/NA19007, NA19372/NA19372, M005/NA19652, 2581/NA21371, NA20757/NA20757, Y105/NA19099\n",
        "Individuals per population 82, 165, 84, 85, 88, 86, 90, 77, 171, 88, 167"
       ]
      },
      {
       "output_type": "stream",
       "stream": "stdout",
       "text": [
        "\n",
        "Individual 1328/NA06989, SNP 1/rs2710888/949705, alleles: 3 2\n"
       ]
      }
     ],
     "prompt_number": 8
    },
    {
     "cell_type": "heading",
     "level": 2,
     "metadata": {},
     "source": [
      "Using the Large File Parser"
     ]
    },
    {
     "cell_type": "code",
     "collapsed": false,
     "input": [
      "def count_individuals(fname):\n",
      "    rec = read_large(open(fname))\n",
      "    pop_sizes = []\n",
      "    for line in rec.data_generator():\n",
      "        if line == ():\n",
      "            pop_sizes.append(0)\n",
      "        else:\n",
      "            pop_sizes[-1] += 1\n",
      "    return pop_sizes"
     ],
     "language": "python",
     "metadata": {},
     "outputs": [],
     "prompt_number": 17
    },
    {
     "cell_type": "code",
     "collapsed": false,
     "input": [
      "print('Individuals per population %s' % ', '.join([str(len(inds)) for inds in count_individuals('hapmap1_auto.gp')]))"
     ],
     "language": "python",
     "metadata": {},
     "outputs": [
      {
       "output_type": "stream",
       "stream": "stdout",
       "text": [
        "[82, 165, 84, 85, 88, 86, 90, 77, 171, 88, 167]\n"
       ]
      }
     ],
     "prompt_number": 18
    },
    {
     "cell_type": "code",
     "collapsed": false,
     "input": [
      "print(len(read_large(open('hapmap10.gp')).loci_list))\n",
      "print(len(read_large(open('hapmap10_auto.gp')).loci_list))\n",
      "print(len(read_large(open('hapmap10_auto_noofs_ld.gp')).loci_list))"
     ],
     "language": "python",
     "metadata": {},
     "outputs": [
      {
       "output_type": "stream",
       "stream": "stdout",
       "text": [
        "143545\n",
        "138443"
       ]
      },
      {
       "output_type": "stream",
       "stream": "stdout",
       "text": [
        "\n",
        "55248"
       ]
      },
      {
       "output_type": "stream",
       "stream": "stdout",
       "text": [
        "\n"
       ]
      }
     ],
     "prompt_number": 21
    },
    {
     "cell_type": "code",
     "collapsed": false,
     "input": [],
     "language": "python",
     "metadata": {},
     "outputs": []
    }
   ],
   "metadata": {}
  }
 ]
}