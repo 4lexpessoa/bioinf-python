{
 "metadata": {
  "name": "",
  "signature": "sha256:8188f0184b3da8f776a5a1e7151300acd598138a9b8fdbcb1e263aa9935cd1c9"
 },
 "nbformat": 3,
 "nbformat_minor": 0,
 "worksheets": [
  {
   "cells": [
    {
     "cell_type": "code",
     "collapsed": false,
     "input": [
      "from collections import defaultdict\n",
      "\n",
      "from Bio.PopGen.GenePop import read\n",
      "from Bio.PopGen.GenePop.LargeFileParser import read as read_large\n",
      "\n",
      "from genomics.popgen.plink.convert import to_genepop"
     ],
     "language": "python",
     "metadata": {},
     "outputs": [],
     "prompt_number": 12
    },
    {
     "cell_type": "code",
     "collapsed": false,
     "input": [
      "f = open('relationships_w_pops_121708.txt')\n",
      "pop_ind = defaultdict(list)\n",
      "f.readline()  # header\n",
      "for l in f:\n",
      "    toks = l.rstrip().split('\\t')\n",
      "    fam_id = toks[0]\n",
      "    ind_id = toks[1]\n",
      "    pop = toks[-1]\n",
      "    pop_ind[pop].append((fam_id, ind_id))"
     ],
     "language": "python",
     "metadata": {},
     "outputs": [],
     "prompt_number": 2
    },
    {
     "cell_type": "heading",
     "level": 2,
     "metadata": {},
     "source": [
      "Check for consistency issues"
     ]
    },
    {
     "cell_type": "code",
     "collapsed": false,
     "input": [
      "all_inds = []\n",
      "for inds in pop_ind.values():\n",
      "    all_inds.extend(inds)\n",
      "for l in open('hapmap1.ped'):\n",
      "    toks = l.rstrip().replace(' ', '\\t').split('\\t')\n",
      "    fam = toks[0]\n",
      "    ind = toks[1]\n",
      "    if (fam, ind) not in all_inds:\n",
      "        print('Problems with %s/%s' % (fam, ind))"
     ],
     "language": "python",
     "metadata": {},
     "outputs": [
      {
       "output_type": "stream",
       "stream": "stdout",
       "text": [
        "Problems with 2469/NA20281\n"
       ]
      }
     ],
     "prompt_number": 4
    },
    {
     "cell_type": "heading",
     "level": 2,
     "metadata": {},
     "source": [
      "Convert from PLINK to Genepop"
     ]
    },
    {
     "cell_type": "code",
     "collapsed": false,
     "input": [
      "to_genepop('hapmap1_auto', 'hapmap1_auto', pop_ind)\n",
      "to_genepop('hapmap10', 'hapmap10', pop_ind)\n",
      "to_genepop('hapmap10_auto', 'hapmap10_auto', pop_ind)\n",
      "to_genepop('hapmap10_auto_noofs_ld', 'hapmap10_auto_noofs_ld', pop_ind)\n",
      "#slow"
     ],
     "language": "python",
     "metadata": {},
     "outputs": [],
     "prompt_number": 5
    },
    {
     "cell_type": "heading",
     "level": 2,
     "metadata": {},
     "source": [
      "Using the in-memory parser"
     ]
    },
    {
     "cell_type": "markdown",
     "metadata": {},
     "source": [
      "Careful: this will severely increase your memory usage, consider it optional"
     ]
    },
    {
     "cell_type": "code",
     "collapsed": false,
     "input": [
      "rec = read(open('hapmap1_auto.gp'))\n",
      "print('Number of loci %d' % len(rec.loci_list))\n",
      "print('Number of populations %d' % len(rec.pop_list))\n",
      "print('Individuals per population %s' % ', '.join([str(len(inds)) for inds in rec.populations]))\n",
      "del rec\n",
      "#talk about population names"
     ],
     "language": "python",
     "metadata": {},
     "outputs": [
      {
       "output_type": "stream",
       "stream": "stdout",
       "text": [
        "Number of loci 13902\n",
        "Number of populations 11\n",
        "Individuals per population 82, 165, 84, 85, 88, 86, 90, 77, 171, 88, 167"
       ]
      },
      {
       "output_type": "stream",
       "stream": "stdout",
       "text": [
        "\n"
       ]
      }
     ],
     "prompt_number": 11
    },
    {
     "cell_type": "heading",
     "level": 2,
     "metadata": {},
     "source": [
      "Using the Large File Parser"
     ]
    },
    {
     "cell_type": "code",
     "collapsed": false,
     "input": [
      "def count_individuals(fname):\n",
      "    rec = read_large(open(fname))\n",
      "    pop_sizes = []\n",
      "    for line in rec.data_generator():\n",
      "        if line == ():\n",
      "            pop_sizes.append(0)\n",
      "        else:\n",
      "            pop_sizes[-1] += 1\n",
      "    return pop_sizes"
     ],
     "language": "python",
     "metadata": {},
     "outputs": [],
     "prompt_number": 17
    },
    {
     "cell_type": "code",
     "collapsed": false,
     "input": [
      "print('Individuals per population %s' % ', '.join([str(len(inds)) for inds in count_individuals('hapmap1_auto.gp')]))"
     ],
     "language": "python",
     "metadata": {},
     "outputs": [
      {
       "output_type": "stream",
       "stream": "stdout",
       "text": [
        "[82, 165, 84, 85, 88, 86, 90, 77, 171, 88, 167]\n"
       ]
      }
     ],
     "prompt_number": 18
    },
    {
     "cell_type": "code",
     "collapsed": false,
     "input": [
      "print(len(read_large(open('hapmap10.gp')).loci_list))\n",
      "print(len(read_large(open('hapmap10_auto.gp')).loci_list))\n",
      "print(len(read_large(open('hapmap10_auto_noofs_ld.gp')).loci_list))"
     ],
     "language": "python",
     "metadata": {},
     "outputs": [
      {
       "output_type": "stream",
       "stream": "stdout",
       "text": [
        "143545\n",
        "138443"
       ]
      },
      {
       "output_type": "stream",
       "stream": "stdout",
       "text": [
        "\n",
        "55248"
       ]
      },
      {
       "output_type": "stream",
       "stream": "stdout",
       "text": [
        "\n"
       ]
      }
     ],
     "prompt_number": 21
    },
    {
     "cell_type": "code",
     "collapsed": false,
     "input": [],
     "language": "python",
     "metadata": {},
     "outputs": []
    }
   ],
   "metadata": {}
  }
 ]
}