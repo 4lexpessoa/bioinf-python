{
 "metadata": {
  "name": "",
  "signature": "sha256:fea953554885d80a64755da7882cdd1b1c3bb0a71255a28042713d3d91603fe5"
 },
 "nbformat": 3,
 "nbformat_minor": 0,
 "worksheets": [
  {
   "cells": [
    {
     "cell_type": "code",
     "collapsed": false,
     "input": [
      "#Does not work on Windows, probably\n",
      "import multiprocessing\n",
      "import os\n",
      "import subprocess\n",
      "import tempfile  # cannot use\n",
      "\n",
      "import pexpect  # requires github pexpect"
     ],
     "language": "python",
     "metadata": {},
     "outputs": [],
     "prompt_number": 1
    },
    {
     "cell_type": "code",
     "collapsed": false,
     "input": [
      "my_app = '../../broken_app/broken_app.py'"
     ],
     "language": "python",
     "metadata": {},
     "outputs": [],
     "prompt_number": 2
    },
    {
     "cell_type": "heading",
     "level": 2,
     "metadata": {},
     "source": [
      "Here we define the wrapper"
     ]
    },
    {
     "cell_type": "code",
     "collapsed": false,
     "input": [
      "def run_batch(pipe, temp_dir, app, op):\n",
      "    os.chdir(temp_dir)\n",
      "    #This is enough to run simple interactive processes\n",
      "    proc = subprocess.Popen(['../' + app], bufsize=1, universal_newlines=True,\n",
      "                            stdin=subprocess.PIPE, stdout=subprocess.PIPE, stderr=subprocess.PIPE)\n",
      "    out, err = proc.communicate('%d\\n' % op)\n",
      "    pipe.send(out.split('\\n')[-1].rstrip())\n",
      "\n",
      "def run_interactive(pipe, temp_dir, app, op):\n",
      "    os.chdir(temp_dir)\n",
      "    c = pexpect.spawnu('../' + app)\n",
      "    c.expect(u'\\?')\n",
      "    #Explain the problem with popen\n",
      "    c.sendline(u'%d' % op)\n",
      "    pipe.send(c.readlines()[-1].rstrip())\n",
      "    os.chdir('..')  # not necessary\n",
      "\n",
      "\n",
      "def run_app(app, op, in_file, out_file, interactive=False):\n",
      "    parent, child = multiprocessing.Pipe()\n",
      "    temp_dir = tempfile.mkdtemp(dir='.')  # Dir should be on the local FS\n",
      "    os.symlink('../%s' % in_file, '%s/in.params' % temp_dir)  # Link, not copy - could be gigantic file\n",
      "    if not interactive:\n",
      "        p = multiprocessing.Process(target=run_batch, args=(child, temp_dir, app, op))\n",
      "    else:\n",
      "        p = multiprocessing.Process(target=run_interactive, args=(child, temp_dir, app, op))\n",
      "    p.start()\n",
      "    line = parent.recv()\n",
      "    p.join()\n",
      "    os.rmdir(temp_dir)\n",
      "    #No command-line arguments\n",
      "    #instead of call\n",
      "    #Pipe\n"
     ],
     "language": "python",
     "metadata": {},
     "outputs": [],
     "prompt_number": 5
    },
    {
     "cell_type": "heading",
     "level": 2,
     "metadata": {},
     "source": [
      "Using the wrapper"
     ]
    },
    {
     "cell_type": "code",
     "collapsed": false,
     "input": [
      "def create_dummy_input(fname, n1, n2):\n",
      "    w = open(fname, 'w')\n",
      "    w.write('%f\\n%f\\n' % (n1, n2))\n",
      "    w.close()\n",
      "\n",
      "create_dummy_input('my.params', 1.5, 2)\n",
      "op = 1  # subtraction\n",
      "run_app(my_app, op, 'my.params', 'out.result', interactive=True)"
     ],
     "language": "python",
     "metadata": {},
     "outputs": [
      {
       "output_type": "stream",
       "stream": "stdout",
       "text": [
        "The result of the multiplication is: 3.000000\n"
       ]
      }
     ],
     "prompt_number": 6
    },
    {
     "cell_type": "code",
     "collapsed": false,
     "input": [],
     "language": "python",
     "metadata": {},
     "outputs": []
    },
    {
     "cell_type": "code",
     "collapsed": false,
     "input": [],
     "language": "python",
     "metadata": {},
     "outputs": []
    }
   ],
   "metadata": {}
  }
 ]
}