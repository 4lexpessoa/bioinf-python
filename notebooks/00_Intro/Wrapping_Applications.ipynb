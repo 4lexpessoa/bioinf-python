{
 "metadata": {
  "name": "",
  "signature": "sha256:296485c377db9343ffae5300d76cec78516011edb371ac04d413841cfe91c841"
 },
 "nbformat": 3,
 "nbformat_minor": 0,
 "worksheets": [
  {
   "cells": [
    {
     "cell_type": "code",
     "collapsed": false,
     "input": [
      "#Does not work on Windows\n",
      "import fcntl\n",
      "import os\n",
      "try:\n",
      "    import queue\n",
      "except ImportError:  # python 2\n",
      "    import Queue as queue\n",
      "import subprocess\n",
      "import threading"
     ],
     "language": "python",
     "metadata": {},
     "outputs": [],
     "prompt_number": 1
    },
    {
     "cell_type": "code",
     "collapsed": false,
     "input": [
      "my_app = '../../broken_app/broken_app.py'"
     ],
     "language": "python",
     "metadata": {},
     "outputs": [],
     "prompt_number": 2
    },
    {
     "cell_type": "heading",
     "level": 2,
     "metadata": {},
     "source": [
      "Here we define the wrapper"
     ]
    },
    {
     "cell_type": "code",
     "collapsed": false,
     "input": [
      "def process_output(pipe_out, queue):\n",
      "    for line in iter(pipe_out.readline, b''):\n",
      "        queue.put(line)\n",
      "    pipe_out.close()\n",
      "    \n",
      "def run_app(app, op, in_file, out_file):\n",
      "    proc = subprocess.Popen([app], bufsize=0, shell=True, # universal_newlines=True,\n",
      "                            stdin=subprocess.PIPE, stdout=subprocess.PIPE, stderr=subprocess.PIPE)\n",
      "    #No command-line arguments\n",
      "    #instead of call\n",
      "    #Pipe\n",
      "    #bufsize default\n",
      "    #my_queue = queue.Queue()\n",
      "    #thr = threading.Thread(target=process_output, args=(proc.stdout, my_queue))\n",
      "    #thr.daemon = True\n",
      "    #thr.start()\n",
      "    proc.stdin.flush()\n",
      "    #proc.stdout.flush()\n",
      "    proc.stdout.read(1)\n",
      "    #print(my_queue.get())\n",
      "    #blocking issues\n",
      "    #interact.wait()"
     ],
     "language": "python",
     "metadata": {},
     "outputs": [],
     "prompt_number": 3
    },
    {
     "cell_type": "heading",
     "level": 2,
     "metadata": {},
     "source": [
      "Using the wrapper"
     ]
    },
    {
     "cell_type": "code",
     "collapsed": false,
     "input": [
      "def create_dummy_input(fname, n1, n2):\n",
      "    w = open(fname, 'w')\n",
      "    w.write('%f\\n%f\\n' % (n1, n2))\n",
      "    w.close()\n",
      "\n",
      "create_dummy_input('my.params', 1.5, 2)\n",
      "op = 1  # subtraction\n",
      "run_app(my_app, op, 'my.params', 'out.result')"
     ],
     "language": "python",
     "metadata": {},
     "outputs": [
      {
       "ename": "KeyboardInterrupt",
       "evalue": "",
       "output_type": "pyerr",
       "traceback": [
        "\u001b[1;31m---------------------------------------------------------------------------\u001b[0m\n\u001b[1;31mKeyboardInterrupt\u001b[0m                         Traceback (most recent call last)",
        "\u001b[1;32m<ipython-input-4-a0191dce5749>\u001b[0m in \u001b[0;36m<module>\u001b[1;34m()\u001b[0m\n\u001b[0;32m      6\u001b[0m \u001b[0mcreate_dummy_input\u001b[0m\u001b[1;33m(\u001b[0m\u001b[1;34m'my.params'\u001b[0m\u001b[1;33m,\u001b[0m \u001b[1;36m1.5\u001b[0m\u001b[1;33m,\u001b[0m \u001b[1;36m2\u001b[0m\u001b[1;33m)\u001b[0m\u001b[1;33m\u001b[0m\u001b[0m\n\u001b[0;32m      7\u001b[0m \u001b[0mop\u001b[0m \u001b[1;33m=\u001b[0m \u001b[1;36m1\u001b[0m  \u001b[1;31m# subtraction\u001b[0m\u001b[1;33m\u001b[0m\u001b[0m\n\u001b[1;32m----> 8\u001b[1;33m \u001b[0mrun_app\u001b[0m\u001b[1;33m(\u001b[0m\u001b[0mmy_app\u001b[0m\u001b[1;33m,\u001b[0m \u001b[0mop\u001b[0m\u001b[1;33m,\u001b[0m \u001b[1;34m'my.params'\u001b[0m\u001b[1;33m,\u001b[0m \u001b[1;34m'out.result'\u001b[0m\u001b[1;33m)\u001b[0m\u001b[1;33m\u001b[0m\u001b[0m\n\u001b[0m",
        "\u001b[1;32m<ipython-input-3-accd37f860af>\u001b[0m in \u001b[0;36mrun_app\u001b[1;34m(app, op, in_file, out_file)\u001b[0m\n\u001b[0;32m     17\u001b[0m     \u001b[0mproc\u001b[0m\u001b[1;33m.\u001b[0m\u001b[0mstdin\u001b[0m\u001b[1;33m.\u001b[0m\u001b[0mflush\u001b[0m\u001b[1;33m(\u001b[0m\u001b[1;33m)\u001b[0m\u001b[1;33m\u001b[0m\u001b[0m\n\u001b[0;32m     18\u001b[0m     \u001b[1;31m#proc.stdout.flush()\u001b[0m\u001b[1;33m\u001b[0m\u001b[1;33m\u001b[0m\u001b[0m\n\u001b[1;32m---> 19\u001b[1;33m     \u001b[0mproc\u001b[0m\u001b[1;33m.\u001b[0m\u001b[0mstdout\u001b[0m\u001b[1;33m.\u001b[0m\u001b[0mread\u001b[0m\u001b[1;33m(\u001b[0m\u001b[1;36m1\u001b[0m\u001b[1;33m)\u001b[0m\u001b[1;33m\u001b[0m\u001b[0m\n\u001b[0m\u001b[0;32m     20\u001b[0m     \u001b[1;31m#print(my_queue.get())\u001b[0m\u001b[1;33m\u001b[0m\u001b[1;33m\u001b[0m\u001b[0m\n\u001b[0;32m     21\u001b[0m     \u001b[1;31m#blocking issues\u001b[0m\u001b[1;33m\u001b[0m\u001b[1;33m\u001b[0m\u001b[0m\n",
        "\u001b[1;31mKeyboardInterrupt\u001b[0m: "
       ]
      }
     ],
     "prompt_number": 4
    },
    {
     "cell_type": "code",
     "collapsed": false,
     "input": [
      "pid = os.fork()\n",
      "in_r, in_w = os.pipe()\n",
      "out_r, out_r = os.pipe()\n",
      "if os.fork() == 0:  # child\n",
      "    sys.stdout = os.fdopen(sys.stdout.fileno(), 'w', 0)\n",
      "    os.execv(my_app)\n",
      "else:\n",
      "    print(pid)"
     ],
     "language": "python",
     "metadata": {},
     "outputs": [
      {
       "output_type": "stream",
       "stream": "stdout",
       "text": [
        "54769\n"
       ]
      }
     ],
     "prompt_number": 5
    },
    {
     "cell_type": "code",
     "collapsed": false,
     "input": [],
     "language": "python",
     "metadata": {},
     "outputs": []
    }
   ],
   "metadata": {}
  }
 ]
}