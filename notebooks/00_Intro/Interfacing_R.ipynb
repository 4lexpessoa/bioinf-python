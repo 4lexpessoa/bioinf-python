{
 "metadata": {
  "name": "",
  "signature": "sha256:5de02cf9726955829c53906129907327a6eb4c4b265f10834a804a4c53ccf588"
 },
 "nbformat": 3,
 "nbformat_minor": 0,
 "worksheets": [
  {
   "cells": [
    {
     "cell_type": "heading",
     "level": 2,
     "metadata": {},
     "source": [
      "The next cell will get the data file, you only need to run it once"
     ]
    },
    {
     "cell_type": "code",
     "collapsed": false,
     "input": [
      "!wget ftp://ftp.1000genomes.ebi.ac.uk/vol1/ftp/sequence.index"
     ],
     "language": "python",
     "metadata": {},
     "outputs": []
    },
    {
     "cell_type": "heading",
     "level": 1,
     "metadata": {},
     "source": [
      "Interfacing with R"
     ]
    },
    {
     "cell_type": "code",
     "collapsed": false,
     "input": [
      "import rpy2.robjects as robjects\n",
      "import pandas as pd\n",
      "#%load_ext rpy2.ipython"
     ],
     "language": "python",
     "metadata": {},
     "outputs": [],
     "prompt_number": 26
    },
    {
     "cell_type": "code",
     "collapsed": false,
     "input": [
      "read_delim = robjects.r('read.delim')\n",
      "seq_data = read_delim('sequence.index', header=True, stringsAsFactors=False)\n",
      "#In R:\n",
      "#  seq.data <- read.delim('sequence.index', header=TRUE, stringsAsFactors=FALSE)"
     ],
     "language": "python",
     "metadata": {},
     "outputs": [],
     "prompt_number": 43
    },
    {
     "cell_type": "code",
     "collapsed": false,
     "input": [
      "print('This data frame has %d columns and %d rows' % (seq_data.ncol, seq_data.nrow))\n",
      "print(seq_data.colnames)\n",
      "#In R:\n",
      "#  print(colnames(seq.data))\n",
      "#  print(nrow(seq.data))\n",
      "#  print(ncol(seq.data))\n",
      "\n",
      "print(robjects.r.ncol(seq_data))\n",
      "\n",
      "as_integer = robjects.r('as.integer')\n",
      "match = robjects.r.match\n",
      "my_col = match('BASE_COUNT', seq_data.colnames)[0] # Vector returned\n",
      "print(seq_data[my_col - 1][:3])\n",
      "seq_data[my_col - 1] = as_integer(seq_data[my_col - 1])\n",
      "print(seq_data[my_col - 1][:3])\n",
      "print(dir(seq_data))\n",
      "robjects.r.assign('seq.data', seq_data)\n",
      "robjects.r('print(colnames(seq.data))')\n",
      "\n",
      "#Index on 1, index on 0"
     ],
     "language": "python",
     "metadata": {},
     "outputs": [
      {
       "output_type": "stream",
       "stream": "stdout",
       "text": [
        "This data frame has 26 columns and 187720 rows\n",
        " [1] \"FASTQ_FILE\"          \"MD5\"                 \"RUN_ID\"             \n",
        " [4] \"STUDY_ID\"            \"STUDY_NAME\"          \"CENTER_NAME\"        \n",
        " [7] \"SUBMISSION_ID\"       \"SUBMISSION_DATE\"     \"SAMPLE_ID\"          \n",
        "[10] \"SAMPLE_NAME\"         \"POPULATION\"          \"EXPERIMENT_ID\"      \n",
        "[13] \"INSTRUMENT_PLATFORM\" \"INSTRUMENT_MODEL\"    \"LIBRARY_NAME\"       \n",
        "[16] \"RUN_NAME\"            \"RUN_BLOCK_NAME\"      \"INSERT_SIZE\"        \n",
        "[19] \"LIBRARY_LAYOUT\"      \"PAIRED_FASTQ\"        \"WITHDRAWN\"          \n",
        "[22] \"WITHDRAWN_DATE\"      \"COMMENT\"             \"READ_COUNT\"         \n",
        "[25] \"BASE_COUNT\"          \"ANALYSIS_GROUP\"     \n",
        "\n",
        "[1] 26\n",
        "\n",
        "[1] 334097928 344591352   5365584\n",
        "\n",
        "[1] 334097928 344591352   5365584\n",
        "\n",
        "['_RObjectMixin__close', '_RObjectMixin__fifo', '_RObjectMixin__file', '_RObjectMixin__rclass', '_RObjectMixin__rclass_set', '_RObjectMixin__readlines', '_RObjectMixin__show', '_RObjectMixin__sink', '_RObjectMixin__tempfile', '_RObjectMixin__unlink', '__add__', '__array_struct__', '__class__', '__deepcopy__', '__delattr__', '__delitem__', '__delslice__', '__dict__', '__doc__', '__format__', '__getattribute__', '__getitem__', '__getslice__', '__getstate__', '__hash__', '__init__', '__len__', '__module__', '__new__', '__reduce__', '__reduce_ex__', '__repr__', '__repr_content__', '__rname__', '__setattr__', '__setitem__', '__setslice__', '__setstate__', '__sexp__', '__sexp_refcount__', '__sizeof__', '__str__', '__subclasshook__', '__weakref__', '_cbind', '_dataframe_name', '_get_colnames', '_get_ncol', '_get_nrow', '_get_rownames', '_is_list', '_names_get', '_names_set', '_rbind', '_rclass_get', '_rclass_set', '_read_csv', '_sample', '_set_colnames', '_set_rownames', '_vector', '_write_table', 'cbind', 'colnames', 'do_slot', 'do_slot_assign', 'from_csvfile', 'from_length', 'index', 'items', 'iter_column', 'iter_row', 'list_attrs', 'named', 'names', 'ncol', 'nrow', 'r_repr', 'rbind', 'rclass', 'rid', 'ro', 'rownames', 'rsame', 'rx', 'rx2', 'sample', 'to_csvfile', 'typeof']\n",
        " [1] \"FASTQ_FILE\"          \"MD5\"                 \"RUN_ID\"             \n",
        " [4] \"STUDY_ID\"            \"STUDY_NAME\"          \"CENTER_NAME\"        \n",
        " [7] \"SUBMISSION_ID\"       \"SUBMISSION_DATE\"     \"SAMPLE_ID\"          \n",
        "[10] \"SAMPLE_NAME\"         \"POPULATION\"          \"EXPERIMENT_ID\"      \n",
        "[13] \"INSTRUMENT_PLATFORM\" \"INSTRUMENT_MODEL\"    \"LIBRARY_NAME\"       \n",
        "[16] \"RUN_NAME\"            \"RUN_BLOCK_NAME\"      \"INSERT_SIZE\"        \n",
        "[19] \"LIBRARY_LAYOUT\"      \"PAIRED_FASTQ\"        \"WITHDRAWN\"          \n",
        "[22] \"WITHDRAWN_DATE\"      \"COMMENT\"             \"READ_COUNT\"         \n",
        "[25] \"BASE_COUNT\"          \"ANALYSIS_GROUP\"     \n"
       ]
      },
      {
       "metadata": {},
       "output_type": "pyout",
       "prompt_number": 46,
       "text": [
        "<StrVector - Python:0x7f999abc3950 / R:0x80aaaa0>\n",
        "[str, str, str, ..., str, str, str]"
       ]
      }
     ],
     "prompt_number": 46
    },
    {
     "cell_type": "code",
     "collapsed": false,
     "input": [
      "%%R\n",
      "print(colnames(seq.data))\n",
      "print(mode(seq.data$BASE_COUNT))\n",
      "print(seq.data[1,])\n",
      "print(nrow(seq.data))\n",
      "seq.data <- seq.data[seq.data$WITHDRAWN==0, ]\n",
      "print(nrow(seq.data))\n",
      "seq.data <- seq.data[, c('STUDY_ID', 'STUDY_NAME', 'CENTER_NAME', 'SAMPLE_ID', 'SAMPLE_NAME', 'POPULATION',\n",
      "                         'INSTRUMENT_PLATFORM', 'LIBRARY_LAYOUT', 'PAIRED_FASTQ', 'READ_COUNT', 'BASE_COUNT', 'ANALYSIS_GROUP')]\n",
      "seq.data$BASE_COUNT <- as.integer(seq.data$BASE_COUNT)\n",
      "seq.data$PAIRED_FASTQ <- as.integer(seq.data$PAIRED_FASTQ)\n",
      "seq.data$READ_COUNT <- as.integer(seq.data$READ_COUNT)\n",
      "seq.data$BASE_COUNT <- as.integer(seq.data$BASE_COUNT)\n",
      "seq.data$POPULATION <- as.factor(seq.data$POPULATION)\n",
      "print(sapply(seq.data, class))"
     ],
     "language": "python",
     "metadata": {},
     "outputs": [
      {
       "metadata": {},
       "output_type": "display_data",
       "text": [
        " [1] \"FASTQ_FILE\"          \"MD5\"                 \"RUN_ID\"             \n",
        " [4] \"STUDY_ID\"            \"STUDY_NAME\"          \"CENTER_NAME\"        \n",
        " [7] \"SUBMISSION_ID\"       \"SUBMISSION_DATE\"     \"SAMPLE_ID\"          \n",
        "[10] \"SAMPLE_NAME\"         \"POPULATION\"          \"EXPERIMENT_ID\"      \n",
        "[13] \"INSTRUMENT_PLATFORM\" \"INSTRUMENT_MODEL\"    \"LIBRARY_NAME\"       \n",
        "[16] \"RUN_NAME\"            \"RUN_BLOCK_NAME\"      \"INSERT_SIZE\"        \n",
        "[19] \"LIBRARY_LAYOUT\"      \"PAIRED_FASTQ\"        \"WITHDRAWN\"          \n",
        "[22] \"WITHDRAWN_DATE\"      \"COMMENT\"             \"READ_COUNT\"         \n",
        "[25] \"BASE_COUNT\"          \"ANALYSIS_GROUP\"     \n",
        "[1] \"character\"\n",
        "                                          FASTQ_FILE\n",
        "1 data/NA19238/sequence_read/ERR000018.filt.fastq.gz\n",
        "                               MD5    RUN_ID  STUDY_ID\n",
        "1 3b092ef1661e2a8ff85050e01242707d ERR000018 SRP000032\n",
        "                   STUDY_NAME CENTER_NAME SUBMISSION_ID     SUBMISSION_DATE\n",
        "1 1000Genomes Project Pilot 2         BGI     ERA000013 2008-08-14 00:00:00\n",
        "  SAMPLE_ID SAMPLE_NAME POPULATION EXPERIMENT_ID INSTRUMENT_PLATFORM\n",
        "1 SRS000212     NA19238        YRI     ERX000014            ILLUMINA\n",
        "          INSTRUMENT_MODEL   LIBRARY_NAME        RUN_NAME RUN_BLOCK_NAME\n",
        "1 Illumina Genome Analyzer HU1000RADCAASE BGI-FC307N0AAXX             NA\n",
        "  INSERT_SIZE LIBRARY_LAYOUT PAIRED_FASTQ WITHDRAWN WITHDRAWN_DATE COMMENT\n",
        "1           0         SINGLE                      0                       \n",
        "  READ_COUNT BASE_COUNT ANALYSIS_GROUP\n",
        "1    9280498  334097928  high coverage\n",
        "[1] 187720\n",
        "[1] 177877\n",
        "           STUDY_ID          STUDY_NAME         CENTER_NAME           SAMPLE_ID \n",
        "        \"character\"         \"character\"         \"character\"         \"character\" \n",
        "        SAMPLE_NAME          POPULATION INSTRUMENT_PLATFORM      LIBRARY_LAYOUT \n",
        "        \"character\"            \"factor\"         \"character\"         \"character\" \n",
        "       PAIRED_FASTQ          READ_COUNT          BASE_COUNT      ANALYSIS_GROUP \n",
        "          \"integer\"           \"integer\"           \"integer\"         \"character\" \n"
       ]
      }
     ],
     "prompt_number": 24
    },
    {
     "cell_type": "code",
     "collapsed": false,
     "input": [
      "%R print(y)\n",
      "%R print(y %*% y)"
     ],
     "language": "python",
     "metadata": {},
     "outputs": [
      {
       "metadata": {},
       "output_type": "display_data",
       "text": [
        "     [,1] [,2] [,3] [,4]\n",
        "[1,]    1    5    9   13\n",
        "[2,]    2    6   10   14\n",
        "[3,]    3    7   11   15\n",
        "[4,]    4    8   12   16\n"
       ]
      },
      {
       "metadata": {},
       "output_type": "display_data",
       "text": [
        "     [,1] [,2] [,3] [,4]\n",
        "[1,]   90  202  314  426\n",
        "[2,]  100  228  356  484\n",
        "[3,]  110  254  398  542\n",
        "[4,]  120  280  440  600\n"
       ]
      }
     ],
     "prompt_number": 77
    },
    {
     "cell_type": "code",
     "collapsed": false,
     "input": [
      "%R print(rbind(c(1), 2, 3))"
     ],
     "language": "python",
     "metadata": {},
     "outputs": [
      {
       "metadata": {},
       "output_type": "display_data",
       "text": [
        "     [,1]\n",
        "[1,]    1\n",
        "[2,]    2\n",
        "[3,]    3\n"
       ]
      }
     ],
     "prompt_number": 80
    },
    {
     "cell_type": "code",
     "collapsed": false,
     "input": [],
     "language": "python",
     "metadata": {},
     "outputs": []
    }
   ],
   "metadata": {}
  }
 ]
}