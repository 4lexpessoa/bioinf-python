{
 "metadata": {
  "name": "",
  "signature": "sha256:fcbe94bb4be47843c6bbfbfffcd9ccc5efb8bd7b3d0ffd401d42cab58f100eaa"
 },
 "nbformat": 3,
 "nbformat_minor": 0,
 "worksheets": [
  {
   "cells": [
    {
     "cell_type": "code",
     "collapsed": false,
     "input": [],
     "language": "python",
     "metadata": {},
     "outputs": []
    }
   ],
   "metadata": {}
  }
 ]
}