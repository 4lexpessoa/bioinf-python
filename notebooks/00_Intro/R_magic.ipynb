{
 "metadata": {
  "name": "",
  "signature": "sha256:891d1f598e716bf1aa8045d0d684e493a51ea179290cadf4282c71fde8a0b068"
 },
 "nbformat": 3,
 "nbformat_minor": 0,
 "worksheets": [
  {
   "cells": [
    {
     "cell_type": "code",
     "collapsed": false,
     "input": [
      "import rpy2\n",
      "%load_ext rpy2.ipython"
     ],
     "language": "python",
     "metadata": {},
     "outputs": [],
     "prompt_number": 5
    },
    {
     "cell_type": "code",
     "collapsed": false,
     "input": [
      "%%R\n",
      "a <- c(1, 2)\n",
      "x <- c(1:50)\n",
      "dim(x) <- c(5,10)\n",
      "y <- array(c(1:16), dim=c(4,4))\n",
      "b <- 35\n",
      "c <- c(a, b, a)\n",
      "log <- c > 1\n",
      "bla <- c(1:3, 0.1, NA)"
     ],
     "language": "python",
     "metadata": {},
     "outputs": [],
     "prompt_number": 74
    },
    {
     "cell_type": "code",
     "collapsed": false,
     "input": [
      "%R print(x)"
     ],
     "language": "python",
     "metadata": {},
     "outputs": [
      {
       "metadata": {},
       "output_type": "display_data",
       "text": [
        "     [,1] [,2] [,3] [,4] [,5] [,6] [,7] [,8] [,9] [,10]\n",
        "[1,]    1    6   11   16   21   26   31   36   41    46\n",
        "[2,]    2    7   12   17   22   27   32   37   42    47\n",
        "[3,]    3    8   13   18   23   28   33   38   43    48\n",
        "[4,]    4    9   14   19   24   29   34   39   44    49\n",
        "[5,]    5   10   15   20   25   30   35   40   45    50\n"
       ]
      }
     ],
     "prompt_number": 71
    },
    {
     "cell_type": "code",
     "collapsed": false,
     "input": [
      "%R print(y)\n",
      "%R print(y %*% y)"
     ],
     "language": "python",
     "metadata": {},
     "outputs": [
      {
       "metadata": {},
       "output_type": "display_data",
       "text": [
        "     [,1] [,2] [,3] [,4]\n",
        "[1,]    1    5    9   13\n",
        "[2,]    2    6   10   14\n",
        "[3,]    3    7   11   15\n",
        "[4,]    4    8   12   16\n"
       ]
      },
      {
       "metadata": {},
       "output_type": "display_data",
       "text": [
        "     [,1] [,2] [,3] [,4]\n",
        "[1,]   90  202  314  426\n",
        "[2,]  100  228  356  484\n",
        "[3,]  110  254  398  542\n",
        "[4,]  120  280  440  600\n"
       ]
      }
     ],
     "prompt_number": 77
    },
    {
     "cell_type": "code",
     "collapsed": false,
     "input": [
      "%R print(rbind(c(1), 2, 3))"
     ],
     "language": "python",
     "metadata": {},
     "outputs": [
      {
       "metadata": {},
       "output_type": "display_data",
       "text": [
        "     [,1]\n",
        "[1,]    1\n",
        "[2,]    2\n",
        "[3,]    3\n"
       ]
      }
     ],
     "prompt_number": 80
    },
    {
     "cell_type": "code",
     "collapsed": false,
     "input": [],
     "language": "python",
     "metadata": {},
     "outputs": []
    }
   ],
   "metadata": {}
  }
 ]
}