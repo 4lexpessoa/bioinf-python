{
 "metadata": {
  "name": "",
  "signature": "sha256:f160399d45ab52221f589328d748dfbf5e1f1af72d6c4e7820a34be58c6002fe"
 },
 "nbformat": 3,
 "nbformat_minor": 0,
 "worksheets": [
  {
   "cells": [
    {
     "cell_type": "heading",
     "level": 1,
     "metadata": {},
     "source": [
      "Python for Bioinformatics"
     ]
    },
    {
     "cell_type": "heading",
     "level": 2,
     "metadata": {},
     "source": [
      "Python 2 or 3?"
     ]
    },
    {
     "cell_type": "markdown",
     "metadata": {},
     "source": [
      "Depending on your Python version, some content might not be available. Lets test that:"
     ]
    },
    {
     "cell_type": "code",
     "collapsed": false,
     "input": [
      "import platform\n",
      "major, minor, patch = platform.python_version_tuple()\n",
      "if major == 3:\n",
      "    print('Python 3: The Phylogenomics module will not work, but all the Big Data content will')\n",
      "else:\n",
      "    print('Python 2: The Phylogenomics module will work, but some Big Data content will not')"
     ],
     "language": "python",
     "metadata": {},
     "outputs": [
      {
       "output_type": "stream",
       "stream": "stdout",
       "text": [
        "Python 2: The Phylogenomics module will work, but some Big Data content will not\n"
       ]
      }
     ],
     "prompt_number": 5
    },
    {
     "cell_type": "heading",
     "level": 2,
     "metadata": {},
     "source": [
      "Content"
     ]
    },
    {
     "cell_type": "markdown",
     "metadata": {},
     "source": [
      "* Python and the surrounding software ecology\n",
      "\n",
      "  * Interfacing with R\n",
      "  * Wrapping external applications\n",
      "\n",
      "* Next Generation Sequencing\n",
      "\n",
      "* Genomics\n",
      "\n",
      "* Population Genetics\n",
      "\n",
      "* Simulation in Population Genetics\n",
      "\n",
      "* Phylogenetics\n",
      "\n",
      "* Proteomics\n",
      "\n",
      "* Other Topics\n",
      "\n",
      "* Python for Big Data"
     ]
    },
    {
     "cell_type": "code",
     "collapsed": false,
     "input": [],
     "language": "python",
     "metadata": {},
     "outputs": []
    }
   ],
   "metadata": {}
  }
 ]
}