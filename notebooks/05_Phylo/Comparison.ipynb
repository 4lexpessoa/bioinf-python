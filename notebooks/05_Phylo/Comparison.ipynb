{
 "metadata": {
  "name": "",
  "signature": "sha256:a6fd710e41e9640f218e1de3e8403e8de2ec9d5527f3d534920d650591959939"
 },
 "nbformat": 3,
 "nbformat_minor": 0,
 "worksheets": [
  {
   "cells": [
    {
     "cell_type": "code",
     "collapsed": false,
     "input": [
      "import dendropy\n",
      "from dendropy import popgenstat"
     ],
     "language": "python",
     "metadata": {},
     "outputs": [],
     "prompt_number": 1
    },
    {
     "cell_type": "heading",
     "level": 2,
     "metadata": {},
     "source": [
      "Genes"
     ]
    },
    {
     "cell_type": "code",
     "collapsed": false,
     "input": [
      "import os\n",
      "from collections import OrderedDict\n",
      "genes_species = OrderedDict()\n",
      "my_dir = 'alignments/genic_alignments/'\n",
      "my_species = ['RESTV', 'SUDV']\n",
      "\n",
      "for name in os.listdir(my_dir):\n",
      "    gene_name = name.split('.')[0]\n",
      "    char_mat = dendropy.DnaCharacterMatrix.get_from_path(my_dir + name, 'dnafasta')\n",
      "    genes_species[gene_name] = {}\n",
      "    \n",
      "    for species in my_species:\n",
      "        genes_species[gene_name][species] = dendropy.DnaCharacterMatrix()\n",
      "    for taxon, char_map in char_mat.items():\n",
      "        species = taxon.label.split('_')[0]\n",
      "        if species in my_species:\n",
      "            genes_species[gene_name][species].extend_map({taxon: char_map})"
     ],
     "language": "python",
     "metadata": {},
     "outputs": [],
     "prompt_number": 11
    },
    {
     "cell_type": "code",
     "collapsed": false,
     "input": [
      "for gene, species_data in genes.items():\n",
      "    for species in my_species:\n",
      "        popgenstat.tajimas_d(species_data[species])"
     ],
     "language": "python",
     "metadata": {},
     "outputs": [],
     "prompt_number": 12
    },
    {
     "cell_type": "heading",
     "level": 2,
     "metadata": {},
     "source": [
      "Genomes"
     ]
    },
    {
     "cell_type": "code",
     "collapsed": false,
     "input": [
      "def do_basic_popgen(seqs):\n",
      "    num_seg_sites = popgenstat.num_segregating_sites(seqs)\n",
      "    avg_pair = popgenstat.average_number_of_pairwise_differences(seqs)\n",
      "    nuc_div = popgenstat.nucleotide_diversity(seqs)\n",
      "    print('Segregating sites: %d, Avg pairwise diffs: %.2f, Nucleotide diversity %.6f' % (num_seg_sites, avg_pair, nuc_div))"
     ],
     "language": "python",
     "metadata": {},
     "outputs": [],
     "prompt_number": 2
    },
    {
     "cell_type": "code",
     "collapsed": false,
     "input": [
      "import random\n",
      "ebov_seqs = dendropy.DnaCharacterMatrix.get_from_path('alignments/ebov.pruned.phy',\n",
      "                                                      schema='phylip', data_type='dna',\n",
      "                                                      interleaved=True)\n",
      "\n",
      "subsampling_set = dendropy.DnaCharacterMatrix()\n",
      "ebov2014_set = dendropy.DnaCharacterMatrix()\n",
      "for taxon, char_map in ebov_seqs.items():\n",
      "    if random.random() < 0.2:\n",
      "        subsampling_set.extend_map({taxon: char_map})\n",
      "    if taxon.label.find('_2014_') > -1 and random.random() < 0.3:\n",
      "        ebov2014_set.extend_map({taxon: char_map})\n",
      "del ebov_seqs"
     ],
     "language": "python",
     "metadata": {},
     "outputs": [],
     "prompt_number": 3
    },
    {
     "cell_type": "code",
     "collapsed": false,
     "input": [
      "print(len(subsampling_set.taxon_set))\n",
      "do_basic_popgen(subsampling_set)"
     ],
     "language": "python",
     "metadata": {},
     "outputs": [
      {
       "output_type": "stream",
       "stream": "stdout",
       "text": [
        "24\n",
        "Segregating sites: 982, Avg pairwise diffs: 211.33, Nucleotide diversity 0.011199"
       ]
      },
      {
       "output_type": "stream",
       "stream": "stdout",
       "text": [
        "\n"
       ]
      }
     ],
     "prompt_number": 4
    },
    {
     "cell_type": "code",
     "collapsed": false,
     "input": [
      "print(len(ebov2014_set.taxon_set))\n",
      "do_basic_popgen(ebov2014_set)"
     ],
     "language": "python",
     "metadata": {},
     "outputs": [
      {
       "output_type": "stream",
       "stream": "stdout",
       "text": [
        "20\n",
        "Segregating sites: 16, Avg pairwise diffs: 2.19, Nucleotide diversity 0.000116"
       ]
      },
      {
       "output_type": "stream",
       "stream": "stdout",
       "text": [
        "\n"
       ]
      }
     ],
     "prompt_number": 5
    },
    {
     "cell_type": "code",
     "collapsed": false,
     "input": [],
     "language": "python",
     "metadata": {},
     "outputs": [],
     "prompt_number": 5
    }
   ],
   "metadata": {}
  }
 ]
}