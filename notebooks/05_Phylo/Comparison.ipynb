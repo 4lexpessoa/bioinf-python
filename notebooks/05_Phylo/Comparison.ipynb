{
 "metadata": {
  "name": "",
  "signature": "sha256:f5691e2511cb138e29eeb3cbc8540393d56b519388f08e5bc5256f62fcd3a01c"
 },
 "nbformat": 3,
 "nbformat_minor": 0,
 "worksheets": [
  {
   "cells": [
    {
     "cell_type": "code",
     "collapsed": false,
     "input": [
      "import dendropy\n",
      "from dendropy import popgenstat"
     ],
     "language": "python",
     "metadata": {},
     "outputs": [],
     "prompt_number": 1
    },
    {
     "cell_type": "heading",
     "level": 2,
     "metadata": {},
     "source": [
      "Genes"
     ]
    },
    {
     "cell_type": "code",
     "collapsed": false,
     "input": [
      "import os\n",
      "from collections import OrderedDict\n",
      "genes_species = OrderedDict()\n",
      "my_dir = 'alignments/genic_alignments/'\n",
      "my_species = ['RESTV', 'SUDV']\n",
      "\n",
      "for name in os.listdir(my_dir):\n",
      "    gene_name = name.split('.')[0]\n",
      "    char_mat = dendropy.DnaCharacterMatrix.get_from_path(my_dir + name, 'dnafasta')\n",
      "    genes_species[gene_name] = {}\n",
      "    \n",
      "    for species in my_species:\n",
      "        genes_species[gene_name][species] = dendropy.DnaCharacterMatrix()\n",
      "    for taxon, char_map in char_mat.items():\n",
      "        species = taxon.label.split('_')[0]\n",
      "        if species in my_species:\n",
      "            genes_species[gene_name][species].extend_map({taxon: char_map})"
     ],
     "language": "python",
     "metadata": {},
     "outputs": [],
     "prompt_number": 2
    },
    {
     "cell_type": "code",
     "collapsed": false,
     "input": [
      "import numpy as np\n",
      "import pandas as pd\n",
      "summary = np.ndarray(shape=(len(genes_species), 4 * len(my_species)))\n",
      "stats = ['seg_sites', 'nuc_div', 'taj_d', 'wat_theta']\n",
      "for row, (gene, species_data) in enumerate(genes_species.items()):\n",
      "    for col_base, species in enumerate(my_species):\n",
      "        summary[row, col_base * 4] = popgenstat.num_segregating_sites(species_data[species])\n",
      "        summary[row, col_base * 4 + 1] = popgenstat.nucleotide_diversity(species_data[species])\n",
      "        summary[row, col_base * 4 + 2] = popgenstat.tajimas_d(species_data[species])\n",
      "        summary[row, col_base * 4 + 3] = popgenstat.wattersons_theta(species_data[species])\n",
      "columns = []\n",
      "for species in my_species:\n",
      "    columns.extend(['%s (%s)' % (stat, species) for stat in stats])\n",
      "df = pd.DataFrame(summary, index=genes_species.keys(), columns=columns)\n",
      "df # vs print(df)"
     ],
     "language": "python",
     "metadata": {},
     "outputs": [
      {
       "html": [
        "<div style=\"max-height:1000px;max-width:1500px;overflow:auto;\">\n",
        "<table border=\"1\" class=\"dataframe\">\n",
        "  <thead>\n",
        "    <tr style=\"text-align: right;\">\n",
        "      <th></th>\n",
        "      <th>seg_sites (RESTV)</th>\n",
        "      <th>nuc_div (RESTV)</th>\n",
        "      <th>taj_d (RESTV)</th>\n",
        "      <th>wat_theta (RESTV)</th>\n",
        "      <th>seg_sites (SUDV)</th>\n",
        "      <th>nuc_div (SUDV)</th>\n",
        "      <th>taj_d (SUDV)</th>\n",
        "      <th>wat_theta (SUDV)</th>\n",
        "    </tr>\n",
        "  </thead>\n",
        "  <tbody>\n",
        "    <tr>\n",
        "      <th>VP40</th>\n",
        "      <td>  62</td>\n",
        "      <td> 0.023625</td>\n",
        "      <td>-0.430621</td>\n",
        "      <td>  25.306122</td>\n",
        "      <td>  47</td>\n",
        "      <td> 0.020768</td>\n",
        "      <td> 1.085773</td>\n",
        "      <td>  16.613831</td>\n",
        "    </tr>\n",
        "    <tr>\n",
        "      <th>NP</th>\n",
        "      <td> 121</td>\n",
        "      <td> 0.019761</td>\n",
        "      <td>-0.660840</td>\n",
        "      <td>  49.387755</td>\n",
        "      <td> 127</td>\n",
        "      <td> 0.023467</td>\n",
        "      <td> 0.781808</td>\n",
        "      <td>  44.892692</td>\n",
        "    </tr>\n",
        "    <tr>\n",
        "      <th>VP24</th>\n",
        "      <td>  30</td>\n",
        "      <td> 0.013280</td>\n",
        "      <td>-1.045988</td>\n",
        "      <td>  12.244898</td>\n",
        "      <td>  32</td>\n",
        "      <td> 0.017412</td>\n",
        "      <td> 0.765997</td>\n",
        "      <td>  11.311544</td>\n",
        "    </tr>\n",
        "    <tr>\n",
        "      <th>VP30</th>\n",
        "      <td>  36</td>\n",
        "      <td> 0.014875</td>\n",
        "      <td>-0.791451</td>\n",
        "      <td>  14.693878</td>\n",
        "      <td>  46</td>\n",
        "      <td> 0.021888</td>\n",
        "      <td> 0.794874</td>\n",
        "      <td>  16.260345</td>\n",
        "    </tr>\n",
        "    <tr>\n",
        "      <th>L</th>\n",
        "      <td> 307</td>\n",
        "      <td> 0.017337</td>\n",
        "      <td>-0.481484</td>\n",
        "      <td> 125.306122</td>\n",
        "      <td> 327</td>\n",
        "      <td> 0.021045</td>\n",
        "      <td> 1.033446</td>\n",
        "      <td> 115.589844</td>\n",
        "    </tr>\n",
        "    <tr>\n",
        "      <th>VP35</th>\n",
        "      <td>  48</td>\n",
        "      <td> 0.017763</td>\n",
        "      <td>-0.609747</td>\n",
        "      <td>  19.591837</td>\n",
        "      <td>  56</td>\n",
        "      <td> 0.021749</td>\n",
        "      <td> 0.413875</td>\n",
        "      <td>  19.795203</td>\n",
        "    </tr>\n",
        "    <tr>\n",
        "      <th>GP_all</th>\n",
        "      <td> 180</td>\n",
        "      <td> 0.032403</td>\n",
        "      <td>-0.611714</td>\n",
        "      <td>  73.469388</td>\n",
        "      <td> 116</td>\n",
        "      <td> 0.024438</td>\n",
        "      <td> 1.032549</td>\n",
        "      <td>  41.004348</td>\n",
        "    </tr>\n",
        "  </tbody>\n",
        "</table>\n",
        "</div>"
       ],
       "metadata": {},
       "output_type": "pyout",
       "prompt_number": 3,
       "text": [
        "        seg_sites (RESTV)  nuc_div (RESTV)  taj_d (RESTV)  wat_theta (RESTV)  \\\n",
        "VP40                   62         0.023625      -0.430621          25.306122   \n",
        "NP                    121         0.019761      -0.660840          49.387755   \n",
        "VP24                   30         0.013280      -1.045988          12.244898   \n",
        "VP30                   36         0.014875      -0.791451          14.693878   \n",
        "L                     307         0.017337      -0.481484         125.306122   \n",
        "VP35                   48         0.017763      -0.609747          19.591837   \n",
        "GP_all                180         0.032403      -0.611714          73.469388   \n",
        "\n",
        "        seg_sites (SUDV)  nuc_div (SUDV)  taj_d (SUDV)  wat_theta (SUDV)  \n",
        "VP40                  47        0.020768      1.085773         16.613831  \n",
        "NP                   127        0.023467      0.781808         44.892692  \n",
        "VP24                  32        0.017412      0.765997         11.311544  \n",
        "VP30                  46        0.021888      0.794874         16.260345  \n",
        "L                    327        0.021045      1.033446        115.589844  \n",
        "VP35                  56        0.021749      0.413875         19.795203  \n",
        "GP_all               116        0.024438      1.032549         41.004348  "
       ]
      }
     ],
     "prompt_number": 3
    },
    {
     "cell_type": "heading",
     "level": 2,
     "metadata": {},
     "source": [
      "Genomes"
     ]
    },
    {
     "cell_type": "code",
     "collapsed": false,
     "input": [
      "def do_basic_popgen(seqs):\n",
      "    num_seg_sites = popgenstat.num_segregating_sites(seqs)\n",
      "    avg_pair = popgenstat.average_number_of_pairwise_differences(seqs)\n",
      "    nuc_div = popgenstat.nucleotide_diversity(seqs)\n",
      "    print('Segregating sites: %d, Avg pairwise diffs: %.2f, Nucleotide diversity %.6f' % (num_seg_sites, avg_pair, nuc_div))\n",
      "    print(\"Watterson's theta: %s\" % popgenstat.wattersons_theta(seqs))\n",
      "    print(\"Tajima's D: %s\" % popgenstat.tajimas_d(seqs))"
     ],
     "language": "python",
     "metadata": {},
     "outputs": [],
     "prompt_number": 4
    },
    {
     "cell_type": "code",
     "collapsed": false,
     "input": [
      "ebov_seqs = dendropy.DnaCharacterMatrix.get_from_path('alignments/ebov.pruned.phy',\n",
      "                                                      schema='phylip', data_type='dna',\n",
      "                                                      interleaved=True)\n",
      "sl_2014 = []\n",
      "drc_2007 = []\n",
      "ebov2007_set = dendropy.DnaCharacterMatrix()\n",
      "ebov2014_set = dendropy.DnaCharacterMatrix()\n",
      "for taxon, char_map in ebov_seqs.items():\n",
      "    if taxon.label.startswith('EBOV_2014') and len(sl_2014) < 8:\n",
      "        sl_2014.append(char_map)\n",
      "        ebov2014_set.extend_map({taxon: char_map})\n",
      "    elif taxon.label.startswith('EBOV_2007'):\n",
      "        drc_2007.append(char_map)\n",
      "        ebov2007_set.extend_map({taxon: char_map})\n",
      "del ebov_seqs"
     ],
     "language": "python",
     "metadata": {},
     "outputs": [],
     "prompt_number": 5
    },
    {
     "cell_type": "code",
     "collapsed": false,
     "input": [
      "print(len(ebov2007_set.taxon_set))\n",
      "do_basic_popgen(ebov2007_set)"
     ],
     "language": "python",
     "metadata": {},
     "outputs": [
      {
       "output_type": "stream",
       "stream": "stdout",
       "text": [
        "8\n",
        "Segregating sites: 25, Avg pairwise diffs: 6.96, Nucleotide diversity 0.000368"
       ]
      },
      {
       "output_type": "stream",
       "stream": "stdout",
       "text": [
        "\n",
        "Watterson's theta: 9.64187327824"
       ]
      },
      {
       "output_type": "stream",
       "stream": "stdout",
       "text": [
        "\n",
        "Tajima's D: -1.46137755859"
       ]
      },
      {
       "output_type": "stream",
       "stream": "stdout",
       "text": [
        "\n"
       ]
      }
     ],
     "prompt_number": 6
    },
    {
     "cell_type": "code",
     "collapsed": false,
     "input": [
      "print(len(ebov2014_set.taxon_set))\n",
      "do_basic_popgen(ebov2014_set)"
     ],
     "language": "python",
     "metadata": {},
     "outputs": [
      {
       "output_type": "stream",
       "stream": "stdout",
       "text": [
        "8\n",
        "Segregating sites: 11, Avg pairwise diffs: 3.43, Nucleotide diversity 0.000183"
       ]
      },
      {
       "output_type": "stream",
       "stream": "stdout",
       "text": [
        "\n",
        "Watterson's theta: 4.24242424242"
       ]
      },
      {
       "output_type": "stream",
       "stream": "stdout",
       "text": [
        "\n",
        "Tajima's D: -0.958055002501"
       ]
      },
      {
       "output_type": "stream",
       "stream": "stdout",
       "text": [
        "\n"
       ]
      }
     ],
     "prompt_number": 7
    },
    {
     "cell_type": "code",
     "collapsed": false,
     "input": [
      "print(len(sl_2014))\n",
      "print(len(drc_2007))"
     ],
     "language": "python",
     "metadata": {},
     "outputs": [
      {
       "output_type": "stream",
       "stream": "stdout",
       "text": [
        "8\n",
        "8\n"
       ]
      }
     ],
     "prompt_number": 8
    },
    {
     "cell_type": "code",
     "collapsed": false,
     "input": [
      "pair_stats = popgenstat.PopulationPairSummaryStatistics(sl_2014, drc_2007)"
     ],
     "language": "python",
     "metadata": {},
     "outputs": [],
     "prompt_number": 9
    },
    {
     "cell_type": "code",
     "collapsed": false,
     "input": [
      "print('Average number of pairwise differences irrespective of population: %s' %\n",
      "      pair_stats.average_number_of_pairwise_differences)\n",
      "print('Average number of pairwise differences between populations: %s' %\n",
      "      pair_stats.average_number_of_pairwise_differences_between)\n",
      "print('Average number of pairwise differences within populations: %s' %\n",
      "      pair_stats.average_number_of_pairwise_differences_within)\n",
      "print('Average number of net pairwise differences : %s' %\n",
      "      pair_stats.average_number_of_pairwise_differences_net)\n",
      "print('Number of segregating sites: %s' %\n",
      "      pair_stats.num_segregating_sites)\n",
      "print(\"Watterson's theta: %s\" %\n",
      "      pair_stats.wattersons_theta)\n",
      "print(\"Wakeley's Psi: %s\" % pair_stats.wakeleys_psi)\n",
      "print(\"Tajima's D: %s\" % pair_stats.tajimas_d)"
     ],
     "language": "python",
     "metadata": {},
     "outputs": [
      {
       "output_type": "stream",
       "stream": "stdout",
       "text": [
        "Average number of pairwise differences irrespective of population: 288.275\n",
        "Average number of pairwise differences between populations: 535.96875\n",
        "Average number of pairwise differences within populations: 10.3928571429\n",
        "Average number of net pairwise differences : 525.575892857\n",
        "Number of segregating sites: 566\n",
        "Watterson's theta: 170.572917407\n",
        "Wakeley's Psi: 0.275666276818\n",
        "Tajima's D: 3.02412508662\n"
       ]
      }
     ],
     "prompt_number": 10
    },
    {
     "cell_type": "code",
     "collapsed": false,
     "input": [],
     "language": "python",
     "metadata": {},
     "outputs": [],
     "prompt_number": 10
    }
   ],
   "metadata": {}
  }
 ]
}