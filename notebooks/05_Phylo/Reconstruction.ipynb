{
 "metadata": {
  "name": "",
  "signature": "sha256:94509f220a39158b68b5fbb7a38778acd75ce77a51bc6d474fd28b053b4c6487"
 },
 "nbformat": 3,
 "nbformat_minor": 0,
 "worksheets": [
  {
   "cells": [
    {
     "cell_type": "code",
     "collapsed": false,
     "input": [
      "import os\n",
      "import shutil\n",
      "\n",
      "\n",
      "import dendropy\n",
      "from dendropy.interop import raxml\n",
      "rx = raxml.RaxmlRunner(replace=True)"
     ],
     "language": "python",
     "metadata": {},
     "outputs": [],
     "prompt_number": 1
    },
    {
     "cell_type": "code",
     "collapsed": false,
     "input": [
      "ebov_data = dendropy.DnaCharacterMatrix.get_from_path('alignments/ebov.pruned.phy', 'phylip',\n",
      "                                                 interleaved=True)"
     ],
     "language": "python",
     "metadata": {},
     "outputs": [],
     "prompt_number": 2
    },
    {
     "cell_type": "code",
     "collapsed": false,
     "input": [
      "print(ebov_data.taxon_set)"
     ],
     "language": "python",
     "metadata": {},
     "outputs": [
      {
       "output_type": "stream",
       "stream": "stdout",
       "text": [
        "TaxonSet(EBOV_1976_KC242801, EBOV_1976_NC002549, EBOV_1977_KC242791, EBOV_1994_KC242792, EBOV_1996_KC242793, EBOV_1996_KC242794, EBOV_1995_AY354458, EBOV_1995_JQ352763, EBOV_1995_KC242796, EBOV_1995_KC242799, EBOV_2007_HQ613403, EBOV_2007_KC242784, EBOV_2007_KC242786, EBOV_2007_KC242787, EBOV_2007_KC242789, EBOV_2007_KC242785, EBOV_2007_KC242790, EBOV_2007_KC242788, EBOV_2008_HQ613402, EBOV_2002_KC242800, EBOV_2014_EM095, EBOV_2014_G3676, EBOV_2014_G3680, EBOV_2014_G3686, EBOV_2014_G3687, EBOV_2014_G3683, EBOV_2014_EM096, EBOV_2014_EM098, EBOV_2014_EM104, EBOV_2014_EM106, EBOV_2014_EM112, EBOV_2014_EM113, EBOV_2014_EM124, EBOV_2014_G3677, EBOV_2014_G3682, EBOV_2014_G3707, EBOV_2014_G3713, EBOV_2014_G3724, EBOV_2014_G3734, EBOV_2014_G3735, EBOV_2014_G3750, EBOV_2014_G3758, EBOV_2014_G3764, EBOV_2014_G3769, EBOV_2014_G3782, EBOV_2014_G3786, EBOV_2014_G3788, EBOV_2014_G3796, EBOV_2014_G3798, EBOV_2014_G3799, EBOV_2014_G3800, EBOV_2014_G3805, EBOV_2014_G3807, EBOV_2014_G3810, EBOV_2014_G3820, EBOV_2014_G3838, EBOV_2014_G3840, EBOV_2014_G3841, EBOV_2014_G3848, EBOV_2014_NM042, EBOV_2014_G3850, EBOV_2014_EM110, EBOV_2014_EM111, EBOV_2014_EM119, EBOV_2014_G3729, EBOV_2014_G3765, EBOV_2014_G3770, EBOV_2014_G3789, EBOV_2014_G3825, EBOV_2014_G3845, EBOV_2014_G3851, EBOV_2014_G3857, EBOV_2014_EM115, EBOV_2014_EM120, EBOV_2014_G3752, EBOV_2014_G3795, EBOV_2014_G3808, EBOV_2014_G3823, EBOV_2014_EM121, EBOV_2014_G3771, EBOV_2014_G3816, EBOV_2014_G3829, EBOV_2014_G3846, EBOV_2014_G3856, EBOV_2014_G3826, EBOV_2014_G3827, EBOV_2014_G3809, EBOV_2014_G3814, EBOV_2014_G3821, EBOV_2014_G3822, EBOV_2014_G3679, EBOV_2014_G3819, EBOV_2014_G3817, EBOV_2014_G3834, EBOV_2014_G3818, EBOV_2014_G3787, EBOV_2014_G3831, EBOV_2014_G3670, EBOV_2014_KJ660346, EBOV_2014_KJ660347, EBOV_2014_KJ660348)\n"
       ]
      }
     ],
     "prompt_number": 3
    },
    {
     "cell_type": "code",
     "collapsed": false,
     "input": [
      "ebov_tree = rx.estimate_tree(ebov_data, ['-m', 'GTRGAMMA', '-N', '10'])"
     ],
     "language": "python",
     "metadata": {},
     "outputs": [],
     "prompt_number": 4
    },
    {
     "cell_type": "code",
     "collapsed": false,
     "input": [
      "print(tree)"
     ],
     "language": "python",
     "metadata": {},
     "outputs": [
      {
       "ename": "NameError",
       "evalue": "name 'tree' is not defined",
       "output_type": "pyerr",
       "traceback": [
        "\u001b[1;31m---------------------------------------------------------------------------\u001b[0m\n\u001b[1;31mNameError\u001b[0m                                 Traceback (most recent call last)",
        "\u001b[1;32m<ipython-input-5-4b19f1573083>\u001b[0m in \u001b[0;36m<module>\u001b[1;34m()\u001b[0m\n\u001b[1;32m----> 1\u001b[1;33m \u001b[1;32mprint\u001b[0m\u001b[1;33m(\u001b[0m\u001b[0mtree\u001b[0m\u001b[1;33m)\u001b[0m\u001b[1;33m\u001b[0m\u001b[0m\n\u001b[0m",
        "\u001b[1;31mNameError\u001b[0m: name 'tree' is not defined"
       ]
      }
     ],
     "prompt_number": 5
    },
    {
     "cell_type": "code",
     "collapsed": false,
     "input": [
      "ebola_data = dendropy.DnaCharacterMatrix.get_from_path('alignments/ebolavirus.pruned.phy', 'phylip',\n",
      "                                                 interleaved=True)\n",
      "print(ebola_data.taxon_set)"
     ],
     "language": "python",
     "metadata": {},
     "outputs": []
    },
    {
     "cell_type": "code",
     "collapsed": false,
     "input": [
      "ebola_tree = rx.estimate_tree(ebola_data, ['-m', 'GTRGAMMA', '-N', '10'])\n",
      "print(rx.working_dir_path)  # talk about this\n",
      "print(ebola_tree)"
     ],
     "language": "python",
     "metadata": {},
     "outputs": []
    },
    {
     "cell_type": "heading",
     "level": 2,
     "metadata": {},
     "source": [
      "RAxML with Biopython"
     ]
    },
    {
     "cell_type": "code",
     "collapsed": false,
     "input": [
      "from Bio.Phylo.Applications import RaxmlCommandline\n",
      "raxml_cline = RaxmlCommandline(sequences='../alignments/ebov.pruned.phy',\n",
      "                               model='GTRGAMMA', name='bp_rx/biopython', N='10')\n",
      "print(raxml_cline)\n",
      "#remove dir\n",
      "os.mkdir('bp_rx')\n",
      "shutil.copyfile('alignments/ebov.pruned.phy', 'bp_rx')\n",
      "os.chdir('bp_rx')\n",
      "os.chdir(''..)"
     ],
     "language": "python",
     "metadata": {},
     "outputs": []
    }
   ],
   "metadata": {}
  }
 ]
}