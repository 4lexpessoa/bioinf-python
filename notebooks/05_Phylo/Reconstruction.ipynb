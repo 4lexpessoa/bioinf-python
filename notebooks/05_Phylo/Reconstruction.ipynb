{
 "metadata": {
  "name": "",
  "signature": "sha256:ad2a1bb155c216fee1a59712ce2502d53d8b33157b6d4c609503751f5449d965"
 },
 "nbformat": 3,
 "nbformat_minor": 0,
 "worksheets": [
  {
   "cells": [
    {
     "cell_type": "code",
     "collapsed": false,
     "input": [
      "!rm -f 1259657_file_s1.zip 2>/dev/null\n",
      "!rm -rf alignments snp 2>/dev/null\n",
      "!wget http://www.sciencemag.org/content/suppl/2014/08/27/science.1259657.DC1/1259657_file_s1.zip\n",
      "!unzip 1259657_file_s1.zip"
     ],
     "language": "python",
     "metadata": {},
     "outputs": [
      {
       "output_type": "stream",
       "stream": "stdout",
       "text": [
        "--2015-02-05 10:28:01--  http://www.sciencemag.org/content/suppl/2014/08/27/science.1259657.DC1/1259657_file_s1.zip\r\n",
        "Resolving www.sciencemag.org (www.sciencemag.org)... 171.66.122.53\r\n",
        "Connecting to www.sciencemag.org (www.sciencemag.org)|171.66.122.53|:80... "
       ]
      },
      {
       "output_type": "stream",
       "stream": "stdout",
       "text": [
        "connected.\r\n",
        "HTTP request sent, awaiting response... "
       ]
      },
      {
       "output_type": "stream",
       "stream": "stdout",
       "text": [
        "200 OK\r\n",
        "Length: 426761 (417K) [application/zip]\r\n",
        "Saving to: \u20181259657_file_s1.zip\u2019\r\n",
        "\r\n",
        "\r",
        " 0% [                                       ] 0           --.-K/s              "
       ]
      },
      {
       "output_type": "stream",
       "stream": "stdout",
       "text": [
        "\r",
        " 1% [                                       ] 6,840       12.7KB/s             "
       ]
      },
      {
       "output_type": "stream",
       "stream": "stdout",
       "text": [
        "\r",
        " 3% [>                                      ] 13,680      15.2KB/s             "
       ]
      },
      {
       "output_type": "stream",
       "stream": "stdout",
       "text": [
        "\r",
        " 5% [=>                                     ] 24,624      19.5KB/s             "
       ]
      },
      {
       "output_type": "stream",
       "stream": "stdout",
       "text": [
        "\r",
        " 8% [==>                                    ] 35,568      22.0KB/s             "
       ]
      },
      {
       "output_type": "stream",
       "stream": "stdout",
       "text": [
        "\r",
        "11% [===>                                   ] 50,616      25.6KB/s             "
       ]
      },
      {
       "output_type": "stream",
       "stream": "stdout",
       "text": [
        "\r",
        "15% [=====>                                 ] 65,664      28.1KB/s             "
       ]
      },
      {
       "output_type": "stream",
       "stream": "stdout",
       "text": [
        "\r",
        "19% [======>                                ] 83,448      30.9KB/s             "
       ]
      },
      {
       "output_type": "stream",
       "stream": "stdout",
       "text": [
        "\r",
        "24% [========>                              ] 105,336     34.4KB/s             "
       ]
      },
      {
       "output_type": "stream",
       "stream": "stdout",
       "text": [
        "\r",
        "29% [==========>                            ] 125,856     36.8KB/s  eta 8s     "
       ]
      },
      {
       "output_type": "stream",
       "stream": "stdout",
       "text": [
        "\r",
        "33% [============>                          ] 143,640     39.5KB/s  eta 8s     "
       ]
      },
      {
       "output_type": "stream",
       "stream": "stdout",
       "text": [
        "\r",
        "38% [=============>                         ] 162,792     41.1KB/s  eta 8s     "
       ]
      },
      {
       "output_type": "stream",
       "stream": "stdout",
       "text": [
        "\r",
        "43% [================>                      ] 186,048     49.2KB/s  eta 8s     "
       ]
      },
      {
       "output_type": "stream",
       "stream": "stdout",
       "text": [
        "\r",
        "49% [==================>                    ] 209,304     54.3KB/s  eta 5s     "
       ]
      },
      {
       "output_type": "stream",
       "stream": "stdout",
       "text": [
        "\r",
        "53% [===================>                   ] 227,088     57.5KB/s  eta 5s     "
       ]
      },
      {
       "output_type": "stream",
       "stream": "stdout",
       "text": [
        "\r",
        "58% [=====================>                 ] 247,608     60.4KB/s  eta 5s     "
       ]
      },
      {
       "output_type": "stream",
       "stream": "stdout",
       "text": [
        "\r",
        "63% [=======================>               ] 270,864     64.6KB/s  eta 5s     "
       ]
      },
      {
       "output_type": "stream",
       "stream": "stdout",
       "text": [
        "\r",
        "67% [=========================>             ] 288,648     66.1KB/s  eta 3s     "
       ]
      },
      {
       "output_type": "stream",
       "stream": "stdout",
       "text": [
        "\r",
        "73% [===========================>           ] 311,904     70.3KB/s  eta 3s     "
       ]
      },
      {
       "output_type": "stream",
       "stream": "stdout",
       "text": [
        "\r",
        "78% [=============================>         ] 336,528     72.5KB/s  eta 3s     "
       ]
      },
      {
       "output_type": "stream",
       "stream": "stdout",
       "text": [
        "\r",
        "85% [================================>      ] 365,256     77.4KB/s  eta 3s     "
       ]
      },
      {
       "output_type": "stream",
       "stream": "stdout",
       "text": [
        "\r",
        "97% [====================================>  ] 414,504     85.8KB/s  eta 0s     "
       ]
      },
      {
       "output_type": "stream",
       "stream": "stdout",
       "text": [
        "\r",
        "100%[======================================>] 426,761     88.3KB/s   in 6.5s   \r\n",
        "\r\n",
        "2015-02-05 10:28:09 (63.7 KB/s) - \u20181259657_file_s1.zip\u2019 saved [426761/426761]\r\n",
        "\r\n"
       ]
      },
      {
       "output_type": "stream",
       "stream": "stdout",
       "text": [
        "Archive:  1259657_file_s1.zip\r\n",
        "   creating: alignments/\r\n",
        "  inflating: alignments/ebolavirus.mafft.fasta  \r\n",
        "  inflating: alignments/ebolavirus.pruned.phy  \r\n",
        "  inflating: alignments/ebov.mafft.fasta  "
       ]
      },
      {
       "output_type": "stream",
       "stream": "stdout",
       "text": [
        "\r\n",
        "  inflating: alignments/ebov.pruned.phy  \r\n",
        "   creating: alignments/genic_alignments/\r\n",
        "  inflating: alignments/genic_alignments/GP_all.fa.revtrans  \r\n",
        "  inflating: alignments/genic_alignments/L.revtrans  \r\n",
        "  inflating: alignments/genic_alignments/NP.revtrans  \r\n",
        "  inflating: alignments/genic_alignments/VP24.revtrans  \r\n",
        "  inflating: alignments/genic_alignments/VP30.revtrans  \r\n",
        "  inflating: alignments/genic_alignments/VP35.revtrans  \r\n",
        "  inflating: alignments/genic_alignments/VP40.revtrans  \r\n",
        "   creating: snp/\r\n",
        "  inflating: snp/SNP-2014.vcf        \r\n",
        "  inflating: snp/SNP-ZEBOV.vcf       \r\n"
       ]
      }
     ],
     "prompt_number": 2
    },
    {
     "cell_type": "code",
     "collapsed": false,
     "input": [
      "import dendropy\n",
      "from dendropy.interop import raxml\n",
      "rx = raxml.RaxmlRunner()"
     ],
     "language": "python",
     "metadata": {},
     "outputs": [],
     "prompt_number": 4
    },
    {
     "cell_type": "code",
     "collapsed": false,
     "input": [
      "ebov_data = dendropy.DnaCharacterMatrix.get_from_path('alignments/ebov.pruned.phy', 'phylip',\n",
      "                                                 interleaved=True)"
     ],
     "language": "python",
     "metadata": {},
     "outputs": []
    },
    {
     "cell_type": "code",
     "collapsed": false,
     "input": [
      "print(ebov_data.taxon_set)"
     ],
     "language": "python",
     "metadata": {},
     "outputs": [
      {
       "output_type": "stream",
       "stream": "stdout",
       "text": [
        "TaxonSet(EBOV_1976_KC242801, EBOV_1976_NC002549, EBOV_1977_KC242791, EBOV_1994_KC242792, EBOV_1996_KC242793, EBOV_1996_KC242794, EBOV_1995_AY354458, EBOV_1995_JQ352763, EBOV_1995_KC242796, EBOV_1995_KC242799, EBOV_2007_HQ613403, EBOV_2007_KC242784, EBOV_2007_KC242786, EBOV_2007_KC242787, EBOV_2007_KC242789, EBOV_2007_KC242785, EBOV_2007_KC242790, EBOV_2007_KC242788, EBOV_2008_HQ613402, EBOV_2002_KC242800, EBOV_2014_EM095, EBOV_2014_G3676, EBOV_2014_G3680, EBOV_2014_G3686, EBOV_2014_G3687, EBOV_2014_G3683, EBOV_2014_EM096, EBOV_2014_EM098, EBOV_2014_EM104, EBOV_2014_EM106, EBOV_2014_EM112, EBOV_2014_EM113, EBOV_2014_EM124, EBOV_2014_G3677, EBOV_2014_G3682, EBOV_2014_G3707, EBOV_2014_G3713, EBOV_2014_G3724, EBOV_2014_G3734, EBOV_2014_G3735, EBOV_2014_G3750, EBOV_2014_G3758, EBOV_2014_G3764, EBOV_2014_G3769, EBOV_2014_G3782, EBOV_2014_G3786, EBOV_2014_G3788, EBOV_2014_G3796, EBOV_2014_G3798, EBOV_2014_G3799, EBOV_2014_G3800, EBOV_2014_G3805, EBOV_2014_G3807, EBOV_2014_G3810, EBOV_2014_G3820, EBOV_2014_G3838, EBOV_2014_G3840, EBOV_2014_G3841, EBOV_2014_G3848, EBOV_2014_NM042, EBOV_2014_G3850, EBOV_2014_EM110, EBOV_2014_EM111, EBOV_2014_EM119, EBOV_2014_G3729, EBOV_2014_G3765, EBOV_2014_G3770, EBOV_2014_G3789, EBOV_2014_G3825, EBOV_2014_G3845, EBOV_2014_G3851, EBOV_2014_G3857, EBOV_2014_EM115, EBOV_2014_EM120, EBOV_2014_G3752, EBOV_2014_G3795, EBOV_2014_G3808, EBOV_2014_G3823, EBOV_2014_EM121, EBOV_2014_G3771, EBOV_2014_G3816, EBOV_2014_G3829, EBOV_2014_G3846, EBOV_2014_G3856, EBOV_2014_G3826, EBOV_2014_G3827, EBOV_2014_G3809, EBOV_2014_G3814, EBOV_2014_G3821, EBOV_2014_G3822, EBOV_2014_G3679, EBOV_2014_G3819, EBOV_2014_G3817, EBOV_2014_G3834, EBOV_2014_G3818, EBOV_2014_G3787, EBOV_2014_G3831, EBOV_2014_G3670, EBOV_2014_KJ660346, EBOV_2014_KJ660347, EBOV_2014_KJ660348)\n"
       ]
      }
     ],
     "prompt_number": 2
    },
    {
     "cell_type": "code",
     "collapsed": false,
     "input": [
      "ebov_tree = rx.estimate_tree(ebov_data, ['-m', 'GTRGAMMA', '-N', '10'])"
     ],
     "language": "python",
     "metadata": {},
     "outputs": [],
     "prompt_number": 3
    },
    {
     "cell_type": "code",
     "collapsed": false,
     "input": [
      "print(tree)"
     ],
     "language": "python",
     "metadata": {},
     "outputs": [
      {
       "output_type": "stream",
       "stream": "stdout",
       "text": [
        "('EBOV_1976_NC002549':5.29131044496e-05,((('EBOV_2002_KC242800':0.0126912201686,(((('EBOV_2008_HQ613402':0.000533597919837,('EBOV_2007_KC242785':0.000158828924359,'EBOV_2007_KC242790':0.000211822482219):5.29188800468e-05):2.21124822357e-06,(('EBOV_2007_KC242787':2.21124822357e-06,'EBOV_2007_KC242788':0.000423623675965):5.29271129874e-05,('EBOV_2007_HQ613403':2.21124822357e-06,'EBOV_2007_KC242784':0.000158809022618):5.28818897228e-05):2.21124822357e-06):2.21124822357e-06,('EBOV_2007_KC242786':5.29209248575e-05,'EBOV_2007_KC242789':0.000105897303416):5.29009041123e-05):0.00925041731662,('EBOV_2014_KJ660347':5.36873725392e-05,(('EBOV_2014_KJ660348':0.000161335558707,'EBOV_2014_KJ660346':2.21124822357e-06):5.37661882707e-05,('EBOV_2014_G3687':5.42900185836e-05,(('EBOV_2014_G3676':2.21124822357e-06,(('EBOV_2014_G3680':5.29193363386e-05,'EBOV_2014_G3686':0.000105778150569):2.21124822357e-06,('EBOV_2014_G3683':5.2929536606e-05,(((('EBOV_2014_G3729':2.21124822357e-06,('EBOV_2014_G3838':2.21124822357e-06,(('EBOV_2014_EM121':5.29088892484e-05,'EBOV_2014_G3796':2.21124822357e-06):2.21124822357e-06,'EBOV_2014_G3786':2.21124822357e-06):2.21124822357e-06):2.21124822357e-06):2.21124822357e-06,(((('EBOV_2014_G3846':0.000105779493171,((('EBOV_2014_G3707':2.21124822357e-06,(((((('EBOV_2014_G3724':5.28871673627e-05,('EBOV_2014_G3770':2.21124822357e-06,'EBOV_2014_EM119':2.21124822357e-06):0.000105832990187):2.21124822357e-06,'EBOV_2014_EM124':2.21124822357e-06):2.21124822357e-06,'EBOV_2014_G3764':2.21124822357e-06):2.21124822357e-06,((('EBOV_2014_NM042':2.21124822357e-06,'EBOV_2014_EM112':2.21124822357e-06):2.21124822357e-06,(('EBOV_2014_G3713':5.28872153164e-05,'EBOV_2014_G3818':0.000105792756051):2.21124822357e-06,((((('EBOV_2014_G3845':2.21124822357e-06,'EBOV_2014_EM111':2.21124822357e-06):2.21124822357e-06,'EBOV_2014_EM110':2.21124822357e-06):2.21124822357e-06,'EBOV_2014_G3771':2.21124822357e-06):2.21124822357e-06,'EBOV_2014_EM104':5.29109630394e-05):2.21124822357e-06,'EBOV_2014_G3856':5.28874276581e-05):2.21124822357e-06):2.21124822357e-06):2.21124822357e-06,'EBOV_2014_EM113':2.21124822357e-06):2.21124822357e-06):2.21124822357e-06,'EBOV_2014_G3735':2.21124822357e-06):2.21124822357e-06,'EBOV_2014_G3840':2.21124822357e-06):2.21124822357e-06):2.21124822357e-06,(((('EBOV_2014_EM115':2.21124822357e-06,('EBOV_2014_G3817':0.000158959814917,'EBOV_2014_G3819':5.30071725347e-05):2.21124822357e-06):2.21124822357e-06,'EBOV_2014_G3814':2.21124822357e-06):2.21124822357e-06,('EBOV_2014_EM106':2.21124822357e-06,('EBOV_2014_G3798':2.21124822357e-06,('EBOV_2014_G3750':5.30747957284e-05,(('EBOV_2014_G3789':2.21124822357e-06,('EBOV_2014_G3850':2.21124822357e-06,'EBOV_2014_G3765':2.21124822357e-06):2.21124822357e-06):2.21124822357e-06,'EBOV_2014_G3805':2.21124822357e-06):2.21124822357e-06):2.21124822357e-06):2.21124822357e-06):2.21124822357e-06):2.21124822357e-06,('EBOV_2014_G3827':2.21124822357e-06,'EBOV_2014_G3826':2.21124822357e-06):5.28876088756e-05):2.21124822357e-06):2.21124822357e-06,(('EBOV_2014_G3829':5.28852714121e-05,((('EBOV_2014_G3851':2.21124822357e-06,'EBOV_2014_G3848':2.21124822357e-06):2.21124822357e-06,'EBOV_2014_G3825':2.21124822357e-06):2.21124822357e-06,('EBOV_2014_G3834':2.21124822357e-06,('EBOV_2014_G3857':2.21124822357e-06,'EBOV_2014_G3752':2.21124822357e-06):2.21124822357e-06):2.21124822357e-06):2.21124822357e-06):5.2886228832e-05,('EBOV_2014_G3822':2.21124822357e-06,('EBOV_2014_G3821':2.21124822357e-06,('EBOV_2014_G3809':2.21124822357e-06,'EBOV_2014_G3816':2.21124822357e-06):2.21124822357e-06):2.21124822357e-06):5.28896405197e-05):2.21124822357e-06):2.21124822357e-06):5.28859270092e-05,'EBOV_2014_G3799':5.28842223862e-05):2.21124822357e-06,((('EBOV_2014_G3782':2.21124822357e-06,'EBOV_2014_G3820':2.21124822357e-06):2.21124822357e-06,('EBOV_2014_G3823':5.28844558049e-05,('EBOV_2014_EM096':2.21124822357e-06,'EBOV_2014_G3679':2.21124822357e-06):0.000105774937326):2.21124822357e-06):2.21124822357e-06,(('EBOV_2014_G3677':2.21124822357e-06,'EBOV_2014_G3758':2.21124822357e-06):2.21124822357e-06,('EBOV_2014_G3800':2.21124822357e-06,('EBOV_2014_G3788':5.2883965299e-05,'EBOV_2014_G3670':0.000105782617453):2.21124822357e-06):2.21124822357e-06):2.21124822357e-06):2.21124822357e-06):2.21124822357e-06,((('EBOV_2014_G3808':2.21124822357e-06,'EBOV_2014_EM120':5.29800480915e-05):2.21124822357e-06,('EBOV_2014_G3734':2.21124822357e-06,('EBOV_2014_EM098':2.21124822357e-06,'EBOV_2014_G3841':2.21124822357e-06):2.21124822357e-06):2.21124822357e-06):2.21124822357e-06,'EBOV_2014_G3795':2.21124822357e-06):2.21124822357e-06):2.21124822357e-06):2.21124822357e-06,(('EBOV_2014_G3810':0.00010577775013,('EBOV_2014_G3787':2.21124822357e-06,'EBOV_2014_G3831':2.21124822357e-06):0.000105794614469):2.21124822357e-06,('EBOV_2014_G3682':2.21124822357e-06,'EBOV_2014_G3807':2.21124822357e-06):2.21124822357e-06):2.21124822357e-06):2.21124822357e-06,'EBOV_2014_G3769':0.000105775282079):0.000211594427581):2.21124822357e-06):2.21124822357e-06):2.21124822357e-06,'EBOV_2014_EM095':2.21124822357e-06):2.21124822357e-06):0.000273836748654):5.48341509796e-05):0.0200676625398):0.000297167417201):0.00537211093265,((('EBOV_1994_KC242792':0.000795182419974,'EBOV_1996_KC242793':0.00106105261342):0.000644680510814,'EBOV_1996_KC242794':0.00222165591638):0.00452315873872,(('EBOV_1995_JQ352763':0.000105889608285,'EBOV_1995_AY354458':6.33485569448e-05):0.000254366113692,('EBOV_1995_KC242799':2.21124822357e-06,'EBOV_1995_KC242796':5.28953790436e-05):0.000158601346668):0.00345087959402):0.00365980763025):0.00455543074972,'EBOV_1977_KC242791':5.28890902712e-05):2.21124822357e-06,'EBOV_1976_KC242801':5.29119147734e-05):0.0\n"
       ]
      }
     ],
     "prompt_number": 4
    },
    {
     "cell_type": "code",
     "collapsed": false,
     "input": [
      "ebola_data = dendropy.DnaCharacterMatrix.get_from_path('alignments/ebolavirus.pruned.phy', 'phylip',\n",
      "                                                 interleaved=True)\n",
      "print(ebola_data.taxon_set)"
     ],
     "language": "python",
     "metadata": {},
     "outputs": [
      {
       "output_type": "stream",
       "stream": "stdout",
       "text": [
        "TaxonSet(BDBV_2007_FJ217161, BDBV_2012_KC545393, BDBV_2012_KC545395, BDBV_2012_KC545394, BDBV_2012_KC545396, TAFV_1994_FJ217162, EBOV_1976_KC242801, EBOV_1976_NC002549, EBOV_1977_KC242791, EBOV_1994_KC242792, EBOV_1996_KC242793, EBOV_1996_KC242794, EBOV_1995_AY354458, EBOV_1995_JQ352763, EBOV_1995_KC242796, EBOV_1995_KC242799, EBOV_2007_HQ613403, EBOV_2007_KC242784, EBOV_2007_KC242786, EBOV_2007_KC242787, EBOV_2007_KC242789, EBOV_2007_KC242785, EBOV_2007_KC242790, EBOV_2007_KC242788, EBOV_2008_HQ613402, EBOV_2002_KC242800, EBOV_2014_EM095, EBOV_2014_G3676, EBOV_2014_G3680, EBOV_2014_G3686, EBOV_2014_G3687, EBOV_2014_G3683, EBOV_2014_EM096, EBOV_2014_EM098, EBOV_2014_EM104, EBOV_2014_EM106, EBOV_2014_EM112, EBOV_2014_EM113, EBOV_2014_EM124, EBOV_2014_G3677, EBOV_2014_G3682, EBOV_2014_G3707, EBOV_2014_G3713, EBOV_2014_G3724, EBOV_2014_G3734, EBOV_2014_G3735, EBOV_2014_G3750, EBOV_2014_G3758, EBOV_2014_G3764, EBOV_2014_G3769, EBOV_2014_G3782, EBOV_2014_G3786, EBOV_2014_G3788, EBOV_2014_G3796, EBOV_2014_G3798, EBOV_2014_G3799, EBOV_2014_G3800, EBOV_2014_G3805, EBOV_2014_G3807, EBOV_2014_G3810, EBOV_2014_G3820, EBOV_2014_G3838, EBOV_2014_G3840, EBOV_2014_G3841, EBOV_2014_G3848, EBOV_2014_NM042, EBOV_2014_G3850, EBOV_2014_EM110, EBOV_2014_EM111, EBOV_2014_EM119, EBOV_2014_G3729, EBOV_2014_G3765, EBOV_2014_G3770, EBOV_2014_G3789, EBOV_2014_G3825, EBOV_2014_G3845, EBOV_2014_G3851, EBOV_2014_G3857, EBOV_2014_EM115, EBOV_2014_EM120, EBOV_2014_G3752, EBOV_2014_G3795, EBOV_2014_G3808, EBOV_2014_G3823, EBOV_2014_EM121, EBOV_2014_G3771, EBOV_2014_G3816, EBOV_2014_G3829, EBOV_2014_G3846, EBOV_2014_G3856, EBOV_2014_G3826, EBOV_2014_G3827, EBOV_2014_G3809, EBOV_2014_G3814, EBOV_2014_G3821, EBOV_2014_G3822, EBOV_2014_G3679, EBOV_2014_G3819, EBOV_2014_G3817, EBOV_2014_G3834, EBOV_2014_G3818, EBOV_2014_G3787, EBOV_2014_G3831, EBOV_2014_G3670, EBOV_2014_KJ660346, EBOV_2014_KJ660347, EBOV_2014_KJ660348, RESTV_1990_AF522874, RESTV_1996_AB050936, RESTV_1996_JX477166, RESTV_2008_FJ621585, RESTV_2008_FJ621583, RESTV_2009_JX477165, RESTV_2008_FJ621584, SUDV_1976_FJ968794, SUDV_1979_KC242783, SUDV_2004_EU338380, SUDV_2000_AY729654, SUDV_2011_JN638998, SUDV_2012_KC545389, SUDV_2012_KC545390, SUDV_2012_KC545391, SUDV_2012_KC545392, SUDV_2012_KC589025)\n"
       ]
      }
     ],
     "prompt_number": 2
    },
    {
     "cell_type": "code",
     "collapsed": false,
     "input": [
      "ebola_tree = rx.estimate_tree(ebola_data, ['-m', 'GTRGAMMA', '-N', '10'])\n",
      "print(ebola_virus)"
     ],
     "language": "python",
     "metadata": {},
     "outputs": [
      {
       "ename": "NameError",
       "evalue": "name 'ebola_virus' is not defined",
       "output_type": "pyerr",
       "traceback": [
        "\u001b[1;31m---------------------------------------------------------------------------\u001b[0m\n\u001b[1;31mNameError\u001b[0m                                 Traceback (most recent call last)",
        "\u001b[1;32m<ipython-input-5-9662e0c9cab6>\u001b[0m in \u001b[0;36m<module>\u001b[1;34m()\u001b[0m\n\u001b[0;32m      1\u001b[0m \u001b[0mebola_tree\u001b[0m \u001b[1;33m=\u001b[0m \u001b[0mrx\u001b[0m\u001b[1;33m.\u001b[0m\u001b[0mestimate_tree\u001b[0m\u001b[1;33m(\u001b[0m\u001b[0mebola_data\u001b[0m\u001b[1;33m,\u001b[0m \u001b[1;33m[\u001b[0m\u001b[1;34m'-m'\u001b[0m\u001b[1;33m,\u001b[0m \u001b[1;34m'GTRGAMMA'\u001b[0m\u001b[1;33m,\u001b[0m \u001b[1;34m'-N'\u001b[0m\u001b[1;33m,\u001b[0m \u001b[1;34m'10'\u001b[0m\u001b[1;33m]\u001b[0m\u001b[1;33m)\u001b[0m\u001b[1;33m\u001b[0m\u001b[0m\n\u001b[1;32m----> 2\u001b[1;33m \u001b[1;32mprint\u001b[0m\u001b[1;33m(\u001b[0m\u001b[0mebola_virus\u001b[0m\u001b[1;33m)\u001b[0m\u001b[1;33m\u001b[0m\u001b[0m\n\u001b[0m",
        "\u001b[1;31mNameError\u001b[0m: name 'ebola_virus' is not defined"
       ]
      }
     ],
     "prompt_number": 5
    },
    {
     "cell_type": "code",
     "collapsed": false,
     "input": [
      "from Bio.Phylo.Applications import RaxmlCommandline\n",
      "raxml_cline = RaxmlCommandline(sequences='alignments/ebov.pruned.phy',\n",
      "                               model='GTRGAMMA', name='biopython', N='10')\n",
      "print(raxml_cline)"
     ],
     "language": "python",
     "metadata": {},
     "outputs": []
    }
   ],
   "metadata": {}
  }
 ]
}