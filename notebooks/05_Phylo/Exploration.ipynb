{
 "metadata": {
  "name": "",
  "signature": "sha256:41ca9a7c1340e938e442dc0c1a55613c96115e12c32a77aeb5340c90d30ab7fe"
 },
 "nbformat": 3,
 "nbformat_minor": 0,
 "worksheets": [
  {
   "cells": [
    {
     "cell_type": "code",
     "collapsed": false,
     "input": [
      "import dendropy\n",
      "from dendropy import popgenstat"
     ],
     "language": "python",
     "metadata": {},
     "outputs": [],
     "prompt_number": 1
    },
    {
     "cell_type": "heading",
     "level": 2,
     "metadata": {},
     "source": [
      "Getting the data"
     ]
    },
    {
     "cell_type": "code",
     "collapsed": false,
     "input": [
      "!rm -f 1259657_file_s1.zip 1259657_file_s2.zip 2>/dev/null\n",
      "!rm -rf trees alignments snp 2>/dev/null\n",
      "!wget http://www.sciencemag.org/content/suppl/2014/08/27/science.1259657.DC1/1259657_file_s1.zip\n",
      "!wget http://www.sciencemag.org/content/suppl/2014/08/27/science.1259657.DC1/1259657_file_s2.zip\n",
      "!unzip 1259657_file_s1.zip\n",
      "!unzip 1259657_file_s2.zip"
     ],
     "language": "python",
     "metadata": {},
     "outputs": [
      {
       "output_type": "stream",
       "stream": "stdout",
       "text": [
        "--2015-02-02 14:13:29--  http://www.sciencemag.org/content/suppl/2014/08/27/science.1259657.DC1/1259657_file_s1.zip\r\n",
        "Resolving www.sciencemag.org (www.sciencemag.org)... 171.66.122.53\r\n",
        "Connecting to www.sciencemag.org (www.sciencemag.org)|171.66.122.53|:80... "
       ]
      },
      {
       "output_type": "stream",
       "stream": "stdout",
       "text": [
        "connected.\r\n",
        "HTTP request sent, awaiting response... "
       ]
      },
      {
       "output_type": "stream",
       "stream": "stdout",
       "text": [
        "200 OK\r\n",
        "Length: 426761 (417K) [application/zip]\r\n",
        "Saving to: \u20181259657_file_s1.zip\u2019\r\n",
        "\r\n",
        "\r",
        " 0% [                                       ] 0           --.-K/s              "
       ]
      },
      {
       "output_type": "stream",
       "stream": "stdout",
       "text": [
        "\r",
        " 1% [                                       ] 6,600       19.0KB/s             "
       ]
      },
      {
       "output_type": "stream",
       "stream": "stdout",
       "text": [
        "\r",
        " 7% [=>                                     ] 30,360      43.7KB/s             "
       ]
      },
      {
       "output_type": "stream",
       "stream": "stdout",
       "text": [
        "\r",
        "21% [=======>                               ] 91,080       101KB/s             "
       ]
      },
      {
       "output_type": "stream",
       "stream": "stdout",
       "text": [
        "\r",
        "41% [===============>                       ] 175,560      143KB/s             "
       ]
      },
      {
       "output_type": "stream",
       "stream": "stdout",
       "text": [
        "\r",
        "71% [==========================>            ] 306,240      214KB/s             "
       ]
      },
      {
       "output_type": "stream",
       "stream": "stdout",
       "text": [
        "\r",
        "100%[======================================>] 426,761      262KB/s   in 1.6s   \r\n",
        "\r\n",
        "2015-02-02 14:13:33 (262 KB/s) - \u20181259657_file_s1.zip\u2019 saved [426761/426761]\r\n",
        "\r\n"
       ]
      },
      {
       "output_type": "stream",
       "stream": "stdout",
       "text": [
        "--2015-02-02 14:13:33--  http://www.sciencemag.org/content/suppl/2014/08/27/science.1259657.DC1/1259657_file_s2.zip\r\n",
        "Resolving www.sciencemag.org (www.sciencemag.org)... 171.66.122.53\r\n",
        "Connecting to www.sciencemag.org (www.sciencemag.org)|171.66.122.53|:80... "
       ]
      },
      {
       "output_type": "stream",
       "stream": "stdout",
       "text": [
        "connected.\r\n",
        "HTTP request sent, awaiting response... "
       ]
      },
      {
       "output_type": "stream",
       "stream": "stdout",
       "text": [
        "200 OK\r\n",
        "Length: 32111 (31K) [application/zip]\r\n",
        "Saving to: \u20181259657_file_s2.zip\u2019\r\n",
        "\r\n",
        "\r",
        " 0% [                                       ] 0           --.-K/s              "
       ]
      },
      {
       "output_type": "stream",
       "stream": "stdout",
       "text": [
        "\r",
        "20% [=======>                               ] 6,600       19.0KB/s             "
       ]
      },
      {
       "output_type": "stream",
       "stream": "stdout",
       "text": [
        "\r",
        "94% [===================================>   ] 30,360      43.6KB/s             \r",
        "100%[======================================>] 32,111      46.0KB/s   in 0.7s   \r\n",
        "\r\n",
        "2015-02-02 14:13:34 (46.0 KB/s) - \u20181259657_file_s2.zip\u2019 saved [32111/32111]\r\n",
        "\r\n"
       ]
      },
      {
       "output_type": "stream",
       "stream": "stdout",
       "text": [
        "Archive:  1259657_file_s1.zip\r\n",
        "   creating: alignments/\r\n",
        "  inflating: alignments/ebolavirus.mafft.fasta  \r\n",
        "  inflating: alignments/ebolavirus.pruned.phy  \r\n",
        "  inflating: alignments/ebov.mafft.fasta  \r\n",
        "  inflating: alignments/ebov.pruned.phy  \r\n",
        "   creating: alignments/genic_alignments/\r\n",
        "  inflating: alignments/genic_alignments/GP_all.fa.revtrans  \r\n",
        "  inflating: alignments/genic_alignments/L.revtrans  "
       ]
      },
      {
       "output_type": "stream",
       "stream": "stdout",
       "text": [
        "\r\n",
        "  inflating: alignments/genic_alignments/NP.revtrans  \r\n",
        "  inflating: alignments/genic_alignments/VP24.revtrans  \r\n",
        "  inflating: alignments/genic_alignments/VP30.revtrans  \r\n",
        "  inflating: alignments/genic_alignments/VP35.revtrans  \r\n",
        "  inflating: alignments/genic_alignments/VP40.revtrans  \r\n",
        "   creating: snp/\r\n",
        "  inflating: snp/SNP-2014.vcf        \r\n",
        "  inflating: snp/SNP-ZEBOV.vcf       \r\n"
       ]
      },
      {
       "output_type": "stream",
       "stream": "stdout",
       "text": [
        "Archive:  1259657_file_s2.zip\r\n",
        "   creating: trees/\r\n",
        "  inflating: trees/ebola.bayes.tree  \r\n",
        "  inflating: trees/ebola.raxml.tree  \r\n",
        "  inflating: trees/zebov.bayes.tree  \r\n",
        "  inflating: trees/zebov.raxml.tree  \r\n",
        "  inflating: trees/zebov_2014.bayes.tree  \r\n",
        "  inflating: trees/zebov_2014.raxml.tree  \r\n"
       ]
      }
     ],
     "prompt_number": 6
    },
    {
     "cell_type": "code",
     "collapsed": false,
     "input": [
      "ebov_seqs = dendropy.DnaCharacterMatrix.get_from_path('alignments/ebov.pruned.phy',\n",
      "                                                      schema='phylip', data_type='dna',\n",
      "                                                      interleaved=True)"
     ],
     "language": "python",
     "metadata": {},
     "outputs": [],
     "prompt_number": 2
    },
    {
     "cell_type": "code",
     "collapsed": false,
     "input": [
      "num_seg_sites = popgenstat.num_segregating_sites(ebov_seqs)\n",
      "#avg_pair = popgenstat.average_number_of_pairwise_differences(seqs)\n",
      "nuc_div = popgenstat.nucleotide_diversity(ebov_seqs)\n",
      "print(num_seg_sites, nuc_div)\n",
      "#takes time\n",
      "popgenstat"
     ],
     "language": "python",
     "metadata": {},
     "outputs": [
      {
       "output_type": "stream",
       "stream": "stdout",
       "text": [
        "(1304, 0.010401324808387406)\n"
       ]
      }
     ],
     "prompt_number": 5
    },
    {
     "cell_type": "code",
     "collapsed": false,
     "input": [
      "ebola_seqs = dendropy.DnaCharacterMatrix.get_from_path('alignments/ebolavirus.pruned.phy',\n",
      "                                                 schema='phylip', data_type='dna',\n",
      "                                                 interleaved=True)"
     ],
     "language": "python",
     "metadata": {},
     "outputs": [],
     "prompt_number": 2
    }
   ],
   "metadata": {}
  }
 ]
}