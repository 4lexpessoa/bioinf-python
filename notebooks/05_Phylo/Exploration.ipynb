{
 "metadata": {
  "name": "",
  "signature": "sha256:364ed5af6a0ed88f655cf80973c71825e93f8e760654d0dadc326b444eb9a0a1"
 },
 "nbformat": 3,
 "nbformat_minor": 0,
 "worksheets": [
  {
   "cells": [
    {
     "cell_type": "code",
     "collapsed": false,
     "input": [
      "import dendropy\n",
      "from dendropy import popgenstat"
     ],
     "language": "python",
     "metadata": {},
     "outputs": [],
     "prompt_number": 1
    },
    {
     "cell_type": "heading",
     "level": 2,
     "metadata": {},
     "source": [
      "Getting the data"
     ]
    },
    {
     "cell_type": "code",
     "collapsed": false,
     "input": [
      "!rm -f 1259657_file_s1.zip 1259657_file_s2.zip 1259657_file_s3.zip 2>/dev/null\n",
      "!rm -rf trees alignments snp beast 2>/dev/null\n",
      "!wget http://www.sciencemag.org/content/suppl/2014/08/27/science.1259657.DC1/1259657_file_s1.zip\n",
      "!wget http://www.sciencemag.org/content/suppl/2014/08/27/science.1259657.DC1/1259657_file_s2.zip\n",
      "!wget http://www.sciencemag.org/content/suppl/2014/08/27/science.1259657.DC1/1259657_file_s3.zip\n",
      "!unzip 1259657_file_s1.zip\n",
      "!unzip 1259657_file_s2.zip\n",
      "!unzip 1259657_file_s3.zip"
     ],
     "language": "python",
     "metadata": {},
     "outputs": [
      {
       "output_type": "stream",
       "stream": "stdout",
       "text": [
        "--2015-02-09 12:54:38--  http://www.sciencemag.org/content/suppl/2014/08/27/science.1259657.DC1/1259657_file_s1.zip\r\n",
        "Resolving www.sciencemag.org (www.sciencemag.org)... "
       ]
      },
      {
       "output_type": "stream",
       "stream": "stdout",
       "text": [
        "171.66.122.53\r\n",
        "Connecting to www.sciencemag.org (www.sciencemag.org)|171.66.122.53|:80... "
       ]
      },
      {
       "output_type": "stream",
       "stream": "stdout",
       "text": [
        "connected.\r\n",
        "HTTP request sent, awaiting response... "
       ]
      },
      {
       "output_type": "stream",
       "stream": "stdout",
       "text": [
        "200 OK\r\n",
        "Length: 426761 (417K) [application/zip]\r\n",
        "Saving to: \u20181259657_file_s1.zip\u2019\r\n",
        "\r\n",
        "\r",
        " 0% [                                       ] 0           --.-K/s              "
       ]
      },
      {
       "output_type": "stream",
       "stream": "stdout",
       "text": [
        "\r",
        " 1% [                                       ] 5,472       16.0KB/s             "
       ]
      },
      {
       "output_type": "stream",
       "stream": "stdout",
       "text": [
        "\r",
        " 5% [=>                                     ] 23,256      34.0KB/s             "
       ]
      },
      {
       "output_type": "stream",
       "stream": "stdout",
       "text": [
        "\r",
        "13% [====>                                  ] 56,088      54.7KB/s             "
       ]
      },
      {
       "output_type": "stream",
       "stream": "stdout",
       "text": [
        "\r",
        "29% [==========>                            ] 124,488     91.1KB/s             "
       ]
      },
      {
       "output_type": "stream",
       "stream": "stdout",
       "text": [
        "\r",
        "58% [=====================>                 ] 247,608      145KB/s             "
       ]
      },
      {
       "output_type": "stream",
       "stream": "stdout",
       "text": [
        "\r",
        "90% [==================================>    ] 384,408      187KB/s             \r",
        "100%[======================================>] 426,761      208KB/s   in 2.0s   \r\n",
        "\r\n",
        "2015-02-09 12:54:43 (208 KB/s) - \u20181259657_file_s1.zip\u2019 saved [426761/426761]\r\n",
        "\r\n"
       ]
      },
      {
       "output_type": "stream",
       "stream": "stdout",
       "text": [
        "--2015-02-09 12:54:43--  http://www.sciencemag.org/content/suppl/2014/08/27/science.1259657.DC1/1259657_file_s2.zip\r\n",
        "Resolving www.sciencemag.org (www.sciencemag.org)... 171.66.122.53\r\n",
        "Connecting to www.sciencemag.org (www.sciencemag.org)|171.66.122.53|:80... "
       ]
      },
      {
       "output_type": "stream",
       "stream": "stdout",
       "text": [
        "connected.\r\n",
        "HTTP request sent, awaiting response... "
       ]
      },
      {
       "output_type": "stream",
       "stream": "stdout",
       "text": [
        "200 OK\r\n",
        "Length: 32111 (31K) [application/zip]\r\n",
        "Saving to: \u20181259657_file_s2.zip\u2019\r\n",
        "\r\n",
        "\r",
        " 0% [                                       ] 0           --.-K/s              "
       ]
      },
      {
       "output_type": "stream",
       "stream": "stdout",
       "text": [
        "\r",
        "17% [=====>                                 ] 5,472       15.2KB/s             "
       ]
      },
      {
       "output_type": "stream",
       "stream": "stdout",
       "text": [
        "\r",
        "80% [==============================>        ] 25,992      36.1KB/s             \r",
        "100%[======================================>] 32,111      44.5KB/s   in 0.7s   \r\n",
        "\r\n",
        "2015-02-09 12:54:45 (44.5 KB/s) - \u20181259657_file_s2.zip\u2019 saved [32111/32111]\r\n",
        "\r\n"
       ]
      },
      {
       "output_type": "stream",
       "stream": "stdout",
       "text": [
        "--2015-02-09 12:54:45--  http://www.sciencemag.org/content/suppl/2014/08/27/science.1259657.DC1/1259657_file_s3.zip\r\n",
        "Resolving www.sciencemag.org (www.sciencemag.org)... 171.66.122.53\r\n",
        "Connecting to www.sciencemag.org (www.sciencemag.org)|171.66.122.53|:80... "
       ]
      },
      {
       "output_type": "stream",
       "stream": "stdout",
       "text": [
        "connected.\r\n",
        "HTTP request sent, awaiting response... "
       ]
      },
      {
       "output_type": "stream",
       "stream": "stdout",
       "text": [
        "200 OK\r\n",
        "Length: 233287 (228K) [application/zip]\r\n",
        "Saving to: \u20181259657_file_s3.zip\u2019\r\n",
        "\r\n",
        "\r",
        " 0% [                                       ] 0           --.-K/s              "
       ]
      },
      {
       "output_type": "stream",
       "stream": "stdout",
       "text": [
        "\r",
        " 3% [>                                      ] 8,208       23.8KB/s             "
       ]
      },
      {
       "output_type": "stream",
       "stream": "stdout",
       "text": [
        "\r",
        " 9% [==>                                    ] 23,256      33.7KB/s             "
       ]
      },
      {
       "output_type": "stream",
       "stream": "stdout",
       "text": [
        "\r",
        "22% [=======>                               ] 51,984      50.2KB/s             "
       ]
      },
      {
       "output_type": "stream",
       "stream": "stdout",
       "text": [
        "\r",
        "48% [=================>                     ] 112,176     80.9KB/s             "
       ]
      },
      {
       "output_type": "stream",
       "stream": "stdout",
       "text": [
        "\r",
        "93% [===================================>   ] 217,512      125KB/s             \r",
        "100%[======================================>] 233,287      134KB/s   in 1.7s   \r\n",
        "\r\n",
        "2015-02-09 12:54:49 (134 KB/s) - \u20181259657_file_s3.zip\u2019 saved [233287/233287]\r\n",
        "\r\n"
       ]
      },
      {
       "output_type": "stream",
       "stream": "stdout",
       "text": [
        "Archive:  1259657_file_s1.zip\r\n",
        "   creating: alignments/\r\n",
        "  inflating: alignments/ebolavirus.mafft.fasta  "
       ]
      },
      {
       "output_type": "stream",
       "stream": "stdout",
       "text": [
        "\r\n",
        "  inflating: alignments/ebolavirus.pruned.phy  \r\n",
        "  inflating: alignments/ebov.mafft.fasta  \r\n",
        "  inflating: alignments/ebov.pruned.phy  \r\n",
        "   creating: alignments/genic_alignments/\r\n",
        "  inflating: alignments/genic_alignments/GP_all.fa.revtrans  \r\n",
        "  inflating: alignments/genic_alignments/L.revtrans  "
       ]
      },
      {
       "output_type": "stream",
       "stream": "stdout",
       "text": [
        "\r\n",
        "  inflating: alignments/genic_alignments/NP.revtrans  \r\n",
        "  inflating: alignments/genic_alignments/VP24.revtrans  \r\n",
        "  inflating: alignments/genic_alignments/VP30.revtrans  \r\n",
        "  inflating: alignments/genic_alignments/VP35.revtrans  \r\n",
        "  inflating: alignments/genic_alignments/VP40.revtrans  \r\n",
        "   creating: snp/\r\n",
        "  inflating: snp/SNP-2014.vcf        \r\n",
        "  inflating: snp/SNP-ZEBOV.vcf       \r\n"
       ]
      },
      {
       "output_type": "stream",
       "stream": "stdout",
       "text": [
        "Archive:  1259657_file_s2.zip\r\n",
        "   creating: trees/\r\n",
        "  inflating: trees/ebola.bayes.tree  \r\n",
        "  inflating: trees/ebola.raxml.tree  \r\n",
        "  inflating: trees/zebov.bayes.tree  \r\n",
        "  inflating: trees/zebov.raxml.tree  \r\n",
        "  inflating: trees/zebov_2014.bayes.tree  \r\n",
        "  inflating: trees/zebov_2014.raxml.tree  \r\n"
       ]
      },
      {
       "output_type": "stream",
       "stream": "stdout",
       "text": [
        "Archive:  1259657_file_s3.zip\r\n",
        "   creating: beast/\r\n",
        "  inflating: beast/2014_GN.SL_SRD.HKY_strict_ctmc.exp.xml  \r\n",
        "  inflating: beast/._2014_GN.SL_SRD.HKY_strict_ctmc.exp.xml  \r\n",
        "  inflating: beast/ZEBOV_SRD_ucln.grid.xml  \r\n",
        "  inflating: beast/._ZEBOV_SRD_ucln.grid.xml  \r\n"
       ]
      }
     ],
     "prompt_number": 2
    },
    {
     "cell_type": "heading",
     "level": 2,
     "metadata": {},
     "source": [
      "Genome comparisons"
     ]
    },
    {
     "cell_type": "code",
     "collapsed": false,
     "input": [
      "from __future__ import division\n",
      "\n",
      "def describe_seqs(seqs):\n",
      "    print('Number of sequences: %d' % len(seqs.taxon_set))\n",
      "    print('First 10 taxon sets: %s' % ' '.join([taxon.label for taxon in seqs.taxon_set[:10]]))\n",
      "    lens = []\n",
      "    for tax, seq in seqs.items():\n",
      "        lens.append(len([x for x in seq.symbols_as_list() if x != '-']))\n",
      "    print('Genome length: min %d, mean %.1f, max %d' % (min(lens), sum(lens) / len(lens), max(lens)))\n",
      "    \n",
      "ebov_seqs = dendropy.DnaCharacterMatrix.get_from_path('alignments/ebov.pruned.phy',\n",
      "                                                      schema='phylip', data_type='dna',\n",
      "                                                      interleaved=True)\n",
      "\n",
      "print('2014 outbreak')\n",
      "describe_seqs(ebov_seqs)\n",
      "del ebov_seqs\n",
      "print('\\nAll sequences')\n",
      "ebolav_seqs = dendropy.DnaCharacterMatrix.get_from_path('alignments/ebolavirus.pruned.phy',\n",
      "                                                      schema='phylip', data_type='dna',\n",
      "                                                      interleaved=True)\n",
      "describe_seqs(ebolav_seqs)\n",
      "print(ebolav_seqs.taxon_set)\n",
      "del ebolav_seqs"
     ],
     "language": "python",
     "metadata": {},
     "outputs": [
      {
       "output_type": "stream",
       "stream": "stdout",
       "text": [
        "2014 outbreak\n",
        "Number of sequences: 101\n",
        "First 10 taxon sets: EBOV_1976_KC242801 EBOV_1976_NC002549 EBOV_1977_KC242791 EBOV_1994_KC242792 EBOV_1996_KC242793 EBOV_1996_KC242794 EBOV_1995_AY354458 EBOV_1995_JQ352763 EBOV_1995_KC242796 EBOV_1995_KC242799\n",
        "Genome length: min 18674, mean 18897.7, max 18921"
       ]
      },
      {
       "output_type": "stream",
       "stream": "stdout",
       "text": [
        "\n",
        "\n",
        "All sequences\n",
        "Number of sequences: 124"
       ]
      },
      {
       "output_type": "stream",
       "stream": "stdout",
       "text": [
        "\n",
        "First 10 taxon sets: BDBV_2007_FJ217161 BDBV_2012_KC545393 BDBV_2012_KC545395 BDBV_2012_KC545394 BDBV_2012_KC545396 TAFV_1994_FJ217162 EBOV_1976_KC242801 EBOV_1976_NC002549 EBOV_1977_KC242791 EBOV_1994_KC242792\n",
        "Genome length: min 18462, mean 18765.4, max 18829"
       ]
      },
      {
       "output_type": "stream",
       "stream": "stdout",
       "text": [
        "\n",
        "TaxonSet(BDBV_2007_FJ217161, BDBV_2012_KC545393, BDBV_2012_KC545395, BDBV_2012_KC545394, BDBV_2012_KC545396, TAFV_1994_FJ217162, EBOV_1976_KC242801, EBOV_1976_NC002549, EBOV_1977_KC242791, EBOV_1994_KC242792, EBOV_1996_KC242793, EBOV_1996_KC242794, EBOV_1995_AY354458, EBOV_1995_JQ352763, EBOV_1995_KC242796, EBOV_1995_KC242799, EBOV_2007_HQ613403, EBOV_2007_KC242784, EBOV_2007_KC242786, EBOV_2007_KC242787, EBOV_2007_KC242789, EBOV_2007_KC242785, EBOV_2007_KC242790, EBOV_2007_KC242788, EBOV_2008_HQ613402, EBOV_2002_KC242800, EBOV_2014_EM095, EBOV_2014_G3676, EBOV_2014_G3680, EBOV_2014_G3686, EBOV_2014_G3687, EBOV_2014_G3683, EBOV_2014_EM096, EBOV_2014_EM098, EBOV_2014_EM104, EBOV_2014_EM106, EBOV_2014_EM112, EBOV_2014_EM113, EBOV_2014_EM124, EBOV_2014_G3677, EBOV_2014_G3682, EBOV_2014_G3707, EBOV_2014_G3713, EBOV_2014_G3724, EBOV_2014_G3734, EBOV_2014_G3735, EBOV_2014_G3750, EBOV_2014_G3758, EBOV_2014_G3764, EBOV_2014_G3769, EBOV_2014_G3782, EBOV_2014_G3786, EBOV_2014_G3788, EBOV_2014_G3796, EBOV_2014_G3798, EBOV_2014_G3799, EBOV_2014_G3800, EBOV_2014_G3805, EBOV_2014_G3807, EBOV_2014_G3810, EBOV_2014_G3820, EBOV_2014_G3838, EBOV_2014_G3840, EBOV_2014_G3841, EBOV_2014_G3848, EBOV_2014_NM042, EBOV_2014_G3850, EBOV_2014_EM110, EBOV_2014_EM111, EBOV_2014_EM119, EBOV_2014_G3729, EBOV_2014_G3765, EBOV_2014_G3770, EBOV_2014_G3789, EBOV_2014_G3825, EBOV_2014_G3845, EBOV_2014_G3851, EBOV_2014_G3857, EBOV_2014_EM115, EBOV_2014_EM120, EBOV_2014_G3752, EBOV_2014_G3795, EBOV_2014_G3808, EBOV_2014_G3823, EBOV_2014_EM121, EBOV_2014_G3771, EBOV_2014_G3816, EBOV_2014_G3829, EBOV_2014_G3846, EBOV_2014_G3856, EBOV_2014_G3826, EBOV_2014_G3827, EBOV_2014_G3809, EBOV_2014_G3814, EBOV_2014_G3821, EBOV_2014_G3822, EBOV_2014_G3679, EBOV_2014_G3819, EBOV_2014_G3817, EBOV_2014_G3834, EBOV_2014_G3818, EBOV_2014_G3787, EBOV_2014_G3831, EBOV_2014_G3670, EBOV_2014_KJ660346, EBOV_2014_KJ660347, EBOV_2014_KJ660348, RESTV_1990_AF522874, RESTV_1996_AB050936, RESTV_1996_JX477166, RESTV_2008_FJ621585, RESTV_2008_FJ621583, RESTV_2009_JX477165, RESTV_2008_FJ621584, SUDV_1976_FJ968794, SUDV_1979_KC242783, SUDV_2004_EU338380, SUDV_2000_AY729654, SUDV_2011_JN638998, SUDV_2012_KC545389, SUDV_2012_KC545390, SUDV_2012_KC545391, SUDV_2012_KC545392, SUDV_2012_KC589025)\n"
       ]
      }
     ],
     "prompt_number": 2
    },
    {
     "cell_type": "code",
     "collapsed": false,
     "input": [
      "import random\n",
      "def do_basic_popgen(seqs):\n",
      "    num_seg_sites = popgenstat.num_segregating_sites(seqs)\n",
      "    avg_pair = popgenstat.average_number_of_pairwise_differences(seqs)\n",
      "    nuc_div = popgenstat.nucleotide_diversity(seqs)\n",
      "    #popgenstat.unfolded_site_frequency_spectrum\n",
      "    print('Segregating sites: %d, Avg pairwise diffs: %.2f, Nucleotide diversity %.6f' % (num_seg_sites, avg_pair, nuc_div))"
     ],
     "language": "python",
     "metadata": {},
     "outputs": [],
     "prompt_number": 9
    },
    {
     "cell_type": "code",
     "collapsed": false,
     "input": [
      "ebov_seqs = dendropy.DnaCharacterMatrix.get_from_path('alignments/ebov.pruned.phy',\n",
      "                                                      schema='phylip', data_type='dna',\n",
      "                                                      interleaved=True)\n",
      "\n",
      "subsampling_set = dendropy.DnaCharacterMatrix()\n",
      "for taxon, char_map in ebov_seqs.items():\n",
      "    if random.random() < 0.2:\n",
      "        subsampling_set.extend_map({taxon: char_map})\n",
      "del ebov_seqs"
     ],
     "language": "python",
     "metadata": {},
     "outputs": [],
     "prompt_number": 6
    },
    {
     "cell_type": "code",
     "collapsed": false,
     "input": [
      "print(subsampling_set.taxon_set)\n",
      "do_basic_popgen(subsampling_set)"
     ],
     "language": "python",
     "metadata": {},
     "outputs": [
      {
       "output_type": "stream",
       "stream": "stdout",
       "text": [
        "TaxonSet(EBOV_1976_NC002549, EBOV_1996_KC242793, EBOV_1995_JQ352763, EBOV_1995_KC242796, EBOV_2007_KC242784, EBOV_2007_KC242786, EBOV_2014_G3676, EBOV_2014_G3683, EBOV_2014_G3735, EBOV_2014_G3782, EBOV_2014_G3788, EBOV_2014_G3807, EBOV_2014_G3820, EBOV_2014_G3840, EBOV_2014_G3850, EBOV_2014_EM111, EBOV_2014_G3795, EBOV_2014_EM121, EBOV_2014_G3816, EBOV_2014_G3787, EBOV_2014_KJ660348)\n",
        "Segregating sites: 982, Avg pairwise diffs: 270.06, Nucleotide diversity 0.014306"
       ]
      },
      {
       "output_type": "stream",
       "stream": "stdout",
       "text": [
        "\n"
       ]
      }
     ],
     "prompt_number": 10
    },
    {
     "cell_type": "heading",
     "level": 2,
     "metadata": {},
     "source": [
      "Genes"
     ]
    },
    {
     "cell_type": "code",
     "collapsed": false,
     "input": [
      "import os\n",
      "genes = {}\n",
      "my_dir = 'alignments/genic_alignments/'\n",
      "for name in os.listdir(my_dir):\n",
      "    gene_name = name.split('.')[0]\n",
      "    genes[gene_name] = dendropy.DnaCharacterMatrix.get_from_path(my_dir + name, 'dnafasta')"
     ],
     "language": "python",
     "metadata": {},
     "outputs": [],
     "prompt_number": 24
    },
    {
     "cell_type": "heading",
     "level": 2,
     "metadata": {},
     "source": [
      "Trees"
     ]
    },
    {
     "cell_type": "code",
     "collapsed": false,
     "input": [
      "#Tree vs TreeList\n",
      "ebola_raxml = dendropy.TreeList.get_from_path('trees/ebola.raxml.tree', 'nexus')\n",
      "ebov_raxml = dendropy.TreeList.get_from_path('trees/zebov_2014.raxml.tree', 'nexus')"
     ],
     "language": "python",
     "metadata": {},
     "outputs": [],
     "prompt_number": 19
    },
    {
     "cell_type": "heading",
     "level": 2,
     "metadata": {},
     "source": [
      "Dating"
     ]
    },
    {
     "cell_type": "heading",
     "level": 2,
     "metadata": {},
     "source": [
      "Trees and Genomes"
     ]
    },
    {
     "cell_type": "code",
     "collapsed": false,
     "input": [
      "ds = dendropy.DataSet()\n",
      "#ds.add(np_gene)\n",
      "#ds.unify_taxa()\n",
      "ds.add(ebola_raxml)\n",
      "ds.unify_taxa()"
     ],
     "language": "python",
     "metadata": {},
     "outputs": [
      {
       "ename": "AttributeError",
       "evalue": "'OrderedSet' object has no attribute 'clear'",
       "output_type": "pyerr",
       "traceback": [
        "\u001b[1;31m---------------------------------------------------------------------------\u001b[0m\n\u001b[1;31mAttributeError\u001b[0m                            Traceback (most recent call last)",
        "\u001b[1;32m<ipython-input-22-94eb1631b6e4>\u001b[0m in \u001b[0;36m<module>\u001b[1;34m()\u001b[0m\n\u001b[0;32m      3\u001b[0m \u001b[1;31m#ds.unify_taxa()\u001b[0m\u001b[1;33m\u001b[0m\u001b[1;33m\u001b[0m\u001b[0m\n\u001b[0;32m      4\u001b[0m \u001b[0mds\u001b[0m\u001b[1;33m.\u001b[0m\u001b[0madd\u001b[0m\u001b[1;33m(\u001b[0m\u001b[0mebola_raxml\u001b[0m\u001b[1;33m)\u001b[0m\u001b[1;33m\u001b[0m\u001b[0m\n\u001b[1;32m----> 5\u001b[1;33m \u001b[0mds\u001b[0m\u001b[1;33m.\u001b[0m\u001b[0munify_taxa\u001b[0m\u001b[1;33m(\u001b[0m\u001b[1;33m)\u001b[0m\u001b[1;33m\u001b[0m\u001b[0m\n\u001b[0m",
        "\u001b[1;32m/home/tra/.local/lib/python2.7/site-packages/dendropy/dataobject/dataset.pyc\u001b[0m in \u001b[0;36munify_taxa\u001b[1;34m(self, taxon_set, bind)\u001b[0m\n\u001b[0;32m    327\u001b[0m         \"\"\"\n\u001b[0;32m    328\u001b[0m         \u001b[1;32mif\u001b[0m \u001b[0mlen\u001b[0m\u001b[1;33m(\u001b[0m\u001b[0mself\u001b[0m\u001b[1;33m.\u001b[0m\u001b[0mtaxon_sets\u001b[0m\u001b[1;33m)\u001b[0m \u001b[1;32mor\u001b[0m \u001b[0mlen\u001b[0m\u001b[1;33m(\u001b[0m\u001b[0mself\u001b[0m\u001b[1;33m.\u001b[0m\u001b[0mtree_lists\u001b[0m\u001b[1;33m)\u001b[0m \u001b[1;32mor\u001b[0m \u001b[0mlen\u001b[0m\u001b[1;33m(\u001b[0m\u001b[0mself\u001b[0m\u001b[1;33m.\u001b[0m\u001b[0mchar_matrices\u001b[0m\u001b[1;33m)\u001b[0m\u001b[1;33m:\u001b[0m\u001b[1;33m\u001b[0m\u001b[0m\n\u001b[1;32m--> 329\u001b[1;33m             \u001b[0mself\u001b[0m\u001b[1;33m.\u001b[0m\u001b[0mtaxon_sets\u001b[0m\u001b[1;33m.\u001b[0m\u001b[0mclear\u001b[0m\u001b[1;33m(\u001b[0m\u001b[1;33m)\u001b[0m\u001b[1;33m\u001b[0m\u001b[0m\n\u001b[0m\u001b[0;32m    330\u001b[0m             \u001b[1;32mif\u001b[0m \u001b[0mtaxon_set\u001b[0m \u001b[1;32mis\u001b[0m \u001b[0mNone\u001b[0m\u001b[1;33m:\u001b[0m\u001b[1;33m\u001b[0m\u001b[0m\n\u001b[0;32m    331\u001b[0m                 \u001b[0mtaxon_set\u001b[0m \u001b[1;33m=\u001b[0m \u001b[0mself\u001b[0m\u001b[1;33m.\u001b[0m\u001b[0mnew_taxon_set\u001b[0m\u001b[1;33m(\u001b[0m\u001b[1;33m)\u001b[0m\u001b[1;33m\u001b[0m\u001b[0m\n",
        "\u001b[1;31mAttributeError\u001b[0m: 'OrderedSet' object has no attribute 'clear'"
       ]
      }
     ],
     "prompt_number": 22
    },
    {
     "cell_type": "code",
     "collapsed": false,
     "input": [],
     "language": "python",
     "metadata": {},
     "outputs": []
    }
   ],
   "metadata": {}
  }
 ]
}