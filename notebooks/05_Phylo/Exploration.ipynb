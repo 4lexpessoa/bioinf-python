{
 "cells": [
  {
   "cell_type": "code",
   "execution_count": 1,
   "metadata": {
    "collapsed": false
   },
   "outputs": [],
   "source": [
    "from __future__ import division, print_function\n",
    "import dendropy\n",
    "from dendropy.interop import genbank"
   ]
  },
  {
   "cell_type": "markdown",
   "metadata": {},
   "source": [
    "## Getting the data"
   ]
  },
  {
   "cell_type": "code",
   "execution_count": 28,
   "metadata": {
    "collapsed": true
   },
   "outputs": [],
   "source": [
    "def get_ebov_2014_sources():\n",
    "    #EBOV_2014\n",
    "    yield 'EBOV_2014', genbank.GenBankDna(id_range=(233036, 233118), prefix='KM')\n",
    "    yield 'EBOV_2014', genbank.GenBankDna(id_range=(34549, 34563), prefix='KM0')\n",
    "    #yield 'EBOV_2014', genbank.GenBankDna(id_range=(233100, 233118), prefix='KM')\n",
    "    \n",
    "def get_other_ebov_sources():\n",
    "    #EBOV other\n",
    "    yield 'EBOV_1976', genbank.GenBankDna(ids=['AF272001', 'KC242801'])\n",
    "    yield 'EBOV_1995', genbank.GenBankDna(ids=['KC242796', 'KC242799'])\n",
    "    yield 'EBOV_2007', genbank.GenBankDna(id_range=(84, 90), prefix='KC2427')\n",
    "    \n",
    "def get_other_ebolavirus_sources():\n",
    "    #BDBV\n",
    "    yield 'BDBV', genbank.GenBankDna(id_range=(3, 6), prefix='KC54539')\n",
    "    yield 'BDBV', genbank.GenBankDna(ids=['FJ217161'])\n",
    "\n",
    "    #RESTV\n",
    "    yield 'RESTV', genbank.GenBankDna(ids=['AB050936', 'JX477165', 'JX477166', 'FJ621583', 'FJ621584', 'FJ621585']) \n",
    "\n",
    "    #SUDV\n",
    "    yield 'SUDV', genbank.GenBankDna(ids=['KC242783', 'AY729654', 'EU338380',\n",
    "                                          'JN638998', 'FJ968794', 'KC589025', 'JN638998'])\n",
    "    #yield 'SUDV', genbank.GenBankDna(id_range=(89, 92), prefix='KC5453')    \n",
    "\n",
    "    #TAFV\n",
    "    yield 'TAFV', genbank.GenBankDna(ids=['FJ217162'])"
   ]
  },
  {
   "cell_type": "code",
   "execution_count": 83,
   "metadata": {
    "collapsed": false
   },
   "outputs": [],
   "source": [
    "other = open('other.fasta', 'w')\n",
    "sampled = open('sample.fasta', 'w')\n",
    "\n",
    "for species, recs in get_other_ebolavirus_sources():\n",
    "    char_mat = recs.generate_char_matrix(taxon_set=dendropy.TaxonSet(),\n",
    "        gb_to_taxon_func=lambda gb: dendropy.Taxon(label='%s_%s' % (species, gb.accession)))\n",
    "    char_mat.write_to_stream(other, 'fasta')\n",
    "    char_mat.write_to_stream(sampled, 'fasta')\n",
    "other.close()\n",
    "ebov_2014 = open('ebov_2014.fasta', 'w')\n",
    "ebov = open('ebov.fasta', 'w')\n",
    "for species, recs in get_ebov_2014_sources():\n",
    "    char_mat = recs.generate_char_matrix(taxon_set=dendropy.TaxonSet(),\n",
    "        gb_to_taxon_func=lambda gb: dendropy.Taxon(label='EBOV_2014_%s' % gb.accession))\n",
    "    char_mat.write_to_stream(ebov_2014, 'fasta')\n",
    "#this is OK outside for\n",
    "char_mat.write_to_stream(sampled, 'fasta')\n",
    "char_mat.write_to_stream(ebov, 'fasta')\n",
    "ebov_2014.close()\n",
    "\n",
    "ebov_2007 = open('ebov_2007.fasta', 'w')\n",
    "for species, recs in get_other_ebov_sources():\n",
    "    char_mat = recs.generate_char_matrix(taxon_set=dendropy.TaxonSet(),\n",
    "        gb_to_taxon_func=lambda gb: dendropy.Taxon(label='%s_%s' % (species, gb.accession)))\n",
    "    char_mat.write_to_stream(ebov, 'fasta')\n",
    "    char_mat.write_to_stream(sampled, 'fasta')\n",
    "    if species == 'EBOV_2007':\n",
    "        char_mat.write_to_stream(ebov_2007, 'fasta')\n",
    "\n",
    "ebov.close()\n",
    "ebov_2007.close()\n",
    "sampled.close()"
   ]
  },
  {
   "cell_type": "code",
   "execution_count": 78,
   "metadata": {
    "collapsed": false
   },
   "outputs": [
    {
     "name": "stdout",
     "output_type": "stream",
     "text": [
      "['462', '', '2681']\n",
      "['3153', '', '4142']\n",
      "['4483', '', '5478']\n",
      "['11548', '', '18186']\n",
      "['464', '', '2683']\n",
      "['3155', '', '4144']\n",
      "['4485', '', '5480']\n",
      "['11546', '', '18184']\n",
      "['464', '', '2683']\n",
      "['3155', '', '4144']\n",
      "['4485', '', '5480']\n",
      "['11550', '', '18188']\n",
      "['464', '', '2683']\n",
      "['3155', '', '4144']\n",
      "['4485', '', '5480']\n",
      "['11546', '', '18184']\n",
      "['464', '', '2683']\n",
      "['3155', '', '4144']\n",
      "['4485', '', '5477']\n",
      "['11550', '', '18188']\n",
      "['425', '', '2644']\n",
      "['3116', '', '4105']\n",
      "['4446', '', '5441']\n",
      "['11511', '', '18149']\n",
      "['458', '', '2674']\n",
      "['3138', '', '4127']\n",
      "['4454', '', '5434']\n",
      "['11535', '', '18167']\n",
      "['458', '', '2674']\n",
      "['3138', '', '4127']\n",
      "['4454', '', '5434']\n",
      "['11535', '', '18167']\n",
      "['458', '', '2674']\n",
      "['3138', '', '4127']\n",
      "['4454', '', '5434']\n",
      "['11535', '', '18167']\n",
      "['458', '', '2674']\n",
      "['3138', '', '4127']\n",
      "['4454', '', '5434']\n",
      "['11535', '', '18167']\n",
      "['458', '', '2674']\n",
      "['3138', '', '4127']\n",
      "['4454', '', '5434']\n",
      "['11535', '', '18167']\n"
     ]
    }
   ],
   "source": [
    "my_genes = ['NP', 'L', 'VP35', 'VP40']\n",
    "\n",
    "def dump_genes(species, recs, g_dls, p_hdls):\n",
    "    for rec in recs:\n",
    "\n",
    "        for feature in rec.feature_table:\n",
    "                    if feature.key == 'CDS':\n",
    "                        gene_name = None\n",
    "                        for qual in feature.qualifiers:\n",
    "                            if qual.name == 'gene':\n",
    "                                if qual.value in my_genes:\n",
    "                                    gene_name = qual.value\n",
    "                            elif qual.name == 'translation':\n",
    "                                protein_translation = qual.value\n",
    "                        if gene_name is not None:\n",
    "                            locs = feature.location.split('.')\n",
    "                            start, end = int(locs[0]), int(locs[-1])\n",
    "                            g_hdls[gene_name].write('>%s_%s\\n' % (species, rec.accession))\n",
    "                            p_hdls[gene_name].write('>%s_%s\\n' % (species, rec.accession))\n",
    "                            g_hdls[gene_name].write('%s\\n' % rec.sequence_text[start - 1 : end])\n",
    "                            p_hdls[gene_name].write('%s\\n' % protein_translation)\n",
    "\n",
    "g_hdls = {}\n",
    "p_hdls = {}\n",
    "for gene in my_genes:\n",
    "    g_hdls[gene] = open('%s.fasta' % gene, 'w')\n",
    "    p_hdls[gene] = open('%s_P.fasta' % gene, 'w')\n",
    "for species, recs in get_other_ebolavirus_sources():\n",
    "    if species in ['RESTV', 'SUDV']:\n",
    "        dump_genes(species, recs, g_hdls, p_hdls)\n",
    "for gene in my_genes:\n",
    "    g_hdls[gene].close()\n",
    "    p_hdls[gene].close()"
   ]
  },
  {
   "cell_type": "code",
   "execution_count": 30,
   "metadata": {
    "collapsed": true
   },
   "outputs": [],
   "source": [
    "fasta = dendropy.DnaCharacterMatrix.get_from_stream(open('ebov_2014.fasta'), \"dnafasta\")\n",
    "fasta.write_to_path('ebov_2014.phy', 'phylip')"
   ]
  },
  {
   "cell_type": "code",
   "execution_count": null,
   "metadata": {
    "collapsed": true
   },
   "outputs": [],
   "source": [
    "#look again\n",
    "ebov_matrix.write_to_path('genbank.nex', 'nexus')\n",
    "ebov_matrix.write_to_path('genbank.fasta', 'fasta')\n",
    "ebov_matrix.write_to_path('genbank.phy', 'phylip')"
   ]
  },
  {
   "cell_type": "markdown",
   "metadata": {},
   "source": [
    "## Genome exploration"
   ]
  },
  {
   "cell_type": "code",
   "execution_count": 31,
   "metadata": {
    "collapsed": false
   },
   "outputs": [],
   "source": [
    "def describe_seqs(seqs):\n",
    "    print('Number of sequences: %d' % len(seqs.taxon_set))\n",
    "    print('First 10 taxon sets: %s' % ' '.join([taxon.label for taxon in seqs.taxon_set[:10]]))\n",
    "    lens = []\n",
    "    for tax, seq in seqs.items():\n",
    "        print (tax, len([x for x in seq.symbols_as_list() if x != '-']))\n",
    "        lens.append(len([x for x in seq.symbols_as_list() if x != '-']))\n",
    "    print('Genome length: min %d, mean %.1f, max %d' % (min(lens), sum(lens) / len(lens), max(lens)))"
   ]
  },
  {
   "cell_type": "code",
   "execution_count": 32,
   "metadata": {
    "collapsed": false
   },
   "outputs": [
    {
     "name": "stdout",
     "output_type": "stream",
     "text": [
      "EBOV\n",
      "Number of sequences: 107\n",
      "First 10 taxon sets: KM233036 KM233037 KM233038 KM233039 KM233040 KM233041 KM233042 KM233043 KM233044 KM233045\n",
      "KM233036 18873\n",
      "KM233037 18915\n",
      "KM233038 18914\n",
      "KM233039 18953\n",
      "KM233040 18922\n",
      "KM233041 18886\n",
      "KM233042 18912\n",
      "KM233043 18915\n",
      "KM233044 18914\n",
      "KM233045 18919\n",
      "KM233046 18867\n",
      "KM233047 18921\n",
      "KM233048 18829\n",
      "KM233049 18946\n",
      "KM233050 18956\n",
      "KM233051 18951\n",
      "KM233052 18941\n",
      "KM233053 18957\n",
      "KM233054 18948\n",
      "KM233055 18878\n",
      "KM233056 18957\n",
      "KM233057 18954\n",
      "KM233058 18850\n",
      "KM233059 18791\n",
      "KM233060 18711\n",
      "KM233061 18890\n",
      "KM233062 18937\n",
      "KM233063 18955\n",
      "KM233064 18803\n",
      "KM233065 18925\n",
      "KM233066 18876\n",
      "KM233067 18910\n",
      "KM233068 18925\n",
      "KM233069 18958\n",
      "KM233070 18959\n",
      "KM233071 18901\n",
      "KM233072 18949\n",
      "KM233073 18912\n",
      "KM233074 18890\n",
      "KM233075 18931\n",
      "KM233076 18811\n",
      "KM233077 18897\n",
      "KM233078 18912\n",
      "KM233079 18870\n",
      "KM233080 18945\n",
      "KM233081 18925\n",
      "KM233082 18812\n",
      "KM233083 18773\n",
      "KM233084 18921\n",
      "KM233085 18882\n",
      "KM233086 18830\n",
      "KM233087 18859\n",
      "KM233088 18921\n",
      "KM233089 18914\n",
      "KM233090 18799\n",
      "KM233091 18886\n",
      "KM233092 18948\n",
      "KM233093 18880\n",
      "KM233094 18925\n",
      "KM233095 18862\n",
      "KM233096 18953\n",
      "KM233097 18953\n",
      "KM233098 18950\n",
      "KM233099 18953\n",
      "KM233100 18932\n",
      "KM233101 18876\n",
      "KM233102 18945\n",
      "KM233103 18950\n",
      "KM233104 18921\n",
      "KM233105 18914\n",
      "KM233106 18945\n",
      "KM233107 18876\n",
      "KM233108 18915\n",
      "KM233109 18958\n",
      "KM233110 18956\n",
      "KM233111 18749\n",
      "KM233112 18923\n",
      "KM233113 18958\n",
      "KM233114 18939\n",
      "KM233115 18835\n",
      "KM233116 18926\n",
      "KM233117 18685\n",
      "KM233118 18613\n",
      "KM034549 18835\n",
      "KM034550 18911\n",
      "KM034551 18926\n",
      "KM034552 18769\n",
      "KM034553 18927\n",
      "KM034554 18948\n",
      "KM034555 18950\n",
      "KM034556 18932\n",
      "KM034557 18956\n",
      "KM034558 18915\n",
      "KM034559 18926\n",
      "KM034560 18952\n",
      "KM034561 18908\n",
      "KM034562 18957\n",
      "KM034563 18700\n",
      "AF272001 18959\n",
      "KC242801 18959\n",
      "KC242796 18959\n",
      "KC242799 18959\n",
      "KC242784 18958\n",
      "KC242785 18958\n",
      "KC242786 18958\n",
      "KC242787 18958\n",
      "KC242788 18958\n",
      "Genome length: min 18613, mean 18903.1, max 18959\n"
     ]
    }
   ],
   "source": [
    "#ebov_seqs = dendropy.DnaCharacterMatrix.get_from_path('alignments/ebov.pruned.phy',\n",
    "#                                                      schema='phylip', data_type='dna',\n",
    "#                                                      interleaved=True)\n",
    "ebov_seqs = dendropy.DnaCharacterMatrix.get_from_path('ebov.fasta', schema='fasta', data_type='dna')\n",
    "print('EBOV')\n",
    "describe_seqs(ebov_seqs)\n",
    "del ebov_seqs"
   ]
  },
  {
   "cell_type": "code",
   "execution_count": 36,
   "metadata": {
    "collapsed": false
   },
   "outputs": [
    {
     "name": "stdout",
     "output_type": "stream",
     "text": [
      "ebolavirus sequences\n",
      "Number of sequences: 22\n",
      "First 10 taxon sets: KC545393 KC545394 KC545395 KC545396 FJ217161 AB050936 JX477165 JX477166 FJ621583 FJ621584\n",
      "KC545393 18939\n",
      "KC545394 18939\n",
      "KC545395 18939\n",
      "KC545396 18939\n",
      "FJ217161 18940\n",
      "AB050936 18890\n",
      "JX477165 18887\n",
      "JX477166 18891\n",
      "FJ621583 18887\n",
      "FJ621584 18836\n",
      "FJ621585 18796\n",
      "KC242783 18875\n",
      "AY729654 18875\n",
      "EU338380 18875\n",
      "JN638998 18875\n",
      "FJ968794 18875\n",
      "KC589025 18875\n",
      "KC545389 18874\n",
      "KC545390 18874\n",
      "KC545391 18874\n",
      "KC545392 18874\n",
      "FJ217162 18935\n",
      "Genome length: min 18796, mean 18889.3, max 18940\n",
      "            KC589025: 1\n",
      "            KC242783: 1\n",
      "            KC545389: 1\n",
      "            AB050936: 1\n",
      "            JN638998: 1\n",
      "            JX477165: 1\n",
      "            AY729654: 1\n",
      "            JX477166: 1\n",
      "            FJ621584: 1\n",
      "            FJ621585: 1\n",
      "            FJ621583: 1\n",
      "            KC545392: 1\n",
      "            KC545393: 1\n",
      "            KC545390: 1\n",
      "            KC545391: 1\n",
      "            KC545396: 1\n",
      "            KC545394: 1\n",
      "            KC545395: 1\n",
      "            EU338380: 1\n",
      "            FJ217161: 1\n",
      "            FJ217162: 1\n",
      "            FJ968794: 1\n"
     ]
    }
   ],
   "source": [
    "print('ebolavirus sequences')\n",
    "ebolav_seqs = dendropy.DnaCharacterMatrix.get_from_path('other.fasta', schema='dnafasta')\n",
    "describe_seqs(ebolav_seqs)\n",
    "from collections import defaultdict\n",
    "species = defaultdict(int)\n",
    "for taxon in ebolav_seqs.taxon_set:\n",
    "    toks = taxon.label.split('_')\n",
    "    my_species = toks[0]\n",
    "    if my_species == 'EBOV':\n",
    "        ident = '%s (%s)' % (my_species, toks[1])\n",
    "    else:\n",
    "        ident = my_species\n",
    "    species[ident] += 1\n",
    "for my_species, cnt in species.items():\n",
    "    print(\"%20s: %d\" % (my_species, cnt))\n",
    "del ebolav_seqs"
   ]
  },
  {
   "cell_type": "markdown",
   "metadata": {},
   "source": [
    "## Genes"
   ]
  },
  {
   "cell_type": "code",
   "execution_count": 81,
   "metadata": {
    "collapsed": false
   },
   "outputs": [
    {
     "name": "stdout",
     "output_type": "stream",
     "text": [
      "    NP: 2218\n",
      "  VP40: 988\n",
      "     L: 6636\n",
      "  VP35: 990\n"
     ]
    }
   ],
   "source": [
    "import os\n",
    "gene_length = {}\n",
    "my_genes = ['NP', 'L', 'VP35', 'VP40']\n",
    "\n",
    "for name in my_genes:\n",
    "    gene_name = name.split('.')[0]\n",
    "    seqs = dendropy.DnaCharacterMatrix.get_from_path('%s.fasta' % name, 'dnafasta')\n",
    "    gene_length[gene_name] = []\n",
    "    for tax, seq in seqs.items():\n",
    "        gene_length[gene_name].append(len([x for x in seq.symbols_as_list() if x != '-']))\n",
    "for gene, lens in gene_length.items():\n",
    "    print ('%6s: %d' % (gene, sum(lens) / len(lens)))"
   ]
  },
  {
   "cell_type": "code",
   "execution_count": null,
   "metadata": {
    "collapsed": false
   },
   "outputs": [],
   "source": []
  }
 ],
 "metadata": {
  "kernelspec": {
   "display_name": "Python 2",
   "language": "python",
   "name": "python2"
  },
  "language_info": {
   "codemirror_mode": {
    "name": "ipython",
    "version": 2
   },
   "file_extension": ".py",
   "mimetype": "text/x-python",
   "name": "python",
   "nbconvert_exporter": "python",
   "pygments_lexer": "ipython2",
   "version": "2.7.9"
  }
 },
 "nbformat": 4,
 "nbformat_minor": 0
}
