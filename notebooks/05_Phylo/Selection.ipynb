{
 "metadata": {
  "name": "",
  "signature": "sha256:b3e5a09b29161def9e54dc3f400fd64456c51d2b0b7837a66b3402e9dbbda09e"
 },
 "nbformat": 3,
 "nbformat_minor": 0,
 "worksheets": [
  {
   "cells": [
    {
     "cell_type": "code",
     "collapsed": false,
     "input": [
      "sl_2014 = []\n",
      "drc_2007 = []\n",
      "for seq in ebola_seqs.taxon_set:\n",
      "    if seq.label.startswith('EBOV_2014') and len(sl_2014) < 8:\n",
      "        sl_2014.append(ebola_seqs[seq])\n",
      "    elif seq.label.startswith('EBOV_2007'):\n",
      "        drc_2007.append(ebola_seqs[seq])"
     ],
     "language": "python",
     "metadata": {},
     "outputs": []
    },
    {
     "cell_type": "code",
     "collapsed": false,
     "input": [
      "print(len(sl_2014))\n",
      "print(len(drc_2007))"
     ],
     "language": "python",
     "metadata": {},
     "outputs": []
    },
    {
     "cell_type": "code",
     "collapsed": false,
     "input": [
      "pair_stats = popgenstat.PopulationPairSummaryStatistics(sl_2014, drc_2007)"
     ],
     "language": "python",
     "metadata": {},
     "outputs": []
    },
    {
     "cell_type": "code",
     "collapsed": false,
     "input": [
      "print('Average number of pairwise differences (total): %s' %\n",
      "      pair_stats.average_number_of_pairwise_differences)\n",
      "print('Average number of pairwise differences between populations: %s' %\n",
      "      pair_stats.average_number_of_pairwise_differences_between)\n",
      "print('Average number of pairwise differences within populations: %s' %\n",
      "      pair_stats.average_number_of_pairwise_differences_within)\n",
      "print('Average number of new pairwise differences : %s' %\n",
      "      pair_stats.average_number_of_pairwise_differences_net)\n",
      "print('Number of segregating sites: %s' %\n",
      "      pair_stats.num_segregating_sites)\n",
      "print(\"Watterson's theta: %s\" %\n",
      "      pair_stats.wattersons_theta)\n",
      "print(\"Wakeley's Psi: %s\" % pair_stats.wakeleys_psi)\n",
      "print(\"Tajima's D: %s\" % pair_stats.tajimas_d)"
     ],
     "language": "python",
     "metadata": {},
     "outputs": []
    }
   ],
   "metadata": {}
  }
 ]
}