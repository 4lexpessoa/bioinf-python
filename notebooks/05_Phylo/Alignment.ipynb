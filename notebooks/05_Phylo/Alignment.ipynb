{
 "metadata": {
  "name": "",
  "signature": "sha256:3e20721d73fdfb44b6607bc1b5a86fe04b820261a0354ada03f0d695f87fa0b9"
 },
 "nbformat": 3,
 "nbformat_minor": 0,
 "worksheets": [
  {
   "cells": [
    {
     "cell_type": "code",
     "collapsed": false,
     "input": [
      "import os\n",
      "\n",
      "import dendropy\n",
      "from dendropy.interop import genbank"
     ],
     "language": "python",
     "metadata": {},
     "outputs": [],
     "prompt_number": 19
    },
    {
     "cell_type": "code",
     "collapsed": false,
     "input": [
      "ebov_dna = genbank.GenBankDna(id_range=(34549, 34556), prefix='KM0')  # from the suppl material\n",
      "#can access the gb records"
     ],
     "language": "python",
     "metadata": {},
     "outputs": [],
     "prompt_number": 3
    },
    {
     "cell_type": "code",
     "collapsed": false,
     "input": [
      "print(len(ebov_dna))\n",
      "rec = ebov_dna[0]\n",
      "print(rec.gi, rec.locus, rec.source, rec.organism, rec.taxonomy, rec.definition)\n"
     ],
     "language": "python",
     "metadata": {},
     "outputs": [
      {
       "output_type": "stream",
       "stream": "stdout",
       "text": [
        "8\n",
        "('661348595', 'KM034549', 'Zaire ebolavirus', 'Zaire ebolavirus', 'Viruses; ssRNA negative-strand viruses; Mononegavirales; Filoviridae; Ebolavirus', 'Zaire ebolavirus isolate Ebola virus/H.sapiens-wt/SLE/2014/Makona-EM095B, complete genome')\n"
       ]
      }
     ],
     "prompt_number": 10
    },
    {
     "cell_type": "heading",
     "level": 2,
     "metadata": {},
     "source": [
      "Extract genes"
     ]
    },
    {
     "cell_type": "code",
     "collapsed": false,
     "input": [
      "prot_files = {}\n",
      "for feature in rec.feature_table:\n",
      "        if feature.key == 'CDS':\n",
      "            for qual in feature.qualifiers:\n",
      "                if qual.name == 'gene':\n",
      "                    prot_files[qual.value] = open('%s.fasta' % qual.value, 'wt')\n",
      "for rec in ebov_dna:\n",
      "    for feature in rec.feature_table:\n",
      "        if feature.key == 'CDS':\n",
      "            for qual in feature.qualifiers:\n",
      "                if qual.name == 'gene':\n",
      "                    gene_name = qual.value\n",
      "                elif qual.name == 'translation':\n",
      "                    protein_translation = qual.value\n",
      "            prot_files[gene_name].write('>%s\\n' % rec.locus)\n",
      "            prot_files[gene_name].write('%s\\n\\n' % protein_translation)\n",
      "for hdl in prot_files.values():\n",
      "    hdl.close()"
     ],
     "language": "python",
     "metadata": {},
     "outputs": []
    },
    {
     "cell_type": "heading",
     "level": 2,
     "metadata": {},
     "source": [
      "Export data to disk"
     ]
    },
    {
     "cell_type": "code",
     "collapsed": false,
     "input": [
      "ebov_dna."
     ],
     "language": "python",
     "metadata": {},
     "outputs": []
    },
    {
     "cell_type": "code",
     "collapsed": false,
     "input": [
      "ebov_matrix = ebov_dna.generate_char_matrix()"
     ],
     "language": "python",
     "metadata": {},
     "outputs": [],
     "prompt_number": 4
    },
    {
     "cell_type": "code",
     "collapsed": false,
     "input": [
      "print(ebov_matrix.taxon_set)"
     ],
     "language": "python",
     "metadata": {},
     "outputs": [
      {
       "output_type": "stream",
       "stream": "stdout",
       "text": [
        "TaxonSet(KM034549, KM034550, KM034551, KM034552, KM034553, KM034554, KM034555, KM034556)\n"
       ]
      }
     ],
     "prompt_number": 5
    },
    {
     "cell_type": "code",
     "collapsed": false,
     "input": [
      "ebov_matrix.write_to_path('genbank.nex', 'nexus')\n",
      "ebov_matrix.write_to_path('genbank.fasta', 'fasta')\n",
      "ebov_matrix.write_to_path('genbank.phy', 'phylip')"
     ],
     "language": "python",
     "metadata": {},
     "outputs": [],
     "prompt_number": 8
    },
    {
     "cell_type": "heading",
     "level": 2,
     "metadata": {},
     "source": [
      "Genome alignment"
     ]
    },
    {
     "cell_type": "code",
     "collapsed": false,
     "input": [
      "#mafft --localpair --maxiterate 1000 --reorder --ep 0.123 genbank.fasta  > out"
     ],
     "language": "python",
     "metadata": {},
     "outputs": [],
     "prompt_number": 6
    },
    {
     "cell_type": "code",
     "collapsed": false,
     "input": [
      "from Bio.Align.Applications import MafftCommandline\n",
      "mafft_cline = MafftCommandline(input='genbank.fasta', ep=0.123, reorder=True, maxiterate=1000, localpair=True)\n",
      "print(mafft_cline)\n",
      "stdout, stderr = mafft_cline()\n",
      "with open('align.fasta', 'w') as w:\n",
      "    w.write(stdout)"
     ],
     "language": "python",
     "metadata": {},
     "outputs": [
      {
       "output_type": "stream",
       "stream": "stdout",
       "text": [
        "mafft --localpair --maxiterate 1000 --ep 0.123 --reorder genbank.fasta\n"
       ]
      }
     ],
     "prompt_number": 22
    },
    {
     "cell_type": "code",
     "collapsed": false,
     "input": [
      "os.system('trimal -automated1 -in align.fasta -out align.phy -phylip')"
     ],
     "language": "python",
     "metadata": {},
     "outputs": [
      {
       "metadata": {},
       "output_type": "pyout",
       "prompt_number": 23,
       "text": [
        "32512"
       ]
      }
     ],
     "prompt_number": 23
    },
    {
     "cell_type": "heading",
     "level": 2,
     "metadata": {},
     "source": [
      "Protein alignment"
     ]
    },
    {
     "cell_type": "code",
     "collapsed": false,
     "input": [
      "from Bio.Align.Applications import MuscleCommandline\n",
      "muscle_cline = MuscleCommandline(input='GP.fasta')\n",
      "print(muscle_cline)\n",
      "stdout, stderr = muscle_cline()\n",
      "with open('GP_align.fasta', 'w') as w:\n",
      "    w.write(stdout)"
     ],
     "language": "python",
     "metadata": {},
     "outputs": [
      {
       "output_type": "stream",
       "stream": "stdout",
       "text": [
        "muscle -in GP.fasta\n"
       ]
      }
     ],
     "prompt_number": 32
    },
    {
     "cell_type": "code",
     "collapsed": false,
     "input": [],
     "language": "python",
     "metadata": {},
     "outputs": []
    }
   ],
   "metadata": {}
  }
 ]
}