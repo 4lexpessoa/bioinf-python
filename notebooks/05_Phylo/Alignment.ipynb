{
 "cells": [
  {
   "cell_type": "code",
   "execution_count": 6,
   "metadata": {
    "collapsed": false
   },
   "outputs": [],
   "source": [
    "from __future__ import print_function\n",
    "import os\n",
    "\n",
    "import dendropy"
   ]
  },
  {
   "cell_type": "markdown",
   "metadata": {},
   "source": [
    "## Genome alignment"
   ]
  },
  {
   "cell_type": "code",
   "execution_count": 7,
   "metadata": {
    "collapsed": false
   },
   "outputs": [
    {
     "name": "stdout",
     "output_type": "stream",
     "text": [
      "mafft --localpair --maxiterate 1000 --ep 0.123 --reorder sample.fasta\n"
     ]
    },
    {
     "ename": "ApplicationError",
     "evalue": "Non-zero return code 1 from 'mafft --localpair --maxiterate 1000 --ep 0.123 --reorder sample.fasta', message 'nseq =  43'",
     "output_type": "error",
     "traceback": [
      "\u001b[1;31m---------------------------------------------------------------------------\u001b[0m",
      "\u001b[1;31mApplicationError\u001b[0m                          Traceback (most recent call last)",
      "\u001b[1;32m<ipython-input-7-4992055bfa15>\u001b[0m in \u001b[0;36m<module>\u001b[1;34m()\u001b[0m\n\u001b[0;32m      2\u001b[0m \u001b[0mmafft_cline\u001b[0m \u001b[1;33m=\u001b[0m \u001b[0mMafftCommandline\u001b[0m\u001b[1;33m(\u001b[0m\u001b[0minput\u001b[0m\u001b[1;33m=\u001b[0m\u001b[1;34m'sample.fasta'\u001b[0m\u001b[1;33m,\u001b[0m \u001b[0mep\u001b[0m\u001b[1;33m=\u001b[0m\u001b[1;36m0.123\u001b[0m\u001b[1;33m,\u001b[0m \u001b[0mreorder\u001b[0m\u001b[1;33m=\u001b[0m\u001b[0mTrue\u001b[0m\u001b[1;33m,\u001b[0m \u001b[0mmaxiterate\u001b[0m\u001b[1;33m=\u001b[0m\u001b[1;36m1000\u001b[0m\u001b[1;33m,\u001b[0m \u001b[0mlocalpair\u001b[0m\u001b[1;33m=\u001b[0m\u001b[0mTrue\u001b[0m\u001b[1;33m)\u001b[0m\u001b[1;33m\u001b[0m\u001b[0m\n\u001b[0;32m      3\u001b[0m \u001b[1;32mprint\u001b[0m\u001b[1;33m(\u001b[0m\u001b[0mmafft_cline\u001b[0m\u001b[1;33m)\u001b[0m\u001b[1;33m\u001b[0m\u001b[0m\n\u001b[1;32m----> 4\u001b[1;33m \u001b[0mstdout\u001b[0m\u001b[1;33m,\u001b[0m \u001b[0mstderr\u001b[0m \u001b[1;33m=\u001b[0m \u001b[0mmafft_cline\u001b[0m\u001b[1;33m(\u001b[0m\u001b[1;33m)\u001b[0m\u001b[1;33m\u001b[0m\u001b[0m\n\u001b[0m\u001b[0;32m      5\u001b[0m \u001b[1;32mwith\u001b[0m \u001b[0mopen\u001b[0m\u001b[1;33m(\u001b[0m\u001b[1;34m'align.fasta'\u001b[0m\u001b[1;33m,\u001b[0m \u001b[1;34m'w'\u001b[0m\u001b[1;33m)\u001b[0m \u001b[1;32mas\u001b[0m \u001b[0mw\u001b[0m\u001b[1;33m:\u001b[0m\u001b[1;33m\u001b[0m\u001b[0m\n\u001b[0;32m      6\u001b[0m     \u001b[0mw\u001b[0m\u001b[1;33m.\u001b[0m\u001b[0mwrite\u001b[0m\u001b[1;33m(\u001b[0m\u001b[0mstdout\u001b[0m\u001b[1;33m)\u001b[0m\u001b[1;33m\u001b[0m\u001b[0m\n",
      "\u001b[1;32m/home/tra/Dropbox/soft/biopython/Bio/Application/__init__.pyc\u001b[0m in \u001b[0;36m__call__\u001b[1;34m(self, stdin, stdout, stderr, cwd, env)\u001b[0m\n\u001b[0;32m    516\u001b[0m         \u001b[1;32mif\u001b[0m \u001b[0mreturn_code\u001b[0m\u001b[1;33m:\u001b[0m\u001b[1;33m\u001b[0m\u001b[0m\n\u001b[0;32m    517\u001b[0m             raise ApplicationError(return_code, str(self),\n\u001b[1;32m--> 518\u001b[1;33m                                    stdout_str, stderr_str)\n\u001b[0m\u001b[0;32m    519\u001b[0m         \u001b[1;32mreturn\u001b[0m \u001b[0mstdout_str\u001b[0m\u001b[1;33m,\u001b[0m \u001b[0mstderr_str\u001b[0m\u001b[1;33m\u001b[0m\u001b[0m\n\u001b[0;32m    520\u001b[0m \u001b[1;33m\u001b[0m\u001b[0m\n",
      "\u001b[1;31mApplicationError\u001b[0m: Non-zero return code 1 from 'mafft --localpair --maxiterate 1000 --ep 0.123 --reorder sample.fasta', message 'nseq =  43'"
     ]
    }
   ],
   "source": [
    "from Bio.Align.Applications import MafftCommandline\n",
    "mafft_cline = MafftCommandline(input='sample.fasta', ep=0.123, reorder=True, maxiterate=1000, localpair=True)\n",
    "print(mafft_cline)\n",
    "stdout, stderr = mafft_cline()\n",
    "with open('align.fasta', 'w') as w:\n",
    "    w.write(stdout)"
   ]
  },
  {
   "cell_type": "code",
   "execution_count": 8,
   "metadata": {
    "collapsed": false
   },
   "outputs": [
    {
     "data": {
      "text/plain": [
       "0"
      ]
     },
     "execution_count": 8,
     "metadata": {},
     "output_type": "execute_result"
    }
   ],
   "source": [
    "os.system('./trimal -automated1 -in align.fasta -out trim.fasta -fasta')\n"
   ]
  },
  {
   "cell_type": "markdown",
   "metadata": {},
   "source": [
    "## Protein alignment"
   ]
  },
  {
   "cell_type": "code",
   "execution_count": 9,
   "metadata": {
    "collapsed": false
   },
   "outputs": [
    {
     "name": "stdout",
     "output_type": "stream",
     "text": [
      "muscle -in NP_P.fasta\n",
      "muscle -in L_P.fasta\n",
      "muscle -in VP35_P.fasta\n",
      "muscle -in VP40_P.fasta\n"
     ]
    }
   ],
   "source": [
    "from Bio.Align.Applications import MuscleCommandline\n",
    "\n",
    "my_genes = ['NP', 'L', 'VP35', 'VP40']\n",
    "\n",
    "for gene in my_genes:\n",
    "    muscle_cline = MuscleCommandline(input='%s_P.fasta' % gene)\n",
    "    print(muscle_cline)\n",
    "    stdout, stderr = muscle_cline()\n",
    "    with open('%s_P_align.fasta' % gene, 'w') as w:\n",
    "        w.write(stdout)"
   ]
  },
  {
   "cell_type": "code",
   "execution_count": 10,
   "metadata": {
    "collapsed": false
   },
   "outputs": [],
   "source": [
    "from Bio import SeqIO\n",
    "from Bio.Seq import Seq\n",
    "from Bio.SeqRecord import SeqRecord\n",
    "from Bio.Alphabet import generic_protein\n",
    "\n",
    "for gene in my_genes:\n",
    "    gene_seqs = {}\n",
    "    unal_gene = SeqIO.parse('%s.fasta' % gene, 'fasta')\n",
    "    for rec in unal_gene:\n",
    "        gene_seqs[rec.id] = rec.seq\n",
    "\n",
    "    al_prot = SeqIO.parse('%s_P_align.fasta' % gene, 'fasta')\n",
    "    al_genes = []\n",
    "    for protein in al_prot:\n",
    "        my_id = protein.id\n",
    "        seq = ''\n",
    "        pos = 0\n",
    "        for c in protein.seq:\n",
    "            if c == '-':\n",
    "                seq += '---'\n",
    "            else:\n",
    "                seq += str(gene_seqs[my_id][pos:pos + 3])\n",
    "                pos += 3\n",
    "        al_genes.append(SeqRecord(Seq(seq), id=my_id))\n",
    "\n",
    "\n",
    "    SeqIO.write(al_genes, '%s_align.fasta' % gene, 'fasta')"
   ]
  },
  {
   "cell_type": "code",
   "execution_count": null,
   "metadata": {
    "collapsed": true
   },
   "outputs": [],
   "source": []
  }
 ],
 "metadata": {
  "kernelspec": {
   "display_name": "Python 2",
   "language": "python",
   "name": "python2"
  },
  "language_info": {
   "codemirror_mode": {
    "name": "ipython",
    "version": 2
   },
   "file_extension": ".py",
   "mimetype": "text/x-python",
   "name": "python",
   "nbconvert_exporter": "python",
   "pygments_lexer": "ipython2",
   "version": "2.7.9"
  }
 },
 "nbformat": 4,
 "nbformat_minor": 0
}
