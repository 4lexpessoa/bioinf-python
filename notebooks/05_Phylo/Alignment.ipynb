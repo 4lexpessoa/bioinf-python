{
 "cells": [
  {
   "cell_type": "code",
   "execution_count": 1,
   "metadata": {
    "collapsed": false
   },
   "outputs": [],
   "source": [
    "from __future__ import print_function\n",
    "import os\n",
    "\n",
    "import dendropy"
   ]
  },
  {
   "cell_type": "code",
   "execution_count": 2,
   "metadata": {
    "collapsed": false
   },
   "outputs": [],
   "source": [
    "ebov_dna = dendropy.DnaCharacterMatrix.get_from_path('ebov.fasta', schema='fasta', data_type='dna')"
   ]
  },
  {
   "cell_type": "markdown",
   "metadata": {},
   "source": [
    "## Extract proteins"
   ]
  },
  {
   "cell_type": "code",
   "execution_count": 4,
   "metadata": {
    "collapsed": false
   },
   "outputs": [],
   "source": [
    "prot_files = {}\n",
    "for feature in rec.feature_table:\n",
    "        if feature.key == 'CDS':\n",
    "            for qual in feature.qualifiers:\n",
    "                if qual.name == 'gene':\n",
    "                    prot_files[qual.value] = open('%s.fasta' % qual.value, 'wt')\n",
    "for rec in ebov_dna:\n",
    "    for feature in rec.feature_table:\n",
    "        if feature.key == 'CDS':\n",
    "            for qual in feature.qualifiers:\n",
    "                if qual.name == 'gene':\n",
    "                    gene_name = qual.value\n",
    "                elif qual.name == 'translation':\n",
    "                    protein_translation = qual.value\n",
    "            prot_files[gene_name].write('>%s\\n' % rec.locus)\n",
    "            prot_files[gene_name].write('%s\\n\\n' % protein_translation)\n",
    "for hdl in prot_files.values():\n",
    "    hdl.close()"
   ]
  },
  {
   "cell_type": "markdown",
   "metadata": {},
   "source": [
    "## Genome alignment"
   ]
  },
  {
   "cell_type": "code",
   "execution_count": 3,
   "metadata": {
    "collapsed": false
   },
   "outputs": [],
   "source": [
    "#mafft --localpair --maxiterate 1000 --reorder --ep 0.123 genbank.fasta  > out"
   ]
  },
  {
   "cell_type": "code",
   "execution_count": 24,
   "metadata": {
    "collapsed": false
   },
   "outputs": [
    {
     "name": "stdout",
     "output_type": "stream",
     "text": [
      "mafft --localpair --maxiterate 1000 --ep 0.123 --reorder sample.fasta\n"
     ]
    }
   ],
   "source": [
    "from Bio.Align.Applications import MafftCommandline\n",
    "mafft_cline = MafftCommandline(input='sample.fasta', ep=0.123, reorder=True, maxiterate=1000, localpair=True)\n",
    "print(mafft_cline)\n",
    "stdout, stderr = mafft_cline()\n",
    "with open('align.fasta', 'w') as w:\n",
    "    w.write(stdout)\n",
    "\n",
    "mafft_cline = MafftCommandline(input='ebov.fasta', ep=0.123, reorder=True, maxiterate=1000, localpair=True)\n",
    "stdout, stderr = mafft_cline()\n",
    "with open('align_ebov.fasta', 'w') as w:\n",
    "    w.write(stdout)\n",
    "\n",
    "mafft_cline = MafftCommandline(input='ebov_2014.fasta', ep=0.123, reorder=True, maxiterate=1000, localpair=True)\n",
    "stdout, stderr = mafft_cline()\n",
    "with open('align_ebov_2014.fasta', 'w') as w:\n",
    "    w.write(stdout)"
   ]
  },
  {
   "cell_type": "code",
   "execution_count": 25,
   "metadata": {
    "collapsed": false
   },
   "outputs": [
    {
     "data": {
      "text/plain": [
       "0"
      ]
     },
     "execution_count": 25,
     "metadata": {},
     "output_type": "execute_result"
    }
   ],
   "source": [
    "os.system('./trimal -automated1 -in align.fasta -out trim.fasta -fasta')\n",
    "os.system('./trimal -automated1 -in align_ebov.fasta -out trim_ebov.fasta -fasta')\n",
    "os.system('./trimal -automated1 -in align_ebov_2014.fasta -out trim_ebov_2014.fasta -fasta')"
   ]
  },
  {
   "cell_type": "markdown",
   "metadata": {},
   "source": [
    "## Protein alignment"
   ]
  },
  {
   "cell_type": "code",
   "execution_count": 8,
   "metadata": {
    "collapsed": false
   },
   "outputs": [
    {
     "name": "stdout",
     "output_type": "stream",
     "text": [
      "muscle -in NP_P.fasta\n",
      "muscle -in L_P.fasta\n",
      "muscle -in VP35_P.fasta\n",
      "muscle -in VP40_P.fasta\n"
     ]
    }
   ],
   "source": [
    "from Bio.Align.Applications import MuscleCommandline\n",
    "\n",
    "my_genes = ['NP', 'L', 'VP35', 'VP40']\n",
    "\n",
    "for gene in my_genes:\n",
    "    muscle_cline = MuscleCommandline(input='%s_P.fasta' % gene)\n",
    "    print(muscle_cline)\n",
    "    stdout, stderr = muscle_cline()\n",
    "    with open('%s_P_align.fasta' % gene, 'w') as w:\n",
    "        w.write(stdout)"
   ]
  },
  {
   "cell_type": "code",
   "execution_count": 17,
   "metadata": {
    "collapsed": false
   },
   "outputs": [],
   "source": [
    "from Bio import SeqIO\n",
    "from Bio.Seq import Seq\n",
    "from Bio.SeqRecord import SeqRecord\n",
    "from Bio.Alphabet import generic_protein\n",
    "\n",
    "for gene in my_genes:\n",
    "    gene_seqs = {}\n",
    "    unal_gene = SeqIO.parse('%s.fasta' % gene, 'fasta')\n",
    "    for rec in unal_gene:\n",
    "        gene_seqs[rec.id] = rec.seq\n",
    "\n",
    "    al_prot = SeqIO.parse('%s_P_align.fasta' % gene, 'fasta')\n",
    "    al_genes = []\n",
    "    for protein in al_prot:\n",
    "        my_id = protein.id\n",
    "        seq = ''\n",
    "        pos = 0\n",
    "        for c in protein.seq:\n",
    "            if c == '-':\n",
    "                seq += '---'\n",
    "            else:\n",
    "                seq += str(gene_seqs[my_id][pos:pos + 3])\n",
    "                pos += 3\n",
    "        al_genes.append(SeqRecord(Seq(seq), id=my_id))\n",
    "\n",
    "\n",
    "    SeqIO.write(al_genes, '%s_align.fasta' % gene, 'fasta')"
   ]
  },
  {
   "cell_type": "code",
   "execution_count": null,
   "metadata": {
    "collapsed": true
   },
   "outputs": [],
   "source": []
  }
 ],
 "metadata": {
  "kernelspec": {
   "display_name": "Python 2",
   "language": "python",
   "name": "python2"
  },
  "language_info": {
   "codemirror_mode": {
    "name": "ipython",
    "version": 2
   },
   "file_extension": ".py",
   "mimetype": "text/x-python",
   "name": "python",
   "nbconvert_exporter": "python",
   "pygments_lexer": "ipython2",
   "version": "2.7.9"
  }
 },
 "nbformat": 4,
 "nbformat_minor": 0
}
