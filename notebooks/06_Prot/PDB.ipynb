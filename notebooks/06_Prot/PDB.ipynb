{
 "metadata": {
  "name": "",
  "signature": "sha256:eb9e0e210c906f3f9c149cdf80f60a6cbdb32a63ae7d8e16c748b06ee99c7ba5"
 },
 "nbformat": 3,
 "nbformat_minor": 0,
 "worksheets": [
  {
   "cells": [
    {
     "cell_type": "code",
     "collapsed": false,
     "input": [
      "from __future__ import print_function\n",
      "from Bio import PDB"
     ],
     "language": "python",
     "metadata": {},
     "outputs": [],
     "prompt_number": 2
    },
    {
     "cell_type": "code",
     "collapsed": false,
     "input": [
      "repository = PDB.PDBList()\n",
      "repository.retrieve_pdb_file('1TUP', pdir='.')\n",
      "repository.retrieve_pdb_file('1OLG', pdir='.')"
     ],
     "language": "python",
     "metadata": {},
     "outputs": [
      {
       "output_type": "stream",
       "stream": "stdout",
       "text": [
        "Downloading PDB structure '1TUP'...\n",
        "Downloading PDB structure '1OLG'..."
       ]
      },
      {
       "output_type": "stream",
       "stream": "stdout",
       "text": [
        "\n"
       ]
      },
      {
       "metadata": {},
       "output_type": "pyout",
       "prompt_number": 3,
       "text": [
        "'./pdb1olg.ent'"
       ]
      }
     ],
     "prompt_number": 3
    },
    {
     "cell_type": "code",
     "collapsed": false,
     "input": [
      "parser = PDB.PDBParser()\n",
      "p53_1tup = parser.get_structure('P 53', 'pdb1tup.ent')\n",
      "p53_1olg = parser.get_structure('P 53', 'pdb1olg.ent')"
     ],
     "language": "python",
     "metadata": {},
     "outputs": [
      {
       "output_type": "stream",
       "stream": "stderr",
       "text": [
        "/home/tra/Dropbox/soft/biopython/Bio/PDB/StructureBuilder.py:87: PDBConstructionWarning: WARNING: Chain A is discontinuous at line 6146.\n",
        "  PDBConstructionWarning)\n",
        "/home/tra/Dropbox/soft/biopython/Bio/PDB/StructureBuilder.py:87: PDBConstructionWarning: WARNING: Chain B is discontinuous at line 6147.\n",
        "  PDBConstructionWarning)\n",
        "/home/tra/Dropbox/soft/biopython/Bio/PDB/StructureBuilder.py:87: PDBConstructionWarning: WARNING: Chain C is discontinuous at line 6148.\n",
        "  PDBConstructionWarning)\n",
        "/home/tra/Dropbox/soft/biopython/Bio/PDB/StructureBuilder.py:87: PDBConstructionWarning: WARNING: Chain E is discontinuous at line 6149.\n",
        "  PDBConstructionWarning)\n",
        "/home/tra/Dropbox/soft/biopython/Bio/PDB/StructureBuilder.py:87: PDBConstructionWarning: WARNING: Chain F is discontinuous at line 6171.\n",
        "  PDBConstructionWarning)\n",
        "/home/tra/Dropbox/soft/biopython/Bio/PDB/StructureBuilder.py:87: PDBConstructionWarning: WARNING: Chain A is discontinuous at line 6185.\n",
        "  PDBConstructionWarning)\n",
        "/home/tra/Dropbox/soft/biopython/Bio/PDB/StructureBuilder.py:87: PDBConstructionWarning: WARNING: Chain B is discontinuous at line 6383.\n",
        "  PDBConstructionWarning)\n",
        "/home/tra/Dropbox/soft/biopython/Bio/PDB/StructureBuilder.py:87: PDBConstructionWarning: WARNING: Chain C is discontinuous at line 6453.\n",
        "  PDBConstructionWarning)\n"
       ]
      }
     ],
     "prompt_number": 4
    },
    {
     "cell_type": "code",
     "collapsed": false,
     "input": [
      "def print_pdb_headers(headers, indent=0):\n",
      "    ind_text = ' ' * indent\n",
      "    for header, content in headers.items():\n",
      "        if type(content) == dict:\n",
      "            print('\\n%s%20s:' % (ind_text, header))\n",
      "            print_pdb_headers(content, indent + 4)\n",
      "            print()\n",
      "        elif type(content) == list:\n",
      "            print('%s%20s:' % (ind_text, header))\n",
      "            for elem in content:\n",
      "                print('%s%21s %s' % (ind_text, '->', elem))\n",
      "        else:\n",
      "            print('%s%20s: %s' % (ind_text, header, content))\n",
      "\n",
      "print_pdb_headers(p53_1tup.header)"
     ],
     "language": "python",
     "metadata": {},
     "outputs": [
      {
       "output_type": "stream",
       "stream": "stdout",
       "text": [
        "    structure_method: x-ray diffraction\n",
        "                head: antitumor protein/dna\n",
        "             journal: AUTH   Y.CHO,S.GORINA,P.D.JEFFREY,N.P.PAVLETICHTITL   CRYSTAL STRUCTURE OF A P53 TUMOR SUPPRESSOR-DNATITL 2 COMPLEX: UNDERSTANDING TUMORIGENIC MUTATIONS.REF    SCIENCE                       V. 265   346 1994REFN                   ISSN 0036-8075PMID   8023157\n",
        "   journal_reference: y.cho,s.gorina,p.d.jeffrey,n.p.pavletich crystal structure of a p53 tumor suppressor-dna complex: understanding tumorigenic mutations. science v. 265 346 1994 issn 0036-8075 8023157 \n",
        "\n",
        "            compound:\n",
        "\n",
        "                       1:\n",
        "                    molecule: dna (5'-d(*tp*tp*tp*cp*cp*tp*ap*gp*ap*cp*tp*tp*gp*cp*cp*cp*a p*ap*tp*tp*a)-3') \n",
        "                        misc: \n",
        "                  engineered: yes\n",
        "                       chain: e\n",
        "\n",
        "\n",
        "                       3:\n",
        "                    molecule: protein (p53 tumor suppressor )\n",
        "                        misc: \n",
        "                  engineered: yes\n",
        "                       chain: a, b, c\n",
        "\n",
        "\n",
        "                       2:\n",
        "                    molecule: dna (5'-d(*ap*tp*ap*ap*tp*tp*gp*gp*gp*cp*ap*ap*gp*tp*cp*tp*a p*gp*gp*ap*a)-3') \n",
        "                        misc: \n",
        "                  engineered: yes\n",
        "                       chain: f\n",
        "\n",
        "\n",
        "            keywords: antigen p53, antitumor protein/dna complex\n",
        "                name:  tumor suppressor p53 complexed with dna\n",
        "              author: Y.Cho,S.Gorina,P.D.Jeffrey,N.P.Pavletich\n",
        "     deposition_date: 1995-07-11\n",
        "        release_date: 1995-07-11\n",
        "\n",
        "              source:\n",
        "\n",
        "                       1:\n",
        "                   synthetic: yes\n",
        "                        misc: \n",
        "\n",
        "\n",
        "                       3:\n",
        "           expression_system: escherichia coli\n",
        "        expression_system_taxid: 562\n",
        "         organism_scientific: homo sapiens\n",
        "                        misc: \n",
        "                        cell: human vulva carcinoma\n",
        "        expression_system_plasmid: pet3d\n",
        "                   cell_line: a431\n",
        "              organism_taxid: 9606\n",
        "             organism_common: human\n",
        "\n",
        "\n",
        "                       2:\n",
        "                   synthetic: yes\n",
        "                        misc: \n",
        "\n",
        "\n",
        "          resolution: 2.2\n",
        " structure_reference:\n",
        "                   -> n.p.pavletich,k.a.chambers,c.o.pabo the dna-binding domain of p53 contains the four conserved regions and the major mutation hot spots genes dev. v. 7 2556 1993 issn 0890-9369 \n",
        "                   -> b.vogelstein,k.w.kinzler p53 function and dysfunction cell(cambridge,mass.) v. 70 523 1992 issn 0092-8674 \n"
       ]
      }
     ],
     "prompt_number": 14
    },
    {
     "cell_type": "code",
     "collapsed": false,
     "input": [
      "print(dir(p53_1tup))\n"
     ],
     "language": "python",
     "metadata": {},
     "outputs": [
      {
       "output_type": "stream",
       "stream": "stdout",
       "text": [
        "['__class__', '__contains__', '__delattr__', '__delitem__', '__dict__', '__doc__', '__format__', '__getattribute__', '__getitem__', '__hash__', '__init__', '__iter__', '__len__', '__module__', '__new__', '__reduce__', '__reduce_ex__', '__repr__', '__setattr__', '__sizeof__', '__str__', '__subclasshook__', '__weakref__', '_sort', 'add', 'child_dict', 'child_list', 'copy', 'detach_child', 'detach_parent', 'full_id', 'get_atoms', 'get_chains', 'get_full_id', 'get_id', 'get_iterator', 'get_level', 'get_list', 'get_parent', 'get_residues', 'has_id', 'header', 'id', 'insert', 'level', 'parent', 'set_parent', 'transform', 'xtra']\n"
       ]
      }
     ],
     "prompt_number": 6
    },
    {
     "cell_type": "code",
     "collapsed": false,
     "input": [
      "from Bio.SeqIO import PdbIO, FastaIO\n",
      "\n",
      "def get_fasta(pdb_file, fasta_file):\n",
      "    fasta_writer = FastaIO.FastaWriter(fasta_file)\n",
      "    fasta_writer.write_header()\n",
      "    for rec in PdbIO.PdbSeqresIterator(pdb_file):\n",
      "        if len(rec.seq) == 0:\n",
      "            continue\n",
      "        print(rec.id, rec.seq, len(rec.seq))\n",
      "        fasta_writer.write_record(rec)\n",
      "        \n",
      "get_fasta(open('pdb1tup.ent'), open('1tup.fasta', 'w'))\n",
      "get_fasta(open('pdb1olg.ent'), open('1olg.fasta', 'w'))"
     ],
     "language": "python",
     "metadata": {},
     "outputs": [
      {
       "output_type": "stream",
       "stream": "stdout",
       "text": [
        "1TUP:A SSSVPSQKTYQGSYGFRLGFLHSGTAKSVTCTYSPALNKMFCQLAKTCPVQLWVDSTPPPGTRVRAMAIYKQSQHMTEVVRRCPHHERCSDSDGLAPPQHLIRVEGNLRVEYLDDRNTFRHSVVVPYEPPEVGSDCTTIHYNYMCNSSCMGGMNRRPILTIITLEDSSGNLLGRNSFEVRVCACPGRDRRTEEENLRKKGEPHHELPPGSTKRALPNNT 219\n",
        "1TUP:B SSSVPSQKTYQGSYGFRLGFLHSGTAKSVTCTYSPALNKMFCQLAKTCPVQLWVDSTPPPGTRVRAMAIYKQSQHMTEVVRRCPHHERCSDSDGLAPPQHLIRVEGNLRVEYLDDRNTFRHSVVVPYEPPEVGSDCTTIHYNYMCNSSCMGGMNRRPILTIITLEDSSGNLLGRNSFEVRVCACPGRDRRTEEENLRKKGEPHHELPPGSTKRALPNNT 219\n",
        "1TUP:C SSSVPSQKTYQGSYGFRLGFLHSGTAKSVTCTYSPALNKMFCQLAKTCPVQLWVDSTPPPGTRVRAMAIYKQSQHMTEVVRRCPHHERCSDSDGLAPPQHLIRVEGNLRVEYLDDRNTFRHSVVVPYEPPEVGSDCTTIHYNYMCNSSCMGGMNRRPILTIITLEDSSGNLLGRNSFEVRVCACPGRDRRTEEENLRKKGEPHHELPPGSTKRALPNNT 219\n",
        "1OLG:A"
       ]
      },
      {
       "output_type": "stream",
       "stream": "stdout",
       "text": [
        " KKKPLDGEYFTLQIRGRERFEMFRELNEALELKDAQAGKEPG 42\n",
        "1OLG:B KKKPLDGEYFTLQIRGRERFEMFRELNEALELKDAQAGKEPG 42\n",
        "1OLG:C KKKPLDGEYFTLQIRGRERFEMFRELNEALELKDAQAGKEPG 42\n",
        "1OLG:D KKKPLDGEYFTLQIRGRERFEMFRELNEALELKDAQAGKEPG 42\n"
       ]
      }
     ],
     "prompt_number": 13
    },
    {
     "cell_type": "code",
     "collapsed": false,
     "input": [
      "for model in p53_1tup:\n",
      "    print(model)\n",
      "    for chain in model:\n",
      "        print(chain.id, len(chain))\n",
      "        #for residue in chain:\n",
      "        #    print(residue)\n",
      "        #    for atom in residue:\n",
      "        #        pass# print atom\n",
      "for model in p53_1olg:\n",
      "    print(model)\n",
      "    for chain in model:\n",
      "        print(chain.id, len(chain))"
     ],
     "language": "python",
     "metadata": {},
     "outputs": [
      {
       "output_type": "stream",
       "stream": "stdout",
       "text": [
        "<Model id=0>\n",
        "E 43\n",
        "F 35\n",
        "A 395\n",
        "B 265\n",
        "C 276\n",
        "<Model id=0>\n",
        "A 42\n",
        "B 42\n",
        "C 42\n",
        "D 42\n"
       ]
      }
     ],
     "prompt_number": 16
    },
    {
     "cell_type": "code",
     "collapsed": false,
     "input": [],
     "language": "python",
     "metadata": {},
     "outputs": []
    }
   ],
   "metadata": {}
  }
 ]
}