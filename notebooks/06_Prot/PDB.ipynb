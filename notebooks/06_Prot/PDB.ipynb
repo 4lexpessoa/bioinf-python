{
 "metadata": {
  "name": "",
  "signature": "sha256:d34f4818d894e72bd9bbad58ff45bdc60c508d87c00c451fb4fe683c74b0646d"
 },
 "nbformat": 3,
 "nbformat_minor": 0,
 "worksheets": [
  {
   "cells": [
    {
     "cell_type": "code",
     "collapsed": false,
     "input": [
      "from __future__ import print_function\n",
      "from Bio import PDB"
     ],
     "language": "python",
     "metadata": {},
     "outputs": [],
     "prompt_number": 10
    },
    {
     "cell_type": "code",
     "collapsed": false,
     "input": [
      "repository = PDB.PDBList()\n",
      "repository.retrieve_pdb_file('1TUP', pdir='.')"
     ],
     "language": "python",
     "metadata": {},
     "outputs": [
      {
       "output_type": "stream",
       "stream": "stdout",
       "text": [
        "Downloading PDB structure '1TUP'...\n"
       ]
      },
      {
       "metadata": {},
       "output_type": "pyout",
       "prompt_number": 5,
       "text": [
        "'./pdb1tup.ent'"
       ]
      }
     ],
     "prompt_number": 5
    },
    {
     "cell_type": "code",
     "collapsed": false,
     "input": [
      "parser = PDB.PDBParser()\n",
      "p53 = parser.get_structure('P 53', 'pdb1tup.ent')"
     ],
     "language": "python",
     "metadata": {},
     "outputs": [],
     "prompt_number": 9
    },
    {
     "cell_type": "code",
     "collapsed": false,
     "input": [
      "def print_pdb_headers(headers, indent=0):\n",
      "    ind_text = ' ' * indent\n",
      "    for header, content in headers.items():\n",
      "        if type(content) == dict:\n",
      "            print('\\n%s%20s:' % (ind_text, header))\n",
      "            print_pdb_headers(content, indent + 4)\n",
      "            print()\n",
      "        elif type(content) == list:\n",
      "            print('%s%20s: %s' % (ind_text, header, content))\n",
      "        else:\n",
      "            print('%s%20s: %s' % (ind_text, header, content))\n",
      "\n",
      "print_pdb_headers(p53.header)\n"
     ],
     "language": "python",
     "metadata": {},
     "outputs": [
      {
       "output_type": "stream",
       "stream": "stdout",
       "text": [
        "    structure_method: x-ray diffraction\n",
        "                head: antitumor protein/dna\n",
        "             journal: AUTH   Y.CHO,S.GORINA,P.D.JEFFREY,N.P.PAVLETICHTITL   CRYSTAL STRUCTURE OF A P53 TUMOR SUPPRESSOR-DNATITL 2 COMPLEX: UNDERSTANDING TUMORIGENIC MUTATIONS.REF    SCIENCE                       V. 265   346 1994REFN                   ISSN 0036-8075PMID   8023157\n",
        "   journal_reference: y.cho,s.gorina,p.d.jeffrey,n.p.pavletich crystal structure of a p53 tumor suppressor-dna complex: understanding tumorigenic mutations. science v. 265 346 1994 issn 0036-8075 8023157 \n",
        "\n",
        "            compound:\n",
        "\n",
        "                       1:\n",
        "                    molecule: dna (5'-d(*tp*tp*tp*cp*cp*tp*ap*gp*ap*cp*tp*tp*gp*cp*cp*cp*a p*ap*tp*tp*a)-3') \n",
        "                        misc: \n",
        "                  engineered: yes\n",
        "                       chain: e\n",
        "\n",
        "                       3:\n",
        "                    molecule: protein (p53 tumor suppressor )\n",
        "                        misc: \n",
        "                  engineered: yes\n",
        "                       chain: a, b, c\n",
        "\n",
        "                       2:\n",
        "                    molecule: dna (5'-d(*ap*tp*ap*ap*tp*tp*gp*gp*gp*cp*ap*ap*gp*tp*cp*tp*a p*gp*gp*ap*a)-3') \n",
        "                        misc: \n",
        "                  engineered: yes\n",
        "                       chain: f\n",
        "            keywords: antigen p53, antitumor protein/dna complex\n",
        "                name:  tumor suppressor p53 complexed with dna\n",
        "              author: Y.Cho,S.Gorina,P.D.Jeffrey,N.P.Pavletich\n",
        "     deposition_date: 1995-07-11\n",
        "        release_date: 1995-07-11\n",
        "\n",
        "              source:\n",
        "\n",
        "                       1:\n",
        "                   synthetic: yes\n",
        "                        misc: \n",
        "\n",
        "                       3:\n",
        "           expression_system: escherichia coli\n",
        "        expression_system_taxid: 562\n",
        "         organism_scientific: homo sapiens\n",
        "                        misc: \n",
        "                        cell: human vulva carcinoma\n",
        "        expression_system_plasmid: pet3d\n",
        "                   cell_line: a431\n",
        "              organism_taxid: 9606\n",
        "             organism_common: human\n",
        "\n",
        "                       2:\n",
        "                   synthetic: yes\n",
        "                        misc: \n",
        "          resolution: 2.2\n",
        " structure_reference: ['n.p.pavletich,k.a.chambers,c.o.pabo the dna-binding domain of p53 contains the four conserved regions and the major mutation hot spots genes dev. v. 7 2556 1993 issn 0890-9369 ', 'b.vogelstein,k.w.kinzler p53 function and dysfunction cell(cambridge,mass.) v. 70 523 1992 issn 0092-8674 ']\n"
       ]
      }
     ],
     "prompt_number": 27
    },
    {
     "cell_type": "code",
     "collapsed": false,
     "input": [],
     "language": "python",
     "metadata": {},
     "outputs": []
    }
   ],
   "metadata": {}
  }
 ]
}