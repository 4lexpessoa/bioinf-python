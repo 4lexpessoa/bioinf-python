{
 "metadata": {
  "name": "",
  "signature": "sha256:f96ba8a5e15d8bcbc7edbb34fa8ea92e240a9071863f541bcd73d011b0d3607a"
 },
 "nbformat": 3,
 "nbformat_minor": 0,
 "worksheets": [
  {
   "cells": [
    {
     "cell_type": "code",
     "collapsed": false,
     "input": [
      "#Water and H (absence of H)\n",
      "from __future__ import print_function\n",
      "\n",
      "import math\n",
      "\n",
      "from Bio import PDB"
     ],
     "language": "python",
     "metadata": {},
     "outputs": [],
     "prompt_number": 2
    },
    {
     "cell_type": "code",
     "collapsed": false,
     "input": [
      "repository = PDB.PDBList()\n",
      "parser = PDB.PDBParser()\n",
      "repository.retrieve_pdb_file('1TUP', pdir='.')\n",
      "p53_1tup = parser.get_structure('P 53', 'pdb1tup.ent')"
     ],
     "language": "python",
     "metadata": {},
     "outputs": [
      {
       "output_type": "stream",
       "stream": "stdout",
       "text": [
        "Structure exists: './pdb1tup.ent' \n"
       ]
      },
      {
       "output_type": "stream",
       "stream": "stderr",
       "text": [
        "/home/tra/Dropbox/soft/biopython/Bio/PDB/StructureBuilder.py:87: PDBConstructionWarning: WARNING: Chain A is discontinuous at line 6146.\n",
        "  PDBConstructionWarning)\n",
        "/home/tra/Dropbox/soft/biopython/Bio/PDB/StructureBuilder.py:87: PDBConstructionWarning: WARNING: Chain B is discontinuous at line 6147.\n",
        "  PDBConstructionWarning)\n",
        "/home/tra/Dropbox/soft/biopython/Bio/PDB/StructureBuilder.py:87: PDBConstructionWarning: WARNING: Chain C is discontinuous at line 6148.\n",
        "  PDBConstructionWarning)\n",
        "/home/tra/Dropbox/soft/biopython/Bio/PDB/StructureBuilder.py:87: PDBConstructionWarning: WARNING: Chain E is discontinuous at line 6149.\n",
        "  PDBConstructionWarning)\n",
        "/home/tra/Dropbox/soft/biopython/Bio/PDB/StructureBuilder.py:87: PDBConstructionWarning: WARNING: Chain F is discontinuous at line 6171.\n",
        "  PDBConstructionWarning)\n",
        "/home/tra/Dropbox/soft/biopython/Bio/PDB/StructureBuilder.py:87: PDBConstructionWarning: WARNING: Chain A is discontinuous at line 6185.\n",
        "  PDBConstructionWarning)\n",
        "/home/tra/Dropbox/soft/biopython/Bio/PDB/StructureBuilder.py:87: PDBConstructionWarning: WARNING: Chain B is discontinuous at line 6383.\n",
        "  PDBConstructionWarning)\n",
        "/home/tra/Dropbox/soft/biopython/Bio/PDB/StructureBuilder.py:87: PDBConstructionWarning: WARNING: Chain C is discontinuous at line 6453.\n",
        "  PDBConstructionWarning)\n"
       ]
      }
     ],
     "prompt_number": 3
    },
    {
     "cell_type": "code",
     "collapsed": false,
     "input": [
      "#refer H\n",
      "for chain in p53_1tup.get_chains():\n",
      "    mass = 0.0\n",
      "    for residue in chain:\n",
      "        if residue.id[0] != ' ':\n",
      "            continue\n",
      "        for atom in residue:\n",
      "            mass += atom.mass\n",
      "    print(chain.id, mass)"
     ],
     "language": "python",
     "metadata": {},
     "outputs": [
      {
       "output_type": "stream",
       "stream": "stdout",
       "text": [
        "E 6068.04412\n",
        "F 6258.20442\n",
        "A 20482.873\n",
        "B 20302.7984\n",
        "C 20400.8354\n"
       ]
      }
     ],
     "prompt_number": 24
    },
    {
     "cell_type": "code",
     "collapsed": false,
     "input": [
      "def get_center(atoms, weight_fun=lambda atom: 1):\n",
      "    xsum = ysum = zsum = 0.0\n",
      "    acum = 0.0\n",
      "    for atom in atoms:\n",
      "        residue = atom.parent\n",
      "        if residue.id[0] != ' ':\n",
      "            continue\n",
      "        x, y, z = atom.coord\n",
      "        weight = weight_fun(atom)\n",
      "        acum += weight\n",
      "        xsum += weight * x\n",
      "        ysum += weight * y\n",
      "        zsum += weight * z\n",
      "    return xsum / acum, ysum / acum, zsum / acum"
     ],
     "language": "python",
     "metadata": {},
     "outputs": [],
     "prompt_number": 34
    },
    {
     "cell_type": "code",
     "collapsed": false,
     "input": [
      "print(get_center(p53_1tup.get_atoms()))\n",
      "print(get_center(p53_1tup.get_atoms(), weight_fun=lambda atom: atom.mass))"
     ],
     "language": "python",
     "metadata": {},
     "outputs": [
      {
       "output_type": "stream",
       "stream": "stdout",
       "text": [
        "(58.300564824296934, 15.487944512339944, 78.410394437565913)\n",
        "(58.142624214648599, 15.756292511026661, 78.399970634031547)\n"
       ]
      }
     ],
     "prompt_number": 35
    },
    {
     "cell_type": "code",
     "collapsed": false,
     "input": [],
     "language": "python",
     "metadata": {},
     "outputs": []
    }
   ],
   "metadata": {}
  }
 ]
}