{
 "metadata": {
  "name": "",
  "signature": "sha256:fde875cb732f3374a117e651fdfe628007445bcd06c0b64d650a326a0b1bdf63"
 },
 "nbformat": 3,
 "nbformat_minor": 0,
 "worksheets": [
  {
   "cells": [
    {
     "cell_type": "code",
     "collapsed": false,
     "input": [
      "from __future__ import print_function\n",
      "\n",
      "import math\n",
      "\n",
      "from Bio import PDB"
     ],
     "language": "python",
     "metadata": {},
     "outputs": [],
     "prompt_number": 1
    },
    {
     "cell_type": "code",
     "collapsed": false,
     "input": [
      "repository = PDB.PDBList()\n",
      "repository.retrieve_pdb_file('1TUP', pdir='.')"
     ],
     "language": "python",
     "metadata": {},
     "outputs": [
      {
       "output_type": "stream",
       "stream": "stdout",
       "text": [
        "Structure exists: './pdb1tup.ent' \n"
       ]
      },
      {
       "metadata": {},
       "output_type": "pyout",
       "prompt_number": 2,
       "text": [
        "'./pdb1tup.ent'"
       ]
      }
     ],
     "prompt_number": 2
    },
    {
     "cell_type": "code",
     "collapsed": false,
     "input": [
      "parser = PDB.PDBParser()\n",
      "p53_1tup = parser.get_structure('P 53', 'pdb1tup.ent')"
     ],
     "language": "python",
     "metadata": {},
     "outputs": [
      {
       "output_type": "stream",
       "stream": "stderr",
       "text": [
        "/home/tra/Dropbox/soft/biopython/Bio/PDB/StructureBuilder.py:87: PDBConstructionWarning: WARNING: Chain A is discontinuous at line 6146.\n",
        "  PDBConstructionWarning)\n",
        "/home/tra/Dropbox/soft/biopython/Bio/PDB/StructureBuilder.py:87: PDBConstructionWarning: WARNING: Chain B is discontinuous at line 6147.\n",
        "  PDBConstructionWarning)\n",
        "/home/tra/Dropbox/soft/biopython/Bio/PDB/StructureBuilder.py:87: PDBConstructionWarning: WARNING: Chain C is discontinuous at line 6148.\n",
        "  PDBConstructionWarning)\n",
        "/home/tra/Dropbox/soft/biopython/Bio/PDB/StructureBuilder.py:87: PDBConstructionWarning: WARNING: Chain E is discontinuous at line 6149.\n",
        "  PDBConstructionWarning)\n",
        "/home/tra/Dropbox/soft/biopython/Bio/PDB/StructureBuilder.py:87: PDBConstructionWarning: WARNING: Chain F is discontinuous at line 6171.\n",
        "  PDBConstructionWarning)\n",
        "/home/tra/Dropbox/soft/biopython/Bio/PDB/StructureBuilder.py:87: PDBConstructionWarning: WARNING: Chain A is discontinuous at line 6185.\n",
        "  PDBConstructionWarning)\n",
        "/home/tra/Dropbox/soft/biopython/Bio/PDB/StructureBuilder.py:87: PDBConstructionWarning: WARNING: Chain B is discontinuous at line 6383.\n",
        "  PDBConstructionWarning)\n",
        "/home/tra/Dropbox/soft/biopython/Bio/PDB/StructureBuilder.py:87: PDBConstructionWarning: WARNING: Chain C is discontinuous at line 6453.\n",
        "  PDBConstructionWarning)\n"
       ]
      }
     ],
     "prompt_number": 3
    },
    {
     "cell_type": "code",
     "collapsed": false,
     "input": [
      "dir(p53_1tup)"
     ],
     "language": "python",
     "metadata": {},
     "outputs": [
      {
       "metadata": {},
       "output_type": "pyout",
       "prompt_number": 4,
       "text": [
        "['__class__',\n",
        " '__contains__',\n",
        " '__delattr__',\n",
        " '__delitem__',\n",
        " '__dict__',\n",
        " '__doc__',\n",
        " '__format__',\n",
        " '__getattribute__',\n",
        " '__getitem__',\n",
        " '__hash__',\n",
        " '__init__',\n",
        " '__iter__',\n",
        " '__len__',\n",
        " '__module__',\n",
        " '__new__',\n",
        " '__reduce__',\n",
        " '__reduce_ex__',\n",
        " '__repr__',\n",
        " '__setattr__',\n",
        " '__sizeof__',\n",
        " '__str__',\n",
        " '__subclasshook__',\n",
        " '__weakref__',\n",
        " '_sort',\n",
        " 'add',\n",
        " 'child_dict',\n",
        " 'child_list',\n",
        " 'copy',\n",
        " 'detach_child',\n",
        " 'detach_parent',\n",
        " 'full_id',\n",
        " 'get_atoms',\n",
        " 'get_chains',\n",
        " 'get_full_id',\n",
        " 'get_id',\n",
        " 'get_iterator',\n",
        " 'get_level',\n",
        " 'get_list',\n",
        " 'get_parent',\n",
        " 'get_residues',\n",
        " 'has_id',\n",
        " 'header',\n",
        " 'id',\n",
        " 'insert',\n",
        " 'level',\n",
        " 'parent',\n",
        " 'set_parent',\n",
        " 'transform',\n",
        " 'xtra']"
       ]
      }
     ],
     "prompt_number": 4
    },
    {
     "cell_type": "code",
     "collapsed": false,
     "input": [
      "zns = []\n",
      "for atom in p53_1tup.get_atoms():\n",
      "    if atom.element == 'ZN':\n",
      "        #print(atom, dir(atom), atom.mass, atom.element, atom.coord[0])\n",
      "        zns.append(atom)\n",
      "for zn in zns:\n",
      "        print(zn, zn.coord)"
     ],
     "language": "python",
     "metadata": {},
     "outputs": [
      {
       "output_type": "stream",
       "stream": "stdout",
       "text": [
        "<Atom ZN> [ 58.10800171  23.24200058  57.42399979]\n",
        "<Atom ZN> [ 60.10800171  17.9810009   75.93099976]\n",
        "<Atom ZN> [ 33.65299988   0.403       74.11499786]\n"
       ]
      }
     ],
     "prompt_number": 51
    },
    {
     "cell_type": "code",
     "collapsed": false,
     "input": [
      "#Suggest a pymol viewing"
     ],
     "language": "python",
     "metadata": {},
     "outputs": []
    },
    {
     "cell_type": "code",
     "collapsed": false,
     "input": [
      "#Try this in numba?\n",
      "def get_distance(pdb_struct, ref_atom, distance):\n",
      "    atoms = {}\n",
      "    rx, ry, rz = ref_atom.coord\n",
      "    for atom in pdb_struct.get_atoms():\n",
      "        if atom == ref_atom:\n",
      "            continue\n",
      "        x, y, z = atom.coord\n",
      "        my_dist = math.sqrt((x - rx)**2 + (y - ry)**2 + (z - rz)**2) \n",
      "        if my_dist < distance:\n",
      "            atoms[atom] = my_dist\n",
      "    return atoms"
     ],
     "language": "python",
     "metadata": {},
     "outputs": [],
     "prompt_number": 58
    },
    {
     "cell_type": "code",
     "collapsed": false,
     "input": [
      "for zn in zns:\n",
      "    print()\n",
      "    print(zn.coord)\n",
      "    atoms = get_distance(p53_1tup, zn, 4)\n",
      "    for atom, distance in atoms.items():\n",
      "        print(atom.element, distance, atom.coord)"
     ],
     "language": "python",
     "metadata": {},
     "outputs": [
      {
       "output_type": "stream",
       "stream": "stdout",
       "text": [
        "\n",
        "[ 58.10800171  23.24200058  57.42399979]\n",
        "C 3.85772919812 [ 61.14799881  25.06100082  55.89699936]\n",
        "C 3.45665374923 [ 58.88600159  20.86700058  55.0359993 ]\n",
        "C 3.06412055976 [ 58.04700089  22.03800011  54.60699844]\n",
        "N 1.99182735373 [ 57.75500107  23.07299995  55.47100067]\n",
        "S 2.22531584465 [ 56.91400146  25.05400085  57.91699982]\n",
        "C 3.62725094648 [ 61.61000061  24.08699989  57.00099945]\n",
        "S 2.27892096249 [ 60.31700134  23.31800079  57.97900009]\n",
        "C 2.92437196013 [ 56.99300003  23.94300079  54.81299973]\n",
        "C 3.08721447067 [ 57.20500183  25.09900093  59.71900177]\n",
        "C 3.40801176963 [ 57.77000046  21.2140007   60.14199829]\n",
        "S 2.32622437996 [ 57.06499863  21.45199966  58.48199844]"
       ]
      },
      {
       "output_type": "stream",
       "stream": "stdout",
       "text": [
        "\n",
        "\n",
        "[ 60.10800171  17.9810009   75.93099976]\n",
        "S 2.32547215821 [ 58.58599854  17.08200073  74.41999817]\n",
        "C 3.46720709671 [ 62.27199936  17.17399979  73.34500122]\n",
        "C 3.11391347252 [ 62.06100082  18.61499977  73.58999634]\n",
        "S 2.20704048852 [ 61.28699875  16.4470005   76.99299622]\n",
        "N 2.05645999722 [ 61.36600113  19.05599976  74.70999908]\n",
        "S 2.24232090692 [ 58.97800064  19.40200043  77.24700165]\n",
        "C 3.18032005125 [ 61.52099991  17.13599968  78.65200043]\n",
        "C 2.98523321742 [ 61.33200073  20.38199997  74.64700317]\n",
        "C 3.2038921042 [ 57.62400055  18.41699982  77.90699768]\n",
        "C 3.41769274437 [ 57.5929985   15.78299999  75.20700073]\n",
        "C 3.80512639027 [ 62.57300186  18.26300049  78.81600189]"
       ]
      },
      {
       "output_type": "stream",
       "stream": "stdout",
       "text": [
        "\n",
        "\n",
        "[ 33.65299988   0.403       74.11499786]\n",
        "S 2.37880142799 [ 32.94200134  -0.60699999  72.08200073]\n",
        "C 3.15756814671 [ 36.18299866  -0.46900001  72.43900299]\n",
        "C 2.98511466119 [ 36.22499847   0.98000002  72.71399689]\n",
        "N 2.09591300499 [ 35.24000168   1.60300004  73.45600128]\n",
        "N 3.8418381161 [ 32.61999893  -3.26699996  73.64199829]\n",
        "C 3.40762621232 [ 34.44200134  -0.639       77.26200104]\n",
        "S 2.13150441609 [ 32.39099884   1.93900001  74.88400269]\n",
        "C 3.203789888 [ 35.56900024   2.89400005  73.49199677]\n",
        "C 3.07685585317 [ 30.81999969   1.08200002  75.10500336]\n",
        "S 2.32042002279 [ 34.45299911  -1.23300004  75.5530014 ]\n",
        "C 3.42690033588 [ 31.43499947  -1.55700004  72.38800049]\n",
        "C 3.94050478004 [ 35.47399902   0.46200001  77.60900116]\n"
       ]
      }
     ],
     "prompt_number": 60
    },
    {
     "cell_type": "code",
     "collapsed": false,
     "input": [
      "for distance in [1, 2, 4, 8, 16, 32, 64, 128]:\n",
      "    my_atoms = []\n",
      "    for zn in zns:\n",
      "        atoms = get_distance(p53_1tup, zn, distance)\n",
      "        my_atoms.append(len(atoms))\n",
      "    print(distance, my_atoms)"
     ],
     "language": "python",
     "metadata": {},
     "outputs": [
      {
       "output_type": "stream",
       "stream": "stdout",
       "text": [
        "1 [0, 0, 0]\n",
        "2"
       ]
      },
      {
       "output_type": "stream",
       "stream": "stdout",
       "text": [
        " [1, 0, 0]\n",
        "4"
       ]
      },
      {
       "output_type": "stream",
       "stream": "stdout",
       "text": [
        " [11, 11, 12]\n",
        "8"
       ]
      },
      {
       "output_type": "stream",
       "stream": "stdout",
       "text": [
        " [109, 113, 106]\n",
        "16"
       ]
      },
      {
       "output_type": "stream",
       "stream": "stdout",
       "text": [
        " [523, 721, 487]\n",
        "32"
       ]
      },
      {
       "output_type": "stream",
       "stream": "stdout",
       "text": [
        " [2381, 3493, 2053]\n",
        "64"
       ]
      },
      {
       "output_type": "stream",
       "stream": "stdout",
       "text": [
        " [5800, 5827, 5501]\n",
        "128"
       ]
      },
      {
       "output_type": "stream",
       "stream": "stdout",
       "text": [
        " [5827, 5827, 5827]\n"
       ]
      }
     ],
     "prompt_number": 63
    },
    {
     "cell_type": "code",
     "collapsed": false,
     "input": [
      "%timeit get_distance(p53_1tup, zns[0], 4.0)"
     ],
     "language": "python",
     "metadata": {},
     "outputs": [
      {
       "output_type": "stream",
       "stream": "stdout",
       "text": [
        "10 loops, best of 3: 39.1 ms per loop\n"
       ]
      }
     ],
     "prompt_number": 65
    },
    {
     "cell_type": "code",
     "collapsed": false,
     "input": [
      "def get_distance_alternative(pdb_struct, ref_atom, distance):\n",
      "    atoms = {}\n",
      "    rx, ry, rz = ref_atom.coord\n",
      "    for atom in pdb_struct.get_atoms():\n",
      "        if atom == ref_atom:\n",
      "            continue\n",
      "        x, y, z = atom.coord\n",
      "        if abs(x - rx) > distance or abs(y - ry) > distance or abs(z - rz) > distance:\n",
      "            continue\n",
      "        my_dist = math.sqrt((x - rx)**2 + (y - ry)**2 + (z - rz)**2) \n",
      "        if my_dist < distance:\n",
      "            atoms[atom] = my_dist\n",
      "    return atoms"
     ],
     "language": "python",
     "metadata": {},
     "outputs": [],
     "prompt_number": 66
    },
    {
     "cell_type": "code",
     "collapsed": false,
     "input": [
      "%timeit get_distance_alternative(p53_1tup, zns[0], 4.0)"
     ],
     "language": "python",
     "metadata": {},
     "outputs": [
      {
       "output_type": "stream",
       "stream": "stdout",
       "text": [
        "100 loops, best of 3: 13.4 ms per loop\n"
       ]
      }
     ],
     "prompt_number": 67
    },
    {
     "cell_type": "code",
     "collapsed": false,
     "input": [
      "for distance in [1, 4, 16, 64, 128]:\n",
      "    %timeit get_distance(p53_1tup, zns[0], distance)"
     ],
     "language": "python",
     "metadata": {},
     "outputs": [
      {
       "output_type": "stream",
       "stream": "stdout",
       "text": [
        "10 loops, best of 3: 39.8 ms per loop\n",
        "10 loops, best of 3: 39.2 ms per loop"
       ]
      },
      {
       "output_type": "stream",
       "stream": "stdout",
       "text": [
        "\n",
        "10 loops, best of 3: 39.1 ms per loop"
       ]
      },
      {
       "output_type": "stream",
       "stream": "stdout",
       "text": [
        "\n",
        "10 loops, best of 3: 40.2 ms per loop"
       ]
      },
      {
       "output_type": "stream",
       "stream": "stdout",
       "text": [
        "\n",
        "10 loops, best of 3: 40.2 ms per loop"
       ]
      },
      {
       "output_type": "stream",
       "stream": "stdout",
       "text": [
        "\n"
       ]
      }
     ],
     "prompt_number": 71
    },
    {
     "cell_type": "code",
     "collapsed": false,
     "input": [
      "for distance in [1, 4, 16, 64, 128]:\n",
      "    %timeit get_distance_alternative(p53_1tup, zns[0], distance)"
     ],
     "language": "python",
     "metadata": {},
     "outputs": [
      {
       "output_type": "stream",
       "stream": "stdout",
       "text": [
        "100 loops, best of 3: 13.5 ms per loop\n",
        "100 loops, best of 3: 14.7 ms per loop"
       ]
      },
      {
       "output_type": "stream",
       "stream": "stdout",
       "text": [
        "\n",
        "10 loops, best of 3: 24.2 ms per loop"
       ]
      },
      {
       "output_type": "stream",
       "stream": "stdout",
       "text": [
        "\n",
        "10 loops, best of 3: 61.4 ms per loop"
       ]
      },
      {
       "output_type": "stream",
       "stream": "stdout",
       "text": [
        "\n",
        "10 loops, best of 3: 62 ms per loop"
       ]
      },
      {
       "output_type": "stream",
       "stream": "stdout",
       "text": [
        "\n"
       ]
      }
     ],
     "prompt_number": 72
    },
    {
     "cell_type": "code",
     "collapsed": false,
     "input": [
      "#for interesting distances"
     ],
     "language": "python",
     "metadata": {},
     "outputs": []
    }
   ],
   "metadata": {}
  }
 ]
}