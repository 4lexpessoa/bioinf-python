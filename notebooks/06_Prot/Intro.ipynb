{
 "metadata": {
  "name": "",
  "signature": "sha256:2dc6e5abe9fa8c2ce5cd565acae6d9e00f1e94911675918fbe98b7fac6d9b028"
 },
 "nbformat": 3,
 "nbformat_minor": 0,
 "worksheets": [
  {
   "cells": [
    {
     "cell_type": "code",
     "collapsed": false,
     "input": [
      "!wget http://www.rcsb.org/pdb/files/1TUP.pdb"
     ],
     "language": "python",
     "metadata": {},
     "outputs": [
      {
       "output_type": "stream",
       "stream": "stdout",
       "text": [
        "--2015-02-18 18:22:22--  http://www.rcsb.org/pdb/files/1TUP.pdb\r\n",
        "Resolving www.rcsb.org (www.rcsb.org)... 128.6.70.10\r\n",
        "Connecting to www.rcsb.org (www.rcsb.org)|128.6.70.10|:80... "
       ]
      },
      {
       "output_type": "stream",
       "stream": "stdout",
       "text": [
        "connected.\r\n",
        "HTTP request sent, awaiting response... "
       ]
      },
      {
       "output_type": "stream",
       "stream": "stdout",
       "text": [
        "200 OK\r\n",
        "Length: unspecified [text/plain]\r\n",
        "Saving to: \u20181TUP.pdb\u2019\r\n",
        "\r\n",
        "\r",
        "    [<=>                                    ] 0           --.-K/s              "
       ]
      },
      {
       "output_type": "stream",
       "stream": "stdout",
       "text": [
        "\r",
        "    [ <=>                                   ] 61,140       298KB/s             "
       ]
      },
      {
       "output_type": "stream",
       "stream": "stdout",
       "text": [
        "\r",
        "    [  <=>                                  ] 211,700      516KB/s             "
       ]
      },
      {
       "output_type": "stream",
       "stream": "stdout",
       "text": [
        "\r",
        "    [   <=>                                 ] 357,804      547KB/s             "
       ]
      },
      {
       "output_type": "stream",
       "stream": "stdout",
       "text": [
        "\r",
        "    [    <=>                                ] 530,469      700KB/s   in 0.7s   \r\n",
        "\r\n",
        "2015-02-18 18:22:23 (700 KB/s) - \u20181TUP.pdb\u2019 saved [530469]\r\n",
        "\r\n"
       ]
      }
     ],
     "prompt_number": 1
    },
    {
     "cell_type": "code",
     "collapsed": false,
     "input": [
      "from Bio import PDB\n",
      "parser = PDB.PDBParser()"
     ],
     "language": "python",
     "metadata": {},
     "outputs": [],
     "prompt_number": 5
    },
    {
     "cell_type": "code",
     "collapsed": false,
     "input": [
      "structure = parser.get_structure('P 53', '1TUP.pdb')"
     ],
     "language": "python",
     "metadata": {},
     "outputs": [
      {
       "output_type": "stream",
       "stream": "stderr",
       "text": [
        "/home/tra/Dropbox/soft/biopython/Bio/PDB/StructureBuilder.py:87: PDBConstructionWarning: WARNING: Chain A is discontinuous at line 6146.\n",
        "  PDBConstructionWarning)\n",
        "/home/tra/Dropbox/soft/biopython/Bio/PDB/StructureBuilder.py:87: PDBConstructionWarning: WARNING: Chain B is discontinuous at line 6147.\n",
        "  PDBConstructionWarning)\n",
        "/home/tra/Dropbox/soft/biopython/Bio/PDB/StructureBuilder.py:87: PDBConstructionWarning: WARNING: Chain C is discontinuous at line 6148.\n",
        "  PDBConstructionWarning)\n",
        "/home/tra/Dropbox/soft/biopython/Bio/PDB/StructureBuilder.py:87: PDBConstructionWarning: WARNING: Chain E is discontinuous at line 6149.\n",
        "  PDBConstructionWarning)\n",
        "/home/tra/Dropbox/soft/biopython/Bio/PDB/StructureBuilder.py:87: PDBConstructionWarning: WARNING: Chain F is discontinuous at line 6171.\n",
        "  PDBConstructionWarning)\n",
        "/home/tra/Dropbox/soft/biopython/Bio/PDB/StructureBuilder.py:87: PDBConstructionWarning: WARNING: Chain A is discontinuous at line 6185.\n",
        "  PDBConstructionWarning)\n",
        "/home/tra/Dropbox/soft/biopython/Bio/PDB/StructureBuilder.py:87: PDBConstructionWarning: WARNING: Chain B is discontinuous at line 6383.\n",
        "  PDBConstructionWarning)\n",
        "/home/tra/Dropbox/soft/biopython/Bio/PDB/StructureBuilder.py:87: PDBConstructionWarning: WARNING: Chain C is discontinuous at line 6453.\n",
        "  PDBConstructionWarning)\n"
       ]
      }
     ],
     "prompt_number": 6
    },
    {
     "cell_type": "code",
     "collapsed": false,
     "input": [
      "print(dir(structure))\n",
      "structure.header"
     ],
     "language": "python",
     "metadata": {},
     "outputs": [
      {
       "output_type": "stream",
       "stream": "stdout",
       "text": [
        "['__class__', '__contains__', '__delattr__', '__delitem__', '__dict__', '__doc__', '__format__', '__getattribute__', '__getitem__', '__hash__', '__init__', '__iter__', '__len__', '__module__', '__new__', '__reduce__', '__reduce_ex__', '__repr__', '__setattr__', '__sizeof__', '__str__', '__subclasshook__', '__weakref__', '_sort', 'add', 'child_dict', 'child_list', 'copy', 'detach_child', 'detach_parent', 'full_id', 'get_atoms', 'get_chains', 'get_full_id', 'get_id', 'get_iterator', 'get_level', 'get_list', 'get_parent', 'get_residues', 'has_id', 'header', 'id', 'insert', 'level', 'parent', 'set_parent', 'transform', 'xtra']\n"
       ]
      },
      {
       "metadata": {},
       "output_type": "pyout",
       "prompt_number": 8,
       "text": [
        "{'author': 'Y.Cho,S.Gorina,P.D.Jeffrey,N.P.Pavletich',\n",
        " 'compound': {'1': {'chain': 'e',\n",
        "   'engineered': 'yes',\n",
        "   'misc': '',\n",
        "   'molecule': \"dna (5'-d(*tp*tp*tp*cp*cp*tp*ap*gp*ap*cp*tp*tp*gp*cp*cp*cp*a p*ap*tp*tp*a)-3') \"},\n",
        "  '2': {'chain': 'f',\n",
        "   'engineered': 'yes',\n",
        "   'misc': '',\n",
        "   'molecule': \"dna (5'-d(*ap*tp*ap*ap*tp*tp*gp*gp*gp*cp*ap*ap*gp*tp*cp*tp*a p*gp*gp*ap*a)-3') \"},\n",
        "  '3': {'chain': 'a, b, c',\n",
        "   'engineered': 'yes',\n",
        "   'misc': '',\n",
        "   'molecule': 'protein (p53 tumor suppressor )'}},\n",
        " 'deposition_date': '1995-07-11',\n",
        " 'head': 'antitumor protein/dna',\n",
        " 'journal': 'AUTH   Y.CHO,S.GORINA,P.D.JEFFREY,N.P.PAVLETICHTITL   CRYSTAL STRUCTURE OF A P53 TUMOR SUPPRESSOR-DNATITL 2 COMPLEX: UNDERSTANDING TUMORIGENIC MUTATIONS.REF    SCIENCE                       V. 265   346 1994REFN                   ISSN 0036-8075PMID   8023157',\n",
        " 'journal_reference': 'y.cho,s.gorina,p.d.jeffrey,n.p.pavletich crystal structure of a p53 tumor suppressor-dna complex: understanding tumorigenic mutations. science v. 265 346 1994 issn 0036-8075 8023157 ',\n",
        " 'keywords': 'antigen p53, antitumor protein/dna complex',\n",
        " 'name': ' tumor suppressor p53 complexed with dna',\n",
        " 'release_date': '1995-07-11',\n",
        " 'resolution': 2.2,\n",
        " 'source': {'1': {'misc': '', 'synthetic': 'yes'},\n",
        "  '2': {'misc': '', 'synthetic': 'yes'},\n",
        "  '3': {'cell': 'human vulva carcinoma',\n",
        "   'cell_line': 'a431',\n",
        "   'expression_system': 'escherichia coli',\n",
        "   'expression_system_plasmid': 'pet3d',\n",
        "   'expression_system_taxid': '562',\n",
        "   'misc': '',\n",
        "   'organism_common': 'human',\n",
        "   'organism_scientific': 'homo sapiens',\n",
        "   'organism_taxid': '9606'}},\n",
        " 'structure_method': 'x-ray diffraction',\n",
        " 'structure_reference': ['n.p.pavletich,k.a.chambers,c.o.pabo the dna-binding domain of p53 contains the four conserved regions and the major mutation hot spots genes dev. v. 7 2556 1993 issn 0890-9369 ',\n",
        "  'b.vogelstein,k.w.kinzler p53 function and dysfunction cell(cambridge,mass.) v. 70 523 1992 issn 0092-8674 ']}"
       ]
      }
     ],
     "prompt_number": 8
    },
    {
     "cell_type": "code",
     "collapsed": false,
     "input": [],
     "language": "python",
     "metadata": {},
     "outputs": []
    }
   ],
   "metadata": {}
  }
 ]
}