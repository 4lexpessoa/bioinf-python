{
 "metadata": {
  "name": "",
  "signature": "sha256:7e0608cfcabe276d302948eb1c27de6717c29f0ed76564c04f1c7d6fa9aa64f3"
 },
 "nbformat": 3,
 "nbformat_minor": 0,
 "worksheets": [
  {
   "cells": [
    {
     "cell_type": "code",
     "collapsed": false,
     "input": [
      "from Bio import Entrez, SeqIO"
     ],
     "language": "python",
     "metadata": {},
     "outputs": [],
     "prompt_number": 13
    },
    {
     "cell_type": "code",
     "collapsed": false,
     "input": [
      "Entrez.email = \"tiagoantao@gmail.com\" "
     ],
     "language": "python",
     "metadata": {},
     "outputs": [],
     "prompt_number": 2
    },
    {
     "cell_type": "code",
     "collapsed": false,
     "input": [
      "handle = Entrez.esearch(db=\"taxonomy\", term='\"Homo sapiens\"[Organism]')\n",
      "rec_list = Entrez.read(handle)\n",
      "if rec_list['RetMax'] < rec_list['Count']:\n",
      "    handle = Entrez.esearch(db=\"genome\", term='\"Homo sapiens\"[Organism]',\n",
      "                            retmax=rec_list['Count'])\n",
      "    rec_list = Entrez.read(handle)"
     ],
     "language": "python",
     "metadata": {},
     "outputs": [],
     "prompt_number": 21
    },
    {
     "cell_type": "code",
     "collapsed": false,
     "input": [
      "print(rec_list)"
     ],
     "language": "python",
     "metadata": {},
     "outputs": [
      {
       "output_type": "stream",
       "stream": "stdout",
       "text": [
        "{u'Count': '3', u'RetMax': '3', u'IdList': ['741158', '63221', '9606'], u'TranslationStack': [{u'Count': '3', u'Field': 'Organism', u'Term': '\"Homo sapiens\"[Organism]', u'Explode': 'N'}, 'GROUP'], u'TranslationSet': [], u'RetStart': '0', u'QueryTranslation': '\"Homo sapiens\"[Organism]'}\n"
       ]
      }
     ],
     "prompt_number": 22
    },
    {
     "cell_type": "code",
     "collapsed": false,
     "input": [
      "hdl = Entrez.efetch(db='nucleotide', id=['NC_000001.11'], rettype='fasta')\n",
      "recs = SeqIO.parse(hdl, 'fasta')"
     ],
     "language": "python",
     "metadata": {},
     "outputs": [],
     "prompt_number": 33
    },
    {
     "cell_type": "code",
     "collapsed": false,
     "input": [
      "w = open('human.fasta', 'wt')\n",
      "SeqIO.write(recs, w, 'fasta')\n",
      "w.close()"
     ],
     "language": "python",
     "metadata": {},
     "outputs": [],
     "prompt_number": 34
    },
    {
     "cell_type": "code",
     "collapsed": false,
     "input": [],
     "language": "python",
     "metadata": {},
     "outputs": []
    }
   ],
   "metadata": {}
  }
 ]
}