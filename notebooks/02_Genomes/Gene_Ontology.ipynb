{
 "metadata": {
  "name": "",
  "signature": "sha256:928312390a982a9c98ad9c031e35ef6ef0c5dc084cd8fd9d6556551fbc2d24ef"
 },
 "nbformat": 3,
 "nbformat_minor": 0,
 "worksheets": [
  {
   "cells": [
    {
     "cell_type": "heading",
     "level": 2,
     "metadata": {},
     "source": [
      "The cell below comes from the Orthology notebook"
     ]
    },
    {
     "cell_type": "code",
     "collapsed": false,
     "input": [
      "import requests\n",
      " \n",
      "server = 'http://rest.ensembl.org'\n",
      "\n",
      "def do_request(server, service, a1=None, a2=None, a3=None, **kwargs):\n",
      "    params = ''\n",
      "    for a in [a1, a2, a3]:\n",
      "        if a is not None:\n",
      "            params += '/' + a\n",
      "    req = requests.get('%s/%s%s' % (server, service, params),\n",
      "                       params=kwargs,\n",
      "                       headers={'Content-Type': 'application/json'})\n",
      " \n",
      "    if not req.ok:\n",
      "        req.raise_for_status()\n",
      "    return req.json()"
     ],
     "language": "python",
     "metadata": {},
     "outputs": [],
     "prompt_number": 3
    },
    {
     "cell_type": "code",
     "collapsed": false,
     "input": [
      "lct_id = 'ENSG00000115850'"
     ],
     "language": "python",
     "metadata": {},
     "outputs": [],
     "prompt_number": 5
    },
    {
     "cell_type": "code",
     "collapsed": false,
     "input": [
      "refs = do_request(server, 'xrefs/id', lct_id, external_db='GO', all_levels='1')\n",
      "print(refs)"
     ],
     "language": "python",
     "metadata": {},
     "outputs": [
      {
       "output_type": "stream",
       "stream": "stdout",
       "text": [
        "[{u'display_id': u'GO:0000016', u'description': u'lactase activity', u'db_display_name': u'GO', u'info_text': u'Generated via main', u'linkage_types': [u'TAS'], u'info_type': u'DEPENDENT', u'primary_id': u'GO:0000016', u'synonyms': [], u'version': u'0', u'dbname': u'GO'}, {u'display_id': u'GO:0004553', u'description': u'hydrolase activity, hydrolyzing O-glycosyl compounds', u'db_display_name': u'GO', u'info_text': u'Generated via main', u'linkage_types': [u'IEA'], u'info_type': u'DEPENDENT', u'primary_id': u'GO:0004553', u'synonyms': [], u'version': u'0', u'dbname': u'GO'}, {u'display_id': u'GO:0005886', u'description': u'plasma membrane', u'db_display_name': u'GO', u'info_text': u'Generated via main', u'linkage_types': [u'TAS'], u'info_type': u'DEPENDENT', u'primary_id': u'GO:0005886', u'synonyms': [], u'version': u'0', u'dbname': u'GO'}, {u'display_id': u'GO:0005887', u'description': u'integral component of plasma membrane', u'db_display_name': u'GO', u'info_text': u'Generated via main', u'linkage_types': [u'TAS'], u'info_type': u'DEPENDENT', u'primary_id': u'GO:0005887', u'synonyms': [], u'version': u'0', u'dbname': u'GO'}, {u'display_id': u'GO:0005975', u'description': u'carbohydrate metabolic process', u'db_display_name': u'GO', u'info_text': u'Generated via main', u'linkage_types': [u'TAS', u'IEA'], u'info_type': u'DEPENDENT', u'primary_id': u'GO:0005975', u'synonyms': [], u'version': u'0', u'dbname': u'GO'}, {u'display_id': u'GO:0016020', u'description': u'membrane', u'db_display_name': u'GO', u'info_text': u'Generated via main', u'linkage_types': [u'TAS'], u'info_type': u'DEPENDENT', u'primary_id': u'GO:0016020', u'synonyms': [], u'version': u'0', u'dbname': u'GO'}, {u'display_id': u'GO:0017042', u'description': u'glycosylceramidase activity', u'db_display_name': u'GO', u'info_text': u'Generated via main', u'linkage_types': [u'IEA'], u'info_type': u'DEPENDENT', u'primary_id': u'GO:0017042', u'synonyms': [], u'version': u'0', u'dbname': u'GO'}, {u'display_id': u'GO:0044245', u'description': u'polysaccharide digestion', u'db_display_name': u'GO', u'info_text': u'Generated via main', u'linkage_types': [u'TAS'], u'info_type': u'DEPENDENT', u'primary_id': u'GO:0044245', u'synonyms': [], u'version': u'0', u'dbname': u'GO'}, {u'display_id': u'GO:0044281', u'description': u'small molecule metabolic process', u'db_display_name': u'GO', u'info_text': u'Generated via main', u'linkage_types': [u'TAS'], u'info_type': u'DEPENDENT', u'primary_id': u'GO:0044281', u'synonyms': [], u'version': u'0', u'dbname': u'GO'}, {u'display_id': u'GO:0004553', u'description': u'hydrolase activity, hydrolyzing O-glycosyl compounds', u'db_display_name': u'GO', u'info_text': u'Generated via main', u'linkage_types': [u'IEA'], u'info_type': u'DEPENDENT', u'primary_id': u'GO:0004553', u'synonyms': [], u'version': u'0', u'dbname': u'GO'}, {u'display_id': u'GO:0005975', u'description': u'carbohydrate metabolic process', u'db_display_name': u'GO', u'info_text': u'Generated via main', u'linkage_types': [u'IEA'], u'info_type': u'DEPENDENT', u'primary_id': u'GO:0005975', u'synonyms': [], u'version': u'0', u'dbname': u'GO'}]\n"
       ]
      }
     ],
     "prompt_number": 7
    },
    {
     "cell_type": "code",
     "collapsed": false,
     "input": [
      "go_id = 'GO:0000016'\n",
      "refs = do_request(server, 'ontology/descendants', go_id)\n",
      "for go in refs:\n",
      "    print(go)"
     ],
     "language": "python",
     "metadata": {},
     "outputs": [
      {
       "output_type": "stream",
       "stream": "stdout",
       "text": [
        "{u'definition': u'\"Catalysis of the hydrolysis of any O-glycosyl bond.\" [GOC:mah]', u'name': u'hydrolase activity, hydrolyzing O-glycosyl compounds', u'subsets': [u'gosubset_prok'], u'namespace': u'molecular_function', u'accession': u'GO:0004553', u'synonyms': [u'\"O-glucosyl hydrolase activity\" []'], u'ontology': u'GO'}\n",
        "{u'definition': u'\"Catalysis of the hydrolysis of any glycosyl bond.\" [GOC:jl]', u'name': u'hydrolase activity, acting on glycosyl bonds', u'subsets': [u'goslim_generic', u'goslim_metagenomics', u'goslim_yeast', u'gosubset_prok'], u'namespace': u'molecular_function', u'accession': u'GO:0016798', u'synonyms': [u'\"glycosidase activity\" []', u'\"glycosylase\" []', u'\"N-glycosylase\" []'], u'ontology': u'GO'}\n",
        "{u'definition': u'\"Catalysis of the hydrolysis of various bonds, e.g. C-O, C-N, C-C, phosphoric anhydride bonds, etc. Hydrolase is the systematic name for any enzyme of EC class 3.\" [ISBN:0198506732]', u'name': u'hydrolase activity', u'subsets': [u'goslim_aspergillus', u'goslim_candida', u'goslim_metagenomics', u'goslim_pir', u'goslim_plant', u'goslim_yeast', u'gosubset_prok'], u'namespace': u'molecular_function', u'accession': u'GO:0016787', u'synonyms': [], u'ontology': u'GO'}\n",
        "{u'definition': u'\"Catalysis of a biochemical reaction at physiological temperatures. In biologically catalyzed reactions, the reactants are known as substrates, and the catalysts are naturally occurring macromolecular substances known as enzymes. Enzymes possess specific binding sites for substrates, and are usually composed wholly or largely of protein, but RNA that has catalytic activity (ribozyme) is often also regarded as enzymatic.\" [ISBN:0198506732]', u'name': u'catalytic activity', u'subsets': [u'goslim_pir', u'goslim_plant', u'gosubset_prok'], u'namespace': u'molecular_function', u'accession': u'GO:0003824', u'synonyms': [u'\"enzyme activity\" [GOC:dph, GOC:tb]'], u'ontology': u'GO'}\n",
        "{u'definition': u'\"Elemental activities, such as catalysis or binding, describing the actions of a gene product at the molecular level. A given gene product may exhibit one or more molecular functions.\" [GOC:go_curators]', u'name': u'molecular_function', u'subsets': [u'goslim_aspergillus', u'goslim_candida', u'goslim_generic', u'goslim_metagenomics', u'goslim_pir', u'goslim_plant', u'goslim_yeast', u'gosubset_prok'], u'namespace': u'molecular_function', u'accession': u'GO:0003674', u'synonyms': [u'\"molecular function\" []'], u'ontology': u'GO'}\n"
       ]
      }
     ],
     "prompt_number": 16
    },
    {
     "cell_type": "code",
     "collapsed": false,
     "input": [
      "refs = do_request(server, 'ontology/ancestors/chart', go_id)\n",
      "for go, bla in refs.items():\n",
      "    print()\n",
      "    print(go, bla)"
     ],
     "language": "python",
     "metadata": {},
     "outputs": [
      {
       "output_type": "stream",
       "stream": "stdout",
       "text": [
        "()\n",
        "(u'GO:0016787', {u'is_a': [{u'definition': u'\"Catalysis of a biochemical reaction at physiological temperatures. In biologically catalyzed reactions, the reactants are known as substrates, and the catalysts are naturally occurring macromolecular substances known as enzymes. Enzymes possess specific binding sites for substrates, and are usually composed wholly or largely of protein, but RNA that has catalytic activity (ribozyme) is often also regarded as enzymatic.\" [ISBN:0198506732]', u'name': u'catalytic activity', u'subsets': [u'goslim_pir', u'goslim_plant', u'gosubset_prok'], u'namespace': u'molecular_function', u'accession': u'GO:0003824', u'synonyms': [u'\"enzyme activity\" [GOC:dph, GOC:tb]'], u'ontology': u'GO'}], u'term': {u'definition': u'\"Catalysis of the hydrolysis of various bonds, e.g. C-O, C-N, C-C, phosphoric anhydride bonds, etc. Hydrolase is the systematic name for any enzyme of EC class 3.\" [ISBN:0198506732]', u'name': u'hydrolase activity', u'subsets': [u'goslim_aspergillus', u'goslim_candida', u'goslim_metagenomics', u'goslim_pir', u'goslim_plant', u'goslim_yeast', u'gosubset_prok'], u'namespace': u'molecular_function', u'accession': u'GO:0016787', u'synonyms': [], u'ontology': u'GO'}})\n",
        "()\n",
        "(u'GO:0000016', {u'is_a': [{u'definition': u'\"Catalysis of the hydrolysis of any O-glycosyl bond.\" [GOC:mah]', u'name': u'hydrolase activity, hydrolyzing O-glycosyl compounds', u'subsets': [u'gosubset_prok'], u'namespace': u'molecular_function', u'accession': u'GO:0004553', u'synonyms': [u'\"O-glucosyl hydrolase activity\" []'], u'ontology': u'GO'}], u'term': {u'definition': u'\"Catalysis of the reaction: lactose + H2O = D-glucose + D-galactose.\" [EC:3.2.1.108]', u'name': u'lactase activity', u'subsets': [], u'namespace': u'molecular_function', u'accession': u'GO:0000016', u'synonyms': [u'\"lactase-phlorizin hydrolase activity\" [EC:3.2.1.108]', u'\"lactose galactohydrolase activity\" [EC:3.2.1.108]'], u'ontology': u'GO'}})\n",
        "()\n",
        "(u'GO:0016798', {u'is_a': [{u'definition': u'\"Catalysis of the hydrolysis of various bonds, e.g. C-O, C-N, C-C, phosphoric anhydride bonds, etc. Hydrolase is the systematic name for any enzyme of EC class 3.\" [ISBN:0198506732]', u'name': u'hydrolase activity', u'subsets': [u'goslim_aspergillus', u'goslim_candida', u'goslim_metagenomics', u'goslim_pir', u'goslim_plant', u'goslim_yeast', u'gosubset_prok'], u'namespace': u'molecular_function', u'accession': u'GO:0016787', u'synonyms': [], u'ontology': u'GO'}], u'term': {u'definition': u'\"Catalysis of the hydrolysis of any glycosyl bond.\" [GOC:jl]', u'name': u'hydrolase activity, acting on glycosyl bonds', u'subsets': [u'goslim_generic', u'goslim_metagenomics', u'goslim_yeast', u'gosubset_prok'], u'namespace': u'molecular_function', u'accession': u'GO:0016798', u'synonyms': [u'\"glycosidase activity\" []', u'\"glycosylase\" []', u'\"N-glycosylase\" []'], u'ontology': u'GO'}})\n",
        "()\n",
        "(u'GO:0003824', {u'is_a': [{u'definition': u'\"Elemental activities, such as catalysis or binding, describing the actions of a gene product at the molecular level. A given gene product may exhibit one or more molecular functions.\" [GOC:go_curators]', u'name': u'molecular_function', u'subsets': [u'goslim_aspergillus', u'goslim_candida', u'goslim_generic', u'goslim_metagenomics', u'goslim_pir', u'goslim_plant', u'goslim_yeast', u'gosubset_prok'], u'namespace': u'molecular_function', u'accession': u'GO:0003674', u'synonyms': [u'\"molecular function\" []'], u'ontology': u'GO'}], u'term': {u'definition': u'\"Catalysis of a biochemical reaction at physiological temperatures. In biologically catalyzed reactions, the reactants are known as substrates, and the catalysts are naturally occurring macromolecular substances known as enzymes. Enzymes possess specific binding sites for substrates, and are usually composed wholly or largely of protein, but RNA that has catalytic activity (ribozyme) is often also regarded as enzymatic.\" [ISBN:0198506732]', u'name': u'catalytic activity', u'subsets': [u'goslim_pir', u'goslim_plant', u'gosubset_prok'], u'namespace': u'molecular_function', u'accession': u'GO:0003824', u'synonyms': [u'\"enzyme activity\" [GOC:dph, GOC:tb]'], u'ontology': u'GO'}})\n",
        "()\n",
        "(u'GO:0003674', {u'term': {u'definition': u'\"Elemental activities, such as catalysis or binding, describing the actions of a gene product at the molecular level. A given gene product may exhibit one or more molecular functions.\" [GOC:go_curators]', u'name': u'molecular_function', u'subsets': [u'goslim_aspergillus', u'goslim_candida', u'goslim_generic', u'goslim_metagenomics', u'goslim_pir', u'goslim_plant', u'goslim_yeast', u'gosubset_prok'], u'namespace': u'molecular_function', u'accession': u'GO:0003674', u'synonyms': [u'\"molecular function\" []'], u'ontology': u'GO'}})\n",
        "()\n",
        "(u'GO:0004553', {u'is_a': [{u'definition': u'\"Catalysis of the hydrolysis of any glycosyl bond.\" [GOC:jl]', u'name': u'hydrolase activity, acting on glycosyl bonds', u'subsets': [u'goslim_generic', u'goslim_metagenomics', u'goslim_yeast', u'gosubset_prok'], u'namespace': u'molecular_function', u'accession': u'GO:0016798', u'synonyms': [u'\"glycosidase activity\" []', u'\"glycosylase\" []', u'\"N-glycosylase\" []'], u'ontology': u'GO'}], u'term': {u'definition': u'\"Catalysis of the hydrolysis of any O-glycosyl bond.\" [GOC:mah]', u'name': u'hydrolase activity, hydrolyzing O-glycosyl compounds', u'subsets': [u'gosubset_prok'], u'namespace': u'molecular_function', u'accession': u'GO:0004553', u'synonyms': [u'\"O-glucosyl hydrolase activity\" []'], u'ontology': u'GO'}})\n"
       ]
      }
     ],
     "prompt_number": 18
    },
    {
     "cell_type": "code",
     "collapsed": false,
     "input": [
      "#GO:0005739"
     ],
     "language": "python",
     "metadata": {},
     "outputs": []
    }
   ],
   "metadata": {}
  }
 ]
}