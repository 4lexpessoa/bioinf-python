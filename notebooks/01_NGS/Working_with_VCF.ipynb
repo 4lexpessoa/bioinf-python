{
 "metadata": {
  "name": "",
  "signature": "sha256:56a53edc1e90068debc7c513944ae3b1fe800a003b6540d7ee9d0eb29c4fd604"
 },
 "nbformat": 3,
 "nbformat_minor": 0,
 "worksheets": [
  {
   "cells": [
    {
     "cell_type": "heading",
     "level": 1,
     "metadata": {},
     "source": [
      "Getting the necessary data"
     ]
    },
    {
     "cell_type": "markdown",
     "metadata": {},
     "source": [
      "You just need to do this only once"
     ]
    },
    {
     "cell_type": "code",
     "collapsed": false,
     "input": [
      "!rm -f genotypes.vcf.gz 2>/dev/null\n",
      "!tabix -fh ftp://ftp-trace.ncbi.nih.gov/1000genomes/ftp/release/20130502/supporting/vcf_with_sample_level_annotation/ALL.chr22.phase3_shapeit2_mvncall_integrated_v5_extra_anno.20130502.genotypes.vcf.gz 22:1-17000000 | bgzip -c > genotypes.vcf.gz |bgzip -c > genotypes.vcf.gz\n",
      "!tabix -p vcf genotypes.vcf.gz"
     ],
     "language": "python",
     "metadata": {},
     "outputs": [
      {
       "output_type": "stream",
       "stream": "stdout",
       "text": [
        "[get_local_version] downloading the index file...\r\n"
       ]
      }
     ],
     "prompt_number": 1
    },
    {
     "cell_type": "code",
     "collapsed": false,
     "input": [
      "from collections import defaultdict\n",
      "\n",
      "%matplotlib inline\n",
      "import seaborn as sns\n",
      "import matplotlib.pyplot as plt\n",
      "\n",
      "import vcf"
     ],
     "language": "python",
     "metadata": {},
     "outputs": [],
     "prompt_number": 2
    },
    {
     "cell_type": "code",
     "collapsed": false,
     "input": [
      "v = vcf.Reader(filename='genotypes.vcf.gz')\n",
      "\n",
      "print('Variant Level information')\n",
      "infos = v.infos\n",
      "for info in infos:\n",
      "    print(info)\n",
      "\n",
      "print('Sample Level information')\n",
      "fmts = v.formats\n",
      "for fmt in fmts:\n",
      "    print(fmt)"
     ],
     "language": "python",
     "metadata": {},
     "outputs": [
      {
       "output_type": "stream",
       "stream": "stdout",
       "text": [
        "Variant Level information\n",
        "CIEND\n",
        "CIPOS\n",
        "CS\n",
        "END\n",
        "IMPRECISE\n",
        "MC\n",
        "MEINFO\n",
        "MEND\n",
        "MLEN\n",
        "MSTART\n",
        "SVLEN\n",
        "SVTYPE\n",
        "TSD\n",
        "AC\n",
        "AF\n",
        "NS\n",
        "AN\n",
        "ASN_AF\n",
        "EUR_AF\n",
        "AFR_AF\n",
        "AMR_AF\n",
        "SAN_AF\n",
        "DP\n",
        "Sample Level information\n",
        "GT\n",
        "DP\n"
       ]
      }
     ],
     "prompt_number": 3
    },
    {
     "cell_type": "code",
     "collapsed": false,
     "input": [
      "v = vcf.Reader(filename='genotypes.vcf.gz')\n",
      "rec = next(v)\n",
      "print(rec.CHROM, rec.POS, rec.ID, rec.REF, rec.ALT, rec.QUAL, rec.FILTER)\n",
      "print(rec.INFO)\n",
      "print(rec.FORMAT)\n",
      "samples = rec.samples\n",
      "print(len(samples))\n",
      "sample = samples[0]\n",
      "print(sample.called, sample.gt_alleles, sample.is_het, sample.is_variant, sample.phased)\n",
      "print(int(sample['DP']))"
     ],
     "language": "python",
     "metadata": {},
     "outputs": [
      {
       "output_type": "stream",
       "stream": "stdout",
       "text": [
        "('22', 16050075, None, 'A', [G], 100, [])\n",
        "{'EUR_AF': [0.0], 'SAS_AF': ['0.0010'], 'AC': [1], 'AF': [0.000199681], 'ASN_AF': [0.0], 'AFR_AF': [0.0], 'AMR_AF': [0.0], 'AN': 5008, 'SAN_AF': [0.0], 'EAS_AF': [''], 'NS': 2504, 'DP': [8012]}\n",
        "GT:DP\n",
        "2504\n",
        "(True, ['0', '0'], False, False, True)\n",
        "1\n"
       ]
      }
     ],
     "prompt_number": 4
    },
    {
     "cell_type": "code",
     "collapsed": false,
     "input": [
      "f = vcf.Reader(filename='genotypes.vcf.gz')\n",
      "\n",
      "my_type = defaultdict(int)\n",
      "num_alts = defaultdict(int)\n",
      "\n",
      "for rec in f:\n",
      "    my_type[rec.var_type, rec.var_subtype] += 1\n",
      "    if rec.is_snp:\n",
      "        num_alts[len(rec.ALT)] += 1\n",
      "print(my_type)\n",
      "print(num_alts)"
     ],
     "language": "python",
     "metadata": {},
     "outputs": [
      {
       "output_type": "stream",
       "stream": "stdout",
       "text": [
        "defaultdict(<type 'int'>, {('indel', 'del'): 273, ('indel', 'ins'): 127, ('snp', 'ts'): 10054, ('sv', 'SVA'): 1, ('indel', 'unknown'): 13, ('snp', 'unknown'): 79, ('snp', 'tv'): 5917, ('sv', 'DEL'): 6, ('sv', 'CNV'): 2})\n",
        "defaultdict(<type 'int'>, {1: 15971, 2: 79})\n"
       ]
      }
     ],
     "prompt_number": 5
    },
    {
     "cell_type": "code",
     "collapsed": false,
     "input": [
      "f = vcf.Reader(filename='genotypes.vcf.gz')\n",
      "\n",
      "sample_dp = defaultdict(int)\n",
      "for rec in f:\n",
      "    if not rec.is_snp or len(rec.ALT) != 1:\n",
      "        continue\n",
      "    for sample in rec.samples:\n",
      "        dp = sample['DP']\n",
      "        if dp is None:\n",
      "            dp = 0\n",
      "        dp = int(dp)\n",
      "        sample_dp[dp] += 1"
     ],
     "language": "python",
     "metadata": {},
     "outputs": [],
     "prompt_number": 6
    },
    {
     "cell_type": "code",
     "collapsed": false,
     "input": [
      "dps = sample_dp.keys()\n",
      "dps.sort()\n",
      "dp_dist = [sample_dp[x] for x in dps]\n",
      "fig, ax = plt.subplots(figsize=(16, 9))\n",
      "ax.plot(dp_dist[:50], 'r')\n",
      "ax.axvline(dp_dist.index(max(dp_dist)))"
     ],
     "language": "python",
     "metadata": {},
     "outputs": [
      {
       "ename": "NameError",
       "evalue": "name 'hz_dp' is not defined",
       "output_type": "pyerr",
       "traceback": [
        "\u001b[1;31m---------------------------------------------------------------------------\u001b[0m\n\u001b[1;31mNameError\u001b[0m                                 Traceback (most recent call last)",
        "\u001b[1;32m<ipython-input-7-3a7990e3912b>\u001b[0m in \u001b[0;36m<module>\u001b[1;34m()\u001b[0m\n\u001b[1;32m----> 1\u001b[1;33m \u001b[1;32mprint\u001b[0m\u001b[1;33m(\u001b[0m\u001b[0mhz_dp\u001b[0m\u001b[1;33m)\u001b[0m\u001b[1;33m\u001b[0m\u001b[0m\n\u001b[0m\u001b[0;32m      2\u001b[0m \u001b[0mdps\u001b[0m \u001b[1;33m=\u001b[0m \u001b[0msample_dp\u001b[0m\u001b[1;33m.\u001b[0m\u001b[0mkeys\u001b[0m\u001b[1;33m(\u001b[0m\u001b[1;33m)\u001b[0m\u001b[1;33m\u001b[0m\u001b[0m\n\u001b[0;32m      3\u001b[0m \u001b[0mdps\u001b[0m\u001b[1;33m.\u001b[0m\u001b[0msort\u001b[0m\u001b[1;33m(\u001b[0m\u001b[1;33m)\u001b[0m\u001b[1;33m\u001b[0m\u001b[0m\n\u001b[0;32m      4\u001b[0m \u001b[0mdp_dist\u001b[0m \u001b[1;33m=\u001b[0m \u001b[1;33m[\u001b[0m\u001b[0msample_dp\u001b[0m\u001b[1;33m[\u001b[0m\u001b[0mx\u001b[0m\u001b[1;33m]\u001b[0m \u001b[1;32mfor\u001b[0m \u001b[0mx\u001b[0m \u001b[1;32min\u001b[0m \u001b[0mdps\u001b[0m\u001b[1;33m]\u001b[0m\u001b[1;33m\u001b[0m\u001b[0m\n\u001b[0;32m      5\u001b[0m \u001b[0mfig\u001b[0m\u001b[1;33m,\u001b[0m \u001b[0max\u001b[0m \u001b[1;33m=\u001b[0m \u001b[0mplt\u001b[0m\u001b[1;33m.\u001b[0m\u001b[0msubplots\u001b[0m\u001b[1;33m(\u001b[0m\u001b[0mfigsize\u001b[0m\u001b[1;33m=\u001b[0m\u001b[1;33m(\u001b[0m\u001b[1;36m16\u001b[0m\u001b[1;33m,\u001b[0m \u001b[1;36m9\u001b[0m\u001b[1;33m)\u001b[0m\u001b[1;33m)\u001b[0m\u001b[1;33m\u001b[0m\u001b[0m\n",
        "\u001b[1;31mNameError\u001b[0m: name 'hz_dp' is not defined"
       ]
      }
     ],
     "prompt_number": 7
    },
    {
     "cell_type": "code",
     "collapsed": false,
     "input": [],
     "language": "python",
     "metadata": {},
     "outputs": []
    }
   ],
   "metadata": {}
  }
 ]
}