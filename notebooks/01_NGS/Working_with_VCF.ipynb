{
 "metadata": {
  "name": "",
  "signature": "sha256:5bc514f4f97cb451034755853e2f57ae729d5f17b05c17b6b990b878f6029769"
 },
 "nbformat": 3,
 "nbformat_minor": 0,
 "worksheets": [
  {
   "cells": [
    {
     "cell_type": "heading",
     "level": 1,
     "metadata": {},
     "source": [
      "Getting the necessary data"
     ]
    },
    {
     "cell_type": "markdown",
     "metadata": {},
     "source": [
      "You just need to do this only once"
     ]
    },
    {
     "cell_type": "code",
     "collapsed": false,
     "input": [
      "!rm -f genotypes.vcf.gz 2>/dev/null\n",
      "!tabix -fh ftp://ftp-trace.ncbi.nih.gov/1000genomes/ftp/release/20130502/supporting/vcf_with_sample_level_annotation/ALL.chr22.phase3_shapeit2_mvncall_integrated_v5_extra_anno.20130502.genotypes.vcf.gz 22:1-18000000 | bgzip -c > genotypes.vcf.gz |bgzip -c > genotypes.vcf.gz\n",
      "!tabix -p vcf genotypes.vcf.gz"
     ],
     "language": "python",
     "metadata": {},
     "outputs": [
      {
       "output_type": "stream",
       "stream": "stdout",
       "text": [
        "[get_local_version] downloading the index file...\r\n"
       ]
      }
     ],
     "prompt_number": 3
    },
    {
     "cell_type": "code",
     "collapsed": false,
     "input": [],
     "language": "python",
     "metadata": {},
     "outputs": []
    }
   ],
   "metadata": {}
  }
 ]
}