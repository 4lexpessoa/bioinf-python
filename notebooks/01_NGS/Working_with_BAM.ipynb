{
 "metadata": {
  "name": "",
  "signature": "sha256:8919b05cda82e49aebf2d07c87065128d13eaef113e9c8cc0ba041f0f14645a9"
 },
 "nbformat": 3,
 "nbformat_minor": 0,
 "worksheets": []
}