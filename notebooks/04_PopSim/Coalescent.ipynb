{
 "metadata": {
  "name": "",
  "signature": "sha256:1688bc2e3c1931ae5c09a8c2ce9501ffe4cdedc3fb348d526028d71e8438be49"
 },
 "nbformat": 3,
 "nbformat_minor": 0,
 "worksheets": [
  {
   "cells": [
    {
     "cell_type": "code",
     "collapsed": false,
     "input": [
      "import os\n",
      "from Bio.PopGen import SimCoal as simcoal\n",
      "from Bio.PopGen.SimCoal.Template import generate_simcoal_from_template\n",
      "\n"
     ],
     "language": "python",
     "metadata": {},
     "outputs": [
      {
       "metadata": {},
       "output_type": "pyout",
       "prompt_number": 3,
       "text": [
        "['split_island.par',\n",
        " 'simple.par',\n",
        " 'decline_split.par',\n",
        " 'island.par',\n",
        " 'decline_lambda.par',\n",
        " 'split_ssm_2d.par',\n",
        " 'ssm_2d.par',\n",
        " 'split_ssm_1d.par',\n",
        " 'bottle.par',\n",
        " 'ssm_1d.par']"
       ]
      }
     ],
     "prompt_number": 3
    },
    {
     "cell_type": "code",
     "collapsed": false,
     "input": [
      "os.listdir(simcoal.builtin_tpl_dir)"
     ],
     "language": "python",
     "metadata": {},
     "outputs": [
      {
       "metadata": {},
       "output_type": "pyout",
       "prompt_number": 4,
       "text": [
        "['split_island.par',\n",
        " 'simple.par',\n",
        " 'decline_split.par',\n",
        " 'island.par',\n",
        " 'decline_lambda.par',\n",
        " 'split_ssm_2d.par',\n",
        " 'ssm_2d.par',\n",
        " 'split_ssm_1d.par',\n",
        " 'bottle.par',\n",
        " 'ssm_1d.par']"
       ]
      }
     ],
     "prompt_number": 4
    },
    {
     "cell_type": "code",
     "collapsed": false,
     "input": [
      "f = open(simcoal.builtin_tpl_dir + os.sep + 'simple.par')\n",
      "print(f.readlines())"
     ],
     "language": "python",
     "metadata": {},
     "outputs": [
      {
       "output_type": "stream",
       "stream": "stdout",
       "text": [
        "['//Parameters for the coalescence simulation program : simcoal.exe\\r\\n', '1 samples\\r\\n', '//Population effective sizes (number of genes 2*diploids)\\r\\n', '?pop_size\\r\\n', '//Samples sizes (number of genes 2*diploids)\\r\\n', '?sample_size\\r\\n', '//Growth rates\\t: negative growth implies population expansion\\r\\n', '0\\r\\n', '//Number of migration matrices : 0 implies no migration between demes\\r\\n', '0\\r\\n', '//historical event: time, source, sink, migrants, new deme size, new growth rate, migration matrix index\\r\\n', '0 historical events\\r\\n']\n"
       ]
      }
     ],
     "prompt_number": 6
    },
    {
     "cell_type": "code",
     "collapsed": false,
     "input": [
      "split_ssm_1d = [('sample_size', [30]),\n",
      "                ('pop_size', [100]),\n",
      "                ('mig', [0.01]),\n",
      "                ('ne', [500]),\n",
      "                ('t', [100]),\n",
      "                ('total_demes', [10])]"
     ],
     "language": "python",
     "metadata": {},
     "outputs": [],
     "prompt_number": 9
    },
    {
     "cell_type": "code",
     "collapsed": false,
     "input": [
      "generate_simcoal_from_template('split_ssm_1d',\n",
      "    [(1, [('SNP', [24, 0.0005, 0.0])])],\n",
      "    [('sample_size', [30]),\n",
      "    ('pop_size', [100]),\n",
      "    ('mig', [0.01]),\n",
      "    ('ne', [500]),\n",
      "    ('t', [100]),\n",
      "    ('total_demes', [10])])"
     ],
     "language": "python",
     "metadata": {},
     "outputs": []
    }
   ],
   "metadata": {}
  }
 ]
}