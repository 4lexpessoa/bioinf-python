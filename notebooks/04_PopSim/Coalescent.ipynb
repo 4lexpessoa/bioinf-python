{
 "metadata": {
  "name": "",
  "signature": "sha256:a5bdf758f2c664aca4557a00a517295079c7ba3ce249ed0222dbb5747b49bdcd"
 },
 "nbformat": 3,
 "nbformat_minor": 0,
 "worksheets": [
  {
   "cells": [
    {
     "cell_type": "code",
     "collapsed": false,
     "input": [
      "import os\n",
      "from Bio.PopGen import SimCoal as simcoal\n",
      "from Bio.PopGen.SimCoal.Template import generate_simcoal_from_template\n",
      "from Bio.PopGen.SimCoal.Controller import FastSimCoalController as fsc"
     ],
     "language": "python",
     "metadata": {},
     "outputs": [],
     "prompt_number": 6
    },
    {
     "cell_type": "code",
     "collapsed": false,
     "input": [
      "print(simcoal.builtin_tpl_dir)\n",
      "print(os.listdir(simcoal.builtin_tpl_dir))"
     ],
     "language": "python",
     "metadata": {},
     "outputs": [
      {
       "output_type": "stream",
       "stream": "stdout",
       "text": [
        "/home/tra/Dropbox/soft/biopython/Bio/PopGen/SimCoal/data\n",
        "['simple.par', 'split_island.par', 'decline_split.par', 'bottle.par', 'ssm_1d.par', 'decline_lambda.par', 'ssm_2d.par', 'island.par', 'split_ssm_2d.par', 'split_ssm_1d.par']\n"
       ]
      }
     ],
     "prompt_number": 19
    },
    {
     "cell_type": "code",
     "collapsed": false,
     "input": [
      "f = open(simcoal.builtin_tpl_dir + os.sep + 'simple.par')\n",
      "print(f.readlines())"
     ],
     "language": "python",
     "metadata": {},
     "outputs": [
      {
       "output_type": "stream",
       "stream": "stdout",
       "text": [
        "['//Parameters for the coalescence simulation program : simcoal.exe\\r\\n', '1 samples\\r\\n', '//Population effective sizes (number of genes 2*diploids)\\r\\n', '?pop_size\\r\\n', '//Samples sizes (number of genes 2*diploids)\\r\\n', '?sample_size\\r\\n', '//Growth rates\\t: negative growth implies population expansion\\r\\n', '0\\r\\n', '//Number of migration matrices : 0 implies no migration between demes\\r\\n', '0\\r\\n', '//historical event: time, source, sink, migrants, new deme size, new growth rate, migration matrix index\\r\\n', '0 historical events\\r\\n']\n"
       ]
      }
     ],
     "prompt_number": 8
    },
    {
     "cell_type": "heading",
     "level": 2,
     "metadata": {},
     "source": [
      "Genome"
     ]
    },
    {
     "cell_type": "code",
     "collapsed": false,
     "input": [
      "n_indep_MSATs = [(200, [('MICROSAT', [1, 0, 0.005, 0, 0])])]  # refer fastsimcoal documentation\n",
      "linked_snps = [(1, [('SNP', [200, 0.0005, 0.01])])]\n",
      "linked_DNA = [(1, [('DNA', [1000, 0.0005,  0.0000002, 0.33])])]\n",
      "complex_genome = [(2, [\n",
      "    ('DNA', [10, 0.00001, 0.00005, 0.33]),\n",
      "    ('SNP', [1, 0.001, 0.0001]),\n",
      "    ('MICROSAT', [1, 0.0, 0.001, 0.0, 0.0])])]"
     ],
     "language": "python",
     "metadata": {},
     "outputs": [],
     "prompt_number": 13
    },
    {
     "cell_type": "heading",
     "level": 2,
     "metadata": {},
     "source": [
      "Demography"
     ]
    },
    {
     "cell_type": "code",
     "collapsed": false,
     "input": [
      "simple = [('sample_size', [30]),\n",
      "          ('pop_size', [100, 200])]\n",
      "island = [('sample_size', [30]),\n",
      "          ('pop_size', [100]),\n",
      "          ('mig', [0.01]),\n",
      "          ('total_demes', [10])]\n",
      "split_ssm_1d = [('sample_size', [30]),\n",
      "                ('pop_size', [100]),\n",
      "                ('mig', [0.01]),\n",
      "                ('ne', [500]),\n",
      "                ('t', [100]),\n",
      "                ('total_demes', [10])]\n"
     ],
     "language": "python",
     "metadata": {},
     "outputs": [],
     "prompt_number": 14
    },
    {
     "cell_type": "code",
     "collapsed": false,
     "input": [
      "generate_simcoal_from_template('island', complex_genome, island)\n",
      "generate_simcoal_from_template('simple', n_indep_MSATs, simple)\n",
      "generate_simcoal_from_template('split_ssm_1d', linked_snps, split_ssm_1d)\n",
      "#careful with overidding parameter files"
     ],
     "language": "python",
     "metadata": {},
     "outputs": [],
     "prompt_number": 15
    },
    {
     "cell_type": "heading",
     "level": 2,
     "metadata": {},
     "source": [
      "Running fastsimcoal"
     ]
    },
    {
     "cell_type": "code",
     "collapsed": false,
     "input": [
      "ctrl = fsc(bin_name='fsc251')"
     ],
     "language": "python",
     "metadata": {},
     "outputs": [],
     "prompt_number": 16
    },
    {
     "cell_type": "code",
     "collapsed": false,
     "input": [
      "ctrl.run_fastsimcoal('simple_100_30.par', 10)\n",
      "ctrl.run_fastsimcoal('simple_200_30.par', 10)\n",
      "ctrl.run_fastsimcoal('island_10_0.01_100_30.par', 10)\n",
      "ctrl.run_fastsimcoal('split_ssm_1d_10_100_500_0.01_100_30.par', 10)"
     ],
     "language": "python",
     "metadata": {},
     "outputs": [],
     "prompt_number": 18
    },
    {
     "cell_type": "code",
     "collapsed": false,
     "input": [],
     "language": "python",
     "metadata": {},
     "outputs": []
    }
   ],
   "metadata": {}
  }
 ]
}