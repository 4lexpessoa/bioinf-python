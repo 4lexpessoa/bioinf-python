{
 "metadata": {
  "name": "",
  "signature": "sha256:5e6c1c36e48ec86f654d604328addf83f7afe0d809e8fa17fedf00e55992e552"
 },
 "nbformat": 3,
 "nbformat_minor": 0,
 "worksheets": [
  {
   "cells": [
    {
     "cell_type": "code",
     "collapsed": false,
     "input": [
      "from collections import OrderedDict\n",
      "from copy import deepcopy\n",
      "import random\n",
      "\n",
      "import numpy as np\n",
      "import seaborn as sns\n",
      "import matplotlib.pyplot as plt\n",
      "\n",
      "import simuPOP as sp\n",
      "%matplotlib inline"
     ],
     "language": "python",
     "metadata": {},
     "outputs": []
    },
    {
     "cell_type": "code",
     "collapsed": false,
     "input": [
      "def cull(pop):\n",
      "    kills = []\n",
      "    for i in pop.individuals():\n",
      "        if i.age > 0 and i.age < cfg.ages - 1:\n",
      "            if i.sex() == 1:\n",
      "                cut = pop.dvars().survival_male[int(i.age) - 1]\n",
      "            else:\n",
      "                cut = pop.dvars().survival_female[int(i.age) - 1]\n",
      "            if random.random() > cut:\n",
      "                kills.append(i.ind_id)\n",
      "    pop.removeIndividuals(IDs=kills)\n",
      "    return True"
     ],
     "language": "python",
     "metadata": {},
     "outputs": []
    },
    {
     "cell_type": "code",
     "collapsed": false,
     "input": [
      "def choose_parents(pop, sub_pop):\n",
      "    for ind in pop.individuals(sub_pop):\n",
      "        if ind.sex() == 1:\n",
      "            fathers.extend([ind.ind_id] * pop.dvars().male_age_fecundity[ind.age])\n",
      "        else:\n",
      "            ind.num_kids = 0\n",
      "            mothers.append(ind)\n",
      "    while True:\n",
      "        father = random.choice(fathers)\n",
      "        mother_ok = False\n",
      "        while not mother_ok:\n",
      "            mother = random.choice(mothers)\n",
      "            if mother.num_kids < pop.dvars().max_kids[mother.age]:\n",
      "                mother.num_kids += 1\n",
      "                mother_ok = True\n",
      "        yield father, mother"
     ],
     "language": "python",
     "metadata": {},
     "outputs": []
    },
    {
     "cell_type": "code",
     "collapsed": false,
     "input": [
      "pop = sp.Population(300, loci=1, infoFields=['age', 'ind_id', 'num_kids'])\n",
      "pop.setVirtualSplitter(sp.InfoSplitter(field='age', cutoff=[1]))"
     ],
     "language": "python",
     "metadata": {},
     "outputs": []
    }
   ],
   "metadata": {}
  }
 ]
}