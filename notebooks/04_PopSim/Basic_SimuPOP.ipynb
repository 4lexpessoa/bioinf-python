{
 "metadata": {
  "name": "",
  "signature": "sha256:f7e570689ab6e2a93ab6215caef0d8127df61985db3e1e03cd142e75c82f3414"
 },
 "nbformat": 3,
 "nbformat_minor": 0,
 "worksheets": [
  {
   "cells": [
    {
     "cell_type": "code",
     "collapsed": false,
     "input": [
      "from collections import OrderedDict\n",
      "\n",
      "import matplotlib.pyplot as plt\n",
      "\n",
      "import simuPOP as sp\n",
      "%matplotlib inline"
     ],
     "language": "python",
     "metadata": {},
     "outputs": [
      {
       "output_type": "stream",
       "stream": "stdout",
       "text": [
        "simuPOP Version 1.1.4 : Copyright (c) 2004-2011 Bo Peng\n",
        "Revision 4950 (Nov 11 2014) for Python 2.7.8 (64bit, 1thread)\n",
        "Random Number Generator is set to mt19937 with random seed 0x75c62959fdb624a8.\n",
        "This is the standard short allele version with 256 maximum allelic states.\n",
        "For more information, please visit http://simupop.sourceforge.net,\n",
        "or email simupop-list@lists.sourceforge.net (subscription required).\n"
       ]
      }
     ],
     "prompt_number": 1
    },
    {
     "cell_type": "code",
     "collapsed": false,
     "input": [
      "num_loci = 100\n",
      "pop_size = 200\n",
      "num_gens = 10"
     ],
     "language": "python",
     "metadata": {},
     "outputs": [],
     "prompt_number": 41
    },
    {
     "cell_type": "code",
     "collapsed": false,
     "input": [
      "init_ops = OrderedDict()\n",
      "pre_ops = OrderedDict()\n",
      "post_ops = OrderedDict()"
     ],
     "language": "python",
     "metadata": {},
     "outputs": [],
     "prompt_number": 42
    },
    {
     "cell_type": "code",
     "collapsed": false,
     "input": [
      "pops = sp.Population(pop_size, loci=[1 * num_loci])"
     ],
     "language": "python",
     "metadata": {},
     "outputs": [],
     "prompt_number": 43
    },
    {
     "cell_type": "code",
     "collapsed": false,
     "input": [
      "init_ops['Sex'] = sp.InitSex()\n",
      "init_ops['Freq'] = sp.InitGenotype(freq=[0.5, 0.5])\n",
      "init_ops['ble'] = sp.PyExec('ble = []')\n",
      "#post_ops['ble'] = sp.PyEval(r'\" %s\\n\" % str(ble)')\n",
      "pre_ops['ble'] = sp.PyExec('ble.append(gen)')\n",
      "post_ops['bli'] = sp.PyOperator(blo)\n",
      "post_ops['Stat1'] = sp.Stat(alleleFreq=sp.ALL_AVAIL)"
     ],
     "language": "python",
     "metadata": {},
     "outputs": [],
     "prompt_number": 44
    },
    {
     "cell_type": "code",
     "collapsed": false,
     "input": [
      "mating_scheme = sp.RandomMating()"
     ],
     "language": "python",
     "metadata": {},
     "outputs": [],
     "prompt_number": 45
    },
    {
     "cell_type": "code",
     "collapsed": false,
     "input": [
      "sim = sp.Simulator(pops, rep=1)\n",
      "sim.evolve(initOps=init_ops.values(), preOps=pre_ops.values(), postOps=post_ops.values(),\n",
      "           matingScheme=mating_scheme, gen=num_gens)"
     ],
     "language": "python",
     "metadata": {},
     "outputs": [
      {
       "output_type": "stream",
       "stream": "stdout",
       "text": [
        "[0] 0\n",
        "[0, 1] 1\n",
        "[0, 1, 2] 2\n",
        "[0, 1, 2, 3] 3\n",
        "[0, 1, 2, 3, 4] 4\n",
        "[0, 1, 2, 3, 4, 5] 5\n",
        "[0, 1, 2, 3, 4, 5, 6] 6\n",
        "[0, 1, 2, 3, 4, 5, 6, 7] 7\n",
        "[0, 1, 2, 3, 4, 5, 6, 7, 8] 8\n",
        "[0, 1, 2, 3, 4, 5, 6, 7, 8, 9] 9\n"
       ]
      },
      {
       "metadata": {},
       "output_type": "pyout",
       "prompt_number": 46,
       "text": [
        "(10L,)"
       ]
      }
     ],
     "prompt_number": 46
    },
    {
     "cell_type": "code",
     "collapsed": false,
     "input": [],
     "language": "python",
     "metadata": {},
     "outputs": [],
     "prompt_number": 34
    },
    {
     "cell_type": "code",
     "collapsed": false,
     "input": [],
     "language": "python",
     "metadata": {},
     "outputs": []
    }
   ],
   "metadata": {}
  }
 ]
}