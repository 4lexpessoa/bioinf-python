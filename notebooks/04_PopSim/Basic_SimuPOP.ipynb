{
 "metadata": {
  "name": "",
  "signature": "sha256:05870def0b972227c340a98525c4a939c81dc7089c38c4145fde533f72bb8b69"
 },
 "nbformat": 3,
 "nbformat_minor": 0,
 "worksheets": [
  {
   "cells": [
    {
     "cell_type": "code",
     "collapsed": false,
     "input": [
      "from collections import OrderedDict\n",
      "\n",
      "import matplotlib.pyplot as plt\n",
      "\n",
      "import simuPOP as sp\n",
      "%matplotlib inline"
     ],
     "language": "python",
     "metadata": {},
     "outputs": [],
     "prompt_number": 4
    },
    {
     "cell_type": "code",
     "collapsed": false,
     "input": [
      "num_loci = 100\n",
      "pop_size = 200\n",
      "num_gens = 100"
     ],
     "language": "python",
     "metadata": {},
     "outputs": [],
     "prompt_number": 10
    },
    {
     "cell_type": "code",
     "collapsed": false,
     "input": [
      "init_ops = OrderedDict()\n",
      "pre_ops = OrderedDict()\n",
      "post_ops = OrderedDict()"
     ],
     "language": "python",
     "metadata": {},
     "outputs": [],
     "prompt_number": 55
    },
    {
     "cell_type": "code",
     "collapsed": false,
     "input": [
      "pops = sp.Population(pop_size, loci=[1 * num_loci])"
     ],
     "language": "python",
     "metadata": {},
     "outputs": [],
     "prompt_number": 56
    },
    {
     "cell_type": "code",
     "collapsed": false,
     "input": [
      "init_ops['Sex'] = sp.InitSex()\n",
      "init_ops['ble'] = sp.PyExec('ble = []')\n",
      "#post_ops['ble'] = sp.PyEval(r'\" %s\\n\" % str(ble)')\n",
      "pre_ops['ble'] = sp.PyExec('ble.append(gen)')"
     ],
     "language": "python",
     "metadata": {},
     "outputs": [],
     "prompt_number": 57
    },
    {
     "cell_type": "code",
     "collapsed": false,
     "input": [
      "mating_scheme = sp.RandomMating()"
     ],
     "language": "python",
     "metadata": {},
     "outputs": [],
     "prompt_number": 58
    },
    {
     "cell_type": "code",
     "collapsed": false,
     "input": [
      "sim = sp.Simulator(pops, rep=1)\n",
      "sim.evolve(initOps=init_ops.values(), preOps=pre_ops.values(), postOps=post_ops.values(),\n",
      "           matingScheme=mating_scheme, gen=num_gens)"
     ],
     "language": "python",
     "metadata": {},
     "outputs": [
      {
       "metadata": {},
       "output_type": "pyout",
       "prompt_number": 59,
       "text": [
        "(100L,)"
       ]
      }
     ],
     "prompt_number": 59
    },
    {
     "cell_type": "code",
     "collapsed": false,
     "input": [],
     "language": "python",
     "metadata": {},
     "outputs": []
    }
   ],
   "metadata": {}
  }
 ]
}